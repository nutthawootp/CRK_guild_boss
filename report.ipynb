{
 "cells": [
  {
   "cell_type": "markdown",
   "metadata": {},
   "source": [
    "## import library\n"
   ]
  },
  {
   "cell_type": "code",
   "execution_count": 14,
   "metadata": {},
   "outputs": [],
   "source": [
    "import os\n",
    "from typing import Any\n",
    "\n",
    "import numpy as np\n",
    "import pandas as pd\n",
    "import plotly.express as px\n",
    "import plotly.graph_objects as go\n",
    "from Preprocessing import style_df\n",
    "\n",
    "# Set plotting backend options for pandas\n",
    "pd.options.plotting.backend = \"plotly\"\n",
    "from pandas.io.formats.style import Styler\n",
    "from ydata_profiling import ProfileReport"
   ]
  },
  {
   "cell_type": "markdown",
   "metadata": {},
   "source": [
    "# Load data\n"
   ]
  },
  {
   "cell_type": "code",
   "execution_count": 15,
   "metadata": {},
   "outputs": [
    {
     "data": {
      "text/html": [
       "<div>\n",
       "<style scoped>\n",
       "    .dataframe tbody tr th:only-of-type {\n",
       "        vertical-align: middle;\n",
       "    }\n",
       "\n",
       "    .dataframe tbody tr th {\n",
       "        vertical-align: top;\n",
       "    }\n",
       "\n",
       "    .dataframe thead th {\n",
       "        text-align: right;\n",
       "    }\n",
       "</style>\n",
       "<table border=\"1\" class=\"dataframe\">\n",
       "  <thead>\n",
       "    <tr style=\"text-align: right;\">\n",
       "      <th></th>\n",
       "      <th>Date</th>\n",
       "      <th>Season</th>\n",
       "      <th>Round</th>\n",
       "      <th>GuildName</th>\n",
       "      <th>GuildNameExtra</th>\n",
       "      <th>Trophies</th>\n",
       "      <th>SeasonTotal</th>\n",
       "      <th>RoundRank</th>\n",
       "      <th>DiffRoundRank</th>\n",
       "      <th>SeasonRank</th>\n",
       "      <th>DiffSeasonRank</th>\n",
       "      <th>Improvement</th>\n",
       "      <th>GrowthRate</th>\n",
       "    </tr>\n",
       "  </thead>\n",
       "  <tbody>\n",
       "    <tr>\n",
       "      <th>0</th>\n",
       "      <td>2024-02-27</td>\n",
       "      <td>1</td>\n",
       "      <td>1-1</td>\n",
       "      <td>Spearmint</td>\n",
       "      <td>Spearmint</td>\n",
       "      <td>10513190</td>\n",
       "      <td>10513190</td>\n",
       "      <td>1</td>\n",
       "      <td>0</td>\n",
       "      <td>1</td>\n",
       "      <td>0</td>\n",
       "      <td>0</td>\n",
       "      <td>0.000000</td>\n",
       "    </tr>\n",
       "    <tr>\n",
       "      <th>1</th>\n",
       "      <td>2024-02-27</td>\n",
       "      <td>1</td>\n",
       "      <td>1-1</td>\n",
       "      <td>Vivid</td>\n",
       "      <td>Vivid</td>\n",
       "      <td>10510940</td>\n",
       "      <td>10510940</td>\n",
       "      <td>2</td>\n",
       "      <td>0</td>\n",
       "      <td>2</td>\n",
       "      <td>0</td>\n",
       "      <td>0</td>\n",
       "      <td>0.000000</td>\n",
       "    </tr>\n",
       "    <tr>\n",
       "      <th>2</th>\n",
       "      <td>2024-02-27</td>\n",
       "      <td>1</td>\n",
       "      <td>1-1</td>\n",
       "      <td>Nobless</td>\n",
       "      <td>Nobless</td>\n",
       "      <td>10251975</td>\n",
       "      <td>10251975</td>\n",
       "      <td>3</td>\n",
       "      <td>0</td>\n",
       "      <td>3</td>\n",
       "      <td>0</td>\n",
       "      <td>0</td>\n",
       "      <td>0.000000</td>\n",
       "    </tr>\n",
       "    <tr>\n",
       "      <th>3</th>\n",
       "      <td>2024-02-27</td>\n",
       "      <td>1</td>\n",
       "      <td>1-1</td>\n",
       "      <td>LAODA</td>\n",
       "      <td>LAODA</td>\n",
       "      <td>10011795</td>\n",
       "      <td>10011795</td>\n",
       "      <td>4</td>\n",
       "      <td>0</td>\n",
       "      <td>4</td>\n",
       "      <td>0</td>\n",
       "      <td>0</td>\n",
       "      <td>0.000000</td>\n",
       "    </tr>\n",
       "    <tr>\n",
       "      <th>4</th>\n",
       "      <td>2024-02-27</td>\n",
       "      <td>1</td>\n",
       "      <td>1-1</td>\n",
       "      <td>미라클</td>\n",
       "      <td>미라클 (miracle)</td>\n",
       "      <td>9930645</td>\n",
       "      <td>9930645</td>\n",
       "      <td>5</td>\n",
       "      <td>0</td>\n",
       "      <td>5</td>\n",
       "      <td>0</td>\n",
       "      <td>0</td>\n",
       "      <td>0.000000</td>\n",
       "    </tr>\n",
       "    <tr>\n",
       "      <th>...</th>\n",
       "      <td>...</td>\n",
       "      <td>...</td>\n",
       "      <td>...</td>\n",
       "      <td>...</td>\n",
       "      <td>...</td>\n",
       "      <td>...</td>\n",
       "      <td>...</td>\n",
       "      <td>...</td>\n",
       "      <td>...</td>\n",
       "      <td>...</td>\n",
       "      <td>...</td>\n",
       "      <td>...</td>\n",
       "      <td>...</td>\n",
       "    </tr>\n",
       "    <tr>\n",
       "      <th>281</th>\n",
       "      <td>2024-05-28</td>\n",
       "      <td>4</td>\n",
       "      <td>4-3</td>\n",
       "      <td>MyTH</td>\n",
       "      <td>MyTH</td>\n",
       "      <td>10346185</td>\n",
       "      <td>30139130</td>\n",
       "      <td>17</td>\n",
       "      <td>-1</td>\n",
       "      <td>16</td>\n",
       "      <td>0</td>\n",
       "      <td>401815</td>\n",
       "      <td>4.040628</td>\n",
       "    </tr>\n",
       "    <tr>\n",
       "      <th>282</th>\n",
       "      <td>2024-05-28</td>\n",
       "      <td>4</td>\n",
       "      <td>4-3</td>\n",
       "      <td>Nobility</td>\n",
       "      <td>Nobility</td>\n",
       "      <td>10445040</td>\n",
       "      <td>30041855</td>\n",
       "      <td>16</td>\n",
       "      <td>2</td>\n",
       "      <td>17</td>\n",
       "      <td>1</td>\n",
       "      <td>570010</td>\n",
       "      <td>5.772236</td>\n",
       "    </tr>\n",
       "    <tr>\n",
       "      <th>283</th>\n",
       "      <td>2024-05-28</td>\n",
       "      <td>4</td>\n",
       "      <td>4-3</td>\n",
       "      <td>S7AR</td>\n",
       "      <td>S7AR</td>\n",
       "      <td>10270005</td>\n",
       "      <td>29984580</td>\n",
       "      <td>19</td>\n",
       "      <td>-2</td>\n",
       "      <td>18</td>\n",
       "      <td>-1</td>\n",
       "      <td>327380</td>\n",
       "      <td>3.292692</td>\n",
       "    </tr>\n",
       "    <tr>\n",
       "      <th>284</th>\n",
       "      <td>2024-05-28</td>\n",
       "      <td>4</td>\n",
       "      <td>4-3</td>\n",
       "      <td>감동</td>\n",
       "      <td>감동 (gam-dong)</td>\n",
       "      <td>9872795</td>\n",
       "      <td>29384460</td>\n",
       "      <td>20</td>\n",
       "      <td>-1</td>\n",
       "      <td>19</td>\n",
       "      <td>0</td>\n",
       "      <td>79735</td>\n",
       "      <td>0.814199</td>\n",
       "    </tr>\n",
       "    <tr>\n",
       "      <th>285</th>\n",
       "      <td>2024-05-28</td>\n",
       "      <td>4</td>\n",
       "      <td>4-3</td>\n",
       "      <td>DEKWAT</td>\n",
       "      <td>DEKWAT</td>\n",
       "      <td>10286850</td>\n",
       "      <td>29698740</td>\n",
       "      <td>18</td>\n",
       "      <td>2</td>\n",
       "      <td>20</td>\n",
       "      <td>0</td>\n",
       "      <td>585060</td>\n",
       "      <td>6.030434</td>\n",
       "    </tr>\n",
       "  </tbody>\n",
       "</table>\n",
       "<p>286 rows × 13 columns</p>\n",
       "</div>"
      ],
      "text/plain": [
       "           Date  Season Round  GuildName GuildNameExtra  Trophies  \\\n",
       "0    2024-02-27       1   1-1  Spearmint      Spearmint  10513190   \n",
       "1    2024-02-27       1   1-1      Vivid          Vivid  10510940   \n",
       "2    2024-02-27       1   1-1    Nobless        Nobless  10251975   \n",
       "3    2024-02-27       1   1-1      LAODA          LAODA  10011795   \n",
       "4    2024-02-27       1   1-1        미라클  미라클 (miracle)   9930645   \n",
       "..          ...     ...   ...        ...            ...       ...   \n",
       "281  2024-05-28       4   4-3       MyTH           MyTH  10346185   \n",
       "282  2024-05-28       4   4-3   Nobility       Nobility  10445040   \n",
       "283  2024-05-28       4   4-3       S7AR           S7AR  10270005   \n",
       "284  2024-05-28       4   4-3         감동  감동 (gam-dong)   9872795   \n",
       "285  2024-05-28       4   4-3     DEKWAT         DEKWAT  10286850   \n",
       "\n",
       "     SeasonTotal  RoundRank  DiffRoundRank  SeasonRank  DiffSeasonRank  \\\n",
       "0       10513190          1              0           1               0   \n",
       "1       10510940          2              0           2               0   \n",
       "2       10251975          3              0           3               0   \n",
       "3       10011795          4              0           4               0   \n",
       "4        9930645          5              0           5               0   \n",
       "..           ...        ...            ...         ...             ...   \n",
       "281     30139130         17             -1          16               0   \n",
       "282     30041855         16              2          17               1   \n",
       "283     29984580         19             -2          18              -1   \n",
       "284     29384460         20             -1          19               0   \n",
       "285     29698740         18              2          20               0   \n",
       "\n",
       "     Improvement  GrowthRate  \n",
       "0              0    0.000000  \n",
       "1              0    0.000000  \n",
       "2              0    0.000000  \n",
       "3              0    0.000000  \n",
       "4              0    0.000000  \n",
       "..           ...         ...  \n",
       "281       401815    4.040628  \n",
       "282       570010    5.772236  \n",
       "283       327380    3.292692  \n",
       "284        79735    0.814199  \n",
       "285       585060    6.030434  \n",
       "\n",
       "[286 rows x 13 columns]"
      ]
     },
     "execution_count": 15,
     "metadata": {},
     "output_type": "execute_result"
    }
   ],
   "source": [
    "# # csv file\n",
    "file_path = r\"data\\CRK_guild_boss.csv\"\n",
    "\n",
    "\n",
    "df_raw = pd.read_csv(file_path, parse_dates=True)\n",
    "\n",
    "# pickled file\n",
    "# file_path = r\"data\\CRK_guild_boss.pkl\"\n",
    "# df_raw = pd.read_pickle(file_path)\n",
    "\n",
    "\n",
    "df_raw"
   ]
  },
  {
   "cell_type": "code",
   "execution_count": 16,
   "metadata": {},
   "outputs": [
    {
     "name": "stdout",
     "output_type": "stream",
     "text": [
      "<class 'pandas.core.frame.DataFrame'>\n",
      "RangeIndex: 286 entries, 0 to 285\n",
      "Data columns (total 13 columns):\n",
      " #   Column          Non-Null Count  Dtype  \n",
      "---  ------          --------------  -----  \n",
      " 0   Date            286 non-null    object \n",
      " 1   Season          286 non-null    int64  \n",
      " 2   Round           286 non-null    object \n",
      " 3   GuildName       286 non-null    object \n",
      " 4   GuildNameExtra  286 non-null    object \n",
      " 5   Trophies        286 non-null    int64  \n",
      " 6   SeasonTotal     286 non-null    int64  \n",
      " 7   RoundRank       286 non-null    int64  \n",
      " 8   DiffRoundRank   286 non-null    int64  \n",
      " 9   SeasonRank      286 non-null    int64  \n",
      " 10  DiffSeasonRank  286 non-null    int64  \n",
      " 11  Improvement     286 non-null    int64  \n",
      " 12  GrowthRate      286 non-null    float64\n",
      "dtypes: float64(1), int64(8), object(4)\n",
      "memory usage: 29.2+ KB\n"
     ]
    }
   ],
   "source": [
    "df_raw.info()"
   ]
  },
  {
   "cell_type": "code",
   "execution_count": 17,
   "metadata": {},
   "outputs": [
    {
     "data": {
      "text/plain": [
       "['Date',\n",
       " 'Season',\n",
       " 'Round',\n",
       " 'GuildName',\n",
       " 'GuildNameExtra',\n",
       " 'Trophies',\n",
       " 'SeasonTotal',\n",
       " 'RoundRank',\n",
       " 'DiffRoundRank',\n",
       " 'SeasonRank',\n",
       " 'DiffSeasonRank',\n",
       " 'Improvement',\n",
       " 'GrowthRate']"
      ]
     },
     "execution_count": 17,
     "metadata": {},
     "output_type": "execute_result"
    }
   ],
   "source": [
    "df_raw.columns.to_list()"
   ]
  },
  {
   "cell_type": "markdown",
   "metadata": {},
   "source": [
    "# Clean data\n"
   ]
  },
  {
   "cell_type": "code",
   "execution_count": 18,
   "metadata": {},
   "outputs": [
    {
     "data": {
      "text/html": [
       "<div>\n",
       "<style scoped>\n",
       "    .dataframe tbody tr th:only-of-type {\n",
       "        vertical-align: middle;\n",
       "    }\n",
       "\n",
       "    .dataframe tbody tr th {\n",
       "        vertical-align: top;\n",
       "    }\n",
       "\n",
       "    .dataframe thead th {\n",
       "        text-align: right;\n",
       "    }\n",
       "</style>\n",
       "<table border=\"1\" class=\"dataframe\">\n",
       "  <thead>\n",
       "    <tr style=\"text-align: right;\">\n",
       "      <th></th>\n",
       "      <th>Date</th>\n",
       "      <th>Season</th>\n",
       "      <th>Round</th>\n",
       "      <th>GuildName</th>\n",
       "      <th>GuildNameExtra</th>\n",
       "      <th>Trophies</th>\n",
       "      <th>SeasonTotal</th>\n",
       "      <th>RoundRank</th>\n",
       "      <th>DiffRoundRank</th>\n",
       "      <th>SeasonRank</th>\n",
       "      <th>DiffSeasonRank</th>\n",
       "      <th>Improvement</th>\n",
       "      <th>GrowthRate</th>\n",
       "    </tr>\n",
       "  </thead>\n",
       "  <tbody>\n",
       "    <tr>\n",
       "      <th>0</th>\n",
       "      <td>2024-02-27</td>\n",
       "      <td>1</td>\n",
       "      <td>1-1</td>\n",
       "      <td>Spearmint</td>\n",
       "      <td>Spearmint</td>\n",
       "      <td>10513190</td>\n",
       "      <td>10513190</td>\n",
       "      <td>1</td>\n",
       "      <td>0</td>\n",
       "      <td>1</td>\n",
       "      <td>0</td>\n",
       "      <td>0</td>\n",
       "      <td>0.000000</td>\n",
       "    </tr>\n",
       "    <tr>\n",
       "      <th>1</th>\n",
       "      <td>2024-02-27</td>\n",
       "      <td>1</td>\n",
       "      <td>1-1</td>\n",
       "      <td>Vivid</td>\n",
       "      <td>Vivid</td>\n",
       "      <td>10510940</td>\n",
       "      <td>10510940</td>\n",
       "      <td>2</td>\n",
       "      <td>0</td>\n",
       "      <td>2</td>\n",
       "      <td>0</td>\n",
       "      <td>0</td>\n",
       "      <td>0.000000</td>\n",
       "    </tr>\n",
       "    <tr>\n",
       "      <th>2</th>\n",
       "      <td>2024-02-27</td>\n",
       "      <td>1</td>\n",
       "      <td>1-1</td>\n",
       "      <td>Nobless</td>\n",
       "      <td>Nobless</td>\n",
       "      <td>10251975</td>\n",
       "      <td>10251975</td>\n",
       "      <td>3</td>\n",
       "      <td>0</td>\n",
       "      <td>3</td>\n",
       "      <td>0</td>\n",
       "      <td>0</td>\n",
       "      <td>0.000000</td>\n",
       "    </tr>\n",
       "    <tr>\n",
       "      <th>3</th>\n",
       "      <td>2024-02-27</td>\n",
       "      <td>1</td>\n",
       "      <td>1-1</td>\n",
       "      <td>LAODA</td>\n",
       "      <td>LAODA</td>\n",
       "      <td>10011795</td>\n",
       "      <td>10011795</td>\n",
       "      <td>4</td>\n",
       "      <td>0</td>\n",
       "      <td>4</td>\n",
       "      <td>0</td>\n",
       "      <td>0</td>\n",
       "      <td>0.000000</td>\n",
       "    </tr>\n",
       "    <tr>\n",
       "      <th>4</th>\n",
       "      <td>2024-02-27</td>\n",
       "      <td>1</td>\n",
       "      <td>1-1</td>\n",
       "      <td>미라클</td>\n",
       "      <td>미라클 (miracle)</td>\n",
       "      <td>9930645</td>\n",
       "      <td>9930645</td>\n",
       "      <td>5</td>\n",
       "      <td>0</td>\n",
       "      <td>5</td>\n",
       "      <td>0</td>\n",
       "      <td>0</td>\n",
       "      <td>0.000000</td>\n",
       "    </tr>\n",
       "    <tr>\n",
       "      <th>...</th>\n",
       "      <td>...</td>\n",
       "      <td>...</td>\n",
       "      <td>...</td>\n",
       "      <td>...</td>\n",
       "      <td>...</td>\n",
       "      <td>...</td>\n",
       "      <td>...</td>\n",
       "      <td>...</td>\n",
       "      <td>...</td>\n",
       "      <td>...</td>\n",
       "      <td>...</td>\n",
       "      <td>...</td>\n",
       "      <td>...</td>\n",
       "    </tr>\n",
       "    <tr>\n",
       "      <th>281</th>\n",
       "      <td>2024-05-28</td>\n",
       "      <td>4</td>\n",
       "      <td>4-3</td>\n",
       "      <td>MyTH</td>\n",
       "      <td>MyTH</td>\n",
       "      <td>10346185</td>\n",
       "      <td>30139130</td>\n",
       "      <td>17</td>\n",
       "      <td>-1</td>\n",
       "      <td>16</td>\n",
       "      <td>0</td>\n",
       "      <td>401815</td>\n",
       "      <td>4.040628</td>\n",
       "    </tr>\n",
       "    <tr>\n",
       "      <th>282</th>\n",
       "      <td>2024-05-28</td>\n",
       "      <td>4</td>\n",
       "      <td>4-3</td>\n",
       "      <td>Nobility</td>\n",
       "      <td>Nobility</td>\n",
       "      <td>10445040</td>\n",
       "      <td>30041855</td>\n",
       "      <td>16</td>\n",
       "      <td>2</td>\n",
       "      <td>17</td>\n",
       "      <td>1</td>\n",
       "      <td>570010</td>\n",
       "      <td>5.772236</td>\n",
       "    </tr>\n",
       "    <tr>\n",
       "      <th>283</th>\n",
       "      <td>2024-05-28</td>\n",
       "      <td>4</td>\n",
       "      <td>4-3</td>\n",
       "      <td>S7AR</td>\n",
       "      <td>S7AR</td>\n",
       "      <td>10270005</td>\n",
       "      <td>29984580</td>\n",
       "      <td>19</td>\n",
       "      <td>-2</td>\n",
       "      <td>18</td>\n",
       "      <td>-1</td>\n",
       "      <td>327380</td>\n",
       "      <td>3.292692</td>\n",
       "    </tr>\n",
       "    <tr>\n",
       "      <th>284</th>\n",
       "      <td>2024-05-28</td>\n",
       "      <td>4</td>\n",
       "      <td>4-3</td>\n",
       "      <td>감동</td>\n",
       "      <td>감동 (gam-dong)</td>\n",
       "      <td>9872795</td>\n",
       "      <td>29384460</td>\n",
       "      <td>20</td>\n",
       "      <td>-1</td>\n",
       "      <td>19</td>\n",
       "      <td>0</td>\n",
       "      <td>79735</td>\n",
       "      <td>0.814199</td>\n",
       "    </tr>\n",
       "    <tr>\n",
       "      <th>285</th>\n",
       "      <td>2024-05-28</td>\n",
       "      <td>4</td>\n",
       "      <td>4-3</td>\n",
       "      <td>DEKWAT</td>\n",
       "      <td>DEKWAT</td>\n",
       "      <td>10286850</td>\n",
       "      <td>29698740</td>\n",
       "      <td>18</td>\n",
       "      <td>2</td>\n",
       "      <td>20</td>\n",
       "      <td>0</td>\n",
       "      <td>585060</td>\n",
       "      <td>6.030434</td>\n",
       "    </tr>\n",
       "  </tbody>\n",
       "</table>\n",
       "<p>286 rows × 13 columns</p>\n",
       "</div>"
      ],
      "text/plain": [
       "          Date Season Round  GuildName GuildNameExtra  Trophies  SeasonTotal  \\\n",
       "0   2024-02-27      1   1-1  Spearmint      Spearmint  10513190     10513190   \n",
       "1   2024-02-27      1   1-1      Vivid          Vivid  10510940     10510940   \n",
       "2   2024-02-27      1   1-1    Nobless        Nobless  10251975     10251975   \n",
       "3   2024-02-27      1   1-1      LAODA          LAODA  10011795     10011795   \n",
       "4   2024-02-27      1   1-1        미라클  미라클 (miracle)   9930645      9930645   \n",
       "..         ...    ...   ...        ...            ...       ...          ...   \n",
       "281 2024-05-28      4   4-3       MyTH           MyTH  10346185     30139130   \n",
       "282 2024-05-28      4   4-3   Nobility       Nobility  10445040     30041855   \n",
       "283 2024-05-28      4   4-3       S7AR           S7AR  10270005     29984580   \n",
       "284 2024-05-28      4   4-3         감동  감동 (gam-dong)   9872795     29384460   \n",
       "285 2024-05-28      4   4-3     DEKWAT         DEKWAT  10286850     29698740   \n",
       "\n",
       "    RoundRank  DiffRoundRank SeasonRank  DiffSeasonRank  Improvement  \\\n",
       "0           1              0          1               0            0   \n",
       "1           2              0          2               0            0   \n",
       "2           3              0          3               0            0   \n",
       "3           4              0          4               0            0   \n",
       "4           5              0          5               0            0   \n",
       "..        ...            ...        ...             ...          ...   \n",
       "281        17             -1         16               0       401815   \n",
       "282        16              2         17               1       570010   \n",
       "283        19             -2         18              -1       327380   \n",
       "284        20             -1         19               0        79735   \n",
       "285        18              2         20               0       585060   \n",
       "\n",
       "     GrowthRate  \n",
       "0      0.000000  \n",
       "1      0.000000  \n",
       "2      0.000000  \n",
       "3      0.000000  \n",
       "4      0.000000  \n",
       "..          ...  \n",
       "281    4.040628  \n",
       "282    5.772236  \n",
       "283    3.292692  \n",
       "284    0.814199  \n",
       "285    6.030434  \n",
       "\n",
       "[286 rows x 13 columns]"
      ]
     },
     "execution_count": 18,
     "metadata": {},
     "output_type": "execute_result"
    }
   ],
   "source": [
    "def clean_data(df: pd.DataFrame) -> pd.DataFrame:\n",
    "\n",
    "    # Change column type to category for column: 'Season','Round','Rank'\n",
    "\n",
    "    df = df.astype(\n",
    "        {\n",
    "            \"Season\": \"category\",\n",
    "            \"RoundRank\": \"category\",\n",
    "            \"SeasonRank\": \"category\",\n",
    "            \"Round\": \"category\",\n",
    "        }\n",
    "    )\n",
    "\n",
    "    df.Season = df.Season.cat.as_ordered()\n",
    "    df.Round = df.Round.cat.as_ordered()\n",
    "    df.RoundRank = df.RoundRank.cat.as_ordered()\n",
    "    df.SeasonRank = df.SeasonRank.cat.as_ordered()\n",
    "\n",
    "    # Change column type to string for column: 'GuildName'\n",
    "\n",
    "    df = df.astype({\"GuildName\": \"string\", \"GuildNameExtra\": \"string\"})\n",
    "\n",
    "    # Change column type to datetime for column: 'Date'\n",
    "\n",
    "    df.Date = pd.to_datetime(df.Date)\n",
    "    return df\n",
    "\n",
    "\n",
    "data = clean_data(df_raw.copy())\n",
    "data"
   ]
  },
  {
   "cell_type": "code",
   "execution_count": 19,
   "metadata": {},
   "outputs": [
    {
     "data": {
      "text/html": [
       "<style type=\"text/css\">\n",
       "#T_8b5f6_row0_col8, #T_8b5f6_row0_col10, #T_8b5f6_row1_col8, #T_8b5f6_row1_col10, #T_8b5f6_row2_col8, #T_8b5f6_row2_col10, #T_8b5f6_row3_col8, #T_8b5f6_row3_col10, #T_8b5f6_row4_col8, #T_8b5f6_row4_col10, #T_8b5f6_row5_col8, #T_8b5f6_row5_col10, #T_8b5f6_row6_col8, #T_8b5f6_row6_col10, #T_8b5f6_row7_col8, #T_8b5f6_row7_col10, #T_8b5f6_row8_col8, #T_8b5f6_row8_col10, #T_8b5f6_row9_col8, #T_8b5f6_row9_col10, #T_8b5f6_row10_col8, #T_8b5f6_row10_col10, #T_8b5f6_row11_col8, #T_8b5f6_row11_col10, #T_8b5f6_row12_col8, #T_8b5f6_row12_col10, #T_8b5f6_row13_col8, #T_8b5f6_row13_col10, #T_8b5f6_row14_col8, #T_8b5f6_row14_col10, #T_8b5f6_row15_col8, #T_8b5f6_row15_col10, #T_8b5f6_row16_col8, #T_8b5f6_row16_col10, #T_8b5f6_row17_col8, #T_8b5f6_row17_col10, #T_8b5f6_row18_col8, #T_8b5f6_row18_col10, #T_8b5f6_row19_col8, #T_8b5f6_row19_col10, #T_8b5f6_row20_col8, #T_8b5f6_row20_col10, #T_8b5f6_row21_col8, #T_8b5f6_row21_col10, #T_8b5f6_row22_col8, #T_8b5f6_row22_col10, #T_8b5f6_row23_col8, #T_8b5f6_row23_col10, #T_8b5f6_row24_col10, #T_8b5f6_row25_col10, #T_8b5f6_row26_col10, #T_8b5f6_row31_col8, #T_8b5f6_row31_col10, #T_8b5f6_row32_col8, #T_8b5f6_row32_col10, #T_8b5f6_row33_col8, #T_8b5f6_row33_col10, #T_8b5f6_row34_col10, #T_8b5f6_row35_col10, #T_8b5f6_row36_col8, #T_8b5f6_row36_col10, #T_8b5f6_row37_col8, #T_8b5f6_row37_col10, #T_8b5f6_row38_col8, #T_8b5f6_row38_col10, #T_8b5f6_row39_col8, #T_8b5f6_row39_col10, #T_8b5f6_row40_col8, #T_8b5f6_row40_col10, #T_8b5f6_row41_col8, #T_8b5f6_row42_col8, #T_8b5f6_row42_col10, #T_8b5f6_row43_col8, #T_8b5f6_row43_col10, #T_8b5f6_row44_col8, #T_8b5f6_row44_col10, #T_8b5f6_row45_col10, #T_8b5f6_row46_col10, #T_8b5f6_row47_col10, #T_8b5f6_row48_col10, #T_8b5f6_row49_col10, #T_8b5f6_row50_col10, #T_8b5f6_row51_col8, #T_8b5f6_row51_col10, #T_8b5f6_row52_col10, #T_8b5f6_row57_col10, #T_8b5f6_row58_col10, #T_8b5f6_row59_col10, #T_8b5f6_row60_col10, #T_8b5f6_row61_col10, #T_8b5f6_row62_col8, #T_8b5f6_row63_col8, #T_8b5f6_row63_col10, #T_8b5f6_row64_col8, #T_8b5f6_row64_col10, #T_8b5f6_row65_col8, #T_8b5f6_row65_col10, #T_8b5f6_row66_col10, #T_8b5f6_row67_col10, #T_8b5f6_row68_col10, #T_8b5f6_row69_col8, #T_8b5f6_row69_col10, #T_8b5f6_row70_col10, #T_8b5f6_row73_col10, #T_8b5f6_row74_col10, #T_8b5f6_row75_col8, #T_8b5f6_row75_col10, #T_8b5f6_row76_col8, #T_8b5f6_row76_col10, #T_8b5f6_row77_col8, #T_8b5f6_row77_col10, #T_8b5f6_row78_col8, #T_8b5f6_row78_col10, #T_8b5f6_row79_col8, #T_8b5f6_row79_col10, #T_8b5f6_row80_col8, #T_8b5f6_row80_col10, #T_8b5f6_row81_col10, #T_8b5f6_row82_col10, #T_8b5f6_row84_col8, #T_8b5f6_row84_col10, #T_8b5f6_row85_col8, #T_8b5f6_row85_col10, #T_8b5f6_row86_col8, #T_8b5f6_row86_col10, #T_8b5f6_row87_col8, #T_8b5f6_row90_col10, #T_8b5f6_row91_col8, #T_8b5f6_row92_col8, #T_8b5f6_row93_col10, #T_8b5f6_row94_col10, #T_8b5f6_row96_col8, #T_8b5f6_row97_col8, #T_8b5f6_row98_col8, #T_8b5f6_row99_col8, #T_8b5f6_row101_col8, #T_8b5f6_row102_col10, #T_8b5f6_row103_col10, #T_8b5f6_row105_col8, #T_8b5f6_row105_col10, #T_8b5f6_row106_col8, #T_8b5f6_row106_col10, #T_8b5f6_row107_col8, #T_8b5f6_row107_col10, #T_8b5f6_row108_col8, #T_8b5f6_row108_col10, #T_8b5f6_row109_col8, #T_8b5f6_row109_col10, #T_8b5f6_row110_col8, #T_8b5f6_row110_col10, #T_8b5f6_row111_col10, #T_8b5f6_row112_col10, #T_8b5f6_row114_col8, #T_8b5f6_row114_col10, #T_8b5f6_row118_col10, #T_8b5f6_row122_col10, #T_8b5f6_row124_col8, #T_8b5f6_row124_col10, #T_8b5f6_row125_col8, #T_8b5f6_row125_col10, #T_8b5f6_row126_col8, #T_8b5f6_row126_col10, #T_8b5f6_row127_col8, #T_8b5f6_row127_col10, #T_8b5f6_row133_col10, #T_8b5f6_row134_col10, #T_8b5f6_row135_col8, #T_8b5f6_row135_col10, #T_8b5f6_row136_col8, #T_8b5f6_row136_col10, #T_8b5f6_row137_col8, #T_8b5f6_row137_col10, #T_8b5f6_row138_col8, #T_8b5f6_row140_col10, #T_8b5f6_row141_col8, #T_8b5f6_row141_col10, #T_8b5f6_row142_col8, #T_8b5f6_row144_col10, #T_8b5f6_row145_col10, #T_8b5f6_row146_col10, #T_8b5f6_row147_col8, #T_8b5f6_row147_col10, #T_8b5f6_row148_col8, #T_8b5f6_row148_col10, #T_8b5f6_row149_col8, #T_8b5f6_row149_col10, #T_8b5f6_row150_col10, #T_8b5f6_row151_col10, #T_8b5f6_row152_col10, #T_8b5f6_row153_col10, #T_8b5f6_row154_col10, #T_8b5f6_row155_col8, #T_8b5f6_row155_col10, #T_8b5f6_row156_col8, #T_8b5f6_row156_col10, #T_8b5f6_row157_col8, #T_8b5f6_row157_col10, #T_8b5f6_row158_col8, #T_8b5f6_row158_col10, #T_8b5f6_row159_col10, #T_8b5f6_row160_col10, #T_8b5f6_row161_col10, #T_8b5f6_row164_col8, #T_8b5f6_row164_col10, #T_8b5f6_row165_col10, #T_8b5f6_row166_col10, #T_8b5f6_row167_col8, #T_8b5f6_row167_col10, #T_8b5f6_row170_col8, #T_8b5f6_row171_col8, #T_8b5f6_row174_col8, #T_8b5f6_row174_col10, #T_8b5f6_row175_col8, #T_8b5f6_row175_col10, #T_8b5f6_row176_col8, #T_8b5f6_row176_col10, #T_8b5f6_row182_col8, #T_8b5f6_row184_col10, #T_8b5f6_row185_col8, #T_8b5f6_row185_col10, #T_8b5f6_row186_col8, #T_8b5f6_row186_col10, #T_8b5f6_row187_col8, #T_8b5f6_row187_col10, #T_8b5f6_row188_col10, #T_8b5f6_row189_col10, #T_8b5f6_row190_col8, #T_8b5f6_row190_col10, #T_8b5f6_row191_col8, #T_8b5f6_row191_col10, #T_8b5f6_row194_col8, #T_8b5f6_row194_col10, #T_8b5f6_row195_col8, #T_8b5f6_row195_col10, #T_8b5f6_row196_col8, #T_8b5f6_row196_col10, #T_8b5f6_row197_col10, #T_8b5f6_row198_col10, #T_8b5f6_row201_col8, #T_8b5f6_row201_col10, #T_8b5f6_row202_col8, #T_8b5f6_row202_col10, #T_8b5f6_row203_col8, #T_8b5f6_row203_col10, #T_8b5f6_row204_col8, #T_8b5f6_row204_col10, #T_8b5f6_row205_col8, #T_8b5f6_row207_col10, #T_8b5f6_row208_col8, #T_8b5f6_row208_col10, #T_8b5f6_row209_col10, #T_8b5f6_row210_col8, #T_8b5f6_row210_col10, #T_8b5f6_row211_col8, #T_8b5f6_row213_col8, #T_8b5f6_row213_col10, #T_8b5f6_row214_col10, #T_8b5f6_row215_col10, #T_8b5f6_row216_col10, #T_8b5f6_row219_col8, #T_8b5f6_row219_col10, #T_8b5f6_row220_col8, #T_8b5f6_row220_col10, #T_8b5f6_row221_col10, #T_8b5f6_row222_col8, #T_8b5f6_row222_col10, #T_8b5f6_row223_col10, #T_8b5f6_row224_col8, #T_8b5f6_row224_col10, #T_8b5f6_row226_col10, #T_8b5f6_row227_col10, #T_8b5f6_row228_col10, #T_8b5f6_row230_col8, #T_8b5f6_row231_col8, #T_8b5f6_row231_col10, #T_8b5f6_row233_col8, #T_8b5f6_row234_col8, #T_8b5f6_row234_col10, #T_8b5f6_row235_col10, #T_8b5f6_row236_col10, #T_8b5f6_row237_col10, #T_8b5f6_row239_col8, #T_8b5f6_row240_col8, #T_8b5f6_row240_col10, #T_8b5f6_row242_col10, #T_8b5f6_row244_col8, #T_8b5f6_row244_col10, #T_8b5f6_row246_col8, #T_8b5f6_row246_col10, #T_8b5f6_row247_col8, #T_8b5f6_row247_col10, #T_8b5f6_row248_col10, #T_8b5f6_row249_col10, #T_8b5f6_row252_col10, #T_8b5f6_row253_col8, #T_8b5f6_row253_col10, #T_8b5f6_row254_col8, #T_8b5f6_row254_col10, #T_8b5f6_row255_col10, #T_8b5f6_row256_col10, #T_8b5f6_row257_col8, #T_8b5f6_row257_col10, #T_8b5f6_row258_col8, #T_8b5f6_row258_col10, #T_8b5f6_row259_col8, #T_8b5f6_row259_col10, #T_8b5f6_row260_col8, #T_8b5f6_row260_col10, #T_8b5f6_row261_col8, #T_8b5f6_row261_col10, #T_8b5f6_row262_col8, #T_8b5f6_row262_col10, #T_8b5f6_row263_col8, #T_8b5f6_row263_col10, #T_8b5f6_row264_col8, #T_8b5f6_row264_col10, #T_8b5f6_row265_col8, #T_8b5f6_row265_col10, #T_8b5f6_row266_col8, #T_8b5f6_row266_col10, #T_8b5f6_row267_col8, #T_8b5f6_row267_col10, #T_8b5f6_row268_col10, #T_8b5f6_row272_col10, #T_8b5f6_row273_col10, #T_8b5f6_row274_col10, #T_8b5f6_row275_col10, #T_8b5f6_row276_col10, #T_8b5f6_row277_col10, #T_8b5f6_row278_col8, #T_8b5f6_row278_col10, #T_8b5f6_row279_col10, #T_8b5f6_row280_col10, #T_8b5f6_row281_col10, #T_8b5f6_row284_col10, #T_8b5f6_row285_col10 {\n",
       "  color: red;\n",
       "  color: darkgreen;\n",
       "}\n",
       "#T_8b5f6_row0_col11, #T_8b5f6_row0_col12, #T_8b5f6_row1_col11, #T_8b5f6_row1_col12, #T_8b5f6_row2_col11, #T_8b5f6_row2_col12, #T_8b5f6_row3_col11, #T_8b5f6_row3_col12, #T_8b5f6_row4_col11, #T_8b5f6_row4_col12, #T_8b5f6_row5_col11, #T_8b5f6_row5_col12, #T_8b5f6_row6_col11, #T_8b5f6_row6_col12, #T_8b5f6_row7_col11, #T_8b5f6_row7_col12, #T_8b5f6_row8_col11, #T_8b5f6_row8_col12, #T_8b5f6_row9_col11, #T_8b5f6_row9_col12, #T_8b5f6_row10_col11, #T_8b5f6_row10_col12, #T_8b5f6_row11_col11, #T_8b5f6_row11_col12, #T_8b5f6_row12_col11, #T_8b5f6_row12_col12, #T_8b5f6_row13_col11, #T_8b5f6_row13_col12, #T_8b5f6_row14_col11, #T_8b5f6_row14_col12, #T_8b5f6_row15_col11, #T_8b5f6_row15_col12, #T_8b5f6_row16_col11, #T_8b5f6_row16_col12, #T_8b5f6_row17_col11, #T_8b5f6_row17_col12, #T_8b5f6_row18_col11, #T_8b5f6_row18_col12, #T_8b5f6_row19_col11, #T_8b5f6_row19_col12, #T_8b5f6_row20_col11, #T_8b5f6_row20_col12, #T_8b5f6_row24_col8, #T_8b5f6_row25_col8, #T_8b5f6_row28_col8, #T_8b5f6_row28_col10, #T_8b5f6_row30_col8, #T_8b5f6_row30_col10, #T_8b5f6_row34_col8, #T_8b5f6_row34_col11, #T_8b5f6_row34_col12, #T_8b5f6_row41_col10, #T_8b5f6_row47_col8, #T_8b5f6_row47_col11, #T_8b5f6_row47_col12, #T_8b5f6_row48_col11, #T_8b5f6_row48_col12, #T_8b5f6_row50_col8, #T_8b5f6_row54_col8, #T_8b5f6_row54_col10, #T_8b5f6_row54_col11, #T_8b5f6_row54_col12, #T_8b5f6_row56_col8, #T_8b5f6_row56_col10, #T_8b5f6_row56_col11, #T_8b5f6_row56_col12, #T_8b5f6_row58_col8, #T_8b5f6_row58_col11, #T_8b5f6_row58_col12, #T_8b5f6_row59_col8, #T_8b5f6_row60_col8, #T_8b5f6_row62_col10, #T_8b5f6_row62_col11, #T_8b5f6_row62_col12, #T_8b5f6_row65_col11, #T_8b5f6_row65_col12, #T_8b5f6_row66_col8, #T_8b5f6_row70_col8, #T_8b5f6_row71_col8, #T_8b5f6_row72_col8, #T_8b5f6_row72_col10, #T_8b5f6_row73_col8, #T_8b5f6_row82_col8, #T_8b5f6_row89_col8, #T_8b5f6_row89_col10, #T_8b5f6_row90_col8, #T_8b5f6_row92_col10, #T_8b5f6_row94_col8, #T_8b5f6_row95_col8, #T_8b5f6_row95_col10, #T_8b5f6_row97_col10, #T_8b5f6_row99_col10, #T_8b5f6_row101_col10, #T_8b5f6_row102_col8, #T_8b5f6_row104_col8, #T_8b5f6_row111_col8, #T_8b5f6_row114_col11, #T_8b5f6_row114_col12, #T_8b5f6_row118_col8, #T_8b5f6_row118_col11, #T_8b5f6_row118_col12, #T_8b5f6_row122_col8, #T_8b5f6_row122_col11, #T_8b5f6_row122_col12, #T_8b5f6_row124_col11, #T_8b5f6_row124_col12, #T_8b5f6_row129_col8, #T_8b5f6_row129_col10, #T_8b5f6_row129_col11, #T_8b5f6_row129_col12, #T_8b5f6_row130_col8, #T_8b5f6_row130_col10, #T_8b5f6_row132_col8, #T_8b5f6_row132_col10, #T_8b5f6_row132_col11, #T_8b5f6_row132_col12, #T_8b5f6_row136_col11, #T_8b5f6_row136_col12, #T_8b5f6_row139_col10, #T_8b5f6_row140_col8, #T_8b5f6_row142_col11, #T_8b5f6_row142_col12, #T_8b5f6_row143_col8, #T_8b5f6_row143_col10, #T_8b5f6_row143_col11, #T_8b5f6_row143_col12, #T_8b5f6_row144_col11, #T_8b5f6_row144_col12, #T_8b5f6_row145_col8, #T_8b5f6_row150_col8, #T_8b5f6_row151_col8, #T_8b5f6_row153_col8, #T_8b5f6_row153_col11, #T_8b5f6_row153_col12, #T_8b5f6_row154_col8, #T_8b5f6_row159_col8, #T_8b5f6_row159_col11, #T_8b5f6_row159_col12, #T_8b5f6_row161_col8, #T_8b5f6_row161_col11, #T_8b5f6_row161_col12, #T_8b5f6_row163_col10, #T_8b5f6_row166_col8, #T_8b5f6_row166_col11, #T_8b5f6_row166_col12, #T_8b5f6_row169_col8, #T_8b5f6_row169_col10, #T_8b5f6_row171_col10, #T_8b5f6_row173_col8, #T_8b5f6_row173_col10, #T_8b5f6_row173_col11, #T_8b5f6_row173_col12, #T_8b5f6_row178_col8, #T_8b5f6_row178_col10, #T_8b5f6_row180_col8, #T_8b5f6_row181_col8, #T_8b5f6_row181_col10, #T_8b5f6_row182_col10, #T_8b5f6_row183_col10, #T_8b5f6_row184_col8, #T_8b5f6_row184_col11, #T_8b5f6_row184_col12, #T_8b5f6_row185_col11, #T_8b5f6_row185_col12, #T_8b5f6_row187_col11, #T_8b5f6_row187_col12, #T_8b5f6_row188_col8, #T_8b5f6_row193_col8, #T_8b5f6_row193_col10, #T_8b5f6_row197_col8, #T_8b5f6_row197_col11, #T_8b5f6_row197_col12, #T_8b5f6_row200_col8, #T_8b5f6_row200_col10, #T_8b5f6_row201_col11, #T_8b5f6_row201_col12, #T_8b5f6_row203_col11, #T_8b5f6_row203_col12, #T_8b5f6_row204_col11, #T_8b5f6_row204_col12, #T_8b5f6_row206_col8, #T_8b5f6_row206_col10, #T_8b5f6_row206_col11, #T_8b5f6_row206_col12, #T_8b5f6_row207_col8, #T_8b5f6_row209_col8, #T_8b5f6_row212_col8, #T_8b5f6_row212_col10, #T_8b5f6_row212_col11, #T_8b5f6_row212_col12, #T_8b5f6_row214_col8, #T_8b5f6_row215_col8, #T_8b5f6_row216_col8, #T_8b5f6_row216_col11, #T_8b5f6_row216_col12, #T_8b5f6_row217_col8, #T_8b5f6_row218_col8, #T_8b5f6_row218_col10, #T_8b5f6_row218_col11, #T_8b5f6_row218_col12, #T_8b5f6_row220_col11, #T_8b5f6_row220_col12, #T_8b5f6_row221_col8, #T_8b5f6_row221_col11, #T_8b5f6_row221_col12, #T_8b5f6_row224_col11, #T_8b5f6_row224_col12, #T_8b5f6_row225_col8, #T_8b5f6_row225_col10, #T_8b5f6_row225_col11, #T_8b5f6_row225_col12, #T_8b5f6_row230_col10, #T_8b5f6_row233_col10, #T_8b5f6_row239_col10, #T_8b5f6_row243_col8, #T_8b5f6_row243_col10, #T_8b5f6_row244_col11, #T_8b5f6_row244_col12, #T_8b5f6_row245_col8, #T_8b5f6_row245_col10, #T_8b5f6_row246_col11, #T_8b5f6_row246_col12, #T_8b5f6_row247_col11, #T_8b5f6_row247_col12, #T_8b5f6_row248_col8, #T_8b5f6_row251_col8, #T_8b5f6_row251_col10, #T_8b5f6_row251_col11, #T_8b5f6_row251_col12, #T_8b5f6_row255_col8, #T_8b5f6_row255_col11, #T_8b5f6_row255_col12, #T_8b5f6_row258_col11, #T_8b5f6_row258_col12, #T_8b5f6_row259_col11, #T_8b5f6_row259_col12, #T_8b5f6_row260_col11, #T_8b5f6_row260_col12, #T_8b5f6_row265_col11, #T_8b5f6_row265_col12, #T_8b5f6_row270_col8, #T_8b5f6_row270_col10, #T_8b5f6_row271_col8, #T_8b5f6_row271_col10, #T_8b5f6_row272_col8, #T_8b5f6_row273_col8, #T_8b5f6_row274_col8, #T_8b5f6_row276_col8, #T_8b5f6_row277_col8, #T_8b5f6_row281_col8, #T_8b5f6_row283_col8, #T_8b5f6_row283_col10, #T_8b5f6_row284_col8 {\n",
       "  color: red;\n",
       "}\n",
       "#T_8b5f6_row26_col8, #T_8b5f6_row27_col8, #T_8b5f6_row27_col10, #T_8b5f6_row29_col8, #T_8b5f6_row29_col10, #T_8b5f6_row35_col8, #T_8b5f6_row45_col8, #T_8b5f6_row46_col8, #T_8b5f6_row48_col8, #T_8b5f6_row49_col8, #T_8b5f6_row52_col8, #T_8b5f6_row53_col8, #T_8b5f6_row53_col10, #T_8b5f6_row55_col8, #T_8b5f6_row55_col10, #T_8b5f6_row57_col8, #T_8b5f6_row61_col8, #T_8b5f6_row67_col8, #T_8b5f6_row68_col8, #T_8b5f6_row71_col10, #T_8b5f6_row74_col8, #T_8b5f6_row81_col8, #T_8b5f6_row83_col8, #T_8b5f6_row83_col10, #T_8b5f6_row87_col10, #T_8b5f6_row88_col8, #T_8b5f6_row88_col10, #T_8b5f6_row91_col10, #T_8b5f6_row93_col8, #T_8b5f6_row96_col10, #T_8b5f6_row98_col10, #T_8b5f6_row100_col8, #T_8b5f6_row100_col10, #T_8b5f6_row103_col8, #T_8b5f6_row104_col10, #T_8b5f6_row112_col8, #T_8b5f6_row113_col8, #T_8b5f6_row113_col10, #T_8b5f6_row115_col8, #T_8b5f6_row115_col10, #T_8b5f6_row116_col8, #T_8b5f6_row116_col10, #T_8b5f6_row117_col8, #T_8b5f6_row117_col10, #T_8b5f6_row119_col8, #T_8b5f6_row119_col10, #T_8b5f6_row120_col8, #T_8b5f6_row120_col10, #T_8b5f6_row121_col8, #T_8b5f6_row121_col10, #T_8b5f6_row123_col8, #T_8b5f6_row123_col10, #T_8b5f6_row128_col8, #T_8b5f6_row128_col10, #T_8b5f6_row131_col8, #T_8b5f6_row131_col10, #T_8b5f6_row133_col8, #T_8b5f6_row134_col8, #T_8b5f6_row138_col10, #T_8b5f6_row139_col8, #T_8b5f6_row142_col10, #T_8b5f6_row144_col8, #T_8b5f6_row146_col8, #T_8b5f6_row152_col8, #T_8b5f6_row160_col8, #T_8b5f6_row162_col8, #T_8b5f6_row162_col10, #T_8b5f6_row163_col8, #T_8b5f6_row165_col8, #T_8b5f6_row168_col8, #T_8b5f6_row168_col10, #T_8b5f6_row170_col10, #T_8b5f6_row172_col8, #T_8b5f6_row172_col10, #T_8b5f6_row177_col8, #T_8b5f6_row177_col10, #T_8b5f6_row179_col8, #T_8b5f6_row179_col10, #T_8b5f6_row180_col10, #T_8b5f6_row183_col8, #T_8b5f6_row189_col8, #T_8b5f6_row192_col8, #T_8b5f6_row192_col10, #T_8b5f6_row198_col8, #T_8b5f6_row199_col8, #T_8b5f6_row199_col10, #T_8b5f6_row205_col10, #T_8b5f6_row211_col10, #T_8b5f6_row217_col10, #T_8b5f6_row223_col8, #T_8b5f6_row226_col8, #T_8b5f6_row227_col8, #T_8b5f6_row228_col8, #T_8b5f6_row229_col8, #T_8b5f6_row229_col10, #T_8b5f6_row232_col8, #T_8b5f6_row232_col10, #T_8b5f6_row235_col8, #T_8b5f6_row236_col8, #T_8b5f6_row237_col8, #T_8b5f6_row238_col8, #T_8b5f6_row238_col10, #T_8b5f6_row241_col8, #T_8b5f6_row241_col10, #T_8b5f6_row242_col8, #T_8b5f6_row249_col8, #T_8b5f6_row250_col8, #T_8b5f6_row250_col10, #T_8b5f6_row252_col8, #T_8b5f6_row256_col8, #T_8b5f6_row268_col8, #T_8b5f6_row269_col8, #T_8b5f6_row269_col10, #T_8b5f6_row275_col8, #T_8b5f6_row279_col8, #T_8b5f6_row280_col8, #T_8b5f6_row282_col8, #T_8b5f6_row282_col10, #T_8b5f6_row285_col8 {\n",
       "  color: darkgreen;\n",
       "}\n",
       "</style>\n",
       "<table id=\"T_8b5f6\">\n",
       "  <thead>\n",
       "    <tr>\n",
       "      <th class=\"blank level0\" >&nbsp;</th>\n",
       "      <th id=\"T_8b5f6_level0_col0\" class=\"col_heading level0 col0\" >Date</th>\n",
       "      <th id=\"T_8b5f6_level0_col1\" class=\"col_heading level0 col1\" >Season</th>\n",
       "      <th id=\"T_8b5f6_level0_col2\" class=\"col_heading level0 col2\" >Round</th>\n",
       "      <th id=\"T_8b5f6_level0_col3\" class=\"col_heading level0 col3\" >GuildName</th>\n",
       "      <th id=\"T_8b5f6_level0_col4\" class=\"col_heading level0 col4\" >GuildNameExtra</th>\n",
       "      <th id=\"T_8b5f6_level0_col5\" class=\"col_heading level0 col5\" >Trophies</th>\n",
       "      <th id=\"T_8b5f6_level0_col6\" class=\"col_heading level0 col6\" >SeasonTotal</th>\n",
       "      <th id=\"T_8b5f6_level0_col7\" class=\"col_heading level0 col7\" >RoundRank</th>\n",
       "      <th id=\"T_8b5f6_level0_col8\" class=\"col_heading level0 col8\" >DiffRoundRank</th>\n",
       "      <th id=\"T_8b5f6_level0_col9\" class=\"col_heading level0 col9\" >SeasonRank</th>\n",
       "      <th id=\"T_8b5f6_level0_col10\" class=\"col_heading level0 col10\" >DiffSeasonRank</th>\n",
       "      <th id=\"T_8b5f6_level0_col11\" class=\"col_heading level0 col11\" >Improvement</th>\n",
       "      <th id=\"T_8b5f6_level0_col12\" class=\"col_heading level0 col12\" >GrowthRate</th>\n",
       "    </tr>\n",
       "  </thead>\n",
       "  <tbody>\n",
       "    <tr>\n",
       "      <th id=\"T_8b5f6_level0_row0\" class=\"row_heading level0 row0\" >0</th>\n",
       "      <td id=\"T_8b5f6_row0_col0\" class=\"data row0 col0\" >27 Feb 2024</td>\n",
       "      <td id=\"T_8b5f6_row0_col1\" class=\"data row0 col1\" >1</td>\n",
       "      <td id=\"T_8b5f6_row0_col2\" class=\"data row0 col2\" >1-1</td>\n",
       "      <td id=\"T_8b5f6_row0_col3\" class=\"data row0 col3\" >Spearmint</td>\n",
       "      <td id=\"T_8b5f6_row0_col4\" class=\"data row0 col4\" >Spearmint</td>\n",
       "      <td id=\"T_8b5f6_row0_col5\" class=\"data row0 col5\" >10,513,190</td>\n",
       "      <td id=\"T_8b5f6_row0_col6\" class=\"data row0 col6\" >10,513,190</td>\n",
       "      <td id=\"T_8b5f6_row0_col7\" class=\"data row0 col7\" >1</td>\n",
       "      <td id=\"T_8b5f6_row0_col8\" class=\"data row0 col8\" > </td>\n",
       "      <td id=\"T_8b5f6_row0_col9\" class=\"data row0 col9\" >1</td>\n",
       "      <td id=\"T_8b5f6_row0_col10\" class=\"data row0 col10\" > </td>\n",
       "      <td id=\"T_8b5f6_row0_col11\" class=\"data row0 col11\" >0</td>\n",
       "      <td id=\"T_8b5f6_row0_col12\" class=\"data row0 col12\" >0.00%</td>\n",
       "    </tr>\n",
       "    <tr>\n",
       "      <th id=\"T_8b5f6_level0_row1\" class=\"row_heading level0 row1\" >1</th>\n",
       "      <td id=\"T_8b5f6_row1_col0\" class=\"data row1 col0\" >27 Feb 2024</td>\n",
       "      <td id=\"T_8b5f6_row1_col1\" class=\"data row1 col1\" >1</td>\n",
       "      <td id=\"T_8b5f6_row1_col2\" class=\"data row1 col2\" >1-1</td>\n",
       "      <td id=\"T_8b5f6_row1_col3\" class=\"data row1 col3\" >Vivid</td>\n",
       "      <td id=\"T_8b5f6_row1_col4\" class=\"data row1 col4\" >Vivid</td>\n",
       "      <td id=\"T_8b5f6_row1_col5\" class=\"data row1 col5\" >10,510,940</td>\n",
       "      <td id=\"T_8b5f6_row1_col6\" class=\"data row1 col6\" >10,510,940</td>\n",
       "      <td id=\"T_8b5f6_row1_col7\" class=\"data row1 col7\" >2</td>\n",
       "      <td id=\"T_8b5f6_row1_col8\" class=\"data row1 col8\" > </td>\n",
       "      <td id=\"T_8b5f6_row1_col9\" class=\"data row1 col9\" >2</td>\n",
       "      <td id=\"T_8b5f6_row1_col10\" class=\"data row1 col10\" > </td>\n",
       "      <td id=\"T_8b5f6_row1_col11\" class=\"data row1 col11\" >0</td>\n",
       "      <td id=\"T_8b5f6_row1_col12\" class=\"data row1 col12\" >0.00%</td>\n",
       "    </tr>\n",
       "    <tr>\n",
       "      <th id=\"T_8b5f6_level0_row2\" class=\"row_heading level0 row2\" >2</th>\n",
       "      <td id=\"T_8b5f6_row2_col0\" class=\"data row2 col0\" >27 Feb 2024</td>\n",
       "      <td id=\"T_8b5f6_row2_col1\" class=\"data row2 col1\" >1</td>\n",
       "      <td id=\"T_8b5f6_row2_col2\" class=\"data row2 col2\" >1-1</td>\n",
       "      <td id=\"T_8b5f6_row2_col3\" class=\"data row2 col3\" >Nobless</td>\n",
       "      <td id=\"T_8b5f6_row2_col4\" class=\"data row2 col4\" >Nobless</td>\n",
       "      <td id=\"T_8b5f6_row2_col5\" class=\"data row2 col5\" >10,251,975</td>\n",
       "      <td id=\"T_8b5f6_row2_col6\" class=\"data row2 col6\" >10,251,975</td>\n",
       "      <td id=\"T_8b5f6_row2_col7\" class=\"data row2 col7\" >3</td>\n",
       "      <td id=\"T_8b5f6_row2_col8\" class=\"data row2 col8\" > </td>\n",
       "      <td id=\"T_8b5f6_row2_col9\" class=\"data row2 col9\" >3</td>\n",
       "      <td id=\"T_8b5f6_row2_col10\" class=\"data row2 col10\" > </td>\n",
       "      <td id=\"T_8b5f6_row2_col11\" class=\"data row2 col11\" >0</td>\n",
       "      <td id=\"T_8b5f6_row2_col12\" class=\"data row2 col12\" >0.00%</td>\n",
       "    </tr>\n",
       "    <tr>\n",
       "      <th id=\"T_8b5f6_level0_row3\" class=\"row_heading level0 row3\" >3</th>\n",
       "      <td id=\"T_8b5f6_row3_col0\" class=\"data row3 col0\" >27 Feb 2024</td>\n",
       "      <td id=\"T_8b5f6_row3_col1\" class=\"data row3 col1\" >1</td>\n",
       "      <td id=\"T_8b5f6_row3_col2\" class=\"data row3 col2\" >1-1</td>\n",
       "      <td id=\"T_8b5f6_row3_col3\" class=\"data row3 col3\" >LAODA</td>\n",
       "      <td id=\"T_8b5f6_row3_col4\" class=\"data row3 col4\" >LAODA</td>\n",
       "      <td id=\"T_8b5f6_row3_col5\" class=\"data row3 col5\" >10,011,795</td>\n",
       "      <td id=\"T_8b5f6_row3_col6\" class=\"data row3 col6\" >10,011,795</td>\n",
       "      <td id=\"T_8b5f6_row3_col7\" class=\"data row3 col7\" >4</td>\n",
       "      <td id=\"T_8b5f6_row3_col8\" class=\"data row3 col8\" > </td>\n",
       "      <td id=\"T_8b5f6_row3_col9\" class=\"data row3 col9\" >4</td>\n",
       "      <td id=\"T_8b5f6_row3_col10\" class=\"data row3 col10\" > </td>\n",
       "      <td id=\"T_8b5f6_row3_col11\" class=\"data row3 col11\" >0</td>\n",
       "      <td id=\"T_8b5f6_row3_col12\" class=\"data row3 col12\" >0.00%</td>\n",
       "    </tr>\n",
       "    <tr>\n",
       "      <th id=\"T_8b5f6_level0_row4\" class=\"row_heading level0 row4\" >4</th>\n",
       "      <td id=\"T_8b5f6_row4_col0\" class=\"data row4 col0\" >27 Feb 2024</td>\n",
       "      <td id=\"T_8b5f6_row4_col1\" class=\"data row4 col1\" >1</td>\n",
       "      <td id=\"T_8b5f6_row4_col2\" class=\"data row4 col2\" >1-1</td>\n",
       "      <td id=\"T_8b5f6_row4_col3\" class=\"data row4 col3\" >미라클</td>\n",
       "      <td id=\"T_8b5f6_row4_col4\" class=\"data row4 col4\" >미라클 (miracle)</td>\n",
       "      <td id=\"T_8b5f6_row4_col5\" class=\"data row4 col5\" >9,930,645</td>\n",
       "      <td id=\"T_8b5f6_row4_col6\" class=\"data row4 col6\" >9,930,645</td>\n",
       "      <td id=\"T_8b5f6_row4_col7\" class=\"data row4 col7\" >5</td>\n",
       "      <td id=\"T_8b5f6_row4_col8\" class=\"data row4 col8\" > </td>\n",
       "      <td id=\"T_8b5f6_row4_col9\" class=\"data row4 col9\" >5</td>\n",
       "      <td id=\"T_8b5f6_row4_col10\" class=\"data row4 col10\" > </td>\n",
       "      <td id=\"T_8b5f6_row4_col11\" class=\"data row4 col11\" >0</td>\n",
       "      <td id=\"T_8b5f6_row4_col12\" class=\"data row4 col12\" >0.00%</td>\n",
       "    </tr>\n",
       "    <tr>\n",
       "      <th id=\"T_8b5f6_level0_row5\" class=\"row_heading level0 row5\" >5</th>\n",
       "      <td id=\"T_8b5f6_row5_col0\" class=\"data row5 col0\" >27 Feb 2024</td>\n",
       "      <td id=\"T_8b5f6_row5_col1\" class=\"data row5 col1\" >1</td>\n",
       "      <td id=\"T_8b5f6_row5_col2\" class=\"data row5 col2\" >1-1</td>\n",
       "      <td id=\"T_8b5f6_row5_col3\" class=\"data row5 col3\" >님</td>\n",
       "      <td id=\"T_8b5f6_row5_col4\" class=\"data row5 col4\" >님 (nim)</td>\n",
       "      <td id=\"T_8b5f6_row5_col5\" class=\"data row5 col5\" >9,688,065</td>\n",
       "      <td id=\"T_8b5f6_row5_col6\" class=\"data row5 col6\" >9,688,065</td>\n",
       "      <td id=\"T_8b5f6_row5_col7\" class=\"data row5 col7\" >6</td>\n",
       "      <td id=\"T_8b5f6_row5_col8\" class=\"data row5 col8\" > </td>\n",
       "      <td id=\"T_8b5f6_row5_col9\" class=\"data row5 col9\" >6</td>\n",
       "      <td id=\"T_8b5f6_row5_col10\" class=\"data row5 col10\" > </td>\n",
       "      <td id=\"T_8b5f6_row5_col11\" class=\"data row5 col11\" >0</td>\n",
       "      <td id=\"T_8b5f6_row5_col12\" class=\"data row5 col12\" >0.00%</td>\n",
       "    </tr>\n",
       "    <tr>\n",
       "      <th id=\"T_8b5f6_level0_row6\" class=\"row_heading level0 row6\" >6</th>\n",
       "      <td id=\"T_8b5f6_row6_col0\" class=\"data row6 col0\" >27 Feb 2024</td>\n",
       "      <td id=\"T_8b5f6_row6_col1\" class=\"data row6 col1\" >1</td>\n",
       "      <td id=\"T_8b5f6_row6_col2\" class=\"data row6 col2\" >1-1</td>\n",
       "      <td id=\"T_8b5f6_row6_col3\" class=\"data row6 col3\" >오로라</td>\n",
       "      <td id=\"T_8b5f6_row6_col4\" class=\"data row6 col4\" >오로라 (aurora)</td>\n",
       "      <td id=\"T_8b5f6_row6_col5\" class=\"data row6 col5\" >9,677,210</td>\n",
       "      <td id=\"T_8b5f6_row6_col6\" class=\"data row6 col6\" >9,677,210</td>\n",
       "      <td id=\"T_8b5f6_row6_col7\" class=\"data row6 col7\" >7</td>\n",
       "      <td id=\"T_8b5f6_row6_col8\" class=\"data row6 col8\" > </td>\n",
       "      <td id=\"T_8b5f6_row6_col9\" class=\"data row6 col9\" >7</td>\n",
       "      <td id=\"T_8b5f6_row6_col10\" class=\"data row6 col10\" > </td>\n",
       "      <td id=\"T_8b5f6_row6_col11\" class=\"data row6 col11\" >0</td>\n",
       "      <td id=\"T_8b5f6_row6_col12\" class=\"data row6 col12\" >0.00%</td>\n",
       "    </tr>\n",
       "    <tr>\n",
       "      <th id=\"T_8b5f6_level0_row7\" class=\"row_heading level0 row7\" >7</th>\n",
       "      <td id=\"T_8b5f6_row7_col0\" class=\"data row7 col0\" >27 Feb 2024</td>\n",
       "      <td id=\"T_8b5f6_row7_col1\" class=\"data row7 col1\" >1</td>\n",
       "      <td id=\"T_8b5f6_row7_col2\" class=\"data row7 col2\" >1-1</td>\n",
       "      <td id=\"T_8b5f6_row7_col3\" class=\"data row7 col3\" >Crown</td>\n",
       "      <td id=\"T_8b5f6_row7_col4\" class=\"data row7 col4\" >Crown</td>\n",
       "      <td id=\"T_8b5f6_row7_col5\" class=\"data row7 col5\" >9,591,650</td>\n",
       "      <td id=\"T_8b5f6_row7_col6\" class=\"data row7 col6\" >9,591,650</td>\n",
       "      <td id=\"T_8b5f6_row7_col7\" class=\"data row7 col7\" >8</td>\n",
       "      <td id=\"T_8b5f6_row7_col8\" class=\"data row7 col8\" > </td>\n",
       "      <td id=\"T_8b5f6_row7_col9\" class=\"data row7 col9\" >8</td>\n",
       "      <td id=\"T_8b5f6_row7_col10\" class=\"data row7 col10\" > </td>\n",
       "      <td id=\"T_8b5f6_row7_col11\" class=\"data row7 col11\" >0</td>\n",
       "      <td id=\"T_8b5f6_row7_col12\" class=\"data row7 col12\" >0.00%</td>\n",
       "    </tr>\n",
       "    <tr>\n",
       "      <th id=\"T_8b5f6_level0_row8\" class=\"row_heading level0 row8\" >8</th>\n",
       "      <td id=\"T_8b5f6_row8_col0\" class=\"data row8 col0\" >27 Feb 2024</td>\n",
       "      <td id=\"T_8b5f6_row8_col1\" class=\"data row8 col1\" >1</td>\n",
       "      <td id=\"T_8b5f6_row8_col2\" class=\"data row8 col2\" >1-1</td>\n",
       "      <td id=\"T_8b5f6_row8_col3\" class=\"data row8 col3\" >무야호</td>\n",
       "      <td id=\"T_8b5f6_row8_col4\" class=\"data row8 col4\" >무야호 (mu-ya-ho)</td>\n",
       "      <td id=\"T_8b5f6_row8_col5\" class=\"data row8 col5\" >9,525,015</td>\n",
       "      <td id=\"T_8b5f6_row8_col6\" class=\"data row8 col6\" >9,525,015</td>\n",
       "      <td id=\"T_8b5f6_row8_col7\" class=\"data row8 col7\" >9</td>\n",
       "      <td id=\"T_8b5f6_row8_col8\" class=\"data row8 col8\" > </td>\n",
       "      <td id=\"T_8b5f6_row8_col9\" class=\"data row8 col9\" >9</td>\n",
       "      <td id=\"T_8b5f6_row8_col10\" class=\"data row8 col10\" > </td>\n",
       "      <td id=\"T_8b5f6_row8_col11\" class=\"data row8 col11\" >0</td>\n",
       "      <td id=\"T_8b5f6_row8_col12\" class=\"data row8 col12\" >0.00%</td>\n",
       "    </tr>\n",
       "    <tr>\n",
       "      <th id=\"T_8b5f6_level0_row9\" class=\"row_heading level0 row9\" >9</th>\n",
       "      <td id=\"T_8b5f6_row9_col0\" class=\"data row9 col0\" >27 Feb 2024</td>\n",
       "      <td id=\"T_8b5f6_row9_col1\" class=\"data row9 col1\" >1</td>\n",
       "      <td id=\"T_8b5f6_row9_col2\" class=\"data row9 col2\" >1-1</td>\n",
       "      <td id=\"T_8b5f6_row9_col3\" class=\"data row9 col3\" >열매</td>\n",
       "      <td id=\"T_8b5f6_row9_col4\" class=\"data row9 col4\" >열매 (yeol-mae)</td>\n",
       "      <td id=\"T_8b5f6_row9_col5\" class=\"data row9 col5\" >9,516,665</td>\n",
       "      <td id=\"T_8b5f6_row9_col6\" class=\"data row9 col6\" >9,516,665</td>\n",
       "      <td id=\"T_8b5f6_row9_col7\" class=\"data row9 col7\" >10</td>\n",
       "      <td id=\"T_8b5f6_row9_col8\" class=\"data row9 col8\" > </td>\n",
       "      <td id=\"T_8b5f6_row9_col9\" class=\"data row9 col9\" >10</td>\n",
       "      <td id=\"T_8b5f6_row9_col10\" class=\"data row9 col10\" > </td>\n",
       "      <td id=\"T_8b5f6_row9_col11\" class=\"data row9 col11\" >0</td>\n",
       "      <td id=\"T_8b5f6_row9_col12\" class=\"data row9 col12\" >0.00%</td>\n",
       "    </tr>\n",
       "    <tr>\n",
       "      <th id=\"T_8b5f6_level0_row10\" class=\"row_heading level0 row10\" >10</th>\n",
       "      <td id=\"T_8b5f6_row10_col0\" class=\"data row10 col0\" >27 Feb 2024</td>\n",
       "      <td id=\"T_8b5f6_row10_col1\" class=\"data row10 col1\" >1</td>\n",
       "      <td id=\"T_8b5f6_row10_col2\" class=\"data row10 col2\" >1-1</td>\n",
       "      <td id=\"T_8b5f6_row10_col3\" class=\"data row10 col3\" >MolochTH</td>\n",
       "      <td id=\"T_8b5f6_row10_col4\" class=\"data row10 col4\" >MolochTH</td>\n",
       "      <td id=\"T_8b5f6_row10_col5\" class=\"data row10 col5\" >9,356,625</td>\n",
       "      <td id=\"T_8b5f6_row10_col6\" class=\"data row10 col6\" >9,356,625</td>\n",
       "      <td id=\"T_8b5f6_row10_col7\" class=\"data row10 col7\" >11</td>\n",
       "      <td id=\"T_8b5f6_row10_col8\" class=\"data row10 col8\" > </td>\n",
       "      <td id=\"T_8b5f6_row10_col9\" class=\"data row10 col9\" >11</td>\n",
       "      <td id=\"T_8b5f6_row10_col10\" class=\"data row10 col10\" > </td>\n",
       "      <td id=\"T_8b5f6_row10_col11\" class=\"data row10 col11\" >0</td>\n",
       "      <td id=\"T_8b5f6_row10_col12\" class=\"data row10 col12\" >0.00%</td>\n",
       "    </tr>\n",
       "    <tr>\n",
       "      <th id=\"T_8b5f6_level0_row11\" class=\"row_heading level0 row11\" >11</th>\n",
       "      <td id=\"T_8b5f6_row11_col0\" class=\"data row11 col0\" >27 Feb 2024</td>\n",
       "      <td id=\"T_8b5f6_row11_col1\" class=\"data row11 col1\" >1</td>\n",
       "      <td id=\"T_8b5f6_row11_col2\" class=\"data row11 col2\" >1-1</td>\n",
       "      <td id=\"T_8b5f6_row11_col3\" class=\"data row11 col3\" >MyTH</td>\n",
       "      <td id=\"T_8b5f6_row11_col4\" class=\"data row11 col4\" >MyTH</td>\n",
       "      <td id=\"T_8b5f6_row11_col5\" class=\"data row11 col5\" >9,351,425</td>\n",
       "      <td id=\"T_8b5f6_row11_col6\" class=\"data row11 col6\" >9,351,425</td>\n",
       "      <td id=\"T_8b5f6_row11_col7\" class=\"data row11 col7\" >12</td>\n",
       "      <td id=\"T_8b5f6_row11_col8\" class=\"data row11 col8\" > </td>\n",
       "      <td id=\"T_8b5f6_row11_col9\" class=\"data row11 col9\" >12</td>\n",
       "      <td id=\"T_8b5f6_row11_col10\" class=\"data row11 col10\" > </td>\n",
       "      <td id=\"T_8b5f6_row11_col11\" class=\"data row11 col11\" >0</td>\n",
       "      <td id=\"T_8b5f6_row11_col12\" class=\"data row11 col12\" >0.00%</td>\n",
       "    </tr>\n",
       "    <tr>\n",
       "      <th id=\"T_8b5f6_level0_row12\" class=\"row_heading level0 row12\" >12</th>\n",
       "      <td id=\"T_8b5f6_row12_col0\" class=\"data row12 col0\" >27 Feb 2024</td>\n",
       "      <td id=\"T_8b5f6_row12_col1\" class=\"data row12 col1\" >1</td>\n",
       "      <td id=\"T_8b5f6_row12_col2\" class=\"data row12 col2\" >1-1</td>\n",
       "      <td id=\"T_8b5f6_row12_col3\" class=\"data row12 col3\" >이지스</td>\n",
       "      <td id=\"T_8b5f6_row12_col4\" class=\"data row12 col4\" >이지스 (aegis)</td>\n",
       "      <td id=\"T_8b5f6_row12_col5\" class=\"data row12 col5\" >9,286,600</td>\n",
       "      <td id=\"T_8b5f6_row12_col6\" class=\"data row12 col6\" >9,286,600</td>\n",
       "      <td id=\"T_8b5f6_row12_col7\" class=\"data row12 col7\" >13</td>\n",
       "      <td id=\"T_8b5f6_row12_col8\" class=\"data row12 col8\" > </td>\n",
       "      <td id=\"T_8b5f6_row12_col9\" class=\"data row12 col9\" >13</td>\n",
       "      <td id=\"T_8b5f6_row12_col10\" class=\"data row12 col10\" > </td>\n",
       "      <td id=\"T_8b5f6_row12_col11\" class=\"data row12 col11\" >0</td>\n",
       "      <td id=\"T_8b5f6_row12_col12\" class=\"data row12 col12\" >0.00%</td>\n",
       "    </tr>\n",
       "    <tr>\n",
       "      <th id=\"T_8b5f6_level0_row13\" class=\"row_heading level0 row13\" >13</th>\n",
       "      <td id=\"T_8b5f6_row13_col0\" class=\"data row13 col0\" >27 Feb 2024</td>\n",
       "      <td id=\"T_8b5f6_row13_col1\" class=\"data row13 col1\" >1</td>\n",
       "      <td id=\"T_8b5f6_row13_col2\" class=\"data row13 col2\" >1-1</td>\n",
       "      <td id=\"T_8b5f6_row13_col3\" class=\"data row13 col3\" >재난경보</td>\n",
       "      <td id=\"T_8b5f6_row13_col4\" class=\"data row13 col4\" >재난경보 (jae-nan-gyeong-bo)</td>\n",
       "      <td id=\"T_8b5f6_row13_col5\" class=\"data row13 col5\" >9,201,780</td>\n",
       "      <td id=\"T_8b5f6_row13_col6\" class=\"data row13 col6\" >9,201,780</td>\n",
       "      <td id=\"T_8b5f6_row13_col7\" class=\"data row13 col7\" >14</td>\n",
       "      <td id=\"T_8b5f6_row13_col8\" class=\"data row13 col8\" > </td>\n",
       "      <td id=\"T_8b5f6_row13_col9\" class=\"data row13 col9\" >14</td>\n",
       "      <td id=\"T_8b5f6_row13_col10\" class=\"data row13 col10\" > </td>\n",
       "      <td id=\"T_8b5f6_row13_col11\" class=\"data row13 col11\" >0</td>\n",
       "      <td id=\"T_8b5f6_row13_col12\" class=\"data row13 col12\" >0.00%</td>\n",
       "    </tr>\n",
       "    <tr>\n",
       "      <th id=\"T_8b5f6_level0_row14\" class=\"row_heading level0 row14\" >14</th>\n",
       "      <td id=\"T_8b5f6_row14_col0\" class=\"data row14 col0\" >27 Feb 2024</td>\n",
       "      <td id=\"T_8b5f6_row14_col1\" class=\"data row14 col1\" >1</td>\n",
       "      <td id=\"T_8b5f6_row14_col2\" class=\"data row14 col2\" >1-1</td>\n",
       "      <td id=\"T_8b5f6_row14_col3\" class=\"data row14 col3\" >Peppermint</td>\n",
       "      <td id=\"T_8b5f6_row14_col4\" class=\"data row14 col4\" >Peppermint</td>\n",
       "      <td id=\"T_8b5f6_row14_col5\" class=\"data row14 col5\" >8,974,230</td>\n",
       "      <td id=\"T_8b5f6_row14_col6\" class=\"data row14 col6\" >8,974,230</td>\n",
       "      <td id=\"T_8b5f6_row14_col7\" class=\"data row14 col7\" >15</td>\n",
       "      <td id=\"T_8b5f6_row14_col8\" class=\"data row14 col8\" > </td>\n",
       "      <td id=\"T_8b5f6_row14_col9\" class=\"data row14 col9\" >15</td>\n",
       "      <td id=\"T_8b5f6_row14_col10\" class=\"data row14 col10\" > </td>\n",
       "      <td id=\"T_8b5f6_row14_col11\" class=\"data row14 col11\" >0</td>\n",
       "      <td id=\"T_8b5f6_row14_col12\" class=\"data row14 col12\" >0.00%</td>\n",
       "    </tr>\n",
       "    <tr>\n",
       "      <th id=\"T_8b5f6_level0_row15\" class=\"row_heading level0 row15\" >15</th>\n",
       "      <td id=\"T_8b5f6_row15_col0\" class=\"data row15 col0\" >27 Feb 2024</td>\n",
       "      <td id=\"T_8b5f6_row15_col1\" class=\"data row15 col1\" >1</td>\n",
       "      <td id=\"T_8b5f6_row15_col2\" class=\"data row15 col2\" >1-1</td>\n",
       "      <td id=\"T_8b5f6_row15_col3\" class=\"data row15 col3\" >사혼</td>\n",
       "      <td id=\"T_8b5f6_row15_col4\" class=\"data row15 col4\" >사혼 (sa-hon)</td>\n",
       "      <td id=\"T_8b5f6_row15_col5\" class=\"data row15 col5\" >8,530,020</td>\n",
       "      <td id=\"T_8b5f6_row15_col6\" class=\"data row15 col6\" >8,530,020</td>\n",
       "      <td id=\"T_8b5f6_row15_col7\" class=\"data row15 col7\" >16</td>\n",
       "      <td id=\"T_8b5f6_row15_col8\" class=\"data row15 col8\" > </td>\n",
       "      <td id=\"T_8b5f6_row15_col9\" class=\"data row15 col9\" >16</td>\n",
       "      <td id=\"T_8b5f6_row15_col10\" class=\"data row15 col10\" > </td>\n",
       "      <td id=\"T_8b5f6_row15_col11\" class=\"data row15 col11\" >0</td>\n",
       "      <td id=\"T_8b5f6_row15_col12\" class=\"data row15 col12\" >0.00%</td>\n",
       "    </tr>\n",
       "    <tr>\n",
       "      <th id=\"T_8b5f6_level0_row16\" class=\"row_heading level0 row16\" >16</th>\n",
       "      <td id=\"T_8b5f6_row16_col0\" class=\"data row16 col0\" >27 Feb 2024</td>\n",
       "      <td id=\"T_8b5f6_row16_col1\" class=\"data row16 col1\" >1</td>\n",
       "      <td id=\"T_8b5f6_row16_col2\" class=\"data row16 col2\" >1-1</td>\n",
       "      <td id=\"T_8b5f6_row16_col3\" class=\"data row16 col3\" >Nigiri</td>\n",
       "      <td id=\"T_8b5f6_row16_col4\" class=\"data row16 col4\" >Nigiri</td>\n",
       "      <td id=\"T_8b5f6_row16_col5\" class=\"data row16 col5\" >8,445,275</td>\n",
       "      <td id=\"T_8b5f6_row16_col6\" class=\"data row16 col6\" >8,445,275</td>\n",
       "      <td id=\"T_8b5f6_row16_col7\" class=\"data row16 col7\" >17</td>\n",
       "      <td id=\"T_8b5f6_row16_col8\" class=\"data row16 col8\" > </td>\n",
       "      <td id=\"T_8b5f6_row16_col9\" class=\"data row16 col9\" >17</td>\n",
       "      <td id=\"T_8b5f6_row16_col10\" class=\"data row16 col10\" > </td>\n",
       "      <td id=\"T_8b5f6_row16_col11\" class=\"data row16 col11\" >0</td>\n",
       "      <td id=\"T_8b5f6_row16_col12\" class=\"data row16 col12\" >0.00%</td>\n",
       "    </tr>\n",
       "    <tr>\n",
       "      <th id=\"T_8b5f6_level0_row17\" class=\"row_heading level0 row17\" >17</th>\n",
       "      <td id=\"T_8b5f6_row17_col0\" class=\"data row17 col0\" >27 Feb 2024</td>\n",
       "      <td id=\"T_8b5f6_row17_col1\" class=\"data row17 col1\" >1</td>\n",
       "      <td id=\"T_8b5f6_row17_col2\" class=\"data row17 col2\" >1-1</td>\n",
       "      <td id=\"T_8b5f6_row17_col3\" class=\"data row17 col3\" >S7AR</td>\n",
       "      <td id=\"T_8b5f6_row17_col4\" class=\"data row17 col4\" >S7AR</td>\n",
       "      <td id=\"T_8b5f6_row17_col5\" class=\"data row17 col5\" >8,439,280</td>\n",
       "      <td id=\"T_8b5f6_row17_col6\" class=\"data row17 col6\" >8,439,280</td>\n",
       "      <td id=\"T_8b5f6_row17_col7\" class=\"data row17 col7\" >18</td>\n",
       "      <td id=\"T_8b5f6_row17_col8\" class=\"data row17 col8\" > </td>\n",
       "      <td id=\"T_8b5f6_row17_col9\" class=\"data row17 col9\" >18</td>\n",
       "      <td id=\"T_8b5f6_row17_col10\" class=\"data row17 col10\" > </td>\n",
       "      <td id=\"T_8b5f6_row17_col11\" class=\"data row17 col11\" >0</td>\n",
       "      <td id=\"T_8b5f6_row17_col12\" class=\"data row17 col12\" >0.00%</td>\n",
       "    </tr>\n",
       "    <tr>\n",
       "      <th id=\"T_8b5f6_level0_row18\" class=\"row_heading level0 row18\" >18</th>\n",
       "      <td id=\"T_8b5f6_row18_col0\" class=\"data row18 col0\" >27 Feb 2024</td>\n",
       "      <td id=\"T_8b5f6_row18_col1\" class=\"data row18 col1\" >1</td>\n",
       "      <td id=\"T_8b5f6_row18_col2\" class=\"data row18 col2\" >1-1</td>\n",
       "      <td id=\"T_8b5f6_row18_col3\" class=\"data row18 col3\" >DEKWAT</td>\n",
       "      <td id=\"T_8b5f6_row18_col4\" class=\"data row18 col4\" >DEKWAT</td>\n",
       "      <td id=\"T_8b5f6_row18_col5\" class=\"data row18 col5\" >8,241,380</td>\n",
       "      <td id=\"T_8b5f6_row18_col6\" class=\"data row18 col6\" >8,241,380</td>\n",
       "      <td id=\"T_8b5f6_row18_col7\" class=\"data row18 col7\" >19</td>\n",
       "      <td id=\"T_8b5f6_row18_col8\" class=\"data row18 col8\" > </td>\n",
       "      <td id=\"T_8b5f6_row18_col9\" class=\"data row18 col9\" >19</td>\n",
       "      <td id=\"T_8b5f6_row18_col10\" class=\"data row18 col10\" > </td>\n",
       "      <td id=\"T_8b5f6_row18_col11\" class=\"data row18 col11\" >0</td>\n",
       "      <td id=\"T_8b5f6_row18_col12\" class=\"data row18 col12\" >0.00%</td>\n",
       "    </tr>\n",
       "    <tr>\n",
       "      <th id=\"T_8b5f6_level0_row19\" class=\"row_heading level0 row19\" >19</th>\n",
       "      <td id=\"T_8b5f6_row19_col0\" class=\"data row19 col0\" >27 Feb 2024</td>\n",
       "      <td id=\"T_8b5f6_row19_col1\" class=\"data row19 col1\" >1</td>\n",
       "      <td id=\"T_8b5f6_row19_col2\" class=\"data row19 col2\" >1-1</td>\n",
       "      <td id=\"T_8b5f6_row19_col3\" class=\"data row19 col3\" >쿠벤저스</td>\n",
       "      <td id=\"T_8b5f6_row19_col4\" class=\"data row19 col4\" >쿠벤저스 (cubengers)</td>\n",
       "      <td id=\"T_8b5f6_row19_col5\" class=\"data row19 col5\" >8,157,340</td>\n",
       "      <td id=\"T_8b5f6_row19_col6\" class=\"data row19 col6\" >8,157,340</td>\n",
       "      <td id=\"T_8b5f6_row19_col7\" class=\"data row19 col7\" >20</td>\n",
       "      <td id=\"T_8b5f6_row19_col8\" class=\"data row19 col8\" > </td>\n",
       "      <td id=\"T_8b5f6_row19_col9\" class=\"data row19 col9\" >20</td>\n",
       "      <td id=\"T_8b5f6_row19_col10\" class=\"data row19 col10\" > </td>\n",
       "      <td id=\"T_8b5f6_row19_col11\" class=\"data row19 col11\" >0</td>\n",
       "      <td id=\"T_8b5f6_row19_col12\" class=\"data row19 col12\" >0.00%</td>\n",
       "    </tr>\n",
       "    <tr>\n",
       "      <th id=\"T_8b5f6_level0_row20\" class=\"row_heading level0 row20\" >20</th>\n",
       "      <td id=\"T_8b5f6_row20_col0\" class=\"data row20 col0\" >27 Feb 2024</td>\n",
       "      <td id=\"T_8b5f6_row20_col1\" class=\"data row20 col1\" >1</td>\n",
       "      <td id=\"T_8b5f6_row20_col2\" class=\"data row20 col2\" >1-1</td>\n",
       "      <td id=\"T_8b5f6_row20_col3\" class=\"data row20 col3\" >Nobility</td>\n",
       "      <td id=\"T_8b5f6_row20_col4\" class=\"data row20 col4\" >Nobility</td>\n",
       "      <td id=\"T_8b5f6_row20_col5\" class=\"data row20 col5\" >8,022,685</td>\n",
       "      <td id=\"T_8b5f6_row20_col6\" class=\"data row20 col6\" >8,022,685</td>\n",
       "      <td id=\"T_8b5f6_row20_col7\" class=\"data row20 col7\" >21</td>\n",
       "      <td id=\"T_8b5f6_row20_col8\" class=\"data row20 col8\" > </td>\n",
       "      <td id=\"T_8b5f6_row20_col9\" class=\"data row20 col9\" >22</td>\n",
       "      <td id=\"T_8b5f6_row20_col10\" class=\"data row20 col10\" > </td>\n",
       "      <td id=\"T_8b5f6_row20_col11\" class=\"data row20 col11\" >0</td>\n",
       "      <td id=\"T_8b5f6_row20_col12\" class=\"data row20 col12\" >0.00%</td>\n",
       "    </tr>\n",
       "    <tr>\n",
       "      <th id=\"T_8b5f6_level0_row21\" class=\"row_heading level0 row21\" >21</th>\n",
       "      <td id=\"T_8b5f6_row21_col0\" class=\"data row21 col0\" >05 Mar 2024</td>\n",
       "      <td id=\"T_8b5f6_row21_col1\" class=\"data row21 col1\" >1</td>\n",
       "      <td id=\"T_8b5f6_row21_col2\" class=\"data row21 col2\" >1-2</td>\n",
       "      <td id=\"T_8b5f6_row21_col3\" class=\"data row21 col3\" >Spearmint</td>\n",
       "      <td id=\"T_8b5f6_row21_col4\" class=\"data row21 col4\" >Spearmint</td>\n",
       "      <td id=\"T_8b5f6_row21_col5\" class=\"data row21 col5\" >10,692,545</td>\n",
       "      <td id=\"T_8b5f6_row21_col6\" class=\"data row21 col6\" >21,205,735</td>\n",
       "      <td id=\"T_8b5f6_row21_col7\" class=\"data row21 col7\" >1</td>\n",
       "      <td id=\"T_8b5f6_row21_col8\" class=\"data row21 col8\" > </td>\n",
       "      <td id=\"T_8b5f6_row21_col9\" class=\"data row21 col9\" >1</td>\n",
       "      <td id=\"T_8b5f6_row21_col10\" class=\"data row21 col10\" > </td>\n",
       "      <td id=\"T_8b5f6_row21_col11\" class=\"data row21 col11\" >179,355</td>\n",
       "      <td id=\"T_8b5f6_row21_col12\" class=\"data row21 col12\" >1.71%</td>\n",
       "    </tr>\n",
       "    <tr>\n",
       "      <th id=\"T_8b5f6_level0_row22\" class=\"row_heading level0 row22\" >22</th>\n",
       "      <td id=\"T_8b5f6_row22_col0\" class=\"data row22 col0\" >05 Mar 2024</td>\n",
       "      <td id=\"T_8b5f6_row22_col1\" class=\"data row22 col1\" >1</td>\n",
       "      <td id=\"T_8b5f6_row22_col2\" class=\"data row22 col2\" >1-2</td>\n",
       "      <td id=\"T_8b5f6_row22_col3\" class=\"data row22 col3\" >Vivid</td>\n",
       "      <td id=\"T_8b5f6_row22_col4\" class=\"data row22 col4\" >Vivid</td>\n",
       "      <td id=\"T_8b5f6_row22_col5\" class=\"data row22 col5\" >10,598,695</td>\n",
       "      <td id=\"T_8b5f6_row22_col6\" class=\"data row22 col6\" >21,109,635</td>\n",
       "      <td id=\"T_8b5f6_row22_col7\" class=\"data row22 col7\" >2</td>\n",
       "      <td id=\"T_8b5f6_row22_col8\" class=\"data row22 col8\" > </td>\n",
       "      <td id=\"T_8b5f6_row22_col9\" class=\"data row22 col9\" >2</td>\n",
       "      <td id=\"T_8b5f6_row22_col10\" class=\"data row22 col10\" > </td>\n",
       "      <td id=\"T_8b5f6_row22_col11\" class=\"data row22 col11\" >87,755</td>\n",
       "      <td id=\"T_8b5f6_row22_col12\" class=\"data row22 col12\" >0.83%</td>\n",
       "    </tr>\n",
       "    <tr>\n",
       "      <th id=\"T_8b5f6_level0_row23\" class=\"row_heading level0 row23\" >23</th>\n",
       "      <td id=\"T_8b5f6_row23_col0\" class=\"data row23 col0\" >05 Mar 2024</td>\n",
       "      <td id=\"T_8b5f6_row23_col1\" class=\"data row23 col1\" >1</td>\n",
       "      <td id=\"T_8b5f6_row23_col2\" class=\"data row23 col2\" >1-2</td>\n",
       "      <td id=\"T_8b5f6_row23_col3\" class=\"data row23 col3\" >Nobless</td>\n",
       "      <td id=\"T_8b5f6_row23_col4\" class=\"data row23 col4\" >Nobless</td>\n",
       "      <td id=\"T_8b5f6_row23_col5\" class=\"data row23 col5\" >10,259,645</td>\n",
       "      <td id=\"T_8b5f6_row23_col6\" class=\"data row23 col6\" >20,511,620</td>\n",
       "      <td id=\"T_8b5f6_row23_col7\" class=\"data row23 col7\" >3</td>\n",
       "      <td id=\"T_8b5f6_row23_col8\" class=\"data row23 col8\" > </td>\n",
       "      <td id=\"T_8b5f6_row23_col9\" class=\"data row23 col9\" >3</td>\n",
       "      <td id=\"T_8b5f6_row23_col10\" class=\"data row23 col10\" > </td>\n",
       "      <td id=\"T_8b5f6_row23_col11\" class=\"data row23 col11\" >7,670</td>\n",
       "      <td id=\"T_8b5f6_row23_col12\" class=\"data row23 col12\" >0.07%</td>\n",
       "    </tr>\n",
       "    <tr>\n",
       "      <th id=\"T_8b5f6_level0_row24\" class=\"row_heading level0 row24\" >24</th>\n",
       "      <td id=\"T_8b5f6_row24_col0\" class=\"data row24 col0\" >05 Mar 2024</td>\n",
       "      <td id=\"T_8b5f6_row24_col1\" class=\"data row24 col1\" >1</td>\n",
       "      <td id=\"T_8b5f6_row24_col2\" class=\"data row24 col2\" >1-2</td>\n",
       "      <td id=\"T_8b5f6_row24_col3\" class=\"data row24 col3\" >LAODA</td>\n",
       "      <td id=\"T_8b5f6_row24_col4\" class=\"data row24 col4\" >LAODA</td>\n",
       "      <td id=\"T_8b5f6_row24_col5\" class=\"data row24 col5\" >10,091,870</td>\n",
       "      <td id=\"T_8b5f6_row24_col6\" class=\"data row24 col6\" >20,103,665</td>\n",
       "      <td id=\"T_8b5f6_row24_col7\" class=\"data row24 col7\" >5</td>\n",
       "      <td id=\"T_8b5f6_row24_col8\" class=\"data row24 col8\" > ▼1</td>\n",
       "      <td id=\"T_8b5f6_row24_col9\" class=\"data row24 col9\" >4</td>\n",
       "      <td id=\"T_8b5f6_row24_col10\" class=\"data row24 col10\" > </td>\n",
       "      <td id=\"T_8b5f6_row24_col11\" class=\"data row24 col11\" >80,075</td>\n",
       "      <td id=\"T_8b5f6_row24_col12\" class=\"data row24 col12\" >0.80%</td>\n",
       "    </tr>\n",
       "    <tr>\n",
       "      <th id=\"T_8b5f6_level0_row25\" class=\"row_heading level0 row25\" >25</th>\n",
       "      <td id=\"T_8b5f6_row25_col0\" class=\"data row25 col0\" >05 Mar 2024</td>\n",
       "      <td id=\"T_8b5f6_row25_col1\" class=\"data row25 col1\" >1</td>\n",
       "      <td id=\"T_8b5f6_row25_col2\" class=\"data row25 col2\" >1-2</td>\n",
       "      <td id=\"T_8b5f6_row25_col3\" class=\"data row25 col3\" >미라클</td>\n",
       "      <td id=\"T_8b5f6_row25_col4\" class=\"data row25 col4\" >미라클 (miracle)</td>\n",
       "      <td id=\"T_8b5f6_row25_col5\" class=\"data row25 col5\" >9,930,695</td>\n",
       "      <td id=\"T_8b5f6_row25_col6\" class=\"data row25 col6\" >19,861,340</td>\n",
       "      <td id=\"T_8b5f6_row25_col7\" class=\"data row25 col7\" >6</td>\n",
       "      <td id=\"T_8b5f6_row25_col8\" class=\"data row25 col8\" > ▼1</td>\n",
       "      <td id=\"T_8b5f6_row25_col9\" class=\"data row25 col9\" >5</td>\n",
       "      <td id=\"T_8b5f6_row25_col10\" class=\"data row25 col10\" > </td>\n",
       "      <td id=\"T_8b5f6_row25_col11\" class=\"data row25 col11\" >50</td>\n",
       "      <td id=\"T_8b5f6_row25_col12\" class=\"data row25 col12\" >0.00%</td>\n",
       "    </tr>\n",
       "    <tr>\n",
       "      <th id=\"T_8b5f6_level0_row26\" class=\"row_heading level0 row26\" >26</th>\n",
       "      <td id=\"T_8b5f6_row26_col0\" class=\"data row26 col0\" >05 Mar 2024</td>\n",
       "      <td id=\"T_8b5f6_row26_col1\" class=\"data row26 col1\" >1</td>\n",
       "      <td id=\"T_8b5f6_row26_col2\" class=\"data row26 col2\" >1-2</td>\n",
       "      <td id=\"T_8b5f6_row26_col3\" class=\"data row26 col3\" >님</td>\n",
       "      <td id=\"T_8b5f6_row26_col4\" class=\"data row26 col4\" >님 (nim)</td>\n",
       "      <td id=\"T_8b5f6_row26_col5\" class=\"data row26 col5\" >10,173,275</td>\n",
       "      <td id=\"T_8b5f6_row26_col6\" class=\"data row26 col6\" >19,861,340</td>\n",
       "      <td id=\"T_8b5f6_row26_col7\" class=\"data row26 col7\" >4</td>\n",
       "      <td id=\"T_8b5f6_row26_col8\" class=\"data row26 col8\" > ▲2</td>\n",
       "      <td id=\"T_8b5f6_row26_col9\" class=\"data row26 col9\" >6</td>\n",
       "      <td id=\"T_8b5f6_row26_col10\" class=\"data row26 col10\" > </td>\n",
       "      <td id=\"T_8b5f6_row26_col11\" class=\"data row26 col11\" >485,210</td>\n",
       "      <td id=\"T_8b5f6_row26_col12\" class=\"data row26 col12\" >5.01%</td>\n",
       "    </tr>\n",
       "    <tr>\n",
       "      <th id=\"T_8b5f6_level0_row27\" class=\"row_heading level0 row27\" >27</th>\n",
       "      <td id=\"T_8b5f6_row27_col0\" class=\"data row27 col0\" >05 Mar 2024</td>\n",
       "      <td id=\"T_8b5f6_row27_col1\" class=\"data row27 col1\" >1</td>\n",
       "      <td id=\"T_8b5f6_row27_col2\" class=\"data row27 col2\" >1-2</td>\n",
       "      <td id=\"T_8b5f6_row27_col3\" class=\"data row27 col3\" >Crown</td>\n",
       "      <td id=\"T_8b5f6_row27_col4\" class=\"data row27 col4\" >Crown</td>\n",
       "      <td id=\"T_8b5f6_row27_col5\" class=\"data row27 col5\" >9,836,010</td>\n",
       "      <td id=\"T_8b5f6_row27_col6\" class=\"data row27 col6\" >19,427,660</td>\n",
       "      <td id=\"T_8b5f6_row27_col7\" class=\"data row27 col7\" >7</td>\n",
       "      <td id=\"T_8b5f6_row27_col8\" class=\"data row27 col8\" > ▲1</td>\n",
       "      <td id=\"T_8b5f6_row27_col9\" class=\"data row27 col9\" >7</td>\n",
       "      <td id=\"T_8b5f6_row27_col10\" class=\"data row27 col10\" > ▲1</td>\n",
       "      <td id=\"T_8b5f6_row27_col11\" class=\"data row27 col11\" >244,360</td>\n",
       "      <td id=\"T_8b5f6_row27_col12\" class=\"data row27 col12\" >2.55%</td>\n",
       "    </tr>\n",
       "    <tr>\n",
       "      <th id=\"T_8b5f6_level0_row28\" class=\"row_heading level0 row28\" >28</th>\n",
       "      <td id=\"T_8b5f6_row28_col0\" class=\"data row28 col0\" >05 Mar 2024</td>\n",
       "      <td id=\"T_8b5f6_row28_col1\" class=\"data row28 col1\" >1</td>\n",
       "      <td id=\"T_8b5f6_row28_col2\" class=\"data row28 col2\" >1-2</td>\n",
       "      <td id=\"T_8b5f6_row28_col3\" class=\"data row28 col3\" >오로라</td>\n",
       "      <td id=\"T_8b5f6_row28_col4\" class=\"data row28 col4\" >오로라 (aurora)</td>\n",
       "      <td id=\"T_8b5f6_row28_col5\" class=\"data row28 col5\" >9,682,900</td>\n",
       "      <td id=\"T_8b5f6_row28_col6\" class=\"data row28 col6\" >19,360,110</td>\n",
       "      <td id=\"T_8b5f6_row28_col7\" class=\"data row28 col7\" >9</td>\n",
       "      <td id=\"T_8b5f6_row28_col8\" class=\"data row28 col8\" > ▼2</td>\n",
       "      <td id=\"T_8b5f6_row28_col9\" class=\"data row28 col9\" >8</td>\n",
       "      <td id=\"T_8b5f6_row28_col10\" class=\"data row28 col10\" > ▼1</td>\n",
       "      <td id=\"T_8b5f6_row28_col11\" class=\"data row28 col11\" >5,690</td>\n",
       "      <td id=\"T_8b5f6_row28_col12\" class=\"data row28 col12\" >0.06%</td>\n",
       "    </tr>\n",
       "    <tr>\n",
       "      <th id=\"T_8b5f6_level0_row29\" class=\"row_heading level0 row29\" >29</th>\n",
       "      <td id=\"T_8b5f6_row29_col0\" class=\"data row29 col0\" >05 Mar 2024</td>\n",
       "      <td id=\"T_8b5f6_row29_col1\" class=\"data row29 col1\" >1</td>\n",
       "      <td id=\"T_8b5f6_row29_col2\" class=\"data row29 col2\" >1-2</td>\n",
       "      <td id=\"T_8b5f6_row29_col3\" class=\"data row29 col3\" >열매</td>\n",
       "      <td id=\"T_8b5f6_row29_col4\" class=\"data row29 col4\" >열매 (yeol-mae)</td>\n",
       "      <td id=\"T_8b5f6_row29_col5\" class=\"data row29 col5\" >9,683,165</td>\n",
       "      <td id=\"T_8b5f6_row29_col6\" class=\"data row29 col6\" >19,199,830</td>\n",
       "      <td id=\"T_8b5f6_row29_col7\" class=\"data row29 col7\" >8</td>\n",
       "      <td id=\"T_8b5f6_row29_col8\" class=\"data row29 col8\" > ▲2</td>\n",
       "      <td id=\"T_8b5f6_row29_col9\" class=\"data row29 col9\" >9</td>\n",
       "      <td id=\"T_8b5f6_row29_col10\" class=\"data row29 col10\" > ▲1</td>\n",
       "      <td id=\"T_8b5f6_row29_col11\" class=\"data row29 col11\" >166,500</td>\n",
       "      <td id=\"T_8b5f6_row29_col12\" class=\"data row29 col12\" >1.75%</td>\n",
       "    </tr>\n",
       "    <tr>\n",
       "      <th id=\"T_8b5f6_level0_row30\" class=\"row_heading level0 row30\" >30</th>\n",
       "      <td id=\"T_8b5f6_row30_col0\" class=\"data row30 col0\" >05 Mar 2024</td>\n",
       "      <td id=\"T_8b5f6_row30_col1\" class=\"data row30 col1\" >1</td>\n",
       "      <td id=\"T_8b5f6_row30_col2\" class=\"data row30 col2\" >1-2</td>\n",
       "      <td id=\"T_8b5f6_row30_col3\" class=\"data row30 col3\" >무야호</td>\n",
       "      <td id=\"T_8b5f6_row30_col4\" class=\"data row30 col4\" >무야호 (mu-ya-ho)</td>\n",
       "      <td id=\"T_8b5f6_row30_col5\" class=\"data row30 col5\" >9,613,965</td>\n",
       "      <td id=\"T_8b5f6_row30_col6\" class=\"data row30 col6\" >19,138,980</td>\n",
       "      <td id=\"T_8b5f6_row30_col7\" class=\"data row30 col7\" >10</td>\n",
       "      <td id=\"T_8b5f6_row30_col8\" class=\"data row30 col8\" > ▼1</td>\n",
       "      <td id=\"T_8b5f6_row30_col9\" class=\"data row30 col9\" >10</td>\n",
       "      <td id=\"T_8b5f6_row30_col10\" class=\"data row30 col10\" > ▼1</td>\n",
       "      <td id=\"T_8b5f6_row30_col11\" class=\"data row30 col11\" >88,950</td>\n",
       "      <td id=\"T_8b5f6_row30_col12\" class=\"data row30 col12\" >0.93%</td>\n",
       "    </tr>\n",
       "    <tr>\n",
       "      <th id=\"T_8b5f6_level0_row31\" class=\"row_heading level0 row31\" >31</th>\n",
       "      <td id=\"T_8b5f6_row31_col0\" class=\"data row31 col0\" >05 Mar 2024</td>\n",
       "      <td id=\"T_8b5f6_row31_col1\" class=\"data row31 col1\" >1</td>\n",
       "      <td id=\"T_8b5f6_row31_col2\" class=\"data row31 col2\" >1-2</td>\n",
       "      <td id=\"T_8b5f6_row31_col3\" class=\"data row31 col3\" >MolochTH</td>\n",
       "      <td id=\"T_8b5f6_row31_col4\" class=\"data row31 col4\" >MolochTH</td>\n",
       "      <td id=\"T_8b5f6_row31_col5\" class=\"data row31 col5\" >9,530,190</td>\n",
       "      <td id=\"T_8b5f6_row31_col6\" class=\"data row31 col6\" >18,886,815</td>\n",
       "      <td id=\"T_8b5f6_row31_col7\" class=\"data row31 col7\" >11</td>\n",
       "      <td id=\"T_8b5f6_row31_col8\" class=\"data row31 col8\" > </td>\n",
       "      <td id=\"T_8b5f6_row31_col9\" class=\"data row31 col9\" >11</td>\n",
       "      <td id=\"T_8b5f6_row31_col10\" class=\"data row31 col10\" > </td>\n",
       "      <td id=\"T_8b5f6_row31_col11\" class=\"data row31 col11\" >173,565</td>\n",
       "      <td id=\"T_8b5f6_row31_col12\" class=\"data row31 col12\" >1.85%</td>\n",
       "    </tr>\n",
       "    <tr>\n",
       "      <th id=\"T_8b5f6_level0_row32\" class=\"row_heading level0 row32\" >32</th>\n",
       "      <td id=\"T_8b5f6_row32_col0\" class=\"data row32 col0\" >05 Mar 2024</td>\n",
       "      <td id=\"T_8b5f6_row32_col1\" class=\"data row32 col1\" >1</td>\n",
       "      <td id=\"T_8b5f6_row32_col2\" class=\"data row32 col2\" >1-2</td>\n",
       "      <td id=\"T_8b5f6_row32_col3\" class=\"data row32 col3\" >MyTH</td>\n",
       "      <td id=\"T_8b5f6_row32_col4\" class=\"data row32 col4\" >MyTH</td>\n",
       "      <td id=\"T_8b5f6_row32_col5\" class=\"data row32 col5\" >9,522,435</td>\n",
       "      <td id=\"T_8b5f6_row32_col6\" class=\"data row32 col6\" >18,873,860</td>\n",
       "      <td id=\"T_8b5f6_row32_col7\" class=\"data row32 col7\" >12</td>\n",
       "      <td id=\"T_8b5f6_row32_col8\" class=\"data row32 col8\" > </td>\n",
       "      <td id=\"T_8b5f6_row32_col9\" class=\"data row32 col9\" >12</td>\n",
       "      <td id=\"T_8b5f6_row32_col10\" class=\"data row32 col10\" > </td>\n",
       "      <td id=\"T_8b5f6_row32_col11\" class=\"data row32 col11\" >171,010</td>\n",
       "      <td id=\"T_8b5f6_row32_col12\" class=\"data row32 col12\" >1.83%</td>\n",
       "    </tr>\n",
       "    <tr>\n",
       "      <th id=\"T_8b5f6_level0_row33\" class=\"row_heading level0 row33\" >33</th>\n",
       "      <td id=\"T_8b5f6_row33_col0\" class=\"data row33 col0\" >05 Mar 2024</td>\n",
       "      <td id=\"T_8b5f6_row33_col1\" class=\"data row33 col1\" >1</td>\n",
       "      <td id=\"T_8b5f6_row33_col2\" class=\"data row33 col2\" >1-2</td>\n",
       "      <td id=\"T_8b5f6_row33_col3\" class=\"data row33 col3\" >이지스</td>\n",
       "      <td id=\"T_8b5f6_row33_col4\" class=\"data row33 col4\" >이지스 (aegis)</td>\n",
       "      <td id=\"T_8b5f6_row33_col5\" class=\"data row33 col5\" >9,367,650</td>\n",
       "      <td id=\"T_8b5f6_row33_col6\" class=\"data row33 col6\" >18,654,250</td>\n",
       "      <td id=\"T_8b5f6_row33_col7\" class=\"data row33 col7\" >13</td>\n",
       "      <td id=\"T_8b5f6_row33_col8\" class=\"data row33 col8\" > </td>\n",
       "      <td id=\"T_8b5f6_row33_col9\" class=\"data row33 col9\" >13</td>\n",
       "      <td id=\"T_8b5f6_row33_col10\" class=\"data row33 col10\" > </td>\n",
       "      <td id=\"T_8b5f6_row33_col11\" class=\"data row33 col11\" >81,050</td>\n",
       "      <td id=\"T_8b5f6_row33_col12\" class=\"data row33 col12\" >0.87%</td>\n",
       "    </tr>\n",
       "    <tr>\n",
       "      <th id=\"T_8b5f6_level0_row34\" class=\"row_heading level0 row34\" >34</th>\n",
       "      <td id=\"T_8b5f6_row34_col0\" class=\"data row34 col0\" >05 Mar 2024</td>\n",
       "      <td id=\"T_8b5f6_row34_col1\" class=\"data row34 col1\" >1</td>\n",
       "      <td id=\"T_8b5f6_row34_col2\" class=\"data row34 col2\" >1-2</td>\n",
       "      <td id=\"T_8b5f6_row34_col3\" class=\"data row34 col3\" >재난경보</td>\n",
       "      <td id=\"T_8b5f6_row34_col4\" class=\"data row34 col4\" >재난경보 (jae-nan-gyeong-bo)</td>\n",
       "      <td id=\"T_8b5f6_row34_col5\" class=\"data row34 col5\" >9,198,000</td>\n",
       "      <td id=\"T_8b5f6_row34_col6\" class=\"data row34 col6\" >18,399,780</td>\n",
       "      <td id=\"T_8b5f6_row34_col7\" class=\"data row34 col7\" >15</td>\n",
       "      <td id=\"T_8b5f6_row34_col8\" class=\"data row34 col8\" > ▼1</td>\n",
       "      <td id=\"T_8b5f6_row34_col9\" class=\"data row34 col9\" >14</td>\n",
       "      <td id=\"T_8b5f6_row34_col10\" class=\"data row34 col10\" > </td>\n",
       "      <td id=\"T_8b5f6_row34_col11\" class=\"data row34 col11\" >-3,780</td>\n",
       "      <td id=\"T_8b5f6_row34_col12\" class=\"data row34 col12\" >-0.04%</td>\n",
       "    </tr>\n",
       "    <tr>\n",
       "      <th id=\"T_8b5f6_level0_row35\" class=\"row_heading level0 row35\" >35</th>\n",
       "      <td id=\"T_8b5f6_row35_col0\" class=\"data row35 col0\" >05 Mar 2024</td>\n",
       "      <td id=\"T_8b5f6_row35_col1\" class=\"data row35 col1\" >1</td>\n",
       "      <td id=\"T_8b5f6_row35_col2\" class=\"data row35 col2\" >1-2</td>\n",
       "      <td id=\"T_8b5f6_row35_col3\" class=\"data row35 col3\" >Peppermint</td>\n",
       "      <td id=\"T_8b5f6_row35_col4\" class=\"data row35 col4\" >Peppermint</td>\n",
       "      <td id=\"T_8b5f6_row35_col5\" class=\"data row35 col5\" >9,284,540</td>\n",
       "      <td id=\"T_8b5f6_row35_col6\" class=\"data row35 col6\" >18,258,770</td>\n",
       "      <td id=\"T_8b5f6_row35_col7\" class=\"data row35 col7\" >14</td>\n",
       "      <td id=\"T_8b5f6_row35_col8\" class=\"data row35 col8\" > ▲1</td>\n",
       "      <td id=\"T_8b5f6_row35_col9\" class=\"data row35 col9\" >15</td>\n",
       "      <td id=\"T_8b5f6_row35_col10\" class=\"data row35 col10\" > </td>\n",
       "      <td id=\"T_8b5f6_row35_col11\" class=\"data row35 col11\" >310,310</td>\n",
       "      <td id=\"T_8b5f6_row35_col12\" class=\"data row35 col12\" >3.46%</td>\n",
       "    </tr>\n",
       "    <tr>\n",
       "      <th id=\"T_8b5f6_level0_row36\" class=\"row_heading level0 row36\" >36</th>\n",
       "      <td id=\"T_8b5f6_row36_col0\" class=\"data row36 col0\" >05 Mar 2024</td>\n",
       "      <td id=\"T_8b5f6_row36_col1\" class=\"data row36 col1\" >1</td>\n",
       "      <td id=\"T_8b5f6_row36_col2\" class=\"data row36 col2\" >1-2</td>\n",
       "      <td id=\"T_8b5f6_row36_col3\" class=\"data row36 col3\" >사혼</td>\n",
       "      <td id=\"T_8b5f6_row36_col4\" class=\"data row36 col4\" >사혼 (sa-hon)</td>\n",
       "      <td id=\"T_8b5f6_row36_col5\" class=\"data row36 col5\" >8,826,920</td>\n",
       "      <td id=\"T_8b5f6_row36_col6\" class=\"data row36 col6\" >17,356,940</td>\n",
       "      <td id=\"T_8b5f6_row36_col7\" class=\"data row36 col7\" >16</td>\n",
       "      <td id=\"T_8b5f6_row36_col8\" class=\"data row36 col8\" > </td>\n",
       "      <td id=\"T_8b5f6_row36_col9\" class=\"data row36 col9\" >16</td>\n",
       "      <td id=\"T_8b5f6_row36_col10\" class=\"data row36 col10\" > </td>\n",
       "      <td id=\"T_8b5f6_row36_col11\" class=\"data row36 col11\" >296,900</td>\n",
       "      <td id=\"T_8b5f6_row36_col12\" class=\"data row36 col12\" >3.48%</td>\n",
       "    </tr>\n",
       "    <tr>\n",
       "      <th id=\"T_8b5f6_level0_row37\" class=\"row_heading level0 row37\" >37</th>\n",
       "      <td id=\"T_8b5f6_row37_col0\" class=\"data row37 col0\" >05 Mar 2024</td>\n",
       "      <td id=\"T_8b5f6_row37_col1\" class=\"data row37 col1\" >1</td>\n",
       "      <td id=\"T_8b5f6_row37_col2\" class=\"data row37 col2\" >1-2</td>\n",
       "      <td id=\"T_8b5f6_row37_col3\" class=\"data row37 col3\" >Nigiri</td>\n",
       "      <td id=\"T_8b5f6_row37_col4\" class=\"data row37 col4\" >Nigiri</td>\n",
       "      <td id=\"T_8b5f6_row37_col5\" class=\"data row37 col5\" >8,671,380</td>\n",
       "      <td id=\"T_8b5f6_row37_col6\" class=\"data row37 col6\" >17,116,655</td>\n",
       "      <td id=\"T_8b5f6_row37_col7\" class=\"data row37 col7\" >17</td>\n",
       "      <td id=\"T_8b5f6_row37_col8\" class=\"data row37 col8\" > </td>\n",
       "      <td id=\"T_8b5f6_row37_col9\" class=\"data row37 col9\" >17</td>\n",
       "      <td id=\"T_8b5f6_row37_col10\" class=\"data row37 col10\" > </td>\n",
       "      <td id=\"T_8b5f6_row37_col11\" class=\"data row37 col11\" >226,105</td>\n",
       "      <td id=\"T_8b5f6_row37_col12\" class=\"data row37 col12\" >2.68%</td>\n",
       "    </tr>\n",
       "    <tr>\n",
       "      <th id=\"T_8b5f6_level0_row38\" class=\"row_heading level0 row38\" >38</th>\n",
       "      <td id=\"T_8b5f6_row38_col0\" class=\"data row38 col0\" >05 Mar 2024</td>\n",
       "      <td id=\"T_8b5f6_row38_col1\" class=\"data row38 col1\" >1</td>\n",
       "      <td id=\"T_8b5f6_row38_col2\" class=\"data row38 col2\" >1-2</td>\n",
       "      <td id=\"T_8b5f6_row38_col3\" class=\"data row38 col3\" >S7AR</td>\n",
       "      <td id=\"T_8b5f6_row38_col4\" class=\"data row38 col4\" >S7AR</td>\n",
       "      <td id=\"T_8b5f6_row38_col5\" class=\"data row38 col5\" >8,519,500</td>\n",
       "      <td id=\"T_8b5f6_row38_col6\" class=\"data row38 col6\" >16,958,780</td>\n",
       "      <td id=\"T_8b5f6_row38_col7\" class=\"data row38 col7\" >18</td>\n",
       "      <td id=\"T_8b5f6_row38_col8\" class=\"data row38 col8\" > </td>\n",
       "      <td id=\"T_8b5f6_row38_col9\" class=\"data row38 col9\" >18</td>\n",
       "      <td id=\"T_8b5f6_row38_col10\" class=\"data row38 col10\" > </td>\n",
       "      <td id=\"T_8b5f6_row38_col11\" class=\"data row38 col11\" >80,220</td>\n",
       "      <td id=\"T_8b5f6_row38_col12\" class=\"data row38 col12\" >0.95%</td>\n",
       "    </tr>\n",
       "    <tr>\n",
       "      <th id=\"T_8b5f6_level0_row39\" class=\"row_heading level0 row39\" >39</th>\n",
       "      <td id=\"T_8b5f6_row39_col0\" class=\"data row39 col0\" >05 Mar 2024</td>\n",
       "      <td id=\"T_8b5f6_row39_col1\" class=\"data row39 col1\" >1</td>\n",
       "      <td id=\"T_8b5f6_row39_col2\" class=\"data row39 col2\" >1-2</td>\n",
       "      <td id=\"T_8b5f6_row39_col3\" class=\"data row39 col3\" >DEKWAT</td>\n",
       "      <td id=\"T_8b5f6_row39_col4\" class=\"data row39 col4\" >DEKWAT</td>\n",
       "      <td id=\"T_8b5f6_row39_col5\" class=\"data row39 col5\" >8,447,715</td>\n",
       "      <td id=\"T_8b5f6_row39_col6\" class=\"data row39 col6\" >16,689,095</td>\n",
       "      <td id=\"T_8b5f6_row39_col7\" class=\"data row39 col7\" >19</td>\n",
       "      <td id=\"T_8b5f6_row39_col8\" class=\"data row39 col8\" > </td>\n",
       "      <td id=\"T_8b5f6_row39_col9\" class=\"data row39 col9\" >19</td>\n",
       "      <td id=\"T_8b5f6_row39_col10\" class=\"data row39 col10\" > </td>\n",
       "      <td id=\"T_8b5f6_row39_col11\" class=\"data row39 col11\" >206,335</td>\n",
       "      <td id=\"T_8b5f6_row39_col12\" class=\"data row39 col12\" >2.50%</td>\n",
       "    </tr>\n",
       "    <tr>\n",
       "      <th id=\"T_8b5f6_level0_row40\" class=\"row_heading level0 row40\" >40</th>\n",
       "      <td id=\"T_8b5f6_row40_col0\" class=\"data row40 col0\" >05 Mar 2024</td>\n",
       "      <td id=\"T_8b5f6_row40_col1\" class=\"data row40 col1\" >1</td>\n",
       "      <td id=\"T_8b5f6_row40_col2\" class=\"data row40 col2\" >1-2</td>\n",
       "      <td id=\"T_8b5f6_row40_col3\" class=\"data row40 col3\" >쿠벤저스</td>\n",
       "      <td id=\"T_8b5f6_row40_col4\" class=\"data row40 col4\" >쿠벤저스 (cubengers)</td>\n",
       "      <td id=\"T_8b5f6_row40_col5\" class=\"data row40 col5\" >8,287,605</td>\n",
       "      <td id=\"T_8b5f6_row40_col6\" class=\"data row40 col6\" >16,444,945</td>\n",
       "      <td id=\"T_8b5f6_row40_col7\" class=\"data row40 col7\" >20</td>\n",
       "      <td id=\"T_8b5f6_row40_col8\" class=\"data row40 col8\" > </td>\n",
       "      <td id=\"T_8b5f6_row40_col9\" class=\"data row40 col9\" >20</td>\n",
       "      <td id=\"T_8b5f6_row40_col10\" class=\"data row40 col10\" > </td>\n",
       "      <td id=\"T_8b5f6_row40_col11\" class=\"data row40 col11\" >130,265</td>\n",
       "      <td id=\"T_8b5f6_row40_col12\" class=\"data row40 col12\" >1.60%</td>\n",
       "    </tr>\n",
       "    <tr>\n",
       "      <th id=\"T_8b5f6_level0_row41\" class=\"row_heading level0 row41\" >41</th>\n",
       "      <td id=\"T_8b5f6_row41_col0\" class=\"data row41 col0\" >05 Mar 2024</td>\n",
       "      <td id=\"T_8b5f6_row41_col1\" class=\"data row41 col1\" >1</td>\n",
       "      <td id=\"T_8b5f6_row41_col2\" class=\"data row41 col2\" >1-2</td>\n",
       "      <td id=\"T_8b5f6_row41_col3\" class=\"data row41 col3\" >Nobility</td>\n",
       "      <td id=\"T_8b5f6_row41_col4\" class=\"data row41 col4\" >Nobility</td>\n",
       "      <td id=\"T_8b5f6_row41_col5\" class=\"data row41 col5\" >8,091,280</td>\n",
       "      <td id=\"T_8b5f6_row41_col6\" class=\"data row41 col6\" >16,113,965</td>\n",
       "      <td id=\"T_8b5f6_row41_col7\" class=\"data row41 col7\" >21</td>\n",
       "      <td id=\"T_8b5f6_row41_col8\" class=\"data row41 col8\" > </td>\n",
       "      <td id=\"T_8b5f6_row41_col9\" class=\"data row41 col9\" >23</td>\n",
       "      <td id=\"T_8b5f6_row41_col10\" class=\"data row41 col10\" > ▼1</td>\n",
       "      <td id=\"T_8b5f6_row41_col11\" class=\"data row41 col11\" >68,595</td>\n",
       "      <td id=\"T_8b5f6_row41_col12\" class=\"data row41 col12\" >0.86%</td>\n",
       "    </tr>\n",
       "    <tr>\n",
       "      <th id=\"T_8b5f6_level0_row42\" class=\"row_heading level0 row42\" >42</th>\n",
       "      <td id=\"T_8b5f6_row42_col0\" class=\"data row42 col0\" >12 Mar 2024</td>\n",
       "      <td id=\"T_8b5f6_row42_col1\" class=\"data row42 col1\" >1</td>\n",
       "      <td id=\"T_8b5f6_row42_col2\" class=\"data row42 col2\" >1-3</td>\n",
       "      <td id=\"T_8b5f6_row42_col3\" class=\"data row42 col3\" >Spearmint</td>\n",
       "      <td id=\"T_8b5f6_row42_col4\" class=\"data row42 col4\" >Spearmint</td>\n",
       "      <td id=\"T_8b5f6_row42_col5\" class=\"data row42 col5\" >10,770,870</td>\n",
       "      <td id=\"T_8b5f6_row42_col6\" class=\"data row42 col6\" >31,976,605</td>\n",
       "      <td id=\"T_8b5f6_row42_col7\" class=\"data row42 col7\" >1</td>\n",
       "      <td id=\"T_8b5f6_row42_col8\" class=\"data row42 col8\" > </td>\n",
       "      <td id=\"T_8b5f6_row42_col9\" class=\"data row42 col9\" >1</td>\n",
       "      <td id=\"T_8b5f6_row42_col10\" class=\"data row42 col10\" > </td>\n",
       "      <td id=\"T_8b5f6_row42_col11\" class=\"data row42 col11\" >78,325</td>\n",
       "      <td id=\"T_8b5f6_row42_col12\" class=\"data row42 col12\" >0.73%</td>\n",
       "    </tr>\n",
       "    <tr>\n",
       "      <th id=\"T_8b5f6_level0_row43\" class=\"row_heading level0 row43\" >43</th>\n",
       "      <td id=\"T_8b5f6_row43_col0\" class=\"data row43 col0\" >12 Mar 2024</td>\n",
       "      <td id=\"T_8b5f6_row43_col1\" class=\"data row43 col1\" >1</td>\n",
       "      <td id=\"T_8b5f6_row43_col2\" class=\"data row43 col2\" >1-3</td>\n",
       "      <td id=\"T_8b5f6_row43_col3\" class=\"data row43 col3\" >Vivid</td>\n",
       "      <td id=\"T_8b5f6_row43_col4\" class=\"data row43 col4\" >Vivid</td>\n",
       "      <td id=\"T_8b5f6_row43_col5\" class=\"data row43 col5\" >10,690,270</td>\n",
       "      <td id=\"T_8b5f6_row43_col6\" class=\"data row43 col6\" >31,799,905</td>\n",
       "      <td id=\"T_8b5f6_row43_col7\" class=\"data row43 col7\" >2</td>\n",
       "      <td id=\"T_8b5f6_row43_col8\" class=\"data row43 col8\" > </td>\n",
       "      <td id=\"T_8b5f6_row43_col9\" class=\"data row43 col9\" >2</td>\n",
       "      <td id=\"T_8b5f6_row43_col10\" class=\"data row43 col10\" > </td>\n",
       "      <td id=\"T_8b5f6_row43_col11\" class=\"data row43 col11\" >91,575</td>\n",
       "      <td id=\"T_8b5f6_row43_col12\" class=\"data row43 col12\" >0.86%</td>\n",
       "    </tr>\n",
       "    <tr>\n",
       "      <th id=\"T_8b5f6_level0_row44\" class=\"row_heading level0 row44\" >44</th>\n",
       "      <td id=\"T_8b5f6_row44_col0\" class=\"data row44 col0\" >12 Mar 2024</td>\n",
       "      <td id=\"T_8b5f6_row44_col1\" class=\"data row44 col1\" >1</td>\n",
       "      <td id=\"T_8b5f6_row44_col2\" class=\"data row44 col2\" >1-3</td>\n",
       "      <td id=\"T_8b5f6_row44_col3\" class=\"data row44 col3\" >Nobless</td>\n",
       "      <td id=\"T_8b5f6_row44_col4\" class=\"data row44 col4\" >Nobless</td>\n",
       "      <td id=\"T_8b5f6_row44_col5\" class=\"data row44 col5\" >10,424,260</td>\n",
       "      <td id=\"T_8b5f6_row44_col6\" class=\"data row44 col6\" >30,935,880</td>\n",
       "      <td id=\"T_8b5f6_row44_col7\" class=\"data row44 col7\" >3</td>\n",
       "      <td id=\"T_8b5f6_row44_col8\" class=\"data row44 col8\" > </td>\n",
       "      <td id=\"T_8b5f6_row44_col9\" class=\"data row44 col9\" >3</td>\n",
       "      <td id=\"T_8b5f6_row44_col10\" class=\"data row44 col10\" > </td>\n",
       "      <td id=\"T_8b5f6_row44_col11\" class=\"data row44 col11\" >164,615</td>\n",
       "      <td id=\"T_8b5f6_row44_col12\" class=\"data row44 col12\" >1.60%</td>\n",
       "    </tr>\n",
       "    <tr>\n",
       "      <th id=\"T_8b5f6_level0_row45\" class=\"row_heading level0 row45\" >45</th>\n",
       "      <td id=\"T_8b5f6_row45_col0\" class=\"data row45 col0\" >12 Mar 2024</td>\n",
       "      <td id=\"T_8b5f6_row45_col1\" class=\"data row45 col1\" >1</td>\n",
       "      <td id=\"T_8b5f6_row45_col2\" class=\"data row45 col2\" >1-3</td>\n",
       "      <td id=\"T_8b5f6_row45_col3\" class=\"data row45 col3\" >LAODA</td>\n",
       "      <td id=\"T_8b5f6_row45_col4\" class=\"data row45 col4\" >LAODA</td>\n",
       "      <td id=\"T_8b5f6_row45_col5\" class=\"data row45 col5\" >10,103,600</td>\n",
       "      <td id=\"T_8b5f6_row45_col6\" class=\"data row45 col6\" >30,207,265</td>\n",
       "      <td id=\"T_8b5f6_row45_col7\" class=\"data row45 col7\" >4</td>\n",
       "      <td id=\"T_8b5f6_row45_col8\" class=\"data row45 col8\" > ▲1</td>\n",
       "      <td id=\"T_8b5f6_row45_col9\" class=\"data row45 col9\" >4</td>\n",
       "      <td id=\"T_8b5f6_row45_col10\" class=\"data row45 col10\" > </td>\n",
       "      <td id=\"T_8b5f6_row45_col11\" class=\"data row45 col11\" >11,730</td>\n",
       "      <td id=\"T_8b5f6_row45_col12\" class=\"data row45 col12\" >0.12%</td>\n",
       "    </tr>\n",
       "    <tr>\n",
       "      <th id=\"T_8b5f6_level0_row46\" class=\"row_heading level0 row46\" >46</th>\n",
       "      <td id=\"T_8b5f6_row46_col0\" class=\"data row46 col0\" >12 Mar 2024</td>\n",
       "      <td id=\"T_8b5f6_row46_col1\" class=\"data row46 col1\" >1</td>\n",
       "      <td id=\"T_8b5f6_row46_col2\" class=\"data row46 col2\" >1-3</td>\n",
       "      <td id=\"T_8b5f6_row46_col3\" class=\"data row46 col3\" >미라클</td>\n",
       "      <td id=\"T_8b5f6_row46_col4\" class=\"data row46 col4\" >미라클 (miracle)</td>\n",
       "      <td id=\"T_8b5f6_row46_col5\" class=\"data row46 col5\" >10,096,910</td>\n",
       "      <td id=\"T_8b5f6_row46_col6\" class=\"data row46 col6\" >29,958,250</td>\n",
       "      <td id=\"T_8b5f6_row46_col7\" class=\"data row46 col7\" >5</td>\n",
       "      <td id=\"T_8b5f6_row46_col8\" class=\"data row46 col8\" > ▲1</td>\n",
       "      <td id=\"T_8b5f6_row46_col9\" class=\"data row46 col9\" >5</td>\n",
       "      <td id=\"T_8b5f6_row46_col10\" class=\"data row46 col10\" > </td>\n",
       "      <td id=\"T_8b5f6_row46_col11\" class=\"data row46 col11\" >166,215</td>\n",
       "      <td id=\"T_8b5f6_row46_col12\" class=\"data row46 col12\" >1.67%</td>\n",
       "    </tr>\n",
       "    <tr>\n",
       "      <th id=\"T_8b5f6_level0_row47\" class=\"row_heading level0 row47\" >47</th>\n",
       "      <td id=\"T_8b5f6_row47_col0\" class=\"data row47 col0\" >12 Mar 2024</td>\n",
       "      <td id=\"T_8b5f6_row47_col1\" class=\"data row47 col1\" >1</td>\n",
       "      <td id=\"T_8b5f6_row47_col2\" class=\"data row47 col2\" >1-3</td>\n",
       "      <td id=\"T_8b5f6_row47_col3\" class=\"data row47 col3\" >님</td>\n",
       "      <td id=\"T_8b5f6_row47_col4\" class=\"data row47 col4\" >님 (nim)</td>\n",
       "      <td id=\"T_8b5f6_row47_col5\" class=\"data row47 col5\" >9,678,260</td>\n",
       "      <td id=\"T_8b5f6_row47_col6\" class=\"data row47 col6\" >29,539,600</td>\n",
       "      <td id=\"T_8b5f6_row47_col7\" class=\"data row47 col7\" >11</td>\n",
       "      <td id=\"T_8b5f6_row47_col8\" class=\"data row47 col8\" > ▼7</td>\n",
       "      <td id=\"T_8b5f6_row47_col9\" class=\"data row47 col9\" >6</td>\n",
       "      <td id=\"T_8b5f6_row47_col10\" class=\"data row47 col10\" > </td>\n",
       "      <td id=\"T_8b5f6_row47_col11\" class=\"data row47 col11\" >-495,015</td>\n",
       "      <td id=\"T_8b5f6_row47_col12\" class=\"data row47 col12\" >-4.87%</td>\n",
       "    </tr>\n",
       "    <tr>\n",
       "      <th id=\"T_8b5f6_level0_row48\" class=\"row_heading level0 row48\" >48</th>\n",
       "      <td id=\"T_8b5f6_row48_col0\" class=\"data row48 col0\" >12 Mar 2024</td>\n",
       "      <td id=\"T_8b5f6_row48_col1\" class=\"data row48 col1\" >1</td>\n",
       "      <td id=\"T_8b5f6_row48_col2\" class=\"data row48 col2\" >1-3</td>\n",
       "      <td id=\"T_8b5f6_row48_col3\" class=\"data row48 col3\" >Crown</td>\n",
       "      <td id=\"T_8b5f6_row48_col4\" class=\"data row48 col4\" >Crown</td>\n",
       "      <td id=\"T_8b5f6_row48_col5\" class=\"data row48 col5\" >9,835,780</td>\n",
       "      <td id=\"T_8b5f6_row48_col6\" class=\"data row48 col6\" >29,263,440</td>\n",
       "      <td id=\"T_8b5f6_row48_col7\" class=\"data row48 col7\" >6</td>\n",
       "      <td id=\"T_8b5f6_row48_col8\" class=\"data row48 col8\" > ▲1</td>\n",
       "      <td id=\"T_8b5f6_row48_col9\" class=\"data row48 col9\" >7</td>\n",
       "      <td id=\"T_8b5f6_row48_col10\" class=\"data row48 col10\" > </td>\n",
       "      <td id=\"T_8b5f6_row48_col11\" class=\"data row48 col11\" >-230</td>\n",
       "      <td id=\"T_8b5f6_row48_col12\" class=\"data row48 col12\" >-0.00%</td>\n",
       "    </tr>\n",
       "    <tr>\n",
       "      <th id=\"T_8b5f6_level0_row49\" class=\"row_heading level0 row49\" >49</th>\n",
       "      <td id=\"T_8b5f6_row49_col0\" class=\"data row49 col0\" >12 Mar 2024</td>\n",
       "      <td id=\"T_8b5f6_row49_col1\" class=\"data row49 col1\" >1</td>\n",
       "      <td id=\"T_8b5f6_row49_col2\" class=\"data row49 col2\" >1-3</td>\n",
       "      <td id=\"T_8b5f6_row49_col3\" class=\"data row49 col3\" >오로라</td>\n",
       "      <td id=\"T_8b5f6_row49_col4\" class=\"data row49 col4\" >오로라 (aurora)</td>\n",
       "      <td id=\"T_8b5f6_row49_col5\" class=\"data row49 col5\" >9,772,030</td>\n",
       "      <td id=\"T_8b5f6_row49_col6\" class=\"data row49 col6\" >29,132,140</td>\n",
       "      <td id=\"T_8b5f6_row49_col7\" class=\"data row49 col7\" >7</td>\n",
       "      <td id=\"T_8b5f6_row49_col8\" class=\"data row49 col8\" > ▲2</td>\n",
       "      <td id=\"T_8b5f6_row49_col9\" class=\"data row49 col9\" >8</td>\n",
       "      <td id=\"T_8b5f6_row49_col10\" class=\"data row49 col10\" > </td>\n",
       "      <td id=\"T_8b5f6_row49_col11\" class=\"data row49 col11\" >89,130</td>\n",
       "      <td id=\"T_8b5f6_row49_col12\" class=\"data row49 col12\" >0.92%</td>\n",
       "    </tr>\n",
       "    <tr>\n",
       "      <th id=\"T_8b5f6_level0_row50\" class=\"row_heading level0 row50\" >50</th>\n",
       "      <td id=\"T_8b5f6_row50_col0\" class=\"data row50 col0\" >12 Mar 2024</td>\n",
       "      <td id=\"T_8b5f6_row50_col1\" class=\"data row50 col1\" >1</td>\n",
       "      <td id=\"T_8b5f6_row50_col2\" class=\"data row50 col2\" >1-3</td>\n",
       "      <td id=\"T_8b5f6_row50_col3\" class=\"data row50 col3\" >열매</td>\n",
       "      <td id=\"T_8b5f6_row50_col4\" class=\"data row50 col4\" >열매 (yeol-mae)</td>\n",
       "      <td id=\"T_8b5f6_row50_col5\" class=\"data row50 col5\" >9,685,015</td>\n",
       "      <td id=\"T_8b5f6_row50_col6\" class=\"data row50 col6\" >28,884,845</td>\n",
       "      <td id=\"T_8b5f6_row50_col7\" class=\"data row50 col7\" >9</td>\n",
       "      <td id=\"T_8b5f6_row50_col8\" class=\"data row50 col8\" > ▼1</td>\n",
       "      <td id=\"T_8b5f6_row50_col9\" class=\"data row50 col9\" >9</td>\n",
       "      <td id=\"T_8b5f6_row50_col10\" class=\"data row50 col10\" > </td>\n",
       "      <td id=\"T_8b5f6_row50_col11\" class=\"data row50 col11\" >1,850</td>\n",
       "      <td id=\"T_8b5f6_row50_col12\" class=\"data row50 col12\" >0.02%</td>\n",
       "    </tr>\n",
       "    <tr>\n",
       "      <th id=\"T_8b5f6_level0_row51\" class=\"row_heading level0 row51\" >51</th>\n",
       "      <td id=\"T_8b5f6_row51_col0\" class=\"data row51 col0\" >12 Mar 2024</td>\n",
       "      <td id=\"T_8b5f6_row51_col1\" class=\"data row51 col1\" >1</td>\n",
       "      <td id=\"T_8b5f6_row51_col2\" class=\"data row51 col2\" >1-3</td>\n",
       "      <td id=\"T_8b5f6_row51_col3\" class=\"data row51 col3\" >무야호</td>\n",
       "      <td id=\"T_8b5f6_row51_col4\" class=\"data row51 col4\" >무야호 (mu-ya-ho)</td>\n",
       "      <td id=\"T_8b5f6_row51_col5\" class=\"data row51 col5\" >9,678,470</td>\n",
       "      <td id=\"T_8b5f6_row51_col6\" class=\"data row51 col6\" >28,817,450</td>\n",
       "      <td id=\"T_8b5f6_row51_col7\" class=\"data row51 col7\" >10</td>\n",
       "      <td id=\"T_8b5f6_row51_col8\" class=\"data row51 col8\" > </td>\n",
       "      <td id=\"T_8b5f6_row51_col9\" class=\"data row51 col9\" >10</td>\n",
       "      <td id=\"T_8b5f6_row51_col10\" class=\"data row51 col10\" > </td>\n",
       "      <td id=\"T_8b5f6_row51_col11\" class=\"data row51 col11\" >64,505</td>\n",
       "      <td id=\"T_8b5f6_row51_col12\" class=\"data row51 col12\" >0.67%</td>\n",
       "    </tr>\n",
       "    <tr>\n",
       "      <th id=\"T_8b5f6_level0_row52\" class=\"row_heading level0 row52\" >52</th>\n",
       "      <td id=\"T_8b5f6_row52_col0\" class=\"data row52 col0\" >12 Mar 2024</td>\n",
       "      <td id=\"T_8b5f6_row52_col1\" class=\"data row52 col1\" >1</td>\n",
       "      <td id=\"T_8b5f6_row52_col2\" class=\"data row52 col2\" >1-3</td>\n",
       "      <td id=\"T_8b5f6_row52_col3\" class=\"data row52 col3\" >MolochTH</td>\n",
       "      <td id=\"T_8b5f6_row52_col4\" class=\"data row52 col4\" >MolochTH</td>\n",
       "      <td id=\"T_8b5f6_row52_col5\" class=\"data row52 col5\" >9,763,490</td>\n",
       "      <td id=\"T_8b5f6_row52_col6\" class=\"data row52 col6\" >28,650,305</td>\n",
       "      <td id=\"T_8b5f6_row52_col7\" class=\"data row52 col7\" >8</td>\n",
       "      <td id=\"T_8b5f6_row52_col8\" class=\"data row52 col8\" > ▲3</td>\n",
       "      <td id=\"T_8b5f6_row52_col9\" class=\"data row52 col9\" >11</td>\n",
       "      <td id=\"T_8b5f6_row52_col10\" class=\"data row52 col10\" > </td>\n",
       "      <td id=\"T_8b5f6_row52_col11\" class=\"data row52 col11\" >233,300</td>\n",
       "      <td id=\"T_8b5f6_row52_col12\" class=\"data row52 col12\" >2.45%</td>\n",
       "    </tr>\n",
       "    <tr>\n",
       "      <th id=\"T_8b5f6_level0_row53\" class=\"row_heading level0 row53\" >53</th>\n",
       "      <td id=\"T_8b5f6_row53_col0\" class=\"data row53 col0\" >12 Mar 2024</td>\n",
       "      <td id=\"T_8b5f6_row53_col1\" class=\"data row53 col1\" >1</td>\n",
       "      <td id=\"T_8b5f6_row53_col2\" class=\"data row53 col2\" >1-3</td>\n",
       "      <td id=\"T_8b5f6_row53_col3\" class=\"data row53 col3\" >이지스</td>\n",
       "      <td id=\"T_8b5f6_row53_col4\" class=\"data row53 col4\" >이지스 (aegis)</td>\n",
       "      <td id=\"T_8b5f6_row53_col5\" class=\"data row53 col5\" >9,614,385</td>\n",
       "      <td id=\"T_8b5f6_row53_col6\" class=\"data row53 col6\" >28,268,635</td>\n",
       "      <td id=\"T_8b5f6_row53_col7\" class=\"data row53 col7\" >12</td>\n",
       "      <td id=\"T_8b5f6_row53_col8\" class=\"data row53 col8\" > ▲1</td>\n",
       "      <td id=\"T_8b5f6_row53_col9\" class=\"data row53 col9\" >12</td>\n",
       "      <td id=\"T_8b5f6_row53_col10\" class=\"data row53 col10\" > ▲1</td>\n",
       "      <td id=\"T_8b5f6_row53_col11\" class=\"data row53 col11\" >246,735</td>\n",
       "      <td id=\"T_8b5f6_row53_col12\" class=\"data row53 col12\" >2.63%</td>\n",
       "    </tr>\n",
       "    <tr>\n",
       "      <th id=\"T_8b5f6_level0_row54\" class=\"row_heading level0 row54\" >54</th>\n",
       "      <td id=\"T_8b5f6_row54_col0\" class=\"data row54 col0\" >12 Mar 2024</td>\n",
       "      <td id=\"T_8b5f6_row54_col1\" class=\"data row54 col1\" >1</td>\n",
       "      <td id=\"T_8b5f6_row54_col2\" class=\"data row54 col2\" >1-3</td>\n",
       "      <td id=\"T_8b5f6_row54_col3\" class=\"data row54 col3\" >MyTH</td>\n",
       "      <td id=\"T_8b5f6_row54_col4\" class=\"data row54 col4\" >MyTH</td>\n",
       "      <td id=\"T_8b5f6_row54_col5\" class=\"data row54 col5\" >9,360,200</td>\n",
       "      <td id=\"T_8b5f6_row54_col6\" class=\"data row54 col6\" >28,234,060</td>\n",
       "      <td id=\"T_8b5f6_row54_col7\" class=\"data row54 col7\" >14</td>\n",
       "      <td id=\"T_8b5f6_row54_col8\" class=\"data row54 col8\" > ▼2</td>\n",
       "      <td id=\"T_8b5f6_row54_col9\" class=\"data row54 col9\" >13</td>\n",
       "      <td id=\"T_8b5f6_row54_col10\" class=\"data row54 col10\" > ▼1</td>\n",
       "      <td id=\"T_8b5f6_row54_col11\" class=\"data row54 col11\" >-162,235</td>\n",
       "      <td id=\"T_8b5f6_row54_col12\" class=\"data row54 col12\" >-1.70%</td>\n",
       "    </tr>\n",
       "    <tr>\n",
       "      <th id=\"T_8b5f6_level0_row55\" class=\"row_heading level0 row55\" >55</th>\n",
       "      <td id=\"T_8b5f6_row55_col0\" class=\"data row55 col0\" >12 Mar 2024</td>\n",
       "      <td id=\"T_8b5f6_row55_col1\" class=\"data row55 col1\" >1</td>\n",
       "      <td id=\"T_8b5f6_row55_col2\" class=\"data row55 col2\" >1-3</td>\n",
       "      <td id=\"T_8b5f6_row55_col3\" class=\"data row55 col3\" >Peppermint</td>\n",
       "      <td id=\"T_8b5f6_row55_col4\" class=\"data row55 col4\" >Peppermint</td>\n",
       "      <td id=\"T_8b5f6_row55_col5\" class=\"data row55 col5\" >9,436,210</td>\n",
       "      <td id=\"T_8b5f6_row55_col6\" class=\"data row55 col6\" >27,694,980</td>\n",
       "      <td id=\"T_8b5f6_row55_col7\" class=\"data row55 col7\" >13</td>\n",
       "      <td id=\"T_8b5f6_row55_col8\" class=\"data row55 col8\" > ▲1</td>\n",
       "      <td id=\"T_8b5f6_row55_col9\" class=\"data row55 col9\" >14</td>\n",
       "      <td id=\"T_8b5f6_row55_col10\" class=\"data row55 col10\" > ▲1</td>\n",
       "      <td id=\"T_8b5f6_row55_col11\" class=\"data row55 col11\" >151,670</td>\n",
       "      <td id=\"T_8b5f6_row55_col12\" class=\"data row55 col12\" >1.63%</td>\n",
       "    </tr>\n",
       "    <tr>\n",
       "      <th id=\"T_8b5f6_level0_row56\" class=\"row_heading level0 row56\" >56</th>\n",
       "      <td id=\"T_8b5f6_row56_col0\" class=\"data row56 col0\" >12 Mar 2024</td>\n",
       "      <td id=\"T_8b5f6_row56_col1\" class=\"data row56 col1\" >1</td>\n",
       "      <td id=\"T_8b5f6_row56_col2\" class=\"data row56 col2\" >1-3</td>\n",
       "      <td id=\"T_8b5f6_row56_col3\" class=\"data row56 col3\" >재난경보</td>\n",
       "      <td id=\"T_8b5f6_row56_col4\" class=\"data row56 col4\" >재난경보 (jae-nan-gyeong-bo)</td>\n",
       "      <td id=\"T_8b5f6_row56_col5\" class=\"data row56 col5\" >8,968,255</td>\n",
       "      <td id=\"T_8b5f6_row56_col6\" class=\"data row56 col6\" >27,368,035</td>\n",
       "      <td id=\"T_8b5f6_row56_col7\" class=\"data row56 col7\" >16</td>\n",
       "      <td id=\"T_8b5f6_row56_col8\" class=\"data row56 col8\" > ▼1</td>\n",
       "      <td id=\"T_8b5f6_row56_col9\" class=\"data row56 col9\" >15</td>\n",
       "      <td id=\"T_8b5f6_row56_col10\" class=\"data row56 col10\" > ▼1</td>\n",
       "      <td id=\"T_8b5f6_row56_col11\" class=\"data row56 col11\" >-229,745</td>\n",
       "      <td id=\"T_8b5f6_row56_col12\" class=\"data row56 col12\" >-2.50%</td>\n",
       "    </tr>\n",
       "    <tr>\n",
       "      <th id=\"T_8b5f6_level0_row57\" class=\"row_heading level0 row57\" >57</th>\n",
       "      <td id=\"T_8b5f6_row57_col0\" class=\"data row57 col0\" >12 Mar 2024</td>\n",
       "      <td id=\"T_8b5f6_row57_col1\" class=\"data row57 col1\" >1</td>\n",
       "      <td id=\"T_8b5f6_row57_col2\" class=\"data row57 col2\" >1-3</td>\n",
       "      <td id=\"T_8b5f6_row57_col3\" class=\"data row57 col3\" >사혼</td>\n",
       "      <td id=\"T_8b5f6_row57_col4\" class=\"data row57 col4\" >사혼 (sa-hon)</td>\n",
       "      <td id=\"T_8b5f6_row57_col5\" class=\"data row57 col5\" >8,968,345</td>\n",
       "      <td id=\"T_8b5f6_row57_col6\" class=\"data row57 col6\" >26,325,285</td>\n",
       "      <td id=\"T_8b5f6_row57_col7\" class=\"data row57 col7\" >15</td>\n",
       "      <td id=\"T_8b5f6_row57_col8\" class=\"data row57 col8\" > ▲1</td>\n",
       "      <td id=\"T_8b5f6_row57_col9\" class=\"data row57 col9\" >16</td>\n",
       "      <td id=\"T_8b5f6_row57_col10\" class=\"data row57 col10\" > </td>\n",
       "      <td id=\"T_8b5f6_row57_col11\" class=\"data row57 col11\" >141,425</td>\n",
       "      <td id=\"T_8b5f6_row57_col12\" class=\"data row57 col12\" >1.60%</td>\n",
       "    </tr>\n",
       "    <tr>\n",
       "      <th id=\"T_8b5f6_level0_row58\" class=\"row_heading level0 row58\" >58</th>\n",
       "      <td id=\"T_8b5f6_row58_col0\" class=\"data row58 col0\" >12 Mar 2024</td>\n",
       "      <td id=\"T_8b5f6_row58_col1\" class=\"data row58 col1\" >1</td>\n",
       "      <td id=\"T_8b5f6_row58_col2\" class=\"data row58 col2\" >1-3</td>\n",
       "      <td id=\"T_8b5f6_row58_col3\" class=\"data row58 col3\" >Nigiri</td>\n",
       "      <td id=\"T_8b5f6_row58_col4\" class=\"data row58 col4\" >Nigiri</td>\n",
       "      <td id=\"T_8b5f6_row58_col5\" class=\"data row58 col5\" >8,671,310</td>\n",
       "      <td id=\"T_8b5f6_row58_col6\" class=\"data row58 col6\" >25,787,965</td>\n",
       "      <td id=\"T_8b5f6_row58_col7\" class=\"data row58 col7\" >18</td>\n",
       "      <td id=\"T_8b5f6_row58_col8\" class=\"data row58 col8\" > ▼1</td>\n",
       "      <td id=\"T_8b5f6_row58_col9\" class=\"data row58 col9\" >17</td>\n",
       "      <td id=\"T_8b5f6_row58_col10\" class=\"data row58 col10\" > </td>\n",
       "      <td id=\"T_8b5f6_row58_col11\" class=\"data row58 col11\" >-70</td>\n",
       "      <td id=\"T_8b5f6_row58_col12\" class=\"data row58 col12\" >-0.00%</td>\n",
       "    </tr>\n",
       "    <tr>\n",
       "      <th id=\"T_8b5f6_level0_row59\" class=\"row_heading level0 row59\" >59</th>\n",
       "      <td id=\"T_8b5f6_row59_col0\" class=\"data row59 col0\" >12 Mar 2024</td>\n",
       "      <td id=\"T_8b5f6_row59_col1\" class=\"data row59 col1\" >1</td>\n",
       "      <td id=\"T_8b5f6_row59_col2\" class=\"data row59 col2\" >1-3</td>\n",
       "      <td id=\"T_8b5f6_row59_col3\" class=\"data row59 col3\" >S7AR</td>\n",
       "      <td id=\"T_8b5f6_row59_col4\" class=\"data row59 col4\" >S7AR</td>\n",
       "      <td id=\"T_8b5f6_row59_col5\" class=\"data row59 col5\" >8,661,350</td>\n",
       "      <td id=\"T_8b5f6_row59_col6\" class=\"data row59 col6\" >25,620,130</td>\n",
       "      <td id=\"T_8b5f6_row59_col7\" class=\"data row59 col7\" >19</td>\n",
       "      <td id=\"T_8b5f6_row59_col8\" class=\"data row59 col8\" > ▼1</td>\n",
       "      <td id=\"T_8b5f6_row59_col9\" class=\"data row59 col9\" >18</td>\n",
       "      <td id=\"T_8b5f6_row59_col10\" class=\"data row59 col10\" > </td>\n",
       "      <td id=\"T_8b5f6_row59_col11\" class=\"data row59 col11\" >141,850</td>\n",
       "      <td id=\"T_8b5f6_row59_col12\" class=\"data row59 col12\" >1.67%</td>\n",
       "    </tr>\n",
       "    <tr>\n",
       "      <th id=\"T_8b5f6_level0_row60\" class=\"row_heading level0 row60\" >60</th>\n",
       "      <td id=\"T_8b5f6_row60_col0\" class=\"data row60 col0\" >12 Mar 2024</td>\n",
       "      <td id=\"T_8b5f6_row60_col1\" class=\"data row60 col1\" >1</td>\n",
       "      <td id=\"T_8b5f6_row60_col2\" class=\"data row60 col2\" >1-3</td>\n",
       "      <td id=\"T_8b5f6_row60_col3\" class=\"data row60 col3\" >DEKWAT</td>\n",
       "      <td id=\"T_8b5f6_row60_col4\" class=\"data row60 col4\" >DEKWAT</td>\n",
       "      <td id=\"T_8b5f6_row60_col5\" class=\"data row60 col5\" >8,598,275</td>\n",
       "      <td id=\"T_8b5f6_row60_col6\" class=\"data row60 col6\" >25,287,370</td>\n",
       "      <td id=\"T_8b5f6_row60_col7\" class=\"data row60 col7\" >20</td>\n",
       "      <td id=\"T_8b5f6_row60_col8\" class=\"data row60 col8\" > ▼1</td>\n",
       "      <td id=\"T_8b5f6_row60_col9\" class=\"data row60 col9\" >19</td>\n",
       "      <td id=\"T_8b5f6_row60_col10\" class=\"data row60 col10\" > </td>\n",
       "      <td id=\"T_8b5f6_row60_col11\" class=\"data row60 col11\" >150,560</td>\n",
       "      <td id=\"T_8b5f6_row60_col12\" class=\"data row60 col12\" >1.78%</td>\n",
       "    </tr>\n",
       "    <tr>\n",
       "      <th id=\"T_8b5f6_level0_row61\" class=\"row_heading level0 row61\" >61</th>\n",
       "      <td id=\"T_8b5f6_row61_col0\" class=\"data row61 col0\" >12 Mar 2024</td>\n",
       "      <td id=\"T_8b5f6_row61_col1\" class=\"data row61 col1\" >1</td>\n",
       "      <td id=\"T_8b5f6_row61_col2\" class=\"data row61 col2\" >1-3</td>\n",
       "      <td id=\"T_8b5f6_row61_col3\" class=\"data row61 col3\" >쿠벤저스</td>\n",
       "      <td id=\"T_8b5f6_row61_col4\" class=\"data row61 col4\" >쿠벤저스 (cubengers)</td>\n",
       "      <td id=\"T_8b5f6_row61_col5\" class=\"data row61 col5\" >8,681,615</td>\n",
       "      <td id=\"T_8b5f6_row61_col6\" class=\"data row61 col6\" >25,126,560</td>\n",
       "      <td id=\"T_8b5f6_row61_col7\" class=\"data row61 col7\" >17</td>\n",
       "      <td id=\"T_8b5f6_row61_col8\" class=\"data row61 col8\" > ▲3</td>\n",
       "      <td id=\"T_8b5f6_row61_col9\" class=\"data row61 col9\" >20</td>\n",
       "      <td id=\"T_8b5f6_row61_col10\" class=\"data row61 col10\" > </td>\n",
       "      <td id=\"T_8b5f6_row61_col11\" class=\"data row61 col11\" >394,010</td>\n",
       "      <td id=\"T_8b5f6_row61_col12\" class=\"data row61 col12\" >4.75%</td>\n",
       "    </tr>\n",
       "    <tr>\n",
       "      <th id=\"T_8b5f6_level0_row62\" class=\"row_heading level0 row62\" >62</th>\n",
       "      <td id=\"T_8b5f6_row62_col0\" class=\"data row62 col0\" >12 Mar 2024</td>\n",
       "      <td id=\"T_8b5f6_row62_col1\" class=\"data row62 col1\" >1</td>\n",
       "      <td id=\"T_8b5f6_row62_col2\" class=\"data row62 col2\" >1-3</td>\n",
       "      <td id=\"T_8b5f6_row62_col3\" class=\"data row62 col3\" >Nobility</td>\n",
       "      <td id=\"T_8b5f6_row62_col4\" class=\"data row62 col4\" >Nobility</td>\n",
       "      <td id=\"T_8b5f6_row62_col5\" class=\"data row62 col5\" >8,088,650</td>\n",
       "      <td id=\"T_8b5f6_row62_col6\" class=\"data row62 col6\" >24,202,615</td>\n",
       "      <td id=\"T_8b5f6_row62_col7\" class=\"data row62 col7\" >21</td>\n",
       "      <td id=\"T_8b5f6_row62_col8\" class=\"data row62 col8\" > </td>\n",
       "      <td id=\"T_8b5f6_row62_col9\" class=\"data row62 col9\" >24</td>\n",
       "      <td id=\"T_8b5f6_row62_col10\" class=\"data row62 col10\" > ▼1</td>\n",
       "      <td id=\"T_8b5f6_row62_col11\" class=\"data row62 col11\" >-2,630</td>\n",
       "      <td id=\"T_8b5f6_row62_col12\" class=\"data row62 col12\" >-0.03%</td>\n",
       "    </tr>\n",
       "    <tr>\n",
       "      <th id=\"T_8b5f6_level0_row63\" class=\"row_heading level0 row63\" >63</th>\n",
       "      <td id=\"T_8b5f6_row63_col0\" class=\"data row63 col0\" >19 Mar 2024</td>\n",
       "      <td id=\"T_8b5f6_row63_col1\" class=\"data row63 col1\" >1</td>\n",
       "      <td id=\"T_8b5f6_row63_col2\" class=\"data row63 col2\" >1-4</td>\n",
       "      <td id=\"T_8b5f6_row63_col3\" class=\"data row63 col3\" >Spearmint</td>\n",
       "      <td id=\"T_8b5f6_row63_col4\" class=\"data row63 col4\" >Spearmint</td>\n",
       "      <td id=\"T_8b5f6_row63_col5\" class=\"data row63 col5\" >10,779,410</td>\n",
       "      <td id=\"T_8b5f6_row63_col6\" class=\"data row63 col6\" >42,756,015</td>\n",
       "      <td id=\"T_8b5f6_row63_col7\" class=\"data row63 col7\" >1</td>\n",
       "      <td id=\"T_8b5f6_row63_col8\" class=\"data row63 col8\" > </td>\n",
       "      <td id=\"T_8b5f6_row63_col9\" class=\"data row63 col9\" >1</td>\n",
       "      <td id=\"T_8b5f6_row63_col10\" class=\"data row63 col10\" > </td>\n",
       "      <td id=\"T_8b5f6_row63_col11\" class=\"data row63 col11\" >8,540</td>\n",
       "      <td id=\"T_8b5f6_row63_col12\" class=\"data row63 col12\" >0.08%</td>\n",
       "    </tr>\n",
       "    <tr>\n",
       "      <th id=\"T_8b5f6_level0_row64\" class=\"row_heading level0 row64\" >64</th>\n",
       "      <td id=\"T_8b5f6_row64_col0\" class=\"data row64 col0\" >19 Mar 2024</td>\n",
       "      <td id=\"T_8b5f6_row64_col1\" class=\"data row64 col1\" >1</td>\n",
       "      <td id=\"T_8b5f6_row64_col2\" class=\"data row64 col2\" >1-4</td>\n",
       "      <td id=\"T_8b5f6_row64_col3\" class=\"data row64 col3\" >Vivid</td>\n",
       "      <td id=\"T_8b5f6_row64_col4\" class=\"data row64 col4\" >Vivid</td>\n",
       "      <td id=\"T_8b5f6_row64_col5\" class=\"data row64 col5\" >10,702,360</td>\n",
       "      <td id=\"T_8b5f6_row64_col6\" class=\"data row64 col6\" >42,502,265</td>\n",
       "      <td id=\"T_8b5f6_row64_col7\" class=\"data row64 col7\" >2</td>\n",
       "      <td id=\"T_8b5f6_row64_col8\" class=\"data row64 col8\" > </td>\n",
       "      <td id=\"T_8b5f6_row64_col9\" class=\"data row64 col9\" >2</td>\n",
       "      <td id=\"T_8b5f6_row64_col10\" class=\"data row64 col10\" > </td>\n",
       "      <td id=\"T_8b5f6_row64_col11\" class=\"data row64 col11\" >12,090</td>\n",
       "      <td id=\"T_8b5f6_row64_col12\" class=\"data row64 col12\" >0.11%</td>\n",
       "    </tr>\n",
       "    <tr>\n",
       "      <th id=\"T_8b5f6_level0_row65\" class=\"row_heading level0 row65\" >65</th>\n",
       "      <td id=\"T_8b5f6_row65_col0\" class=\"data row65 col0\" >19 Mar 2024</td>\n",
       "      <td id=\"T_8b5f6_row65_col1\" class=\"data row65 col1\" >1</td>\n",
       "      <td id=\"T_8b5f6_row65_col2\" class=\"data row65 col2\" >1-4</td>\n",
       "      <td id=\"T_8b5f6_row65_col3\" class=\"data row65 col3\" >Nobless</td>\n",
       "      <td id=\"T_8b5f6_row65_col4\" class=\"data row65 col4\" >Nobless</td>\n",
       "      <td id=\"T_8b5f6_row65_col5\" class=\"data row65 col5\" >10,349,095</td>\n",
       "      <td id=\"T_8b5f6_row65_col6\" class=\"data row65 col6\" >41,284,975</td>\n",
       "      <td id=\"T_8b5f6_row65_col7\" class=\"data row65 col7\" >3</td>\n",
       "      <td id=\"T_8b5f6_row65_col8\" class=\"data row65 col8\" > </td>\n",
       "      <td id=\"T_8b5f6_row65_col9\" class=\"data row65 col9\" >3</td>\n",
       "      <td id=\"T_8b5f6_row65_col10\" class=\"data row65 col10\" > </td>\n",
       "      <td id=\"T_8b5f6_row65_col11\" class=\"data row65 col11\" >-75,165</td>\n",
       "      <td id=\"T_8b5f6_row65_col12\" class=\"data row65 col12\" >-0.72%</td>\n",
       "    </tr>\n",
       "    <tr>\n",
       "      <th id=\"T_8b5f6_level0_row66\" class=\"row_heading level0 row66\" >66</th>\n",
       "      <td id=\"T_8b5f6_row66_col0\" class=\"data row66 col0\" >19 Mar 2024</td>\n",
       "      <td id=\"T_8b5f6_row66_col1\" class=\"data row66 col1\" >1</td>\n",
       "      <td id=\"T_8b5f6_row66_col2\" class=\"data row66 col2\" >1-4</td>\n",
       "      <td id=\"T_8b5f6_row66_col3\" class=\"data row66 col3\" >LAODA</td>\n",
       "      <td id=\"T_8b5f6_row66_col4\" class=\"data row66 col4\" >LAODA</td>\n",
       "      <td id=\"T_8b5f6_row66_col5\" class=\"data row66 col5\" >10,174,935</td>\n",
       "      <td id=\"T_8b5f6_row66_col6\" class=\"data row66 col6\" >40,382,200</td>\n",
       "      <td id=\"T_8b5f6_row66_col7\" class=\"data row66 col7\" >5</td>\n",
       "      <td id=\"T_8b5f6_row66_col8\" class=\"data row66 col8\" > ▼1</td>\n",
       "      <td id=\"T_8b5f6_row66_col9\" class=\"data row66 col9\" >4</td>\n",
       "      <td id=\"T_8b5f6_row66_col10\" class=\"data row66 col10\" > </td>\n",
       "      <td id=\"T_8b5f6_row66_col11\" class=\"data row66 col11\" >71,335</td>\n",
       "      <td id=\"T_8b5f6_row66_col12\" class=\"data row66 col12\" >0.71%</td>\n",
       "    </tr>\n",
       "    <tr>\n",
       "      <th id=\"T_8b5f6_level0_row67\" class=\"row_heading level0 row67\" >67</th>\n",
       "      <td id=\"T_8b5f6_row67_col0\" class=\"data row67 col0\" >19 Mar 2024</td>\n",
       "      <td id=\"T_8b5f6_row67_col1\" class=\"data row67 col1\" >1</td>\n",
       "      <td id=\"T_8b5f6_row67_col2\" class=\"data row67 col2\" >1-4</td>\n",
       "      <td id=\"T_8b5f6_row67_col3\" class=\"data row67 col3\" >미라클</td>\n",
       "      <td id=\"T_8b5f6_row67_col4\" class=\"data row67 col4\" >미라클 (miracle)</td>\n",
       "      <td id=\"T_8b5f6_row67_col5\" class=\"data row67 col5\" >10,263,565</td>\n",
       "      <td id=\"T_8b5f6_row67_col6\" class=\"data row67 col6\" >40,221,815</td>\n",
       "      <td id=\"T_8b5f6_row67_col7\" class=\"data row67 col7\" >4</td>\n",
       "      <td id=\"T_8b5f6_row67_col8\" class=\"data row67 col8\" > ▲1</td>\n",
       "      <td id=\"T_8b5f6_row67_col9\" class=\"data row67 col9\" >5</td>\n",
       "      <td id=\"T_8b5f6_row67_col10\" class=\"data row67 col10\" > </td>\n",
       "      <td id=\"T_8b5f6_row67_col11\" class=\"data row67 col11\" >166,655</td>\n",
       "      <td id=\"T_8b5f6_row67_col12\" class=\"data row67 col12\" >1.65%</td>\n",
       "    </tr>\n",
       "    <tr>\n",
       "      <th id=\"T_8b5f6_level0_row68\" class=\"row_heading level0 row68\" >68</th>\n",
       "      <td id=\"T_8b5f6_row68_col0\" class=\"data row68 col0\" >19 Mar 2024</td>\n",
       "      <td id=\"T_8b5f6_row68_col1\" class=\"data row68 col1\" >1</td>\n",
       "      <td id=\"T_8b5f6_row68_col2\" class=\"data row68 col2\" >1-4</td>\n",
       "      <td id=\"T_8b5f6_row68_col3\" class=\"data row68 col3\" >님</td>\n",
       "      <td id=\"T_8b5f6_row68_col4\" class=\"data row68 col4\" >님 (nim)</td>\n",
       "      <td id=\"T_8b5f6_row68_col5\" class=\"data row68 col5\" >10,005,140</td>\n",
       "      <td id=\"T_8b5f6_row68_col6\" class=\"data row68 col6\" >39,544,740</td>\n",
       "      <td id=\"T_8b5f6_row68_col7\" class=\"data row68 col7\" >7</td>\n",
       "      <td id=\"T_8b5f6_row68_col8\" class=\"data row68 col8\" > ▲4</td>\n",
       "      <td id=\"T_8b5f6_row68_col9\" class=\"data row68 col9\" >6</td>\n",
       "      <td id=\"T_8b5f6_row68_col10\" class=\"data row68 col10\" > </td>\n",
       "      <td id=\"T_8b5f6_row68_col11\" class=\"data row68 col11\" >326,880</td>\n",
       "      <td id=\"T_8b5f6_row68_col12\" class=\"data row68 col12\" >3.38%</td>\n",
       "    </tr>\n",
       "    <tr>\n",
       "      <th id=\"T_8b5f6_level0_row69\" class=\"row_heading level0 row69\" >69</th>\n",
       "      <td id=\"T_8b5f6_row69_col0\" class=\"data row69 col0\" >19 Mar 2024</td>\n",
       "      <td id=\"T_8b5f6_row69_col1\" class=\"data row69 col1\" >1</td>\n",
       "      <td id=\"T_8b5f6_row69_col2\" class=\"data row69 col2\" >1-4</td>\n",
       "      <td id=\"T_8b5f6_row69_col3\" class=\"data row69 col3\" >Crown</td>\n",
       "      <td id=\"T_8b5f6_row69_col4\" class=\"data row69 col4\" >Crown</td>\n",
       "      <td id=\"T_8b5f6_row69_col5\" class=\"data row69 col5\" >10,085,080</td>\n",
       "      <td id=\"T_8b5f6_row69_col6\" class=\"data row69 col6\" >39,348,520</td>\n",
       "      <td id=\"T_8b5f6_row69_col7\" class=\"data row69 col7\" >6</td>\n",
       "      <td id=\"T_8b5f6_row69_col8\" class=\"data row69 col8\" > </td>\n",
       "      <td id=\"T_8b5f6_row69_col9\" class=\"data row69 col9\" >7</td>\n",
       "      <td id=\"T_8b5f6_row69_col10\" class=\"data row69 col10\" > </td>\n",
       "      <td id=\"T_8b5f6_row69_col11\" class=\"data row69 col11\" >249,300</td>\n",
       "      <td id=\"T_8b5f6_row69_col12\" class=\"data row69 col12\" >2.53%</td>\n",
       "    </tr>\n",
       "    <tr>\n",
       "      <th id=\"T_8b5f6_level0_row70\" class=\"row_heading level0 row70\" >70</th>\n",
       "      <td id=\"T_8b5f6_row70_col0\" class=\"data row70 col0\" >19 Mar 2024</td>\n",
       "      <td id=\"T_8b5f6_row70_col1\" class=\"data row70 col1\" >1</td>\n",
       "      <td id=\"T_8b5f6_row70_col2\" class=\"data row70 col2\" >1-4</td>\n",
       "      <td id=\"T_8b5f6_row70_col3\" class=\"data row70 col3\" >오로라</td>\n",
       "      <td id=\"T_8b5f6_row70_col4\" class=\"data row70 col4\" >오로라 (aurora)</td>\n",
       "      <td id=\"T_8b5f6_row70_col5\" class=\"data row70 col5\" >9,931,935</td>\n",
       "      <td id=\"T_8b5f6_row70_col6\" class=\"data row70 col6\" >39,064,075</td>\n",
       "      <td id=\"T_8b5f6_row70_col7\" class=\"data row70 col7\" >9</td>\n",
       "      <td id=\"T_8b5f6_row70_col8\" class=\"data row70 col8\" > ▼2</td>\n",
       "      <td id=\"T_8b5f6_row70_col9\" class=\"data row70 col9\" >8</td>\n",
       "      <td id=\"T_8b5f6_row70_col10\" class=\"data row70 col10\" > </td>\n",
       "      <td id=\"T_8b5f6_row70_col11\" class=\"data row70 col11\" >159,905</td>\n",
       "      <td id=\"T_8b5f6_row70_col12\" class=\"data row70 col12\" >1.64%</td>\n",
       "    </tr>\n",
       "    <tr>\n",
       "      <th id=\"T_8b5f6_level0_row71\" class=\"row_heading level0 row71\" >71</th>\n",
       "      <td id=\"T_8b5f6_row71_col0\" class=\"data row71 col0\" >19 Mar 2024</td>\n",
       "      <td id=\"T_8b5f6_row71_col1\" class=\"data row71 col1\" >1</td>\n",
       "      <td id=\"T_8b5f6_row71_col2\" class=\"data row71 col2\" >1-4</td>\n",
       "      <td id=\"T_8b5f6_row71_col3\" class=\"data row71 col3\" >무야호</td>\n",
       "      <td id=\"T_8b5f6_row71_col4\" class=\"data row71 col4\" >무야호 (mu-ya-ho)</td>\n",
       "      <td id=\"T_8b5f6_row71_col5\" class=\"data row71 col5\" >9,759,470</td>\n",
       "      <td id=\"T_8b5f6_row71_col6\" class=\"data row71 col6\" >38,576,920</td>\n",
       "      <td id=\"T_8b5f6_row71_col7\" class=\"data row71 col7\" >11</td>\n",
       "      <td id=\"T_8b5f6_row71_col8\" class=\"data row71 col8\" > ▼1</td>\n",
       "      <td id=\"T_8b5f6_row71_col9\" class=\"data row71 col9\" >9</td>\n",
       "      <td id=\"T_8b5f6_row71_col10\" class=\"data row71 col10\" > ▲1</td>\n",
       "      <td id=\"T_8b5f6_row71_col11\" class=\"data row71 col11\" >81,000</td>\n",
       "      <td id=\"T_8b5f6_row71_col12\" class=\"data row71 col12\" >0.84%</td>\n",
       "    </tr>\n",
       "    <tr>\n",
       "      <th id=\"T_8b5f6_level0_row72\" class=\"row_heading level0 row72\" >72</th>\n",
       "      <td id=\"T_8b5f6_row72_col0\" class=\"data row72 col0\" >19 Mar 2024</td>\n",
       "      <td id=\"T_8b5f6_row72_col1\" class=\"data row72 col1\" >1</td>\n",
       "      <td id=\"T_8b5f6_row72_col2\" class=\"data row72 col2\" >1-4</td>\n",
       "      <td id=\"T_8b5f6_row72_col3\" class=\"data row72 col3\" >열매</td>\n",
       "      <td id=\"T_8b5f6_row72_col4\" class=\"data row72 col4\" >열매 (yeol-mae)</td>\n",
       "      <td id=\"T_8b5f6_row72_col5\" class=\"data row72 col5\" >9,686,065</td>\n",
       "      <td id=\"T_8b5f6_row72_col6\" class=\"data row72 col6\" >38,570,910</td>\n",
       "      <td id=\"T_8b5f6_row72_col7\" class=\"data row72 col7\" >12</td>\n",
       "      <td id=\"T_8b5f6_row72_col8\" class=\"data row72 col8\" > ▼3</td>\n",
       "      <td id=\"T_8b5f6_row72_col9\" class=\"data row72 col9\" >10</td>\n",
       "      <td id=\"T_8b5f6_row72_col10\" class=\"data row72 col10\" > ▼1</td>\n",
       "      <td id=\"T_8b5f6_row72_col11\" class=\"data row72 col11\" >1,050</td>\n",
       "      <td id=\"T_8b5f6_row72_col12\" class=\"data row72 col12\" >0.01%</td>\n",
       "    </tr>\n",
       "    <tr>\n",
       "      <th id=\"T_8b5f6_level0_row73\" class=\"row_heading level0 row73\" >73</th>\n",
       "      <td id=\"T_8b5f6_row73_col0\" class=\"data row73 col0\" >19 Mar 2024</td>\n",
       "      <td id=\"T_8b5f6_row73_col1\" class=\"data row73 col1\" >1</td>\n",
       "      <td id=\"T_8b5f6_row73_col2\" class=\"data row73 col2\" >1-4</td>\n",
       "      <td id=\"T_8b5f6_row73_col3\" class=\"data row73 col3\" >MolochTH</td>\n",
       "      <td id=\"T_8b5f6_row73_col4\" class=\"data row73 col4\" >MolochTH</td>\n",
       "      <td id=\"T_8b5f6_row73_col5\" class=\"data row73 col5\" >9,841,245</td>\n",
       "      <td id=\"T_8b5f6_row73_col6\" class=\"data row73 col6\" >38,491,550</td>\n",
       "      <td id=\"T_8b5f6_row73_col7\" class=\"data row73 col7\" >10</td>\n",
       "      <td id=\"T_8b5f6_row73_col8\" class=\"data row73 col8\" > ▼2</td>\n",
       "      <td id=\"T_8b5f6_row73_col9\" class=\"data row73 col9\" >11</td>\n",
       "      <td id=\"T_8b5f6_row73_col10\" class=\"data row73 col10\" > </td>\n",
       "      <td id=\"T_8b5f6_row73_col11\" class=\"data row73 col11\" >77,755</td>\n",
       "      <td id=\"T_8b5f6_row73_col12\" class=\"data row73 col12\" >0.80%</td>\n",
       "    </tr>\n",
       "    <tr>\n",
       "      <th id=\"T_8b5f6_level0_row74\" class=\"row_heading level0 row74\" >74</th>\n",
       "      <td id=\"T_8b5f6_row74_col0\" class=\"data row74 col0\" >19 Mar 2024</td>\n",
       "      <td id=\"T_8b5f6_row74_col1\" class=\"data row74 col1\" >1</td>\n",
       "      <td id=\"T_8b5f6_row74_col2\" class=\"data row74 col2\" >1-4</td>\n",
       "      <td id=\"T_8b5f6_row74_col3\" class=\"data row74 col3\" >이지스</td>\n",
       "      <td id=\"T_8b5f6_row74_col4\" class=\"data row74 col4\" >이지스 (aegis)</td>\n",
       "      <td id=\"T_8b5f6_row74_col5\" class=\"data row74 col5\" >9,936,100</td>\n",
       "      <td id=\"T_8b5f6_row74_col6\" class=\"data row74 col6\" >38,204,735</td>\n",
       "      <td id=\"T_8b5f6_row74_col7\" class=\"data row74 col7\" >8</td>\n",
       "      <td id=\"T_8b5f6_row74_col8\" class=\"data row74 col8\" > ▲4</td>\n",
       "      <td id=\"T_8b5f6_row74_col9\" class=\"data row74 col9\" >12</td>\n",
       "      <td id=\"T_8b5f6_row74_col10\" class=\"data row74 col10\" > </td>\n",
       "      <td id=\"T_8b5f6_row74_col11\" class=\"data row74 col11\" >321,715</td>\n",
       "      <td id=\"T_8b5f6_row74_col12\" class=\"data row74 col12\" >3.35%</td>\n",
       "    </tr>\n",
       "    <tr>\n",
       "      <th id=\"T_8b5f6_level0_row75\" class=\"row_heading level0 row75\" >75</th>\n",
       "      <td id=\"T_8b5f6_row75_col0\" class=\"data row75 col0\" >19 Mar 2024</td>\n",
       "      <td id=\"T_8b5f6_row75_col1\" class=\"data row75 col1\" >1</td>\n",
       "      <td id=\"T_8b5f6_row75_col2\" class=\"data row75 col2\" >1-4</td>\n",
       "      <td id=\"T_8b5f6_row75_col3\" class=\"data row75 col3\" >MyTH</td>\n",
       "      <td id=\"T_8b5f6_row75_col4\" class=\"data row75 col4\" >MyTH</td>\n",
       "      <td id=\"T_8b5f6_row75_col5\" class=\"data row75 col5\" >9,595,775</td>\n",
       "      <td id=\"T_8b5f6_row75_col6\" class=\"data row75 col6\" >37,829,835</td>\n",
       "      <td id=\"T_8b5f6_row75_col7\" class=\"data row75 col7\" >14</td>\n",
       "      <td id=\"T_8b5f6_row75_col8\" class=\"data row75 col8\" > </td>\n",
       "      <td id=\"T_8b5f6_row75_col9\" class=\"data row75 col9\" >13</td>\n",
       "      <td id=\"T_8b5f6_row75_col10\" class=\"data row75 col10\" > </td>\n",
       "      <td id=\"T_8b5f6_row75_col11\" class=\"data row75 col11\" >235,575</td>\n",
       "      <td id=\"T_8b5f6_row75_col12\" class=\"data row75 col12\" >2.52%</td>\n",
       "    </tr>\n",
       "    <tr>\n",
       "      <th id=\"T_8b5f6_level0_row76\" class=\"row_heading level0 row76\" >76</th>\n",
       "      <td id=\"T_8b5f6_row76_col0\" class=\"data row76 col0\" >19 Mar 2024</td>\n",
       "      <td id=\"T_8b5f6_row76_col1\" class=\"data row76 col1\" >1</td>\n",
       "      <td id=\"T_8b5f6_row76_col2\" class=\"data row76 col2\" >1-4</td>\n",
       "      <td id=\"T_8b5f6_row76_col3\" class=\"data row76 col3\" >Peppermint</td>\n",
       "      <td id=\"T_8b5f6_row76_col4\" class=\"data row76 col4\" >Peppermint</td>\n",
       "      <td id=\"T_8b5f6_row76_col5\" class=\"data row76 col5\" >9,678,895</td>\n",
       "      <td id=\"T_8b5f6_row76_col6\" class=\"data row76 col6\" >37,373,875</td>\n",
       "      <td id=\"T_8b5f6_row76_col7\" class=\"data row76 col7\" >13</td>\n",
       "      <td id=\"T_8b5f6_row76_col8\" class=\"data row76 col8\" > </td>\n",
       "      <td id=\"T_8b5f6_row76_col9\" class=\"data row76 col9\" >14</td>\n",
       "      <td id=\"T_8b5f6_row76_col10\" class=\"data row76 col10\" > </td>\n",
       "      <td id=\"T_8b5f6_row76_col11\" class=\"data row76 col11\" >242,685</td>\n",
       "      <td id=\"T_8b5f6_row76_col12\" class=\"data row76 col12\" >2.57%</td>\n",
       "    </tr>\n",
       "    <tr>\n",
       "      <th id=\"T_8b5f6_level0_row77\" class=\"row_heading level0 row77\" >77</th>\n",
       "      <td id=\"T_8b5f6_row77_col0\" class=\"data row77 col0\" >19 Mar 2024</td>\n",
       "      <td id=\"T_8b5f6_row77_col1\" class=\"data row77 col1\" >1</td>\n",
       "      <td id=\"T_8b5f6_row77_col2\" class=\"data row77 col2\" >1-4</td>\n",
       "      <td id=\"T_8b5f6_row77_col3\" class=\"data row77 col3\" >재난경보</td>\n",
       "      <td id=\"T_8b5f6_row77_col4\" class=\"data row77 col4\" >재난경보 (jae-nan-gyeong-bo)</td>\n",
       "      <td id=\"T_8b5f6_row77_col5\" class=\"data row77 col5\" >9,049,535</td>\n",
       "      <td id=\"T_8b5f6_row77_col6\" class=\"data row77 col6\" >36,417,570</td>\n",
       "      <td id=\"T_8b5f6_row77_col7\" class=\"data row77 col7\" >16</td>\n",
       "      <td id=\"T_8b5f6_row77_col8\" class=\"data row77 col8\" > </td>\n",
       "      <td id=\"T_8b5f6_row77_col9\" class=\"data row77 col9\" >15</td>\n",
       "      <td id=\"T_8b5f6_row77_col10\" class=\"data row77 col10\" > </td>\n",
       "      <td id=\"T_8b5f6_row77_col11\" class=\"data row77 col11\" >81,280</td>\n",
       "      <td id=\"T_8b5f6_row77_col12\" class=\"data row77 col12\" >0.91%</td>\n",
       "    </tr>\n",
       "    <tr>\n",
       "      <th id=\"T_8b5f6_level0_row78\" class=\"row_heading level0 row78\" >78</th>\n",
       "      <td id=\"T_8b5f6_row78_col0\" class=\"data row78 col0\" >19 Mar 2024</td>\n",
       "      <td id=\"T_8b5f6_row78_col1\" class=\"data row78 col1\" >1</td>\n",
       "      <td id=\"T_8b5f6_row78_col2\" class=\"data row78 col2\" >1-4</td>\n",
       "      <td id=\"T_8b5f6_row78_col3\" class=\"data row78 col3\" >사혼</td>\n",
       "      <td id=\"T_8b5f6_row78_col4\" class=\"data row78 col4\" >사혼 (sa-hon)</td>\n",
       "      <td id=\"T_8b5f6_row78_col5\" class=\"data row78 col5\" >9,132,590</td>\n",
       "      <td id=\"T_8b5f6_row78_col6\" class=\"data row78 col6\" >35,457,875</td>\n",
       "      <td id=\"T_8b5f6_row78_col7\" class=\"data row78 col7\" >15</td>\n",
       "      <td id=\"T_8b5f6_row78_col8\" class=\"data row78 col8\" > </td>\n",
       "      <td id=\"T_8b5f6_row78_col9\" class=\"data row78 col9\" >16</td>\n",
       "      <td id=\"T_8b5f6_row78_col10\" class=\"data row78 col10\" > </td>\n",
       "      <td id=\"T_8b5f6_row78_col11\" class=\"data row78 col11\" >164,245</td>\n",
       "      <td id=\"T_8b5f6_row78_col12\" class=\"data row78 col12\" >1.83%</td>\n",
       "    </tr>\n",
       "    <tr>\n",
       "      <th id=\"T_8b5f6_level0_row79\" class=\"row_heading level0 row79\" >79</th>\n",
       "      <td id=\"T_8b5f6_row79_col0\" class=\"data row79 col0\" >19 Mar 2024</td>\n",
       "      <td id=\"T_8b5f6_row79_col1\" class=\"data row79 col1\" >1</td>\n",
       "      <td id=\"T_8b5f6_row79_col2\" class=\"data row79 col2\" >1-4</td>\n",
       "      <td id=\"T_8b5f6_row79_col3\" class=\"data row79 col3\" >Nigiri</td>\n",
       "      <td id=\"T_8b5f6_row79_col4\" class=\"data row79 col4\" >Nigiri</td>\n",
       "      <td id=\"T_8b5f6_row79_col5\" class=\"data row79 col5\" >8,894,760</td>\n",
       "      <td id=\"T_8b5f6_row79_col6\" class=\"data row79 col6\" >34,682,725</td>\n",
       "      <td id=\"T_8b5f6_row79_col7\" class=\"data row79 col7\" >18</td>\n",
       "      <td id=\"T_8b5f6_row79_col8\" class=\"data row79 col8\" > </td>\n",
       "      <td id=\"T_8b5f6_row79_col9\" class=\"data row79 col9\" >17</td>\n",
       "      <td id=\"T_8b5f6_row79_col10\" class=\"data row79 col10\" > </td>\n",
       "      <td id=\"T_8b5f6_row79_col11\" class=\"data row79 col11\" >223,450</td>\n",
       "      <td id=\"T_8b5f6_row79_col12\" class=\"data row79 col12\" >2.58%</td>\n",
       "    </tr>\n",
       "    <tr>\n",
       "      <th id=\"T_8b5f6_level0_row80\" class=\"row_heading level0 row80\" >80</th>\n",
       "      <td id=\"T_8b5f6_row80_col0\" class=\"data row80 col0\" >19 Mar 2024</td>\n",
       "      <td id=\"T_8b5f6_row80_col1\" class=\"data row80 col1\" >1</td>\n",
       "      <td id=\"T_8b5f6_row80_col2\" class=\"data row80 col2\" >1-4</td>\n",
       "      <td id=\"T_8b5f6_row80_col3\" class=\"data row80 col3\" >S7AR</td>\n",
       "      <td id=\"T_8b5f6_row80_col4\" class=\"data row80 col4\" >S7AR</td>\n",
       "      <td id=\"T_8b5f6_row80_col5\" class=\"data row80 col5\" >8,891,645</td>\n",
       "      <td id=\"T_8b5f6_row80_col6\" class=\"data row80 col6\" >34,511,775</td>\n",
       "      <td id=\"T_8b5f6_row80_col7\" class=\"data row80 col7\" >19</td>\n",
       "      <td id=\"T_8b5f6_row80_col8\" class=\"data row80 col8\" > </td>\n",
       "      <td id=\"T_8b5f6_row80_col9\" class=\"data row80 col9\" >18</td>\n",
       "      <td id=\"T_8b5f6_row80_col10\" class=\"data row80 col10\" > </td>\n",
       "      <td id=\"T_8b5f6_row80_col11\" class=\"data row80 col11\" >230,295</td>\n",
       "      <td id=\"T_8b5f6_row80_col12\" class=\"data row80 col12\" >2.66%</td>\n",
       "    </tr>\n",
       "    <tr>\n",
       "      <th id=\"T_8b5f6_level0_row81\" class=\"row_heading level0 row81\" >81</th>\n",
       "      <td id=\"T_8b5f6_row81_col0\" class=\"data row81 col0\" >19 Mar 2024</td>\n",
       "      <td id=\"T_8b5f6_row81_col1\" class=\"data row81 col1\" >1</td>\n",
       "      <td id=\"T_8b5f6_row81_col2\" class=\"data row81 col2\" >1-4</td>\n",
       "      <td id=\"T_8b5f6_row81_col3\" class=\"data row81 col3\" >DEKWAT</td>\n",
       "      <td id=\"T_8b5f6_row81_col4\" class=\"data row81 col4\" >DEKWAT</td>\n",
       "      <td id=\"T_8b5f6_row81_col5\" class=\"data row81 col5\" >8,894,960</td>\n",
       "      <td id=\"T_8b5f6_row81_col6\" class=\"data row81 col6\" >34,182,330</td>\n",
       "      <td id=\"T_8b5f6_row81_col7\" class=\"data row81 col7\" >17</td>\n",
       "      <td id=\"T_8b5f6_row81_col8\" class=\"data row81 col8\" > ▲3</td>\n",
       "      <td id=\"T_8b5f6_row81_col9\" class=\"data row81 col9\" >19</td>\n",
       "      <td id=\"T_8b5f6_row81_col10\" class=\"data row81 col10\" > </td>\n",
       "      <td id=\"T_8b5f6_row81_col11\" class=\"data row81 col11\" >296,685</td>\n",
       "      <td id=\"T_8b5f6_row81_col12\" class=\"data row81 col12\" >3.45%</td>\n",
       "    </tr>\n",
       "    <tr>\n",
       "      <th id=\"T_8b5f6_level0_row82\" class=\"row_heading level0 row82\" >82</th>\n",
       "      <td id=\"T_8b5f6_row82_col0\" class=\"data row82 col0\" >19 Mar 2024</td>\n",
       "      <td id=\"T_8b5f6_row82_col1\" class=\"data row82 col1\" >1</td>\n",
       "      <td id=\"T_8b5f6_row82_col2\" class=\"data row82 col2\" >1-4</td>\n",
       "      <td id=\"T_8b5f6_row82_col3\" class=\"data row82 col3\" >쿠벤저스</td>\n",
       "      <td id=\"T_8b5f6_row82_col4\" class=\"data row82 col4\" >쿠벤저스 (cubengers)</td>\n",
       "      <td id=\"T_8b5f6_row82_col5\" class=\"data row82 col5\" >8,743,310</td>\n",
       "      <td id=\"T_8b5f6_row82_col6\" class=\"data row82 col6\" >33,869,870</td>\n",
       "      <td id=\"T_8b5f6_row82_col7\" class=\"data row82 col7\" >21</td>\n",
       "      <td id=\"T_8b5f6_row82_col8\" class=\"data row82 col8\" > ▼4</td>\n",
       "      <td id=\"T_8b5f6_row82_col9\" class=\"data row82 col9\" >20</td>\n",
       "      <td id=\"T_8b5f6_row82_col10\" class=\"data row82 col10\" > </td>\n",
       "      <td id=\"T_8b5f6_row82_col11\" class=\"data row82 col11\" >61,695</td>\n",
       "      <td id=\"T_8b5f6_row82_col12\" class=\"data row82 col12\" >0.71%</td>\n",
       "    </tr>\n",
       "    <tr>\n",
       "      <th id=\"T_8b5f6_level0_row83\" class=\"row_heading level0 row83\" >83</th>\n",
       "      <td id=\"T_8b5f6_row83_col0\" class=\"data row83 col0\" >19 Mar 2024</td>\n",
       "      <td id=\"T_8b5f6_row83_col1\" class=\"data row83 col1\" >1</td>\n",
       "      <td id=\"T_8b5f6_row83_col2\" class=\"data row83 col2\" >1-4</td>\n",
       "      <td id=\"T_8b5f6_row83_col3\" class=\"data row83 col3\" >Nobility</td>\n",
       "      <td id=\"T_8b5f6_row83_col4\" class=\"data row83 col4\" >Nobility</td>\n",
       "      <td id=\"T_8b5f6_row83_col5\" class=\"data row83 col5\" >8,754,070</td>\n",
       "      <td id=\"T_8b5f6_row83_col6\" class=\"data row83 col6\" >32,956,685</td>\n",
       "      <td id=\"T_8b5f6_row83_col7\" class=\"data row83 col7\" >20</td>\n",
       "      <td id=\"T_8b5f6_row83_col8\" class=\"data row83 col8\" > ▲1</td>\n",
       "      <td id=\"T_8b5f6_row83_col9\" class=\"data row83 col9\" >22</td>\n",
       "      <td id=\"T_8b5f6_row83_col10\" class=\"data row83 col10\" > ▲2</td>\n",
       "      <td id=\"T_8b5f6_row83_col11\" class=\"data row83 col11\" >665,420</td>\n",
       "      <td id=\"T_8b5f6_row83_col12\" class=\"data row83 col12\" >8.23%</td>\n",
       "    </tr>\n",
       "    <tr>\n",
       "      <th id=\"T_8b5f6_level0_row84\" class=\"row_heading level0 row84\" >84</th>\n",
       "      <td id=\"T_8b5f6_row84_col0\" class=\"data row84 col0\" >26 Mar 2024</td>\n",
       "      <td id=\"T_8b5f6_row84_col1\" class=\"data row84 col1\" >2</td>\n",
       "      <td id=\"T_8b5f6_row84_col2\" class=\"data row84 col2\" >2-1</td>\n",
       "      <td id=\"T_8b5f6_row84_col3\" class=\"data row84 col3\" >Spearmint</td>\n",
       "      <td id=\"T_8b5f6_row84_col4\" class=\"data row84 col4\" >Spearmint</td>\n",
       "      <td id=\"T_8b5f6_row84_col5\" class=\"data row84 col5\" >10,949,190</td>\n",
       "      <td id=\"T_8b5f6_row84_col6\" class=\"data row84 col6\" >10,949,190</td>\n",
       "      <td id=\"T_8b5f6_row84_col7\" class=\"data row84 col7\" >1</td>\n",
       "      <td id=\"T_8b5f6_row84_col8\" class=\"data row84 col8\" > </td>\n",
       "      <td id=\"T_8b5f6_row84_col9\" class=\"data row84 col9\" >1</td>\n",
       "      <td id=\"T_8b5f6_row84_col10\" class=\"data row84 col10\" > </td>\n",
       "      <td id=\"T_8b5f6_row84_col11\" class=\"data row84 col11\" >169,780</td>\n",
       "      <td id=\"T_8b5f6_row84_col12\" class=\"data row84 col12\" >1.58%</td>\n",
       "    </tr>\n",
       "    <tr>\n",
       "      <th id=\"T_8b5f6_level0_row85\" class=\"row_heading level0 row85\" >85</th>\n",
       "      <td id=\"T_8b5f6_row85_col0\" class=\"data row85 col0\" >26 Mar 2024</td>\n",
       "      <td id=\"T_8b5f6_row85_col1\" class=\"data row85 col1\" >2</td>\n",
       "      <td id=\"T_8b5f6_row85_col2\" class=\"data row85 col2\" >2-1</td>\n",
       "      <td id=\"T_8b5f6_row85_col3\" class=\"data row85 col3\" >Vivid</td>\n",
       "      <td id=\"T_8b5f6_row85_col4\" class=\"data row85 col4\" >Vivid</td>\n",
       "      <td id=\"T_8b5f6_row85_col5\" class=\"data row85 col5\" >10,866,400</td>\n",
       "      <td id=\"T_8b5f6_row85_col6\" class=\"data row85 col6\" >10,866,400</td>\n",
       "      <td id=\"T_8b5f6_row85_col7\" class=\"data row85 col7\" >2</td>\n",
       "      <td id=\"T_8b5f6_row85_col8\" class=\"data row85 col8\" > </td>\n",
       "      <td id=\"T_8b5f6_row85_col9\" class=\"data row85 col9\" >2</td>\n",
       "      <td id=\"T_8b5f6_row85_col10\" class=\"data row85 col10\" > </td>\n",
       "      <td id=\"T_8b5f6_row85_col11\" class=\"data row85 col11\" >164,040</td>\n",
       "      <td id=\"T_8b5f6_row85_col12\" class=\"data row85 col12\" >1.53%</td>\n",
       "    </tr>\n",
       "    <tr>\n",
       "      <th id=\"T_8b5f6_level0_row86\" class=\"row_heading level0 row86\" >86</th>\n",
       "      <td id=\"T_8b5f6_row86_col0\" class=\"data row86 col0\" >26 Mar 2024</td>\n",
       "      <td id=\"T_8b5f6_row86_col1\" class=\"data row86 col1\" >2</td>\n",
       "      <td id=\"T_8b5f6_row86_col2\" class=\"data row86 col2\" >2-1</td>\n",
       "      <td id=\"T_8b5f6_row86_col3\" class=\"data row86 col3\" >Nobless</td>\n",
       "      <td id=\"T_8b5f6_row86_col4\" class=\"data row86 col4\" >Nobless</td>\n",
       "      <td id=\"T_8b5f6_row86_col5\" class=\"data row86 col5\" >10,517,570</td>\n",
       "      <td id=\"T_8b5f6_row86_col6\" class=\"data row86 col6\" >10,517,570</td>\n",
       "      <td id=\"T_8b5f6_row86_col7\" class=\"data row86 col7\" >3</td>\n",
       "      <td id=\"T_8b5f6_row86_col8\" class=\"data row86 col8\" > </td>\n",
       "      <td id=\"T_8b5f6_row86_col9\" class=\"data row86 col9\" >3</td>\n",
       "      <td id=\"T_8b5f6_row86_col10\" class=\"data row86 col10\" > </td>\n",
       "      <td id=\"T_8b5f6_row86_col11\" class=\"data row86 col11\" >168,475</td>\n",
       "      <td id=\"T_8b5f6_row86_col12\" class=\"data row86 col12\" >1.63%</td>\n",
       "    </tr>\n",
       "    <tr>\n",
       "      <th id=\"T_8b5f6_level0_row87\" class=\"row_heading level0 row87\" >87</th>\n",
       "      <td id=\"T_8b5f6_row87_col0\" class=\"data row87 col0\" >26 Mar 2024</td>\n",
       "      <td id=\"T_8b5f6_row87_col1\" class=\"data row87 col1\" >2</td>\n",
       "      <td id=\"T_8b5f6_row87_col2\" class=\"data row87 col2\" >2-1</td>\n",
       "      <td id=\"T_8b5f6_row87_col3\" class=\"data row87 col3\" >미라클</td>\n",
       "      <td id=\"T_8b5f6_row87_col4\" class=\"data row87 col4\" >미라클 (miracle)</td>\n",
       "      <td id=\"T_8b5f6_row87_col5\" class=\"data row87 col5\" >10,343,795</td>\n",
       "      <td id=\"T_8b5f6_row87_col6\" class=\"data row87 col6\" >10,343,795</td>\n",
       "      <td id=\"T_8b5f6_row87_col7\" class=\"data row87 col7\" >4</td>\n",
       "      <td id=\"T_8b5f6_row87_col8\" class=\"data row87 col8\" > </td>\n",
       "      <td id=\"T_8b5f6_row87_col9\" class=\"data row87 col9\" >4</td>\n",
       "      <td id=\"T_8b5f6_row87_col10\" class=\"data row87 col10\" > ▲1</td>\n",
       "      <td id=\"T_8b5f6_row87_col11\" class=\"data row87 col11\" >80,230</td>\n",
       "      <td id=\"T_8b5f6_row87_col12\" class=\"data row87 col12\" >0.78%</td>\n",
       "    </tr>\n",
       "    <tr>\n",
       "      <th id=\"T_8b5f6_level0_row88\" class=\"row_heading level0 row88\" >88</th>\n",
       "      <td id=\"T_8b5f6_row88_col0\" class=\"data row88 col0\" >26 Mar 2024</td>\n",
       "      <td id=\"T_8b5f6_row88_col1\" class=\"data row88 col1\" >2</td>\n",
       "      <td id=\"T_8b5f6_row88_col2\" class=\"data row88 col2\" >2-1</td>\n",
       "      <td id=\"T_8b5f6_row88_col3\" class=\"data row88 col3\" >님</td>\n",
       "      <td id=\"T_8b5f6_row88_col4\" class=\"data row88 col4\" >님 (nim)</td>\n",
       "      <td id=\"T_8b5f6_row88_col5\" class=\"data row88 col5\" >10,262,110</td>\n",
       "      <td id=\"T_8b5f6_row88_col6\" class=\"data row88 col6\" >10,262,110</td>\n",
       "      <td id=\"T_8b5f6_row88_col7\" class=\"data row88 col7\" >5</td>\n",
       "      <td id=\"T_8b5f6_row88_col8\" class=\"data row88 col8\" > ▲2</td>\n",
       "      <td id=\"T_8b5f6_row88_col9\" class=\"data row88 col9\" >5</td>\n",
       "      <td id=\"T_8b5f6_row88_col10\" class=\"data row88 col10\" > ▲1</td>\n",
       "      <td id=\"T_8b5f6_row88_col11\" class=\"data row88 col11\" >256,970</td>\n",
       "      <td id=\"T_8b5f6_row88_col12\" class=\"data row88 col12\" >2.57%</td>\n",
       "    </tr>\n",
       "    <tr>\n",
       "      <th id=\"T_8b5f6_level0_row89\" class=\"row_heading level0 row89\" >89</th>\n",
       "      <td id=\"T_8b5f6_row89_col0\" class=\"data row89 col0\" >26 Mar 2024</td>\n",
       "      <td id=\"T_8b5f6_row89_col1\" class=\"data row89 col1\" >2</td>\n",
       "      <td id=\"T_8b5f6_row89_col2\" class=\"data row89 col2\" >2-1</td>\n",
       "      <td id=\"T_8b5f6_row89_col3\" class=\"data row89 col3\" >LAODA</td>\n",
       "      <td id=\"T_8b5f6_row89_col4\" class=\"data row89 col4\" >LAODA</td>\n",
       "      <td id=\"T_8b5f6_row89_col5\" class=\"data row89 col5\" >10,260,975</td>\n",
       "      <td id=\"T_8b5f6_row89_col6\" class=\"data row89 col6\" >10,260,975</td>\n",
       "      <td id=\"T_8b5f6_row89_col7\" class=\"data row89 col7\" >6</td>\n",
       "      <td id=\"T_8b5f6_row89_col8\" class=\"data row89 col8\" > ▼1</td>\n",
       "      <td id=\"T_8b5f6_row89_col9\" class=\"data row89 col9\" >6</td>\n",
       "      <td id=\"T_8b5f6_row89_col10\" class=\"data row89 col10\" > ▼2</td>\n",
       "      <td id=\"T_8b5f6_row89_col11\" class=\"data row89 col11\" >86,040</td>\n",
       "      <td id=\"T_8b5f6_row89_col12\" class=\"data row89 col12\" >0.85%</td>\n",
       "    </tr>\n",
       "    <tr>\n",
       "      <th id=\"T_8b5f6_level0_row90\" class=\"row_heading level0 row90\" >90</th>\n",
       "      <td id=\"T_8b5f6_row90_col0\" class=\"data row90 col0\" >26 Mar 2024</td>\n",
       "      <td id=\"T_8b5f6_row90_col1\" class=\"data row90 col1\" >2</td>\n",
       "      <td id=\"T_8b5f6_row90_col2\" class=\"data row90 col2\" >2-1</td>\n",
       "      <td id=\"T_8b5f6_row90_col3\" class=\"data row90 col3\" >Crown</td>\n",
       "      <td id=\"T_8b5f6_row90_col4\" class=\"data row90 col4\" >Crown</td>\n",
       "      <td id=\"T_8b5f6_row90_col5\" class=\"data row90 col5\" >10,165,695</td>\n",
       "      <td id=\"T_8b5f6_row90_col6\" class=\"data row90 col6\" >10,165,695</td>\n",
       "      <td id=\"T_8b5f6_row90_col7\" class=\"data row90 col7\" >7</td>\n",
       "      <td id=\"T_8b5f6_row90_col8\" class=\"data row90 col8\" > ▼1</td>\n",
       "      <td id=\"T_8b5f6_row90_col9\" class=\"data row90 col9\" >7</td>\n",
       "      <td id=\"T_8b5f6_row90_col10\" class=\"data row90 col10\" > </td>\n",
       "      <td id=\"T_8b5f6_row90_col11\" class=\"data row90 col11\" >80,615</td>\n",
       "      <td id=\"T_8b5f6_row90_col12\" class=\"data row90 col12\" >0.80%</td>\n",
       "    </tr>\n",
       "    <tr>\n",
       "      <th id=\"T_8b5f6_level0_row91\" class=\"row_heading level0 row91\" >91</th>\n",
       "      <td id=\"T_8b5f6_row91_col0\" class=\"data row91 col0\" >26 Mar 2024</td>\n",
       "      <td id=\"T_8b5f6_row91_col1\" class=\"data row91 col1\" >2</td>\n",
       "      <td id=\"T_8b5f6_row91_col2\" class=\"data row91 col2\" >2-1</td>\n",
       "      <td id=\"T_8b5f6_row91_col3\" class=\"data row91 col3\" >이지스</td>\n",
       "      <td id=\"T_8b5f6_row91_col4\" class=\"data row91 col4\" >이지스 (aegis)</td>\n",
       "      <td id=\"T_8b5f6_row91_col5\" class=\"data row91 col5\" >10,018,860</td>\n",
       "      <td id=\"T_8b5f6_row91_col6\" class=\"data row91 col6\" >10,018,860</td>\n",
       "      <td id=\"T_8b5f6_row91_col7\" class=\"data row91 col7\" >8</td>\n",
       "      <td id=\"T_8b5f6_row91_col8\" class=\"data row91 col8\" > </td>\n",
       "      <td id=\"T_8b5f6_row91_col9\" class=\"data row91 col9\" >8</td>\n",
       "      <td id=\"T_8b5f6_row91_col10\" class=\"data row91 col10\" > ▲4</td>\n",
       "      <td id=\"T_8b5f6_row91_col11\" class=\"data row91 col11\" >82,760</td>\n",
       "      <td id=\"T_8b5f6_row91_col12\" class=\"data row91 col12\" >0.83%</td>\n",
       "    </tr>\n",
       "    <tr>\n",
       "      <th id=\"T_8b5f6_level0_row92\" class=\"row_heading level0 row92\" >92</th>\n",
       "      <td id=\"T_8b5f6_row92_col0\" class=\"data row92 col0\" >26 Mar 2024</td>\n",
       "      <td id=\"T_8b5f6_row92_col1\" class=\"data row92 col1\" >2</td>\n",
       "      <td id=\"T_8b5f6_row92_col2\" class=\"data row92 col2\" >2-1</td>\n",
       "      <td id=\"T_8b5f6_row92_col3\" class=\"data row92 col3\" >오로라</td>\n",
       "      <td id=\"T_8b5f6_row92_col4\" class=\"data row92 col4\" >오로라 (aurora)</td>\n",
       "      <td id=\"T_8b5f6_row92_col5\" class=\"data row92 col5\" >10,007,975</td>\n",
       "      <td id=\"T_8b5f6_row92_col6\" class=\"data row92 col6\" >10,007,975</td>\n",
       "      <td id=\"T_8b5f6_row92_col7\" class=\"data row92 col7\" >9</td>\n",
       "      <td id=\"T_8b5f6_row92_col8\" class=\"data row92 col8\" > </td>\n",
       "      <td id=\"T_8b5f6_row92_col9\" class=\"data row92 col9\" >9</td>\n",
       "      <td id=\"T_8b5f6_row92_col10\" class=\"data row92 col10\" > ▼1</td>\n",
       "      <td id=\"T_8b5f6_row92_col11\" class=\"data row92 col11\" >76,040</td>\n",
       "      <td id=\"T_8b5f6_row92_col12\" class=\"data row92 col12\" >0.77%</td>\n",
       "    </tr>\n",
       "    <tr>\n",
       "      <th id=\"T_8b5f6_level0_row93\" class=\"row_heading level0 row93\" >93</th>\n",
       "      <td id=\"T_8b5f6_row93_col0\" class=\"data row93 col0\" >26 Mar 2024</td>\n",
       "      <td id=\"T_8b5f6_row93_col1\" class=\"data row93 col1\" >2</td>\n",
       "      <td id=\"T_8b5f6_row93_col2\" class=\"data row93 col2\" >2-1</td>\n",
       "      <td id=\"T_8b5f6_row93_col3\" class=\"data row93 col3\" >열매</td>\n",
       "      <td id=\"T_8b5f6_row93_col4\" class=\"data row93 col4\" >열매 (yeol-mae)</td>\n",
       "      <td id=\"T_8b5f6_row93_col5\" class=\"data row93 col5\" >9,936,820</td>\n",
       "      <td id=\"T_8b5f6_row93_col6\" class=\"data row93 col6\" >9,936,820</td>\n",
       "      <td id=\"T_8b5f6_row93_col7\" class=\"data row93 col7\" >10</td>\n",
       "      <td id=\"T_8b5f6_row93_col8\" class=\"data row93 col8\" > ▲2</td>\n",
       "      <td id=\"T_8b5f6_row93_col9\" class=\"data row93 col9\" >10</td>\n",
       "      <td id=\"T_8b5f6_row93_col10\" class=\"data row93 col10\" > </td>\n",
       "      <td id=\"T_8b5f6_row93_col11\" class=\"data row93 col11\" >250,755</td>\n",
       "      <td id=\"T_8b5f6_row93_col12\" class=\"data row93 col12\" >2.59%</td>\n",
       "    </tr>\n",
       "    <tr>\n",
       "      <th id=\"T_8b5f6_level0_row94\" class=\"row_heading level0 row94\" >94</th>\n",
       "      <td id=\"T_8b5f6_row94_col0\" class=\"data row94 col0\" >26 Mar 2024</td>\n",
       "      <td id=\"T_8b5f6_row94_col1\" class=\"data row94 col1\" >2</td>\n",
       "      <td id=\"T_8b5f6_row94_col2\" class=\"data row94 col2\" >2-1</td>\n",
       "      <td id=\"T_8b5f6_row94_col3\" class=\"data row94 col3\" >MolochTH</td>\n",
       "      <td id=\"T_8b5f6_row94_col4\" class=\"data row94 col4\" >MolochTH</td>\n",
       "      <td id=\"T_8b5f6_row94_col5\" class=\"data row94 col5\" >9,931,170</td>\n",
       "      <td id=\"T_8b5f6_row94_col6\" class=\"data row94 col6\" >9,931,170</td>\n",
       "      <td id=\"T_8b5f6_row94_col7\" class=\"data row94 col7\" >11</td>\n",
       "      <td id=\"T_8b5f6_row94_col8\" class=\"data row94 col8\" > ▼1</td>\n",
       "      <td id=\"T_8b5f6_row94_col9\" class=\"data row94 col9\" >11</td>\n",
       "      <td id=\"T_8b5f6_row94_col10\" class=\"data row94 col10\" > </td>\n",
       "      <td id=\"T_8b5f6_row94_col11\" class=\"data row94 col11\" >89,925</td>\n",
       "      <td id=\"T_8b5f6_row94_col12\" class=\"data row94 col12\" >0.91%</td>\n",
       "    </tr>\n",
       "    <tr>\n",
       "      <th id=\"T_8b5f6_level0_row95\" class=\"row_heading level0 row95\" >95</th>\n",
       "      <td id=\"T_8b5f6_row95_col0\" class=\"data row95 col0\" >26 Mar 2024</td>\n",
       "      <td id=\"T_8b5f6_row95_col1\" class=\"data row95 col1\" >2</td>\n",
       "      <td id=\"T_8b5f6_row95_col2\" class=\"data row95 col2\" >2-1</td>\n",
       "      <td id=\"T_8b5f6_row95_col3\" class=\"data row95 col3\" >무야호</td>\n",
       "      <td id=\"T_8b5f6_row95_col4\" class=\"data row95 col4\" >무야호 (mu-ya-ho)</td>\n",
       "      <td id=\"T_8b5f6_row95_col5\" class=\"data row95 col5\" >9,849,030</td>\n",
       "      <td id=\"T_8b5f6_row95_col6\" class=\"data row95 col6\" >9,849,030</td>\n",
       "      <td id=\"T_8b5f6_row95_col7\" class=\"data row95 col7\" >12</td>\n",
       "      <td id=\"T_8b5f6_row95_col8\" class=\"data row95 col8\" > ▼1</td>\n",
       "      <td id=\"T_8b5f6_row95_col9\" class=\"data row95 col9\" >12</td>\n",
       "      <td id=\"T_8b5f6_row95_col10\" class=\"data row95 col10\" > ▼3</td>\n",
       "      <td id=\"T_8b5f6_row95_col11\" class=\"data row95 col11\" >89,560</td>\n",
       "      <td id=\"T_8b5f6_row95_col12\" class=\"data row95 col12\" >0.92%</td>\n",
       "    </tr>\n",
       "    <tr>\n",
       "      <th id=\"T_8b5f6_level0_row96\" class=\"row_heading level0 row96\" >96</th>\n",
       "      <td id=\"T_8b5f6_row96_col0\" class=\"data row96 col0\" >26 Mar 2024</td>\n",
       "      <td id=\"T_8b5f6_row96_col1\" class=\"data row96 col1\" >2</td>\n",
       "      <td id=\"T_8b5f6_row96_col2\" class=\"data row96 col2\" >2-1</td>\n",
       "      <td id=\"T_8b5f6_row96_col3\" class=\"data row96 col3\" >Peppermint</td>\n",
       "      <td id=\"T_8b5f6_row96_col4\" class=\"data row96 col4\" >Peppermint</td>\n",
       "      <td id=\"T_8b5f6_row96_col5\" class=\"data row96 col5\" >9,762,440</td>\n",
       "      <td id=\"T_8b5f6_row96_col6\" class=\"data row96 col6\" >9,762,440</td>\n",
       "      <td id=\"T_8b5f6_row96_col7\" class=\"data row96 col7\" >13</td>\n",
       "      <td id=\"T_8b5f6_row96_col8\" class=\"data row96 col8\" > </td>\n",
       "      <td id=\"T_8b5f6_row96_col9\" class=\"data row96 col9\" >13</td>\n",
       "      <td id=\"T_8b5f6_row96_col10\" class=\"data row96 col10\" > ▲1</td>\n",
       "      <td id=\"T_8b5f6_row96_col11\" class=\"data row96 col11\" >83,545</td>\n",
       "      <td id=\"T_8b5f6_row96_col12\" class=\"data row96 col12\" >0.86%</td>\n",
       "    </tr>\n",
       "    <tr>\n",
       "      <th id=\"T_8b5f6_level0_row97\" class=\"row_heading level0 row97\" >97</th>\n",
       "      <td id=\"T_8b5f6_row97_col0\" class=\"data row97 col0\" >26 Mar 2024</td>\n",
       "      <td id=\"T_8b5f6_row97_col1\" class=\"data row97 col1\" >2</td>\n",
       "      <td id=\"T_8b5f6_row97_col2\" class=\"data row97 col2\" >2-1</td>\n",
       "      <td id=\"T_8b5f6_row97_col3\" class=\"data row97 col3\" >MyTH</td>\n",
       "      <td id=\"T_8b5f6_row97_col4\" class=\"data row97 col4\" >MyTH</td>\n",
       "      <td id=\"T_8b5f6_row97_col5\" class=\"data row97 col5\" >9,595,795</td>\n",
       "      <td id=\"T_8b5f6_row97_col6\" class=\"data row97 col6\" >9,595,795</td>\n",
       "      <td id=\"T_8b5f6_row97_col7\" class=\"data row97 col7\" >14</td>\n",
       "      <td id=\"T_8b5f6_row97_col8\" class=\"data row97 col8\" > </td>\n",
       "      <td id=\"T_8b5f6_row97_col9\" class=\"data row97 col9\" >14</td>\n",
       "      <td id=\"T_8b5f6_row97_col10\" class=\"data row97 col10\" > ▼1</td>\n",
       "      <td id=\"T_8b5f6_row97_col11\" class=\"data row97 col11\" >20</td>\n",
       "      <td id=\"T_8b5f6_row97_col12\" class=\"data row97 col12\" >0.00%</td>\n",
       "    </tr>\n",
       "    <tr>\n",
       "      <th id=\"T_8b5f6_level0_row98\" class=\"row_heading level0 row98\" >98</th>\n",
       "      <td id=\"T_8b5f6_row98_col0\" class=\"data row98 col0\" >26 Mar 2024</td>\n",
       "      <td id=\"T_8b5f6_row98_col1\" class=\"data row98 col1\" >2</td>\n",
       "      <td id=\"T_8b5f6_row98_col2\" class=\"data row98 col2\" >2-1</td>\n",
       "      <td id=\"T_8b5f6_row98_col3\" class=\"data row98 col3\" >사혼</td>\n",
       "      <td id=\"T_8b5f6_row98_col4\" class=\"data row98 col4\" >사혼 (sa-hon)</td>\n",
       "      <td id=\"T_8b5f6_row98_col5\" class=\"data row98 col5\" >9,285,030</td>\n",
       "      <td id=\"T_8b5f6_row98_col6\" class=\"data row98 col6\" >9,285,030</td>\n",
       "      <td id=\"T_8b5f6_row98_col7\" class=\"data row98 col7\" >15</td>\n",
       "      <td id=\"T_8b5f6_row98_col8\" class=\"data row98 col8\" > </td>\n",
       "      <td id=\"T_8b5f6_row98_col9\" class=\"data row98 col9\" >15</td>\n",
       "      <td id=\"T_8b5f6_row98_col10\" class=\"data row98 col10\" > ▲1</td>\n",
       "      <td id=\"T_8b5f6_row98_col11\" class=\"data row98 col11\" >152,440</td>\n",
       "      <td id=\"T_8b5f6_row98_col12\" class=\"data row98 col12\" >1.67%</td>\n",
       "    </tr>\n",
       "    <tr>\n",
       "      <th id=\"T_8b5f6_level0_row99\" class=\"row_heading level0 row99\" >99</th>\n",
       "      <td id=\"T_8b5f6_row99_col0\" class=\"data row99 col0\" >26 Mar 2024</td>\n",
       "      <td id=\"T_8b5f6_row99_col1\" class=\"data row99 col1\" >2</td>\n",
       "      <td id=\"T_8b5f6_row99_col2\" class=\"data row99 col2\" >2-1</td>\n",
       "      <td id=\"T_8b5f6_row99_col3\" class=\"data row99 col3\" >재난경보</td>\n",
       "      <td id=\"T_8b5f6_row99_col4\" class=\"data row99 col4\" >재난경보 (jae-nan-gyeong-bo)</td>\n",
       "      <td id=\"T_8b5f6_row99_col5\" class=\"data row99 col5\" >9,203,435</td>\n",
       "      <td id=\"T_8b5f6_row99_col6\" class=\"data row99 col6\" >9,203,435</td>\n",
       "      <td id=\"T_8b5f6_row99_col7\" class=\"data row99 col7\" >16</td>\n",
       "      <td id=\"T_8b5f6_row99_col8\" class=\"data row99 col8\" > </td>\n",
       "      <td id=\"T_8b5f6_row99_col9\" class=\"data row99 col9\" >16</td>\n",
       "      <td id=\"T_8b5f6_row99_col10\" class=\"data row99 col10\" > ▼1</td>\n",
       "      <td id=\"T_8b5f6_row99_col11\" class=\"data row99 col11\" >153,900</td>\n",
       "      <td id=\"T_8b5f6_row99_col12\" class=\"data row99 col12\" >1.70%</td>\n",
       "    </tr>\n",
       "    <tr>\n",
       "      <th id=\"T_8b5f6_level0_row100\" class=\"row_heading level0 row100\" >100</th>\n",
       "      <td id=\"T_8b5f6_row100_col0\" class=\"data row100 col0\" >26 Mar 2024</td>\n",
       "      <td id=\"T_8b5f6_row100_col1\" class=\"data row100 col1\" >2</td>\n",
       "      <td id=\"T_8b5f6_row100_col2\" class=\"data row100 col2\" >2-1</td>\n",
       "      <td id=\"T_8b5f6_row100_col3\" class=\"data row100 col3\" >S7AR</td>\n",
       "      <td id=\"T_8b5f6_row100_col4\" class=\"data row100 col4\" >S7AR</td>\n",
       "      <td id=\"T_8b5f6_row100_col5\" class=\"data row100 col5\" >9,047,070</td>\n",
       "      <td id=\"T_8b5f6_row100_col6\" class=\"data row100 col6\" >9,047,070</td>\n",
       "      <td id=\"T_8b5f6_row100_col7\" class=\"data row100 col7\" >17</td>\n",
       "      <td id=\"T_8b5f6_row100_col8\" class=\"data row100 col8\" > ▲2</td>\n",
       "      <td id=\"T_8b5f6_row100_col9\" class=\"data row100 col9\" >17</td>\n",
       "      <td id=\"T_8b5f6_row100_col10\" class=\"data row100 col10\" > ▲1</td>\n",
       "      <td id=\"T_8b5f6_row100_col11\" class=\"data row100 col11\" >155,425</td>\n",
       "      <td id=\"T_8b5f6_row100_col12\" class=\"data row100 col12\" >1.75%</td>\n",
       "    </tr>\n",
       "    <tr>\n",
       "      <th id=\"T_8b5f6_level0_row101\" class=\"row_heading level0 row101\" >101</th>\n",
       "      <td id=\"T_8b5f6_row101_col0\" class=\"data row101 col0\" >26 Mar 2024</td>\n",
       "      <td id=\"T_8b5f6_row101_col1\" class=\"data row101 col1\" >2</td>\n",
       "      <td id=\"T_8b5f6_row101_col2\" class=\"data row101 col2\" >2-1</td>\n",
       "      <td id=\"T_8b5f6_row101_col3\" class=\"data row101 col3\" >Nigiri</td>\n",
       "      <td id=\"T_8b5f6_row101_col4\" class=\"data row101 col4\" >Nigiri</td>\n",
       "      <td id=\"T_8b5f6_row101_col5\" class=\"data row101 col5\" >8,984,405</td>\n",
       "      <td id=\"T_8b5f6_row101_col6\" class=\"data row101 col6\" >8,984,405</td>\n",
       "      <td id=\"T_8b5f6_row101_col7\" class=\"data row101 col7\" >18</td>\n",
       "      <td id=\"T_8b5f6_row101_col8\" class=\"data row101 col8\" > </td>\n",
       "      <td id=\"T_8b5f6_row101_col9\" class=\"data row101 col9\" >18</td>\n",
       "      <td id=\"T_8b5f6_row101_col10\" class=\"data row101 col10\" > ▼1</td>\n",
       "      <td id=\"T_8b5f6_row101_col11\" class=\"data row101 col11\" >89,645</td>\n",
       "      <td id=\"T_8b5f6_row101_col12\" class=\"data row101 col12\" >1.01%</td>\n",
       "    </tr>\n",
       "    <tr>\n",
       "      <th id=\"T_8b5f6_level0_row102\" class=\"row_heading level0 row102\" >102</th>\n",
       "      <td id=\"T_8b5f6_row102_col0\" class=\"data row102 col0\" >26 Mar 2024</td>\n",
       "      <td id=\"T_8b5f6_row102_col1\" class=\"data row102 col1\" >2</td>\n",
       "      <td id=\"T_8b5f6_row102_col2\" class=\"data row102 col2\" >2-1</td>\n",
       "      <td id=\"T_8b5f6_row102_col3\" class=\"data row102 col3\" >DEKWAT</td>\n",
       "      <td id=\"T_8b5f6_row102_col4\" class=\"data row102 col4\" >DEKWAT</td>\n",
       "      <td id=\"T_8b5f6_row102_col5\" class=\"data row102 col5\" >8,980,530</td>\n",
       "      <td id=\"T_8b5f6_row102_col6\" class=\"data row102 col6\" >8,980,530</td>\n",
       "      <td id=\"T_8b5f6_row102_col7\" class=\"data row102 col7\" >19</td>\n",
       "      <td id=\"T_8b5f6_row102_col8\" class=\"data row102 col8\" > ▼2</td>\n",
       "      <td id=\"T_8b5f6_row102_col9\" class=\"data row102 col9\" >19</td>\n",
       "      <td id=\"T_8b5f6_row102_col10\" class=\"data row102 col10\" > </td>\n",
       "      <td id=\"T_8b5f6_row102_col11\" class=\"data row102 col11\" >85,570</td>\n",
       "      <td id=\"T_8b5f6_row102_col12\" class=\"data row102 col12\" >0.96%</td>\n",
       "    </tr>\n",
       "    <tr>\n",
       "      <th id=\"T_8b5f6_level0_row103\" class=\"row_heading level0 row103\" >103</th>\n",
       "      <td id=\"T_8b5f6_row103_col0\" class=\"data row103 col0\" >26 Mar 2024</td>\n",
       "      <td id=\"T_8b5f6_row103_col1\" class=\"data row103 col1\" >2</td>\n",
       "      <td id=\"T_8b5f6_row103_col2\" class=\"data row103 col2\" >2-1</td>\n",
       "      <td id=\"T_8b5f6_row103_col3\" class=\"data row103 col3\" >쿠벤저스</td>\n",
       "      <td id=\"T_8b5f6_row103_col4\" class=\"data row103 col4\" >쿠벤저스 (cubengers)</td>\n",
       "      <td id=\"T_8b5f6_row103_col5\" class=\"data row103 col5\" >8,901,790</td>\n",
       "      <td id=\"T_8b5f6_row103_col6\" class=\"data row103 col6\" >8,901,790</td>\n",
       "      <td id=\"T_8b5f6_row103_col7\" class=\"data row103 col7\" >20</td>\n",
       "      <td id=\"T_8b5f6_row103_col8\" class=\"data row103 col8\" > ▲1</td>\n",
       "      <td id=\"T_8b5f6_row103_col9\" class=\"data row103 col9\" >20</td>\n",
       "      <td id=\"T_8b5f6_row103_col10\" class=\"data row103 col10\" > </td>\n",
       "      <td id=\"T_8b5f6_row103_col11\" class=\"data row103 col11\" >158,480</td>\n",
       "      <td id=\"T_8b5f6_row103_col12\" class=\"data row103 col12\" >1.81%</td>\n",
       "    </tr>\n",
       "    <tr>\n",
       "      <th id=\"T_8b5f6_level0_row104\" class=\"row_heading level0 row104\" >104</th>\n",
       "      <td id=\"T_8b5f6_row104_col0\" class=\"data row104 col0\" >26 Mar 2024</td>\n",
       "      <td id=\"T_8b5f6_row104_col1\" class=\"data row104 col1\" >2</td>\n",
       "      <td id=\"T_8b5f6_row104_col2\" class=\"data row104 col2\" >2-1</td>\n",
       "      <td id=\"T_8b5f6_row104_col3\" class=\"data row104 col3\" >Nobility</td>\n",
       "      <td id=\"T_8b5f6_row104_col4\" class=\"data row104 col4\" >Nobility</td>\n",
       "      <td id=\"T_8b5f6_row104_col5\" class=\"data row104 col5\" >8,833,320</td>\n",
       "      <td id=\"T_8b5f6_row104_col6\" class=\"data row104 col6\" >8,833,320</td>\n",
       "      <td id=\"T_8b5f6_row104_col7\" class=\"data row104 col7\" >21</td>\n",
       "      <td id=\"T_8b5f6_row104_col8\" class=\"data row104 col8\" > ▼1</td>\n",
       "      <td id=\"T_8b5f6_row104_col9\" class=\"data row104 col9\" >21</td>\n",
       "      <td id=\"T_8b5f6_row104_col10\" class=\"data row104 col10\" > ▲1</td>\n",
       "      <td id=\"T_8b5f6_row104_col11\" class=\"data row104 col11\" >79,250</td>\n",
       "      <td id=\"T_8b5f6_row104_col12\" class=\"data row104 col12\" >0.91%</td>\n",
       "    </tr>\n",
       "    <tr>\n",
       "      <th id=\"T_8b5f6_level0_row105\" class=\"row_heading level0 row105\" >105</th>\n",
       "      <td id=\"T_8b5f6_row105_col0\" class=\"data row105 col0\" >02 Apr 2024</td>\n",
       "      <td id=\"T_8b5f6_row105_col1\" class=\"data row105 col1\" >2</td>\n",
       "      <td id=\"T_8b5f6_row105_col2\" class=\"data row105 col2\" >2-2</td>\n",
       "      <td id=\"T_8b5f6_row105_col3\" class=\"data row105 col3\" >Spearmint</td>\n",
       "      <td id=\"T_8b5f6_row105_col4\" class=\"data row105 col4\" >Spearmint</td>\n",
       "      <td id=\"T_8b5f6_row105_col5\" class=\"data row105 col5\" >11,036,070</td>\n",
       "      <td id=\"T_8b5f6_row105_col6\" class=\"data row105 col6\" >21,985,260</td>\n",
       "      <td id=\"T_8b5f6_row105_col7\" class=\"data row105 col7\" >1</td>\n",
       "      <td id=\"T_8b5f6_row105_col8\" class=\"data row105 col8\" > </td>\n",
       "      <td id=\"T_8b5f6_row105_col9\" class=\"data row105 col9\" >1</td>\n",
       "      <td id=\"T_8b5f6_row105_col10\" class=\"data row105 col10\" > </td>\n",
       "      <td id=\"T_8b5f6_row105_col11\" class=\"data row105 col11\" >86,880</td>\n",
       "      <td id=\"T_8b5f6_row105_col12\" class=\"data row105 col12\" >0.79%</td>\n",
       "    </tr>\n",
       "    <tr>\n",
       "      <th id=\"T_8b5f6_level0_row106\" class=\"row_heading level0 row106\" >106</th>\n",
       "      <td id=\"T_8b5f6_row106_col0\" class=\"data row106 col0\" >02 Apr 2024</td>\n",
       "      <td id=\"T_8b5f6_row106_col1\" class=\"data row106 col1\" >2</td>\n",
       "      <td id=\"T_8b5f6_row106_col2\" class=\"data row106 col2\" >2-2</td>\n",
       "      <td id=\"T_8b5f6_row106_col3\" class=\"data row106 col3\" >Vivid</td>\n",
       "      <td id=\"T_8b5f6_row106_col4\" class=\"data row106 col4\" >Vivid</td>\n",
       "      <td id=\"T_8b5f6_row106_col5\" class=\"data row106 col5\" >10,945,065</td>\n",
       "      <td id=\"T_8b5f6_row106_col6\" class=\"data row106 col6\" >21,811,465</td>\n",
       "      <td id=\"T_8b5f6_row106_col7\" class=\"data row106 col7\" >2</td>\n",
       "      <td id=\"T_8b5f6_row106_col8\" class=\"data row106 col8\" > </td>\n",
       "      <td id=\"T_8b5f6_row106_col9\" class=\"data row106 col9\" >2</td>\n",
       "      <td id=\"T_8b5f6_row106_col10\" class=\"data row106 col10\" > </td>\n",
       "      <td id=\"T_8b5f6_row106_col11\" class=\"data row106 col11\" >78,665</td>\n",
       "      <td id=\"T_8b5f6_row106_col12\" class=\"data row106 col12\" >0.72%</td>\n",
       "    </tr>\n",
       "    <tr>\n",
       "      <th id=\"T_8b5f6_level0_row107\" class=\"row_heading level0 row107\" >107</th>\n",
       "      <td id=\"T_8b5f6_row107_col0\" class=\"data row107 col0\" >02 Apr 2024</td>\n",
       "      <td id=\"T_8b5f6_row107_col1\" class=\"data row107 col1\" >2</td>\n",
       "      <td id=\"T_8b5f6_row107_col2\" class=\"data row107 col2\" >2-2</td>\n",
       "      <td id=\"T_8b5f6_row107_col3\" class=\"data row107 col3\" >Nobless</td>\n",
       "      <td id=\"T_8b5f6_row107_col4\" class=\"data row107 col4\" >Nobless</td>\n",
       "      <td id=\"T_8b5f6_row107_col5\" class=\"data row107 col5\" >10,532,845</td>\n",
       "      <td id=\"T_8b5f6_row107_col6\" class=\"data row107 col6\" >21,050,415</td>\n",
       "      <td id=\"T_8b5f6_row107_col7\" class=\"data row107 col7\" >3</td>\n",
       "      <td id=\"T_8b5f6_row107_col8\" class=\"data row107 col8\" > </td>\n",
       "      <td id=\"T_8b5f6_row107_col9\" class=\"data row107 col9\" >3</td>\n",
       "      <td id=\"T_8b5f6_row107_col10\" class=\"data row107 col10\" > </td>\n",
       "      <td id=\"T_8b5f6_row107_col11\" class=\"data row107 col11\" >15,275</td>\n",
       "      <td id=\"T_8b5f6_row107_col12\" class=\"data row107 col12\" >0.15%</td>\n",
       "    </tr>\n",
       "    <tr>\n",
       "      <th id=\"T_8b5f6_level0_row108\" class=\"row_heading level0 row108\" >108</th>\n",
       "      <td id=\"T_8b5f6_row108_col0\" class=\"data row108 col0\" >02 Apr 2024</td>\n",
       "      <td id=\"T_8b5f6_row108_col1\" class=\"data row108 col1\" >2</td>\n",
       "      <td id=\"T_8b5f6_row108_col2\" class=\"data row108 col2\" >2-2</td>\n",
       "      <td id=\"T_8b5f6_row108_col3\" class=\"data row108 col3\" >미라클</td>\n",
       "      <td id=\"T_8b5f6_row108_col4\" class=\"data row108 col4\" >미라클 (miracle)</td>\n",
       "      <td id=\"T_8b5f6_row108_col5\" class=\"data row108 col5\" >10,352,155</td>\n",
       "      <td id=\"T_8b5f6_row108_col6\" class=\"data row108 col6\" >20,695,950</td>\n",
       "      <td id=\"T_8b5f6_row108_col7\" class=\"data row108 col7\" >4</td>\n",
       "      <td id=\"T_8b5f6_row108_col8\" class=\"data row108 col8\" > </td>\n",
       "      <td id=\"T_8b5f6_row108_col9\" class=\"data row108 col9\" >4</td>\n",
       "      <td id=\"T_8b5f6_row108_col10\" class=\"data row108 col10\" > </td>\n",
       "      <td id=\"T_8b5f6_row108_col11\" class=\"data row108 col11\" >8,360</td>\n",
       "      <td id=\"T_8b5f6_row108_col12\" class=\"data row108 col12\" >0.08%</td>\n",
       "    </tr>\n",
       "    <tr>\n",
       "      <th id=\"T_8b5f6_level0_row109\" class=\"row_heading level0 row109\" >109</th>\n",
       "      <td id=\"T_8b5f6_row109_col0\" class=\"data row109 col0\" >02 Apr 2024</td>\n",
       "      <td id=\"T_8b5f6_row109_col1\" class=\"data row109 col1\" >2</td>\n",
       "      <td id=\"T_8b5f6_row109_col2\" class=\"data row109 col2\" >2-2</td>\n",
       "      <td id=\"T_8b5f6_row109_col3\" class=\"data row109 col3\" >님</td>\n",
       "      <td id=\"T_8b5f6_row109_col4\" class=\"data row109 col4\" >님 (nim)</td>\n",
       "      <td id=\"T_8b5f6_row109_col5\" class=\"data row109 col5\" >10,350,005</td>\n",
       "      <td id=\"T_8b5f6_row109_col6\" class=\"data row109 col6\" >20,612,115</td>\n",
       "      <td id=\"T_8b5f6_row109_col7\" class=\"data row109 col7\" >5</td>\n",
       "      <td id=\"T_8b5f6_row109_col8\" class=\"data row109 col8\" > </td>\n",
       "      <td id=\"T_8b5f6_row109_col9\" class=\"data row109 col9\" >5</td>\n",
       "      <td id=\"T_8b5f6_row109_col10\" class=\"data row109 col10\" > </td>\n",
       "      <td id=\"T_8b5f6_row109_col11\" class=\"data row109 col11\" >87,895</td>\n",
       "      <td id=\"T_8b5f6_row109_col12\" class=\"data row109 col12\" >0.86%</td>\n",
       "    </tr>\n",
       "    <tr>\n",
       "      <th id=\"T_8b5f6_level0_row110\" class=\"row_heading level0 row110\" >110</th>\n",
       "      <td id=\"T_8b5f6_row110_col0\" class=\"data row110 col0\" >02 Apr 2024</td>\n",
       "      <td id=\"T_8b5f6_row110_col1\" class=\"data row110 col1\" >2</td>\n",
       "      <td id=\"T_8b5f6_row110_col2\" class=\"data row110 col2\" >2-2</td>\n",
       "      <td id=\"T_8b5f6_row110_col3\" class=\"data row110 col3\" >LAODA</td>\n",
       "      <td id=\"T_8b5f6_row110_col4\" class=\"data row110 col4\" >LAODA</td>\n",
       "      <td id=\"T_8b5f6_row110_col5\" class=\"data row110 col5\" >10,340,180</td>\n",
       "      <td id=\"T_8b5f6_row110_col6\" class=\"data row110 col6\" >20,601,155</td>\n",
       "      <td id=\"T_8b5f6_row110_col7\" class=\"data row110 col7\" >6</td>\n",
       "      <td id=\"T_8b5f6_row110_col8\" class=\"data row110 col8\" > </td>\n",
       "      <td id=\"T_8b5f6_row110_col9\" class=\"data row110 col9\" >6</td>\n",
       "      <td id=\"T_8b5f6_row110_col10\" class=\"data row110 col10\" > </td>\n",
       "      <td id=\"T_8b5f6_row110_col11\" class=\"data row110 col11\" >79,205</td>\n",
       "      <td id=\"T_8b5f6_row110_col12\" class=\"data row110 col12\" >0.77%</td>\n",
       "    </tr>\n",
       "    <tr>\n",
       "      <th id=\"T_8b5f6_level0_row111\" class=\"row_heading level0 row111\" >111</th>\n",
       "      <td id=\"T_8b5f6_row111_col0\" class=\"data row111 col0\" >02 Apr 2024</td>\n",
       "      <td id=\"T_8b5f6_row111_col1\" class=\"data row111 col1\" >2</td>\n",
       "      <td id=\"T_8b5f6_row111_col2\" class=\"data row111 col2\" >2-2</td>\n",
       "      <td id=\"T_8b5f6_row111_col3\" class=\"data row111 col3\" >Crown</td>\n",
       "      <td id=\"T_8b5f6_row111_col4\" class=\"data row111 col4\" >Crown</td>\n",
       "      <td id=\"T_8b5f6_row111_col5\" class=\"data row111 col5\" >10,165,775</td>\n",
       "      <td id=\"T_8b5f6_row111_col6\" class=\"data row111 col6\" >20,331,470</td>\n",
       "      <td id=\"T_8b5f6_row111_col7\" class=\"data row111 col7\" >8</td>\n",
       "      <td id=\"T_8b5f6_row111_col8\" class=\"data row111 col8\" > ▼1</td>\n",
       "      <td id=\"T_8b5f6_row111_col9\" class=\"data row111 col9\" >7</td>\n",
       "      <td id=\"T_8b5f6_row111_col10\" class=\"data row111 col10\" > </td>\n",
       "      <td id=\"T_8b5f6_row111_col11\" class=\"data row111 col11\" >80</td>\n",
       "      <td id=\"T_8b5f6_row111_col12\" class=\"data row111 col12\" >0.00%</td>\n",
       "    </tr>\n",
       "    <tr>\n",
       "      <th id=\"T_8b5f6_level0_row112\" class=\"row_heading level0 row112\" >112</th>\n",
       "      <td id=\"T_8b5f6_row112_col0\" class=\"data row112 col0\" >02 Apr 2024</td>\n",
       "      <td id=\"T_8b5f6_row112_col1\" class=\"data row112 col1\" >2</td>\n",
       "      <td id=\"T_8b5f6_row112_col2\" class=\"data row112 col2\" >2-2</td>\n",
       "      <td id=\"T_8b5f6_row112_col3\" class=\"data row112 col3\" >이지스</td>\n",
       "      <td id=\"T_8b5f6_row112_col4\" class=\"data row112 col4\" >이지스 (aegis)</td>\n",
       "      <td id=\"T_8b5f6_row112_col5\" class=\"data row112 col5\" >10,186,940</td>\n",
       "      <td id=\"T_8b5f6_row112_col6\" class=\"data row112 col6\" >20,205,800</td>\n",
       "      <td id=\"T_8b5f6_row112_col7\" class=\"data row112 col7\" >7</td>\n",
       "      <td id=\"T_8b5f6_row112_col8\" class=\"data row112 col8\" > ▲1</td>\n",
       "      <td id=\"T_8b5f6_row112_col9\" class=\"data row112 col9\" >8</td>\n",
       "      <td id=\"T_8b5f6_row112_col10\" class=\"data row112 col10\" > </td>\n",
       "      <td id=\"T_8b5f6_row112_col11\" class=\"data row112 col11\" >168,080</td>\n",
       "      <td id=\"T_8b5f6_row112_col12\" class=\"data row112 col12\" >1.68%</td>\n",
       "    </tr>\n",
       "    <tr>\n",
       "      <th id=\"T_8b5f6_level0_row113\" class=\"row_heading level0 row113\" >113</th>\n",
       "      <td id=\"T_8b5f6_row113_col0\" class=\"data row113 col0\" >02 Apr 2024</td>\n",
       "      <td id=\"T_8b5f6_row113_col1\" class=\"data row113 col1\" >2</td>\n",
       "      <td id=\"T_8b5f6_row113_col2\" class=\"data row113 col2\" >2-2</td>\n",
       "      <td id=\"T_8b5f6_row113_col3\" class=\"data row113 col3\" >MolochTH</td>\n",
       "      <td id=\"T_8b5f6_row113_col4\" class=\"data row113 col4\" >MolochTH</td>\n",
       "      <td id=\"T_8b5f6_row113_col5\" class=\"data row113 col5\" >10,094,570</td>\n",
       "      <td id=\"T_8b5f6_row113_col6\" class=\"data row113 col6\" >20,025,740</td>\n",
       "      <td id=\"T_8b5f6_row113_col7\" class=\"data row113 col7\" >9</td>\n",
       "      <td id=\"T_8b5f6_row113_col8\" class=\"data row113 col8\" > ▲2</td>\n",
       "      <td id=\"T_8b5f6_row113_col9\" class=\"data row113 col9\" >9</td>\n",
       "      <td id=\"T_8b5f6_row113_col10\" class=\"data row113 col10\" > ▲2</td>\n",
       "      <td id=\"T_8b5f6_row113_col11\" class=\"data row113 col11\" >163,400</td>\n",
       "      <td id=\"T_8b5f6_row113_col12\" class=\"data row113 col12\" >1.65%</td>\n",
       "    </tr>\n",
       "    <tr>\n",
       "      <th id=\"T_8b5f6_level0_row114\" class=\"row_heading level0 row114\" >114</th>\n",
       "      <td id=\"T_8b5f6_row114_col0\" class=\"data row114 col0\" >02 Apr 2024</td>\n",
       "      <td id=\"T_8b5f6_row114_col1\" class=\"data row114 col1\" >2</td>\n",
       "      <td id=\"T_8b5f6_row114_col2\" class=\"data row114 col2\" >2-2</td>\n",
       "      <td id=\"T_8b5f6_row114_col3\" class=\"data row114 col3\" >열매</td>\n",
       "      <td id=\"T_8b5f6_row114_col4\" class=\"data row114 col4\" >열매 (yeol-mae)</td>\n",
       "      <td id=\"T_8b5f6_row114_col5\" class=\"data row114 col5\" >9,934,520</td>\n",
       "      <td id=\"T_8b5f6_row114_col6\" class=\"data row114 col6\" >19,871,340</td>\n",
       "      <td id=\"T_8b5f6_row114_col7\" class=\"data row114 col7\" >10</td>\n",
       "      <td id=\"T_8b5f6_row114_col8\" class=\"data row114 col8\" > </td>\n",
       "      <td id=\"T_8b5f6_row114_col9\" class=\"data row114 col9\" >10</td>\n",
       "      <td id=\"T_8b5f6_row114_col10\" class=\"data row114 col10\" > </td>\n",
       "      <td id=\"T_8b5f6_row114_col11\" class=\"data row114 col11\" >-2,300</td>\n",
       "      <td id=\"T_8b5f6_row114_col12\" class=\"data row114 col12\" >-0.02%</td>\n",
       "    </tr>\n",
       "    <tr>\n",
       "      <th id=\"T_8b5f6_level0_row115\" class=\"row_heading level0 row115\" >115</th>\n",
       "      <td id=\"T_8b5f6_row115_col0\" class=\"data row115 col0\" >02 Apr 2024</td>\n",
       "      <td id=\"T_8b5f6_row115_col1\" class=\"data row115 col1\" >2</td>\n",
       "      <td id=\"T_8b5f6_row115_col2\" class=\"data row115 col2\" >2-2</td>\n",
       "      <td id=\"T_8b5f6_row115_col3\" class=\"data row115 col3\" >무야호</td>\n",
       "      <td id=\"T_8b5f6_row115_col4\" class=\"data row115 col4\" >무야호 (mu-ya-ho)</td>\n",
       "      <td id=\"T_8b5f6_row115_col5\" class=\"data row115 col5\" >9,855,735</td>\n",
       "      <td id=\"T_8b5f6_row115_col6\" class=\"data row115 col6\" >19,704,765</td>\n",
       "      <td id=\"T_8b5f6_row115_col7\" class=\"data row115 col7\" >11</td>\n",
       "      <td id=\"T_8b5f6_row115_col8\" class=\"data row115 col8\" > ▲1</td>\n",
       "      <td id=\"T_8b5f6_row115_col9\" class=\"data row115 col9\" >11</td>\n",
       "      <td id=\"T_8b5f6_row115_col10\" class=\"data row115 col10\" > ▲1</td>\n",
       "      <td id=\"T_8b5f6_row115_col11\" class=\"data row115 col11\" >6,705</td>\n",
       "      <td id=\"T_8b5f6_row115_col12\" class=\"data row115 col12\" >0.07%</td>\n",
       "    </tr>\n",
       "    <tr>\n",
       "      <th id=\"T_8b5f6_level0_row116\" class=\"row_heading level0 row116\" >116</th>\n",
       "      <td id=\"T_8b5f6_row116_col0\" class=\"data row116 col0\" >02 Apr 2024</td>\n",
       "      <td id=\"T_8b5f6_row116_col1\" class=\"data row116 col1\" >2</td>\n",
       "      <td id=\"T_8b5f6_row116_col2\" class=\"data row116 col2\" >2-2</td>\n",
       "      <td id=\"T_8b5f6_row116_col3\" class=\"data row116 col3\" >Peppermint</td>\n",
       "      <td id=\"T_8b5f6_row116_col4\" class=\"data row116 col4\" >Peppermint</td>\n",
       "      <td id=\"T_8b5f6_row116_col5\" class=\"data row116 col5\" >9,845,765</td>\n",
       "      <td id=\"T_8b5f6_row116_col6\" class=\"data row116 col6\" >19,608,205</td>\n",
       "      <td id=\"T_8b5f6_row116_col7\" class=\"data row116 col7\" >12</td>\n",
       "      <td id=\"T_8b5f6_row116_col8\" class=\"data row116 col8\" > ▲1</td>\n",
       "      <td id=\"T_8b5f6_row116_col9\" class=\"data row116 col9\" >12</td>\n",
       "      <td id=\"T_8b5f6_row116_col10\" class=\"data row116 col10\" > ▲1</td>\n",
       "      <td id=\"T_8b5f6_row116_col11\" class=\"data row116 col11\" >83,325</td>\n",
       "      <td id=\"T_8b5f6_row116_col12\" class=\"data row116 col12\" >0.85%</td>\n",
       "    </tr>\n",
       "    <tr>\n",
       "      <th id=\"T_8b5f6_level0_row117\" class=\"row_heading level0 row117\" >117</th>\n",
       "      <td id=\"T_8b5f6_row117_col0\" class=\"data row117 col0\" >02 Apr 2024</td>\n",
       "      <td id=\"T_8b5f6_row117_col1\" class=\"data row117 col1\" >2</td>\n",
       "      <td id=\"T_8b5f6_row117_col2\" class=\"data row117 col2\" >2-2</td>\n",
       "      <td id=\"T_8b5f6_row117_col3\" class=\"data row117 col3\" >사혼</td>\n",
       "      <td id=\"T_8b5f6_row117_col4\" class=\"data row117 col4\" >사혼 (sa-hon)</td>\n",
       "      <td id=\"T_8b5f6_row117_col5\" class=\"data row117 col5\" >9,436,450</td>\n",
       "      <td id=\"T_8b5f6_row117_col6\" class=\"data row117 col6\" >18,721,480</td>\n",
       "      <td id=\"T_8b5f6_row117_col7\" class=\"data row117 col7\" >13</td>\n",
       "      <td id=\"T_8b5f6_row117_col8\" class=\"data row117 col8\" > ▲2</td>\n",
       "      <td id=\"T_8b5f6_row117_col9\" class=\"data row117 col9\" >13</td>\n",
       "      <td id=\"T_8b5f6_row117_col10\" class=\"data row117 col10\" > ▲2</td>\n",
       "      <td id=\"T_8b5f6_row117_col11\" class=\"data row117 col11\" >151,420</td>\n",
       "      <td id=\"T_8b5f6_row117_col12\" class=\"data row117 col12\" >1.63%</td>\n",
       "    </tr>\n",
       "    <tr>\n",
       "      <th id=\"T_8b5f6_level0_row118\" class=\"row_heading level0 row118\" >118</th>\n",
       "      <td id=\"T_8b5f6_row118_col0\" class=\"data row118 col0\" >02 Apr 2024</td>\n",
       "      <td id=\"T_8b5f6_row118_col1\" class=\"data row118 col1\" >2</td>\n",
       "      <td id=\"T_8b5f6_row118_col2\" class=\"data row118 col2\" >2-2</td>\n",
       "      <td id=\"T_8b5f6_row118_col3\" class=\"data row118 col3\" >MyTH</td>\n",
       "      <td id=\"T_8b5f6_row118_col4\" class=\"data row118 col4\" >MyTH</td>\n",
       "      <td id=\"T_8b5f6_row118_col5\" class=\"data row118 col5\" >9,047,905</td>\n",
       "      <td id=\"T_8b5f6_row118_col6\" class=\"data row118 col6\" >18,643,700</td>\n",
       "      <td id=\"T_8b5f6_row118_col7\" class=\"data row118 col7\" >17</td>\n",
       "      <td id=\"T_8b5f6_row118_col8\" class=\"data row118 col8\" > ▼3</td>\n",
       "      <td id=\"T_8b5f6_row118_col9\" class=\"data row118 col9\" >14</td>\n",
       "      <td id=\"T_8b5f6_row118_col10\" class=\"data row118 col10\" > </td>\n",
       "      <td id=\"T_8b5f6_row118_col11\" class=\"data row118 col11\" >-547,890</td>\n",
       "      <td id=\"T_8b5f6_row118_col12\" class=\"data row118 col12\" >-5.71%</td>\n",
       "    </tr>\n",
       "    <tr>\n",
       "      <th id=\"T_8b5f6_level0_row119\" class=\"row_heading level0 row119\" >119</th>\n",
       "      <td id=\"T_8b5f6_row119_col0\" class=\"data row119 col0\" >02 Apr 2024</td>\n",
       "      <td id=\"T_8b5f6_row119_col1\" class=\"data row119 col1\" >2</td>\n",
       "      <td id=\"T_8b5f6_row119_col2\" class=\"data row119 col2\" >2-2</td>\n",
       "      <td id=\"T_8b5f6_row119_col3\" class=\"data row119 col3\" >재난경보</td>\n",
       "      <td id=\"T_8b5f6_row119_col4\" class=\"data row119 col4\" >재난경보 (jae-nan-gyeong-bo)</td>\n",
       "      <td id=\"T_8b5f6_row119_col5\" class=\"data row119 col5\" >9,436,410</td>\n",
       "      <td id=\"T_8b5f6_row119_col6\" class=\"data row119 col6\" >18,639,845</td>\n",
       "      <td id=\"T_8b5f6_row119_col7\" class=\"data row119 col7\" >14</td>\n",
       "      <td id=\"T_8b5f6_row119_col8\" class=\"data row119 col8\" > ▲2</td>\n",
       "      <td id=\"T_8b5f6_row119_col9\" class=\"data row119 col9\" >15</td>\n",
       "      <td id=\"T_8b5f6_row119_col10\" class=\"data row119 col10\" > ▲1</td>\n",
       "      <td id=\"T_8b5f6_row119_col11\" class=\"data row119 col11\" >232,975</td>\n",
       "      <td id=\"T_8b5f6_row119_col12\" class=\"data row119 col12\" >2.53%</td>\n",
       "    </tr>\n",
       "    <tr>\n",
       "      <th id=\"T_8b5f6_level0_row120\" class=\"row_heading level0 row120\" >120</th>\n",
       "      <td id=\"T_8b5f6_row120_col0\" class=\"data row120 col0\" >02 Apr 2024</td>\n",
       "      <td id=\"T_8b5f6_row120_col1\" class=\"data row120 col1\" >2</td>\n",
       "      <td id=\"T_8b5f6_row120_col2\" class=\"data row120 col2\" >2-2</td>\n",
       "      <td id=\"T_8b5f6_row120_col3\" class=\"data row120 col3\" >S7AR</td>\n",
       "      <td id=\"T_8b5f6_row120_col4\" class=\"data row120 col4\" >S7AR</td>\n",
       "      <td id=\"T_8b5f6_row120_col5\" class=\"data row120 col5\" >9,200,020</td>\n",
       "      <td id=\"T_8b5f6_row120_col6\" class=\"data row120 col6\" >18,247,090</td>\n",
       "      <td id=\"T_8b5f6_row120_col7\" class=\"data row120 col7\" >15</td>\n",
       "      <td id=\"T_8b5f6_row120_col8\" class=\"data row120 col8\" > ▲2</td>\n",
       "      <td id=\"T_8b5f6_row120_col9\" class=\"data row120 col9\" >16</td>\n",
       "      <td id=\"T_8b5f6_row120_col10\" class=\"data row120 col10\" > ▲1</td>\n",
       "      <td id=\"T_8b5f6_row120_col11\" class=\"data row120 col11\" >152,950</td>\n",
       "      <td id=\"T_8b5f6_row120_col12\" class=\"data row120 col12\" >1.69%</td>\n",
       "    </tr>\n",
       "    <tr>\n",
       "      <th id=\"T_8b5f6_level0_row121\" class=\"row_heading level0 row121\" >121</th>\n",
       "      <td id=\"T_8b5f6_row121_col0\" class=\"data row121 col0\" >02 Apr 2024</td>\n",
       "      <td id=\"T_8b5f6_row121_col1\" class=\"data row121 col1\" >2</td>\n",
       "      <td id=\"T_8b5f6_row121_col2\" class=\"data row121 col2\" >2-2</td>\n",
       "      <td id=\"T_8b5f6_row121_col3\" class=\"data row121 col3\" >DEKWAT</td>\n",
       "      <td id=\"T_8b5f6_row121_col4\" class=\"data row121 col4\" >DEKWAT</td>\n",
       "      <td id=\"T_8b5f6_row121_col5\" class=\"data row121 col5\" >9,130,900</td>\n",
       "      <td id=\"T_8b5f6_row121_col6\" class=\"data row121 col6\" >18,111,430</td>\n",
       "      <td id=\"T_8b5f6_row121_col7\" class=\"data row121 col7\" >16</td>\n",
       "      <td id=\"T_8b5f6_row121_col8\" class=\"data row121 col8\" > ▲3</td>\n",
       "      <td id=\"T_8b5f6_row121_col9\" class=\"data row121 col9\" >17</td>\n",
       "      <td id=\"T_8b5f6_row121_col10\" class=\"data row121 col10\" > ▲2</td>\n",
       "      <td id=\"T_8b5f6_row121_col11\" class=\"data row121 col11\" >150,370</td>\n",
       "      <td id=\"T_8b5f6_row121_col12\" class=\"data row121 col12\" >1.67%</td>\n",
       "    </tr>\n",
       "    <tr>\n",
       "      <th id=\"T_8b5f6_level0_row122\" class=\"row_heading level0 row122\" >122</th>\n",
       "      <td id=\"T_8b5f6_row122_col0\" class=\"data row122 col0\" >02 Apr 2024</td>\n",
       "      <td id=\"T_8b5f6_row122_col1\" class=\"data row122 col1\" >2</td>\n",
       "      <td id=\"T_8b5f6_row122_col2\" class=\"data row122 col2\" >2-2</td>\n",
       "      <td id=\"T_8b5f6_row122_col3\" class=\"data row122 col3\" >Nigiri</td>\n",
       "      <td id=\"T_8b5f6_row122_col4\" class=\"data row122 col4\" >Nigiri</td>\n",
       "      <td id=\"T_8b5f6_row122_col5\" class=\"data row122 col5\" >8,901,670</td>\n",
       "      <td id=\"T_8b5f6_row122_col6\" class=\"data row122 col6\" >17,886,075</td>\n",
       "      <td id=\"T_8b5f6_row122_col7\" class=\"data row122 col7\" >19</td>\n",
       "      <td id=\"T_8b5f6_row122_col8\" class=\"data row122 col8\" > ▼1</td>\n",
       "      <td id=\"T_8b5f6_row122_col9\" class=\"data row122 col9\" >18</td>\n",
       "      <td id=\"T_8b5f6_row122_col10\" class=\"data row122 col10\" > </td>\n",
       "      <td id=\"T_8b5f6_row122_col11\" class=\"data row122 col11\" >-82,735</td>\n",
       "      <td id=\"T_8b5f6_row122_col12\" class=\"data row122 col12\" >-0.92%</td>\n",
       "    </tr>\n",
       "    <tr>\n",
       "      <th id=\"T_8b5f6_level0_row123\" class=\"row_heading level0 row123\" >123</th>\n",
       "      <td id=\"T_8b5f6_row123_col0\" class=\"data row123 col0\" >02 Apr 2024</td>\n",
       "      <td id=\"T_8b5f6_row123_col1\" class=\"data row123 col1\" >2</td>\n",
       "      <td id=\"T_8b5f6_row123_col2\" class=\"data row123 col2\" >2-2</td>\n",
       "      <td id=\"T_8b5f6_row123_col3\" class=\"data row123 col3\" >Nobility</td>\n",
       "      <td id=\"T_8b5f6_row123_col4\" class=\"data row123 col4\" >Nobility</td>\n",
       "      <td id=\"T_8b5f6_row123_col5\" class=\"data row123 col5\" >8,991,395</td>\n",
       "      <td id=\"T_8b5f6_row123_col6\" class=\"data row123 col6\" >17,824,715</td>\n",
       "      <td id=\"T_8b5f6_row123_col7\" class=\"data row123 col7\" >18</td>\n",
       "      <td id=\"T_8b5f6_row123_col8\" class=\"data row123 col8\" > ▲3</td>\n",
       "      <td id=\"T_8b5f6_row123_col9\" class=\"data row123 col9\" >19</td>\n",
       "      <td id=\"T_8b5f6_row123_col10\" class=\"data row123 col10\" > ▲2</td>\n",
       "      <td id=\"T_8b5f6_row123_col11\" class=\"data row123 col11\" >158,075</td>\n",
       "      <td id=\"T_8b5f6_row123_col12\" class=\"data row123 col12\" >1.79%</td>\n",
       "    </tr>\n",
       "    <tr>\n",
       "      <th id=\"T_8b5f6_level0_row124\" class=\"row_heading level0 row124\" >124</th>\n",
       "      <td id=\"T_8b5f6_row124_col0\" class=\"data row124 col0\" >02 Apr 2024</td>\n",
       "      <td id=\"T_8b5f6_row124_col1\" class=\"data row124 col1\" >2</td>\n",
       "      <td id=\"T_8b5f6_row124_col2\" class=\"data row124 col2\" >2-2</td>\n",
       "      <td id=\"T_8b5f6_row124_col3\" class=\"data row124 col3\" >쿠벤저스</td>\n",
       "      <td id=\"T_8b5f6_row124_col4\" class=\"data row124 col4\" >쿠벤저스 (cubengers)</td>\n",
       "      <td id=\"T_8b5f6_row124_col5\" class=\"data row124 col5\" >8,839,530</td>\n",
       "      <td id=\"T_8b5f6_row124_col6\" class=\"data row124 col6\" >17,741,320</td>\n",
       "      <td id=\"T_8b5f6_row124_col7\" class=\"data row124 col7\" >20</td>\n",
       "      <td id=\"T_8b5f6_row124_col8\" class=\"data row124 col8\" > </td>\n",
       "      <td id=\"T_8b5f6_row124_col9\" class=\"data row124 col9\" >20</td>\n",
       "      <td id=\"T_8b5f6_row124_col10\" class=\"data row124 col10\" > </td>\n",
       "      <td id=\"T_8b5f6_row124_col11\" class=\"data row124 col11\" >-62,260</td>\n",
       "      <td id=\"T_8b5f6_row124_col12\" class=\"data row124 col12\" >-0.70%</td>\n",
       "    </tr>\n",
       "    <tr>\n",
       "      <th id=\"T_8b5f6_level0_row125\" class=\"row_heading level0 row125\" >125</th>\n",
       "      <td id=\"T_8b5f6_row125_col0\" class=\"data row125 col0\" >09 Apr 2024</td>\n",
       "      <td id=\"T_8b5f6_row125_col1\" class=\"data row125 col1\" >2</td>\n",
       "      <td id=\"T_8b5f6_row125_col2\" class=\"data row125 col2\" >2-3</td>\n",
       "      <td id=\"T_8b5f6_row125_col3\" class=\"data row125 col3\" >Spearmint</td>\n",
       "      <td id=\"T_8b5f6_row125_col4\" class=\"data row125 col4\" >Spearmint</td>\n",
       "      <td id=\"T_8b5f6_row125_col5\" class=\"data row125 col5\" >11,037,250</td>\n",
       "      <td id=\"T_8b5f6_row125_col6\" class=\"data row125 col6\" >33,022,510</td>\n",
       "      <td id=\"T_8b5f6_row125_col7\" class=\"data row125 col7\" >1</td>\n",
       "      <td id=\"T_8b5f6_row125_col8\" class=\"data row125 col8\" > </td>\n",
       "      <td id=\"T_8b5f6_row125_col9\" class=\"data row125 col9\" >1</td>\n",
       "      <td id=\"T_8b5f6_row125_col10\" class=\"data row125 col10\" > </td>\n",
       "      <td id=\"T_8b5f6_row125_col11\" class=\"data row125 col11\" >1,180</td>\n",
       "      <td id=\"T_8b5f6_row125_col12\" class=\"data row125 col12\" >0.01%</td>\n",
       "    </tr>\n",
       "    <tr>\n",
       "      <th id=\"T_8b5f6_level0_row126\" class=\"row_heading level0 row126\" >126</th>\n",
       "      <td id=\"T_8b5f6_row126_col0\" class=\"data row126 col0\" >09 Apr 2024</td>\n",
       "      <td id=\"T_8b5f6_row126_col1\" class=\"data row126 col1\" >2</td>\n",
       "      <td id=\"T_8b5f6_row126_col2\" class=\"data row126 col2\" >2-3</td>\n",
       "      <td id=\"T_8b5f6_row126_col3\" class=\"data row126 col3\" >Vivid</td>\n",
       "      <td id=\"T_8b5f6_row126_col4\" class=\"data row126 col4\" >Vivid</td>\n",
       "      <td id=\"T_8b5f6_row126_col5\" class=\"data row126 col5\" >11,028,425</td>\n",
       "      <td id=\"T_8b5f6_row126_col6\" class=\"data row126 col6\" >32,839,890</td>\n",
       "      <td id=\"T_8b5f6_row126_col7\" class=\"data row126 col7\" >2</td>\n",
       "      <td id=\"T_8b5f6_row126_col8\" class=\"data row126 col8\" > </td>\n",
       "      <td id=\"T_8b5f6_row126_col9\" class=\"data row126 col9\" >2</td>\n",
       "      <td id=\"T_8b5f6_row126_col10\" class=\"data row126 col10\" > </td>\n",
       "      <td id=\"T_8b5f6_row126_col11\" class=\"data row126 col11\" >83,360</td>\n",
       "      <td id=\"T_8b5f6_row126_col12\" class=\"data row126 col12\" >0.76%</td>\n",
       "    </tr>\n",
       "    <tr>\n",
       "      <th id=\"T_8b5f6_level0_row127\" class=\"row_heading level0 row127\" >127</th>\n",
       "      <td id=\"T_8b5f6_row127_col0\" class=\"data row127 col0\" >09 Apr 2024</td>\n",
       "      <td id=\"T_8b5f6_row127_col1\" class=\"data row127 col1\" >2</td>\n",
       "      <td id=\"T_8b5f6_row127_col2\" class=\"data row127 col2\" >2-3</td>\n",
       "      <td id=\"T_8b5f6_row127_col3\" class=\"data row127 col3\" >Nobless</td>\n",
       "      <td id=\"T_8b5f6_row127_col4\" class=\"data row127 col4\" >Nobless</td>\n",
       "      <td id=\"T_8b5f6_row127_col5\" class=\"data row127 col5\" >10,762,930</td>\n",
       "      <td id=\"T_8b5f6_row127_col6\" class=\"data row127 col6\" >31,813,345</td>\n",
       "      <td id=\"T_8b5f6_row127_col7\" class=\"data row127 col7\" >3</td>\n",
       "      <td id=\"T_8b5f6_row127_col8\" class=\"data row127 col8\" > </td>\n",
       "      <td id=\"T_8b5f6_row127_col9\" class=\"data row127 col9\" >3</td>\n",
       "      <td id=\"T_8b5f6_row127_col10\" class=\"data row127 col10\" > </td>\n",
       "      <td id=\"T_8b5f6_row127_col11\" class=\"data row127 col11\" >230,085</td>\n",
       "      <td id=\"T_8b5f6_row127_col12\" class=\"data row127 col12\" >2.18%</td>\n",
       "    </tr>\n",
       "    <tr>\n",
       "      <th id=\"T_8b5f6_level0_row128\" class=\"row_heading level0 row128\" >128</th>\n",
       "      <td id=\"T_8b5f6_row128_col0\" class=\"data row128 col0\" >09 Apr 2024</td>\n",
       "      <td id=\"T_8b5f6_row128_col1\" class=\"data row128 col1\" >2</td>\n",
       "      <td id=\"T_8b5f6_row128_col2\" class=\"data row128 col2\" >2-3</td>\n",
       "      <td id=\"T_8b5f6_row128_col3\" class=\"data row128 col3\" >LAODA</td>\n",
       "      <td id=\"T_8b5f6_row128_col4\" class=\"data row128 col4\" >LAODA</td>\n",
       "      <td id=\"T_8b5f6_row128_col5\" class=\"data row128 col5\" >10,520,225</td>\n",
       "      <td id=\"T_8b5f6_row128_col6\" class=\"data row128 col6\" >31,121,380</td>\n",
       "      <td id=\"T_8b5f6_row128_col7\" class=\"data row128 col7\" >4</td>\n",
       "      <td id=\"T_8b5f6_row128_col8\" class=\"data row128 col8\" > ▲2</td>\n",
       "      <td id=\"T_8b5f6_row128_col9\" class=\"data row128 col9\" >4</td>\n",
       "      <td id=\"T_8b5f6_row128_col10\" class=\"data row128 col10\" > ▲2</td>\n",
       "      <td id=\"T_8b5f6_row128_col11\" class=\"data row128 col11\" >180,045</td>\n",
       "      <td id=\"T_8b5f6_row128_col12\" class=\"data row128 col12\" >1.74%</td>\n",
       "    </tr>\n",
       "    <tr>\n",
       "      <th id=\"T_8b5f6_level0_row129\" class=\"row_heading level0 row129\" >129</th>\n",
       "      <td id=\"T_8b5f6_row129_col0\" class=\"data row129 col0\" >09 Apr 2024</td>\n",
       "      <td id=\"T_8b5f6_row129_col1\" class=\"data row129 col1\" >2</td>\n",
       "      <td id=\"T_8b5f6_row129_col2\" class=\"data row129 col2\" >2-3</td>\n",
       "      <td id=\"T_8b5f6_row129_col3\" class=\"data row129 col3\" >미라클</td>\n",
       "      <td id=\"T_8b5f6_row129_col4\" class=\"data row129 col4\" >미라클 (miracle)</td>\n",
       "      <td id=\"T_8b5f6_row129_col5\" class=\"data row129 col5\" >10,346,675</td>\n",
       "      <td id=\"T_8b5f6_row129_col6\" class=\"data row129 col6\" >31,042,625</td>\n",
       "      <td id=\"T_8b5f6_row129_col7\" class=\"data row129 col7\" >7</td>\n",
       "      <td id=\"T_8b5f6_row129_col8\" class=\"data row129 col8\" > ▼3</td>\n",
       "      <td id=\"T_8b5f6_row129_col9\" class=\"data row129 col9\" >5</td>\n",
       "      <td id=\"T_8b5f6_row129_col10\" class=\"data row129 col10\" > ▼1</td>\n",
       "      <td id=\"T_8b5f6_row129_col11\" class=\"data row129 col11\" >-5,480</td>\n",
       "      <td id=\"T_8b5f6_row129_col12\" class=\"data row129 col12\" >-0.05%</td>\n",
       "    </tr>\n",
       "    <tr>\n",
       "      <th id=\"T_8b5f6_level0_row130\" class=\"row_heading level0 row130\" >130</th>\n",
       "      <td id=\"T_8b5f6_row130_col0\" class=\"data row130 col0\" >09 Apr 2024</td>\n",
       "      <td id=\"T_8b5f6_row130_col1\" class=\"data row130 col1\" >2</td>\n",
       "      <td id=\"T_8b5f6_row130_col2\" class=\"data row130 col2\" >2-3</td>\n",
       "      <td id=\"T_8b5f6_row130_col3\" class=\"data row130 col3\" >님</td>\n",
       "      <td id=\"T_8b5f6_row130_col4\" class=\"data row130 col4\" >님 (nim)</td>\n",
       "      <td id=\"T_8b5f6_row130_col5\" class=\"data row130 col5\" >10,351,645</td>\n",
       "      <td id=\"T_8b5f6_row130_col6\" class=\"data row130 col6\" >30,963,760</td>\n",
       "      <td id=\"T_8b5f6_row130_col7\" class=\"data row130 col7\" >6</td>\n",
       "      <td id=\"T_8b5f6_row130_col8\" class=\"data row130 col8\" > ▼1</td>\n",
       "      <td id=\"T_8b5f6_row130_col9\" class=\"data row130 col9\" >6</td>\n",
       "      <td id=\"T_8b5f6_row130_col10\" class=\"data row130 col10\" > ▼1</td>\n",
       "      <td id=\"T_8b5f6_row130_col11\" class=\"data row130 col11\" >1,640</td>\n",
       "      <td id=\"T_8b5f6_row130_col12\" class=\"data row130 col12\" >0.02%</td>\n",
       "    </tr>\n",
       "    <tr>\n",
       "      <th id=\"T_8b5f6_level0_row131\" class=\"row_heading level0 row131\" >131</th>\n",
       "      <td id=\"T_8b5f6_row131_col0\" class=\"data row131 col0\" >09 Apr 2024</td>\n",
       "      <td id=\"T_8b5f6_row131_col1\" class=\"data row131 col1\" >2</td>\n",
       "      <td id=\"T_8b5f6_row131_col2\" class=\"data row131 col2\" >2-3</td>\n",
       "      <td id=\"T_8b5f6_row131_col3\" class=\"data row131 col3\" >이지스</td>\n",
       "      <td id=\"T_8b5f6_row131_col4\" class=\"data row131 col4\" >이지스 (aegis)</td>\n",
       "      <td id=\"T_8b5f6_row131_col5\" class=\"data row131 col5\" >10,361,535</td>\n",
       "      <td id=\"T_8b5f6_row131_col6\" class=\"data row131 col6\" >30,567,335</td>\n",
       "      <td id=\"T_8b5f6_row131_col7\" class=\"data row131 col7\" >5</td>\n",
       "      <td id=\"T_8b5f6_row131_col8\" class=\"data row131 col8\" > ▲2</td>\n",
       "      <td id=\"T_8b5f6_row131_col9\" class=\"data row131 col9\" >7</td>\n",
       "      <td id=\"T_8b5f6_row131_col10\" class=\"data row131 col10\" > ▲1</td>\n",
       "      <td id=\"T_8b5f6_row131_col11\" class=\"data row131 col11\" >174,595</td>\n",
       "      <td id=\"T_8b5f6_row131_col12\" class=\"data row131 col12\" >1.71%</td>\n",
       "    </tr>\n",
       "    <tr>\n",
       "      <th id=\"T_8b5f6_level0_row132\" class=\"row_heading level0 row132\" >132</th>\n",
       "      <td id=\"T_8b5f6_row132_col0\" class=\"data row132 col0\" >09 Apr 2024</td>\n",
       "      <td id=\"T_8b5f6_row132_col1\" class=\"data row132 col1\" >2</td>\n",
       "      <td id=\"T_8b5f6_row132_col2\" class=\"data row132 col2\" >2-3</td>\n",
       "      <td id=\"T_8b5f6_row132_col3\" class=\"data row132 col3\" >Crown</td>\n",
       "      <td id=\"T_8b5f6_row132_col4\" class=\"data row132 col4\" >Crown</td>\n",
       "      <td id=\"T_8b5f6_row132_col5\" class=\"data row132 col5\" >10,084,940</td>\n",
       "      <td id=\"T_8b5f6_row132_col6\" class=\"data row132 col6\" >30,416,410</td>\n",
       "      <td id=\"T_8b5f6_row132_col7\" class=\"data row132 col7\" >10</td>\n",
       "      <td id=\"T_8b5f6_row132_col8\" class=\"data row132 col8\" > ▼2</td>\n",
       "      <td id=\"T_8b5f6_row132_col9\" class=\"data row132 col9\" >8</td>\n",
       "      <td id=\"T_8b5f6_row132_col10\" class=\"data row132 col10\" > ▼1</td>\n",
       "      <td id=\"T_8b5f6_row132_col11\" class=\"data row132 col11\" >-80,835</td>\n",
       "      <td id=\"T_8b5f6_row132_col12\" class=\"data row132 col12\" >-0.80%</td>\n",
       "    </tr>\n",
       "    <tr>\n",
       "      <th id=\"T_8b5f6_level0_row133\" class=\"row_heading level0 row133\" >133</th>\n",
       "      <td id=\"T_8b5f6_row133_col0\" class=\"data row133 col0\" >09 Apr 2024</td>\n",
       "      <td id=\"T_8b5f6_row133_col1\" class=\"data row133 col1\" >2</td>\n",
       "      <td id=\"T_8b5f6_row133_col2\" class=\"data row133 col2\" >2-3</td>\n",
       "      <td id=\"T_8b5f6_row133_col3\" class=\"data row133 col3\" >MolochTH</td>\n",
       "      <td id=\"T_8b5f6_row133_col4\" class=\"data row133 col4\" >MolochTH</td>\n",
       "      <td id=\"T_8b5f6_row133_col5\" class=\"data row133 col5\" >10,262,850</td>\n",
       "      <td id=\"T_8b5f6_row133_col6\" class=\"data row133 col6\" >30,288,590</td>\n",
       "      <td id=\"T_8b5f6_row133_col7\" class=\"data row133 col7\" >8</td>\n",
       "      <td id=\"T_8b5f6_row133_col8\" class=\"data row133 col8\" > ▲1</td>\n",
       "      <td id=\"T_8b5f6_row133_col9\" class=\"data row133 col9\" >9</td>\n",
       "      <td id=\"T_8b5f6_row133_col10\" class=\"data row133 col10\" > </td>\n",
       "      <td id=\"T_8b5f6_row133_col11\" class=\"data row133 col11\" >168,280</td>\n",
       "      <td id=\"T_8b5f6_row133_col12\" class=\"data row133 col12\" >1.67%</td>\n",
       "    </tr>\n",
       "    <tr>\n",
       "      <th id=\"T_8b5f6_level0_row134\" class=\"row_heading level0 row134\" >134</th>\n",
       "      <td id=\"T_8b5f6_row134_col0\" class=\"data row134 col0\" >09 Apr 2024</td>\n",
       "      <td id=\"T_8b5f6_row134_col1\" class=\"data row134 col1\" >2</td>\n",
       "      <td id=\"T_8b5f6_row134_col2\" class=\"data row134 col2\" >2-3</td>\n",
       "      <td id=\"T_8b5f6_row134_col3\" class=\"data row134 col3\" >열매</td>\n",
       "      <td id=\"T_8b5f6_row134_col4\" class=\"data row134 col4\" >열매 (yeol-mae)</td>\n",
       "      <td id=\"T_8b5f6_row134_col5\" class=\"data row134 col5\" >10,108,120</td>\n",
       "      <td id=\"T_8b5f6_row134_col6\" class=\"data row134 col6\" >29,979,460</td>\n",
       "      <td id=\"T_8b5f6_row134_col7\" class=\"data row134 col7\" >9</td>\n",
       "      <td id=\"T_8b5f6_row134_col8\" class=\"data row134 col8\" > ▲1</td>\n",
       "      <td id=\"T_8b5f6_row134_col9\" class=\"data row134 col9\" >10</td>\n",
       "      <td id=\"T_8b5f6_row134_col10\" class=\"data row134 col10\" > </td>\n",
       "      <td id=\"T_8b5f6_row134_col11\" class=\"data row134 col11\" >173,600</td>\n",
       "      <td id=\"T_8b5f6_row134_col12\" class=\"data row134 col12\" >1.75%</td>\n",
       "    </tr>\n",
       "    <tr>\n",
       "      <th id=\"T_8b5f6_level0_row135\" class=\"row_heading level0 row135\" >135</th>\n",
       "      <td id=\"T_8b5f6_row135_col0\" class=\"data row135 col0\" >09 Apr 2024</td>\n",
       "      <td id=\"T_8b5f6_row135_col1\" class=\"data row135 col1\" >2</td>\n",
       "      <td id=\"T_8b5f6_row135_col2\" class=\"data row135 col2\" >2-3</td>\n",
       "      <td id=\"T_8b5f6_row135_col3\" class=\"data row135 col3\" >무야호</td>\n",
       "      <td id=\"T_8b5f6_row135_col4\" class=\"data row135 col4\" >무야호 (mu-ya-ho)</td>\n",
       "      <td id=\"T_8b5f6_row135_col5\" class=\"data row135 col5\" >9,931,695</td>\n",
       "      <td id=\"T_8b5f6_row135_col6\" class=\"data row135 col6\" >29,636,460</td>\n",
       "      <td id=\"T_8b5f6_row135_col7\" class=\"data row135 col7\" >11</td>\n",
       "      <td id=\"T_8b5f6_row135_col8\" class=\"data row135 col8\" > </td>\n",
       "      <td id=\"T_8b5f6_row135_col9\" class=\"data row135 col9\" >11</td>\n",
       "      <td id=\"T_8b5f6_row135_col10\" class=\"data row135 col10\" > </td>\n",
       "      <td id=\"T_8b5f6_row135_col11\" class=\"data row135 col11\" >75,960</td>\n",
       "      <td id=\"T_8b5f6_row135_col12\" class=\"data row135 col12\" >0.77%</td>\n",
       "    </tr>\n",
       "    <tr>\n",
       "      <th id=\"T_8b5f6_level0_row136\" class=\"row_heading level0 row136\" >136</th>\n",
       "      <td id=\"T_8b5f6_row136_col0\" class=\"data row136 col0\" >09 Apr 2024</td>\n",
       "      <td id=\"T_8b5f6_row136_col1\" class=\"data row136 col1\" >2</td>\n",
       "      <td id=\"T_8b5f6_row136_col2\" class=\"data row136 col2\" >2-3</td>\n",
       "      <td id=\"T_8b5f6_row136_col3\" class=\"data row136 col3\" >Peppermint</td>\n",
       "      <td id=\"T_8b5f6_row136_col4\" class=\"data row136 col4\" >Peppermint</td>\n",
       "      <td id=\"T_8b5f6_row136_col5\" class=\"data row136 col5\" >9,673,590</td>\n",
       "      <td id=\"T_8b5f6_row136_col6\" class=\"data row136 col6\" >29,281,795</td>\n",
       "      <td id=\"T_8b5f6_row136_col7\" class=\"data row136 col7\" >12</td>\n",
       "      <td id=\"T_8b5f6_row136_col8\" class=\"data row136 col8\" > </td>\n",
       "      <td id=\"T_8b5f6_row136_col9\" class=\"data row136 col9\" >12</td>\n",
       "      <td id=\"T_8b5f6_row136_col10\" class=\"data row136 col10\" > </td>\n",
       "      <td id=\"T_8b5f6_row136_col11\" class=\"data row136 col11\" >-172,175</td>\n",
       "      <td id=\"T_8b5f6_row136_col12\" class=\"data row136 col12\" >-1.75%</td>\n",
       "    </tr>\n",
       "    <tr>\n",
       "      <th id=\"T_8b5f6_level0_row137\" class=\"row_heading level0 row137\" >137</th>\n",
       "      <td id=\"T_8b5f6_row137_col0\" class=\"data row137 col0\" >09 Apr 2024</td>\n",
       "      <td id=\"T_8b5f6_row137_col1\" class=\"data row137 col1\" >2</td>\n",
       "      <td id=\"T_8b5f6_row137_col2\" class=\"data row137 col2\" >2-3</td>\n",
       "      <td id=\"T_8b5f6_row137_col3\" class=\"data row137 col3\" >사혼</td>\n",
       "      <td id=\"T_8b5f6_row137_col4\" class=\"data row137 col4\" >사혼 (sa-hon)</td>\n",
       "      <td id=\"T_8b5f6_row137_col5\" class=\"data row137 col5\" >9,523,570</td>\n",
       "      <td id=\"T_8b5f6_row137_col6\" class=\"data row137 col6\" >28,245,050</td>\n",
       "      <td id=\"T_8b5f6_row137_col7\" class=\"data row137 col7\" >13</td>\n",
       "      <td id=\"T_8b5f6_row137_col8\" class=\"data row137 col8\" > </td>\n",
       "      <td id=\"T_8b5f6_row137_col9\" class=\"data row137 col9\" >13</td>\n",
       "      <td id=\"T_8b5f6_row137_col10\" class=\"data row137 col10\" > </td>\n",
       "      <td id=\"T_8b5f6_row137_col11\" class=\"data row137 col11\" >87,120</td>\n",
       "      <td id=\"T_8b5f6_row137_col12\" class=\"data row137 col12\" >0.92%</td>\n",
       "    </tr>\n",
       "    <tr>\n",
       "      <th id=\"T_8b5f6_level0_row138\" class=\"row_heading level0 row138\" >138</th>\n",
       "      <td id=\"T_8b5f6_row138_col0\" class=\"data row138 col0\" >09 Apr 2024</td>\n",
       "      <td id=\"T_8b5f6_row138_col1\" class=\"data row138 col1\" >2</td>\n",
       "      <td id=\"T_8b5f6_row138_col2\" class=\"data row138 col2\" >2-3</td>\n",
       "      <td id=\"T_8b5f6_row138_col3\" class=\"data row138 col3\" >재난경보</td>\n",
       "      <td id=\"T_8b5f6_row138_col4\" class=\"data row138 col4\" >재난경보 (jae-nan-gyeong-bo)</td>\n",
       "      <td id=\"T_8b5f6_row138_col5\" class=\"data row138 col5\" >9,520,260</td>\n",
       "      <td id=\"T_8b5f6_row138_col6\" class=\"data row138 col6\" >28,160,105</td>\n",
       "      <td id=\"T_8b5f6_row138_col7\" class=\"data row138 col7\" >14</td>\n",
       "      <td id=\"T_8b5f6_row138_col8\" class=\"data row138 col8\" > </td>\n",
       "      <td id=\"T_8b5f6_row138_col9\" class=\"data row138 col9\" >14</td>\n",
       "      <td id=\"T_8b5f6_row138_col10\" class=\"data row138 col10\" > ▲1</td>\n",
       "      <td id=\"T_8b5f6_row138_col11\" class=\"data row138 col11\" >83,850</td>\n",
       "      <td id=\"T_8b5f6_row138_col12\" class=\"data row138 col12\" >0.89%</td>\n",
       "    </tr>\n",
       "    <tr>\n",
       "      <th id=\"T_8b5f6_level0_row139\" class=\"row_heading level0 row139\" >139</th>\n",
       "      <td id=\"T_8b5f6_row139_col0\" class=\"data row139 col0\" >09 Apr 2024</td>\n",
       "      <td id=\"T_8b5f6_row139_col1\" class=\"data row139 col1\" >2</td>\n",
       "      <td id=\"T_8b5f6_row139_col2\" class=\"data row139 col2\" >2-3</td>\n",
       "      <td id=\"T_8b5f6_row139_col3\" class=\"data row139 col3\" >MyTH</td>\n",
       "      <td id=\"T_8b5f6_row139_col4\" class=\"data row139 col4\" >MyTH</td>\n",
       "      <td id=\"T_8b5f6_row139_col5\" class=\"data row139 col5\" >9,354,565</td>\n",
       "      <td id=\"T_8b5f6_row139_col6\" class=\"data row139 col6\" >27,998,265</td>\n",
       "      <td id=\"T_8b5f6_row139_col7\" class=\"data row139 col7\" >15</td>\n",
       "      <td id=\"T_8b5f6_row139_col8\" class=\"data row139 col8\" > ▲2</td>\n",
       "      <td id=\"T_8b5f6_row139_col9\" class=\"data row139 col9\" >15</td>\n",
       "      <td id=\"T_8b5f6_row139_col10\" class=\"data row139 col10\" > ▼1</td>\n",
       "      <td id=\"T_8b5f6_row139_col11\" class=\"data row139 col11\" >306,660</td>\n",
       "      <td id=\"T_8b5f6_row139_col12\" class=\"data row139 col12\" >3.39%</td>\n",
       "    </tr>\n",
       "    <tr>\n",
       "      <th id=\"T_8b5f6_level0_row140\" class=\"row_heading level0 row140\" >140</th>\n",
       "      <td id=\"T_8b5f6_row140_col0\" class=\"data row140 col0\" >09 Apr 2024</td>\n",
       "      <td id=\"T_8b5f6_row140_col1\" class=\"data row140 col1\" >2</td>\n",
       "      <td id=\"T_8b5f6_row140_col2\" class=\"data row140 col2\" >2-3</td>\n",
       "      <td id=\"T_8b5f6_row140_col3\" class=\"data row140 col3\" >S7AR</td>\n",
       "      <td id=\"T_8b5f6_row140_col4\" class=\"data row140 col4\" >S7AR</td>\n",
       "      <td id=\"T_8b5f6_row140_col5\" class=\"data row140 col5\" >9,200,510</td>\n",
       "      <td id=\"T_8b5f6_row140_col6\" class=\"data row140 col6\" >27,447,600</td>\n",
       "      <td id=\"T_8b5f6_row140_col7\" class=\"data row140 col7\" >17</td>\n",
       "      <td id=\"T_8b5f6_row140_col8\" class=\"data row140 col8\" > ▼2</td>\n",
       "      <td id=\"T_8b5f6_row140_col9\" class=\"data row140 col9\" >16</td>\n",
       "      <td id=\"T_8b5f6_row140_col10\" class=\"data row140 col10\" > </td>\n",
       "      <td id=\"T_8b5f6_row140_col11\" class=\"data row140 col11\" >490</td>\n",
       "      <td id=\"T_8b5f6_row140_col12\" class=\"data row140 col12\" >0.01%</td>\n",
       "    </tr>\n",
       "    <tr>\n",
       "      <th id=\"T_8b5f6_level0_row141\" class=\"row_heading level0 row141\" >141</th>\n",
       "      <td id=\"T_8b5f6_row141_col0\" class=\"data row141 col0\" >09 Apr 2024</td>\n",
       "      <td id=\"T_8b5f6_row141_col1\" class=\"data row141 col1\" >2</td>\n",
       "      <td id=\"T_8b5f6_row141_col2\" class=\"data row141 col2\" >2-3</td>\n",
       "      <td id=\"T_8b5f6_row141_col3\" class=\"data row141 col3\" >DEKWAT</td>\n",
       "      <td id=\"T_8b5f6_row141_col4\" class=\"data row141 col4\" >DEKWAT</td>\n",
       "      <td id=\"T_8b5f6_row141_col5\" class=\"data row141 col5\" >9,205,955</td>\n",
       "      <td id=\"T_8b5f6_row141_col6\" class=\"data row141 col6\" >27,317,385</td>\n",
       "      <td id=\"T_8b5f6_row141_col7\" class=\"data row141 col7\" >16</td>\n",
       "      <td id=\"T_8b5f6_row141_col8\" class=\"data row141 col8\" > </td>\n",
       "      <td id=\"T_8b5f6_row141_col9\" class=\"data row141 col9\" >17</td>\n",
       "      <td id=\"T_8b5f6_row141_col10\" class=\"data row141 col10\" > </td>\n",
       "      <td id=\"T_8b5f6_row141_col11\" class=\"data row141 col11\" >75,055</td>\n",
       "      <td id=\"T_8b5f6_row141_col12\" class=\"data row141 col12\" >0.82%</td>\n",
       "    </tr>\n",
       "    <tr>\n",
       "      <th id=\"T_8b5f6_level0_row142\" class=\"row_heading level0 row142\" >142</th>\n",
       "      <td id=\"T_8b5f6_row142_col0\" class=\"data row142 col0\" >09 Apr 2024</td>\n",
       "      <td id=\"T_8b5f6_row142_col1\" class=\"data row142 col1\" >2</td>\n",
       "      <td id=\"T_8b5f6_row142_col2\" class=\"data row142 col2\" >2-3</td>\n",
       "      <td id=\"T_8b5f6_row142_col3\" class=\"data row142 col3\" >Nobility</td>\n",
       "      <td id=\"T_8b5f6_row142_col4\" class=\"data row142 col4\" >Nobility</td>\n",
       "      <td id=\"T_8b5f6_row142_col5\" class=\"data row142 col5\" >8,917,135</td>\n",
       "      <td id=\"T_8b5f6_row142_col6\" class=\"data row142 col6\" >26,741,850</td>\n",
       "      <td id=\"T_8b5f6_row142_col7\" class=\"data row142 col7\" >18</td>\n",
       "      <td id=\"T_8b5f6_row142_col8\" class=\"data row142 col8\" > </td>\n",
       "      <td id=\"T_8b5f6_row142_col9\" class=\"data row142 col9\" >18</td>\n",
       "      <td id=\"T_8b5f6_row142_col10\" class=\"data row142 col10\" > ▲1</td>\n",
       "      <td id=\"T_8b5f6_row142_col11\" class=\"data row142 col11\" >-74,260</td>\n",
       "      <td id=\"T_8b5f6_row142_col12\" class=\"data row142 col12\" >-0.83%</td>\n",
       "    </tr>\n",
       "    <tr>\n",
       "      <th id=\"T_8b5f6_level0_row143\" class=\"row_heading level0 row143\" >143</th>\n",
       "      <td id=\"T_8b5f6_row143_col0\" class=\"data row143 col0\" >09 Apr 2024</td>\n",
       "      <td id=\"T_8b5f6_row143_col1\" class=\"data row143 col1\" >2</td>\n",
       "      <td id=\"T_8b5f6_row143_col2\" class=\"data row143 col2\" >2-3</td>\n",
       "      <td id=\"T_8b5f6_row143_col3\" class=\"data row143 col3\" >Nigiri</td>\n",
       "      <td id=\"T_8b5f6_row143_col4\" class=\"data row143 col4\" >Nigiri</td>\n",
       "      <td id=\"T_8b5f6_row143_col5\" class=\"data row143 col5\" >8,743,210</td>\n",
       "      <td id=\"T_8b5f6_row143_col6\" class=\"data row143 col6\" >26,629,285</td>\n",
       "      <td id=\"T_8b5f6_row143_col7\" class=\"data row143 col7\" >20</td>\n",
       "      <td id=\"T_8b5f6_row143_col8\" class=\"data row143 col8\" > ▼1</td>\n",
       "      <td id=\"T_8b5f6_row143_col9\" class=\"data row143 col9\" >19</td>\n",
       "      <td id=\"T_8b5f6_row143_col10\" class=\"data row143 col10\" > ▼1</td>\n",
       "      <td id=\"T_8b5f6_row143_col11\" class=\"data row143 col11\" >-158,460</td>\n",
       "      <td id=\"T_8b5f6_row143_col12\" class=\"data row143 col12\" >-1.78%</td>\n",
       "    </tr>\n",
       "    <tr>\n",
       "      <th id=\"T_8b5f6_level0_row144\" class=\"row_heading level0 row144\" >144</th>\n",
       "      <td id=\"T_8b5f6_row144_col0\" class=\"data row144 col0\" >09 Apr 2024</td>\n",
       "      <td id=\"T_8b5f6_row144_col1\" class=\"data row144 col1\" >2</td>\n",
       "      <td id=\"T_8b5f6_row144_col2\" class=\"data row144 col2\" >2-3</td>\n",
       "      <td id=\"T_8b5f6_row144_col3\" class=\"data row144 col3\" >쿠벤저스</td>\n",
       "      <td id=\"T_8b5f6_row144_col4\" class=\"data row144 col4\" >쿠벤저스 (cubengers)</td>\n",
       "      <td id=\"T_8b5f6_row144_col5\" class=\"data row144 col5\" >8,822,070</td>\n",
       "      <td id=\"T_8b5f6_row144_col6\" class=\"data row144 col6\" >26,563,390</td>\n",
       "      <td id=\"T_8b5f6_row144_col7\" class=\"data row144 col7\" >19</td>\n",
       "      <td id=\"T_8b5f6_row144_col8\" class=\"data row144 col8\" > ▲1</td>\n",
       "      <td id=\"T_8b5f6_row144_col9\" class=\"data row144 col9\" >20</td>\n",
       "      <td id=\"T_8b5f6_row144_col10\" class=\"data row144 col10\" > </td>\n",
       "      <td id=\"T_8b5f6_row144_col11\" class=\"data row144 col11\" >-17,460</td>\n",
       "      <td id=\"T_8b5f6_row144_col12\" class=\"data row144 col12\" >-0.20%</td>\n",
       "    </tr>\n",
       "    <tr>\n",
       "      <th id=\"T_8b5f6_level0_row145\" class=\"row_heading level0 row145\" >145</th>\n",
       "      <td id=\"T_8b5f6_row145_col0\" class=\"data row145 col0\" >16 Apr 2024</td>\n",
       "      <td id=\"T_8b5f6_row145_col1\" class=\"data row145 col1\" >2</td>\n",
       "      <td id=\"T_8b5f6_row145_col2\" class=\"data row145 col2\" >2-4</td>\n",
       "      <td id=\"T_8b5f6_row145_col3\" class=\"data row145 col3\" >Spearmint</td>\n",
       "      <td id=\"T_8b5f6_row145_col4\" class=\"data row145 col4\" >Spearmint</td>\n",
       "      <td id=\"T_8b5f6_row145_col5\" class=\"data row145 col5\" >11,044,970</td>\n",
       "      <td id=\"T_8b5f6_row145_col6\" class=\"data row145 col6\" >44,067,480</td>\n",
       "      <td id=\"T_8b5f6_row145_col7\" class=\"data row145 col7\" >2</td>\n",
       "      <td id=\"T_8b5f6_row145_col8\" class=\"data row145 col8\" > ▼1</td>\n",
       "      <td id=\"T_8b5f6_row145_col9\" class=\"data row145 col9\" >1</td>\n",
       "      <td id=\"T_8b5f6_row145_col10\" class=\"data row145 col10\" > </td>\n",
       "      <td id=\"T_8b5f6_row145_col11\" class=\"data row145 col11\" >7,720</td>\n",
       "      <td id=\"T_8b5f6_row145_col12\" class=\"data row145 col12\" >0.07%</td>\n",
       "    </tr>\n",
       "    <tr>\n",
       "      <th id=\"T_8b5f6_level0_row146\" class=\"row_heading level0 row146\" >146</th>\n",
       "      <td id=\"T_8b5f6_row146_col0\" class=\"data row146 col0\" >16 Apr 2024</td>\n",
       "      <td id=\"T_8b5f6_row146_col1\" class=\"data row146 col1\" >2</td>\n",
       "      <td id=\"T_8b5f6_row146_col2\" class=\"data row146 col2\" >2-4</td>\n",
       "      <td id=\"T_8b5f6_row146_col3\" class=\"data row146 col3\" >Vivid</td>\n",
       "      <td id=\"T_8b5f6_row146_col4\" class=\"data row146 col4\" >Vivid</td>\n",
       "      <td id=\"T_8b5f6_row146_col5\" class=\"data row146 col5\" >11,128,220</td>\n",
       "      <td id=\"T_8b5f6_row146_col6\" class=\"data row146 col6\" >43,968,110</td>\n",
       "      <td id=\"T_8b5f6_row146_col7\" class=\"data row146 col7\" >1</td>\n",
       "      <td id=\"T_8b5f6_row146_col8\" class=\"data row146 col8\" > ▲1</td>\n",
       "      <td id=\"T_8b5f6_row146_col9\" class=\"data row146 col9\" >2</td>\n",
       "      <td id=\"T_8b5f6_row146_col10\" class=\"data row146 col10\" > </td>\n",
       "      <td id=\"T_8b5f6_row146_col11\" class=\"data row146 col11\" >99,795</td>\n",
       "      <td id=\"T_8b5f6_row146_col12\" class=\"data row146 col12\" >0.90%</td>\n",
       "    </tr>\n",
       "    <tr>\n",
       "      <th id=\"T_8b5f6_level0_row147\" class=\"row_heading level0 row147\" >147</th>\n",
       "      <td id=\"T_8b5f6_row147_col0\" class=\"data row147 col0\" >16 Apr 2024</td>\n",
       "      <td id=\"T_8b5f6_row147_col1\" class=\"data row147 col1\" >2</td>\n",
       "      <td id=\"T_8b5f6_row147_col2\" class=\"data row147 col2\" >2-4</td>\n",
       "      <td id=\"T_8b5f6_row147_col3\" class=\"data row147 col3\" >Nobless</td>\n",
       "      <td id=\"T_8b5f6_row147_col4\" class=\"data row147 col4\" >Nobless</td>\n",
       "      <td id=\"T_8b5f6_row147_col5\" class=\"data row147 col5\" >10,767,570</td>\n",
       "      <td id=\"T_8b5f6_row147_col6\" class=\"data row147 col6\" >42,580,915</td>\n",
       "      <td id=\"T_8b5f6_row147_col7\" class=\"data row147 col7\" >3</td>\n",
       "      <td id=\"T_8b5f6_row147_col8\" class=\"data row147 col8\" > </td>\n",
       "      <td id=\"T_8b5f6_row147_col9\" class=\"data row147 col9\" >3</td>\n",
       "      <td id=\"T_8b5f6_row147_col10\" class=\"data row147 col10\" > </td>\n",
       "      <td id=\"T_8b5f6_row147_col11\" class=\"data row147 col11\" >4,640</td>\n",
       "      <td id=\"T_8b5f6_row147_col12\" class=\"data row147 col12\" >0.04%</td>\n",
       "    </tr>\n",
       "    <tr>\n",
       "      <th id=\"T_8b5f6_level0_row148\" class=\"row_heading level0 row148\" >148</th>\n",
       "      <td id=\"T_8b5f6_row148_col0\" class=\"data row148 col0\" >16 Apr 2024</td>\n",
       "      <td id=\"T_8b5f6_row148_col1\" class=\"data row148 col1\" >2</td>\n",
       "      <td id=\"T_8b5f6_row148_col2\" class=\"data row148 col2\" >2-4</td>\n",
       "      <td id=\"T_8b5f6_row148_col3\" class=\"data row148 col3\" >LAODA</td>\n",
       "      <td id=\"T_8b5f6_row148_col4\" class=\"data row148 col4\" >LAODA</td>\n",
       "      <td id=\"T_8b5f6_row148_col5\" class=\"data row148 col5\" >10,600,065</td>\n",
       "      <td id=\"T_8b5f6_row148_col6\" class=\"data row148 col6\" >41,721,445</td>\n",
       "      <td id=\"T_8b5f6_row148_col7\" class=\"data row148 col7\" >4</td>\n",
       "      <td id=\"T_8b5f6_row148_col8\" class=\"data row148 col8\" > </td>\n",
       "      <td id=\"T_8b5f6_row148_col9\" class=\"data row148 col9\" >4</td>\n",
       "      <td id=\"T_8b5f6_row148_col10\" class=\"data row148 col10\" > </td>\n",
       "      <td id=\"T_8b5f6_row148_col11\" class=\"data row148 col11\" >79,840</td>\n",
       "      <td id=\"T_8b5f6_row148_col12\" class=\"data row148 col12\" >0.76%</td>\n",
       "    </tr>\n",
       "    <tr>\n",
       "      <th id=\"T_8b5f6_level0_row149\" class=\"row_heading level0 row149\" >149</th>\n",
       "      <td id=\"T_8b5f6_row149_col0\" class=\"data row149 col0\" >16 Apr 2024</td>\n",
       "      <td id=\"T_8b5f6_row149_col1\" class=\"data row149 col1\" >2</td>\n",
       "      <td id=\"T_8b5f6_row149_col2\" class=\"data row149 col2\" >2-4</td>\n",
       "      <td id=\"T_8b5f6_row149_col3\" class=\"data row149 col3\" >미라클</td>\n",
       "      <td id=\"T_8b5f6_row149_col4\" class=\"data row149 col4\" >미라클 (miracle)</td>\n",
       "      <td id=\"T_8b5f6_row149_col5\" class=\"data row149 col5\" >10,433,690</td>\n",
       "      <td id=\"T_8b5f6_row149_col6\" class=\"data row149 col6\" >41,476,315</td>\n",
       "      <td id=\"T_8b5f6_row149_col7\" class=\"data row149 col7\" >7</td>\n",
       "      <td id=\"T_8b5f6_row149_col8\" class=\"data row149 col8\" > </td>\n",
       "      <td id=\"T_8b5f6_row149_col9\" class=\"data row149 col9\" >5</td>\n",
       "      <td id=\"T_8b5f6_row149_col10\" class=\"data row149 col10\" > </td>\n",
       "      <td id=\"T_8b5f6_row149_col11\" class=\"data row149 col11\" >87,015</td>\n",
       "      <td id=\"T_8b5f6_row149_col12\" class=\"data row149 col12\" >0.84%</td>\n",
       "    </tr>\n",
       "    <tr>\n",
       "      <th id=\"T_8b5f6_level0_row150\" class=\"row_heading level0 row150\" >150</th>\n",
       "      <td id=\"T_8b5f6_row150_col0\" class=\"data row150 col0\" >16 Apr 2024</td>\n",
       "      <td id=\"T_8b5f6_row150_col1\" class=\"data row150 col1\" >2</td>\n",
       "      <td id=\"T_8b5f6_row150_col2\" class=\"data row150 col2\" >2-4</td>\n",
       "      <td id=\"T_8b5f6_row150_col3\" class=\"data row150 col3\" >님</td>\n",
       "      <td id=\"T_8b5f6_row150_col4\" class=\"data row150 col4\" >님 (nim)</td>\n",
       "      <td id=\"T_8b5f6_row150_col5\" class=\"data row150 col5\" >10,426,780</td>\n",
       "      <td id=\"T_8b5f6_row150_col6\" class=\"data row150 col6\" >41,390,540</td>\n",
       "      <td id=\"T_8b5f6_row150_col7\" class=\"data row150 col7\" >8</td>\n",
       "      <td id=\"T_8b5f6_row150_col8\" class=\"data row150 col8\" > ▼2</td>\n",
       "      <td id=\"T_8b5f6_row150_col9\" class=\"data row150 col9\" >6</td>\n",
       "      <td id=\"T_8b5f6_row150_col10\" class=\"data row150 col10\" > </td>\n",
       "      <td id=\"T_8b5f6_row150_col11\" class=\"data row150 col11\" >75,135</td>\n",
       "      <td id=\"T_8b5f6_row150_col12\" class=\"data row150 col12\" >0.73%</td>\n",
       "    </tr>\n",
       "    <tr>\n",
       "      <th id=\"T_8b5f6_level0_row151\" class=\"row_heading level0 row151\" >151</th>\n",
       "      <td id=\"T_8b5f6_row151_col0\" class=\"data row151 col0\" >16 Apr 2024</td>\n",
       "      <td id=\"T_8b5f6_row151_col1\" class=\"data row151 col1\" >2</td>\n",
       "      <td id=\"T_8b5f6_row151_col2\" class=\"data row151 col2\" >2-4</td>\n",
       "      <td id=\"T_8b5f6_row151_col3\" class=\"data row151 col3\" >이지스</td>\n",
       "      <td id=\"T_8b5f6_row151_col4\" class=\"data row151 col4\" >이지스 (aegis)</td>\n",
       "      <td id=\"T_8b5f6_row151_col5\" class=\"data row151 col5\" >10,433,950</td>\n",
       "      <td id=\"T_8b5f6_row151_col6\" class=\"data row151 col6\" >41,001,285</td>\n",
       "      <td id=\"T_8b5f6_row151_col7\" class=\"data row151 col7\" >6</td>\n",
       "      <td id=\"T_8b5f6_row151_col8\" class=\"data row151 col8\" > ▼1</td>\n",
       "      <td id=\"T_8b5f6_row151_col9\" class=\"data row151 col9\" >7</td>\n",
       "      <td id=\"T_8b5f6_row151_col10\" class=\"data row151 col10\" > </td>\n",
       "      <td id=\"T_8b5f6_row151_col11\" class=\"data row151 col11\" >72,415</td>\n",
       "      <td id=\"T_8b5f6_row151_col12\" class=\"data row151 col12\" >0.70%</td>\n",
       "    </tr>\n",
       "    <tr>\n",
       "      <th id=\"T_8b5f6_level0_row152\" class=\"row_heading level0 row152\" >152</th>\n",
       "      <td id=\"T_8b5f6_row152_col0\" class=\"data row152 col0\" >16 Apr 2024</td>\n",
       "      <td id=\"T_8b5f6_row152_col1\" class=\"data row152 col1\" >2</td>\n",
       "      <td id=\"T_8b5f6_row152_col2\" class=\"data row152 col2\" >2-4</td>\n",
       "      <td id=\"T_8b5f6_row152_col3\" class=\"data row152 col3\" >Crown</td>\n",
       "      <td id=\"T_8b5f6_row152_col4\" class=\"data row152 col4\" >Crown</td>\n",
       "      <td id=\"T_8b5f6_row152_col5\" class=\"data row152 col5\" >10,508,315</td>\n",
       "      <td id=\"T_8b5f6_row152_col6\" class=\"data row152 col6\" >40,924,725</td>\n",
       "      <td id=\"T_8b5f6_row152_col7\" class=\"data row152 col7\" >5</td>\n",
       "      <td id=\"T_8b5f6_row152_col8\" class=\"data row152 col8\" > ▲5</td>\n",
       "      <td id=\"T_8b5f6_row152_col9\" class=\"data row152 col9\" >8</td>\n",
       "      <td id=\"T_8b5f6_row152_col10\" class=\"data row152 col10\" > </td>\n",
       "      <td id=\"T_8b5f6_row152_col11\" class=\"data row152 col11\" >423,375</td>\n",
       "      <td id=\"T_8b5f6_row152_col12\" class=\"data row152 col12\" >4.20%</td>\n",
       "    </tr>\n",
       "    <tr>\n",
       "      <th id=\"T_8b5f6_level0_row153\" class=\"row_heading level0 row153\" >153</th>\n",
       "      <td id=\"T_8b5f6_row153_col0\" class=\"data row153 col0\" >16 Apr 2024</td>\n",
       "      <td id=\"T_8b5f6_row153_col1\" class=\"data row153 col1\" >2</td>\n",
       "      <td id=\"T_8b5f6_row153_col2\" class=\"data row153 col2\" >2-4</td>\n",
       "      <td id=\"T_8b5f6_row153_col3\" class=\"data row153 col3\" >MolochTH</td>\n",
       "      <td id=\"T_8b5f6_row153_col4\" class=\"data row153 col4\" >MolochTH</td>\n",
       "      <td id=\"T_8b5f6_row153_col5\" class=\"data row153 col5\" >10,256,305</td>\n",
       "      <td id=\"T_8b5f6_row153_col6\" class=\"data row153 col6\" >40,544,895</td>\n",
       "      <td id=\"T_8b5f6_row153_col7\" class=\"data row153 col7\" >9</td>\n",
       "      <td id=\"T_8b5f6_row153_col8\" class=\"data row153 col8\" > ▼1</td>\n",
       "      <td id=\"T_8b5f6_row153_col9\" class=\"data row153 col9\" >9</td>\n",
       "      <td id=\"T_8b5f6_row153_col10\" class=\"data row153 col10\" > </td>\n",
       "      <td id=\"T_8b5f6_row153_col11\" class=\"data row153 col11\" >-6,545</td>\n",
       "      <td id=\"T_8b5f6_row153_col12\" class=\"data row153 col12\" >-0.06%</td>\n",
       "    </tr>\n",
       "    <tr>\n",
       "      <th id=\"T_8b5f6_level0_row154\" class=\"row_heading level0 row154\" >154</th>\n",
       "      <td id=\"T_8b5f6_row154_col0\" class=\"data row154 col0\" >16 Apr 2024</td>\n",
       "      <td id=\"T_8b5f6_row154_col1\" class=\"data row154 col1\" >2</td>\n",
       "      <td id=\"T_8b5f6_row154_col2\" class=\"data row154 col2\" >2-4</td>\n",
       "      <td id=\"T_8b5f6_row154_col3\" class=\"data row154 col3\" >열매</td>\n",
       "      <td id=\"T_8b5f6_row154_col4\" class=\"data row154 col4\" >열매 (yeol-mae)</td>\n",
       "      <td id=\"T_8b5f6_row154_col5\" class=\"data row154 col5\" >10,188,930</td>\n",
       "      <td id=\"T_8b5f6_row154_col6\" class=\"data row154 col6\" >40,168,390</td>\n",
       "      <td id=\"T_8b5f6_row154_col7\" class=\"data row154 col7\" >10</td>\n",
       "      <td id=\"T_8b5f6_row154_col8\" class=\"data row154 col8\" > ▼1</td>\n",
       "      <td id=\"T_8b5f6_row154_col9\" class=\"data row154 col9\" >10</td>\n",
       "      <td id=\"T_8b5f6_row154_col10\" class=\"data row154 col10\" > </td>\n",
       "      <td id=\"T_8b5f6_row154_col11\" class=\"data row154 col11\" >80,810</td>\n",
       "      <td id=\"T_8b5f6_row154_col12\" class=\"data row154 col12\" >0.80%</td>\n",
       "    </tr>\n",
       "    <tr>\n",
       "      <th id=\"T_8b5f6_level0_row155\" class=\"row_heading level0 row155\" >155</th>\n",
       "      <td id=\"T_8b5f6_row155_col0\" class=\"data row155 col0\" >16 Apr 2024</td>\n",
       "      <td id=\"T_8b5f6_row155_col1\" class=\"data row155 col1\" >2</td>\n",
       "      <td id=\"T_8b5f6_row155_col2\" class=\"data row155 col2\" >2-4</td>\n",
       "      <td id=\"T_8b5f6_row155_col3\" class=\"data row155 col3\" >무야호</td>\n",
       "      <td id=\"T_8b5f6_row155_col4\" class=\"data row155 col4\" >무야호 (mu-ya-ho)</td>\n",
       "      <td id=\"T_8b5f6_row155_col5\" class=\"data row155 col5\" >10,091,360</td>\n",
       "      <td id=\"T_8b5f6_row155_col6\" class=\"data row155 col6\" >39,727,820</td>\n",
       "      <td id=\"T_8b5f6_row155_col7\" class=\"data row155 col7\" >11</td>\n",
       "      <td id=\"T_8b5f6_row155_col8\" class=\"data row155 col8\" > </td>\n",
       "      <td id=\"T_8b5f6_row155_col9\" class=\"data row155 col9\" >11</td>\n",
       "      <td id=\"T_8b5f6_row155_col10\" class=\"data row155 col10\" > </td>\n",
       "      <td id=\"T_8b5f6_row155_col11\" class=\"data row155 col11\" >159,665</td>\n",
       "      <td id=\"T_8b5f6_row155_col12\" class=\"data row155 col12\" >1.61%</td>\n",
       "    </tr>\n",
       "    <tr>\n",
       "      <th id=\"T_8b5f6_level0_row156\" class=\"row_heading level0 row156\" >156</th>\n",
       "      <td id=\"T_8b5f6_row156_col0\" class=\"data row156 col0\" >16 Apr 2024</td>\n",
       "      <td id=\"T_8b5f6_row156_col1\" class=\"data row156 col1\" >2</td>\n",
       "      <td id=\"T_8b5f6_row156_col2\" class=\"data row156 col2\" >2-4</td>\n",
       "      <td id=\"T_8b5f6_row156_col3\" class=\"data row156 col3\" >Peppermint</td>\n",
       "      <td id=\"T_8b5f6_row156_col4\" class=\"data row156 col4\" >Peppermint</td>\n",
       "      <td id=\"T_8b5f6_row156_col5\" class=\"data row156 col5\" >9,756,810</td>\n",
       "      <td id=\"T_8b5f6_row156_col6\" class=\"data row156 col6\" >39,038,605</td>\n",
       "      <td id=\"T_8b5f6_row156_col7\" class=\"data row156 col7\" >12</td>\n",
       "      <td id=\"T_8b5f6_row156_col8\" class=\"data row156 col8\" > </td>\n",
       "      <td id=\"T_8b5f6_row156_col9\" class=\"data row156 col9\" >12</td>\n",
       "      <td id=\"T_8b5f6_row156_col10\" class=\"data row156 col10\" > </td>\n",
       "      <td id=\"T_8b5f6_row156_col11\" class=\"data row156 col11\" >83,220</td>\n",
       "      <td id=\"T_8b5f6_row156_col12\" class=\"data row156 col12\" >0.86%</td>\n",
       "    </tr>\n",
       "    <tr>\n",
       "      <th id=\"T_8b5f6_level0_row157\" class=\"row_heading level0 row157\" >157</th>\n",
       "      <td id=\"T_8b5f6_row157_col0\" class=\"data row157 col0\" >16 Apr 2024</td>\n",
       "      <td id=\"T_8b5f6_row157_col1\" class=\"data row157 col1\" >2</td>\n",
       "      <td id=\"T_8b5f6_row157_col2\" class=\"data row157 col2\" >2-4</td>\n",
       "      <td id=\"T_8b5f6_row157_col3\" class=\"data row157 col3\" >사혼</td>\n",
       "      <td id=\"T_8b5f6_row157_col4\" class=\"data row157 col4\" >사혼 (sa-hon)</td>\n",
       "      <td id=\"T_8b5f6_row157_col5\" class=\"data row157 col5\" >9,598,815</td>\n",
       "      <td id=\"T_8b5f6_row157_col6\" class=\"data row157 col6\" >37,843,865</td>\n",
       "      <td id=\"T_8b5f6_row157_col7\" class=\"data row157 col7\" >13</td>\n",
       "      <td id=\"T_8b5f6_row157_col8\" class=\"data row157 col8\" > </td>\n",
       "      <td id=\"T_8b5f6_row157_col9\" class=\"data row157 col9\" >13</td>\n",
       "      <td id=\"T_8b5f6_row157_col10\" class=\"data row157 col10\" > </td>\n",
       "      <td id=\"T_8b5f6_row157_col11\" class=\"data row157 col11\" >75,245</td>\n",
       "      <td id=\"T_8b5f6_row157_col12\" class=\"data row157 col12\" >0.79%</td>\n",
       "    </tr>\n",
       "    <tr>\n",
       "      <th id=\"T_8b5f6_level0_row158\" class=\"row_heading level0 row158\" >158</th>\n",
       "      <td id=\"T_8b5f6_row158_col0\" class=\"data row158 col0\" >16 Apr 2024</td>\n",
       "      <td id=\"T_8b5f6_row158_col1\" class=\"data row158 col1\" >2</td>\n",
       "      <td id=\"T_8b5f6_row158_col2\" class=\"data row158 col2\" >2-4</td>\n",
       "      <td id=\"T_8b5f6_row158_col3\" class=\"data row158 col3\" >재난경보</td>\n",
       "      <td id=\"T_8b5f6_row158_col4\" class=\"data row158 col4\" >재난경보 (jae-nan-gyeong-bo)</td>\n",
       "      <td id=\"T_8b5f6_row158_col5\" class=\"data row158 col5\" >9,529,180</td>\n",
       "      <td id=\"T_8b5f6_row158_col6\" class=\"data row158 col6\" >37,689,285</td>\n",
       "      <td id=\"T_8b5f6_row158_col7\" class=\"data row158 col7\" >14</td>\n",
       "      <td id=\"T_8b5f6_row158_col8\" class=\"data row158 col8\" > </td>\n",
       "      <td id=\"T_8b5f6_row158_col9\" class=\"data row158 col9\" >14</td>\n",
       "      <td id=\"T_8b5f6_row158_col10\" class=\"data row158 col10\" > </td>\n",
       "      <td id=\"T_8b5f6_row158_col11\" class=\"data row158 col11\" >8,920</td>\n",
       "      <td id=\"T_8b5f6_row158_col12\" class=\"data row158 col12\" >0.09%</td>\n",
       "    </tr>\n",
       "    <tr>\n",
       "      <th id=\"T_8b5f6_level0_row159\" class=\"row_heading level0 row159\" >159</th>\n",
       "      <td id=\"T_8b5f6_row159_col0\" class=\"data row159 col0\" >16 Apr 2024</td>\n",
       "      <td id=\"T_8b5f6_row159_col1\" class=\"data row159 col1\" >2</td>\n",
       "      <td id=\"T_8b5f6_row159_col2\" class=\"data row159 col2\" >2-4</td>\n",
       "      <td id=\"T_8b5f6_row159_col3\" class=\"data row159 col3\" >MyTH</td>\n",
       "      <td id=\"T_8b5f6_row159_col4\" class=\"data row159 col4\" >MyTH</td>\n",
       "      <td id=\"T_8b5f6_row159_col5\" class=\"data row159 col5\" >9,047,945</td>\n",
       "      <td id=\"T_8b5f6_row159_col6\" class=\"data row159 col6\" >37,046,210</td>\n",
       "      <td id=\"T_8b5f6_row159_col7\" class=\"data row159 col7\" >20</td>\n",
       "      <td id=\"T_8b5f6_row159_col8\" class=\"data row159 col8\" > ▼5</td>\n",
       "      <td id=\"T_8b5f6_row159_col9\" class=\"data row159 col9\" >15</td>\n",
       "      <td id=\"T_8b5f6_row159_col10\" class=\"data row159 col10\" > </td>\n",
       "      <td id=\"T_8b5f6_row159_col11\" class=\"data row159 col11\" >-306,620</td>\n",
       "      <td id=\"T_8b5f6_row159_col12\" class=\"data row159 col12\" >-3.28%</td>\n",
       "    </tr>\n",
       "    <tr>\n",
       "      <th id=\"T_8b5f6_level0_row160\" class=\"row_heading level0 row160\" >160</th>\n",
       "      <td id=\"T_8b5f6_row160_col0\" class=\"data row160 col0\" >16 Apr 2024</td>\n",
       "      <td id=\"T_8b5f6_row160_col1\" class=\"data row160 col1\" >2</td>\n",
       "      <td id=\"T_8b5f6_row160_col2\" class=\"data row160 col2\" >2-4</td>\n",
       "      <td id=\"T_8b5f6_row160_col3\" class=\"data row160 col3\" >S7AR</td>\n",
       "      <td id=\"T_8b5f6_row160_col4\" class=\"data row160 col4\" >S7AR</td>\n",
       "      <td id=\"T_8b5f6_row160_col5\" class=\"data row160 col5\" >9,208,600</td>\n",
       "      <td id=\"T_8b5f6_row160_col6\" class=\"data row160 col6\" >36,656,200</td>\n",
       "      <td id=\"T_8b5f6_row160_col7\" class=\"data row160 col7\" >16</td>\n",
       "      <td id=\"T_8b5f6_row160_col8\" class=\"data row160 col8\" > ▲1</td>\n",
       "      <td id=\"T_8b5f6_row160_col9\" class=\"data row160 col9\" >16</td>\n",
       "      <td id=\"T_8b5f6_row160_col10\" class=\"data row160 col10\" > </td>\n",
       "      <td id=\"T_8b5f6_row160_col11\" class=\"data row160 col11\" >8,090</td>\n",
       "      <td id=\"T_8b5f6_row160_col12\" class=\"data row160 col12\" >0.09%</td>\n",
       "    </tr>\n",
       "    <tr>\n",
       "      <th id=\"T_8b5f6_level0_row161\" class=\"row_heading level0 row161\" >161</th>\n",
       "      <td id=\"T_8b5f6_row161_col0\" class=\"data row161 col0\" >16 Apr 2024</td>\n",
       "      <td id=\"T_8b5f6_row161_col1\" class=\"data row161 col1\" >2</td>\n",
       "      <td id=\"T_8b5f6_row161_col2\" class=\"data row161 col2\" >2-4</td>\n",
       "      <td id=\"T_8b5f6_row161_col3\" class=\"data row161 col3\" >DEKWAT</td>\n",
       "      <td id=\"T_8b5f6_row161_col4\" class=\"data row161 col4\" >DEKWAT</td>\n",
       "      <td id=\"T_8b5f6_row161_col5\" class=\"data row161 col5\" >9,136,550</td>\n",
       "      <td id=\"T_8b5f6_row161_col6\" class=\"data row161 col6\" >36,453,935</td>\n",
       "      <td id=\"T_8b5f6_row161_col7\" class=\"data row161 col7\" >18</td>\n",
       "      <td id=\"T_8b5f6_row161_col8\" class=\"data row161 col8\" > ▼2</td>\n",
       "      <td id=\"T_8b5f6_row161_col9\" class=\"data row161 col9\" >17</td>\n",
       "      <td id=\"T_8b5f6_row161_col10\" class=\"data row161 col10\" > </td>\n",
       "      <td id=\"T_8b5f6_row161_col11\" class=\"data row161 col11\" >-69,405</td>\n",
       "      <td id=\"T_8b5f6_row161_col12\" class=\"data row161 col12\" >-0.75%</td>\n",
       "    </tr>\n",
       "    <tr>\n",
       "      <th id=\"T_8b5f6_level0_row162\" class=\"row_heading level0 row162\" >162</th>\n",
       "      <td id=\"T_8b5f6_row162_col0\" class=\"data row162 col0\" >16 Apr 2024</td>\n",
       "      <td id=\"T_8b5f6_row162_col1\" class=\"data row162 col1\" >2</td>\n",
       "      <td id=\"T_8b5f6_row162_col2\" class=\"data row162 col2\" >2-4</td>\n",
       "      <td id=\"T_8b5f6_row162_col3\" class=\"data row162 col3\" >Nigiri</td>\n",
       "      <td id=\"T_8b5f6_row162_col4\" class=\"data row162 col4\" >Nigiri</td>\n",
       "      <td id=\"T_8b5f6_row162_col5\" class=\"data row162 col5\" >9,360,090</td>\n",
       "      <td id=\"T_8b5f6_row162_col6\" class=\"data row162 col6\" >35,989,375</td>\n",
       "      <td id=\"T_8b5f6_row162_col7\" class=\"data row162 col7\" >15</td>\n",
       "      <td id=\"T_8b5f6_row162_col8\" class=\"data row162 col8\" > ▲5</td>\n",
       "      <td id=\"T_8b5f6_row162_col9\" class=\"data row162 col9\" >18</td>\n",
       "      <td id=\"T_8b5f6_row162_col10\" class=\"data row162 col10\" > ▲1</td>\n",
       "      <td id=\"T_8b5f6_row162_col11\" class=\"data row162 col11\" >616,880</td>\n",
       "      <td id=\"T_8b5f6_row162_col12\" class=\"data row162 col12\" >7.06%</td>\n",
       "    </tr>\n",
       "    <tr>\n",
       "      <th id=\"T_8b5f6_level0_row163\" class=\"row_heading level0 row163\" >163</th>\n",
       "      <td id=\"T_8b5f6_row163_col0\" class=\"data row163 col0\" >16 Apr 2024</td>\n",
       "      <td id=\"T_8b5f6_row163_col1\" class=\"data row163 col1\" >2</td>\n",
       "      <td id=\"T_8b5f6_row163_col2\" class=\"data row163 col2\" >2-4</td>\n",
       "      <td id=\"T_8b5f6_row163_col3\" class=\"data row163 col3\" >Nobility</td>\n",
       "      <td id=\"T_8b5f6_row163_col4\" class=\"data row163 col4\" >Nobility</td>\n",
       "      <td id=\"T_8b5f6_row163_col5\" class=\"data row163 col5\" >9,142,300</td>\n",
       "      <td id=\"T_8b5f6_row163_col6\" class=\"data row163 col6\" >35,884,150</td>\n",
       "      <td id=\"T_8b5f6_row163_col7\" class=\"data row163 col7\" >17</td>\n",
       "      <td id=\"T_8b5f6_row163_col8\" class=\"data row163 col8\" > ▲1</td>\n",
       "      <td id=\"T_8b5f6_row163_col9\" class=\"data row163 col9\" >19</td>\n",
       "      <td id=\"T_8b5f6_row163_col10\" class=\"data row163 col10\" > ▼1</td>\n",
       "      <td id=\"T_8b5f6_row163_col11\" class=\"data row163 col11\" >225,165</td>\n",
       "      <td id=\"T_8b5f6_row163_col12\" class=\"data row163 col12\" >2.53%</td>\n",
       "    </tr>\n",
       "    <tr>\n",
       "      <th id=\"T_8b5f6_level0_row164\" class=\"row_heading level0 row164\" >164</th>\n",
       "      <td id=\"T_8b5f6_row164_col0\" class=\"data row164 col0\" >16 Apr 2024</td>\n",
       "      <td id=\"T_8b5f6_row164_col1\" class=\"data row164 col1\" >2</td>\n",
       "      <td id=\"T_8b5f6_row164_col2\" class=\"data row164 col2\" >2-4</td>\n",
       "      <td id=\"T_8b5f6_row164_col3\" class=\"data row164 col3\" >쿠벤저스</td>\n",
       "      <td id=\"T_8b5f6_row164_col4\" class=\"data row164 col4\" >쿠벤저스 (cubengers)</td>\n",
       "      <td id=\"T_8b5f6_row164_col5\" class=\"data row164 col5\" >9,128,730</td>\n",
       "      <td id=\"T_8b5f6_row164_col6\" class=\"data row164 col6\" >35,692,120</td>\n",
       "      <td id=\"T_8b5f6_row164_col7\" class=\"data row164 col7\" >19</td>\n",
       "      <td id=\"T_8b5f6_row164_col8\" class=\"data row164 col8\" > </td>\n",
       "      <td id=\"T_8b5f6_row164_col9\" class=\"data row164 col9\" >20</td>\n",
       "      <td id=\"T_8b5f6_row164_col10\" class=\"data row164 col10\" > </td>\n",
       "      <td id=\"T_8b5f6_row164_col11\" class=\"data row164 col11\" >306,660</td>\n",
       "      <td id=\"T_8b5f6_row164_col12\" class=\"data row164 col12\" >3.48%</td>\n",
       "    </tr>\n",
       "    <tr>\n",
       "      <th id=\"T_8b5f6_level0_row165\" class=\"row_heading level0 row165\" >165</th>\n",
       "      <td id=\"T_8b5f6_row165_col0\" class=\"data row165 col0\" >23 Apr 2024</td>\n",
       "      <td id=\"T_8b5f6_row165_col1\" class=\"data row165 col1\" >3</td>\n",
       "      <td id=\"T_8b5f6_row165_col2\" class=\"data row165 col2\" >3-1</td>\n",
       "      <td id=\"T_8b5f6_row165_col3\" class=\"data row165 col3\" >Spearmint</td>\n",
       "      <td id=\"T_8b5f6_row165_col4\" class=\"data row165 col4\" >Spearmint</td>\n",
       "      <td id=\"T_8b5f6_row165_col5\" class=\"data row165 col5\" >11,216,060</td>\n",
       "      <td id=\"T_8b5f6_row165_col6\" class=\"data row165 col6\" >11,216,060</td>\n",
       "      <td id=\"T_8b5f6_row165_col7\" class=\"data row165 col7\" >1</td>\n",
       "      <td id=\"T_8b5f6_row165_col8\" class=\"data row165 col8\" > ▲1</td>\n",
       "      <td id=\"T_8b5f6_row165_col9\" class=\"data row165 col9\" >1</td>\n",
       "      <td id=\"T_8b5f6_row165_col10\" class=\"data row165 col10\" > </td>\n",
       "      <td id=\"T_8b5f6_row165_col11\" class=\"data row165 col11\" >171,090</td>\n",
       "      <td id=\"T_8b5f6_row165_col12\" class=\"data row165 col12\" >1.55%</td>\n",
       "    </tr>\n",
       "    <tr>\n",
       "      <th id=\"T_8b5f6_level0_row166\" class=\"row_heading level0 row166\" >166</th>\n",
       "      <td id=\"T_8b5f6_row166_col0\" class=\"data row166 col0\" >23 Apr 2024</td>\n",
       "      <td id=\"T_8b5f6_row166_col1\" class=\"data row166 col1\" >3</td>\n",
       "      <td id=\"T_8b5f6_row166_col2\" class=\"data row166 col2\" >3-1</td>\n",
       "      <td id=\"T_8b5f6_row166_col3\" class=\"data row166 col3\" >Vivid</td>\n",
       "      <td id=\"T_8b5f6_row166_col4\" class=\"data row166 col4\" >Vivid</td>\n",
       "      <td id=\"T_8b5f6_row166_col5\" class=\"data row166 col5\" >11,041,545</td>\n",
       "      <td id=\"T_8b5f6_row166_col6\" class=\"data row166 col6\" >11,041,545</td>\n",
       "      <td id=\"T_8b5f6_row166_col7\" class=\"data row166 col7\" >2</td>\n",
       "      <td id=\"T_8b5f6_row166_col8\" class=\"data row166 col8\" > ▼1</td>\n",
       "      <td id=\"T_8b5f6_row166_col9\" class=\"data row166 col9\" >2</td>\n",
       "      <td id=\"T_8b5f6_row166_col10\" class=\"data row166 col10\" > </td>\n",
       "      <td id=\"T_8b5f6_row166_col11\" class=\"data row166 col11\" >-86,675</td>\n",
       "      <td id=\"T_8b5f6_row166_col12\" class=\"data row166 col12\" >-0.78%</td>\n",
       "    </tr>\n",
       "    <tr>\n",
       "      <th id=\"T_8b5f6_level0_row167\" class=\"row_heading level0 row167\" >167</th>\n",
       "      <td id=\"T_8b5f6_row167_col0\" class=\"data row167 col0\" >23 Apr 2024</td>\n",
       "      <td id=\"T_8b5f6_row167_col1\" class=\"data row167 col1\" >3</td>\n",
       "      <td id=\"T_8b5f6_row167_col2\" class=\"data row167 col2\" >3-1</td>\n",
       "      <td id=\"T_8b5f6_row167_col3\" class=\"data row167 col3\" >Nobless</td>\n",
       "      <td id=\"T_8b5f6_row167_col4\" class=\"data row167 col4\" >Nobless</td>\n",
       "      <td id=\"T_8b5f6_row167_col5\" class=\"data row167 col5\" >10,792,615</td>\n",
       "      <td id=\"T_8b5f6_row167_col6\" class=\"data row167 col6\" >10,792,615</td>\n",
       "      <td id=\"T_8b5f6_row167_col7\" class=\"data row167 col7\" >3</td>\n",
       "      <td id=\"T_8b5f6_row167_col8\" class=\"data row167 col8\" > </td>\n",
       "      <td id=\"T_8b5f6_row167_col9\" class=\"data row167 col9\" >3</td>\n",
       "      <td id=\"T_8b5f6_row167_col10\" class=\"data row167 col10\" > </td>\n",
       "      <td id=\"T_8b5f6_row167_col11\" class=\"data row167 col11\" >25,045</td>\n",
       "      <td id=\"T_8b5f6_row167_col12\" class=\"data row167 col12\" >0.23%</td>\n",
       "    </tr>\n",
       "    <tr>\n",
       "      <th id=\"T_8b5f6_level0_row168\" class=\"row_heading level0 row168\" >168</th>\n",
       "      <td id=\"T_8b5f6_row168_col0\" class=\"data row168 col0\" >23 Apr 2024</td>\n",
       "      <td id=\"T_8b5f6_row168_col1\" class=\"data row168 col1\" >3</td>\n",
       "      <td id=\"T_8b5f6_row168_col2\" class=\"data row168 col2\" >3-1</td>\n",
       "      <td id=\"T_8b5f6_row168_col3\" class=\"data row168 col3\" >님</td>\n",
       "      <td id=\"T_8b5f6_row168_col4\" class=\"data row168 col4\" >님 (nim)</td>\n",
       "      <td id=\"T_8b5f6_row168_col5\" class=\"data row168 col5\" >10,621,980</td>\n",
       "      <td id=\"T_8b5f6_row168_col6\" class=\"data row168 col6\" >10,621,980</td>\n",
       "      <td id=\"T_8b5f6_row168_col7\" class=\"data row168 col7\" >4</td>\n",
       "      <td id=\"T_8b5f6_row168_col8\" class=\"data row168 col8\" > ▲4</td>\n",
       "      <td id=\"T_8b5f6_row168_col9\" class=\"data row168 col9\" >4</td>\n",
       "      <td id=\"T_8b5f6_row168_col10\" class=\"data row168 col10\" > ▲2</td>\n",
       "      <td id=\"T_8b5f6_row168_col11\" class=\"data row168 col11\" >195,200</td>\n",
       "      <td id=\"T_8b5f6_row168_col12\" class=\"data row168 col12\" >1.87%</td>\n",
       "    </tr>\n",
       "    <tr>\n",
       "      <th id=\"T_8b5f6_level0_row169\" class=\"row_heading level0 row169\" >169</th>\n",
       "      <td id=\"T_8b5f6_row169_col0\" class=\"data row169 col0\" >23 Apr 2024</td>\n",
       "      <td id=\"T_8b5f6_row169_col1\" class=\"data row169 col1\" >3</td>\n",
       "      <td id=\"T_8b5f6_row169_col2\" class=\"data row169 col2\" >3-1</td>\n",
       "      <td id=\"T_8b5f6_row169_col3\" class=\"data row169 col3\" >LAODA</td>\n",
       "      <td id=\"T_8b5f6_row169_col4\" class=\"data row169 col4\" >LAODA</td>\n",
       "      <td id=\"T_8b5f6_row169_col5\" class=\"data row169 col5\" >10,609,375</td>\n",
       "      <td id=\"T_8b5f6_row169_col6\" class=\"data row169 col6\" >10,609,375</td>\n",
       "      <td id=\"T_8b5f6_row169_col7\" class=\"data row169 col7\" >5</td>\n",
       "      <td id=\"T_8b5f6_row169_col8\" class=\"data row169 col8\" > ▼1</td>\n",
       "      <td id=\"T_8b5f6_row169_col9\" class=\"data row169 col9\" >5</td>\n",
       "      <td id=\"T_8b5f6_row169_col10\" class=\"data row169 col10\" > ▼1</td>\n",
       "      <td id=\"T_8b5f6_row169_col11\" class=\"data row169 col11\" >9,310</td>\n",
       "      <td id=\"T_8b5f6_row169_col12\" class=\"data row169 col12\" >0.09%</td>\n",
       "    </tr>\n",
       "    <tr>\n",
       "      <th id=\"T_8b5f6_level0_row170\" class=\"row_heading level0 row170\" >170</th>\n",
       "      <td id=\"T_8b5f6_row170_col0\" class=\"data row170 col0\" >23 Apr 2024</td>\n",
       "      <td id=\"T_8b5f6_row170_col1\" class=\"data row170 col1\" >3</td>\n",
       "      <td id=\"T_8b5f6_row170_col2\" class=\"data row170 col2\" >3-1</td>\n",
       "      <td id=\"T_8b5f6_row170_col3\" class=\"data row170 col3\" >이지스</td>\n",
       "      <td id=\"T_8b5f6_row170_col4\" class=\"data row170 col4\" >이지스 (aegis)</td>\n",
       "      <td id=\"T_8b5f6_row170_col5\" class=\"data row170 col5\" >10,525,165</td>\n",
       "      <td id=\"T_8b5f6_row170_col6\" class=\"data row170 col6\" >10,525,165</td>\n",
       "      <td id=\"T_8b5f6_row170_col7\" class=\"data row170 col7\" >6</td>\n",
       "      <td id=\"T_8b5f6_row170_col8\" class=\"data row170 col8\" > </td>\n",
       "      <td id=\"T_8b5f6_row170_col9\" class=\"data row170 col9\" >6</td>\n",
       "      <td id=\"T_8b5f6_row170_col10\" class=\"data row170 col10\" > ▲1</td>\n",
       "      <td id=\"T_8b5f6_row170_col11\" class=\"data row170 col11\" >91,215</td>\n",
       "      <td id=\"T_8b5f6_row170_col12\" class=\"data row170 col12\" >0.87%</td>\n",
       "    </tr>\n",
       "    <tr>\n",
       "      <th id=\"T_8b5f6_level0_row171\" class=\"row_heading level0 row171\" >171</th>\n",
       "      <td id=\"T_8b5f6_row171_col0\" class=\"data row171 col0\" >23 Apr 2024</td>\n",
       "      <td id=\"T_8b5f6_row171_col1\" class=\"data row171 col1\" >3</td>\n",
       "      <td id=\"T_8b5f6_row171_col2\" class=\"data row171 col2\" >3-1</td>\n",
       "      <td id=\"T_8b5f6_row171_col3\" class=\"data row171 col3\" >미라클</td>\n",
       "      <td id=\"T_8b5f6_row171_col4\" class=\"data row171 col4\" >미라클 (miracle)</td>\n",
       "      <td id=\"T_8b5f6_row171_col5\" class=\"data row171 col5\" >10,510,435</td>\n",
       "      <td id=\"T_8b5f6_row171_col6\" class=\"data row171 col6\" >10,510,435</td>\n",
       "      <td id=\"T_8b5f6_row171_col7\" class=\"data row171 col7\" >7</td>\n",
       "      <td id=\"T_8b5f6_row171_col8\" class=\"data row171 col8\" > </td>\n",
       "      <td id=\"T_8b5f6_row171_col9\" class=\"data row171 col9\" >7</td>\n",
       "      <td id=\"T_8b5f6_row171_col10\" class=\"data row171 col10\" > ▼2</td>\n",
       "      <td id=\"T_8b5f6_row171_col11\" class=\"data row171 col11\" >76,745</td>\n",
       "      <td id=\"T_8b5f6_row171_col12\" class=\"data row171 col12\" >0.74%</td>\n",
       "    </tr>\n",
       "    <tr>\n",
       "      <th id=\"T_8b5f6_level0_row172\" class=\"row_heading level0 row172\" >172</th>\n",
       "      <td id=\"T_8b5f6_row172_col0\" class=\"data row172 col0\" >23 Apr 2024</td>\n",
       "      <td id=\"T_8b5f6_row172_col1\" class=\"data row172 col1\" >3</td>\n",
       "      <td id=\"T_8b5f6_row172_col2\" class=\"data row172 col2\" >3-1</td>\n",
       "      <td id=\"T_8b5f6_row172_col3\" class=\"data row172 col3\" >MolochTH</td>\n",
       "      <td id=\"T_8b5f6_row172_col4\" class=\"data row172 col4\" >MolochTH</td>\n",
       "      <td id=\"T_8b5f6_row172_col5\" class=\"data row172 col5\" >10,430,590</td>\n",
       "      <td id=\"T_8b5f6_row172_col6\" class=\"data row172 col6\" >10,430,590</td>\n",
       "      <td id=\"T_8b5f6_row172_col7\" class=\"data row172 col7\" >8</td>\n",
       "      <td id=\"T_8b5f6_row172_col8\" class=\"data row172 col8\" > ▲1</td>\n",
       "      <td id=\"T_8b5f6_row172_col9\" class=\"data row172 col9\" >8</td>\n",
       "      <td id=\"T_8b5f6_row172_col10\" class=\"data row172 col10\" > ▲1</td>\n",
       "      <td id=\"T_8b5f6_row172_col11\" class=\"data row172 col11\" >174,285</td>\n",
       "      <td id=\"T_8b5f6_row172_col12\" class=\"data row172 col12\" >1.70%</td>\n",
       "    </tr>\n",
       "    <tr>\n",
       "      <th id=\"T_8b5f6_level0_row173\" class=\"row_heading level0 row173\" >173</th>\n",
       "      <td id=\"T_8b5f6_row173_col0\" class=\"data row173 col0\" >23 Apr 2024</td>\n",
       "      <td id=\"T_8b5f6_row173_col1\" class=\"data row173 col1\" >3</td>\n",
       "      <td id=\"T_8b5f6_row173_col2\" class=\"data row173 col2\" >3-1</td>\n",
       "      <td id=\"T_8b5f6_row173_col3\" class=\"data row173 col3\" >Crown</td>\n",
       "      <td id=\"T_8b5f6_row173_col4\" class=\"data row173 col4\" >Crown</td>\n",
       "      <td id=\"T_8b5f6_row173_col5\" class=\"data row173 col5\" >10,430,030</td>\n",
       "      <td id=\"T_8b5f6_row173_col6\" class=\"data row173 col6\" >10,430,030</td>\n",
       "      <td id=\"T_8b5f6_row173_col7\" class=\"data row173 col7\" >9</td>\n",
       "      <td id=\"T_8b5f6_row173_col8\" class=\"data row173 col8\" > ▼4</td>\n",
       "      <td id=\"T_8b5f6_row173_col9\" class=\"data row173 col9\" >9</td>\n",
       "      <td id=\"T_8b5f6_row173_col10\" class=\"data row173 col10\" > ▼1</td>\n",
       "      <td id=\"T_8b5f6_row173_col11\" class=\"data row173 col11\" >-78,285</td>\n",
       "      <td id=\"T_8b5f6_row173_col12\" class=\"data row173 col12\" >-0.74%</td>\n",
       "    </tr>\n",
       "    <tr>\n",
       "      <th id=\"T_8b5f6_level0_row174\" class=\"row_heading level0 row174\" >174</th>\n",
       "      <td id=\"T_8b5f6_row174_col0\" class=\"data row174 col0\" >23 Apr 2024</td>\n",
       "      <td id=\"T_8b5f6_row174_col1\" class=\"data row174 col1\" >3</td>\n",
       "      <td id=\"T_8b5f6_row174_col2\" class=\"data row174 col2\" >3-1</td>\n",
       "      <td id=\"T_8b5f6_row174_col3\" class=\"data row174 col3\" >열매</td>\n",
       "      <td id=\"T_8b5f6_row174_col4\" class=\"data row174 col4\" >열매 (yeol-mae)</td>\n",
       "      <td id=\"T_8b5f6_row174_col5\" class=\"data row174 col5\" >10,265,120</td>\n",
       "      <td id=\"T_8b5f6_row174_col6\" class=\"data row174 col6\" >10,265,120</td>\n",
       "      <td id=\"T_8b5f6_row174_col7\" class=\"data row174 col7\" >10</td>\n",
       "      <td id=\"T_8b5f6_row174_col8\" class=\"data row174 col8\" > </td>\n",
       "      <td id=\"T_8b5f6_row174_col9\" class=\"data row174 col9\" >10</td>\n",
       "      <td id=\"T_8b5f6_row174_col10\" class=\"data row174 col10\" > </td>\n",
       "      <td id=\"T_8b5f6_row174_col11\" class=\"data row174 col11\" >76,190</td>\n",
       "      <td id=\"T_8b5f6_row174_col12\" class=\"data row174 col12\" >0.75%</td>\n",
       "    </tr>\n",
       "    <tr>\n",
       "      <th id=\"T_8b5f6_level0_row175\" class=\"row_heading level0 row175\" >175</th>\n",
       "      <td id=\"T_8b5f6_row175_col0\" class=\"data row175 col0\" >23 Apr 2024</td>\n",
       "      <td id=\"T_8b5f6_row175_col1\" class=\"data row175 col1\" >3</td>\n",
       "      <td id=\"T_8b5f6_row175_col2\" class=\"data row175 col2\" >3-1</td>\n",
       "      <td id=\"T_8b5f6_row175_col3\" class=\"data row175 col3\" >무야호</td>\n",
       "      <td id=\"T_8b5f6_row175_col4\" class=\"data row175 col4\" >무야호 (mu-ya-ho)</td>\n",
       "      <td id=\"T_8b5f6_row175_col5\" class=\"data row175 col5\" >10,101,510</td>\n",
       "      <td id=\"T_8b5f6_row175_col6\" class=\"data row175 col6\" >10,101,510</td>\n",
       "      <td id=\"T_8b5f6_row175_col7\" class=\"data row175 col7\" >11</td>\n",
       "      <td id=\"T_8b5f6_row175_col8\" class=\"data row175 col8\" > </td>\n",
       "      <td id=\"T_8b5f6_row175_col9\" class=\"data row175 col9\" >11</td>\n",
       "      <td id=\"T_8b5f6_row175_col10\" class=\"data row175 col10\" > </td>\n",
       "      <td id=\"T_8b5f6_row175_col11\" class=\"data row175 col11\" >10,150</td>\n",
       "      <td id=\"T_8b5f6_row175_col12\" class=\"data row175 col12\" >0.10%</td>\n",
       "    </tr>\n",
       "    <tr>\n",
       "      <th id=\"T_8b5f6_level0_row176\" class=\"row_heading level0 row176\" >176</th>\n",
       "      <td id=\"T_8b5f6_row176_col0\" class=\"data row176 col0\" >23 Apr 2024</td>\n",
       "      <td id=\"T_8b5f6_row176_col1\" class=\"data row176 col1\" >3</td>\n",
       "      <td id=\"T_8b5f6_row176_col2\" class=\"data row176 col2\" >3-1</td>\n",
       "      <td id=\"T_8b5f6_row176_col3\" class=\"data row176 col3\" >Peppermint</td>\n",
       "      <td id=\"T_8b5f6_row176_col4\" class=\"data row176 col4\" >Peppermint</td>\n",
       "      <td id=\"T_8b5f6_row176_col5\" class=\"data row176 col5\" >9,929,095</td>\n",
       "      <td id=\"T_8b5f6_row176_col6\" class=\"data row176 col6\" >9,929,095</td>\n",
       "      <td id=\"T_8b5f6_row176_col7\" class=\"data row176 col7\" >12</td>\n",
       "      <td id=\"T_8b5f6_row176_col8\" class=\"data row176 col8\" > </td>\n",
       "      <td id=\"T_8b5f6_row176_col9\" class=\"data row176 col9\" >12</td>\n",
       "      <td id=\"T_8b5f6_row176_col10\" class=\"data row176 col10\" > </td>\n",
       "      <td id=\"T_8b5f6_row176_col11\" class=\"data row176 col11\" >172,285</td>\n",
       "      <td id=\"T_8b5f6_row176_col12\" class=\"data row176 col12\" >1.77%</td>\n",
       "    </tr>\n",
       "    <tr>\n",
       "      <th id=\"T_8b5f6_level0_row177\" class=\"row_heading level0 row177\" >177</th>\n",
       "      <td id=\"T_8b5f6_row177_col0\" class=\"data row177 col0\" >23 Apr 2024</td>\n",
       "      <td id=\"T_8b5f6_row177_col1\" class=\"data row177 col1\" >3</td>\n",
       "      <td id=\"T_8b5f6_row177_col2\" class=\"data row177 col2\" >3-1</td>\n",
       "      <td id=\"T_8b5f6_row177_col3\" class=\"data row177 col3\" >재난경보</td>\n",
       "      <td id=\"T_8b5f6_row177_col4\" class=\"data row177 col4\" >재난경보 (jae-nan-gyeong-bo)</td>\n",
       "      <td id=\"T_8b5f6_row177_col5\" class=\"data row177 col5\" >9,841,595</td>\n",
       "      <td id=\"T_8b5f6_row177_col6\" class=\"data row177 col6\" >9,841,595</td>\n",
       "      <td id=\"T_8b5f6_row177_col7\" class=\"data row177 col7\" >13</td>\n",
       "      <td id=\"T_8b5f6_row177_col8\" class=\"data row177 col8\" > ▲1</td>\n",
       "      <td id=\"T_8b5f6_row177_col9\" class=\"data row177 col9\" >13</td>\n",
       "      <td id=\"T_8b5f6_row177_col10\" class=\"data row177 col10\" > ▲1</td>\n",
       "      <td id=\"T_8b5f6_row177_col11\" class=\"data row177 col11\" >312,415</td>\n",
       "      <td id=\"T_8b5f6_row177_col12\" class=\"data row177 col12\" >3.28%</td>\n",
       "    </tr>\n",
       "    <tr>\n",
       "      <th id=\"T_8b5f6_level0_row178\" class=\"row_heading level0 row178\" >178</th>\n",
       "      <td id=\"T_8b5f6_row178_col0\" class=\"data row178 col0\" >23 Apr 2024</td>\n",
       "      <td id=\"T_8b5f6_row178_col1\" class=\"data row178 col1\" >3</td>\n",
       "      <td id=\"T_8b5f6_row178_col2\" class=\"data row178 col2\" >3-1</td>\n",
       "      <td id=\"T_8b5f6_row178_col3\" class=\"data row178 col3\" >사혼</td>\n",
       "      <td id=\"T_8b5f6_row178_col4\" class=\"data row178 col4\" >사혼 (sa-hon)</td>\n",
       "      <td id=\"T_8b5f6_row178_col5\" class=\"data row178 col5\" >9,682,255</td>\n",
       "      <td id=\"T_8b5f6_row178_col6\" class=\"data row178 col6\" >9,682,255</td>\n",
       "      <td id=\"T_8b5f6_row178_col7\" class=\"data row178 col7\" >14</td>\n",
       "      <td id=\"T_8b5f6_row178_col8\" class=\"data row178 col8\" > ▼1</td>\n",
       "      <td id=\"T_8b5f6_row178_col9\" class=\"data row178 col9\" >14</td>\n",
       "      <td id=\"T_8b5f6_row178_col10\" class=\"data row178 col10\" > ▼1</td>\n",
       "      <td id=\"T_8b5f6_row178_col11\" class=\"data row178 col11\" >83,440</td>\n",
       "      <td id=\"T_8b5f6_row178_col12\" class=\"data row178 col12\" >0.87%</td>\n",
       "    </tr>\n",
       "    <tr>\n",
       "      <th id=\"T_8b5f6_level0_row179\" class=\"row_heading level0 row179\" >179</th>\n",
       "      <td id=\"T_8b5f6_row179_col0\" class=\"data row179 col0\" >23 Apr 2024</td>\n",
       "      <td id=\"T_8b5f6_row179_col1\" class=\"data row179 col1\" >3</td>\n",
       "      <td id=\"T_8b5f6_row179_col2\" class=\"data row179 col2\" >3-1</td>\n",
       "      <td id=\"T_8b5f6_row179_col3\" class=\"data row179 col3\" >Nobility</td>\n",
       "      <td id=\"T_8b5f6_row179_col4\" class=\"data row179 col4\" >Nobility</td>\n",
       "      <td id=\"T_8b5f6_row179_col5\" class=\"data row179 col5\" >9,453,630</td>\n",
       "      <td id=\"T_8b5f6_row179_col6\" class=\"data row179 col6\" >9,453,630</td>\n",
       "      <td id=\"T_8b5f6_row179_col7\" class=\"data row179 col7\" >15</td>\n",
       "      <td id=\"T_8b5f6_row179_col8\" class=\"data row179 col8\" > ▲2</td>\n",
       "      <td id=\"T_8b5f6_row179_col9\" class=\"data row179 col9\" >15</td>\n",
       "      <td id=\"T_8b5f6_row179_col10\" class=\"data row179 col10\" > ▲4</td>\n",
       "      <td id=\"T_8b5f6_row179_col11\" class=\"data row179 col11\" >311,330</td>\n",
       "      <td id=\"T_8b5f6_row179_col12\" class=\"data row179 col12\" >3.41%</td>\n",
       "    </tr>\n",
       "    <tr>\n",
       "      <th id=\"T_8b5f6_level0_row180\" class=\"row_heading level0 row180\" >180</th>\n",
       "      <td id=\"T_8b5f6_row180_col0\" class=\"data row180 col0\" >23 Apr 2024</td>\n",
       "      <td id=\"T_8b5f6_row180_col1\" class=\"data row180 col1\" >3</td>\n",
       "      <td id=\"T_8b5f6_row180_col2\" class=\"data row180 col2\" >3-1</td>\n",
       "      <td id=\"T_8b5f6_row180_col3\" class=\"data row180 col3\" >Nigiri</td>\n",
       "      <td id=\"T_8b5f6_row180_col4\" class=\"data row180 col4\" >Nigiri</td>\n",
       "      <td id=\"T_8b5f6_row180_col5\" class=\"data row180 col5\" >9,442,580</td>\n",
       "      <td id=\"T_8b5f6_row180_col6\" class=\"data row180 col6\" >9,442,580</td>\n",
       "      <td id=\"T_8b5f6_row180_col7\" class=\"data row180 col7\" >16</td>\n",
       "      <td id=\"T_8b5f6_row180_col8\" class=\"data row180 col8\" > ▼1</td>\n",
       "      <td id=\"T_8b5f6_row180_col9\" class=\"data row180 col9\" >16</td>\n",
       "      <td id=\"T_8b5f6_row180_col10\" class=\"data row180 col10\" > ▲2</td>\n",
       "      <td id=\"T_8b5f6_row180_col11\" class=\"data row180 col11\" >82,490</td>\n",
       "      <td id=\"T_8b5f6_row180_col12\" class=\"data row180 col12\" >0.88%</td>\n",
       "    </tr>\n",
       "    <tr>\n",
       "      <th id=\"T_8b5f6_level0_row181\" class=\"row_heading level0 row181\" >181</th>\n",
       "      <td id=\"T_8b5f6_row181_col0\" class=\"data row181 col0\" >23 Apr 2024</td>\n",
       "      <td id=\"T_8b5f6_row181_col1\" class=\"data row181 col1\" >3</td>\n",
       "      <td id=\"T_8b5f6_row181_col2\" class=\"data row181 col2\" >3-1</td>\n",
       "      <td id=\"T_8b5f6_row181_col3\" class=\"data row181 col3\" >S7AR</td>\n",
       "      <td id=\"T_8b5f6_row181_col4\" class=\"data row181 col4\" >S7AR</td>\n",
       "      <td id=\"T_8b5f6_row181_col5\" class=\"data row181 col5\" >9,360,565</td>\n",
       "      <td id=\"T_8b5f6_row181_col6\" class=\"data row181 col6\" >9,360,565</td>\n",
       "      <td id=\"T_8b5f6_row181_col7\" class=\"data row181 col7\" >17</td>\n",
       "      <td id=\"T_8b5f6_row181_col8\" class=\"data row181 col8\" > ▼1</td>\n",
       "      <td id=\"T_8b5f6_row181_col9\" class=\"data row181 col9\" >17</td>\n",
       "      <td id=\"T_8b5f6_row181_col10\" class=\"data row181 col10\" > ▼1</td>\n",
       "      <td id=\"T_8b5f6_row181_col11\" class=\"data row181 col11\" >151,965</td>\n",
       "      <td id=\"T_8b5f6_row181_col12\" class=\"data row181 col12\" >1.65%</td>\n",
       "    </tr>\n",
       "    <tr>\n",
       "      <th id=\"T_8b5f6_level0_row182\" class=\"row_heading level0 row182\" >182</th>\n",
       "      <td id=\"T_8b5f6_row182_col0\" class=\"data row182 col0\" >23 Apr 2024</td>\n",
       "      <td id=\"T_8b5f6_row182_col1\" class=\"data row182 col1\" >3</td>\n",
       "      <td id=\"T_8b5f6_row182_col2\" class=\"data row182 col2\" >3-1</td>\n",
       "      <td id=\"T_8b5f6_row182_col3\" class=\"data row182 col3\" >DEKWAT</td>\n",
       "      <td id=\"T_8b5f6_row182_col4\" class=\"data row182 col4\" >DEKWAT</td>\n",
       "      <td id=\"T_8b5f6_row182_col5\" class=\"data row182 col5\" >9,209,055</td>\n",
       "      <td id=\"T_8b5f6_row182_col6\" class=\"data row182 col6\" >9,209,055</td>\n",
       "      <td id=\"T_8b5f6_row182_col7\" class=\"data row182 col7\" >18</td>\n",
       "      <td id=\"T_8b5f6_row182_col8\" class=\"data row182 col8\" > </td>\n",
       "      <td id=\"T_8b5f6_row182_col9\" class=\"data row182 col9\" >18</td>\n",
       "      <td id=\"T_8b5f6_row182_col10\" class=\"data row182 col10\" > ▼1</td>\n",
       "      <td id=\"T_8b5f6_row182_col11\" class=\"data row182 col11\" >72,505</td>\n",
       "      <td id=\"T_8b5f6_row182_col12\" class=\"data row182 col12\" >0.79%</td>\n",
       "    </tr>\n",
       "    <tr>\n",
       "      <th id=\"T_8b5f6_level0_row183\" class=\"row_heading level0 row183\" >183</th>\n",
       "      <td id=\"T_8b5f6_row183_col0\" class=\"data row183 col0\" >23 Apr 2024</td>\n",
       "      <td id=\"T_8b5f6_row183_col1\" class=\"data row183 col1\" >3</td>\n",
       "      <td id=\"T_8b5f6_row183_col2\" class=\"data row183 col2\" >3-1</td>\n",
       "      <td id=\"T_8b5f6_row183_col3\" class=\"data row183 col3\" >MyTH</td>\n",
       "      <td id=\"T_8b5f6_row183_col4\" class=\"data row183 col4\" >MyTH</td>\n",
       "      <td id=\"T_8b5f6_row183_col5\" class=\"data row183 col5\" >9,197,790</td>\n",
       "      <td id=\"T_8b5f6_row183_col6\" class=\"data row183 col6\" >9,197,790</td>\n",
       "      <td id=\"T_8b5f6_row183_col7\" class=\"data row183 col7\" >19</td>\n",
       "      <td id=\"T_8b5f6_row183_col8\" class=\"data row183 col8\" > ▲1</td>\n",
       "      <td id=\"T_8b5f6_row183_col9\" class=\"data row183 col9\" >19</td>\n",
       "      <td id=\"T_8b5f6_row183_col10\" class=\"data row183 col10\" > ▼4</td>\n",
       "      <td id=\"T_8b5f6_row183_col11\" class=\"data row183 col11\" >149,845</td>\n",
       "      <td id=\"T_8b5f6_row183_col12\" class=\"data row183 col12\" >1.66%</td>\n",
       "    </tr>\n",
       "    <tr>\n",
       "      <th id=\"T_8b5f6_level0_row184\" class=\"row_heading level0 row184\" >184</th>\n",
       "      <td id=\"T_8b5f6_row184_col0\" class=\"data row184 col0\" >23 Apr 2024</td>\n",
       "      <td id=\"T_8b5f6_row184_col1\" class=\"data row184 col1\" >3</td>\n",
       "      <td id=\"T_8b5f6_row184_col2\" class=\"data row184 col2\" >3-1</td>\n",
       "      <td id=\"T_8b5f6_row184_col3\" class=\"data row184 col3\" >쿠벤저스</td>\n",
       "      <td id=\"T_8b5f6_row184_col4\" class=\"data row184 col4\" >쿠벤저스 (cubengers)</td>\n",
       "      <td id=\"T_8b5f6_row184_col5\" class=\"data row184 col5\" >9,055,195</td>\n",
       "      <td id=\"T_8b5f6_row184_col6\" class=\"data row184 col6\" >9,055,195</td>\n",
       "      <td id=\"T_8b5f6_row184_col7\" class=\"data row184 col7\" >20</td>\n",
       "      <td id=\"T_8b5f6_row184_col8\" class=\"data row184 col8\" > ▼1</td>\n",
       "      <td id=\"T_8b5f6_row184_col9\" class=\"data row184 col9\" >20</td>\n",
       "      <td id=\"T_8b5f6_row184_col10\" class=\"data row184 col10\" > </td>\n",
       "      <td id=\"T_8b5f6_row184_col11\" class=\"data row184 col11\" >-73,535</td>\n",
       "      <td id=\"T_8b5f6_row184_col12\" class=\"data row184 col12\" >-0.81%</td>\n",
       "    </tr>\n",
       "    <tr>\n",
       "      <th id=\"T_8b5f6_level0_row185\" class=\"row_heading level0 row185\" >185</th>\n",
       "      <td id=\"T_8b5f6_row185_col0\" class=\"data row185 col0\" >30 Apr 2024</td>\n",
       "      <td id=\"T_8b5f6_row185_col1\" class=\"data row185 col1\" >3</td>\n",
       "      <td id=\"T_8b5f6_row185_col2\" class=\"data row185 col2\" >3-2</td>\n",
       "      <td id=\"T_8b5f6_row185_col3\" class=\"data row185 col3\" >Spearmint</td>\n",
       "      <td id=\"T_8b5f6_row185_col4\" class=\"data row185 col4\" >Spearmint</td>\n",
       "      <td id=\"T_8b5f6_row185_col5\" class=\"data row185 col5\" >11,211,090</td>\n",
       "      <td id=\"T_8b5f6_row185_col6\" class=\"data row185 col6\" >22,427,150</td>\n",
       "      <td id=\"T_8b5f6_row185_col7\" class=\"data row185 col7\" >1</td>\n",
       "      <td id=\"T_8b5f6_row185_col8\" class=\"data row185 col8\" > </td>\n",
       "      <td id=\"T_8b5f6_row185_col9\" class=\"data row185 col9\" >1</td>\n",
       "      <td id=\"T_8b5f6_row185_col10\" class=\"data row185 col10\" > </td>\n",
       "      <td id=\"T_8b5f6_row185_col11\" class=\"data row185 col11\" >-4,970</td>\n",
       "      <td id=\"T_8b5f6_row185_col12\" class=\"data row185 col12\" >-0.04%</td>\n",
       "    </tr>\n",
       "    <tr>\n",
       "      <th id=\"T_8b5f6_level0_row186\" class=\"row_heading level0 row186\" >186</th>\n",
       "      <td id=\"T_8b5f6_row186_col0\" class=\"data row186 col0\" >30 Apr 2024</td>\n",
       "      <td id=\"T_8b5f6_row186_col1\" class=\"data row186 col1\" >3</td>\n",
       "      <td id=\"T_8b5f6_row186_col2\" class=\"data row186 col2\" >3-2</td>\n",
       "      <td id=\"T_8b5f6_row186_col3\" class=\"data row186 col3\" >Vivid</td>\n",
       "      <td id=\"T_8b5f6_row186_col4\" class=\"data row186 col4\" >Vivid</td>\n",
       "      <td id=\"T_8b5f6_row186_col5\" class=\"data row186 col5\" >11,115,440</td>\n",
       "      <td id=\"T_8b5f6_row186_col6\" class=\"data row186 col6\" >22,156,985</td>\n",
       "      <td id=\"T_8b5f6_row186_col7\" class=\"data row186 col7\" >2</td>\n",
       "      <td id=\"T_8b5f6_row186_col8\" class=\"data row186 col8\" > </td>\n",
       "      <td id=\"T_8b5f6_row186_col9\" class=\"data row186 col9\" >2</td>\n",
       "      <td id=\"T_8b5f6_row186_col10\" class=\"data row186 col10\" > </td>\n",
       "      <td id=\"T_8b5f6_row186_col11\" class=\"data row186 col11\" >73,895</td>\n",
       "      <td id=\"T_8b5f6_row186_col12\" class=\"data row186 col12\" >0.67%</td>\n",
       "    </tr>\n",
       "    <tr>\n",
       "      <th id=\"T_8b5f6_level0_row187\" class=\"row_heading level0 row187\" >187</th>\n",
       "      <td id=\"T_8b5f6_row187_col0\" class=\"data row187 col0\" >30 Apr 2024</td>\n",
       "      <td id=\"T_8b5f6_row187_col1\" class=\"data row187 col1\" >3</td>\n",
       "      <td id=\"T_8b5f6_row187_col2\" class=\"data row187 col2\" >3-2</td>\n",
       "      <td id=\"T_8b5f6_row187_col3\" class=\"data row187 col3\" >Nobless</td>\n",
       "      <td id=\"T_8b5f6_row187_col4\" class=\"data row187 col4\" >Nobless</td>\n",
       "      <td id=\"T_8b5f6_row187_col5\" class=\"data row187 col5\" >10,781,320</td>\n",
       "      <td id=\"T_8b5f6_row187_col6\" class=\"data row187 col6\" >21,573,935</td>\n",
       "      <td id=\"T_8b5f6_row187_col7\" class=\"data row187 col7\" >3</td>\n",
       "      <td id=\"T_8b5f6_row187_col8\" class=\"data row187 col8\" > </td>\n",
       "      <td id=\"T_8b5f6_row187_col9\" class=\"data row187 col9\" >3</td>\n",
       "      <td id=\"T_8b5f6_row187_col10\" class=\"data row187 col10\" > </td>\n",
       "      <td id=\"T_8b5f6_row187_col11\" class=\"data row187 col11\" >-11,295</td>\n",
       "      <td id=\"T_8b5f6_row187_col12\" class=\"data row187 col12\" >-0.10%</td>\n",
       "    </tr>\n",
       "    <tr>\n",
       "      <th id=\"T_8b5f6_level0_row188\" class=\"row_heading level0 row188\" >188</th>\n",
       "      <td id=\"T_8b5f6_row188_col0\" class=\"data row188 col0\" >30 Apr 2024</td>\n",
       "      <td id=\"T_8b5f6_row188_col1\" class=\"data row188 col1\" >3</td>\n",
       "      <td id=\"T_8b5f6_row188_col2\" class=\"data row188 col2\" >3-2</td>\n",
       "      <td id=\"T_8b5f6_row188_col3\" class=\"data row188 col3\" >님</td>\n",
       "      <td id=\"T_8b5f6_row188_col4\" class=\"data row188 col4\" >님 (nim)</td>\n",
       "      <td id=\"T_8b5f6_row188_col5\" class=\"data row188 col5\" >10,683,770</td>\n",
       "      <td id=\"T_8b5f6_row188_col6\" class=\"data row188 col6\" >21,305,750</td>\n",
       "      <td id=\"T_8b5f6_row188_col7\" class=\"data row188 col7\" >5</td>\n",
       "      <td id=\"T_8b5f6_row188_col8\" class=\"data row188 col8\" > ▼1</td>\n",
       "      <td id=\"T_8b5f6_row188_col9\" class=\"data row188 col9\" >4</td>\n",
       "      <td id=\"T_8b5f6_row188_col10\" class=\"data row188 col10\" > </td>\n",
       "      <td id=\"T_8b5f6_row188_col11\" class=\"data row188 col11\" >61,790</td>\n",
       "      <td id=\"T_8b5f6_row188_col12\" class=\"data row188 col12\" >0.58%</td>\n",
       "    </tr>\n",
       "    <tr>\n",
       "      <th id=\"T_8b5f6_level0_row189\" class=\"row_heading level0 row189\" >189</th>\n",
       "      <td id=\"T_8b5f6_row189_col0\" class=\"data row189 col0\" >30 Apr 2024</td>\n",
       "      <td id=\"T_8b5f6_row189_col1\" class=\"data row189 col1\" >3</td>\n",
       "      <td id=\"T_8b5f6_row189_col2\" class=\"data row189 col2\" >3-2</td>\n",
       "      <td id=\"T_8b5f6_row189_col3\" class=\"data row189 col3\" >LAODA</td>\n",
       "      <td id=\"T_8b5f6_row189_col4\" class=\"data row189 col4\" >LAODA</td>\n",
       "      <td id=\"T_8b5f6_row189_col5\" class=\"data row189 col5\" >10,691,550</td>\n",
       "      <td id=\"T_8b5f6_row189_col6\" class=\"data row189 col6\" >21,300,925</td>\n",
       "      <td id=\"T_8b5f6_row189_col7\" class=\"data row189 col7\" >4</td>\n",
       "      <td id=\"T_8b5f6_row189_col8\" class=\"data row189 col8\" > ▲1</td>\n",
       "      <td id=\"T_8b5f6_row189_col9\" class=\"data row189 col9\" >5</td>\n",
       "      <td id=\"T_8b5f6_row189_col10\" class=\"data row189 col10\" > </td>\n",
       "      <td id=\"T_8b5f6_row189_col11\" class=\"data row189 col11\" >82,175</td>\n",
       "      <td id=\"T_8b5f6_row189_col12\" class=\"data row189 col12\" >0.77%</td>\n",
       "    </tr>\n",
       "    <tr>\n",
       "      <th id=\"T_8b5f6_level0_row190\" class=\"row_heading level0 row190\" >190</th>\n",
       "      <td id=\"T_8b5f6_row190_col0\" class=\"data row190 col0\" >30 Apr 2024</td>\n",
       "      <td id=\"T_8b5f6_row190_col1\" class=\"data row190 col1\" >3</td>\n",
       "      <td id=\"T_8b5f6_row190_col2\" class=\"data row190 col2\" >3-2</td>\n",
       "      <td id=\"T_8b5f6_row190_col3\" class=\"data row190 col3\" >이지스</td>\n",
       "      <td id=\"T_8b5f6_row190_col4\" class=\"data row190 col4\" >이지스 (aegis)</td>\n",
       "      <td id=\"T_8b5f6_row190_col5\" class=\"data row190 col5\" >10,614,170</td>\n",
       "      <td id=\"T_8b5f6_row190_col6\" class=\"data row190 col6\" >21,139,335</td>\n",
       "      <td id=\"T_8b5f6_row190_col7\" class=\"data row190 col7\" >6</td>\n",
       "      <td id=\"T_8b5f6_row190_col8\" class=\"data row190 col8\" > </td>\n",
       "      <td id=\"T_8b5f6_row190_col9\" class=\"data row190 col9\" >6</td>\n",
       "      <td id=\"T_8b5f6_row190_col10\" class=\"data row190 col10\" > </td>\n",
       "      <td id=\"T_8b5f6_row190_col11\" class=\"data row190 col11\" >89,005</td>\n",
       "      <td id=\"T_8b5f6_row190_col12\" class=\"data row190 col12\" >0.85%</td>\n",
       "    </tr>\n",
       "    <tr>\n",
       "      <th id=\"T_8b5f6_level0_row191\" class=\"row_heading level0 row191\" >191</th>\n",
       "      <td id=\"T_8b5f6_row191_col0\" class=\"data row191 col0\" >30 Apr 2024</td>\n",
       "      <td id=\"T_8b5f6_row191_col1\" class=\"data row191 col1\" >3</td>\n",
       "      <td id=\"T_8b5f6_row191_col2\" class=\"data row191 col2\" >3-2</td>\n",
       "      <td id=\"T_8b5f6_row191_col3\" class=\"data row191 col3\" >미라클</td>\n",
       "      <td id=\"T_8b5f6_row191_col4\" class=\"data row191 col4\" >미라클 (miracle)</td>\n",
       "      <td id=\"T_8b5f6_row191_col5\" class=\"data row191 col5\" >10,599,700</td>\n",
       "      <td id=\"T_8b5f6_row191_col6\" class=\"data row191 col6\" >21,110,135</td>\n",
       "      <td id=\"T_8b5f6_row191_col7\" class=\"data row191 col7\" >7</td>\n",
       "      <td id=\"T_8b5f6_row191_col8\" class=\"data row191 col8\" > </td>\n",
       "      <td id=\"T_8b5f6_row191_col9\" class=\"data row191 col9\" >7</td>\n",
       "      <td id=\"T_8b5f6_row191_col10\" class=\"data row191 col10\" > </td>\n",
       "      <td id=\"T_8b5f6_row191_col11\" class=\"data row191 col11\" >89,265</td>\n",
       "      <td id=\"T_8b5f6_row191_col12\" class=\"data row191 col12\" >0.85%</td>\n",
       "    </tr>\n",
       "    <tr>\n",
       "      <th id=\"T_8b5f6_level0_row192\" class=\"row_heading level0 row192\" >192</th>\n",
       "      <td id=\"T_8b5f6_row192_col0\" class=\"data row192 col0\" >30 Apr 2024</td>\n",
       "      <td id=\"T_8b5f6_row192_col1\" class=\"data row192 col1\" >3</td>\n",
       "      <td id=\"T_8b5f6_row192_col2\" class=\"data row192 col2\" >3-2</td>\n",
       "      <td id=\"T_8b5f6_row192_col3\" class=\"data row192 col3\" >Crown</td>\n",
       "      <td id=\"T_8b5f6_row192_col4\" class=\"data row192 col4\" >Crown</td>\n",
       "      <td id=\"T_8b5f6_row192_col5\" class=\"data row192 col5\" >10,595,575</td>\n",
       "      <td id=\"T_8b5f6_row192_col6\" class=\"data row192 col6\" >21,025,605</td>\n",
       "      <td id=\"T_8b5f6_row192_col7\" class=\"data row192 col7\" >8</td>\n",
       "      <td id=\"T_8b5f6_row192_col8\" class=\"data row192 col8\" > ▲1</td>\n",
       "      <td id=\"T_8b5f6_row192_col9\" class=\"data row192 col9\" >8</td>\n",
       "      <td id=\"T_8b5f6_row192_col10\" class=\"data row192 col10\" > ▲1</td>\n",
       "      <td id=\"T_8b5f6_row192_col11\" class=\"data row192 col11\" >165,545</td>\n",
       "      <td id=\"T_8b5f6_row192_col12\" class=\"data row192 col12\" >1.59%</td>\n",
       "    </tr>\n",
       "    <tr>\n",
       "      <th id=\"T_8b5f6_level0_row193\" class=\"row_heading level0 row193\" >193</th>\n",
       "      <td id=\"T_8b5f6_row193_col0\" class=\"data row193 col0\" >30 Apr 2024</td>\n",
       "      <td id=\"T_8b5f6_row193_col1\" class=\"data row193 col1\" >3</td>\n",
       "      <td id=\"T_8b5f6_row193_col2\" class=\"data row193 col2\" >3-2</td>\n",
       "      <td id=\"T_8b5f6_row193_col3\" class=\"data row193 col3\" >MolochTH</td>\n",
       "      <td id=\"T_8b5f6_row193_col4\" class=\"data row193 col4\" >MolochTH</td>\n",
       "      <td id=\"T_8b5f6_row193_col5\" class=\"data row193 col5\" >10,520,085</td>\n",
       "      <td id=\"T_8b5f6_row193_col6\" class=\"data row193 col6\" >20,950,675</td>\n",
       "      <td id=\"T_8b5f6_row193_col7\" class=\"data row193 col7\" >9</td>\n",
       "      <td id=\"T_8b5f6_row193_col8\" class=\"data row193 col8\" > ▼1</td>\n",
       "      <td id=\"T_8b5f6_row193_col9\" class=\"data row193 col9\" >9</td>\n",
       "      <td id=\"T_8b5f6_row193_col10\" class=\"data row193 col10\" > ▼1</td>\n",
       "      <td id=\"T_8b5f6_row193_col11\" class=\"data row193 col11\" >89,495</td>\n",
       "      <td id=\"T_8b5f6_row193_col12\" class=\"data row193 col12\" >0.86%</td>\n",
       "    </tr>\n",
       "    <tr>\n",
       "      <th id=\"T_8b5f6_level0_row194\" class=\"row_heading level0 row194\" >194</th>\n",
       "      <td id=\"T_8b5f6_row194_col0\" class=\"data row194 col0\" >30 Apr 2024</td>\n",
       "      <td id=\"T_8b5f6_row194_col1\" class=\"data row194 col1\" >3</td>\n",
       "      <td id=\"T_8b5f6_row194_col2\" class=\"data row194 col2\" >3-2</td>\n",
       "      <td id=\"T_8b5f6_row194_col3\" class=\"data row194 col3\" >열매</td>\n",
       "      <td id=\"T_8b5f6_row194_col4\" class=\"data row194 col4\" >열매 (yeol-mae)</td>\n",
       "      <td id=\"T_8b5f6_row194_col5\" class=\"data row194 col5\" >10,350,345</td>\n",
       "      <td id=\"T_8b5f6_row194_col6\" class=\"data row194 col6\" >20,615,465</td>\n",
       "      <td id=\"T_8b5f6_row194_col7\" class=\"data row194 col7\" >10</td>\n",
       "      <td id=\"T_8b5f6_row194_col8\" class=\"data row194 col8\" > </td>\n",
       "      <td id=\"T_8b5f6_row194_col9\" class=\"data row194 col9\" >10</td>\n",
       "      <td id=\"T_8b5f6_row194_col10\" class=\"data row194 col10\" > </td>\n",
       "      <td id=\"T_8b5f6_row194_col11\" class=\"data row194 col11\" >85,225</td>\n",
       "      <td id=\"T_8b5f6_row194_col12\" class=\"data row194 col12\" >0.83%</td>\n",
       "    </tr>\n",
       "    <tr>\n",
       "      <th id=\"T_8b5f6_level0_row195\" class=\"row_heading level0 row195\" >195</th>\n",
       "      <td id=\"T_8b5f6_row195_col0\" class=\"data row195 col0\" >30 Apr 2024</td>\n",
       "      <td id=\"T_8b5f6_row195_col1\" class=\"data row195 col1\" >3</td>\n",
       "      <td id=\"T_8b5f6_row195_col2\" class=\"data row195 col2\" >3-2</td>\n",
       "      <td id=\"T_8b5f6_row195_col3\" class=\"data row195 col3\" >무야호</td>\n",
       "      <td id=\"T_8b5f6_row195_col4\" class=\"data row195 col4\" >무야호 (mu-ya-ho)</td>\n",
       "      <td id=\"T_8b5f6_row195_col5\" class=\"data row195 col5\" >10,258,140</td>\n",
       "      <td id=\"T_8b5f6_row195_col6\" class=\"data row195 col6\" >20,359,650</td>\n",
       "      <td id=\"T_8b5f6_row195_col7\" class=\"data row195 col7\" >11</td>\n",
       "      <td id=\"T_8b5f6_row195_col8\" class=\"data row195 col8\" > </td>\n",
       "      <td id=\"T_8b5f6_row195_col9\" class=\"data row195 col9\" >11</td>\n",
       "      <td id=\"T_8b5f6_row195_col10\" class=\"data row195 col10\" > </td>\n",
       "      <td id=\"T_8b5f6_row195_col11\" class=\"data row195 col11\" >156,630</td>\n",
       "      <td id=\"T_8b5f6_row195_col12\" class=\"data row195 col12\" >1.55%</td>\n",
       "    </tr>\n",
       "    <tr>\n",
       "      <th id=\"T_8b5f6_level0_row196\" class=\"row_heading level0 row196\" >196</th>\n",
       "      <td id=\"T_8b5f6_row196_col0\" class=\"data row196 col0\" >30 Apr 2024</td>\n",
       "      <td id=\"T_8b5f6_row196_col1\" class=\"data row196 col1\" >3</td>\n",
       "      <td id=\"T_8b5f6_row196_col2\" class=\"data row196 col2\" >3-2</td>\n",
       "      <td id=\"T_8b5f6_row196_col3\" class=\"data row196 col3\" >Peppermint</td>\n",
       "      <td id=\"T_8b5f6_row196_col4\" class=\"data row196 col4\" >Peppermint</td>\n",
       "      <td id=\"T_8b5f6_row196_col5\" class=\"data row196 col5\" >10,084,960</td>\n",
       "      <td id=\"T_8b5f6_row196_col6\" class=\"data row196 col6\" >20,014,055</td>\n",
       "      <td id=\"T_8b5f6_row196_col7\" class=\"data row196 col7\" >12</td>\n",
       "      <td id=\"T_8b5f6_row196_col8\" class=\"data row196 col8\" > </td>\n",
       "      <td id=\"T_8b5f6_row196_col9\" class=\"data row196 col9\" >12</td>\n",
       "      <td id=\"T_8b5f6_row196_col10\" class=\"data row196 col10\" > </td>\n",
       "      <td id=\"T_8b5f6_row196_col11\" class=\"data row196 col11\" >155,865</td>\n",
       "      <td id=\"T_8b5f6_row196_col12\" class=\"data row196 col12\" >1.57%</td>\n",
       "    </tr>\n",
       "    <tr>\n",
       "      <th id=\"T_8b5f6_level0_row197\" class=\"row_heading level0 row197\" >197</th>\n",
       "      <td id=\"T_8b5f6_row197_col0\" class=\"data row197 col0\" >30 Apr 2024</td>\n",
       "      <td id=\"T_8b5f6_row197_col1\" class=\"data row197 col1\" >3</td>\n",
       "      <td id=\"T_8b5f6_row197_col2\" class=\"data row197 col2\" >3-2</td>\n",
       "      <td id=\"T_8b5f6_row197_col3\" class=\"data row197 col3\" >재난경보</td>\n",
       "      <td id=\"T_8b5f6_row197_col4\" class=\"data row197 col4\" >재난경보 (jae-nan-gyeong-bo)</td>\n",
       "      <td id=\"T_8b5f6_row197_col5\" class=\"data row197 col5\" >9,606,920</td>\n",
       "      <td id=\"T_8b5f6_row197_col6\" class=\"data row197 col6\" >19,448,515</td>\n",
       "      <td id=\"T_8b5f6_row197_col7\" class=\"data row197 col7\" >14</td>\n",
       "      <td id=\"T_8b5f6_row197_col8\" class=\"data row197 col8\" > ▼1</td>\n",
       "      <td id=\"T_8b5f6_row197_col9\" class=\"data row197 col9\" >13</td>\n",
       "      <td id=\"T_8b5f6_row197_col10\" class=\"data row197 col10\" > </td>\n",
       "      <td id=\"T_8b5f6_row197_col11\" class=\"data row197 col11\" >-234,675</td>\n",
       "      <td id=\"T_8b5f6_row197_col12\" class=\"data row197 col12\" >-2.38%</td>\n",
       "    </tr>\n",
       "    <tr>\n",
       "      <th id=\"T_8b5f6_level0_row198\" class=\"row_heading level0 row198\" >198</th>\n",
       "      <td id=\"T_8b5f6_row198_col0\" class=\"data row198 col0\" >30 Apr 2024</td>\n",
       "      <td id=\"T_8b5f6_row198_col1\" class=\"data row198 col1\" >3</td>\n",
       "      <td id=\"T_8b5f6_row198_col2\" class=\"data row198 col2\" >3-2</td>\n",
       "      <td id=\"T_8b5f6_row198_col3\" class=\"data row198 col3\" >사혼</td>\n",
       "      <td id=\"T_8b5f6_row198_col4\" class=\"data row198 col4\" >사혼 (sa-hon)</td>\n",
       "      <td id=\"T_8b5f6_row198_col5\" class=\"data row198 col5\" >9,763,190</td>\n",
       "      <td id=\"T_8b5f6_row198_col6\" class=\"data row198 col6\" >19,445,445</td>\n",
       "      <td id=\"T_8b5f6_row198_col7\" class=\"data row198 col7\" >13</td>\n",
       "      <td id=\"T_8b5f6_row198_col8\" class=\"data row198 col8\" > ▲1</td>\n",
       "      <td id=\"T_8b5f6_row198_col9\" class=\"data row198 col9\" >14</td>\n",
       "      <td id=\"T_8b5f6_row198_col10\" class=\"data row198 col10\" > </td>\n",
       "      <td id=\"T_8b5f6_row198_col11\" class=\"data row198 col11\" >80,935</td>\n",
       "      <td id=\"T_8b5f6_row198_col12\" class=\"data row198 col12\" >0.84%</td>\n",
       "    </tr>\n",
       "    <tr>\n",
       "      <th id=\"T_8b5f6_level0_row199\" class=\"row_heading level0 row199\" >199</th>\n",
       "      <td id=\"T_8b5f6_row199_col0\" class=\"data row199 col0\" >30 Apr 2024</td>\n",
       "      <td id=\"T_8b5f6_row199_col1\" class=\"data row199 col1\" >3</td>\n",
       "      <td id=\"T_8b5f6_row199_col2\" class=\"data row199 col2\" >3-2</td>\n",
       "      <td id=\"T_8b5f6_row199_col3\" class=\"data row199 col3\" >Nigiri</td>\n",
       "      <td id=\"T_8b5f6_row199_col4\" class=\"data row199 col4\" >Nigiri</td>\n",
       "      <td id=\"T_8b5f6_row199_col5\" class=\"data row199 col5\" >9,525,970</td>\n",
       "      <td id=\"T_8b5f6_row199_col6\" class=\"data row199 col6\" >18,968,550</td>\n",
       "      <td id=\"T_8b5f6_row199_col7\" class=\"data row199 col7\" >15</td>\n",
       "      <td id=\"T_8b5f6_row199_col8\" class=\"data row199 col8\" > ▲1</td>\n",
       "      <td id=\"T_8b5f6_row199_col9\" class=\"data row199 col9\" >15</td>\n",
       "      <td id=\"T_8b5f6_row199_col10\" class=\"data row199 col10\" > ▲1</td>\n",
       "      <td id=\"T_8b5f6_row199_col11\" class=\"data row199 col11\" >83,390</td>\n",
       "      <td id=\"T_8b5f6_row199_col12\" class=\"data row199 col12\" >0.88%</td>\n",
       "    </tr>\n",
       "    <tr>\n",
       "      <th id=\"T_8b5f6_level0_row200\" class=\"row_heading level0 row200\" >200</th>\n",
       "      <td id=\"T_8b5f6_row200_col0\" class=\"data row200 col0\" >30 Apr 2024</td>\n",
       "      <td id=\"T_8b5f6_row200_col1\" class=\"data row200 col1\" >3</td>\n",
       "      <td id=\"T_8b5f6_row200_col2\" class=\"data row200 col2\" >3-2</td>\n",
       "      <td id=\"T_8b5f6_row200_col3\" class=\"data row200 col3\" >Nobility</td>\n",
       "      <td id=\"T_8b5f6_row200_col4\" class=\"data row200 col4\" >Nobility</td>\n",
       "      <td id=\"T_8b5f6_row200_col5\" class=\"data row200 col5\" >9,456,020</td>\n",
       "      <td id=\"T_8b5f6_row200_col6\" class=\"data row200 col6\" >18,909,650</td>\n",
       "      <td id=\"T_8b5f6_row200_col7\" class=\"data row200 col7\" >16</td>\n",
       "      <td id=\"T_8b5f6_row200_col8\" class=\"data row200 col8\" > ▼1</td>\n",
       "      <td id=\"T_8b5f6_row200_col9\" class=\"data row200 col9\" >16</td>\n",
       "      <td id=\"T_8b5f6_row200_col10\" class=\"data row200 col10\" > ▼1</td>\n",
       "      <td id=\"T_8b5f6_row200_col11\" class=\"data row200 col11\" >2,390</td>\n",
       "      <td id=\"T_8b5f6_row200_col12\" class=\"data row200 col12\" >0.03%</td>\n",
       "    </tr>\n",
       "    <tr>\n",
       "      <th id=\"T_8b5f6_level0_row201\" class=\"row_heading level0 row201\" >201</th>\n",
       "      <td id=\"T_8b5f6_row201_col0\" class=\"data row201 col0\" >30 Apr 2024</td>\n",
       "      <td id=\"T_8b5f6_row201_col1\" class=\"data row201 col1\" >3</td>\n",
       "      <td id=\"T_8b5f6_row201_col2\" class=\"data row201 col2\" >3-2</td>\n",
       "      <td id=\"T_8b5f6_row201_col3\" class=\"data row201 col3\" >S7AR</td>\n",
       "      <td id=\"T_8b5f6_row201_col4\" class=\"data row201 col4\" >S7AR</td>\n",
       "      <td id=\"T_8b5f6_row201_col5\" class=\"data row201 col5\" >9,286,535</td>\n",
       "      <td id=\"T_8b5f6_row201_col6\" class=\"data row201 col6\" >18,647,100</td>\n",
       "      <td id=\"T_8b5f6_row201_col7\" class=\"data row201 col7\" >17</td>\n",
       "      <td id=\"T_8b5f6_row201_col8\" class=\"data row201 col8\" > </td>\n",
       "      <td id=\"T_8b5f6_row201_col9\" class=\"data row201 col9\" >17</td>\n",
       "      <td id=\"T_8b5f6_row201_col10\" class=\"data row201 col10\" > </td>\n",
       "      <td id=\"T_8b5f6_row201_col11\" class=\"data row201 col11\" >-74,030</td>\n",
       "      <td id=\"T_8b5f6_row201_col12\" class=\"data row201 col12\" >-0.79%</td>\n",
       "    </tr>\n",
       "    <tr>\n",
       "      <th id=\"T_8b5f6_level0_row202\" class=\"row_heading level0 row202\" >202</th>\n",
       "      <td id=\"T_8b5f6_row202_col0\" class=\"data row202 col0\" >30 Apr 2024</td>\n",
       "      <td id=\"T_8b5f6_row202_col1\" class=\"data row202 col1\" >3</td>\n",
       "      <td id=\"T_8b5f6_row202_col2\" class=\"data row202 col2\" >3-2</td>\n",
       "      <td id=\"T_8b5f6_row202_col3\" class=\"data row202 col3\" >DEKWAT</td>\n",
       "      <td id=\"T_8b5f6_row202_col4\" class=\"data row202 col4\" >DEKWAT</td>\n",
       "      <td id=\"T_8b5f6_row202_col5\" class=\"data row202 col5\" >9,213,865</td>\n",
       "      <td id=\"T_8b5f6_row202_col6\" class=\"data row202 col6\" >18,422,920</td>\n",
       "      <td id=\"T_8b5f6_row202_col7\" class=\"data row202 col7\" >18</td>\n",
       "      <td id=\"T_8b5f6_row202_col8\" class=\"data row202 col8\" > </td>\n",
       "      <td id=\"T_8b5f6_row202_col9\" class=\"data row202 col9\" >18</td>\n",
       "      <td id=\"T_8b5f6_row202_col10\" class=\"data row202 col10\" > </td>\n",
       "      <td id=\"T_8b5f6_row202_col11\" class=\"data row202 col11\" >4,810</td>\n",
       "      <td id=\"T_8b5f6_row202_col12\" class=\"data row202 col12\" >0.05%</td>\n",
       "    </tr>\n",
       "    <tr>\n",
       "      <th id=\"T_8b5f6_level0_row203\" class=\"row_heading level0 row203\" >203</th>\n",
       "      <td id=\"T_8b5f6_row203_col0\" class=\"data row203 col0\" >30 Apr 2024</td>\n",
       "      <td id=\"T_8b5f6_row203_col1\" class=\"data row203 col1\" >3</td>\n",
       "      <td id=\"T_8b5f6_row203_col2\" class=\"data row203 col2\" >3-2</td>\n",
       "      <td id=\"T_8b5f6_row203_col3\" class=\"data row203 col3\" >MyTH</td>\n",
       "      <td id=\"T_8b5f6_row203_col4\" class=\"data row203 col4\" >MyTH</td>\n",
       "      <td id=\"T_8b5f6_row203_col5\" class=\"data row203 col5\" >9,118,120</td>\n",
       "      <td id=\"T_8b5f6_row203_col6\" class=\"data row203 col6\" >18,315,910</td>\n",
       "      <td id=\"T_8b5f6_row203_col7\" class=\"data row203 col7\" >19</td>\n",
       "      <td id=\"T_8b5f6_row203_col8\" class=\"data row203 col8\" > </td>\n",
       "      <td id=\"T_8b5f6_row203_col9\" class=\"data row203 col9\" >19</td>\n",
       "      <td id=\"T_8b5f6_row203_col10\" class=\"data row203 col10\" > </td>\n",
       "      <td id=\"T_8b5f6_row203_col11\" class=\"data row203 col11\" >-79,670</td>\n",
       "      <td id=\"T_8b5f6_row203_col12\" class=\"data row203 col12\" >-0.87%</td>\n",
       "    </tr>\n",
       "    <tr>\n",
       "      <th id=\"T_8b5f6_level0_row204\" class=\"row_heading level0 row204\" >204</th>\n",
       "      <td id=\"T_8b5f6_row204_col0\" class=\"data row204 col0\" >30 Apr 2024</td>\n",
       "      <td id=\"T_8b5f6_row204_col1\" class=\"data row204 col1\" >3</td>\n",
       "      <td id=\"T_8b5f6_row204_col2\" class=\"data row204 col2\" >3-2</td>\n",
       "      <td id=\"T_8b5f6_row204_col3\" class=\"data row204 col3\" >쿠벤저스</td>\n",
       "      <td id=\"T_8b5f6_row204_col4\" class=\"data row204 col4\" >쿠벤저스 (cubengers)</td>\n",
       "      <td id=\"T_8b5f6_row204_col5\" class=\"data row204 col5\" >9,055,055</td>\n",
       "      <td id=\"T_8b5f6_row204_col6\" class=\"data row204 col6\" >18,110,250</td>\n",
       "      <td id=\"T_8b5f6_row204_col7\" class=\"data row204 col7\" >20</td>\n",
       "      <td id=\"T_8b5f6_row204_col8\" class=\"data row204 col8\" > </td>\n",
       "      <td id=\"T_8b5f6_row204_col9\" class=\"data row204 col9\" >20</td>\n",
       "      <td id=\"T_8b5f6_row204_col10\" class=\"data row204 col10\" > </td>\n",
       "      <td id=\"T_8b5f6_row204_col11\" class=\"data row204 col11\" >-140</td>\n",
       "      <td id=\"T_8b5f6_row204_col12\" class=\"data row204 col12\" >-0.00%</td>\n",
       "    </tr>\n",
       "    <tr>\n",
       "      <th id=\"T_8b5f6_level0_row205\" class=\"row_heading level0 row205\" >205</th>\n",
       "      <td id=\"T_8b5f6_row205_col0\" class=\"data row205 col0\" >07 May 2024</td>\n",
       "      <td id=\"T_8b5f6_row205_col1\" class=\"data row205 col1\" >3</td>\n",
       "      <td id=\"T_8b5f6_row205_col2\" class=\"data row205 col2\" >3-3</td>\n",
       "      <td id=\"T_8b5f6_row205_col3\" class=\"data row205 col3\" >Vivid</td>\n",
       "      <td id=\"T_8b5f6_row205_col4\" class=\"data row205 col4\" >Vivid</td>\n",
       "      <td id=\"T_8b5f6_row205_col5\" class=\"data row205 col5\" >11,398,630</td>\n",
       "      <td id=\"T_8b5f6_row205_col6\" class=\"data row205 col6\" >33,555,615</td>\n",
       "      <td id=\"T_8b5f6_row205_col7\" class=\"data row205 col7\" >2</td>\n",
       "      <td id=\"T_8b5f6_row205_col8\" class=\"data row205 col8\" > </td>\n",
       "      <td id=\"T_8b5f6_row205_col9\" class=\"data row205 col9\" >1</td>\n",
       "      <td id=\"T_8b5f6_row205_col10\" class=\"data row205 col10\" > ▲1</td>\n",
       "      <td id=\"T_8b5f6_row205_col11\" class=\"data row205 col11\" >283,190</td>\n",
       "      <td id=\"T_8b5f6_row205_col12\" class=\"data row205 col12\" >2.55%</td>\n",
       "    </tr>\n",
       "    <tr>\n",
       "      <th id=\"T_8b5f6_level0_row206\" class=\"row_heading level0 row206\" >206</th>\n",
       "      <td id=\"T_8b5f6_row206_col0\" class=\"data row206 col0\" >07 May 2024</td>\n",
       "      <td id=\"T_8b5f6_row206_col1\" class=\"data row206 col1\" >3</td>\n",
       "      <td id=\"T_8b5f6_row206_col2\" class=\"data row206 col2\" >3-3</td>\n",
       "      <td id=\"T_8b5f6_row206_col3\" class=\"data row206 col3\" >Spearmint</td>\n",
       "      <td id=\"T_8b5f6_row206_col4\" class=\"data row206 col4\" >Spearmint</td>\n",
       "      <td id=\"T_8b5f6_row206_col5\" class=\"data row206 col5\" >11,122,140</td>\n",
       "      <td id=\"T_8b5f6_row206_col6\" class=\"data row206 col6\" >33,549,290</td>\n",
       "      <td id=\"T_8b5f6_row206_col7\" class=\"data row206 col7\" >3</td>\n",
       "      <td id=\"T_8b5f6_row206_col8\" class=\"data row206 col8\" > ▼2</td>\n",
       "      <td id=\"T_8b5f6_row206_col9\" class=\"data row206 col9\" >2</td>\n",
       "      <td id=\"T_8b5f6_row206_col10\" class=\"data row206 col10\" > ▼1</td>\n",
       "      <td id=\"T_8b5f6_row206_col11\" class=\"data row206 col11\" >-88,950</td>\n",
       "      <td id=\"T_8b5f6_row206_col12\" class=\"data row206 col12\" >-0.79%</td>\n",
       "    </tr>\n",
       "    <tr>\n",
       "      <th id=\"T_8b5f6_level0_row207\" class=\"row_heading level0 row207\" >207</th>\n",
       "      <td id=\"T_8b5f6_row207_col0\" class=\"data row207 col0\" >07 May 2024</td>\n",
       "      <td id=\"T_8b5f6_row207_col1\" class=\"data row207 col1\" >3</td>\n",
       "      <td id=\"T_8b5f6_row207_col2\" class=\"data row207 col2\" >3-3</td>\n",
       "      <td id=\"T_8b5f6_row207_col3\" class=\"data row207 col3\" >Nobless</td>\n",
       "      <td id=\"T_8b5f6_row207_col4\" class=\"data row207 col4\" >Nobless</td>\n",
       "      <td id=\"T_8b5f6_row207_col5\" class=\"data row207 col5\" >10,865,505</td>\n",
       "      <td id=\"T_8b5f6_row207_col6\" class=\"data row207 col6\" >32,439,440</td>\n",
       "      <td id=\"T_8b5f6_row207_col7\" class=\"data row207 col7\" >4</td>\n",
       "      <td id=\"T_8b5f6_row207_col8\" class=\"data row207 col8\" > ▼1</td>\n",
       "      <td id=\"T_8b5f6_row207_col9\" class=\"data row207 col9\" >3</td>\n",
       "      <td id=\"T_8b5f6_row207_col10\" class=\"data row207 col10\" > </td>\n",
       "      <td id=\"T_8b5f6_row207_col11\" class=\"data row207 col11\" >84,185</td>\n",
       "      <td id=\"T_8b5f6_row207_col12\" class=\"data row207 col12\" >0.78%</td>\n",
       "    </tr>\n",
       "    <tr>\n",
       "      <th id=\"T_8b5f6_level0_row208\" class=\"row_heading level0 row208\" >208</th>\n",
       "      <td id=\"T_8b5f6_row208_col0\" class=\"data row208 col0\" >07 May 2024</td>\n",
       "      <td id=\"T_8b5f6_row208_col1\" class=\"data row208 col1\" >3</td>\n",
       "      <td id=\"T_8b5f6_row208_col2\" class=\"data row208 col2\" >3-3</td>\n",
       "      <td id=\"T_8b5f6_row208_col3\" class=\"data row208 col3\" >님</td>\n",
       "      <td id=\"T_8b5f6_row208_col4\" class=\"data row208 col4\" >님 (nim)</td>\n",
       "      <td id=\"T_8b5f6_row208_col5\" class=\"data row208 col5\" >10,791,950</td>\n",
       "      <td id=\"T_8b5f6_row208_col6\" class=\"data row208 col6\" >32,097,700</td>\n",
       "      <td id=\"T_8b5f6_row208_col7\" class=\"data row208 col7\" >5</td>\n",
       "      <td id=\"T_8b5f6_row208_col8\" class=\"data row208 col8\" > </td>\n",
       "      <td id=\"T_8b5f6_row208_col9\" class=\"data row208 col9\" >4</td>\n",
       "      <td id=\"T_8b5f6_row208_col10\" class=\"data row208 col10\" > </td>\n",
       "      <td id=\"T_8b5f6_row208_col11\" class=\"data row208 col11\" >108,180</td>\n",
       "      <td id=\"T_8b5f6_row208_col12\" class=\"data row208 col12\" >1.01%</td>\n",
       "    </tr>\n",
       "    <tr>\n",
       "      <th id=\"T_8b5f6_level0_row209\" class=\"row_heading level0 row209\" >209</th>\n",
       "      <td id=\"T_8b5f6_row209_col0\" class=\"data row209 col0\" >07 May 2024</td>\n",
       "      <td id=\"T_8b5f6_row209_col1\" class=\"data row209 col1\" >3</td>\n",
       "      <td id=\"T_8b5f6_row209_col2\" class=\"data row209 col2\" >3-3</td>\n",
       "      <td id=\"T_8b5f6_row209_col3\" class=\"data row209 col3\" >LAODA</td>\n",
       "      <td id=\"T_8b5f6_row209_col4\" class=\"data row209 col4\" >LAODA</td>\n",
       "      <td id=\"T_8b5f6_row209_col5\" class=\"data row209 col5\" >10,778,080</td>\n",
       "      <td id=\"T_8b5f6_row209_col6\" class=\"data row209 col6\" >32,079,005</td>\n",
       "      <td id=\"T_8b5f6_row209_col7\" class=\"data row209 col7\" >7</td>\n",
       "      <td id=\"T_8b5f6_row209_col8\" class=\"data row209 col8\" > ▼3</td>\n",
       "      <td id=\"T_8b5f6_row209_col9\" class=\"data row209 col9\" >5</td>\n",
       "      <td id=\"T_8b5f6_row209_col10\" class=\"data row209 col10\" > </td>\n",
       "      <td id=\"T_8b5f6_row209_col11\" class=\"data row209 col11\" >86,530</td>\n",
       "      <td id=\"T_8b5f6_row209_col12\" class=\"data row209 col12\" >0.81%</td>\n",
       "    </tr>\n",
       "    <tr>\n",
       "      <th id=\"T_8b5f6_level0_row210\" class=\"row_heading level0 row210\" >210</th>\n",
       "      <td id=\"T_8b5f6_row210_col0\" class=\"data row210 col0\" >07 May 2024</td>\n",
       "      <td id=\"T_8b5f6_row210_col1\" class=\"data row210 col1\" >3</td>\n",
       "      <td id=\"T_8b5f6_row210_col2\" class=\"data row210 col2\" >3-3</td>\n",
       "      <td id=\"T_8b5f6_row210_col3\" class=\"data row210 col3\" >이지스</td>\n",
       "      <td id=\"T_8b5f6_row210_col4\" class=\"data row210 col4\" >이지스 (aegis)</td>\n",
       "      <td id=\"T_8b5f6_row210_col5\" class=\"data row210 col5\" >10,784,790</td>\n",
       "      <td id=\"T_8b5f6_row210_col6\" class=\"data row210 col6\" >31,924,125</td>\n",
       "      <td id=\"T_8b5f6_row210_col7\" class=\"data row210 col7\" >6</td>\n",
       "      <td id=\"T_8b5f6_row210_col8\" class=\"data row210 col8\" > </td>\n",
       "      <td id=\"T_8b5f6_row210_col9\" class=\"data row210 col9\" >6</td>\n",
       "      <td id=\"T_8b5f6_row210_col10\" class=\"data row210 col10\" > </td>\n",
       "      <td id=\"T_8b5f6_row210_col11\" class=\"data row210 col11\" >170,620</td>\n",
       "      <td id=\"T_8b5f6_row210_col12\" class=\"data row210 col12\" >1.61%</td>\n",
       "    </tr>\n",
       "    <tr>\n",
       "      <th id=\"T_8b5f6_level0_row211\" class=\"row_heading level0 row211\" >211</th>\n",
       "      <td id=\"T_8b5f6_row211_col0\" class=\"data row211 col0\" >07 May 2024</td>\n",
       "      <td id=\"T_8b5f6_row211_col1\" class=\"data row211 col1\" >3</td>\n",
       "      <td id=\"T_8b5f6_row211_col2\" class=\"data row211 col2\" >3-3</td>\n",
       "      <td id=\"T_8b5f6_row211_col3\" class=\"data row211 col3\" >Crown</td>\n",
       "      <td id=\"T_8b5f6_row211_col4\" class=\"data row211 col4\" >Crown</td>\n",
       "      <td id=\"T_8b5f6_row211_col5\" class=\"data row211 col5\" >10,679,720</td>\n",
       "      <td id=\"T_8b5f6_row211_col6\" class=\"data row211 col6\" >31,705,325</td>\n",
       "      <td id=\"T_8b5f6_row211_col7\" class=\"data row211 col7\" >8</td>\n",
       "      <td id=\"T_8b5f6_row211_col8\" class=\"data row211 col8\" > </td>\n",
       "      <td id=\"T_8b5f6_row211_col9\" class=\"data row211 col9\" >7</td>\n",
       "      <td id=\"T_8b5f6_row211_col10\" class=\"data row211 col10\" > ▲1</td>\n",
       "      <td id=\"T_8b5f6_row211_col11\" class=\"data row211 col11\" >84,145</td>\n",
       "      <td id=\"T_8b5f6_row211_col12\" class=\"data row211 col12\" >0.79%</td>\n",
       "    </tr>\n",
       "    <tr>\n",
       "      <th id=\"T_8b5f6_level0_row212\" class=\"row_heading level0 row212\" >212</th>\n",
       "      <td id=\"T_8b5f6_row212_col0\" class=\"data row212 col0\" >07 May 2024</td>\n",
       "      <td id=\"T_8b5f6_row212_col1\" class=\"data row212 col1\" >3</td>\n",
       "      <td id=\"T_8b5f6_row212_col2\" class=\"data row212 col2\" >3-3</td>\n",
       "      <td id=\"T_8b5f6_row212_col3\" class=\"data row212 col3\" >미라클</td>\n",
       "      <td id=\"T_8b5f6_row212_col4\" class=\"data row212 col4\" >미라클 (miracle)</td>\n",
       "      <td id=\"T_8b5f6_row212_col5\" class=\"data row212 col5\" >10,518,955</td>\n",
       "      <td id=\"T_8b5f6_row212_col6\" class=\"data row212 col6\" >31,629,090</td>\n",
       "      <td id=\"T_8b5f6_row212_col7\" class=\"data row212 col7\" >10</td>\n",
       "      <td id=\"T_8b5f6_row212_col8\" class=\"data row212 col8\" > ▼3</td>\n",
       "      <td id=\"T_8b5f6_row212_col9\" class=\"data row212 col9\" >8</td>\n",
       "      <td id=\"T_8b5f6_row212_col10\" class=\"data row212 col10\" > ▼1</td>\n",
       "      <td id=\"T_8b5f6_row212_col11\" class=\"data row212 col11\" >-80,745</td>\n",
       "      <td id=\"T_8b5f6_row212_col12\" class=\"data row212 col12\" >-0.76%</td>\n",
       "    </tr>\n",
       "    <tr>\n",
       "      <th id=\"T_8b5f6_level0_row213\" class=\"row_heading level0 row213\" >213</th>\n",
       "      <td id=\"T_8b5f6_row213_col0\" class=\"data row213 col0\" >07 May 2024</td>\n",
       "      <td id=\"T_8b5f6_row213_col1\" class=\"data row213 col1\" >3</td>\n",
       "      <td id=\"T_8b5f6_row213_col2\" class=\"data row213 col2\" >3-3</td>\n",
       "      <td id=\"T_8b5f6_row213_col3\" class=\"data row213 col3\" >MolochTH</td>\n",
       "      <td id=\"T_8b5f6_row213_col4\" class=\"data row213 col4\" >MolochTH</td>\n",
       "      <td id=\"T_8b5f6_row213_col5\" class=\"data row213 col5\" >10,598,615</td>\n",
       "      <td id=\"T_8b5f6_row213_col6\" class=\"data row213 col6\" >31,549,290</td>\n",
       "      <td id=\"T_8b5f6_row213_col7\" class=\"data row213 col7\" >9</td>\n",
       "      <td id=\"T_8b5f6_row213_col8\" class=\"data row213 col8\" > </td>\n",
       "      <td id=\"T_8b5f6_row213_col9\" class=\"data row213 col9\" >9</td>\n",
       "      <td id=\"T_8b5f6_row213_col10\" class=\"data row213 col10\" > </td>\n",
       "      <td id=\"T_8b5f6_row213_col11\" class=\"data row213 col11\" >78,530</td>\n",
       "      <td id=\"T_8b5f6_row213_col12\" class=\"data row213 col12\" >0.75%</td>\n",
       "    </tr>\n",
       "    <tr>\n",
       "      <th id=\"T_8b5f6_level0_row214\" class=\"row_heading level0 row214\" >214</th>\n",
       "      <td id=\"T_8b5f6_row214_col0\" class=\"data row214 col0\" >07 May 2024</td>\n",
       "      <td id=\"T_8b5f6_row214_col1\" class=\"data row214 col1\" >3</td>\n",
       "      <td id=\"T_8b5f6_row214_col2\" class=\"data row214 col2\" >3-3</td>\n",
       "      <td id=\"T_8b5f6_row214_col3\" class=\"data row214 col3\" >열매</td>\n",
       "      <td id=\"T_8b5f6_row214_col4\" class=\"data row214 col4\" >열매 (yeol-mae)</td>\n",
       "      <td id=\"T_8b5f6_row214_col5\" class=\"data row214 col5\" >10,433,560</td>\n",
       "      <td id=\"T_8b5f6_row214_col6\" class=\"data row214 col6\" >31,049,025</td>\n",
       "      <td id=\"T_8b5f6_row214_col7\" class=\"data row214 col7\" >11</td>\n",
       "      <td id=\"T_8b5f6_row214_col8\" class=\"data row214 col8\" > ▼1</td>\n",
       "      <td id=\"T_8b5f6_row214_col9\" class=\"data row214 col9\" >10</td>\n",
       "      <td id=\"T_8b5f6_row214_col10\" class=\"data row214 col10\" > </td>\n",
       "      <td id=\"T_8b5f6_row214_col11\" class=\"data row214 col11\" >83,215</td>\n",
       "      <td id=\"T_8b5f6_row214_col12\" class=\"data row214 col12\" >0.80%</td>\n",
       "    </tr>\n",
       "    <tr>\n",
       "      <th id=\"T_8b5f6_level0_row215\" class=\"row_heading level0 row215\" >215</th>\n",
       "      <td id=\"T_8b5f6_row215_col0\" class=\"data row215 col0\" >07 May 2024</td>\n",
       "      <td id=\"T_8b5f6_row215_col1\" class=\"data row215 col1\" >3</td>\n",
       "      <td id=\"T_8b5f6_row215_col2\" class=\"data row215 col2\" >3-3</td>\n",
       "      <td id=\"T_8b5f6_row215_col3\" class=\"data row215 col3\" >무야호</td>\n",
       "      <td id=\"T_8b5f6_row215_col4\" class=\"data row215 col4\" >무야호 (mu-ya-ho)</td>\n",
       "      <td id=\"T_8b5f6_row215_col5\" class=\"data row215 col5\" >10,348,885</td>\n",
       "      <td id=\"T_8b5f6_row215_col6\" class=\"data row215 col6\" >30,708,535</td>\n",
       "      <td id=\"T_8b5f6_row215_col7\" class=\"data row215 col7\" >12</td>\n",
       "      <td id=\"T_8b5f6_row215_col8\" class=\"data row215 col8\" > ▼1</td>\n",
       "      <td id=\"T_8b5f6_row215_col9\" class=\"data row215 col9\" >11</td>\n",
       "      <td id=\"T_8b5f6_row215_col10\" class=\"data row215 col10\" > </td>\n",
       "      <td id=\"T_8b5f6_row215_col11\" class=\"data row215 col11\" >90,745</td>\n",
       "      <td id=\"T_8b5f6_row215_col12\" class=\"data row215 col12\" >0.88%</td>\n",
       "    </tr>\n",
       "    <tr>\n",
       "      <th id=\"T_8b5f6_level0_row216\" class=\"row_heading level0 row216\" >216</th>\n",
       "      <td id=\"T_8b5f6_row216_col0\" class=\"data row216 col0\" >07 May 2024</td>\n",
       "      <td id=\"T_8b5f6_row216_col1\" class=\"data row216 col1\" >3</td>\n",
       "      <td id=\"T_8b5f6_row216_col2\" class=\"data row216 col2\" >3-3</td>\n",
       "      <td id=\"T_8b5f6_row216_col3\" class=\"data row216 col3\" >Peppermint</td>\n",
       "      <td id=\"T_8b5f6_row216_col4\" class=\"data row216 col4\" >Peppermint</td>\n",
       "      <td id=\"T_8b5f6_row216_col5\" class=\"data row216 col5\" >9,926,350</td>\n",
       "      <td id=\"T_8b5f6_row216_col6\" class=\"data row216 col6\" >29,940,405</td>\n",
       "      <td id=\"T_8b5f6_row216_col7\" class=\"data row216 col7\" >13</td>\n",
       "      <td id=\"T_8b5f6_row216_col8\" class=\"data row216 col8\" > ▼1</td>\n",
       "      <td id=\"T_8b5f6_row216_col9\" class=\"data row216 col9\" >12</td>\n",
       "      <td id=\"T_8b5f6_row216_col10\" class=\"data row216 col10\" > </td>\n",
       "      <td id=\"T_8b5f6_row216_col11\" class=\"data row216 col11\" >-158,610</td>\n",
       "      <td id=\"T_8b5f6_row216_col12\" class=\"data row216 col12\" >-1.57%</td>\n",
       "    </tr>\n",
       "    <tr>\n",
       "      <th id=\"T_8b5f6_level0_row217\" class=\"row_heading level0 row217\" >217</th>\n",
       "      <td id=\"T_8b5f6_row217_col0\" class=\"data row217 col0\" >07 May 2024</td>\n",
       "      <td id=\"T_8b5f6_row217_col1\" class=\"data row217 col1\" >3</td>\n",
       "      <td id=\"T_8b5f6_row217_col2\" class=\"data row217 col2\" >3-3</td>\n",
       "      <td id=\"T_8b5f6_row217_col3\" class=\"data row217 col3\" >사혼</td>\n",
       "      <td id=\"T_8b5f6_row217_col4\" class=\"data row217 col4\" >사혼 (sa-hon)</td>\n",
       "      <td id=\"T_8b5f6_row217_col5\" class=\"data row217 col5\" >9,841,175</td>\n",
       "      <td id=\"T_8b5f6_row217_col6\" class=\"data row217 col6\" >29,286,620</td>\n",
       "      <td id=\"T_8b5f6_row217_col7\" class=\"data row217 col7\" >14</td>\n",
       "      <td id=\"T_8b5f6_row217_col8\" class=\"data row217 col8\" > ▼1</td>\n",
       "      <td id=\"T_8b5f6_row217_col9\" class=\"data row217 col9\" >13</td>\n",
       "      <td id=\"T_8b5f6_row217_col10\" class=\"data row217 col10\" > ▲1</td>\n",
       "      <td id=\"T_8b5f6_row217_col11\" class=\"data row217 col11\" >77,985</td>\n",
       "      <td id=\"T_8b5f6_row217_col12\" class=\"data row217 col12\" >0.80%</td>\n",
       "    </tr>\n",
       "    <tr>\n",
       "      <th id=\"T_8b5f6_level0_row218\" class=\"row_heading level0 row218\" >218</th>\n",
       "      <td id=\"T_8b5f6_row218_col0\" class=\"data row218 col0\" >07 May 2024</td>\n",
       "      <td id=\"T_8b5f6_row218_col1\" class=\"data row218 col1\" >3</td>\n",
       "      <td id=\"T_8b5f6_row218_col2\" class=\"data row218 col2\" >3-3</td>\n",
       "      <td id=\"T_8b5f6_row218_col3\" class=\"data row218 col3\" >재난경보</td>\n",
       "      <td id=\"T_8b5f6_row218_col4\" class=\"data row218 col4\" >재난경보 (jae-nan-gyeong-bo)</td>\n",
       "      <td id=\"T_8b5f6_row218_col5\" class=\"data row218 col5\" >9,225,125</td>\n",
       "      <td id=\"T_8b5f6_row218_col6\" class=\"data row218 col6\" >28,673,640</td>\n",
       "      <td id=\"T_8b5f6_row218_col7\" class=\"data row218 col7\" >20</td>\n",
       "      <td id=\"T_8b5f6_row218_col8\" class=\"data row218 col8\" > ▼6</td>\n",
       "      <td id=\"T_8b5f6_row218_col9\" class=\"data row218 col9\" >14</td>\n",
       "      <td id=\"T_8b5f6_row218_col10\" class=\"data row218 col10\" > ▼1</td>\n",
       "      <td id=\"T_8b5f6_row218_col11\" class=\"data row218 col11\" >-381,795</td>\n",
       "      <td id=\"T_8b5f6_row218_col12\" class=\"data row218 col12\" >-3.97%</td>\n",
       "    </tr>\n",
       "    <tr>\n",
       "      <th id=\"T_8b5f6_level0_row219\" class=\"row_heading level0 row219\" >219</th>\n",
       "      <td id=\"T_8b5f6_row219_col0\" class=\"data row219 col0\" >07 May 2024</td>\n",
       "      <td id=\"T_8b5f6_row219_col1\" class=\"data row219 col1\" >3</td>\n",
       "      <td id=\"T_8b5f6_row219_col2\" class=\"data row219 col2\" >3-3</td>\n",
       "      <td id=\"T_8b5f6_row219_col3\" class=\"data row219 col3\" >Nigiri</td>\n",
       "      <td id=\"T_8b5f6_row219_col4\" class=\"data row219 col4\" >Nigiri</td>\n",
       "      <td id=\"T_8b5f6_row219_col5\" class=\"data row219 col5\" >9,679,125</td>\n",
       "      <td id=\"T_8b5f6_row219_col6\" class=\"data row219 col6\" >28,647,675</td>\n",
       "      <td id=\"T_8b5f6_row219_col7\" class=\"data row219 col7\" >15</td>\n",
       "      <td id=\"T_8b5f6_row219_col8\" class=\"data row219 col8\" > </td>\n",
       "      <td id=\"T_8b5f6_row219_col9\" class=\"data row219 col9\" >15</td>\n",
       "      <td id=\"T_8b5f6_row219_col10\" class=\"data row219 col10\" > </td>\n",
       "      <td id=\"T_8b5f6_row219_col11\" class=\"data row219 col11\" >153,155</td>\n",
       "      <td id=\"T_8b5f6_row219_col12\" class=\"data row219 col12\" >1.61%</td>\n",
       "    </tr>\n",
       "    <tr>\n",
       "      <th id=\"T_8b5f6_level0_row220\" class=\"row_heading level0 row220\" >220</th>\n",
       "      <td id=\"T_8b5f6_row220_col0\" class=\"data row220 col0\" >07 May 2024</td>\n",
       "      <td id=\"T_8b5f6_row220_col1\" class=\"data row220 col1\" >3</td>\n",
       "      <td id=\"T_8b5f6_row220_col2\" class=\"data row220 col2\" >3-3</td>\n",
       "      <td id=\"T_8b5f6_row220_col3\" class=\"data row220 col3\" >Nobility</td>\n",
       "      <td id=\"T_8b5f6_row220_col4\" class=\"data row220 col4\" >Nobility</td>\n",
       "      <td id=\"T_8b5f6_row220_col5\" class=\"data row220 col5\" >9,371,020</td>\n",
       "      <td id=\"T_8b5f6_row220_col6\" class=\"data row220 col6\" >28,280,670</td>\n",
       "      <td id=\"T_8b5f6_row220_col7\" class=\"data row220 col7\" >16</td>\n",
       "      <td id=\"T_8b5f6_row220_col8\" class=\"data row220 col8\" > </td>\n",
       "      <td id=\"T_8b5f6_row220_col9\" class=\"data row220 col9\" >16</td>\n",
       "      <td id=\"T_8b5f6_row220_col10\" class=\"data row220 col10\" > </td>\n",
       "      <td id=\"T_8b5f6_row220_col11\" class=\"data row220 col11\" >-85,000</td>\n",
       "      <td id=\"T_8b5f6_row220_col12\" class=\"data row220 col12\" >-0.90%</td>\n",
       "    </tr>\n",
       "    <tr>\n",
       "      <th id=\"T_8b5f6_level0_row221\" class=\"row_heading level0 row221\" >221</th>\n",
       "      <td id=\"T_8b5f6_row221_col0\" class=\"data row221 col0\" >07 May 2024</td>\n",
       "      <td id=\"T_8b5f6_row221_col1\" class=\"data row221 col1\" >3</td>\n",
       "      <td id=\"T_8b5f6_row221_col2\" class=\"data row221 col2\" >3-3</td>\n",
       "      <td id=\"T_8b5f6_row221_col3\" class=\"data row221 col3\" >S7AR</td>\n",
       "      <td id=\"T_8b5f6_row221_col4\" class=\"data row221 col4\" >S7AR</td>\n",
       "      <td id=\"T_8b5f6_row221_col5\" class=\"data row221 col5\" >9,281,345</td>\n",
       "      <td id=\"T_8b5f6_row221_col6\" class=\"data row221 col6\" >27,928,445</td>\n",
       "      <td id=\"T_8b5f6_row221_col7\" class=\"data row221 col7\" >19</td>\n",
       "      <td id=\"T_8b5f6_row221_col8\" class=\"data row221 col8\" > ▼2</td>\n",
       "      <td id=\"T_8b5f6_row221_col9\" class=\"data row221 col9\" >17</td>\n",
       "      <td id=\"T_8b5f6_row221_col10\" class=\"data row221 col10\" > </td>\n",
       "      <td id=\"T_8b5f6_row221_col11\" class=\"data row221 col11\" >-5,190</td>\n",
       "      <td id=\"T_8b5f6_row221_col12\" class=\"data row221 col12\" >-0.06%</td>\n",
       "    </tr>\n",
       "    <tr>\n",
       "      <th id=\"T_8b5f6_level0_row222\" class=\"row_heading level0 row222\" >222</th>\n",
       "      <td id=\"T_8b5f6_row222_col0\" class=\"data row222 col0\" >07 May 2024</td>\n",
       "      <td id=\"T_8b5f6_row222_col1\" class=\"data row222 col1\" >3</td>\n",
       "      <td id=\"T_8b5f6_row222_col2\" class=\"data row222 col2\" >3-3</td>\n",
       "      <td id=\"T_8b5f6_row222_col3\" class=\"data row222 col3\" >DEKWAT</td>\n",
       "      <td id=\"T_8b5f6_row222_col4\" class=\"data row222 col4\" >DEKWAT</td>\n",
       "      <td id=\"T_8b5f6_row222_col5\" class=\"data row222 col5\" >9,284,940</td>\n",
       "      <td id=\"T_8b5f6_row222_col6\" class=\"data row222 col6\" >27,707,860</td>\n",
       "      <td id=\"T_8b5f6_row222_col7\" class=\"data row222 col7\" >18</td>\n",
       "      <td id=\"T_8b5f6_row222_col8\" class=\"data row222 col8\" > </td>\n",
       "      <td id=\"T_8b5f6_row222_col9\" class=\"data row222 col9\" >18</td>\n",
       "      <td id=\"T_8b5f6_row222_col10\" class=\"data row222 col10\" > </td>\n",
       "      <td id=\"T_8b5f6_row222_col11\" class=\"data row222 col11\" >71,075</td>\n",
       "      <td id=\"T_8b5f6_row222_col12\" class=\"data row222 col12\" >0.77%</td>\n",
       "    </tr>\n",
       "    <tr>\n",
       "      <th id=\"T_8b5f6_level0_row223\" class=\"row_heading level0 row223\" >223</th>\n",
       "      <td id=\"T_8b5f6_row223_col0\" class=\"data row223 col0\" >07 May 2024</td>\n",
       "      <td id=\"T_8b5f6_row223_col1\" class=\"data row223 col1\" >3</td>\n",
       "      <td id=\"T_8b5f6_row223_col2\" class=\"data row223 col2\" >3-3</td>\n",
       "      <td id=\"T_8b5f6_row223_col3\" class=\"data row223 col3\" >MyTH</td>\n",
       "      <td id=\"T_8b5f6_row223_col4\" class=\"data row223 col4\" >MyTH</td>\n",
       "      <td id=\"T_8b5f6_row223_col5\" class=\"data row223 col5\" >9,354,955</td>\n",
       "      <td id=\"T_8b5f6_row223_col6\" class=\"data row223 col6\" >27,670,865</td>\n",
       "      <td id=\"T_8b5f6_row223_col7\" class=\"data row223 col7\" >17</td>\n",
       "      <td id=\"T_8b5f6_row223_col8\" class=\"data row223 col8\" > ▲2</td>\n",
       "      <td id=\"T_8b5f6_row223_col9\" class=\"data row223 col9\" >19</td>\n",
       "      <td id=\"T_8b5f6_row223_col10\" class=\"data row223 col10\" > </td>\n",
       "      <td id=\"T_8b5f6_row223_col11\" class=\"data row223 col11\" >236,835</td>\n",
       "      <td id=\"T_8b5f6_row223_col12\" class=\"data row223 col12\" >2.60%</td>\n",
       "    </tr>\n",
       "    <tr>\n",
       "      <th id=\"T_8b5f6_level0_row224\" class=\"row_heading level0 row224\" >224</th>\n",
       "      <td id=\"T_8b5f6_row224_col0\" class=\"data row224 col0\" >07 May 2024</td>\n",
       "      <td id=\"T_8b5f6_row224_col1\" class=\"data row224 col1\" >3</td>\n",
       "      <td id=\"T_8b5f6_row224_col2\" class=\"data row224 col2\" >3-3</td>\n",
       "      <td id=\"T_8b5f6_row224_col3\" class=\"data row224 col3\" >秋</td>\n",
       "      <td id=\"T_8b5f6_row224_col4\" class=\"data row224 col4\" >秋 (aki)</td>\n",
       "      <td id=\"T_8b5f6_row224_col5\" class=\"data row224 col5\" >8,942,210</td>\n",
       "      <td id=\"T_8b5f6_row224_col6\" class=\"data row224 col6\" >26,826,630</td>\n",
       "      <td id=\"T_8b5f6_row224_col7\" class=\"data row224 col7\" >1</td>\n",
       "      <td id=\"T_8b5f6_row224_col8\" class=\"data row224 col8\" > </td>\n",
       "      <td id=\"T_8b5f6_row224_col9\" class=\"data row224 col9\" >20</td>\n",
       "      <td id=\"T_8b5f6_row224_col10\" class=\"data row224 col10\" > </td>\n",
       "      <td id=\"T_8b5f6_row224_col11\" class=\"data row224 col11\" >0</td>\n",
       "      <td id=\"T_8b5f6_row224_col12\" class=\"data row224 col12\" >0.00%</td>\n",
       "    </tr>\n",
       "    <tr>\n",
       "      <th id=\"T_8b5f6_level0_row225\" class=\"row_heading level0 row225\" >225</th>\n",
       "      <td id=\"T_8b5f6_row225_col0\" class=\"data row225 col0\" >07 May 2024</td>\n",
       "      <td id=\"T_8b5f6_row225_col1\" class=\"data row225 col1\" >3</td>\n",
       "      <td id=\"T_8b5f6_row225_col2\" class=\"data row225 col2\" >3-3</td>\n",
       "      <td id=\"T_8b5f6_row225_col3\" class=\"data row225 col3\" >쿠벤저스</td>\n",
       "      <td id=\"T_8b5f6_row225_col4\" class=\"data row225 col4\" >쿠벤저스 (cubengers)</td>\n",
       "      <td id=\"T_8b5f6_row225_col5\" class=\"data row225 col5\" >8,600,205</td>\n",
       "      <td id=\"T_8b5f6_row225_col6\" class=\"data row225 col6\" >26,710,455</td>\n",
       "      <td id=\"T_8b5f6_row225_col7\" class=\"data row225 col7\" >21</td>\n",
       "      <td id=\"T_8b5f6_row225_col8\" class=\"data row225 col8\" > ▼1</td>\n",
       "      <td id=\"T_8b5f6_row225_col9\" class=\"data row225 col9\" >21</td>\n",
       "      <td id=\"T_8b5f6_row225_col10\" class=\"data row225 col10\" > ▼1</td>\n",
       "      <td id=\"T_8b5f6_row225_col11\" class=\"data row225 col11\" >-454,850</td>\n",
       "      <td id=\"T_8b5f6_row225_col12\" class=\"data row225 col12\" >-5.02%</td>\n",
       "    </tr>\n",
       "    <tr>\n",
       "      <th id=\"T_8b5f6_level0_row226\" class=\"row_heading level0 row226\" >226</th>\n",
       "      <td id=\"T_8b5f6_row226_col0\" class=\"data row226 col0\" >14 May 2024</td>\n",
       "      <td id=\"T_8b5f6_row226_col1\" class=\"data row226 col1\" >4</td>\n",
       "      <td id=\"T_8b5f6_row226_col2\" class=\"data row226 col2\" >4-1</td>\n",
       "      <td id=\"T_8b5f6_row226_col3\" class=\"data row226 col3\" >Vivid</td>\n",
       "      <td id=\"T_8b5f6_row226_col4\" class=\"data row226 col4\" >Vivid</td>\n",
       "      <td id=\"T_8b5f6_row226_col5\" class=\"data row226 col5\" >11,856,320</td>\n",
       "      <td id=\"T_8b5f6_row226_col6\" class=\"data row226 col6\" >11,856,320</td>\n",
       "      <td id=\"T_8b5f6_row226_col7\" class=\"data row226 col7\" >1</td>\n",
       "      <td id=\"T_8b5f6_row226_col8\" class=\"data row226 col8\" > ▲1</td>\n",
       "      <td id=\"T_8b5f6_row226_col9\" class=\"data row226 col9\" >1</td>\n",
       "      <td id=\"T_8b5f6_row226_col10\" class=\"data row226 col10\" > </td>\n",
       "      <td id=\"T_8b5f6_row226_col11\" class=\"data row226 col11\" >457,690</td>\n",
       "      <td id=\"T_8b5f6_row226_col12\" class=\"data row226 col12\" >4.02%</td>\n",
       "    </tr>\n",
       "    <tr>\n",
       "      <th id=\"T_8b5f6_level0_row227\" class=\"row_heading level0 row227\" >227</th>\n",
       "      <td id=\"T_8b5f6_row227_col0\" class=\"data row227 col0\" >14 May 2024</td>\n",
       "      <td id=\"T_8b5f6_row227_col1\" class=\"data row227 col1\" >4</td>\n",
       "      <td id=\"T_8b5f6_row227_col2\" class=\"data row227 col2\" >4-1</td>\n",
       "      <td id=\"T_8b5f6_row227_col3\" class=\"data row227 col3\" >Spearmint</td>\n",
       "      <td id=\"T_8b5f6_row227_col4\" class=\"data row227 col4\" >Spearmint</td>\n",
       "      <td id=\"T_8b5f6_row227_col5\" class=\"data row227 col5\" >11,773,265</td>\n",
       "      <td id=\"T_8b5f6_row227_col6\" class=\"data row227 col6\" >11,773,265</td>\n",
       "      <td id=\"T_8b5f6_row227_col7\" class=\"data row227 col7\" >2</td>\n",
       "      <td id=\"T_8b5f6_row227_col8\" class=\"data row227 col8\" > ▲1</td>\n",
       "      <td id=\"T_8b5f6_row227_col9\" class=\"data row227 col9\" >2</td>\n",
       "      <td id=\"T_8b5f6_row227_col10\" class=\"data row227 col10\" > </td>\n",
       "      <td id=\"T_8b5f6_row227_col11\" class=\"data row227 col11\" >651,125</td>\n",
       "      <td id=\"T_8b5f6_row227_col12\" class=\"data row227 col12\" >5.85%</td>\n",
       "    </tr>\n",
       "    <tr>\n",
       "      <th id=\"T_8b5f6_level0_row228\" class=\"row_heading level0 row228\" >228</th>\n",
       "      <td id=\"T_8b5f6_row228_col0\" class=\"data row228 col0\" >14 May 2024</td>\n",
       "      <td id=\"T_8b5f6_row228_col1\" class=\"data row228 col1\" >4</td>\n",
       "      <td id=\"T_8b5f6_row228_col2\" class=\"data row228 col2\" >4-1</td>\n",
       "      <td id=\"T_8b5f6_row228_col3\" class=\"data row228 col3\" >Nobless</td>\n",
       "      <td id=\"T_8b5f6_row228_col4\" class=\"data row228 col4\" >Nobless</td>\n",
       "      <td id=\"T_8b5f6_row228_col5\" class=\"data row228 col5\" >11,397,880</td>\n",
       "      <td id=\"T_8b5f6_row228_col6\" class=\"data row228 col6\" >11,397,880</td>\n",
       "      <td id=\"T_8b5f6_row228_col7\" class=\"data row228 col7\" >3</td>\n",
       "      <td id=\"T_8b5f6_row228_col8\" class=\"data row228 col8\" > ▲1</td>\n",
       "      <td id=\"T_8b5f6_row228_col9\" class=\"data row228 col9\" >3</td>\n",
       "      <td id=\"T_8b5f6_row228_col10\" class=\"data row228 col10\" > </td>\n",
       "      <td id=\"T_8b5f6_row228_col11\" class=\"data row228 col11\" >532,375</td>\n",
       "      <td id=\"T_8b5f6_row228_col12\" class=\"data row228 col12\" >4.90%</td>\n",
       "    </tr>\n",
       "    <tr>\n",
       "      <th id=\"T_8b5f6_level0_row229\" class=\"row_heading level0 row229\" >229</th>\n",
       "      <td id=\"T_8b5f6_row229_col0\" class=\"data row229 col0\" >14 May 2024</td>\n",
       "      <td id=\"T_8b5f6_row229_col1\" class=\"data row229 col1\" >4</td>\n",
       "      <td id=\"T_8b5f6_row229_col2\" class=\"data row229 col2\" >4-1</td>\n",
       "      <td id=\"T_8b5f6_row229_col3\" class=\"data row229 col3\" >LAODA</td>\n",
       "      <td id=\"T_8b5f6_row229_col4\" class=\"data row229 col4\" >LAODA</td>\n",
       "      <td id=\"T_8b5f6_row229_col5\" class=\"data row229 col5\" >11,242,265</td>\n",
       "      <td id=\"T_8b5f6_row229_col6\" class=\"data row229 col6\" >11,242,265</td>\n",
       "      <td id=\"T_8b5f6_row229_col7\" class=\"data row229 col7\" >4</td>\n",
       "      <td id=\"T_8b5f6_row229_col8\" class=\"data row229 col8\" > ▲3</td>\n",
       "      <td id=\"T_8b5f6_row229_col9\" class=\"data row229 col9\" >4</td>\n",
       "      <td id=\"T_8b5f6_row229_col10\" class=\"data row229 col10\" > ▲1</td>\n",
       "      <td id=\"T_8b5f6_row229_col11\" class=\"data row229 col11\" >464,185</td>\n",
       "      <td id=\"T_8b5f6_row229_col12\" class=\"data row229 col12\" >4.31%</td>\n",
       "    </tr>\n",
       "    <tr>\n",
       "      <th id=\"T_8b5f6_level0_row230\" class=\"row_heading level0 row230\" >230</th>\n",
       "      <td id=\"T_8b5f6_row230_col0\" class=\"data row230 col0\" >14 May 2024</td>\n",
       "      <td id=\"T_8b5f6_row230_col1\" class=\"data row230 col1\" >4</td>\n",
       "      <td id=\"T_8b5f6_row230_col2\" class=\"data row230 col2\" >4-1</td>\n",
       "      <td id=\"T_8b5f6_row230_col3\" class=\"data row230 col3\" >님</td>\n",
       "      <td id=\"T_8b5f6_row230_col4\" class=\"data row230 col4\" >님 (nim)</td>\n",
       "      <td id=\"T_8b5f6_row230_col5\" class=\"data row230 col5\" >11,240,180</td>\n",
       "      <td id=\"T_8b5f6_row230_col6\" class=\"data row230 col6\" >11,240,180</td>\n",
       "      <td id=\"T_8b5f6_row230_col7\" class=\"data row230 col7\" >5</td>\n",
       "      <td id=\"T_8b5f6_row230_col8\" class=\"data row230 col8\" > </td>\n",
       "      <td id=\"T_8b5f6_row230_col9\" class=\"data row230 col9\" >5</td>\n",
       "      <td id=\"T_8b5f6_row230_col10\" class=\"data row230 col10\" > ▼1</td>\n",
       "      <td id=\"T_8b5f6_row230_col11\" class=\"data row230 col11\" >448,230</td>\n",
       "      <td id=\"T_8b5f6_row230_col12\" class=\"data row230 col12\" >4.15%</td>\n",
       "    </tr>\n",
       "    <tr>\n",
       "      <th id=\"T_8b5f6_level0_row231\" class=\"row_heading level0 row231\" >231</th>\n",
       "      <td id=\"T_8b5f6_row231_col0\" class=\"data row231 col0\" >14 May 2024</td>\n",
       "      <td id=\"T_8b5f6_row231_col1\" class=\"data row231 col1\" >4</td>\n",
       "      <td id=\"T_8b5f6_row231_col2\" class=\"data row231 col2\" >4-1</td>\n",
       "      <td id=\"T_8b5f6_row231_col3\" class=\"data row231 col3\" >이지스</td>\n",
       "      <td id=\"T_8b5f6_row231_col4\" class=\"data row231 col4\" >이지스 (aegis)</td>\n",
       "      <td id=\"T_8b5f6_row231_col5\" class=\"data row231 col5\" >11,148,110</td>\n",
       "      <td id=\"T_8b5f6_row231_col6\" class=\"data row231 col6\" >11,148,110</td>\n",
       "      <td id=\"T_8b5f6_row231_col7\" class=\"data row231 col7\" >6</td>\n",
       "      <td id=\"T_8b5f6_row231_col8\" class=\"data row231 col8\" > </td>\n",
       "      <td id=\"T_8b5f6_row231_col9\" class=\"data row231 col9\" >6</td>\n",
       "      <td id=\"T_8b5f6_row231_col10\" class=\"data row231 col10\" > </td>\n",
       "      <td id=\"T_8b5f6_row231_col11\" class=\"data row231 col11\" >363,320</td>\n",
       "      <td id=\"T_8b5f6_row231_col12\" class=\"data row231 col12\" >3.37%</td>\n",
       "    </tr>\n",
       "    <tr>\n",
       "      <th id=\"T_8b5f6_level0_row232\" class=\"row_heading level0 row232\" >232</th>\n",
       "      <td id=\"T_8b5f6_row232_col0\" class=\"data row232 col0\" >14 May 2024</td>\n",
       "      <td id=\"T_8b5f6_row232_col1\" class=\"data row232 col1\" >4</td>\n",
       "      <td id=\"T_8b5f6_row232_col2\" class=\"data row232 col2\" >4-1</td>\n",
       "      <td id=\"T_8b5f6_row232_col3\" class=\"data row232 col3\" >미라클</td>\n",
       "      <td id=\"T_8b5f6_row232_col4\" class=\"data row232 col4\" >미라클 (miracle)</td>\n",
       "      <td id=\"T_8b5f6_row232_col5\" class=\"data row232 col5\" >11,141,720</td>\n",
       "      <td id=\"T_8b5f6_row232_col6\" class=\"data row232 col6\" >11,141,720</td>\n",
       "      <td id=\"T_8b5f6_row232_col7\" class=\"data row232 col7\" >7</td>\n",
       "      <td id=\"T_8b5f6_row232_col8\" class=\"data row232 col8\" > ▲3</td>\n",
       "      <td id=\"T_8b5f6_row232_col9\" class=\"data row232 col9\" >7</td>\n",
       "      <td id=\"T_8b5f6_row232_col10\" class=\"data row232 col10\" > ▲1</td>\n",
       "      <td id=\"T_8b5f6_row232_col11\" class=\"data row232 col11\" >622,765</td>\n",
       "      <td id=\"T_8b5f6_row232_col12\" class=\"data row232 col12\" >5.92%</td>\n",
       "    </tr>\n",
       "    <tr>\n",
       "      <th id=\"T_8b5f6_level0_row233\" class=\"row_heading level0 row233\" >233</th>\n",
       "      <td id=\"T_8b5f6_row233_col0\" class=\"data row233 col0\" >14 May 2024</td>\n",
       "      <td id=\"T_8b5f6_row233_col1\" class=\"data row233 col1\" >4</td>\n",
       "      <td id=\"T_8b5f6_row233_col2\" class=\"data row233 col2\" >4-1</td>\n",
       "      <td id=\"T_8b5f6_row233_col3\" class=\"data row233 col3\" >Crown</td>\n",
       "      <td id=\"T_8b5f6_row233_col4\" class=\"data row233 col4\" >Crown</td>\n",
       "      <td id=\"T_8b5f6_row233_col5\" class=\"data row233 col5\" >11,053,810</td>\n",
       "      <td id=\"T_8b5f6_row233_col6\" class=\"data row233 col6\" >11,053,810</td>\n",
       "      <td id=\"T_8b5f6_row233_col7\" class=\"data row233 col7\" >8</td>\n",
       "      <td id=\"T_8b5f6_row233_col8\" class=\"data row233 col8\" > </td>\n",
       "      <td id=\"T_8b5f6_row233_col9\" class=\"data row233 col9\" >8</td>\n",
       "      <td id=\"T_8b5f6_row233_col10\" class=\"data row233 col10\" > ▼1</td>\n",
       "      <td id=\"T_8b5f6_row233_col11\" class=\"data row233 col11\" >374,090</td>\n",
       "      <td id=\"T_8b5f6_row233_col12\" class=\"data row233 col12\" >3.50%</td>\n",
       "    </tr>\n",
       "    <tr>\n",
       "      <th id=\"T_8b5f6_level0_row234\" class=\"row_heading level0 row234\" >234</th>\n",
       "      <td id=\"T_8b5f6_row234_col0\" class=\"data row234 col0\" >14 May 2024</td>\n",
       "      <td id=\"T_8b5f6_row234_col1\" class=\"data row234 col1\" >4</td>\n",
       "      <td id=\"T_8b5f6_row234_col2\" class=\"data row234 col2\" >4-1</td>\n",
       "      <td id=\"T_8b5f6_row234_col3\" class=\"data row234 col3\" >MolochTH</td>\n",
       "      <td id=\"T_8b5f6_row234_col4\" class=\"data row234 col4\" >MolochTH</td>\n",
       "      <td id=\"T_8b5f6_row234_col5\" class=\"data row234 col5\" >11,048,890</td>\n",
       "      <td id=\"T_8b5f6_row234_col6\" class=\"data row234 col6\" >11,048,890</td>\n",
       "      <td id=\"T_8b5f6_row234_col7\" class=\"data row234 col7\" >9</td>\n",
       "      <td id=\"T_8b5f6_row234_col8\" class=\"data row234 col8\" > </td>\n",
       "      <td id=\"T_8b5f6_row234_col9\" class=\"data row234 col9\" >9</td>\n",
       "      <td id=\"T_8b5f6_row234_col10\" class=\"data row234 col10\" > </td>\n",
       "      <td id=\"T_8b5f6_row234_col11\" class=\"data row234 col11\" >450,275</td>\n",
       "      <td id=\"T_8b5f6_row234_col12\" class=\"data row234 col12\" >4.25%</td>\n",
       "    </tr>\n",
       "    <tr>\n",
       "      <th id=\"T_8b5f6_level0_row235\" class=\"row_heading level0 row235\" >235</th>\n",
       "      <td id=\"T_8b5f6_row235_col0\" class=\"data row235 col0\" >14 May 2024</td>\n",
       "      <td id=\"T_8b5f6_row235_col1\" class=\"data row235 col1\" >4</td>\n",
       "      <td id=\"T_8b5f6_row235_col2\" class=\"data row235 col2\" >4-1</td>\n",
       "      <td id=\"T_8b5f6_row235_col3\" class=\"data row235 col3\" >열매</td>\n",
       "      <td id=\"T_8b5f6_row235_col4\" class=\"data row235 col4\" >열매 (yeol-mae)</td>\n",
       "      <td id=\"T_8b5f6_row235_col5\" class=\"data row235 col5\" >11,045,180</td>\n",
       "      <td id=\"T_8b5f6_row235_col6\" class=\"data row235 col6\" >11,045,180</td>\n",
       "      <td id=\"T_8b5f6_row235_col7\" class=\"data row235 col7\" >10</td>\n",
       "      <td id=\"T_8b5f6_row235_col8\" class=\"data row235 col8\" > ▲1</td>\n",
       "      <td id=\"T_8b5f6_row235_col9\" class=\"data row235 col9\" >10</td>\n",
       "      <td id=\"T_8b5f6_row235_col10\" class=\"data row235 col10\" > </td>\n",
       "      <td id=\"T_8b5f6_row235_col11\" class=\"data row235 col11\" >611,620</td>\n",
       "      <td id=\"T_8b5f6_row235_col12\" class=\"data row235 col12\" >5.86%</td>\n",
       "    </tr>\n",
       "    <tr>\n",
       "      <th id=\"T_8b5f6_level0_row236\" class=\"row_heading level0 row236\" >236</th>\n",
       "      <td id=\"T_8b5f6_row236_col0\" class=\"data row236 col0\" >14 May 2024</td>\n",
       "      <td id=\"T_8b5f6_row236_col1\" class=\"data row236 col1\" >4</td>\n",
       "      <td id=\"T_8b5f6_row236_col2\" class=\"data row236 col2\" >4-1</td>\n",
       "      <td id=\"T_8b5f6_row236_col3\" class=\"data row236 col3\" >무야호</td>\n",
       "      <td id=\"T_8b5f6_row236_col4\" class=\"data row236 col4\" >무야호 (mu-ya-ho)</td>\n",
       "      <td id=\"T_8b5f6_row236_col5\" class=\"data row236 col5\" >10,804,960</td>\n",
       "      <td id=\"T_8b5f6_row236_col6\" class=\"data row236 col6\" >10,804,960</td>\n",
       "      <td id=\"T_8b5f6_row236_col7\" class=\"data row236 col7\" >11</td>\n",
       "      <td id=\"T_8b5f6_row236_col8\" class=\"data row236 col8\" > ▲1</td>\n",
       "      <td id=\"T_8b5f6_row236_col9\" class=\"data row236 col9\" >11</td>\n",
       "      <td id=\"T_8b5f6_row236_col10\" class=\"data row236 col10\" > </td>\n",
       "      <td id=\"T_8b5f6_row236_col11\" class=\"data row236 col11\" >456,075</td>\n",
       "      <td id=\"T_8b5f6_row236_col12\" class=\"data row236 col12\" >4.41%</td>\n",
       "    </tr>\n",
       "    <tr>\n",
       "      <th id=\"T_8b5f6_level0_row237\" class=\"row_heading level0 row237\" >237</th>\n",
       "      <td id=\"T_8b5f6_row237_col0\" class=\"data row237 col0\" >14 May 2024</td>\n",
       "      <td id=\"T_8b5f6_row237_col1\" class=\"data row237 col1\" >4</td>\n",
       "      <td id=\"T_8b5f6_row237_col2\" class=\"data row237 col2\" >4-1</td>\n",
       "      <td id=\"T_8b5f6_row237_col3\" class=\"data row237 col3\" >Peppermint</td>\n",
       "      <td id=\"T_8b5f6_row237_col4\" class=\"data row237 col4\" >Peppermint</td>\n",
       "      <td id=\"T_8b5f6_row237_col5\" class=\"data row237 col5\" >10,355,160</td>\n",
       "      <td id=\"T_8b5f6_row237_col6\" class=\"data row237 col6\" >10,355,160</td>\n",
       "      <td id=\"T_8b5f6_row237_col7\" class=\"data row237 col7\" >12</td>\n",
       "      <td id=\"T_8b5f6_row237_col8\" class=\"data row237 col8\" > ▲1</td>\n",
       "      <td id=\"T_8b5f6_row237_col9\" class=\"data row237 col9\" >12</td>\n",
       "      <td id=\"T_8b5f6_row237_col10\" class=\"data row237 col10\" > </td>\n",
       "      <td id=\"T_8b5f6_row237_col11\" class=\"data row237 col11\" >428,810</td>\n",
       "      <td id=\"T_8b5f6_row237_col12\" class=\"data row237 col12\" >4.32%</td>\n",
       "    </tr>\n",
       "    <tr>\n",
       "      <th id=\"T_8b5f6_level0_row238\" class=\"row_heading level0 row238\" >238</th>\n",
       "      <td id=\"T_8b5f6_row238_col0\" class=\"data row238 col0\" >14 May 2024</td>\n",
       "      <td id=\"T_8b5f6_row238_col1\" class=\"data row238 col1\" >4</td>\n",
       "      <td id=\"T_8b5f6_row238_col2\" class=\"data row238 col2\" >4-1</td>\n",
       "      <td id=\"T_8b5f6_row238_col3\" class=\"data row238 col3\" >재난경보</td>\n",
       "      <td id=\"T_8b5f6_row238_col4\" class=\"data row238 col4\" >재난경보 (jae-nan-gyeong-bo)</td>\n",
       "      <td id=\"T_8b5f6_row238_col5\" class=\"data row238 col5\" >10,269,885</td>\n",
       "      <td id=\"T_8b5f6_row238_col6\" class=\"data row238 col6\" >10,269,885</td>\n",
       "      <td id=\"T_8b5f6_row238_col7\" class=\"data row238 col7\" >13</td>\n",
       "      <td id=\"T_8b5f6_row238_col8\" class=\"data row238 col8\" > ▲7</td>\n",
       "      <td id=\"T_8b5f6_row238_col9\" class=\"data row238 col9\" >13</td>\n",
       "      <td id=\"T_8b5f6_row238_col10\" class=\"data row238 col10\" > ▲1</td>\n",
       "      <td id=\"T_8b5f6_row238_col11\" class=\"data row238 col11\" >1,044,760</td>\n",
       "      <td id=\"T_8b5f6_row238_col12\" class=\"data row238 col12\" >11.33%</td>\n",
       "    </tr>\n",
       "    <tr>\n",
       "      <th id=\"T_8b5f6_level0_row239\" class=\"row_heading level0 row239\" >239</th>\n",
       "      <td id=\"T_8b5f6_row239_col0\" class=\"data row239 col0\" >14 May 2024</td>\n",
       "      <td id=\"T_8b5f6_row239_col1\" class=\"data row239 col1\" >4</td>\n",
       "      <td id=\"T_8b5f6_row239_col2\" class=\"data row239 col2\" >4-1</td>\n",
       "      <td id=\"T_8b5f6_row239_col3\" class=\"data row239 col3\" >사혼</td>\n",
       "      <td id=\"T_8b5f6_row239_col4\" class=\"data row239 col4\" >사혼 (sa-hon)</td>\n",
       "      <td id=\"T_8b5f6_row239_col5\" class=\"data row239 col5\" >10,187,485</td>\n",
       "      <td id=\"T_8b5f6_row239_col6\" class=\"data row239 col6\" >10,187,485</td>\n",
       "      <td id=\"T_8b5f6_row239_col7\" class=\"data row239 col7\" >14</td>\n",
       "      <td id=\"T_8b5f6_row239_col8\" class=\"data row239 col8\" > </td>\n",
       "      <td id=\"T_8b5f6_row239_col9\" class=\"data row239 col9\" >14</td>\n",
       "      <td id=\"T_8b5f6_row239_col10\" class=\"data row239 col10\" > ▼1</td>\n",
       "      <td id=\"T_8b5f6_row239_col11\" class=\"data row239 col11\" >346,310</td>\n",
       "      <td id=\"T_8b5f6_row239_col12\" class=\"data row239 col12\" >3.52%</td>\n",
       "    </tr>\n",
       "    <tr>\n",
       "      <th id=\"T_8b5f6_level0_row240\" class=\"row_heading level0 row240\" >240</th>\n",
       "      <td id=\"T_8b5f6_row240_col0\" class=\"data row240 col0\" >14 May 2024</td>\n",
       "      <td id=\"T_8b5f6_row240_col1\" class=\"data row240 col1\" >4</td>\n",
       "      <td id=\"T_8b5f6_row240_col2\" class=\"data row240 col2\" >4-1</td>\n",
       "      <td id=\"T_8b5f6_row240_col3\" class=\"data row240 col3\" >Nigiri</td>\n",
       "      <td id=\"T_8b5f6_row240_col4\" class=\"data row240 col4\" >Nigiri</td>\n",
       "      <td id=\"T_8b5f6_row240_col5\" class=\"data row240 col5\" >10,183,210</td>\n",
       "      <td id=\"T_8b5f6_row240_col6\" class=\"data row240 col6\" >10,183,210</td>\n",
       "      <td id=\"T_8b5f6_row240_col7\" class=\"data row240 col7\" >15</td>\n",
       "      <td id=\"T_8b5f6_row240_col8\" class=\"data row240 col8\" > </td>\n",
       "      <td id=\"T_8b5f6_row240_col9\" class=\"data row240 col9\" >15</td>\n",
       "      <td id=\"T_8b5f6_row240_col10\" class=\"data row240 col10\" > </td>\n",
       "      <td id=\"T_8b5f6_row240_col11\" class=\"data row240 col11\" >504,085</td>\n",
       "      <td id=\"T_8b5f6_row240_col12\" class=\"data row240 col12\" >5.21%</td>\n",
       "    </tr>\n",
       "    <tr>\n",
       "      <th id=\"T_8b5f6_level0_row241\" class=\"row_heading level0 row241\" >241</th>\n",
       "      <td id=\"T_8b5f6_row241_col0\" class=\"data row241 col0\" >14 May 2024</td>\n",
       "      <td id=\"T_8b5f6_row241_col1\" class=\"data row241 col1\" >4</td>\n",
       "      <td id=\"T_8b5f6_row241_col2\" class=\"data row241 col2\" >4-1</td>\n",
       "      <td id=\"T_8b5f6_row241_col3\" class=\"data row241 col3\" >MyTH</td>\n",
       "      <td id=\"T_8b5f6_row241_col4\" class=\"data row241 col4\" >MyTH</td>\n",
       "      <td id=\"T_8b5f6_row241_col5\" class=\"data row241 col5\" >9,848,575</td>\n",
       "      <td id=\"T_8b5f6_row241_col6\" class=\"data row241 col6\" >9,848,575</td>\n",
       "      <td id=\"T_8b5f6_row241_col7\" class=\"data row241 col7\" >16</td>\n",
       "      <td id=\"T_8b5f6_row241_col8\" class=\"data row241 col8\" > ▲1</td>\n",
       "      <td id=\"T_8b5f6_row241_col9\" class=\"data row241 col9\" >16</td>\n",
       "      <td id=\"T_8b5f6_row241_col10\" class=\"data row241 col10\" > ▲3</td>\n",
       "      <td id=\"T_8b5f6_row241_col11\" class=\"data row241 col11\" >493,620</td>\n",
       "      <td id=\"T_8b5f6_row241_col12\" class=\"data row241 col12\" >5.28%</td>\n",
       "    </tr>\n",
       "    <tr>\n",
       "      <th id=\"T_8b5f6_level0_row242\" class=\"row_heading level0 row242\" >242</th>\n",
       "      <td id=\"T_8b5f6_row242_col0\" class=\"data row242 col0\" >14 May 2024</td>\n",
       "      <td id=\"T_8b5f6_row242_col1\" class=\"data row242 col1\" >4</td>\n",
       "      <td id=\"T_8b5f6_row242_col2\" class=\"data row242 col2\" >4-1</td>\n",
       "      <td id=\"T_8b5f6_row242_col3\" class=\"data row242 col3\" >S7AR</td>\n",
       "      <td id=\"T_8b5f6_row242_col4\" class=\"data row242 col4\" >S7AR</td>\n",
       "      <td id=\"T_8b5f6_row242_col5\" class=\"data row242 col5\" >9,771,950</td>\n",
       "      <td id=\"T_8b5f6_row242_col6\" class=\"data row242 col6\" >9,771,950</td>\n",
       "      <td id=\"T_8b5f6_row242_col7\" class=\"data row242 col7\" >17</td>\n",
       "      <td id=\"T_8b5f6_row242_col8\" class=\"data row242 col8\" > ▲2</td>\n",
       "      <td id=\"T_8b5f6_row242_col9\" class=\"data row242 col9\" >17</td>\n",
       "      <td id=\"T_8b5f6_row242_col10\" class=\"data row242 col10\" > </td>\n",
       "      <td id=\"T_8b5f6_row242_col11\" class=\"data row242 col11\" >490,605</td>\n",
       "      <td id=\"T_8b5f6_row242_col12\" class=\"data row242 col12\" >5.29%</td>\n",
       "    </tr>\n",
       "    <tr>\n",
       "      <th id=\"T_8b5f6_level0_row243\" class=\"row_heading level0 row243\" >243</th>\n",
       "      <td id=\"T_8b5f6_row243_col0\" class=\"data row243 col0\" >14 May 2024</td>\n",
       "      <td id=\"T_8b5f6_row243_col1\" class=\"data row243 col1\" >4</td>\n",
       "      <td id=\"T_8b5f6_row243_col2\" class=\"data row243 col2\" >4-1</td>\n",
       "      <td id=\"T_8b5f6_row243_col3\" class=\"data row243 col3\" >Nobility</td>\n",
       "      <td id=\"T_8b5f6_row243_col4\" class=\"data row243 col4\" >Nobility</td>\n",
       "      <td id=\"T_8b5f6_row243_col5\" class=\"data row243 col5\" >9,721,785</td>\n",
       "      <td id=\"T_8b5f6_row243_col6\" class=\"data row243 col6\" >9,721,785</td>\n",
       "      <td id=\"T_8b5f6_row243_col7\" class=\"data row243 col7\" >18</td>\n",
       "      <td id=\"T_8b5f6_row243_col8\" class=\"data row243 col8\" > ▼2</td>\n",
       "      <td id=\"T_8b5f6_row243_col9\" class=\"data row243 col9\" >18</td>\n",
       "      <td id=\"T_8b5f6_row243_col10\" class=\"data row243 col10\" > ▼2</td>\n",
       "      <td id=\"T_8b5f6_row243_col11\" class=\"data row243 col11\" >350,765</td>\n",
       "      <td id=\"T_8b5f6_row243_col12\" class=\"data row243 col12\" >3.74%</td>\n",
       "    </tr>\n",
       "    <tr>\n",
       "      <th id=\"T_8b5f6_level0_row244\" class=\"row_heading level0 row244\" >244</th>\n",
       "      <td id=\"T_8b5f6_row244_col0\" class=\"data row244 col0\" >14 May 2024</td>\n",
       "      <td id=\"T_8b5f6_row244_col1\" class=\"data row244 col1\" >4</td>\n",
       "      <td id=\"T_8b5f6_row244_col2\" class=\"data row244 col2\" >4-1</td>\n",
       "      <td id=\"T_8b5f6_row244_col3\" class=\"data row244 col3\" >감동</td>\n",
       "      <td id=\"T_8b5f6_row244_col4\" class=\"data row244 col4\" >감동 (gam-dong)</td>\n",
       "      <td id=\"T_8b5f6_row244_col5\" class=\"data row244 col5\" >9,718,605</td>\n",
       "      <td id=\"T_8b5f6_row244_col6\" class=\"data row244 col6\" >9,718,605</td>\n",
       "      <td id=\"T_8b5f6_row244_col7\" class=\"data row244 col7\" >19</td>\n",
       "      <td id=\"T_8b5f6_row244_col8\" class=\"data row244 col8\" > </td>\n",
       "      <td id=\"T_8b5f6_row244_col9\" class=\"data row244 col9\" >19</td>\n",
       "      <td id=\"T_8b5f6_row244_col10\" class=\"data row244 col10\" > </td>\n",
       "      <td id=\"T_8b5f6_row244_col11\" class=\"data row244 col11\" >0</td>\n",
       "      <td id=\"T_8b5f6_row244_col12\" class=\"data row244 col12\" >0.00%</td>\n",
       "    </tr>\n",
       "    <tr>\n",
       "      <th id=\"T_8b5f6_level0_row245\" class=\"row_heading level0 row245\" >245</th>\n",
       "      <td id=\"T_8b5f6_row245_col0\" class=\"data row245 col0\" >14 May 2024</td>\n",
       "      <td id=\"T_8b5f6_row245_col1\" class=\"data row245 col1\" >4</td>\n",
       "      <td id=\"T_8b5f6_row245_col2\" class=\"data row245 col2\" >4-1</td>\n",
       "      <td id=\"T_8b5f6_row245_col3\" class=\"data row245 col3\" >DEKWAT</td>\n",
       "      <td id=\"T_8b5f6_row245_col4\" class=\"data row245 col4\" >DEKWAT</td>\n",
       "      <td id=\"T_8b5f6_row245_col5\" class=\"data row245 col5\" >9,710,100</td>\n",
       "      <td id=\"T_8b5f6_row245_col6\" class=\"data row245 col6\" >9,710,100</td>\n",
       "      <td id=\"T_8b5f6_row245_col7\" class=\"data row245 col7\" >20</td>\n",
       "      <td id=\"T_8b5f6_row245_col8\" class=\"data row245 col8\" > ▼2</td>\n",
       "      <td id=\"T_8b5f6_row245_col9\" class=\"data row245 col9\" >20</td>\n",
       "      <td id=\"T_8b5f6_row245_col10\" class=\"data row245 col10\" > ▼2</td>\n",
       "      <td id=\"T_8b5f6_row245_col11\" class=\"data row245 col11\" >425,160</td>\n",
       "      <td id=\"T_8b5f6_row245_col12\" class=\"data row245 col12\" >4.58%</td>\n",
       "    </tr>\n",
       "    <tr>\n",
       "      <th id=\"T_8b5f6_level0_row246\" class=\"row_heading level0 row246\" >246</th>\n",
       "      <td id=\"T_8b5f6_row246_col0\" class=\"data row246 col0\" >21 May 2024</td>\n",
       "      <td id=\"T_8b5f6_row246_col1\" class=\"data row246 col1\" >4</td>\n",
       "      <td id=\"T_8b5f6_row246_col2\" class=\"data row246 col2\" >4-2</td>\n",
       "      <td id=\"T_8b5f6_row246_col3\" class=\"data row246 col3\" >Vivid</td>\n",
       "      <td id=\"T_8b5f6_row246_col4\" class=\"data row246 col4\" >Vivid</td>\n",
       "      <td id=\"T_8b5f6_row246_col5\" class=\"data row246 col5\" >11,782,185</td>\n",
       "      <td id=\"T_8b5f6_row246_col6\" class=\"data row246 col6\" >23,638,505</td>\n",
       "      <td id=\"T_8b5f6_row246_col7\" class=\"data row246 col7\" >1</td>\n",
       "      <td id=\"T_8b5f6_row246_col8\" class=\"data row246 col8\" > </td>\n",
       "      <td id=\"T_8b5f6_row246_col9\" class=\"data row246 col9\" >1</td>\n",
       "      <td id=\"T_8b5f6_row246_col10\" class=\"data row246 col10\" > </td>\n",
       "      <td id=\"T_8b5f6_row246_col11\" class=\"data row246 col11\" >-74,135</td>\n",
       "      <td id=\"T_8b5f6_row246_col12\" class=\"data row246 col12\" >-0.63%</td>\n",
       "    </tr>\n",
       "    <tr>\n",
       "      <th id=\"T_8b5f6_level0_row247\" class=\"row_heading level0 row247\" >247</th>\n",
       "      <td id=\"T_8b5f6_row247_col0\" class=\"data row247 col0\" >21 May 2024</td>\n",
       "      <td id=\"T_8b5f6_row247_col1\" class=\"data row247 col1\" >4</td>\n",
       "      <td id=\"T_8b5f6_row247_col2\" class=\"data row247 col2\" >4-2</td>\n",
       "      <td id=\"T_8b5f6_row247_col3\" class=\"data row247 col3\" >Spearmint</td>\n",
       "      <td id=\"T_8b5f6_row247_col4\" class=\"data row247 col4\" >Spearmint</td>\n",
       "      <td id=\"T_8b5f6_row247_col5\" class=\"data row247 col5\" >11,768,065</td>\n",
       "      <td id=\"T_8b5f6_row247_col6\" class=\"data row247 col6\" >23,541,330</td>\n",
       "      <td id=\"T_8b5f6_row247_col7\" class=\"data row247 col7\" >2</td>\n",
       "      <td id=\"T_8b5f6_row247_col8\" class=\"data row247 col8\" > </td>\n",
       "      <td id=\"T_8b5f6_row247_col9\" class=\"data row247 col9\" >2</td>\n",
       "      <td id=\"T_8b5f6_row247_col10\" class=\"data row247 col10\" > </td>\n",
       "      <td id=\"T_8b5f6_row247_col11\" class=\"data row247 col11\" >-5,200</td>\n",
       "      <td id=\"T_8b5f6_row247_col12\" class=\"data row247 col12\" >-0.04%</td>\n",
       "    </tr>\n",
       "    <tr>\n",
       "      <th id=\"T_8b5f6_level0_row248\" class=\"row_heading level0 row248\" >248</th>\n",
       "      <td id=\"T_8b5f6_row248_col0\" class=\"data row248 col0\" >21 May 2024</td>\n",
       "      <td id=\"T_8b5f6_row248_col1\" class=\"data row248 col1\" >4</td>\n",
       "      <td id=\"T_8b5f6_row248_col2\" class=\"data row248 col2\" >4-2</td>\n",
       "      <td id=\"T_8b5f6_row248_col3\" class=\"data row248 col3\" >Nobless</td>\n",
       "      <td id=\"T_8b5f6_row248_col4\" class=\"data row248 col4\" >Nobless</td>\n",
       "      <td id=\"T_8b5f6_row248_col5\" class=\"data row248 col5\" >11,407,690</td>\n",
       "      <td id=\"T_8b5f6_row248_col6\" class=\"data row248 col6\" >22,805,570</td>\n",
       "      <td id=\"T_8b5f6_row248_col7\" class=\"data row248 col7\" >5</td>\n",
       "      <td id=\"T_8b5f6_row248_col8\" class=\"data row248 col8\" > ▼2</td>\n",
       "      <td id=\"T_8b5f6_row248_col9\" class=\"data row248 col9\" >3</td>\n",
       "      <td id=\"T_8b5f6_row248_col10\" class=\"data row248 col10\" > </td>\n",
       "      <td id=\"T_8b5f6_row248_col11\" class=\"data row248 col11\" >9,810</td>\n",
       "      <td id=\"T_8b5f6_row248_col12\" class=\"data row248 col12\" >0.09%</td>\n",
       "    </tr>\n",
       "    <tr>\n",
       "      <th id=\"T_8b5f6_level0_row249\" class=\"row_heading level0 row249\" >249</th>\n",
       "      <td id=\"T_8b5f6_row249_col0\" class=\"data row249 col0\" >21 May 2024</td>\n",
       "      <td id=\"T_8b5f6_row249_col1\" class=\"data row249 col1\" >4</td>\n",
       "      <td id=\"T_8b5f6_row249_col2\" class=\"data row249 col2\" >4-2</td>\n",
       "      <td id=\"T_8b5f6_row249_col3\" class=\"data row249 col3\" >LAODA</td>\n",
       "      <td id=\"T_8b5f6_row249_col4\" class=\"data row249 col4\" >LAODA</td>\n",
       "      <td id=\"T_8b5f6_row249_col5\" class=\"data row249 col5\" >11,411,315</td>\n",
       "      <td id=\"T_8b5f6_row249_col6\" class=\"data row249 col6\" >22,653,580</td>\n",
       "      <td id=\"T_8b5f6_row249_col7\" class=\"data row249 col7\" >3</td>\n",
       "      <td id=\"T_8b5f6_row249_col8\" class=\"data row249 col8\" > ▲1</td>\n",
       "      <td id=\"T_8b5f6_row249_col9\" class=\"data row249 col9\" >4</td>\n",
       "      <td id=\"T_8b5f6_row249_col10\" class=\"data row249 col10\" > </td>\n",
       "      <td id=\"T_8b5f6_row249_col11\" class=\"data row249 col11\" >169,050</td>\n",
       "      <td id=\"T_8b5f6_row249_col12\" class=\"data row249 col12\" >1.50%</td>\n",
       "    </tr>\n",
       "    <tr>\n",
       "      <th id=\"T_8b5f6_level0_row250\" class=\"row_heading level0 row250\" >250</th>\n",
       "      <td id=\"T_8b5f6_row250_col0\" class=\"data row250 col0\" >21 May 2024</td>\n",
       "      <td id=\"T_8b5f6_row250_col1\" class=\"data row250 col1\" >4</td>\n",
       "      <td id=\"T_8b5f6_row250_col2\" class=\"data row250 col2\" >4-2</td>\n",
       "      <td id=\"T_8b5f6_row250_col3\" class=\"data row250 col3\" >이지스</td>\n",
       "      <td id=\"T_8b5f6_row250_col4\" class=\"data row250 col4\" >이지스 (aegis)</td>\n",
       "      <td id=\"T_8b5f6_row250_col5\" class=\"data row250 col5\" >11,408,945</td>\n",
       "      <td id=\"T_8b5f6_row250_col6\" class=\"data row250 col6\" >22,557,055</td>\n",
       "      <td id=\"T_8b5f6_row250_col7\" class=\"data row250 col7\" >4</td>\n",
       "      <td id=\"T_8b5f6_row250_col8\" class=\"data row250 col8\" > ▲2</td>\n",
       "      <td id=\"T_8b5f6_row250_col9\" class=\"data row250 col9\" >5</td>\n",
       "      <td id=\"T_8b5f6_row250_col10\" class=\"data row250 col10\" > ▲1</td>\n",
       "      <td id=\"T_8b5f6_row250_col11\" class=\"data row250 col11\" >260,835</td>\n",
       "      <td id=\"T_8b5f6_row250_col12\" class=\"data row250 col12\" >2.34%</td>\n",
       "    </tr>\n",
       "    <tr>\n",
       "      <th id=\"T_8b5f6_level0_row251\" class=\"row_heading level0 row251\" >251</th>\n",
       "      <td id=\"T_8b5f6_row251_col0\" class=\"data row251 col0\" >21 May 2024</td>\n",
       "      <td id=\"T_8b5f6_row251_col1\" class=\"data row251 col1\" >4</td>\n",
       "      <td id=\"T_8b5f6_row251_col2\" class=\"data row251 col2\" >4-2</td>\n",
       "      <td id=\"T_8b5f6_row251_col3\" class=\"data row251 col3\" >님</td>\n",
       "      <td id=\"T_8b5f6_row251_col4\" class=\"data row251 col4\" >님 (nim)</td>\n",
       "      <td id=\"T_8b5f6_row251_col5\" class=\"data row251 col5\" >11,230,760</td>\n",
       "      <td id=\"T_8b5f6_row251_col6\" class=\"data row251 col6\" >22,470,940</td>\n",
       "      <td id=\"T_8b5f6_row251_col7\" class=\"data row251 col7\" >7</td>\n",
       "      <td id=\"T_8b5f6_row251_col8\" class=\"data row251 col8\" > ▼2</td>\n",
       "      <td id=\"T_8b5f6_row251_col9\" class=\"data row251 col9\" >6</td>\n",
       "      <td id=\"T_8b5f6_row251_col10\" class=\"data row251 col10\" > ▼1</td>\n",
       "      <td id=\"T_8b5f6_row251_col11\" class=\"data row251 col11\" >-9,420</td>\n",
       "      <td id=\"T_8b5f6_row251_col12\" class=\"data row251 col12\" >-0.08%</td>\n",
       "    </tr>\n",
       "    <tr>\n",
       "      <th id=\"T_8b5f6_level0_row252\" class=\"row_heading level0 row252\" >252</th>\n",
       "      <td id=\"T_8b5f6_row252_col0\" class=\"data row252 col0\" >21 May 2024</td>\n",
       "      <td id=\"T_8b5f6_row252_col1\" class=\"data row252 col1\" >4</td>\n",
       "      <td id=\"T_8b5f6_row252_col2\" class=\"data row252 col2\" >4-2</td>\n",
       "      <td id=\"T_8b5f6_row252_col3\" class=\"data row252 col3\" >미라클</td>\n",
       "      <td id=\"T_8b5f6_row252_col4\" class=\"data row252 col4\" >미라클 (miracle)</td>\n",
       "      <td id=\"T_8b5f6_row252_col5\" class=\"data row252 col5\" >11,233,590</td>\n",
       "      <td id=\"T_8b5f6_row252_col6\" class=\"data row252 col6\" >22,375,310</td>\n",
       "      <td id=\"T_8b5f6_row252_col7\" class=\"data row252 col7\" >6</td>\n",
       "      <td id=\"T_8b5f6_row252_col8\" class=\"data row252 col8\" > ▲1</td>\n",
       "      <td id=\"T_8b5f6_row252_col9\" class=\"data row252 col9\" >7</td>\n",
       "      <td id=\"T_8b5f6_row252_col10\" class=\"data row252 col10\" > </td>\n",
       "      <td id=\"T_8b5f6_row252_col11\" class=\"data row252 col11\" >91,870</td>\n",
       "      <td id=\"T_8b5f6_row252_col12\" class=\"data row252 col12\" >0.82%</td>\n",
       "    </tr>\n",
       "    <tr>\n",
       "      <th id=\"T_8b5f6_level0_row253\" class=\"row_heading level0 row253\" >253</th>\n",
       "      <td id=\"T_8b5f6_row253_col0\" class=\"data row253 col0\" >21 May 2024</td>\n",
       "      <td id=\"T_8b5f6_row253_col1\" class=\"data row253 col1\" >4</td>\n",
       "      <td id=\"T_8b5f6_row253_col2\" class=\"data row253 col2\" >4-2</td>\n",
       "      <td id=\"T_8b5f6_row253_col3\" class=\"data row253 col3\" >Crown</td>\n",
       "      <td id=\"T_8b5f6_row253_col4\" class=\"data row253 col4\" >Crown</td>\n",
       "      <td id=\"T_8b5f6_row253_col5\" class=\"data row253 col5\" >11,226,560</td>\n",
       "      <td id=\"T_8b5f6_row253_col6\" class=\"data row253 col6\" >22,280,370</td>\n",
       "      <td id=\"T_8b5f6_row253_col7\" class=\"data row253 col7\" >8</td>\n",
       "      <td id=\"T_8b5f6_row253_col8\" class=\"data row253 col8\" > </td>\n",
       "      <td id=\"T_8b5f6_row253_col9\" class=\"data row253 col9\" >8</td>\n",
       "      <td id=\"T_8b5f6_row253_col10\" class=\"data row253 col10\" > </td>\n",
       "      <td id=\"T_8b5f6_row253_col11\" class=\"data row253 col11\" >172,750</td>\n",
       "      <td id=\"T_8b5f6_row253_col12\" class=\"data row253 col12\" >1.56%</td>\n",
       "    </tr>\n",
       "    <tr>\n",
       "      <th id=\"T_8b5f6_level0_row254\" class=\"row_heading level0 row254\" >254</th>\n",
       "      <td id=\"T_8b5f6_row254_col0\" class=\"data row254 col0\" >21 May 2024</td>\n",
       "      <td id=\"T_8b5f6_row254_col1\" class=\"data row254 col1\" >4</td>\n",
       "      <td id=\"T_8b5f6_row254_col2\" class=\"data row254 col2\" >4-2</td>\n",
       "      <td id=\"T_8b5f6_row254_col3\" class=\"data row254 col3\" >MolochTH</td>\n",
       "      <td id=\"T_8b5f6_row254_col4\" class=\"data row254 col4\" >MolochTH</td>\n",
       "      <td id=\"T_8b5f6_row254_col5\" class=\"data row254 col5\" >11,142,940</td>\n",
       "      <td id=\"T_8b5f6_row254_col6\" class=\"data row254 col6\" >22,191,830</td>\n",
       "      <td id=\"T_8b5f6_row254_col7\" class=\"data row254 col7\" >9</td>\n",
       "      <td id=\"T_8b5f6_row254_col8\" class=\"data row254 col8\" > </td>\n",
       "      <td id=\"T_8b5f6_row254_col9\" class=\"data row254 col9\" >9</td>\n",
       "      <td id=\"T_8b5f6_row254_col10\" class=\"data row254 col10\" > </td>\n",
       "      <td id=\"T_8b5f6_row254_col11\" class=\"data row254 col11\" >94,050</td>\n",
       "      <td id=\"T_8b5f6_row254_col12\" class=\"data row254 col12\" >0.85%</td>\n",
       "    </tr>\n",
       "    <tr>\n",
       "      <th id=\"T_8b5f6_level0_row255\" class=\"row_heading level0 row255\" >255</th>\n",
       "      <td id=\"T_8b5f6_row255_col0\" class=\"data row255 col0\" >21 May 2024</td>\n",
       "      <td id=\"T_8b5f6_row255_col1\" class=\"data row255 col1\" >4</td>\n",
       "      <td id=\"T_8b5f6_row255_col2\" class=\"data row255 col2\" >4-2</td>\n",
       "      <td id=\"T_8b5f6_row255_col3\" class=\"data row255 col3\" >열매</td>\n",
       "      <td id=\"T_8b5f6_row255_col4\" class=\"data row255 col4\" >열매 (yeol-mae)</td>\n",
       "      <td id=\"T_8b5f6_row255_col5\" class=\"data row255 col5\" >10,885,185</td>\n",
       "      <td id=\"T_8b5f6_row255_col6\" class=\"data row255 col6\" >21,930,365</td>\n",
       "      <td id=\"T_8b5f6_row255_col7\" class=\"data row255 col7\" >11</td>\n",
       "      <td id=\"T_8b5f6_row255_col8\" class=\"data row255 col8\" > ▼1</td>\n",
       "      <td id=\"T_8b5f6_row255_col9\" class=\"data row255 col9\" >10</td>\n",
       "      <td id=\"T_8b5f6_row255_col10\" class=\"data row255 col10\" > </td>\n",
       "      <td id=\"T_8b5f6_row255_col11\" class=\"data row255 col11\" >-159,995</td>\n",
       "      <td id=\"T_8b5f6_row255_col12\" class=\"data row255 col12\" >-1.45%</td>\n",
       "    </tr>\n",
       "    <tr>\n",
       "      <th id=\"T_8b5f6_level0_row256\" class=\"row_heading level0 row256\" >256</th>\n",
       "      <td id=\"T_8b5f6_row256_col0\" class=\"data row256 col0\" >21 May 2024</td>\n",
       "      <td id=\"T_8b5f6_row256_col1\" class=\"data row256 col1\" >4</td>\n",
       "      <td id=\"T_8b5f6_row256_col2\" class=\"data row256 col2\" >4-2</td>\n",
       "      <td id=\"T_8b5f6_row256_col3\" class=\"data row256 col3\" >무야호</td>\n",
       "      <td id=\"T_8b5f6_row256_col4\" class=\"data row256 col4\" >무야호 (mu-ya-ho)</td>\n",
       "      <td id=\"T_8b5f6_row256_col5\" class=\"data row256 col5\" >10,970,180</td>\n",
       "      <td id=\"T_8b5f6_row256_col6\" class=\"data row256 col6\" >21,775,140</td>\n",
       "      <td id=\"T_8b5f6_row256_col7\" class=\"data row256 col7\" >10</td>\n",
       "      <td id=\"T_8b5f6_row256_col8\" class=\"data row256 col8\" > ▲1</td>\n",
       "      <td id=\"T_8b5f6_row256_col9\" class=\"data row256 col9\" >11</td>\n",
       "      <td id=\"T_8b5f6_row256_col10\" class=\"data row256 col10\" > </td>\n",
       "      <td id=\"T_8b5f6_row256_col11\" class=\"data row256 col11\" >165,220</td>\n",
       "      <td id=\"T_8b5f6_row256_col12\" class=\"data row256 col12\" >1.53%</td>\n",
       "    </tr>\n",
       "    <tr>\n",
       "      <th id=\"T_8b5f6_level0_row257\" class=\"row_heading level0 row257\" >257</th>\n",
       "      <td id=\"T_8b5f6_row257_col0\" class=\"data row257 col0\" >21 May 2024</td>\n",
       "      <td id=\"T_8b5f6_row257_col1\" class=\"data row257 col1\" >4</td>\n",
       "      <td id=\"T_8b5f6_row257_col2\" class=\"data row257 col2\" >4-2</td>\n",
       "      <td id=\"T_8b5f6_row257_col3\" class=\"data row257 col3\" >Peppermint</td>\n",
       "      <td id=\"T_8b5f6_row257_col4\" class=\"data row257 col4\" >Peppermint</td>\n",
       "      <td id=\"T_8b5f6_row257_col5\" class=\"data row257 col5\" >10,366,070</td>\n",
       "      <td id=\"T_8b5f6_row257_col6\" class=\"data row257 col6\" >20,721,230</td>\n",
       "      <td id=\"T_8b5f6_row257_col7\" class=\"data row257 col7\" >12</td>\n",
       "      <td id=\"T_8b5f6_row257_col8\" class=\"data row257 col8\" > </td>\n",
       "      <td id=\"T_8b5f6_row257_col9\" class=\"data row257 col9\" >12</td>\n",
       "      <td id=\"T_8b5f6_row257_col10\" class=\"data row257 col10\" > </td>\n",
       "      <td id=\"T_8b5f6_row257_col11\" class=\"data row257 col11\" >10,910</td>\n",
       "      <td id=\"T_8b5f6_row257_col12\" class=\"data row257 col12\" >0.11%</td>\n",
       "    </tr>\n",
       "    <tr>\n",
       "      <th id=\"T_8b5f6_level0_row258\" class=\"row_heading level0 row258\" >258</th>\n",
       "      <td id=\"T_8b5f6_row258_col0\" class=\"data row258 col0\" >21 May 2024</td>\n",
       "      <td id=\"T_8b5f6_row258_col1\" class=\"data row258 col1\" >4</td>\n",
       "      <td id=\"T_8b5f6_row258_col2\" class=\"data row258 col2\" >4-2</td>\n",
       "      <td id=\"T_8b5f6_row258_col3\" class=\"data row258 col3\" >재난경보</td>\n",
       "      <td id=\"T_8b5f6_row258_col4\" class=\"data row258 col4\" >재난경보 (jae-nan-gyeong-bo)</td>\n",
       "      <td id=\"T_8b5f6_row258_col5\" class=\"data row258 col5\" >10,269,705</td>\n",
       "      <td id=\"T_8b5f6_row258_col6\" class=\"data row258 col6\" >20,539,590</td>\n",
       "      <td id=\"T_8b5f6_row258_col7\" class=\"data row258 col7\" >13</td>\n",
       "      <td id=\"T_8b5f6_row258_col8\" class=\"data row258 col8\" > </td>\n",
       "      <td id=\"T_8b5f6_row258_col9\" class=\"data row258 col9\" >13</td>\n",
       "      <td id=\"T_8b5f6_row258_col10\" class=\"data row258 col10\" > </td>\n",
       "      <td id=\"T_8b5f6_row258_col11\" class=\"data row258 col11\" >-180</td>\n",
       "      <td id=\"T_8b5f6_row258_col12\" class=\"data row258 col12\" >-0.00%</td>\n",
       "    </tr>\n",
       "    <tr>\n",
       "      <th id=\"T_8b5f6_level0_row259\" class=\"row_heading level0 row259\" >259</th>\n",
       "      <td id=\"T_8b5f6_row259_col0\" class=\"data row259 col0\" >21 May 2024</td>\n",
       "      <td id=\"T_8b5f6_row259_col1\" class=\"data row259 col1\" >4</td>\n",
       "      <td id=\"T_8b5f6_row259_col2\" class=\"data row259 col2\" >4-2</td>\n",
       "      <td id=\"T_8b5f6_row259_col3\" class=\"data row259 col3\" >사혼</td>\n",
       "      <td id=\"T_8b5f6_row259_col4\" class=\"data row259 col4\" >사혼 (sa-hon)</td>\n",
       "      <td id=\"T_8b5f6_row259_col5\" class=\"data row259 col5\" >10,179,930</td>\n",
       "      <td id=\"T_8b5f6_row259_col6\" class=\"data row259 col6\" >20,367,415</td>\n",
       "      <td id=\"T_8b5f6_row259_col7\" class=\"data row259 col7\" >14</td>\n",
       "      <td id=\"T_8b5f6_row259_col8\" class=\"data row259 col8\" > </td>\n",
       "      <td id=\"T_8b5f6_row259_col9\" class=\"data row259 col9\" >14</td>\n",
       "      <td id=\"T_8b5f6_row259_col10\" class=\"data row259 col10\" > </td>\n",
       "      <td id=\"T_8b5f6_row259_col11\" class=\"data row259 col11\" >-7,555</td>\n",
       "      <td id=\"T_8b5f6_row259_col12\" class=\"data row259 col12\" >-0.07%</td>\n",
       "    </tr>\n",
       "    <tr>\n",
       "      <th id=\"T_8b5f6_level0_row260\" class=\"row_heading level0 row260\" >260</th>\n",
       "      <td id=\"T_8b5f6_row260_col0\" class=\"data row260 col0\" >21 May 2024</td>\n",
       "      <td id=\"T_8b5f6_row260_col1\" class=\"data row260 col1\" >4</td>\n",
       "      <td id=\"T_8b5f6_row260_col2\" class=\"data row260 col2\" >4-2</td>\n",
       "      <td id=\"T_8b5f6_row260_col3\" class=\"data row260 col3\" >Nigiri</td>\n",
       "      <td id=\"T_8b5f6_row260_col4\" class=\"data row260 col4\" >Nigiri</td>\n",
       "      <td id=\"T_8b5f6_row260_col5\" class=\"data row260 col5\" >10,024,945</td>\n",
       "      <td id=\"T_8b5f6_row260_col6\" class=\"data row260 col6\" >20,208,155</td>\n",
       "      <td id=\"T_8b5f6_row260_col7\" class=\"data row260 col7\" >15</td>\n",
       "      <td id=\"T_8b5f6_row260_col8\" class=\"data row260 col8\" > </td>\n",
       "      <td id=\"T_8b5f6_row260_col9\" class=\"data row260 col9\" >15</td>\n",
       "      <td id=\"T_8b5f6_row260_col10\" class=\"data row260 col10\" > </td>\n",
       "      <td id=\"T_8b5f6_row260_col11\" class=\"data row260 col11\" >-158,265</td>\n",
       "      <td id=\"T_8b5f6_row260_col12\" class=\"data row260 col12\" >-1.55%</td>\n",
       "    </tr>\n",
       "    <tr>\n",
       "      <th id=\"T_8b5f6_level0_row261\" class=\"row_heading level0 row261\" >261</th>\n",
       "      <td id=\"T_8b5f6_row261_col0\" class=\"data row261 col0\" >21 May 2024</td>\n",
       "      <td id=\"T_8b5f6_row261_col1\" class=\"data row261 col1\" >4</td>\n",
       "      <td id=\"T_8b5f6_row261_col2\" class=\"data row261 col2\" >4-2</td>\n",
       "      <td id=\"T_8b5f6_row261_col3\" class=\"data row261 col3\" >MyTH</td>\n",
       "      <td id=\"T_8b5f6_row261_col4\" class=\"data row261 col4\" >MyTH</td>\n",
       "      <td id=\"T_8b5f6_row261_col5\" class=\"data row261 col5\" >9,944,370</td>\n",
       "      <td id=\"T_8b5f6_row261_col6\" class=\"data row261 col6\" >19,792,945</td>\n",
       "      <td id=\"T_8b5f6_row261_col7\" class=\"data row261 col7\" >16</td>\n",
       "      <td id=\"T_8b5f6_row261_col8\" class=\"data row261 col8\" > </td>\n",
       "      <td id=\"T_8b5f6_row261_col9\" class=\"data row261 col9\" >16</td>\n",
       "      <td id=\"T_8b5f6_row261_col10\" class=\"data row261 col10\" > </td>\n",
       "      <td id=\"T_8b5f6_row261_col11\" class=\"data row261 col11\" >95,795</td>\n",
       "      <td id=\"T_8b5f6_row261_col12\" class=\"data row261 col12\" >0.97%</td>\n",
       "    </tr>\n",
       "    <tr>\n",
       "      <th id=\"T_8b5f6_level0_row262\" class=\"row_heading level0 row262\" >262</th>\n",
       "      <td id=\"T_8b5f6_row262_col0\" class=\"data row262 col0\" >21 May 2024</td>\n",
       "      <td id=\"T_8b5f6_row262_col1\" class=\"data row262 col1\" >4</td>\n",
       "      <td id=\"T_8b5f6_row262_col2\" class=\"data row262 col2\" >4-2</td>\n",
       "      <td id=\"T_8b5f6_row262_col3\" class=\"data row262 col3\" >S7AR</td>\n",
       "      <td id=\"T_8b5f6_row262_col4\" class=\"data row262 col4\" >S7AR</td>\n",
       "      <td id=\"T_8b5f6_row262_col5\" class=\"data row262 col5\" >9,942,625</td>\n",
       "      <td id=\"T_8b5f6_row262_col6\" class=\"data row262 col6\" >19,714,575</td>\n",
       "      <td id=\"T_8b5f6_row262_col7\" class=\"data row262 col7\" >17</td>\n",
       "      <td id=\"T_8b5f6_row262_col8\" class=\"data row262 col8\" > </td>\n",
       "      <td id=\"T_8b5f6_row262_col9\" class=\"data row262 col9\" >17</td>\n",
       "      <td id=\"T_8b5f6_row262_col10\" class=\"data row262 col10\" > </td>\n",
       "      <td id=\"T_8b5f6_row262_col11\" class=\"data row262 col11\" >170,675</td>\n",
       "      <td id=\"T_8b5f6_row262_col12\" class=\"data row262 col12\" >1.75%</td>\n",
       "    </tr>\n",
       "    <tr>\n",
       "      <th id=\"T_8b5f6_level0_row263\" class=\"row_heading level0 row263\" >263</th>\n",
       "      <td id=\"T_8b5f6_row263_col0\" class=\"data row263 col0\" >21 May 2024</td>\n",
       "      <td id=\"T_8b5f6_row263_col1\" class=\"data row263 col1\" >4</td>\n",
       "      <td id=\"T_8b5f6_row263_col2\" class=\"data row263 col2\" >4-2</td>\n",
       "      <td id=\"T_8b5f6_row263_col3\" class=\"data row263 col3\" >Nobility</td>\n",
       "      <td id=\"T_8b5f6_row263_col4\" class=\"data row263 col4\" >Nobility</td>\n",
       "      <td id=\"T_8b5f6_row263_col5\" class=\"data row263 col5\" >9,875,030</td>\n",
       "      <td id=\"T_8b5f6_row263_col6\" class=\"data row263 col6\" >19,596,815</td>\n",
       "      <td id=\"T_8b5f6_row263_col7\" class=\"data row263 col7\" >18</td>\n",
       "      <td id=\"T_8b5f6_row263_col8\" class=\"data row263 col8\" > </td>\n",
       "      <td id=\"T_8b5f6_row263_col9\" class=\"data row263 col9\" >18</td>\n",
       "      <td id=\"T_8b5f6_row263_col10\" class=\"data row263 col10\" > </td>\n",
       "      <td id=\"T_8b5f6_row263_col11\" class=\"data row263 col11\" >153,245</td>\n",
       "      <td id=\"T_8b5f6_row263_col12\" class=\"data row263 col12\" >1.58%</td>\n",
       "    </tr>\n",
       "    <tr>\n",
       "      <th id=\"T_8b5f6_level0_row264\" class=\"row_heading level0 row264\" >264</th>\n",
       "      <td id=\"T_8b5f6_row264_col0\" class=\"data row264 col0\" >21 May 2024</td>\n",
       "      <td id=\"T_8b5f6_row264_col1\" class=\"data row264 col1\" >4</td>\n",
       "      <td id=\"T_8b5f6_row264_col2\" class=\"data row264 col2\" >4-2</td>\n",
       "      <td id=\"T_8b5f6_row264_col3\" class=\"data row264 col3\" >감동</td>\n",
       "      <td id=\"T_8b5f6_row264_col4\" class=\"data row264 col4\" >감동 (gam-dong)</td>\n",
       "      <td id=\"T_8b5f6_row264_col5\" class=\"data row264 col5\" >9,793,060</td>\n",
       "      <td id=\"T_8b5f6_row264_col6\" class=\"data row264 col6\" >19,511,665</td>\n",
       "      <td id=\"T_8b5f6_row264_col7\" class=\"data row264 col7\" >19</td>\n",
       "      <td id=\"T_8b5f6_row264_col8\" class=\"data row264 col8\" > </td>\n",
       "      <td id=\"T_8b5f6_row264_col9\" class=\"data row264 col9\" >19</td>\n",
       "      <td id=\"T_8b5f6_row264_col10\" class=\"data row264 col10\" > </td>\n",
       "      <td id=\"T_8b5f6_row264_col11\" class=\"data row264 col11\" >74,455</td>\n",
       "      <td id=\"T_8b5f6_row264_col12\" class=\"data row264 col12\" >0.77%</td>\n",
       "    </tr>\n",
       "    <tr>\n",
       "      <th id=\"T_8b5f6_level0_row265\" class=\"row_heading level0 row265\" >265</th>\n",
       "      <td id=\"T_8b5f6_row265_col0\" class=\"data row265 col0\" >21 May 2024</td>\n",
       "      <td id=\"T_8b5f6_row265_col1\" class=\"data row265 col1\" >4</td>\n",
       "      <td id=\"T_8b5f6_row265_col2\" class=\"data row265 col2\" >4-2</td>\n",
       "      <td id=\"T_8b5f6_row265_col3\" class=\"data row265 col3\" >DEKWAT</td>\n",
       "      <td id=\"T_8b5f6_row265_col4\" class=\"data row265 col4\" >DEKWAT</td>\n",
       "      <td id=\"T_8b5f6_row265_col5\" class=\"data row265 col5\" >9,701,790</td>\n",
       "      <td id=\"T_8b5f6_row265_col6\" class=\"data row265 col6\" >19,411,890</td>\n",
       "      <td id=\"T_8b5f6_row265_col7\" class=\"data row265 col7\" >20</td>\n",
       "      <td id=\"T_8b5f6_row265_col8\" class=\"data row265 col8\" > </td>\n",
       "      <td id=\"T_8b5f6_row265_col9\" class=\"data row265 col9\" >20</td>\n",
       "      <td id=\"T_8b5f6_row265_col10\" class=\"data row265 col10\" > </td>\n",
       "      <td id=\"T_8b5f6_row265_col11\" class=\"data row265 col11\" >-8,310</td>\n",
       "      <td id=\"T_8b5f6_row265_col12\" class=\"data row265 col12\" >-0.09%</td>\n",
       "    </tr>\n",
       "    <tr>\n",
       "      <th id=\"T_8b5f6_level0_row266\" class=\"row_heading level0 row266\" >266</th>\n",
       "      <td id=\"T_8b5f6_row266_col0\" class=\"data row266 col0\" >28 May 2024</td>\n",
       "      <td id=\"T_8b5f6_row266_col1\" class=\"data row266 col1\" >4</td>\n",
       "      <td id=\"T_8b5f6_row266_col2\" class=\"data row266 col2\" >4-3</td>\n",
       "      <td id=\"T_8b5f6_row266_col3\" class=\"data row266 col3\" >Vivid</td>\n",
       "      <td id=\"T_8b5f6_row266_col4\" class=\"data row266 col4\" >Vivid</td>\n",
       "      <td id=\"T_8b5f6_row266_col5\" class=\"data row266 col5\" >12,498,900</td>\n",
       "      <td id=\"T_8b5f6_row266_col6\" class=\"data row266 col6\" >36,137,405</td>\n",
       "      <td id=\"T_8b5f6_row266_col7\" class=\"data row266 col7\" >1</td>\n",
       "      <td id=\"T_8b5f6_row266_col8\" class=\"data row266 col8\" > </td>\n",
       "      <td id=\"T_8b5f6_row266_col9\" class=\"data row266 col9\" >1</td>\n",
       "      <td id=\"T_8b5f6_row266_col10\" class=\"data row266 col10\" > </td>\n",
       "      <td id=\"T_8b5f6_row266_col11\" class=\"data row266 col11\" >716,715</td>\n",
       "      <td id=\"T_8b5f6_row266_col12\" class=\"data row266 col12\" >6.08%</td>\n",
       "    </tr>\n",
       "    <tr>\n",
       "      <th id=\"T_8b5f6_level0_row267\" class=\"row_heading level0 row267\" >267</th>\n",
       "      <td id=\"T_8b5f6_row267_col0\" class=\"data row267 col0\" >28 May 2024</td>\n",
       "      <td id=\"T_8b5f6_row267_col1\" class=\"data row267 col1\" >4</td>\n",
       "      <td id=\"T_8b5f6_row267_col2\" class=\"data row267 col2\" >4-3</td>\n",
       "      <td id=\"T_8b5f6_row267_col3\" class=\"data row267 col3\" >Spearmint</td>\n",
       "      <td id=\"T_8b5f6_row267_col4\" class=\"data row267 col4\" >Spearmint</td>\n",
       "      <td id=\"T_8b5f6_row267_col5\" class=\"data row267 col5\" >12,495,730</td>\n",
       "      <td id=\"T_8b5f6_row267_col6\" class=\"data row267 col6\" >36,037,060</td>\n",
       "      <td id=\"T_8b5f6_row267_col7\" class=\"data row267 col7\" >2</td>\n",
       "      <td id=\"T_8b5f6_row267_col8\" class=\"data row267 col8\" > </td>\n",
       "      <td id=\"T_8b5f6_row267_col9\" class=\"data row267 col9\" >2</td>\n",
       "      <td id=\"T_8b5f6_row267_col10\" class=\"data row267 col10\" > </td>\n",
       "      <td id=\"T_8b5f6_row267_col11\" class=\"data row267 col11\" >727,665</td>\n",
       "      <td id=\"T_8b5f6_row267_col12\" class=\"data row267 col12\" >6.18%</td>\n",
       "    </tr>\n",
       "    <tr>\n",
       "      <th id=\"T_8b5f6_level0_row268\" class=\"row_heading level0 row268\" >268</th>\n",
       "      <td id=\"T_8b5f6_row268_col0\" class=\"data row268 col0\" >28 May 2024</td>\n",
       "      <td id=\"T_8b5f6_row268_col1\" class=\"data row268 col1\" >4</td>\n",
       "      <td id=\"T_8b5f6_row268_col2\" class=\"data row268 col2\" >4-3</td>\n",
       "      <td id=\"T_8b5f6_row268_col3\" class=\"data row268 col3\" >Nobless</td>\n",
       "      <td id=\"T_8b5f6_row268_col4\" class=\"data row268 col4\" >Nobless</td>\n",
       "      <td id=\"T_8b5f6_row268_col5\" class=\"data row268 col5\" >11,943,105</td>\n",
       "      <td id=\"T_8b5f6_row268_col6\" class=\"data row268 col6\" >34,748,675</td>\n",
       "      <td id=\"T_8b5f6_row268_col7\" class=\"data row268 col7\" >4</td>\n",
       "      <td id=\"T_8b5f6_row268_col8\" class=\"data row268 col8\" > ▲1</td>\n",
       "      <td id=\"T_8b5f6_row268_col9\" class=\"data row268 col9\" >3</td>\n",
       "      <td id=\"T_8b5f6_row268_col10\" class=\"data row268 col10\" > </td>\n",
       "      <td id=\"T_8b5f6_row268_col11\" class=\"data row268 col11\" >535,415</td>\n",
       "      <td id=\"T_8b5f6_row268_col12\" class=\"data row268 col12\" >4.69%</td>\n",
       "    </tr>\n",
       "    <tr>\n",
       "      <th id=\"T_8b5f6_level0_row269\" class=\"row_heading level0 row269\" >269</th>\n",
       "      <td id=\"T_8b5f6_row269_col0\" class=\"data row269 col0\" >28 May 2024</td>\n",
       "      <td id=\"T_8b5f6_row269_col1\" class=\"data row269 col1\" >4</td>\n",
       "      <td id=\"T_8b5f6_row269_col2\" class=\"data row269 col2\" >4-3</td>\n",
       "      <td id=\"T_8b5f6_row269_col3\" class=\"data row269 col3\" >님</td>\n",
       "      <td id=\"T_8b5f6_row269_col4\" class=\"data row269 col4\" >님 (nim)</td>\n",
       "      <td id=\"T_8b5f6_row269_col5\" class=\"data row269 col5\" >12,114,505</td>\n",
       "      <td id=\"T_8b5f6_row269_col6\" class=\"data row269 col6\" >34,585,445</td>\n",
       "      <td id=\"T_8b5f6_row269_col7\" class=\"data row269 col7\" >3</td>\n",
       "      <td id=\"T_8b5f6_row269_col8\" class=\"data row269 col8\" > ▲4</td>\n",
       "      <td id=\"T_8b5f6_row269_col9\" class=\"data row269 col9\" >4</td>\n",
       "      <td id=\"T_8b5f6_row269_col10\" class=\"data row269 col10\" > ▲2</td>\n",
       "      <td id=\"T_8b5f6_row269_col11\" class=\"data row269 col11\" >883,745</td>\n",
       "      <td id=\"T_8b5f6_row269_col12\" class=\"data row269 col12\" >7.87%</td>\n",
       "    </tr>\n",
       "    <tr>\n",
       "      <th id=\"T_8b5f6_level0_row270\" class=\"row_heading level0 row270\" >270</th>\n",
       "      <td id=\"T_8b5f6_row270_col0\" class=\"data row270 col0\" >28 May 2024</td>\n",
       "      <td id=\"T_8b5f6_row270_col1\" class=\"data row270 col1\" >4</td>\n",
       "      <td id=\"T_8b5f6_row270_col2\" class=\"data row270 col2\" >4-3</td>\n",
       "      <td id=\"T_8b5f6_row270_col3\" class=\"data row270 col3\" >LAODA</td>\n",
       "      <td id=\"T_8b5f6_row270_col4\" class=\"data row270 col4\" >LAODA</td>\n",
       "      <td id=\"T_8b5f6_row270_col5\" class=\"data row270 col5\" >11,859,400</td>\n",
       "      <td id=\"T_8b5f6_row270_col6\" class=\"data row270 col6\" >34,512,980</td>\n",
       "      <td id=\"T_8b5f6_row270_col7\" class=\"data row270 col7\" >5</td>\n",
       "      <td id=\"T_8b5f6_row270_col8\" class=\"data row270 col8\" > ▼2</td>\n",
       "      <td id=\"T_8b5f6_row270_col9\" class=\"data row270 col9\" >5</td>\n",
       "      <td id=\"T_8b5f6_row270_col10\" class=\"data row270 col10\" > ▼1</td>\n",
       "      <td id=\"T_8b5f6_row270_col11\" class=\"data row270 col11\" >448,085</td>\n",
       "      <td id=\"T_8b5f6_row270_col12\" class=\"data row270 col12\" >3.93%</td>\n",
       "    </tr>\n",
       "    <tr>\n",
       "      <th id=\"T_8b5f6_level0_row271\" class=\"row_heading level0 row271\" >271</th>\n",
       "      <td id=\"T_8b5f6_row271_col0\" class=\"data row271 col0\" >28 May 2024</td>\n",
       "      <td id=\"T_8b5f6_row271_col1\" class=\"data row271 col1\" >4</td>\n",
       "      <td id=\"T_8b5f6_row271_col2\" class=\"data row271 col2\" >4-3</td>\n",
       "      <td id=\"T_8b5f6_row271_col3\" class=\"data row271 col3\" >이지스</td>\n",
       "      <td id=\"T_8b5f6_row271_col4\" class=\"data row271 col4\" >이지스 (aegis)</td>\n",
       "      <td id=\"T_8b5f6_row271_col5\" class=\"data row271 col5\" >11,851,050</td>\n",
       "      <td id=\"T_8b5f6_row271_col6\" class=\"data row271 col6\" >34,408,105</td>\n",
       "      <td id=\"T_8b5f6_row271_col7\" class=\"data row271 col7\" >6</td>\n",
       "      <td id=\"T_8b5f6_row271_col8\" class=\"data row271 col8\" > ▼2</td>\n",
       "      <td id=\"T_8b5f6_row271_col9\" class=\"data row271 col9\" >6</td>\n",
       "      <td id=\"T_8b5f6_row271_col10\" class=\"data row271 col10\" > ▼1</td>\n",
       "      <td id=\"T_8b5f6_row271_col11\" class=\"data row271 col11\" >442,105</td>\n",
       "      <td id=\"T_8b5f6_row271_col12\" class=\"data row271 col12\" >3.88%</td>\n",
       "    </tr>\n",
       "    <tr>\n",
       "      <th id=\"T_8b5f6_level0_row272\" class=\"row_heading level0 row272\" >272</th>\n",
       "      <td id=\"T_8b5f6_row272_col0\" class=\"data row272 col0\" >28 May 2024</td>\n",
       "      <td id=\"T_8b5f6_row272_col1\" class=\"data row272 col1\" >4</td>\n",
       "      <td id=\"T_8b5f6_row272_col2\" class=\"data row272 col2\" >4-3</td>\n",
       "      <td id=\"T_8b5f6_row272_col3\" class=\"data row272 col3\" >미라클</td>\n",
       "      <td id=\"T_8b5f6_row272_col4\" class=\"data row272 col4\" >미라클 (miracle)</td>\n",
       "      <td id=\"T_8b5f6_row272_col5\" class=\"data row272 col5\" >11,762,665</td>\n",
       "      <td id=\"T_8b5f6_row272_col6\" class=\"data row272 col6\" >34,137,975</td>\n",
       "      <td id=\"T_8b5f6_row272_col7\" class=\"data row272 col7\" >7</td>\n",
       "      <td id=\"T_8b5f6_row272_col8\" class=\"data row272 col8\" > ▼1</td>\n",
       "      <td id=\"T_8b5f6_row272_col9\" class=\"data row272 col9\" >7</td>\n",
       "      <td id=\"T_8b5f6_row272_col10\" class=\"data row272 col10\" > </td>\n",
       "      <td id=\"T_8b5f6_row272_col11\" class=\"data row272 col11\" >529,075</td>\n",
       "      <td id=\"T_8b5f6_row272_col12\" class=\"data row272 col12\" >4.71%</td>\n",
       "    </tr>\n",
       "    <tr>\n",
       "      <th id=\"T_8b5f6_level0_row273\" class=\"row_heading level0 row273\" >273</th>\n",
       "      <td id=\"T_8b5f6_row273_col0\" class=\"data row273 col0\" >28 May 2024</td>\n",
       "      <td id=\"T_8b5f6_row273_col1\" class=\"data row273 col1\" >4</td>\n",
       "      <td id=\"T_8b5f6_row273_col2\" class=\"data row273 col2\" >4-3</td>\n",
       "      <td id=\"T_8b5f6_row273_col3\" class=\"data row273 col3\" >Crown</td>\n",
       "      <td id=\"T_8b5f6_row273_col4\" class=\"data row273 col4\" >Crown</td>\n",
       "      <td id=\"T_8b5f6_row273_col5\" class=\"data row273 col5\" >11,572,160</td>\n",
       "      <td id=\"T_8b5f6_row273_col6\" class=\"data row273 col6\" >33,852,530</td>\n",
       "      <td id=\"T_8b5f6_row273_col7\" class=\"data row273 col7\" >9</td>\n",
       "      <td id=\"T_8b5f6_row273_col8\" class=\"data row273 col8\" > ▼1</td>\n",
       "      <td id=\"T_8b5f6_row273_col9\" class=\"data row273 col9\" >8</td>\n",
       "      <td id=\"T_8b5f6_row273_col10\" class=\"data row273 col10\" > </td>\n",
       "      <td id=\"T_8b5f6_row273_col11\" class=\"data row273 col11\" >345,600</td>\n",
       "      <td id=\"T_8b5f6_row273_col12\" class=\"data row273 col12\" >3.08%</td>\n",
       "    </tr>\n",
       "    <tr>\n",
       "      <th id=\"T_8b5f6_level0_row274\" class=\"row_heading level0 row274\" >274</th>\n",
       "      <td id=\"T_8b5f6_row274_col0\" class=\"data row274 col0\" >28 May 2024</td>\n",
       "      <td id=\"T_8b5f6_row274_col1\" class=\"data row274 col1\" >4</td>\n",
       "      <td id=\"T_8b5f6_row274_col2\" class=\"data row274 col2\" >4-3</td>\n",
       "      <td id=\"T_8b5f6_row274_col3\" class=\"data row274 col3\" >MolochTH</td>\n",
       "      <td id=\"T_8b5f6_row274_col4\" class=\"data row274 col4\" >MolochTH</td>\n",
       "      <td id=\"T_8b5f6_row274_col5\" class=\"data row274 col5\" >11,477,380</td>\n",
       "      <td id=\"T_8b5f6_row274_col6\" class=\"data row274 col6\" >33,669,210</td>\n",
       "      <td id=\"T_8b5f6_row274_col7\" class=\"data row274 col7\" >10</td>\n",
       "      <td id=\"T_8b5f6_row274_col8\" class=\"data row274 col8\" > ▼1</td>\n",
       "      <td id=\"T_8b5f6_row274_col9\" class=\"data row274 col9\" >9</td>\n",
       "      <td id=\"T_8b5f6_row274_col10\" class=\"data row274 col10\" > </td>\n",
       "      <td id=\"T_8b5f6_row274_col11\" class=\"data row274 col11\" >334,440</td>\n",
       "      <td id=\"T_8b5f6_row274_col12\" class=\"data row274 col12\" >3.00%</td>\n",
       "    </tr>\n",
       "    <tr>\n",
       "      <th id=\"T_8b5f6_level0_row275\" class=\"row_heading level0 row275\" >275</th>\n",
       "      <td id=\"T_8b5f6_row275_col0\" class=\"data row275 col0\" >28 May 2024</td>\n",
       "      <td id=\"T_8b5f6_row275_col1\" class=\"data row275 col1\" >4</td>\n",
       "      <td id=\"T_8b5f6_row275_col2\" class=\"data row275 col2\" >4-3</td>\n",
       "      <td id=\"T_8b5f6_row275_col3\" class=\"data row275 col3\" >열매</td>\n",
       "      <td id=\"T_8b5f6_row275_col4\" class=\"data row275 col4\" >열매 (yeol-mae)</td>\n",
       "      <td id=\"T_8b5f6_row275_col5\" class=\"data row275 col5\" >11,665,790</td>\n",
       "      <td id=\"T_8b5f6_row275_col6\" class=\"data row275 col6\" >33,596,155</td>\n",
       "      <td id=\"T_8b5f6_row275_col7\" class=\"data row275 col7\" >8</td>\n",
       "      <td id=\"T_8b5f6_row275_col8\" class=\"data row275 col8\" > ▲3</td>\n",
       "      <td id=\"T_8b5f6_row275_col9\" class=\"data row275 col9\" >10</td>\n",
       "      <td id=\"T_8b5f6_row275_col10\" class=\"data row275 col10\" > </td>\n",
       "      <td id=\"T_8b5f6_row275_col11\" class=\"data row275 col11\" >780,605</td>\n",
       "      <td id=\"T_8b5f6_row275_col12\" class=\"data row275 col12\" >7.17%</td>\n",
       "    </tr>\n",
       "    <tr>\n",
       "      <th id=\"T_8b5f6_level0_row276\" class=\"row_heading level0 row276\" >276</th>\n",
       "      <td id=\"T_8b5f6_row276_col0\" class=\"data row276 col0\" >28 May 2024</td>\n",
       "      <td id=\"T_8b5f6_row276_col1\" class=\"data row276 col1\" >4</td>\n",
       "      <td id=\"T_8b5f6_row276_col2\" class=\"data row276 col2\" >4-3</td>\n",
       "      <td id=\"T_8b5f6_row276_col3\" class=\"data row276 col3\" >무야호</td>\n",
       "      <td id=\"T_8b5f6_row276_col4\" class=\"data row276 col4\" >무야호 (mu-ya-ho)</td>\n",
       "      <td id=\"T_8b5f6_row276_col5\" class=\"data row276 col5\" >11,393,470</td>\n",
       "      <td id=\"T_8b5f6_row276_col6\" class=\"data row276 col6\" >33,168,610</td>\n",
       "      <td id=\"T_8b5f6_row276_col7\" class=\"data row276 col7\" >11</td>\n",
       "      <td id=\"T_8b5f6_row276_col8\" class=\"data row276 col8\" > ▼1</td>\n",
       "      <td id=\"T_8b5f6_row276_col9\" class=\"data row276 col9\" >11</td>\n",
       "      <td id=\"T_8b5f6_row276_col10\" class=\"data row276 col10\" > </td>\n",
       "      <td id=\"T_8b5f6_row276_col11\" class=\"data row276 col11\" >423,290</td>\n",
       "      <td id=\"T_8b5f6_row276_col12\" class=\"data row276 col12\" >3.86%</td>\n",
       "    </tr>\n",
       "    <tr>\n",
       "      <th id=\"T_8b5f6_level0_row277\" class=\"row_heading level0 row277\" >277</th>\n",
       "      <td id=\"T_8b5f6_row277_col0\" class=\"data row277 col0\" >28 May 2024</td>\n",
       "      <td id=\"T_8b5f6_row277_col1\" class=\"data row277 col1\" >4</td>\n",
       "      <td id=\"T_8b5f6_row277_col2\" class=\"data row277 col2\" >4-3</td>\n",
       "      <td id=\"T_8b5f6_row277_col3\" class=\"data row277 col3\" >Peppermint</td>\n",
       "      <td id=\"T_8b5f6_row277_col4\" class=\"data row277 col4\" >Peppermint</td>\n",
       "      <td id=\"T_8b5f6_row277_col5\" class=\"data row277 col5\" >10,777,680</td>\n",
       "      <td id=\"T_8b5f6_row277_col6\" class=\"data row277 col6\" >31,498,910</td>\n",
       "      <td id=\"T_8b5f6_row277_col7\" class=\"data row277 col7\" >15</td>\n",
       "      <td id=\"T_8b5f6_row277_col8\" class=\"data row277 col8\" > ▼3</td>\n",
       "      <td id=\"T_8b5f6_row277_col9\" class=\"data row277 col9\" >12</td>\n",
       "      <td id=\"T_8b5f6_row277_col10\" class=\"data row277 col10\" > </td>\n",
       "      <td id=\"T_8b5f6_row277_col11\" class=\"data row277 col11\" >411,610</td>\n",
       "      <td id=\"T_8b5f6_row277_col12\" class=\"data row277 col12\" >3.97%</td>\n",
       "    </tr>\n",
       "    <tr>\n",
       "      <th id=\"T_8b5f6_level0_row278\" class=\"row_heading level0 row278\" >278</th>\n",
       "      <td id=\"T_8b5f6_row278_col0\" class=\"data row278 col0\" >28 May 2024</td>\n",
       "      <td id=\"T_8b5f6_row278_col1\" class=\"data row278 col1\" >4</td>\n",
       "      <td id=\"T_8b5f6_row278_col2\" class=\"data row278 col2\" >4-3</td>\n",
       "      <td id=\"T_8b5f6_row278_col3\" class=\"data row278 col3\" >재난경보</td>\n",
       "      <td id=\"T_8b5f6_row278_col4\" class=\"data row278 col4\" >재난경보 (jae-nan-gyeong-bo)</td>\n",
       "      <td id=\"T_8b5f6_row278_col5\" class=\"data row278 col5\" >10,862,640</td>\n",
       "      <td id=\"T_8b5f6_row278_col6\" class=\"data row278 col6\" >31,402,230</td>\n",
       "      <td id=\"T_8b5f6_row278_col7\" class=\"data row278 col7\" >13</td>\n",
       "      <td id=\"T_8b5f6_row278_col8\" class=\"data row278 col8\" > </td>\n",
       "      <td id=\"T_8b5f6_row278_col9\" class=\"data row278 col9\" >13</td>\n",
       "      <td id=\"T_8b5f6_row278_col10\" class=\"data row278 col10\" > </td>\n",
       "      <td id=\"T_8b5f6_row278_col11\" class=\"data row278 col11\" >592,935</td>\n",
       "      <td id=\"T_8b5f6_row278_col12\" class=\"data row278 col12\" >5.77%</td>\n",
       "    </tr>\n",
       "    <tr>\n",
       "      <th id=\"T_8b5f6_level0_row279\" class=\"row_heading level0 row279\" >279</th>\n",
       "      <td id=\"T_8b5f6_row279_col0\" class=\"data row279 col0\" >28 May 2024</td>\n",
       "      <td id=\"T_8b5f6_row279_col1\" class=\"data row279 col1\" >4</td>\n",
       "      <td id=\"T_8b5f6_row279_col2\" class=\"data row279 col2\" >4-3</td>\n",
       "      <td id=\"T_8b5f6_row279_col3\" class=\"data row279 col3\" >사혼</td>\n",
       "      <td id=\"T_8b5f6_row279_col4\" class=\"data row279 col4\" >사혼 (sa-hon)</td>\n",
       "      <td id=\"T_8b5f6_row279_col5\" class=\"data row279 col5\" >10,945,000</td>\n",
       "      <td id=\"T_8b5f6_row279_col6\" class=\"data row279 col6\" >31,312,415</td>\n",
       "      <td id=\"T_8b5f6_row279_col7\" class=\"data row279 col7\" >12</td>\n",
       "      <td id=\"T_8b5f6_row279_col8\" class=\"data row279 col8\" > ▲2</td>\n",
       "      <td id=\"T_8b5f6_row279_col9\" class=\"data row279 col9\" >14</td>\n",
       "      <td id=\"T_8b5f6_row279_col10\" class=\"data row279 col10\" > </td>\n",
       "      <td id=\"T_8b5f6_row279_col11\" class=\"data row279 col11\" >765,070</td>\n",
       "      <td id=\"T_8b5f6_row279_col12\" class=\"data row279 col12\" >7.52%</td>\n",
       "    </tr>\n",
       "    <tr>\n",
       "      <th id=\"T_8b5f6_level0_row280\" class=\"row_heading level0 row280\" >280</th>\n",
       "      <td id=\"T_8b5f6_row280_col0\" class=\"data row280 col0\" >28 May 2024</td>\n",
       "      <td id=\"T_8b5f6_row280_col1\" class=\"data row280 col1\" >4</td>\n",
       "      <td id=\"T_8b5f6_row280_col2\" class=\"data row280 col2\" >4-3</td>\n",
       "      <td id=\"T_8b5f6_row280_col3\" class=\"data row280 col3\" >Nigiri</td>\n",
       "      <td id=\"T_8b5f6_row280_col4\" class=\"data row280 col4\" >Nigiri</td>\n",
       "      <td id=\"T_8b5f6_row280_col5\" class=\"data row280 col5\" >10,778,050</td>\n",
       "      <td id=\"T_8b5f6_row280_col6\" class=\"data row280 col6\" >30,986,205</td>\n",
       "      <td id=\"T_8b5f6_row280_col7\" class=\"data row280 col7\" >14</td>\n",
       "      <td id=\"T_8b5f6_row280_col8\" class=\"data row280 col8\" > ▲1</td>\n",
       "      <td id=\"T_8b5f6_row280_col9\" class=\"data row280 col9\" >15</td>\n",
       "      <td id=\"T_8b5f6_row280_col10\" class=\"data row280 col10\" > </td>\n",
       "      <td id=\"T_8b5f6_row280_col11\" class=\"data row280 col11\" >753,105</td>\n",
       "      <td id=\"T_8b5f6_row280_col12\" class=\"data row280 col12\" >7.51%</td>\n",
       "    </tr>\n",
       "    <tr>\n",
       "      <th id=\"T_8b5f6_level0_row281\" class=\"row_heading level0 row281\" >281</th>\n",
       "      <td id=\"T_8b5f6_row281_col0\" class=\"data row281 col0\" >28 May 2024</td>\n",
       "      <td id=\"T_8b5f6_row281_col1\" class=\"data row281 col1\" >4</td>\n",
       "      <td id=\"T_8b5f6_row281_col2\" class=\"data row281 col2\" >4-3</td>\n",
       "      <td id=\"T_8b5f6_row281_col3\" class=\"data row281 col3\" >MyTH</td>\n",
       "      <td id=\"T_8b5f6_row281_col4\" class=\"data row281 col4\" >MyTH</td>\n",
       "      <td id=\"T_8b5f6_row281_col5\" class=\"data row281 col5\" >10,346,185</td>\n",
       "      <td id=\"T_8b5f6_row281_col6\" class=\"data row281 col6\" >30,139,130</td>\n",
       "      <td id=\"T_8b5f6_row281_col7\" class=\"data row281 col7\" >17</td>\n",
       "      <td id=\"T_8b5f6_row281_col8\" class=\"data row281 col8\" > ▼1</td>\n",
       "      <td id=\"T_8b5f6_row281_col9\" class=\"data row281 col9\" >16</td>\n",
       "      <td id=\"T_8b5f6_row281_col10\" class=\"data row281 col10\" > </td>\n",
       "      <td id=\"T_8b5f6_row281_col11\" class=\"data row281 col11\" >401,815</td>\n",
       "      <td id=\"T_8b5f6_row281_col12\" class=\"data row281 col12\" >4.04%</td>\n",
       "    </tr>\n",
       "    <tr>\n",
       "      <th id=\"T_8b5f6_level0_row282\" class=\"row_heading level0 row282\" >282</th>\n",
       "      <td id=\"T_8b5f6_row282_col0\" class=\"data row282 col0\" >28 May 2024</td>\n",
       "      <td id=\"T_8b5f6_row282_col1\" class=\"data row282 col1\" >4</td>\n",
       "      <td id=\"T_8b5f6_row282_col2\" class=\"data row282 col2\" >4-3</td>\n",
       "      <td id=\"T_8b5f6_row282_col3\" class=\"data row282 col3\" >Nobility</td>\n",
       "      <td id=\"T_8b5f6_row282_col4\" class=\"data row282 col4\" >Nobility</td>\n",
       "      <td id=\"T_8b5f6_row282_col5\" class=\"data row282 col5\" >10,445,040</td>\n",
       "      <td id=\"T_8b5f6_row282_col6\" class=\"data row282 col6\" >30,041,855</td>\n",
       "      <td id=\"T_8b5f6_row282_col7\" class=\"data row282 col7\" >16</td>\n",
       "      <td id=\"T_8b5f6_row282_col8\" class=\"data row282 col8\" > ▲2</td>\n",
       "      <td id=\"T_8b5f6_row282_col9\" class=\"data row282 col9\" >17</td>\n",
       "      <td id=\"T_8b5f6_row282_col10\" class=\"data row282 col10\" > ▲1</td>\n",
       "      <td id=\"T_8b5f6_row282_col11\" class=\"data row282 col11\" >570,010</td>\n",
       "      <td id=\"T_8b5f6_row282_col12\" class=\"data row282 col12\" >5.77%</td>\n",
       "    </tr>\n",
       "    <tr>\n",
       "      <th id=\"T_8b5f6_level0_row283\" class=\"row_heading level0 row283\" >283</th>\n",
       "      <td id=\"T_8b5f6_row283_col0\" class=\"data row283 col0\" >28 May 2024</td>\n",
       "      <td id=\"T_8b5f6_row283_col1\" class=\"data row283 col1\" >4</td>\n",
       "      <td id=\"T_8b5f6_row283_col2\" class=\"data row283 col2\" >4-3</td>\n",
       "      <td id=\"T_8b5f6_row283_col3\" class=\"data row283 col3\" >S7AR</td>\n",
       "      <td id=\"T_8b5f6_row283_col4\" class=\"data row283 col4\" >S7AR</td>\n",
       "      <td id=\"T_8b5f6_row283_col5\" class=\"data row283 col5\" >10,270,005</td>\n",
       "      <td id=\"T_8b5f6_row283_col6\" class=\"data row283 col6\" >29,984,580</td>\n",
       "      <td id=\"T_8b5f6_row283_col7\" class=\"data row283 col7\" >19</td>\n",
       "      <td id=\"T_8b5f6_row283_col8\" class=\"data row283 col8\" > ▼2</td>\n",
       "      <td id=\"T_8b5f6_row283_col9\" class=\"data row283 col9\" >18</td>\n",
       "      <td id=\"T_8b5f6_row283_col10\" class=\"data row283 col10\" > ▼1</td>\n",
       "      <td id=\"T_8b5f6_row283_col11\" class=\"data row283 col11\" >327,380</td>\n",
       "      <td id=\"T_8b5f6_row283_col12\" class=\"data row283 col12\" >3.29%</td>\n",
       "    </tr>\n",
       "    <tr>\n",
       "      <th id=\"T_8b5f6_level0_row284\" class=\"row_heading level0 row284\" >284</th>\n",
       "      <td id=\"T_8b5f6_row284_col0\" class=\"data row284 col0\" >28 May 2024</td>\n",
       "      <td id=\"T_8b5f6_row284_col1\" class=\"data row284 col1\" >4</td>\n",
       "      <td id=\"T_8b5f6_row284_col2\" class=\"data row284 col2\" >4-3</td>\n",
       "      <td id=\"T_8b5f6_row284_col3\" class=\"data row284 col3\" >감동</td>\n",
       "      <td id=\"T_8b5f6_row284_col4\" class=\"data row284 col4\" >감동 (gam-dong)</td>\n",
       "      <td id=\"T_8b5f6_row284_col5\" class=\"data row284 col5\" >9,872,795</td>\n",
       "      <td id=\"T_8b5f6_row284_col6\" class=\"data row284 col6\" >29,384,460</td>\n",
       "      <td id=\"T_8b5f6_row284_col7\" class=\"data row284 col7\" >20</td>\n",
       "      <td id=\"T_8b5f6_row284_col8\" class=\"data row284 col8\" > ▼1</td>\n",
       "      <td id=\"T_8b5f6_row284_col9\" class=\"data row284 col9\" >19</td>\n",
       "      <td id=\"T_8b5f6_row284_col10\" class=\"data row284 col10\" > </td>\n",
       "      <td id=\"T_8b5f6_row284_col11\" class=\"data row284 col11\" >79,735</td>\n",
       "      <td id=\"T_8b5f6_row284_col12\" class=\"data row284 col12\" >0.81%</td>\n",
       "    </tr>\n",
       "    <tr>\n",
       "      <th id=\"T_8b5f6_level0_row285\" class=\"row_heading level0 row285\" >285</th>\n",
       "      <td id=\"T_8b5f6_row285_col0\" class=\"data row285 col0\" >28 May 2024</td>\n",
       "      <td id=\"T_8b5f6_row285_col1\" class=\"data row285 col1\" >4</td>\n",
       "      <td id=\"T_8b5f6_row285_col2\" class=\"data row285 col2\" >4-3</td>\n",
       "      <td id=\"T_8b5f6_row285_col3\" class=\"data row285 col3\" >DEKWAT</td>\n",
       "      <td id=\"T_8b5f6_row285_col4\" class=\"data row285 col4\" >DEKWAT</td>\n",
       "      <td id=\"T_8b5f6_row285_col5\" class=\"data row285 col5\" >10,286,850</td>\n",
       "      <td id=\"T_8b5f6_row285_col6\" class=\"data row285 col6\" >29,698,740</td>\n",
       "      <td id=\"T_8b5f6_row285_col7\" class=\"data row285 col7\" >18</td>\n",
       "      <td id=\"T_8b5f6_row285_col8\" class=\"data row285 col8\" > ▲2</td>\n",
       "      <td id=\"T_8b5f6_row285_col9\" class=\"data row285 col9\" >20</td>\n",
       "      <td id=\"T_8b5f6_row285_col10\" class=\"data row285 col10\" > </td>\n",
       "      <td id=\"T_8b5f6_row285_col11\" class=\"data row285 col11\" >585,060</td>\n",
       "      <td id=\"T_8b5f6_row285_col12\" class=\"data row285 col12\" >6.03%</td>\n",
       "    </tr>\n",
       "  </tbody>\n",
       "</table>\n"
      ],
      "text/plain": [
       "<pandas.io.formats.style.Styler at 0x1b0159d43d0>"
      ]
     },
     "execution_count": 19,
     "metadata": {},
     "output_type": "execute_result"
    }
   ],
   "source": [
    "style_df(data)"
   ]
  },
  {
   "cell_type": "code",
   "execution_count": 20,
   "metadata": {},
   "outputs": [
    {
     "name": "stdout",
     "output_type": "stream",
     "text": [
      "<class 'pandas.core.frame.DataFrame'>\n",
      "RangeIndex: 286 entries, 0 to 285\n",
      "Data columns (total 13 columns):\n",
      " #   Column          Non-Null Count  Dtype         \n",
      "---  ------          --------------  -----         \n",
      " 0   Date            286 non-null    datetime64[ns]\n",
      " 1   Season          286 non-null    category      \n",
      " 2   Round           286 non-null    category      \n",
      " 3   GuildName       286 non-null    string        \n",
      " 4   GuildNameExtra  286 non-null    string        \n",
      " 5   Trophies        286 non-null    int64         \n",
      " 6   SeasonTotal     286 non-null    int64         \n",
      " 7   RoundRank       286 non-null    category      \n",
      " 8   DiffRoundRank   286 non-null    int64         \n",
      " 9   SeasonRank      286 non-null    category      \n",
      " 10  DiffSeasonRank  286 non-null    int64         \n",
      " 11  Improvement     286 non-null    int64         \n",
      " 12  GrowthRate      286 non-null    float64       \n",
      "dtypes: category(4), datetime64[ns](1), float64(1), int64(5), string(2)\n",
      "memory usage: 23.6 KB\n"
     ]
    }
   ],
   "source": [
    "data.info()"
   ]
  },
  {
   "cell_type": "code",
   "execution_count": 21,
   "metadata": {},
   "outputs": [
    {
     "name": "stdout",
     "output_type": "stream",
     "text": [
      "data :  Season \n",
      " Index([1, 2, 3, 4], dtype='int64') \n",
      " \n",
      "\n",
      "data :  Round \n",
      " Index(['1-1', '1-2', '1-3', '1-4', '2-1', '2-2', '2-3', '2-4', '3-1', '3-2',\n",
      "       '3-3', '4-1', '4-2', '4-3'],\n",
      "      dtype='object') \n",
      " \n",
      "\n",
      "data :  RoundRank \n",
      " Index([1, 2, 3, 4, 5, 6, 7, 8, 9, 10, 11, 12, 13, 14, 15, 16, 17, 18, 19, 20,\n",
      "       21],\n",
      "      dtype='int64') \n",
      " \n",
      "\n",
      "data :  SeasonRank \n",
      " Index([ 1,  2,  3,  4,  5,  6,  7,  8,  9, 10, 11, 12, 13, 14, 15, 16, 17, 18,\n",
      "       19, 20, 21, 22, 23, 24],\n",
      "      dtype='int64') \n",
      " \n",
      "\n"
     ]
    }
   ],
   "source": [
    "for col in data.select_dtypes(include=[\"category\"]):\n",
    "    print(\"data : \", col, \"\\n\", data[col].cat.categories, \"\\n\", \"\\n\")"
   ]
  },
  {
   "cell_type": "markdown",
   "metadata": {},
   "source": [
    "# EDA\n"
   ]
  },
  {
   "cell_type": "code",
   "execution_count": 22,
   "metadata": {},
   "outputs": [],
   "source": [
    "report = ProfileReport(\n",
    "    df=data,\n",
    "    title=f\"Exploratory Data Analysis report: {file_path}\",\n",
    "    dark_mode=True,\n",
    "    config_file=r\"report\\config.json\",\n",
    ")"
   ]
  },
  {
   "cell_type": "markdown",
   "metadata": {},
   "source": [
    "## displaying the report as a set of widgets\n"
   ]
  },
  {
   "cell_type": "code",
   "execution_count": 23,
   "metadata": {},
   "outputs": [],
   "source": [
    "# report.to_widgets()"
   ]
  },
  {
   "cell_type": "code",
   "execution_count": null,
   "metadata": {},
   "outputs": [],
   "source": [
    "report.to_notebook_iframe()"
   ]
  },
  {
   "cell_type": "markdown",
   "metadata": {},
   "source": [
    "## generate a HTML report file\n"
   ]
  },
  {
   "cell_type": "code",
   "execution_count": null,
   "metadata": {},
   "outputs": [],
   "source": [
    "save_path = r\"report/CRK_guild_boss_EDA_report.html\"\n",
    "# save_path\n",
    "\n",
    "report.to_file(save_path)"
   ]
  },
  {
   "cell_type": "markdown",
   "metadata": {},
   "source": [
    "# Report table\n"
   ]
  },
  {
   "cell_type": "code",
   "execution_count": 25,
   "metadata": {},
   "outputs": [],
   "source": [
    "rename_idx = {\n",
    "    \"미라클\": \"미라클 (miracle)\",\n",
    "    \"님\": \"님 (nim)\",\n",
    "    \"오로라\": \"오로라 (aurora)\",\n",
    "    \"무야호\": \"무야호 (muyaho)\",\n",
    "    \"열매\": \"열매 (yeol-mae)\",\n",
    "    \"이지스\": \"이지스 (aegis)\",\n",
    "    \"재난경보\": \"재난경보 (jae-nan-gyeong-bo)\",\n",
    "    \"사혼\": \"사혼 (sa-hon)\",\n",
    "    \"쿠벤저스\": \"쿠벤저스 (cubengers)\",\n",
    "    \"秋\": \"秋 (aki)\",\n",
    "}"
   ]
  },
  {
   "cell_type": "code",
   "execution_count": null,
   "metadata": {},
   "outputs": [],
   "source": [
    "rep_table = (\n",
    "    data.pivot_table(\n",
    "        index=\"GuildNameExtra\",\n",
    "        columns=[\"Round\"],\n",
    "        values=[\"SeasonRank\", \"Trophies\"],\n",
    "        aggfunc=\"max\",\n",
    "        observed=True,\n",
    "    )\n",
    "    .sort_index(axis=1, ascending=False)\n",
    "    .sort_values(by=(\"SeasonRank\", \"3-2\"))\n",
    ")\n",
    "\n",
    "rep_table.rename(index=rename_idx, inplace=True)\n",
    "\n",
    "rep_table = rep_table.astype(\"Int64\")\n",
    "\n",
    "style_df(rep_table.T)"
   ]
  },
  {
   "cell_type": "code",
   "execution_count": null,
   "metadata": {},
   "outputs": [],
   "source": []
  },
  {
   "cell_type": "markdown",
   "metadata": {},
   "source": [
    "# Plots\n"
   ]
  },
  {
   "cell_type": "markdown",
   "metadata": {},
   "source": [
    "## Ranking Over Time of Top 10"
   ]
  },
  {
   "cell_type": "code",
   "execution_count": 30,
   "metadata": {},
   "outputs": [
    {
     "data": {
      "application/vnd.plotly.v1+json": {
       "config": {
        "plotlyServerURL": "https://plot.ly"
       },
       "data": [
        {
         "customdata": [
          [
           "Spearmint",
           "2024-02-27T00:00:00",
           10513190,
           10513190
          ],
          [
           "Spearmint",
           "2024-03-05T00:00:00",
           10692545,
           21205735
          ],
          [
           "Spearmint",
           "2024-03-12T00:00:00",
           10770870,
           31976605
          ],
          [
           "Spearmint",
           "2024-03-19T00:00:00",
           10779410,
           42756015
          ],
          [
           "Spearmint",
           "2024-03-26T00:00:00",
           10949190,
           10949190
          ],
          [
           "Spearmint",
           "2024-04-02T00:00:00",
           11036070,
           21985260
          ],
          [
           "Spearmint",
           "2024-04-09T00:00:00",
           11037250,
           33022510
          ],
          [
           "Spearmint",
           "2024-04-16T00:00:00",
           11044970,
           44067480
          ],
          [
           "Spearmint",
           "2024-04-23T00:00:00",
           11216060,
           11216060
          ],
          [
           "Spearmint",
           "2024-04-30T00:00:00",
           11211090,
           22427150
          ],
          [
           "Spearmint",
           "2024-05-07T00:00:00",
           11122140,
           33549290
          ],
          [
           "Spearmint",
           "2024-05-14T00:00:00",
           11773265,
           11773265
          ],
          [
           "Spearmint",
           "2024-05-21T00:00:00",
           11768065,
           23541330
          ],
          [
           "Spearmint",
           "2024-05-28T00:00:00",
           12495730,
           36037060
          ]
         ],
         "hovertemplate": "<b>%{hovertext}</b><br><br>Season=%{x}<br>Date=%{customdata[1]|%d %B %Y}<br>Trophies=%{customdata[2]:,.0f}<br>SeasonTotal=%{customdata[3]:,.0f}<extra></extra>",
         "hovertext": [
          "Spearmint",
          "Spearmint",
          "Spearmint",
          "Spearmint",
          "Spearmint",
          "Spearmint",
          "Spearmint",
          "Spearmint",
          "Spearmint",
          "Spearmint",
          "Spearmint",
          "Spearmint",
          "Spearmint",
          "Spearmint"
         ],
         "legendgroup": "Spearmint",
         "line": {
          "color": "#3366CC",
          "dash": "solid",
          "shape": "linear"
         },
         "marker": {
          "size": 20,
          "symbol": "circle"
         },
         "mode": "lines+markers+text",
         "name": "Spearmint",
         "orientation": "v",
         "showlegend": true,
         "text": [
          1,
          1,
          1,
          1,
          1,
          1,
          1,
          1,
          1,
          1,
          2,
          2,
          2,
          2
         ],
         "textfont": {
          "color": "White",
          "family": "Arial",
          "size": 12
         },
         "textposition": "middle center",
         "type": "scatter",
         "x": [
          "1-1",
          "1-2",
          "1-3",
          "1-4",
          "2-1",
          "2-2",
          "2-3",
          "2-4",
          "3-1",
          "3-2",
          "3-3",
          "4-1",
          "4-2",
          "4-3"
         ],
         "xaxis": "x",
         "y": [
          1,
          1,
          1,
          1,
          1,
          1,
          1,
          1,
          1,
          1,
          2,
          2,
          2,
          2
         ],
         "yaxis": "y"
        },
        {
         "customdata": [
          [
           "Vivid",
           "2024-02-27T00:00:00",
           10510940,
           10510940
          ],
          [
           "Vivid",
           "2024-03-05T00:00:00",
           10598695,
           21109635
          ],
          [
           "Vivid",
           "2024-03-12T00:00:00",
           10690270,
           31799905
          ],
          [
           "Vivid",
           "2024-03-19T00:00:00",
           10702360,
           42502265
          ],
          [
           "Vivid",
           "2024-03-26T00:00:00",
           10866400,
           10866400
          ],
          [
           "Vivid",
           "2024-04-02T00:00:00",
           10945065,
           21811465
          ],
          [
           "Vivid",
           "2024-04-09T00:00:00",
           11028425,
           32839890
          ],
          [
           "Vivid",
           "2024-04-16T00:00:00",
           11128220,
           43968110
          ],
          [
           "Vivid",
           "2024-04-23T00:00:00",
           11041545,
           11041545
          ],
          [
           "Vivid",
           "2024-04-30T00:00:00",
           11115440,
           22156985
          ],
          [
           "Vivid",
           "2024-05-07T00:00:00",
           11398630,
           33555615
          ],
          [
           "Vivid",
           "2024-05-14T00:00:00",
           11856320,
           11856320
          ],
          [
           "Vivid",
           "2024-05-21T00:00:00",
           11782185,
           23638505
          ],
          [
           "Vivid",
           "2024-05-28T00:00:00",
           12498900,
           36137405
          ]
         ],
         "hovertemplate": "<b>%{hovertext}</b><br><br>Season=%{x}<br>Date=%{customdata[1]|%d %B %Y}<br>Trophies=%{customdata[2]:,.0f}<br>SeasonTotal=%{customdata[3]:,.0f}<extra></extra>",
         "hovertext": [
          "Vivid",
          "Vivid",
          "Vivid",
          "Vivid",
          "Vivid",
          "Vivid",
          "Vivid",
          "Vivid",
          "Vivid",
          "Vivid",
          "Vivid",
          "Vivid",
          "Vivid",
          "Vivid"
         ],
         "legendgroup": "Vivid",
         "line": {
          "color": "#DC3912",
          "dash": "solid",
          "shape": "linear"
         },
         "marker": {
          "size": 20,
          "symbol": "circle"
         },
         "mode": "lines+markers+text",
         "name": "Vivid",
         "orientation": "v",
         "showlegend": true,
         "text": [
          2,
          2,
          2,
          2,
          2,
          2,
          2,
          2,
          2,
          2,
          1,
          1,
          1,
          1
         ],
         "textfont": {
          "color": "White",
          "family": "Arial",
          "size": 12
         },
         "textposition": "middle center",
         "type": "scatter",
         "x": [
          "1-1",
          "1-2",
          "1-3",
          "1-4",
          "2-1",
          "2-2",
          "2-3",
          "2-4",
          "3-1",
          "3-2",
          "3-3",
          "4-1",
          "4-2",
          "4-3"
         ],
         "xaxis": "x",
         "y": [
          2,
          2,
          2,
          2,
          2,
          2,
          2,
          2,
          2,
          2,
          1,
          1,
          1,
          1
         ],
         "yaxis": "y"
        },
        {
         "customdata": [
          [
           "Nobless",
           "2024-02-27T00:00:00",
           10251975,
           10251975
          ],
          [
           "Nobless",
           "2024-03-05T00:00:00",
           10259645,
           20511620
          ],
          [
           "Nobless",
           "2024-03-12T00:00:00",
           10424260,
           30935880
          ],
          [
           "Nobless",
           "2024-03-19T00:00:00",
           10349095,
           41284975
          ],
          [
           "Nobless",
           "2024-03-26T00:00:00",
           10517570,
           10517570
          ],
          [
           "Nobless",
           "2024-04-02T00:00:00",
           10532845,
           21050415
          ],
          [
           "Nobless",
           "2024-04-09T00:00:00",
           10762930,
           31813345
          ],
          [
           "Nobless",
           "2024-04-16T00:00:00",
           10767570,
           42580915
          ],
          [
           "Nobless",
           "2024-04-23T00:00:00",
           10792615,
           10792615
          ],
          [
           "Nobless",
           "2024-04-30T00:00:00",
           10781320,
           21573935
          ],
          [
           "Nobless",
           "2024-05-07T00:00:00",
           10865505,
           32439440
          ],
          [
           "Nobless",
           "2024-05-14T00:00:00",
           11397880,
           11397880
          ],
          [
           "Nobless",
           "2024-05-21T00:00:00",
           11407690,
           22805570
          ],
          [
           "Nobless",
           "2024-05-28T00:00:00",
           11943105,
           34748675
          ]
         ],
         "hovertemplate": "<b>%{hovertext}</b><br><br>Season=%{x}<br>Date=%{customdata[1]|%d %B %Y}<br>Trophies=%{customdata[2]:,.0f}<br>SeasonTotal=%{customdata[3]:,.0f}<extra></extra>",
         "hovertext": [
          "Nobless",
          "Nobless",
          "Nobless",
          "Nobless",
          "Nobless",
          "Nobless",
          "Nobless",
          "Nobless",
          "Nobless",
          "Nobless",
          "Nobless",
          "Nobless",
          "Nobless",
          "Nobless"
         ],
         "legendgroup": "Nobless",
         "line": {
          "color": "#FF9900",
          "dash": "solid",
          "shape": "linear"
         },
         "marker": {
          "size": 20,
          "symbol": "circle"
         },
         "mode": "lines+markers+text",
         "name": "Nobless",
         "orientation": "v",
         "showlegend": true,
         "text": [
          3,
          3,
          3,
          3,
          3,
          3,
          3,
          3,
          3,
          3,
          3,
          3,
          3,
          3
         ],
         "textfont": {
          "color": "White",
          "family": "Arial",
          "size": 12
         },
         "textposition": "middle center",
         "type": "scatter",
         "x": [
          "1-1",
          "1-2",
          "1-3",
          "1-4",
          "2-1",
          "2-2",
          "2-3",
          "2-4",
          "3-1",
          "3-2",
          "3-3",
          "4-1",
          "4-2",
          "4-3"
         ],
         "xaxis": "x",
         "y": [
          3,
          3,
          3,
          3,
          3,
          3,
          3,
          3,
          3,
          3,
          3,
          3,
          3,
          3
         ],
         "yaxis": "y"
        },
        {
         "customdata": [
          [
           "LAODA",
           "2024-02-27T00:00:00",
           10011795,
           10011795
          ],
          [
           "LAODA",
           "2024-03-05T00:00:00",
           10091870,
           20103665
          ],
          [
           "LAODA",
           "2024-03-12T00:00:00",
           10103600,
           30207265
          ],
          [
           "LAODA",
           "2024-03-19T00:00:00",
           10174935,
           40382200
          ],
          [
           "LAODA",
           "2024-03-26T00:00:00",
           10260975,
           10260975
          ],
          [
           "LAODA",
           "2024-04-02T00:00:00",
           10340180,
           20601155
          ],
          [
           "LAODA",
           "2024-04-09T00:00:00",
           10520225,
           31121380
          ],
          [
           "LAODA",
           "2024-04-16T00:00:00",
           10600065,
           41721445
          ],
          [
           "LAODA",
           "2024-04-23T00:00:00",
           10609375,
           10609375
          ],
          [
           "LAODA",
           "2024-04-30T00:00:00",
           10691550,
           21300925
          ],
          [
           "LAODA",
           "2024-05-07T00:00:00",
           10778080,
           32079005
          ],
          [
           "LAODA",
           "2024-05-14T00:00:00",
           11242265,
           11242265
          ],
          [
           "LAODA",
           "2024-05-21T00:00:00",
           11411315,
           22653580
          ],
          [
           "LAODA",
           "2024-05-28T00:00:00",
           11859400,
           34512980
          ]
         ],
         "hovertemplate": "<b>%{hovertext}</b><br><br>Season=%{x}<br>Date=%{customdata[1]|%d %B %Y}<br>Trophies=%{customdata[2]:,.0f}<br>SeasonTotal=%{customdata[3]:,.0f}<extra></extra>",
         "hovertext": [
          "LAODA",
          "LAODA",
          "LAODA",
          "LAODA",
          "LAODA",
          "LAODA",
          "LAODA",
          "LAODA",
          "LAODA",
          "LAODA",
          "LAODA",
          "LAODA",
          "LAODA",
          "LAODA"
         ],
         "legendgroup": "LAODA",
         "line": {
          "color": "#109618",
          "dash": "solid",
          "shape": "linear"
         },
         "marker": {
          "size": 20,
          "symbol": "circle"
         },
         "mode": "lines+markers+text",
         "name": "LAODA",
         "orientation": "v",
         "showlegend": true,
         "text": [
          4,
          4,
          4,
          4,
          6,
          6,
          4,
          4,
          5,
          5,
          5,
          4,
          4,
          5
         ],
         "textfont": {
          "color": "White",
          "family": "Arial",
          "size": 12
         },
         "textposition": "middle center",
         "type": "scatter",
         "x": [
          "1-1",
          "1-2",
          "1-3",
          "1-4",
          "2-1",
          "2-2",
          "2-3",
          "2-4",
          "3-1",
          "3-2",
          "3-3",
          "4-1",
          "4-2",
          "4-3"
         ],
         "xaxis": "x",
         "y": [
          4,
          4,
          4,
          4,
          6,
          6,
          4,
          4,
          5,
          5,
          5,
          4,
          4,
          5
         ],
         "yaxis": "y"
        },
        {
         "customdata": [
          [
           "미라클 (miracle)",
           "2024-02-27T00:00:00",
           9930645,
           9930645
          ],
          [
           "미라클 (miracle)",
           "2024-03-05T00:00:00",
           9930695,
           19861340
          ],
          [
           "미라클 (miracle)",
           "2024-03-12T00:00:00",
           10096910,
           29958250
          ],
          [
           "미라클 (miracle)",
           "2024-03-19T00:00:00",
           10263565,
           40221815
          ],
          [
           "미라클 (miracle)",
           "2024-03-26T00:00:00",
           10343795,
           10343795
          ],
          [
           "미라클 (miracle)",
           "2024-04-02T00:00:00",
           10352155,
           20695950
          ],
          [
           "미라클 (miracle)",
           "2024-04-09T00:00:00",
           10346675,
           31042625
          ],
          [
           "미라클 (miracle)",
           "2024-04-16T00:00:00",
           10433690,
           41476315
          ],
          [
           "미라클 (miracle)",
           "2024-04-23T00:00:00",
           10510435,
           10510435
          ],
          [
           "미라클 (miracle)",
           "2024-04-30T00:00:00",
           10599700,
           21110135
          ],
          [
           "미라클 (miracle)",
           "2024-05-07T00:00:00",
           10518955,
           31629090
          ],
          [
           "미라클 (miracle)",
           "2024-05-14T00:00:00",
           11141720,
           11141720
          ],
          [
           "미라클 (miracle)",
           "2024-05-21T00:00:00",
           11233590,
           22375310
          ],
          [
           "미라클 (miracle)",
           "2024-05-28T00:00:00",
           11762665,
           34137975
          ]
         ],
         "hovertemplate": "<b>%{hovertext}</b><br><br>Season=%{x}<br>Date=%{customdata[1]|%d %B %Y}<br>Trophies=%{customdata[2]:,.0f}<br>SeasonTotal=%{customdata[3]:,.0f}<extra></extra>",
         "hovertext": [
          "미라클 (miracle)",
          "미라클 (miracle)",
          "미라클 (miracle)",
          "미라클 (miracle)",
          "미라클 (miracle)",
          "미라클 (miracle)",
          "미라클 (miracle)",
          "미라클 (miracle)",
          "미라클 (miracle)",
          "미라클 (miracle)",
          "미라클 (miracle)",
          "미라클 (miracle)",
          "미라클 (miracle)",
          "미라클 (miracle)"
         ],
         "legendgroup": "미라클 (miracle)",
         "line": {
          "color": "#990099",
          "dash": "solid",
          "shape": "linear"
         },
         "marker": {
          "size": 20,
          "symbol": "circle"
         },
         "mode": "lines+markers+text",
         "name": "미라클 (miracle)",
         "orientation": "v",
         "showlegend": true,
         "text": [
          5,
          5,
          5,
          5,
          4,
          4,
          5,
          5,
          7,
          7,
          8,
          7,
          7,
          7
         ],
         "textfont": {
          "color": "White",
          "family": "Arial",
          "size": 12
         },
         "textposition": "middle center",
         "type": "scatter",
         "x": [
          "1-1",
          "1-2",
          "1-3",
          "1-4",
          "2-1",
          "2-2",
          "2-3",
          "2-4",
          "3-1",
          "3-2",
          "3-3",
          "4-1",
          "4-2",
          "4-3"
         ],
         "xaxis": "x",
         "y": [
          5,
          5,
          5,
          5,
          4,
          4,
          5,
          5,
          7,
          7,
          8,
          7,
          7,
          7
         ],
         "yaxis": "y"
        },
        {
         "customdata": [
          [
           "님 (nim)",
           "2024-02-27T00:00:00",
           9688065,
           9688065
          ],
          [
           "님 (nim)",
           "2024-03-05T00:00:00",
           10173275,
           19861340
          ],
          [
           "님 (nim)",
           "2024-03-12T00:00:00",
           9678260,
           29539600
          ],
          [
           "님 (nim)",
           "2024-03-19T00:00:00",
           10005140,
           39544740
          ],
          [
           "님 (nim)",
           "2024-03-26T00:00:00",
           10262110,
           10262110
          ],
          [
           "님 (nim)",
           "2024-04-02T00:00:00",
           10350005,
           20612115
          ],
          [
           "님 (nim)",
           "2024-04-09T00:00:00",
           10351645,
           30963760
          ],
          [
           "님 (nim)",
           "2024-04-16T00:00:00",
           10426780,
           41390540
          ],
          [
           "님 (nim)",
           "2024-04-23T00:00:00",
           10621980,
           10621980
          ],
          [
           "님 (nim)",
           "2024-04-30T00:00:00",
           10683770,
           21305750
          ],
          [
           "님 (nim)",
           "2024-05-07T00:00:00",
           10791950,
           32097700
          ],
          [
           "님 (nim)",
           "2024-05-14T00:00:00",
           11240180,
           11240180
          ],
          [
           "님 (nim)",
           "2024-05-21T00:00:00",
           11230760,
           22470940
          ],
          [
           "님 (nim)",
           "2024-05-28T00:00:00",
           12114505,
           34585445
          ]
         ],
         "hovertemplate": "<b>%{hovertext}</b><br><br>Season=%{x}<br>Date=%{customdata[1]|%d %B %Y}<br>Trophies=%{customdata[2]:,.0f}<br>SeasonTotal=%{customdata[3]:,.0f}<extra></extra>",
         "hovertext": [
          "님 (nim)",
          "님 (nim)",
          "님 (nim)",
          "님 (nim)",
          "님 (nim)",
          "님 (nim)",
          "님 (nim)",
          "님 (nim)",
          "님 (nim)",
          "님 (nim)",
          "님 (nim)",
          "님 (nim)",
          "님 (nim)",
          "님 (nim)"
         ],
         "legendgroup": "님 (nim)",
         "line": {
          "color": "#0099C6",
          "dash": "solid",
          "shape": "linear"
         },
         "marker": {
          "size": 20,
          "symbol": "circle"
         },
         "mode": "lines+markers+text",
         "name": "님 (nim)",
         "orientation": "v",
         "showlegend": true,
         "text": [
          6,
          6,
          6,
          6,
          5,
          5,
          6,
          6,
          4,
          4,
          4,
          5,
          6,
          4
         ],
         "textfont": {
          "color": "White",
          "family": "Arial",
          "size": 12
         },
         "textposition": "middle center",
         "type": "scatter",
         "x": [
          "1-1",
          "1-2",
          "1-3",
          "1-4",
          "2-1",
          "2-2",
          "2-3",
          "2-4",
          "3-1",
          "3-2",
          "3-3",
          "4-1",
          "4-2",
          "4-3"
         ],
         "xaxis": "x",
         "y": [
          6,
          6,
          6,
          6,
          5,
          5,
          6,
          6,
          4,
          4,
          4,
          5,
          6,
          4
         ],
         "yaxis": "y"
        },
        {
         "customdata": [
          [
           "Crown",
           "2024-02-27T00:00:00",
           9591650,
           9591650
          ],
          [
           "Crown",
           "2024-03-05T00:00:00",
           9836010,
           19427660
          ],
          [
           "Crown",
           "2024-03-12T00:00:00",
           9835780,
           29263440
          ],
          [
           "Crown",
           "2024-03-19T00:00:00",
           10085080,
           39348520
          ],
          [
           "Crown",
           "2024-03-26T00:00:00",
           10165695,
           10165695
          ],
          [
           "Crown",
           "2024-04-02T00:00:00",
           10165775,
           20331470
          ],
          [
           "Crown",
           "2024-04-09T00:00:00",
           10084940,
           30416410
          ],
          [
           "Crown",
           "2024-04-16T00:00:00",
           10508315,
           40924725
          ],
          [
           "Crown",
           "2024-04-23T00:00:00",
           10430030,
           10430030
          ],
          [
           "Crown",
           "2024-04-30T00:00:00",
           10595575,
           21025605
          ],
          [
           "Crown",
           "2024-05-07T00:00:00",
           10679720,
           31705325
          ],
          [
           "Crown",
           "2024-05-14T00:00:00",
           11053810,
           11053810
          ],
          [
           "Crown",
           "2024-05-21T00:00:00",
           11226560,
           22280370
          ],
          [
           "Crown",
           "2024-05-28T00:00:00",
           11572160,
           33852530
          ]
         ],
         "hovertemplate": "<b>%{hovertext}</b><br><br>Season=%{x}<br>Date=%{customdata[1]|%d %B %Y}<br>Trophies=%{customdata[2]:,.0f}<br>SeasonTotal=%{customdata[3]:,.0f}<extra></extra>",
         "hovertext": [
          "Crown",
          "Crown",
          "Crown",
          "Crown",
          "Crown",
          "Crown",
          "Crown",
          "Crown",
          "Crown",
          "Crown",
          "Crown",
          "Crown",
          "Crown",
          "Crown"
         ],
         "legendgroup": "Crown",
         "line": {
          "color": "#DD4477",
          "dash": "solid",
          "shape": "linear"
         },
         "marker": {
          "size": 20,
          "symbol": "circle"
         },
         "mode": "lines+markers+text",
         "name": "Crown",
         "orientation": "v",
         "showlegend": true,
         "text": [
          8,
          7,
          7,
          7,
          7,
          7,
          8,
          8,
          9,
          8,
          7,
          8,
          8,
          8
         ],
         "textfont": {
          "color": "White",
          "family": "Arial",
          "size": 12
         },
         "textposition": "middle center",
         "type": "scatter",
         "x": [
          "1-1",
          "1-2",
          "1-3",
          "1-4",
          "2-1",
          "2-2",
          "2-3",
          "2-4",
          "3-1",
          "3-2",
          "3-3",
          "4-1",
          "4-2",
          "4-3"
         ],
         "xaxis": "x",
         "y": [
          8,
          7,
          7,
          7,
          7,
          7,
          8,
          8,
          9,
          8,
          7,
          8,
          8,
          8
         ],
         "yaxis": "y"
        },
        {
         "customdata": [
          [
           "열매 (yeol-mae)",
           "2024-02-27T00:00:00",
           9516665,
           9516665
          ],
          [
           "열매 (yeol-mae)",
           "2024-03-05T00:00:00",
           9683165,
           19199830
          ],
          [
           "열매 (yeol-mae)",
           "2024-03-12T00:00:00",
           9685015,
           28884845
          ],
          [
           "열매 (yeol-mae)",
           "2024-03-19T00:00:00",
           9686065,
           38570910
          ],
          [
           "열매 (yeol-mae)",
           "2024-03-26T00:00:00",
           9936820,
           9936820
          ],
          [
           "열매 (yeol-mae)",
           "2024-04-02T00:00:00",
           9934520,
           19871340
          ],
          [
           "열매 (yeol-mae)",
           "2024-04-09T00:00:00",
           10108120,
           29979460
          ],
          [
           "열매 (yeol-mae)",
           "2024-04-16T00:00:00",
           10188930,
           40168390
          ],
          [
           "열매 (yeol-mae)",
           "2024-04-23T00:00:00",
           10265120,
           10265120
          ],
          [
           "열매 (yeol-mae)",
           "2024-04-30T00:00:00",
           10350345,
           20615465
          ],
          [
           "열매 (yeol-mae)",
           "2024-05-07T00:00:00",
           10433560,
           31049025
          ],
          [
           "열매 (yeol-mae)",
           "2024-05-14T00:00:00",
           11045180,
           11045180
          ],
          [
           "열매 (yeol-mae)",
           "2024-05-21T00:00:00",
           10885185,
           21930365
          ],
          [
           "열매 (yeol-mae)",
           "2024-05-28T00:00:00",
           11665790,
           33596155
          ]
         ],
         "hovertemplate": "<b>%{hovertext}</b><br><br>Season=%{x}<br>Date=%{customdata[1]|%d %B %Y}<br>Trophies=%{customdata[2]:,.0f}<br>SeasonTotal=%{customdata[3]:,.0f}<extra></extra>",
         "hovertext": [
          "열매 (yeol-mae)",
          "열매 (yeol-mae)",
          "열매 (yeol-mae)",
          "열매 (yeol-mae)",
          "열매 (yeol-mae)",
          "열매 (yeol-mae)",
          "열매 (yeol-mae)",
          "열매 (yeol-mae)",
          "열매 (yeol-mae)",
          "열매 (yeol-mae)",
          "열매 (yeol-mae)",
          "열매 (yeol-mae)",
          "열매 (yeol-mae)",
          "열매 (yeol-mae)"
         ],
         "legendgroup": "열매 (yeol-mae)",
         "line": {
          "color": "#66AA00",
          "dash": "solid",
          "shape": "linear"
         },
         "marker": {
          "size": 20,
          "symbol": "circle"
         },
         "mode": "lines+markers+text",
         "name": "열매 (yeol-mae)",
         "orientation": "v",
         "showlegend": true,
         "text": [
          10,
          9,
          9,
          10,
          10,
          10,
          10,
          10,
          10,
          10,
          10,
          10,
          10,
          10
         ],
         "textfont": {
          "color": "White",
          "family": "Arial",
          "size": 12
         },
         "textposition": "middle center",
         "type": "scatter",
         "x": [
          "1-1",
          "1-2",
          "1-3",
          "1-4",
          "2-1",
          "2-2",
          "2-3",
          "2-4",
          "3-1",
          "3-2",
          "3-3",
          "4-1",
          "4-2",
          "4-3"
         ],
         "xaxis": "x",
         "y": [
          10,
          9,
          9,
          10,
          10,
          10,
          10,
          10,
          10,
          10,
          10,
          10,
          10,
          10
         ],
         "yaxis": "y"
        },
        {
         "customdata": [
          [
           "MolochTH",
           "2024-02-27T00:00:00",
           9356625,
           9356625
          ],
          [
           "MolochTH",
           "2024-03-05T00:00:00",
           9530190,
           18886815
          ],
          [
           "MolochTH",
           "2024-03-12T00:00:00",
           9763490,
           28650305
          ],
          [
           "MolochTH",
           "2024-03-19T00:00:00",
           9841245,
           38491550
          ],
          [
           "MolochTH",
           "2024-03-26T00:00:00",
           9931170,
           9931170
          ],
          [
           "MolochTH",
           "2024-04-02T00:00:00",
           10094570,
           20025740
          ],
          [
           "MolochTH",
           "2024-04-09T00:00:00",
           10262850,
           30288590
          ],
          [
           "MolochTH",
           "2024-04-16T00:00:00",
           10256305,
           40544895
          ],
          [
           "MolochTH",
           "2024-04-23T00:00:00",
           10430590,
           10430590
          ],
          [
           "MolochTH",
           "2024-04-30T00:00:00",
           10520085,
           20950675
          ],
          [
           "MolochTH",
           "2024-05-07T00:00:00",
           10598615,
           31549290
          ],
          [
           "MolochTH",
           "2024-05-14T00:00:00",
           11048890,
           11048890
          ],
          [
           "MolochTH",
           "2024-05-21T00:00:00",
           11142940,
           22191830
          ],
          [
           "MolochTH",
           "2024-05-28T00:00:00",
           11477380,
           33669210
          ]
         ],
         "hovertemplate": "<b>%{hovertext}</b><br><br>Season=%{x}<br>Date=%{customdata[1]|%d %B %Y}<br>Trophies=%{customdata[2]:,.0f}<br>SeasonTotal=%{customdata[3]:,.0f}<extra></extra>",
         "hovertext": [
          "MolochTH",
          "MolochTH",
          "MolochTH",
          "MolochTH",
          "MolochTH",
          "MolochTH",
          "MolochTH",
          "MolochTH",
          "MolochTH",
          "MolochTH",
          "MolochTH",
          "MolochTH",
          "MolochTH",
          "MolochTH"
         ],
         "legendgroup": "MolochTH",
         "line": {
          "color": "#B82E2E",
          "dash": "solid",
          "shape": "linear"
         },
         "marker": {
          "size": 20,
          "symbol": "circle"
         },
         "mode": "lines+markers+text",
         "name": "MolochTH",
         "orientation": "v",
         "showlegend": true,
         "text": [
          11,
          11,
          11,
          11,
          11,
          9,
          9,
          9,
          8,
          9,
          9,
          9,
          9,
          9
         ],
         "textfont": {
          "color": "White",
          "family": "Arial",
          "size": 12
         },
         "textposition": "middle center",
         "type": "scatter",
         "x": [
          "1-1",
          "1-2",
          "1-3",
          "1-4",
          "2-1",
          "2-2",
          "2-3",
          "2-4",
          "3-1",
          "3-2",
          "3-3",
          "4-1",
          "4-2",
          "4-3"
         ],
         "xaxis": "x",
         "y": [
          11,
          11,
          11,
          11,
          11,
          9,
          9,
          9,
          8,
          9,
          9,
          9,
          9,
          9
         ],
         "yaxis": "y"
        },
        {
         "customdata": [
          [
           "이지스 (aegis)",
           "2024-02-27T00:00:00",
           9286600,
           9286600
          ],
          [
           "이지스 (aegis)",
           "2024-03-05T00:00:00",
           9367650,
           18654250
          ],
          [
           "이지스 (aegis)",
           "2024-03-12T00:00:00",
           9614385,
           28268635
          ],
          [
           "이지스 (aegis)",
           "2024-03-19T00:00:00",
           9936100,
           38204735
          ],
          [
           "이지스 (aegis)",
           "2024-03-26T00:00:00",
           10018860,
           10018860
          ],
          [
           "이지스 (aegis)",
           "2024-04-02T00:00:00",
           10186940,
           20205800
          ],
          [
           "이지스 (aegis)",
           "2024-04-09T00:00:00",
           10361535,
           30567335
          ],
          [
           "이지스 (aegis)",
           "2024-04-16T00:00:00",
           10433950,
           41001285
          ],
          [
           "이지스 (aegis)",
           "2024-04-23T00:00:00",
           10525165,
           10525165
          ],
          [
           "이지스 (aegis)",
           "2024-04-30T00:00:00",
           10614170,
           21139335
          ],
          [
           "이지스 (aegis)",
           "2024-05-07T00:00:00",
           10784790,
           31924125
          ],
          [
           "이지스 (aegis)",
           "2024-05-14T00:00:00",
           11148110,
           11148110
          ],
          [
           "이지스 (aegis)",
           "2024-05-21T00:00:00",
           11408945,
           22557055
          ],
          [
           "이지스 (aegis)",
           "2024-05-28T00:00:00",
           11851050,
           34408105
          ]
         ],
         "hovertemplate": "<b>%{hovertext}</b><br><br>Season=%{x}<br>Date=%{customdata[1]|%d %B %Y}<br>Trophies=%{customdata[2]:,.0f}<br>SeasonTotal=%{customdata[3]:,.0f}<extra></extra>",
         "hovertext": [
          "이지스 (aegis)",
          "이지스 (aegis)",
          "이지스 (aegis)",
          "이지스 (aegis)",
          "이지스 (aegis)",
          "이지스 (aegis)",
          "이지스 (aegis)",
          "이지스 (aegis)",
          "이지스 (aegis)",
          "이지스 (aegis)",
          "이지스 (aegis)",
          "이지스 (aegis)",
          "이지스 (aegis)",
          "이지스 (aegis)"
         ],
         "legendgroup": "이지스 (aegis)",
         "line": {
          "color": "#316395",
          "dash": "solid",
          "shape": "linear"
         },
         "marker": {
          "size": 20,
          "symbol": "circle"
         },
         "mode": "lines+markers+text",
         "name": "이지스 (aegis)",
         "orientation": "v",
         "showlegend": true,
         "text": [
          13,
          13,
          12,
          12,
          8,
          8,
          7,
          7,
          6,
          6,
          6,
          6,
          5,
          6
         ],
         "textfont": {
          "color": "White",
          "family": "Arial",
          "size": 12
         },
         "textposition": "middle center",
         "type": "scatter",
         "x": [
          "1-1",
          "1-2",
          "1-3",
          "1-4",
          "2-1",
          "2-2",
          "2-3",
          "2-4",
          "3-1",
          "3-2",
          "3-3",
          "4-1",
          "4-2",
          "4-3"
         ],
         "xaxis": "x",
         "y": [
          13,
          13,
          12,
          12,
          8,
          8,
          7,
          7,
          6,
          6,
          6,
          6,
          5,
          6
         ],
         "yaxis": "y"
        }
       ],
       "layout": {
        "annotations": [
         {
          "font": {
           "color": "rgb(150,150,150)",
           "family": "Arial",
           "size": 12
          },
          "showarrow": false,
          "text": "Created by: SantaMonica @ MolochTH<br>Last update: 2024-05-28",
          "x": 1.16,
          "xanchor": "right",
          "xref": "paper",
          "y": -0.05,
          "yanchor": "top",
          "yref": "paper"
         }
        ],
        "height": 900,
        "hovermode": "closest",
        "legend": {
         "borderwidth": 0,
         "font": {
          "color": "black",
          "family": "Arial",
          "size": 20
         },
         "title": {
          "text": "Guild"
         },
         "tracegroupgap": 0
        },
        "margin": {
         "t": 60
        },
        "template": {
         "data": {
          "bar": [
           {
            "error_x": {
             "color": "#2a3f5f"
            },
            "error_y": {
             "color": "#2a3f5f"
            },
            "marker": {
             "line": {
              "color": "white",
              "width": 0.5
             },
             "pattern": {
              "fillmode": "overlay",
              "size": 10,
              "solidity": 0.2
             }
            },
            "type": "bar"
           }
          ],
          "barpolar": [
           {
            "marker": {
             "line": {
              "color": "white",
              "width": 0.5
             },
             "pattern": {
              "fillmode": "overlay",
              "size": 10,
              "solidity": 0.2
             }
            },
            "type": "barpolar"
           }
          ],
          "carpet": [
           {
            "aaxis": {
             "endlinecolor": "#2a3f5f",
             "gridcolor": "#C8D4E3",
             "linecolor": "#C8D4E3",
             "minorgridcolor": "#C8D4E3",
             "startlinecolor": "#2a3f5f"
            },
            "baxis": {
             "endlinecolor": "#2a3f5f",
             "gridcolor": "#C8D4E3",
             "linecolor": "#C8D4E3",
             "minorgridcolor": "#C8D4E3",
             "startlinecolor": "#2a3f5f"
            },
            "type": "carpet"
           }
          ],
          "choropleth": [
           {
            "colorbar": {
             "outlinewidth": 0,
             "ticks": ""
            },
            "type": "choropleth"
           }
          ],
          "contour": [
           {
            "colorbar": {
             "outlinewidth": 0,
             "ticks": ""
            },
            "colorscale": [
             [
              0,
              "#0d0887"
             ],
             [
              0.1111111111111111,
              "#46039f"
             ],
             [
              0.2222222222222222,
              "#7201a8"
             ],
             [
              0.3333333333333333,
              "#9c179e"
             ],
             [
              0.4444444444444444,
              "#bd3786"
             ],
             [
              0.5555555555555556,
              "#d8576b"
             ],
             [
              0.6666666666666666,
              "#ed7953"
             ],
             [
              0.7777777777777778,
              "#fb9f3a"
             ],
             [
              0.8888888888888888,
              "#fdca26"
             ],
             [
              1,
              "#f0f921"
             ]
            ],
            "type": "contour"
           }
          ],
          "contourcarpet": [
           {
            "colorbar": {
             "outlinewidth": 0,
             "ticks": ""
            },
            "type": "contourcarpet"
           }
          ],
          "heatmap": [
           {
            "colorbar": {
             "outlinewidth": 0,
             "ticks": ""
            },
            "colorscale": [
             [
              0,
              "#0d0887"
             ],
             [
              0.1111111111111111,
              "#46039f"
             ],
             [
              0.2222222222222222,
              "#7201a8"
             ],
             [
              0.3333333333333333,
              "#9c179e"
             ],
             [
              0.4444444444444444,
              "#bd3786"
             ],
             [
              0.5555555555555556,
              "#d8576b"
             ],
             [
              0.6666666666666666,
              "#ed7953"
             ],
             [
              0.7777777777777778,
              "#fb9f3a"
             ],
             [
              0.8888888888888888,
              "#fdca26"
             ],
             [
              1,
              "#f0f921"
             ]
            ],
            "type": "heatmap"
           }
          ],
          "heatmapgl": [
           {
            "colorbar": {
             "outlinewidth": 0,
             "ticks": ""
            },
            "colorscale": [
             [
              0,
              "#0d0887"
             ],
             [
              0.1111111111111111,
              "#46039f"
             ],
             [
              0.2222222222222222,
              "#7201a8"
             ],
             [
              0.3333333333333333,
              "#9c179e"
             ],
             [
              0.4444444444444444,
              "#bd3786"
             ],
             [
              0.5555555555555556,
              "#d8576b"
             ],
             [
              0.6666666666666666,
              "#ed7953"
             ],
             [
              0.7777777777777778,
              "#fb9f3a"
             ],
             [
              0.8888888888888888,
              "#fdca26"
             ],
             [
              1,
              "#f0f921"
             ]
            ],
            "type": "heatmapgl"
           }
          ],
          "histogram": [
           {
            "marker": {
             "pattern": {
              "fillmode": "overlay",
              "size": 10,
              "solidity": 0.2
             }
            },
            "type": "histogram"
           }
          ],
          "histogram2d": [
           {
            "colorbar": {
             "outlinewidth": 0,
             "ticks": ""
            },
            "colorscale": [
             [
              0,
              "#0d0887"
             ],
             [
              0.1111111111111111,
              "#46039f"
             ],
             [
              0.2222222222222222,
              "#7201a8"
             ],
             [
              0.3333333333333333,
              "#9c179e"
             ],
             [
              0.4444444444444444,
              "#bd3786"
             ],
             [
              0.5555555555555556,
              "#d8576b"
             ],
             [
              0.6666666666666666,
              "#ed7953"
             ],
             [
              0.7777777777777778,
              "#fb9f3a"
             ],
             [
              0.8888888888888888,
              "#fdca26"
             ],
             [
              1,
              "#f0f921"
             ]
            ],
            "type": "histogram2d"
           }
          ],
          "histogram2dcontour": [
           {
            "colorbar": {
             "outlinewidth": 0,
             "ticks": ""
            },
            "colorscale": [
             [
              0,
              "#0d0887"
             ],
             [
              0.1111111111111111,
              "#46039f"
             ],
             [
              0.2222222222222222,
              "#7201a8"
             ],
             [
              0.3333333333333333,
              "#9c179e"
             ],
             [
              0.4444444444444444,
              "#bd3786"
             ],
             [
              0.5555555555555556,
              "#d8576b"
             ],
             [
              0.6666666666666666,
              "#ed7953"
             ],
             [
              0.7777777777777778,
              "#fb9f3a"
             ],
             [
              0.8888888888888888,
              "#fdca26"
             ],
             [
              1,
              "#f0f921"
             ]
            ],
            "type": "histogram2dcontour"
           }
          ],
          "mesh3d": [
           {
            "colorbar": {
             "outlinewidth": 0,
             "ticks": ""
            },
            "type": "mesh3d"
           }
          ],
          "parcoords": [
           {
            "line": {
             "colorbar": {
              "outlinewidth": 0,
              "ticks": ""
             }
            },
            "type": "parcoords"
           }
          ],
          "pie": [
           {
            "automargin": true,
            "type": "pie"
           }
          ],
          "scatter": [
           {
            "fillpattern": {
             "fillmode": "overlay",
             "size": 10,
             "solidity": 0.2
            },
            "type": "scatter"
           }
          ],
          "scatter3d": [
           {
            "line": {
             "colorbar": {
              "outlinewidth": 0,
              "ticks": ""
             }
            },
            "marker": {
             "colorbar": {
              "outlinewidth": 0,
              "ticks": ""
             }
            },
            "type": "scatter3d"
           }
          ],
          "scattercarpet": [
           {
            "marker": {
             "colorbar": {
              "outlinewidth": 0,
              "ticks": ""
             }
            },
            "type": "scattercarpet"
           }
          ],
          "scattergeo": [
           {
            "marker": {
             "colorbar": {
              "outlinewidth": 0,
              "ticks": ""
             }
            },
            "type": "scattergeo"
           }
          ],
          "scattergl": [
           {
            "marker": {
             "colorbar": {
              "outlinewidth": 0,
              "ticks": ""
             }
            },
            "type": "scattergl"
           }
          ],
          "scattermapbox": [
           {
            "marker": {
             "colorbar": {
              "outlinewidth": 0,
              "ticks": ""
             }
            },
            "type": "scattermapbox"
           }
          ],
          "scatterpolar": [
           {
            "marker": {
             "colorbar": {
              "outlinewidth": 0,
              "ticks": ""
             }
            },
            "type": "scatterpolar"
           }
          ],
          "scatterpolargl": [
           {
            "marker": {
             "colorbar": {
              "outlinewidth": 0,
              "ticks": ""
             }
            },
            "type": "scatterpolargl"
           }
          ],
          "scatterternary": [
           {
            "marker": {
             "colorbar": {
              "outlinewidth": 0,
              "ticks": ""
             }
            },
            "type": "scatterternary"
           }
          ],
          "surface": [
           {
            "colorbar": {
             "outlinewidth": 0,
             "ticks": ""
            },
            "colorscale": [
             [
              0,
              "#0d0887"
             ],
             [
              0.1111111111111111,
              "#46039f"
             ],
             [
              0.2222222222222222,
              "#7201a8"
             ],
             [
              0.3333333333333333,
              "#9c179e"
             ],
             [
              0.4444444444444444,
              "#bd3786"
             ],
             [
              0.5555555555555556,
              "#d8576b"
             ],
             [
              0.6666666666666666,
              "#ed7953"
             ],
             [
              0.7777777777777778,
              "#fb9f3a"
             ],
             [
              0.8888888888888888,
              "#fdca26"
             ],
             [
              1,
              "#f0f921"
             ]
            ],
            "type": "surface"
           }
          ],
          "table": [
           {
            "cells": {
             "fill": {
              "color": "#EBF0F8"
             },
             "line": {
              "color": "white"
             }
            },
            "header": {
             "fill": {
              "color": "#C8D4E3"
             },
             "line": {
              "color": "white"
             }
            },
            "type": "table"
           }
          ]
         },
         "layout": {
          "annotationdefaults": {
           "arrowcolor": "#2a3f5f",
           "arrowhead": 0,
           "arrowwidth": 1
          },
          "autotypenumbers": "strict",
          "coloraxis": {
           "colorbar": {
            "outlinewidth": 0,
            "ticks": ""
           }
          },
          "colorscale": {
           "diverging": [
            [
             0,
             "#8e0152"
            ],
            [
             0.1,
             "#c51b7d"
            ],
            [
             0.2,
             "#de77ae"
            ],
            [
             0.3,
             "#f1b6da"
            ],
            [
             0.4,
             "#fde0ef"
            ],
            [
             0.5,
             "#f7f7f7"
            ],
            [
             0.6,
             "#e6f5d0"
            ],
            [
             0.7,
             "#b8e186"
            ],
            [
             0.8,
             "#7fbc41"
            ],
            [
             0.9,
             "#4d9221"
            ],
            [
             1,
             "#276419"
            ]
           ],
           "sequential": [
            [
             0,
             "#0d0887"
            ],
            [
             0.1111111111111111,
             "#46039f"
            ],
            [
             0.2222222222222222,
             "#7201a8"
            ],
            [
             0.3333333333333333,
             "#9c179e"
            ],
            [
             0.4444444444444444,
             "#bd3786"
            ],
            [
             0.5555555555555556,
             "#d8576b"
            ],
            [
             0.6666666666666666,
             "#ed7953"
            ],
            [
             0.7777777777777778,
             "#fb9f3a"
            ],
            [
             0.8888888888888888,
             "#fdca26"
            ],
            [
             1,
             "#f0f921"
            ]
           ],
           "sequentialminus": [
            [
             0,
             "#0d0887"
            ],
            [
             0.1111111111111111,
             "#46039f"
            ],
            [
             0.2222222222222222,
             "#7201a8"
            ],
            [
             0.3333333333333333,
             "#9c179e"
            ],
            [
             0.4444444444444444,
             "#bd3786"
            ],
            [
             0.5555555555555556,
             "#d8576b"
            ],
            [
             0.6666666666666666,
             "#ed7953"
            ],
            [
             0.7777777777777778,
             "#fb9f3a"
            ],
            [
             0.8888888888888888,
             "#fdca26"
            ],
            [
             1,
             "#f0f921"
            ]
           ]
          },
          "colorway": [
           "#636efa",
           "#EF553B",
           "#00cc96",
           "#ab63fa",
           "#FFA15A",
           "#19d3f3",
           "#FF6692",
           "#B6E880",
           "#FF97FF",
           "#FECB52"
          ],
          "font": {
           "color": "#2a3f5f"
          },
          "geo": {
           "bgcolor": "white",
           "lakecolor": "white",
           "landcolor": "white",
           "showlakes": true,
           "showland": true,
           "subunitcolor": "#C8D4E3"
          },
          "hoverlabel": {
           "align": "left"
          },
          "hovermode": "closest",
          "mapbox": {
           "style": "light"
          },
          "paper_bgcolor": "white",
          "plot_bgcolor": "white",
          "polar": {
           "angularaxis": {
            "gridcolor": "#EBF0F8",
            "linecolor": "#EBF0F8",
            "ticks": ""
           },
           "bgcolor": "white",
           "radialaxis": {
            "gridcolor": "#EBF0F8",
            "linecolor": "#EBF0F8",
            "ticks": ""
           }
          },
          "scene": {
           "xaxis": {
            "backgroundcolor": "white",
            "gridcolor": "#DFE8F3",
            "gridwidth": 2,
            "linecolor": "#EBF0F8",
            "showbackground": true,
            "ticks": "",
            "zerolinecolor": "#EBF0F8"
           },
           "yaxis": {
            "backgroundcolor": "white",
            "gridcolor": "#DFE8F3",
            "gridwidth": 2,
            "linecolor": "#EBF0F8",
            "showbackground": true,
            "ticks": "",
            "zerolinecolor": "#EBF0F8"
           },
           "zaxis": {
            "backgroundcolor": "white",
            "gridcolor": "#DFE8F3",
            "gridwidth": 2,
            "linecolor": "#EBF0F8",
            "showbackground": true,
            "ticks": "",
            "zerolinecolor": "#EBF0F8"
           }
          },
          "shapedefaults": {
           "line": {
            "color": "#2a3f5f"
           }
          },
          "ternary": {
           "aaxis": {
            "gridcolor": "#DFE8F3",
            "linecolor": "#A2B1C6",
            "ticks": ""
           },
           "baxis": {
            "gridcolor": "#DFE8F3",
            "linecolor": "#A2B1C6",
            "ticks": ""
           },
           "bgcolor": "white",
           "caxis": {
            "gridcolor": "#DFE8F3",
            "linecolor": "#A2B1C6",
            "ticks": ""
           }
          },
          "title": {
           "x": 0.05
          },
          "xaxis": {
           "automargin": true,
           "gridcolor": "#EBF0F8",
           "linecolor": "#EBF0F8",
           "ticks": "",
           "title": {
            "standoff": 15
           },
           "zerolinecolor": "#EBF0F8",
           "zerolinewidth": 2
          },
          "yaxis": {
           "automargin": true,
           "gridcolor": "#EBF0F8",
           "linecolor": "#EBF0F8",
           "ticks": "",
           "title": {
            "standoff": 15
           },
           "zerolinecolor": "#EBF0F8",
           "zerolinewidth": 2
          }
         }
        },
        "title": {
         "font": {
          "family": "Arial",
          "size": 30
         },
         "text": "The Cookie Run Kingdom: Top 10 guilds in Dark Cacao Server <br>(Guild Ranking Over Time)"
        },
        "width": 1600,
        "xaxis": {
         "anchor": "y",
         "domain": [
          0,
          1
         ],
         "showgrid": false,
         "title": {
          "text": "Season"
         }
        },
        "yaxis": {
         "anchor": "x",
         "domain": [
          0,
          1
         ],
         "range": [
          14,
          0
         ],
         "showgrid": false,
         "ticklabelstep": 1,
         "title": {
          "text": "SeasonRank"
         },
         "visible": false
        }
       }
      }
     },
     "metadata": {},
     "output_type": "display_data"
    }
   ],
   "source": [
    "top10_recent = data[\n",
    "    (data.SeasonRank <= 10) & (data.Round == data.Round.max())\n",
    "].GuildName.unique()\n",
    "max_date = str(data[data.GuildName.isin(top10_recent)].Date.max()).split(\" \")[0]\n",
    "\n",
    "fig = px.line(\n",
    "    data[data.GuildName.isin(top10_recent)],\n",
    "    x=\"Round\",\n",
    "    y=\"SeasonRank\",\n",
    "    color=\"GuildNameExtra\",\n",
    "    color_discrete_sequence=px.colors.qualitative.G10,\n",
    "    text=\"SeasonRank\",\n",
    "    markers=True,\n",
    "    line_shape=\"linear\",\n",
    "    labels={\"GuildNameExtra\": \"Guild\", \"Round\": \"Season\"},\n",
    "    template=\"plotly_white\",\n",
    "    hover_name=\"GuildNameExtra\",\n",
    "    hover_data={\n",
    "        \"GuildNameExtra\": False,\n",
    "        \"Round\": True,\n",
    "        \"SeasonRank\": False,\n",
    "        \"Date\": \"|%d %B %Y\",\n",
    "        \"Trophies\": \":,.0f\",\n",
    "        \"SeasonTotal\": \":,.0f\",\n",
    "    },\n",
    "    height=900,\n",
    "    width=1600,\n",
    ")\n",
    "\n",
    "\n",
    "fig.update_yaxes(\n",
    "    title=\"SeasonRank\", ticklabelstep=1, range=[14, 0], showgrid=False, visible=False\n",
    ")\n",
    "\n",
    "fig.update_xaxes(title=\"Season\", showgrid=False)\n",
    "\n",
    "fig.update_traces(\n",
    "    marker_symbol=\"circle\",\n",
    "    marker_size=20,\n",
    "    textposition=\"middle center\",\n",
    "    textfont=dict(family=\"Arial\", size=12, color=\"White\"),\n",
    ")\n",
    "\n",
    "\n",
    "annotations = []\n",
    "\n",
    "\n",
    "annotations.append(\n",
    "    dict(\n",
    "        text=f\"Created by: SantaMonica @ MolochTH<br>Last update: {max_date}\",\n",
    "        xref=\"paper\",\n",
    "        yref=\"paper\",\n",
    "        x=1.16,\n",
    "        y=-0.05,\n",
    "        xanchor=\"right\",\n",
    "        yanchor=\"top\",\n",
    "        font=dict(family=\"Arial\", size=12, color=\"rgb(150,150,150)\"),\n",
    "        showarrow=False,\n",
    "    )\n",
    ")\n",
    "\n",
    "fig.update_layout(\n",
    "    annotations=annotations,\n",
    "    title_text=f\"The Cookie Run Kingdom: Top 10 guilds in Dark Cacao Server <br>(Guild Ranking Over Time)\",\n",
    "    title_font_family=\"Arial\",\n",
    "    title_font_size=30,\n",
    "    legend=dict(\n",
    "        # x=0,\n",
    "        # y=1,\n",
    "        # traceorder=\"reversed\",\n",
    "        font=dict(family=\"Arial\", size=20, color=\"black\"),\n",
    "        bgcolor=None,\n",
    "        bordercolor=None,\n",
    "        borderwidth=0,\n",
    "    ),\n",
    "    hovermode=\"closest\",\n",
    ")\n",
    "\n",
    "fig.show()"
   ]
  },
  {
   "cell_type": "code",
   "execution_count": 31,
   "metadata": {},
   "outputs": [],
   "source": [
    "report_path = r\"report\\top10_ranking_overtime.html\"\n",
    "fig.write_html(report_path)"
   ]
  },
  {
   "cell_type": "markdown",
   "metadata": {},
   "source": [
    "## Ranking Over Time of Top 20"
   ]
  },
  {
   "cell_type": "code",
   "execution_count": 33,
   "metadata": {},
   "outputs": [
    {
     "data": {
      "application/vnd.plotly.v1+json": {
       "config": {
        "plotlyServerURL": "https://plot.ly"
       },
       "data": [
        {
         "customdata": [
          [
           "Spearmint",
           "2024-02-27T00:00:00",
           10513190,
           10513190
          ],
          [
           "Spearmint",
           "2024-03-05T00:00:00",
           10692545,
           21205735
          ],
          [
           "Spearmint",
           "2024-03-12T00:00:00",
           10770870,
           31976605
          ],
          [
           "Spearmint",
           "2024-03-19T00:00:00",
           10779410,
           42756015
          ],
          [
           "Spearmint",
           "2024-03-26T00:00:00",
           10949190,
           10949190
          ],
          [
           "Spearmint",
           "2024-04-02T00:00:00",
           11036070,
           21985260
          ],
          [
           "Spearmint",
           "2024-04-09T00:00:00",
           11037250,
           33022510
          ],
          [
           "Spearmint",
           "2024-04-16T00:00:00",
           11044970,
           44067480
          ],
          [
           "Spearmint",
           "2024-04-23T00:00:00",
           11216060,
           11216060
          ],
          [
           "Spearmint",
           "2024-04-30T00:00:00",
           11211090,
           22427150
          ],
          [
           "Spearmint",
           "2024-05-07T00:00:00",
           11122140,
           33549290
          ],
          [
           "Spearmint",
           "2024-05-14T00:00:00",
           11773265,
           11773265
          ],
          [
           "Spearmint",
           "2024-05-21T00:00:00",
           11768065,
           23541330
          ],
          [
           "Spearmint",
           "2024-05-28T00:00:00",
           12495730,
           36037060
          ]
         ],
         "hovertemplate": "<b>%{hovertext}</b><br><br>Season=%{x}<br>Date=%{customdata[1]|%d %B %Y}<br>Trophies=%{customdata[2]:,.0f}<br>SeasonTotal=%{customdata[3]:,.0f}<extra></extra>",
         "hovertext": [
          "Spearmint",
          "Spearmint",
          "Spearmint",
          "Spearmint",
          "Spearmint",
          "Spearmint",
          "Spearmint",
          "Spearmint",
          "Spearmint",
          "Spearmint",
          "Spearmint",
          "Spearmint",
          "Spearmint",
          "Spearmint"
         ],
         "legendgroup": "Spearmint",
         "line": {
          "color": "#3366CC",
          "dash": "solid",
          "shape": "linear"
         },
         "marker": {
          "size": 20,
          "symbol": "circle"
         },
         "mode": "lines+markers+text",
         "name": "Spearmint",
         "orientation": "v",
         "showlegend": true,
         "text": [
          1,
          1,
          1,
          1,
          1,
          1,
          1,
          1,
          1,
          1,
          2,
          2,
          2,
          2
         ],
         "textfont": {
          "color": "White",
          "family": "Arial",
          "size": 11
         },
         "textposition": "middle center",
         "type": "scatter",
         "x": [
          "1-1",
          "1-2",
          "1-3",
          "1-4",
          "2-1",
          "2-2",
          "2-3",
          "2-4",
          "3-1",
          "3-2",
          "3-3",
          "4-1",
          "4-2",
          "4-3"
         ],
         "xaxis": "x",
         "y": [
          1,
          1,
          1,
          1,
          1,
          1,
          1,
          1,
          1,
          1,
          2,
          2,
          2,
          2
         ],
         "yaxis": "y"
        },
        {
         "customdata": [
          [
           "Vivid",
           "2024-02-27T00:00:00",
           10510940,
           10510940
          ],
          [
           "Vivid",
           "2024-03-05T00:00:00",
           10598695,
           21109635
          ],
          [
           "Vivid",
           "2024-03-12T00:00:00",
           10690270,
           31799905
          ],
          [
           "Vivid",
           "2024-03-19T00:00:00",
           10702360,
           42502265
          ],
          [
           "Vivid",
           "2024-03-26T00:00:00",
           10866400,
           10866400
          ],
          [
           "Vivid",
           "2024-04-02T00:00:00",
           10945065,
           21811465
          ],
          [
           "Vivid",
           "2024-04-09T00:00:00",
           11028425,
           32839890
          ],
          [
           "Vivid",
           "2024-04-16T00:00:00",
           11128220,
           43968110
          ],
          [
           "Vivid",
           "2024-04-23T00:00:00",
           11041545,
           11041545
          ],
          [
           "Vivid",
           "2024-04-30T00:00:00",
           11115440,
           22156985
          ],
          [
           "Vivid",
           "2024-05-07T00:00:00",
           11398630,
           33555615
          ],
          [
           "Vivid",
           "2024-05-14T00:00:00",
           11856320,
           11856320
          ],
          [
           "Vivid",
           "2024-05-21T00:00:00",
           11782185,
           23638505
          ],
          [
           "Vivid",
           "2024-05-28T00:00:00",
           12498900,
           36137405
          ]
         ],
         "hovertemplate": "<b>%{hovertext}</b><br><br>Season=%{x}<br>Date=%{customdata[1]|%d %B %Y}<br>Trophies=%{customdata[2]:,.0f}<br>SeasonTotal=%{customdata[3]:,.0f}<extra></extra>",
         "hovertext": [
          "Vivid",
          "Vivid",
          "Vivid",
          "Vivid",
          "Vivid",
          "Vivid",
          "Vivid",
          "Vivid",
          "Vivid",
          "Vivid",
          "Vivid",
          "Vivid",
          "Vivid",
          "Vivid"
         ],
         "legendgroup": "Vivid",
         "line": {
          "color": "#DC3912",
          "dash": "solid",
          "shape": "linear"
         },
         "marker": {
          "size": 20,
          "symbol": "circle"
         },
         "mode": "lines+markers+text",
         "name": "Vivid",
         "orientation": "v",
         "showlegend": true,
         "text": [
          2,
          2,
          2,
          2,
          2,
          2,
          2,
          2,
          2,
          2,
          1,
          1,
          1,
          1
         ],
         "textfont": {
          "color": "White",
          "family": "Arial",
          "size": 11
         },
         "textposition": "middle center",
         "type": "scatter",
         "x": [
          "1-1",
          "1-2",
          "1-3",
          "1-4",
          "2-1",
          "2-2",
          "2-3",
          "2-4",
          "3-1",
          "3-2",
          "3-3",
          "4-1",
          "4-2",
          "4-3"
         ],
         "xaxis": "x",
         "y": [
          2,
          2,
          2,
          2,
          2,
          2,
          2,
          2,
          2,
          2,
          1,
          1,
          1,
          1
         ],
         "yaxis": "y"
        },
        {
         "customdata": [
          [
           "Nobless",
           "2024-02-27T00:00:00",
           10251975,
           10251975
          ],
          [
           "Nobless",
           "2024-03-05T00:00:00",
           10259645,
           20511620
          ],
          [
           "Nobless",
           "2024-03-12T00:00:00",
           10424260,
           30935880
          ],
          [
           "Nobless",
           "2024-03-19T00:00:00",
           10349095,
           41284975
          ],
          [
           "Nobless",
           "2024-03-26T00:00:00",
           10517570,
           10517570
          ],
          [
           "Nobless",
           "2024-04-02T00:00:00",
           10532845,
           21050415
          ],
          [
           "Nobless",
           "2024-04-09T00:00:00",
           10762930,
           31813345
          ],
          [
           "Nobless",
           "2024-04-16T00:00:00",
           10767570,
           42580915
          ],
          [
           "Nobless",
           "2024-04-23T00:00:00",
           10792615,
           10792615
          ],
          [
           "Nobless",
           "2024-04-30T00:00:00",
           10781320,
           21573935
          ],
          [
           "Nobless",
           "2024-05-07T00:00:00",
           10865505,
           32439440
          ],
          [
           "Nobless",
           "2024-05-14T00:00:00",
           11397880,
           11397880
          ],
          [
           "Nobless",
           "2024-05-21T00:00:00",
           11407690,
           22805570
          ],
          [
           "Nobless",
           "2024-05-28T00:00:00",
           11943105,
           34748675
          ]
         ],
         "hovertemplate": "<b>%{hovertext}</b><br><br>Season=%{x}<br>Date=%{customdata[1]|%d %B %Y}<br>Trophies=%{customdata[2]:,.0f}<br>SeasonTotal=%{customdata[3]:,.0f}<extra></extra>",
         "hovertext": [
          "Nobless",
          "Nobless",
          "Nobless",
          "Nobless",
          "Nobless",
          "Nobless",
          "Nobless",
          "Nobless",
          "Nobless",
          "Nobless",
          "Nobless",
          "Nobless",
          "Nobless",
          "Nobless"
         ],
         "legendgroup": "Nobless",
         "line": {
          "color": "#FF9900",
          "dash": "solid",
          "shape": "linear"
         },
         "marker": {
          "size": 20,
          "symbol": "circle"
         },
         "mode": "lines+markers+text",
         "name": "Nobless",
         "orientation": "v",
         "showlegend": true,
         "text": [
          3,
          3,
          3,
          3,
          3,
          3,
          3,
          3,
          3,
          3,
          3,
          3,
          3,
          3
         ],
         "textfont": {
          "color": "White",
          "family": "Arial",
          "size": 11
         },
         "textposition": "middle center",
         "type": "scatter",
         "x": [
          "1-1",
          "1-2",
          "1-3",
          "1-4",
          "2-1",
          "2-2",
          "2-3",
          "2-4",
          "3-1",
          "3-2",
          "3-3",
          "4-1",
          "4-2",
          "4-3"
         ],
         "xaxis": "x",
         "y": [
          3,
          3,
          3,
          3,
          3,
          3,
          3,
          3,
          3,
          3,
          3,
          3,
          3,
          3
         ],
         "yaxis": "y"
        },
        {
         "customdata": [
          [
           "LAODA",
           "2024-02-27T00:00:00",
           10011795,
           10011795
          ],
          [
           "LAODA",
           "2024-03-05T00:00:00",
           10091870,
           20103665
          ],
          [
           "LAODA",
           "2024-03-12T00:00:00",
           10103600,
           30207265
          ],
          [
           "LAODA",
           "2024-03-19T00:00:00",
           10174935,
           40382200
          ],
          [
           "LAODA",
           "2024-03-26T00:00:00",
           10260975,
           10260975
          ],
          [
           "LAODA",
           "2024-04-02T00:00:00",
           10340180,
           20601155
          ],
          [
           "LAODA",
           "2024-04-09T00:00:00",
           10520225,
           31121380
          ],
          [
           "LAODA",
           "2024-04-16T00:00:00",
           10600065,
           41721445
          ],
          [
           "LAODA",
           "2024-04-23T00:00:00",
           10609375,
           10609375
          ],
          [
           "LAODA",
           "2024-04-30T00:00:00",
           10691550,
           21300925
          ],
          [
           "LAODA",
           "2024-05-07T00:00:00",
           10778080,
           32079005
          ],
          [
           "LAODA",
           "2024-05-14T00:00:00",
           11242265,
           11242265
          ],
          [
           "LAODA",
           "2024-05-21T00:00:00",
           11411315,
           22653580
          ],
          [
           "LAODA",
           "2024-05-28T00:00:00",
           11859400,
           34512980
          ]
         ],
         "hovertemplate": "<b>%{hovertext}</b><br><br>Season=%{x}<br>Date=%{customdata[1]|%d %B %Y}<br>Trophies=%{customdata[2]:,.0f}<br>SeasonTotal=%{customdata[3]:,.0f}<extra></extra>",
         "hovertext": [
          "LAODA",
          "LAODA",
          "LAODA",
          "LAODA",
          "LAODA",
          "LAODA",
          "LAODA",
          "LAODA",
          "LAODA",
          "LAODA",
          "LAODA",
          "LAODA",
          "LAODA",
          "LAODA"
         ],
         "legendgroup": "LAODA",
         "line": {
          "color": "#109618",
          "dash": "solid",
          "shape": "linear"
         },
         "marker": {
          "size": 20,
          "symbol": "circle"
         },
         "mode": "lines+markers+text",
         "name": "LAODA",
         "orientation": "v",
         "showlegend": true,
         "text": [
          4,
          4,
          4,
          4,
          6,
          6,
          4,
          4,
          5,
          5,
          5,
          4,
          4,
          5
         ],
         "textfont": {
          "color": "White",
          "family": "Arial",
          "size": 11
         },
         "textposition": "middle center",
         "type": "scatter",
         "x": [
          "1-1",
          "1-2",
          "1-3",
          "1-4",
          "2-1",
          "2-2",
          "2-3",
          "2-4",
          "3-1",
          "3-2",
          "3-3",
          "4-1",
          "4-2",
          "4-3"
         ],
         "xaxis": "x",
         "y": [
          4,
          4,
          4,
          4,
          6,
          6,
          4,
          4,
          5,
          5,
          5,
          4,
          4,
          5
         ],
         "yaxis": "y"
        },
        {
         "customdata": [
          [
           "미라클 (miracle)",
           "2024-02-27T00:00:00",
           9930645,
           9930645
          ],
          [
           "미라클 (miracle)",
           "2024-03-05T00:00:00",
           9930695,
           19861340
          ],
          [
           "미라클 (miracle)",
           "2024-03-12T00:00:00",
           10096910,
           29958250
          ],
          [
           "미라클 (miracle)",
           "2024-03-19T00:00:00",
           10263565,
           40221815
          ],
          [
           "미라클 (miracle)",
           "2024-03-26T00:00:00",
           10343795,
           10343795
          ],
          [
           "미라클 (miracle)",
           "2024-04-02T00:00:00",
           10352155,
           20695950
          ],
          [
           "미라클 (miracle)",
           "2024-04-09T00:00:00",
           10346675,
           31042625
          ],
          [
           "미라클 (miracle)",
           "2024-04-16T00:00:00",
           10433690,
           41476315
          ],
          [
           "미라클 (miracle)",
           "2024-04-23T00:00:00",
           10510435,
           10510435
          ],
          [
           "미라클 (miracle)",
           "2024-04-30T00:00:00",
           10599700,
           21110135
          ],
          [
           "미라클 (miracle)",
           "2024-05-07T00:00:00",
           10518955,
           31629090
          ],
          [
           "미라클 (miracle)",
           "2024-05-14T00:00:00",
           11141720,
           11141720
          ],
          [
           "미라클 (miracle)",
           "2024-05-21T00:00:00",
           11233590,
           22375310
          ],
          [
           "미라클 (miracle)",
           "2024-05-28T00:00:00",
           11762665,
           34137975
          ]
         ],
         "hovertemplate": "<b>%{hovertext}</b><br><br>Season=%{x}<br>Date=%{customdata[1]|%d %B %Y}<br>Trophies=%{customdata[2]:,.0f}<br>SeasonTotal=%{customdata[3]:,.0f}<extra></extra>",
         "hovertext": [
          "미라클 (miracle)",
          "미라클 (miracle)",
          "미라클 (miracle)",
          "미라클 (miracle)",
          "미라클 (miracle)",
          "미라클 (miracle)",
          "미라클 (miracle)",
          "미라클 (miracle)",
          "미라클 (miracle)",
          "미라클 (miracle)",
          "미라클 (miracle)",
          "미라클 (miracle)",
          "미라클 (miracle)",
          "미라클 (miracle)"
         ],
         "legendgroup": "미라클 (miracle)",
         "line": {
          "color": "#990099",
          "dash": "solid",
          "shape": "linear"
         },
         "marker": {
          "size": 20,
          "symbol": "circle"
         },
         "mode": "lines+markers+text",
         "name": "미라클 (miracle)",
         "orientation": "v",
         "showlegend": true,
         "text": [
          5,
          5,
          5,
          5,
          4,
          4,
          5,
          5,
          7,
          7,
          8,
          7,
          7,
          7
         ],
         "textfont": {
          "color": "White",
          "family": "Arial",
          "size": 11
         },
         "textposition": "middle center",
         "type": "scatter",
         "x": [
          "1-1",
          "1-2",
          "1-3",
          "1-4",
          "2-1",
          "2-2",
          "2-3",
          "2-4",
          "3-1",
          "3-2",
          "3-3",
          "4-1",
          "4-2",
          "4-3"
         ],
         "xaxis": "x",
         "y": [
          5,
          5,
          5,
          5,
          4,
          4,
          5,
          5,
          7,
          7,
          8,
          7,
          7,
          7
         ],
         "yaxis": "y"
        },
        {
         "customdata": [
          [
           "님 (nim)",
           "2024-02-27T00:00:00",
           9688065,
           9688065
          ],
          [
           "님 (nim)",
           "2024-03-05T00:00:00",
           10173275,
           19861340
          ],
          [
           "님 (nim)",
           "2024-03-12T00:00:00",
           9678260,
           29539600
          ],
          [
           "님 (nim)",
           "2024-03-19T00:00:00",
           10005140,
           39544740
          ],
          [
           "님 (nim)",
           "2024-03-26T00:00:00",
           10262110,
           10262110
          ],
          [
           "님 (nim)",
           "2024-04-02T00:00:00",
           10350005,
           20612115
          ],
          [
           "님 (nim)",
           "2024-04-09T00:00:00",
           10351645,
           30963760
          ],
          [
           "님 (nim)",
           "2024-04-16T00:00:00",
           10426780,
           41390540
          ],
          [
           "님 (nim)",
           "2024-04-23T00:00:00",
           10621980,
           10621980
          ],
          [
           "님 (nim)",
           "2024-04-30T00:00:00",
           10683770,
           21305750
          ],
          [
           "님 (nim)",
           "2024-05-07T00:00:00",
           10791950,
           32097700
          ],
          [
           "님 (nim)",
           "2024-05-14T00:00:00",
           11240180,
           11240180
          ],
          [
           "님 (nim)",
           "2024-05-21T00:00:00",
           11230760,
           22470940
          ],
          [
           "님 (nim)",
           "2024-05-28T00:00:00",
           12114505,
           34585445
          ]
         ],
         "hovertemplate": "<b>%{hovertext}</b><br><br>Season=%{x}<br>Date=%{customdata[1]|%d %B %Y}<br>Trophies=%{customdata[2]:,.0f}<br>SeasonTotal=%{customdata[3]:,.0f}<extra></extra>",
         "hovertext": [
          "님 (nim)",
          "님 (nim)",
          "님 (nim)",
          "님 (nim)",
          "님 (nim)",
          "님 (nim)",
          "님 (nim)",
          "님 (nim)",
          "님 (nim)",
          "님 (nim)",
          "님 (nim)",
          "님 (nim)",
          "님 (nim)",
          "님 (nim)"
         ],
         "legendgroup": "님 (nim)",
         "line": {
          "color": "#0099C6",
          "dash": "solid",
          "shape": "linear"
         },
         "marker": {
          "size": 20,
          "symbol": "circle"
         },
         "mode": "lines+markers+text",
         "name": "님 (nim)",
         "orientation": "v",
         "showlegend": true,
         "text": [
          6,
          6,
          6,
          6,
          5,
          5,
          6,
          6,
          4,
          4,
          4,
          5,
          6,
          4
         ],
         "textfont": {
          "color": "White",
          "family": "Arial",
          "size": 11
         },
         "textposition": "middle center",
         "type": "scatter",
         "x": [
          "1-1",
          "1-2",
          "1-3",
          "1-4",
          "2-1",
          "2-2",
          "2-3",
          "2-4",
          "3-1",
          "3-2",
          "3-3",
          "4-1",
          "4-2",
          "4-3"
         ],
         "xaxis": "x",
         "y": [
          6,
          6,
          6,
          6,
          5,
          5,
          6,
          6,
          4,
          4,
          4,
          5,
          6,
          4
         ],
         "yaxis": "y"
        },
        {
         "customdata": [
          [
           "오로라 (aurora)",
           "2024-02-27T00:00:00",
           9677210,
           9677210
          ],
          [
           "오로라 (aurora)",
           "2024-03-05T00:00:00",
           9682900,
           19360110
          ],
          [
           "오로라 (aurora)",
           "2024-03-12T00:00:00",
           9772030,
           29132140
          ],
          [
           "오로라 (aurora)",
           "2024-03-19T00:00:00",
           9931935,
           39064075
          ],
          [
           "오로라 (aurora)",
           "2024-03-26T00:00:00",
           10007975,
           10007975
          ]
         ],
         "hovertemplate": "<b>%{hovertext}</b><br><br>Season=%{x}<br>Date=%{customdata[1]|%d %B %Y}<br>Trophies=%{customdata[2]:,.0f}<br>SeasonTotal=%{customdata[3]:,.0f}<extra></extra>",
         "hovertext": [
          "오로라 (aurora)",
          "오로라 (aurora)",
          "오로라 (aurora)",
          "오로라 (aurora)",
          "오로라 (aurora)"
         ],
         "legendgroup": "오로라 (aurora)",
         "line": {
          "color": "#DD4477",
          "dash": "solid",
          "shape": "linear"
         },
         "marker": {
          "size": 20,
          "symbol": "circle"
         },
         "mode": "lines+markers+text",
         "name": "오로라 (aurora)",
         "orientation": "v",
         "showlegend": true,
         "text": [
          7,
          8,
          8,
          8,
          9
         ],
         "textfont": {
          "color": "White",
          "family": "Arial",
          "size": 11
         },
         "textposition": "middle center",
         "type": "scatter",
         "x": [
          "1-1",
          "1-2",
          "1-3",
          "1-4",
          "2-1"
         ],
         "xaxis": "x",
         "y": [
          7,
          8,
          8,
          8,
          9
         ],
         "yaxis": "y"
        },
        {
         "customdata": [
          [
           "Crown",
           "2024-02-27T00:00:00",
           9591650,
           9591650
          ],
          [
           "Crown",
           "2024-03-05T00:00:00",
           9836010,
           19427660
          ],
          [
           "Crown",
           "2024-03-12T00:00:00",
           9835780,
           29263440
          ],
          [
           "Crown",
           "2024-03-19T00:00:00",
           10085080,
           39348520
          ],
          [
           "Crown",
           "2024-03-26T00:00:00",
           10165695,
           10165695
          ],
          [
           "Crown",
           "2024-04-02T00:00:00",
           10165775,
           20331470
          ],
          [
           "Crown",
           "2024-04-09T00:00:00",
           10084940,
           30416410
          ],
          [
           "Crown",
           "2024-04-16T00:00:00",
           10508315,
           40924725
          ],
          [
           "Crown",
           "2024-04-23T00:00:00",
           10430030,
           10430030
          ],
          [
           "Crown",
           "2024-04-30T00:00:00",
           10595575,
           21025605
          ],
          [
           "Crown",
           "2024-05-07T00:00:00",
           10679720,
           31705325
          ],
          [
           "Crown",
           "2024-05-14T00:00:00",
           11053810,
           11053810
          ],
          [
           "Crown",
           "2024-05-21T00:00:00",
           11226560,
           22280370
          ],
          [
           "Crown",
           "2024-05-28T00:00:00",
           11572160,
           33852530
          ]
         ],
         "hovertemplate": "<b>%{hovertext}</b><br><br>Season=%{x}<br>Date=%{customdata[1]|%d %B %Y}<br>Trophies=%{customdata[2]:,.0f}<br>SeasonTotal=%{customdata[3]:,.0f}<extra></extra>",
         "hovertext": [
          "Crown",
          "Crown",
          "Crown",
          "Crown",
          "Crown",
          "Crown",
          "Crown",
          "Crown",
          "Crown",
          "Crown",
          "Crown",
          "Crown",
          "Crown",
          "Crown"
         ],
         "legendgroup": "Crown",
         "line": {
          "color": "#66AA00",
          "dash": "solid",
          "shape": "linear"
         },
         "marker": {
          "size": 20,
          "symbol": "circle"
         },
         "mode": "lines+markers+text",
         "name": "Crown",
         "orientation": "v",
         "showlegend": true,
         "text": [
          8,
          7,
          7,
          7,
          7,
          7,
          8,
          8,
          9,
          8,
          7,
          8,
          8,
          8
         ],
         "textfont": {
          "color": "White",
          "family": "Arial",
          "size": 11
         },
         "textposition": "middle center",
         "type": "scatter",
         "x": [
          "1-1",
          "1-2",
          "1-3",
          "1-4",
          "2-1",
          "2-2",
          "2-3",
          "2-4",
          "3-1",
          "3-2",
          "3-3",
          "4-1",
          "4-2",
          "4-3"
         ],
         "xaxis": "x",
         "y": [
          8,
          7,
          7,
          7,
          7,
          7,
          8,
          8,
          9,
          8,
          7,
          8,
          8,
          8
         ],
         "yaxis": "y"
        },
        {
         "customdata": [
          [
           "무야호 (mu-ya-ho)",
           "2024-02-27T00:00:00",
           9525015,
           9525015
          ],
          [
           "무야호 (mu-ya-ho)",
           "2024-03-05T00:00:00",
           9613965,
           19138980
          ],
          [
           "무야호 (mu-ya-ho)",
           "2024-03-12T00:00:00",
           9678470,
           28817450
          ],
          [
           "무야호 (mu-ya-ho)",
           "2024-03-19T00:00:00",
           9759470,
           38576920
          ],
          [
           "무야호 (mu-ya-ho)",
           "2024-03-26T00:00:00",
           9849030,
           9849030
          ],
          [
           "무야호 (mu-ya-ho)",
           "2024-04-02T00:00:00",
           9855735,
           19704765
          ],
          [
           "무야호 (mu-ya-ho)",
           "2024-04-09T00:00:00",
           9931695,
           29636460
          ],
          [
           "무야호 (mu-ya-ho)",
           "2024-04-16T00:00:00",
           10091360,
           39727820
          ],
          [
           "무야호 (mu-ya-ho)",
           "2024-04-23T00:00:00",
           10101510,
           10101510
          ],
          [
           "무야호 (mu-ya-ho)",
           "2024-04-30T00:00:00",
           10258140,
           20359650
          ],
          [
           "무야호 (mu-ya-ho)",
           "2024-05-07T00:00:00",
           10348885,
           30708535
          ],
          [
           "무야호 (mu-ya-ho)",
           "2024-05-14T00:00:00",
           10804960,
           10804960
          ],
          [
           "무야호 (mu-ya-ho)",
           "2024-05-21T00:00:00",
           10970180,
           21775140
          ],
          [
           "무야호 (mu-ya-ho)",
           "2024-05-28T00:00:00",
           11393470,
           33168610
          ]
         ],
         "hovertemplate": "<b>%{hovertext}</b><br><br>Season=%{x}<br>Date=%{customdata[1]|%d %B %Y}<br>Trophies=%{customdata[2]:,.0f}<br>SeasonTotal=%{customdata[3]:,.0f}<extra></extra>",
         "hovertext": [
          "무야호 (mu-ya-ho)",
          "무야호 (mu-ya-ho)",
          "무야호 (mu-ya-ho)",
          "무야호 (mu-ya-ho)",
          "무야호 (mu-ya-ho)",
          "무야호 (mu-ya-ho)",
          "무야호 (mu-ya-ho)",
          "무야호 (mu-ya-ho)",
          "무야호 (mu-ya-ho)",
          "무야호 (mu-ya-ho)",
          "무야호 (mu-ya-ho)",
          "무야호 (mu-ya-ho)",
          "무야호 (mu-ya-ho)",
          "무야호 (mu-ya-ho)"
         ],
         "legendgroup": "무야호 (mu-ya-ho)",
         "line": {
          "color": "#B82E2E",
          "dash": "solid",
          "shape": "linear"
         },
         "marker": {
          "size": 20,
          "symbol": "circle"
         },
         "mode": "lines+markers+text",
         "name": "무야호 (mu-ya-ho)",
         "orientation": "v",
         "showlegend": true,
         "text": [
          9,
          10,
          10,
          9,
          12,
          11,
          11,
          11,
          11,
          11,
          11,
          11,
          11,
          11
         ],
         "textfont": {
          "color": "White",
          "family": "Arial",
          "size": 11
         },
         "textposition": "middle center",
         "type": "scatter",
         "x": [
          "1-1",
          "1-2",
          "1-3",
          "1-4",
          "2-1",
          "2-2",
          "2-3",
          "2-4",
          "3-1",
          "3-2",
          "3-3",
          "4-1",
          "4-2",
          "4-3"
         ],
         "xaxis": "x",
         "y": [
          9,
          10,
          10,
          9,
          12,
          11,
          11,
          11,
          11,
          11,
          11,
          11,
          11,
          11
         ],
         "yaxis": "y"
        },
        {
         "customdata": [
          [
           "열매 (yeol-mae)",
           "2024-02-27T00:00:00",
           9516665,
           9516665
          ],
          [
           "열매 (yeol-mae)",
           "2024-03-05T00:00:00",
           9683165,
           19199830
          ],
          [
           "열매 (yeol-mae)",
           "2024-03-12T00:00:00",
           9685015,
           28884845
          ],
          [
           "열매 (yeol-mae)",
           "2024-03-19T00:00:00",
           9686065,
           38570910
          ],
          [
           "열매 (yeol-mae)",
           "2024-03-26T00:00:00",
           9936820,
           9936820
          ],
          [
           "열매 (yeol-mae)",
           "2024-04-02T00:00:00",
           9934520,
           19871340
          ],
          [
           "열매 (yeol-mae)",
           "2024-04-09T00:00:00",
           10108120,
           29979460
          ],
          [
           "열매 (yeol-mae)",
           "2024-04-16T00:00:00",
           10188930,
           40168390
          ],
          [
           "열매 (yeol-mae)",
           "2024-04-23T00:00:00",
           10265120,
           10265120
          ],
          [
           "열매 (yeol-mae)",
           "2024-04-30T00:00:00",
           10350345,
           20615465
          ],
          [
           "열매 (yeol-mae)",
           "2024-05-07T00:00:00",
           10433560,
           31049025
          ],
          [
           "열매 (yeol-mae)",
           "2024-05-14T00:00:00",
           11045180,
           11045180
          ],
          [
           "열매 (yeol-mae)",
           "2024-05-21T00:00:00",
           10885185,
           21930365
          ],
          [
           "열매 (yeol-mae)",
           "2024-05-28T00:00:00",
           11665790,
           33596155
          ]
         ],
         "hovertemplate": "<b>%{hovertext}</b><br><br>Season=%{x}<br>Date=%{customdata[1]|%d %B %Y}<br>Trophies=%{customdata[2]:,.0f}<br>SeasonTotal=%{customdata[3]:,.0f}<extra></extra>",
         "hovertext": [
          "열매 (yeol-mae)",
          "열매 (yeol-mae)",
          "열매 (yeol-mae)",
          "열매 (yeol-mae)",
          "열매 (yeol-mae)",
          "열매 (yeol-mae)",
          "열매 (yeol-mae)",
          "열매 (yeol-mae)",
          "열매 (yeol-mae)",
          "열매 (yeol-mae)",
          "열매 (yeol-mae)",
          "열매 (yeol-mae)",
          "열매 (yeol-mae)",
          "열매 (yeol-mae)"
         ],
         "legendgroup": "열매 (yeol-mae)",
         "line": {
          "color": "#316395",
          "dash": "solid",
          "shape": "linear"
         },
         "marker": {
          "size": 20,
          "symbol": "circle"
         },
         "mode": "lines+markers+text",
         "name": "열매 (yeol-mae)",
         "orientation": "v",
         "showlegend": true,
         "text": [
          10,
          9,
          9,
          10,
          10,
          10,
          10,
          10,
          10,
          10,
          10,
          10,
          10,
          10
         ],
         "textfont": {
          "color": "White",
          "family": "Arial",
          "size": 11
         },
         "textposition": "middle center",
         "type": "scatter",
         "x": [
          "1-1",
          "1-2",
          "1-3",
          "1-4",
          "2-1",
          "2-2",
          "2-3",
          "2-4",
          "3-1",
          "3-2",
          "3-3",
          "4-1",
          "4-2",
          "4-3"
         ],
         "xaxis": "x",
         "y": [
          10,
          9,
          9,
          10,
          10,
          10,
          10,
          10,
          10,
          10,
          10,
          10,
          10,
          10
         ],
         "yaxis": "y"
        },
        {
         "customdata": [
          [
           "MolochTH",
           "2024-02-27T00:00:00",
           9356625,
           9356625
          ],
          [
           "MolochTH",
           "2024-03-05T00:00:00",
           9530190,
           18886815
          ],
          [
           "MolochTH",
           "2024-03-12T00:00:00",
           9763490,
           28650305
          ],
          [
           "MolochTH",
           "2024-03-19T00:00:00",
           9841245,
           38491550
          ],
          [
           "MolochTH",
           "2024-03-26T00:00:00",
           9931170,
           9931170
          ],
          [
           "MolochTH",
           "2024-04-02T00:00:00",
           10094570,
           20025740
          ],
          [
           "MolochTH",
           "2024-04-09T00:00:00",
           10262850,
           30288590
          ],
          [
           "MolochTH",
           "2024-04-16T00:00:00",
           10256305,
           40544895
          ],
          [
           "MolochTH",
           "2024-04-23T00:00:00",
           10430590,
           10430590
          ],
          [
           "MolochTH",
           "2024-04-30T00:00:00",
           10520085,
           20950675
          ],
          [
           "MolochTH",
           "2024-05-07T00:00:00",
           10598615,
           31549290
          ],
          [
           "MolochTH",
           "2024-05-14T00:00:00",
           11048890,
           11048890
          ],
          [
           "MolochTH",
           "2024-05-21T00:00:00",
           11142940,
           22191830
          ],
          [
           "MolochTH",
           "2024-05-28T00:00:00",
           11477380,
           33669210
          ]
         ],
         "hovertemplate": "<b>%{hovertext}</b><br><br>Season=%{x}<br>Date=%{customdata[1]|%d %B %Y}<br>Trophies=%{customdata[2]:,.0f}<br>SeasonTotal=%{customdata[3]:,.0f}<extra></extra>",
         "hovertext": [
          "MolochTH",
          "MolochTH",
          "MolochTH",
          "MolochTH",
          "MolochTH",
          "MolochTH",
          "MolochTH",
          "MolochTH",
          "MolochTH",
          "MolochTH",
          "MolochTH",
          "MolochTH",
          "MolochTH",
          "MolochTH"
         ],
         "legendgroup": "MolochTH",
         "line": {
          "color": "#3366CC",
          "dash": "solid",
          "shape": "linear"
         },
         "marker": {
          "size": 20,
          "symbol": "circle"
         },
         "mode": "lines+markers+text",
         "name": "MolochTH",
         "orientation": "v",
         "showlegend": true,
         "text": [
          11,
          11,
          11,
          11,
          11,
          9,
          9,
          9,
          8,
          9,
          9,
          9,
          9,
          9
         ],
         "textfont": {
          "color": "White",
          "family": "Arial",
          "size": 11
         },
         "textposition": "middle center",
         "type": "scatter",
         "x": [
          "1-1",
          "1-2",
          "1-3",
          "1-4",
          "2-1",
          "2-2",
          "2-3",
          "2-4",
          "3-1",
          "3-2",
          "3-3",
          "4-1",
          "4-2",
          "4-3"
         ],
         "xaxis": "x",
         "y": [
          11,
          11,
          11,
          11,
          11,
          9,
          9,
          9,
          8,
          9,
          9,
          9,
          9,
          9
         ],
         "yaxis": "y"
        },
        {
         "customdata": [
          [
           "MyTH",
           "2024-02-27T00:00:00",
           9351425,
           9351425
          ],
          [
           "MyTH",
           "2024-03-05T00:00:00",
           9522435,
           18873860
          ],
          [
           "MyTH",
           "2024-03-12T00:00:00",
           9360200,
           28234060
          ],
          [
           "MyTH",
           "2024-03-19T00:00:00",
           9595775,
           37829835
          ],
          [
           "MyTH",
           "2024-03-26T00:00:00",
           9595795,
           9595795
          ],
          [
           "MyTH",
           "2024-04-02T00:00:00",
           9047905,
           18643700
          ],
          [
           "MyTH",
           "2024-04-09T00:00:00",
           9354565,
           27998265
          ],
          [
           "MyTH",
           "2024-04-16T00:00:00",
           9047945,
           37046210
          ],
          [
           "MyTH",
           "2024-04-23T00:00:00",
           9197790,
           9197790
          ],
          [
           "MyTH",
           "2024-04-30T00:00:00",
           9118120,
           18315910
          ],
          [
           "MyTH",
           "2024-05-07T00:00:00",
           9354955,
           27670865
          ],
          [
           "MyTH",
           "2024-05-14T00:00:00",
           9848575,
           9848575
          ],
          [
           "MyTH",
           "2024-05-21T00:00:00",
           9944370,
           19792945
          ],
          [
           "MyTH",
           "2024-05-28T00:00:00",
           10346185,
           30139130
          ]
         ],
         "hovertemplate": "<b>%{hovertext}</b><br><br>Season=%{x}<br>Date=%{customdata[1]|%d %B %Y}<br>Trophies=%{customdata[2]:,.0f}<br>SeasonTotal=%{customdata[3]:,.0f}<extra></extra>",
         "hovertext": [
          "MyTH",
          "MyTH",
          "MyTH",
          "MyTH",
          "MyTH",
          "MyTH",
          "MyTH",
          "MyTH",
          "MyTH",
          "MyTH",
          "MyTH",
          "MyTH",
          "MyTH",
          "MyTH"
         ],
         "legendgroup": "MyTH",
         "line": {
          "color": "#DC3912",
          "dash": "solid",
          "shape": "linear"
         },
         "marker": {
          "size": 20,
          "symbol": "circle"
         },
         "mode": "lines+markers+text",
         "name": "MyTH",
         "orientation": "v",
         "showlegend": true,
         "text": [
          12,
          12,
          13,
          13,
          14,
          14,
          15,
          15,
          19,
          19,
          19,
          16,
          16,
          16
         ],
         "textfont": {
          "color": "White",
          "family": "Arial",
          "size": 11
         },
         "textposition": "middle center",
         "type": "scatter",
         "x": [
          "1-1",
          "1-2",
          "1-3",
          "1-4",
          "2-1",
          "2-2",
          "2-3",
          "2-4",
          "3-1",
          "3-2",
          "3-3",
          "4-1",
          "4-2",
          "4-3"
         ],
         "xaxis": "x",
         "y": [
          12,
          12,
          13,
          13,
          14,
          14,
          15,
          15,
          19,
          19,
          19,
          16,
          16,
          16
         ],
         "yaxis": "y"
        },
        {
         "customdata": [
          [
           "이지스 (aegis)",
           "2024-02-27T00:00:00",
           9286600,
           9286600
          ],
          [
           "이지스 (aegis)",
           "2024-03-05T00:00:00",
           9367650,
           18654250
          ],
          [
           "이지스 (aegis)",
           "2024-03-12T00:00:00",
           9614385,
           28268635
          ],
          [
           "이지스 (aegis)",
           "2024-03-19T00:00:00",
           9936100,
           38204735
          ],
          [
           "이지스 (aegis)",
           "2024-03-26T00:00:00",
           10018860,
           10018860
          ],
          [
           "이지스 (aegis)",
           "2024-04-02T00:00:00",
           10186940,
           20205800
          ],
          [
           "이지스 (aegis)",
           "2024-04-09T00:00:00",
           10361535,
           30567335
          ],
          [
           "이지스 (aegis)",
           "2024-04-16T00:00:00",
           10433950,
           41001285
          ],
          [
           "이지스 (aegis)",
           "2024-04-23T00:00:00",
           10525165,
           10525165
          ],
          [
           "이지스 (aegis)",
           "2024-04-30T00:00:00",
           10614170,
           21139335
          ],
          [
           "이지스 (aegis)",
           "2024-05-07T00:00:00",
           10784790,
           31924125
          ],
          [
           "이지스 (aegis)",
           "2024-05-14T00:00:00",
           11148110,
           11148110
          ],
          [
           "이지스 (aegis)",
           "2024-05-21T00:00:00",
           11408945,
           22557055
          ],
          [
           "이지스 (aegis)",
           "2024-05-28T00:00:00",
           11851050,
           34408105
          ]
         ],
         "hovertemplate": "<b>%{hovertext}</b><br><br>Season=%{x}<br>Date=%{customdata[1]|%d %B %Y}<br>Trophies=%{customdata[2]:,.0f}<br>SeasonTotal=%{customdata[3]:,.0f}<extra></extra>",
         "hovertext": [
          "이지스 (aegis)",
          "이지스 (aegis)",
          "이지스 (aegis)",
          "이지스 (aegis)",
          "이지스 (aegis)",
          "이지스 (aegis)",
          "이지스 (aegis)",
          "이지스 (aegis)",
          "이지스 (aegis)",
          "이지스 (aegis)",
          "이지스 (aegis)",
          "이지스 (aegis)",
          "이지스 (aegis)",
          "이지스 (aegis)"
         ],
         "legendgroup": "이지스 (aegis)",
         "line": {
          "color": "#FF9900",
          "dash": "solid",
          "shape": "linear"
         },
         "marker": {
          "size": 20,
          "symbol": "circle"
         },
         "mode": "lines+markers+text",
         "name": "이지스 (aegis)",
         "orientation": "v",
         "showlegend": true,
         "text": [
          13,
          13,
          12,
          12,
          8,
          8,
          7,
          7,
          6,
          6,
          6,
          6,
          5,
          6
         ],
         "textfont": {
          "color": "White",
          "family": "Arial",
          "size": 11
         },
         "textposition": "middle center",
         "type": "scatter",
         "x": [
          "1-1",
          "1-2",
          "1-3",
          "1-4",
          "2-1",
          "2-2",
          "2-3",
          "2-4",
          "3-1",
          "3-2",
          "3-3",
          "4-1",
          "4-2",
          "4-3"
         ],
         "xaxis": "x",
         "y": [
          13,
          13,
          12,
          12,
          8,
          8,
          7,
          7,
          6,
          6,
          6,
          6,
          5,
          6
         ],
         "yaxis": "y"
        },
        {
         "customdata": [
          [
           "재난경보 (jae-nan-gyeong-bo)",
           "2024-02-27T00:00:00",
           9201780,
           9201780
          ],
          [
           "재난경보 (jae-nan-gyeong-bo)",
           "2024-03-05T00:00:00",
           9198000,
           18399780
          ],
          [
           "재난경보 (jae-nan-gyeong-bo)",
           "2024-03-12T00:00:00",
           8968255,
           27368035
          ],
          [
           "재난경보 (jae-nan-gyeong-bo)",
           "2024-03-19T00:00:00",
           9049535,
           36417570
          ],
          [
           "재난경보 (jae-nan-gyeong-bo)",
           "2024-03-26T00:00:00",
           9203435,
           9203435
          ],
          [
           "재난경보 (jae-nan-gyeong-bo)",
           "2024-04-02T00:00:00",
           9436410,
           18639845
          ],
          [
           "재난경보 (jae-nan-gyeong-bo)",
           "2024-04-09T00:00:00",
           9520260,
           28160105
          ],
          [
           "재난경보 (jae-nan-gyeong-bo)",
           "2024-04-16T00:00:00",
           9529180,
           37689285
          ],
          [
           "재난경보 (jae-nan-gyeong-bo)",
           "2024-04-23T00:00:00",
           9841595,
           9841595
          ],
          [
           "재난경보 (jae-nan-gyeong-bo)",
           "2024-04-30T00:00:00",
           9606920,
           19448515
          ],
          [
           "재난경보 (jae-nan-gyeong-bo)",
           "2024-05-07T00:00:00",
           9225125,
           28673640
          ],
          [
           "재난경보 (jae-nan-gyeong-bo)",
           "2024-05-14T00:00:00",
           10269885,
           10269885
          ],
          [
           "재난경보 (jae-nan-gyeong-bo)",
           "2024-05-21T00:00:00",
           10269705,
           20539590
          ],
          [
           "재난경보 (jae-nan-gyeong-bo)",
           "2024-05-28T00:00:00",
           10862640,
           31402230
          ]
         ],
         "hovertemplate": "<b>%{hovertext}</b><br><br>Season=%{x}<br>Date=%{customdata[1]|%d %B %Y}<br>Trophies=%{customdata[2]:,.0f}<br>SeasonTotal=%{customdata[3]:,.0f}<extra></extra>",
         "hovertext": [
          "재난경보 (jae-nan-gyeong-bo)",
          "재난경보 (jae-nan-gyeong-bo)",
          "재난경보 (jae-nan-gyeong-bo)",
          "재난경보 (jae-nan-gyeong-bo)",
          "재난경보 (jae-nan-gyeong-bo)",
          "재난경보 (jae-nan-gyeong-bo)",
          "재난경보 (jae-nan-gyeong-bo)",
          "재난경보 (jae-nan-gyeong-bo)",
          "재난경보 (jae-nan-gyeong-bo)",
          "재난경보 (jae-nan-gyeong-bo)",
          "재난경보 (jae-nan-gyeong-bo)",
          "재난경보 (jae-nan-gyeong-bo)",
          "재난경보 (jae-nan-gyeong-bo)",
          "재난경보 (jae-nan-gyeong-bo)"
         ],
         "legendgroup": "재난경보 (jae-nan-gyeong-bo)",
         "line": {
          "color": "#109618",
          "dash": "solid",
          "shape": "linear"
         },
         "marker": {
          "size": 20,
          "symbol": "circle"
         },
         "mode": "lines+markers+text",
         "name": "재난경보 (jae-nan-gyeong-bo)",
         "orientation": "v",
         "showlegend": true,
         "text": [
          14,
          14,
          15,
          15,
          16,
          15,
          14,
          14,
          13,
          13,
          14,
          13,
          13,
          13
         ],
         "textfont": {
          "color": "White",
          "family": "Arial",
          "size": 11
         },
         "textposition": "middle center",
         "type": "scatter",
         "x": [
          "1-1",
          "1-2",
          "1-3",
          "1-4",
          "2-1",
          "2-2",
          "2-3",
          "2-4",
          "3-1",
          "3-2",
          "3-3",
          "4-1",
          "4-2",
          "4-3"
         ],
         "xaxis": "x",
         "y": [
          14,
          14,
          15,
          15,
          16,
          15,
          14,
          14,
          13,
          13,
          14,
          13,
          13,
          13
         ],
         "yaxis": "y"
        },
        {
         "customdata": [
          [
           "Peppermint",
           "2024-02-27T00:00:00",
           8974230,
           8974230
          ],
          [
           "Peppermint",
           "2024-03-05T00:00:00",
           9284540,
           18258770
          ],
          [
           "Peppermint",
           "2024-03-12T00:00:00",
           9436210,
           27694980
          ],
          [
           "Peppermint",
           "2024-03-19T00:00:00",
           9678895,
           37373875
          ],
          [
           "Peppermint",
           "2024-03-26T00:00:00",
           9762440,
           9762440
          ],
          [
           "Peppermint",
           "2024-04-02T00:00:00",
           9845765,
           19608205
          ],
          [
           "Peppermint",
           "2024-04-09T00:00:00",
           9673590,
           29281795
          ],
          [
           "Peppermint",
           "2024-04-16T00:00:00",
           9756810,
           39038605
          ],
          [
           "Peppermint",
           "2024-04-23T00:00:00",
           9929095,
           9929095
          ],
          [
           "Peppermint",
           "2024-04-30T00:00:00",
           10084960,
           20014055
          ],
          [
           "Peppermint",
           "2024-05-07T00:00:00",
           9926350,
           29940405
          ],
          [
           "Peppermint",
           "2024-05-14T00:00:00",
           10355160,
           10355160
          ],
          [
           "Peppermint",
           "2024-05-21T00:00:00",
           10366070,
           20721230
          ],
          [
           "Peppermint",
           "2024-05-28T00:00:00",
           10777680,
           31498910
          ]
         ],
         "hovertemplate": "<b>%{hovertext}</b><br><br>Season=%{x}<br>Date=%{customdata[1]|%d %B %Y}<br>Trophies=%{customdata[2]:,.0f}<br>SeasonTotal=%{customdata[3]:,.0f}<extra></extra>",
         "hovertext": [
          "Peppermint",
          "Peppermint",
          "Peppermint",
          "Peppermint",
          "Peppermint",
          "Peppermint",
          "Peppermint",
          "Peppermint",
          "Peppermint",
          "Peppermint",
          "Peppermint",
          "Peppermint",
          "Peppermint",
          "Peppermint"
         ],
         "legendgroup": "Peppermint",
         "line": {
          "color": "#990099",
          "dash": "solid",
          "shape": "linear"
         },
         "marker": {
          "size": 20,
          "symbol": "circle"
         },
         "mode": "lines+markers+text",
         "name": "Peppermint",
         "orientation": "v",
         "showlegend": true,
         "text": [
          15,
          15,
          14,
          14,
          13,
          12,
          12,
          12,
          12,
          12,
          12,
          12,
          12,
          12
         ],
         "textfont": {
          "color": "White",
          "family": "Arial",
          "size": 11
         },
         "textposition": "middle center",
         "type": "scatter",
         "x": [
          "1-1",
          "1-2",
          "1-3",
          "1-4",
          "2-1",
          "2-2",
          "2-3",
          "2-4",
          "3-1",
          "3-2",
          "3-3",
          "4-1",
          "4-2",
          "4-3"
         ],
         "xaxis": "x",
         "y": [
          15,
          15,
          14,
          14,
          13,
          12,
          12,
          12,
          12,
          12,
          12,
          12,
          12,
          12
         ],
         "yaxis": "y"
        },
        {
         "customdata": [
          [
           "사혼 (sa-hon)",
           "2024-02-27T00:00:00",
           8530020,
           8530020
          ],
          [
           "사혼 (sa-hon)",
           "2024-03-05T00:00:00",
           8826920,
           17356940
          ],
          [
           "사혼 (sa-hon)",
           "2024-03-12T00:00:00",
           8968345,
           26325285
          ],
          [
           "사혼 (sa-hon)",
           "2024-03-19T00:00:00",
           9132590,
           35457875
          ],
          [
           "사혼 (sa-hon)",
           "2024-03-26T00:00:00",
           9285030,
           9285030
          ],
          [
           "사혼 (sa-hon)",
           "2024-04-02T00:00:00",
           9436450,
           18721480
          ],
          [
           "사혼 (sa-hon)",
           "2024-04-09T00:00:00",
           9523570,
           28245050
          ],
          [
           "사혼 (sa-hon)",
           "2024-04-16T00:00:00",
           9598815,
           37843865
          ],
          [
           "사혼 (sa-hon)",
           "2024-04-23T00:00:00",
           9682255,
           9682255
          ],
          [
           "사혼 (sa-hon)",
           "2024-04-30T00:00:00",
           9763190,
           19445445
          ],
          [
           "사혼 (sa-hon)",
           "2024-05-07T00:00:00",
           9841175,
           29286620
          ],
          [
           "사혼 (sa-hon)",
           "2024-05-14T00:00:00",
           10187485,
           10187485
          ],
          [
           "사혼 (sa-hon)",
           "2024-05-21T00:00:00",
           10179930,
           20367415
          ],
          [
           "사혼 (sa-hon)",
           "2024-05-28T00:00:00",
           10945000,
           31312415
          ]
         ],
         "hovertemplate": "<b>%{hovertext}</b><br><br>Season=%{x}<br>Date=%{customdata[1]|%d %B %Y}<br>Trophies=%{customdata[2]:,.0f}<br>SeasonTotal=%{customdata[3]:,.0f}<extra></extra>",
         "hovertext": [
          "사혼 (sa-hon)",
          "사혼 (sa-hon)",
          "사혼 (sa-hon)",
          "사혼 (sa-hon)",
          "사혼 (sa-hon)",
          "사혼 (sa-hon)",
          "사혼 (sa-hon)",
          "사혼 (sa-hon)",
          "사혼 (sa-hon)",
          "사혼 (sa-hon)",
          "사혼 (sa-hon)",
          "사혼 (sa-hon)",
          "사혼 (sa-hon)",
          "사혼 (sa-hon)"
         ],
         "legendgroup": "사혼 (sa-hon)",
         "line": {
          "color": "#0099C6",
          "dash": "solid",
          "shape": "linear"
         },
         "marker": {
          "size": 20,
          "symbol": "circle"
         },
         "mode": "lines+markers+text",
         "name": "사혼 (sa-hon)",
         "orientation": "v",
         "showlegend": true,
         "text": [
          16,
          16,
          16,
          16,
          15,
          13,
          13,
          13,
          14,
          14,
          13,
          14,
          14,
          14
         ],
         "textfont": {
          "color": "White",
          "family": "Arial",
          "size": 11
         },
         "textposition": "middle center",
         "type": "scatter",
         "x": [
          "1-1",
          "1-2",
          "1-3",
          "1-4",
          "2-1",
          "2-2",
          "2-3",
          "2-4",
          "3-1",
          "3-2",
          "3-3",
          "4-1",
          "4-2",
          "4-3"
         ],
         "xaxis": "x",
         "y": [
          16,
          16,
          16,
          16,
          15,
          13,
          13,
          13,
          14,
          14,
          13,
          14,
          14,
          14
         ],
         "yaxis": "y"
        },
        {
         "customdata": [
          [
           "Nigiri",
           "2024-02-27T00:00:00",
           8445275,
           8445275
          ],
          [
           "Nigiri",
           "2024-03-05T00:00:00",
           8671380,
           17116655
          ],
          [
           "Nigiri",
           "2024-03-12T00:00:00",
           8671310,
           25787965
          ],
          [
           "Nigiri",
           "2024-03-19T00:00:00",
           8894760,
           34682725
          ],
          [
           "Nigiri",
           "2024-03-26T00:00:00",
           8984405,
           8984405
          ],
          [
           "Nigiri",
           "2024-04-02T00:00:00",
           8901670,
           17886075
          ],
          [
           "Nigiri",
           "2024-04-09T00:00:00",
           8743210,
           26629285
          ],
          [
           "Nigiri",
           "2024-04-16T00:00:00",
           9360090,
           35989375
          ],
          [
           "Nigiri",
           "2024-04-23T00:00:00",
           9442580,
           9442580
          ],
          [
           "Nigiri",
           "2024-04-30T00:00:00",
           9525970,
           18968550
          ],
          [
           "Nigiri",
           "2024-05-07T00:00:00",
           9679125,
           28647675
          ],
          [
           "Nigiri",
           "2024-05-14T00:00:00",
           10183210,
           10183210
          ],
          [
           "Nigiri",
           "2024-05-21T00:00:00",
           10024945,
           20208155
          ],
          [
           "Nigiri",
           "2024-05-28T00:00:00",
           10778050,
           30986205
          ]
         ],
         "hovertemplate": "<b>%{hovertext}</b><br><br>Season=%{x}<br>Date=%{customdata[1]|%d %B %Y}<br>Trophies=%{customdata[2]:,.0f}<br>SeasonTotal=%{customdata[3]:,.0f}<extra></extra>",
         "hovertext": [
          "Nigiri",
          "Nigiri",
          "Nigiri",
          "Nigiri",
          "Nigiri",
          "Nigiri",
          "Nigiri",
          "Nigiri",
          "Nigiri",
          "Nigiri",
          "Nigiri",
          "Nigiri",
          "Nigiri",
          "Nigiri"
         ],
         "legendgroup": "Nigiri",
         "line": {
          "color": "#DD4477",
          "dash": "solid",
          "shape": "linear"
         },
         "marker": {
          "size": 20,
          "symbol": "circle"
         },
         "mode": "lines+markers+text",
         "name": "Nigiri",
         "orientation": "v",
         "showlegend": true,
         "text": [
          17,
          17,
          17,
          17,
          18,
          18,
          19,
          18,
          16,
          15,
          15,
          15,
          15,
          15
         ],
         "textfont": {
          "color": "White",
          "family": "Arial",
          "size": 11
         },
         "textposition": "middle center",
         "type": "scatter",
         "x": [
          "1-1",
          "1-2",
          "1-3",
          "1-4",
          "2-1",
          "2-2",
          "2-3",
          "2-4",
          "3-1",
          "3-2",
          "3-3",
          "4-1",
          "4-2",
          "4-3"
         ],
         "xaxis": "x",
         "y": [
          17,
          17,
          17,
          17,
          18,
          18,
          19,
          18,
          16,
          15,
          15,
          15,
          15,
          15
         ],
         "yaxis": "y"
        },
        {
         "customdata": [
          [
           "S7AR",
           "2024-02-27T00:00:00",
           8439280,
           8439280
          ],
          [
           "S7AR",
           "2024-03-05T00:00:00",
           8519500,
           16958780
          ],
          [
           "S7AR",
           "2024-03-12T00:00:00",
           8661350,
           25620130
          ],
          [
           "S7AR",
           "2024-03-19T00:00:00",
           8891645,
           34511775
          ],
          [
           "S7AR",
           "2024-03-26T00:00:00",
           9047070,
           9047070
          ],
          [
           "S7AR",
           "2024-04-02T00:00:00",
           9200020,
           18247090
          ],
          [
           "S7AR",
           "2024-04-09T00:00:00",
           9200510,
           27447600
          ],
          [
           "S7AR",
           "2024-04-16T00:00:00",
           9208600,
           36656200
          ],
          [
           "S7AR",
           "2024-04-23T00:00:00",
           9360565,
           9360565
          ],
          [
           "S7AR",
           "2024-04-30T00:00:00",
           9286535,
           18647100
          ],
          [
           "S7AR",
           "2024-05-07T00:00:00",
           9281345,
           27928445
          ],
          [
           "S7AR",
           "2024-05-14T00:00:00",
           9771950,
           9771950
          ],
          [
           "S7AR",
           "2024-05-21T00:00:00",
           9942625,
           19714575
          ],
          [
           "S7AR",
           "2024-05-28T00:00:00",
           10270005,
           29984580
          ]
         ],
         "hovertemplate": "<b>%{hovertext}</b><br><br>Season=%{x}<br>Date=%{customdata[1]|%d %B %Y}<br>Trophies=%{customdata[2]:,.0f}<br>SeasonTotal=%{customdata[3]:,.0f}<extra></extra>",
         "hovertext": [
          "S7AR",
          "S7AR",
          "S7AR",
          "S7AR",
          "S7AR",
          "S7AR",
          "S7AR",
          "S7AR",
          "S7AR",
          "S7AR",
          "S7AR",
          "S7AR",
          "S7AR",
          "S7AR"
         ],
         "legendgroup": "S7AR",
         "line": {
          "color": "#66AA00",
          "dash": "solid",
          "shape": "linear"
         },
         "marker": {
          "size": 20,
          "symbol": "circle"
         },
         "mode": "lines+markers+text",
         "name": "S7AR",
         "orientation": "v",
         "showlegend": true,
         "text": [
          18,
          18,
          18,
          18,
          17,
          16,
          16,
          16,
          17,
          17,
          17,
          17,
          17,
          18
         ],
         "textfont": {
          "color": "White",
          "family": "Arial",
          "size": 11
         },
         "textposition": "middle center",
         "type": "scatter",
         "x": [
          "1-1",
          "1-2",
          "1-3",
          "1-4",
          "2-1",
          "2-2",
          "2-3",
          "2-4",
          "3-1",
          "3-2",
          "3-3",
          "4-1",
          "4-2",
          "4-3"
         ],
         "xaxis": "x",
         "y": [
          18,
          18,
          18,
          18,
          17,
          16,
          16,
          16,
          17,
          17,
          17,
          17,
          17,
          18
         ],
         "yaxis": "y"
        },
        {
         "customdata": [
          [
           "DEKWAT",
           "2024-02-27T00:00:00",
           8241380,
           8241380
          ],
          [
           "DEKWAT",
           "2024-03-05T00:00:00",
           8447715,
           16689095
          ],
          [
           "DEKWAT",
           "2024-03-12T00:00:00",
           8598275,
           25287370
          ],
          [
           "DEKWAT",
           "2024-03-19T00:00:00",
           8894960,
           34182330
          ],
          [
           "DEKWAT",
           "2024-03-26T00:00:00",
           8980530,
           8980530
          ],
          [
           "DEKWAT",
           "2024-04-02T00:00:00",
           9130900,
           18111430
          ],
          [
           "DEKWAT",
           "2024-04-09T00:00:00",
           9205955,
           27317385
          ],
          [
           "DEKWAT",
           "2024-04-16T00:00:00",
           9136550,
           36453935
          ],
          [
           "DEKWAT",
           "2024-04-23T00:00:00",
           9209055,
           9209055
          ],
          [
           "DEKWAT",
           "2024-04-30T00:00:00",
           9213865,
           18422920
          ],
          [
           "DEKWAT",
           "2024-05-07T00:00:00",
           9284940,
           27707860
          ],
          [
           "DEKWAT",
           "2024-05-14T00:00:00",
           9710100,
           9710100
          ],
          [
           "DEKWAT",
           "2024-05-21T00:00:00",
           9701790,
           19411890
          ],
          [
           "DEKWAT",
           "2024-05-28T00:00:00",
           10286850,
           29698740
          ]
         ],
         "hovertemplate": "<b>%{hovertext}</b><br><br>Season=%{x}<br>Date=%{customdata[1]|%d %B %Y}<br>Trophies=%{customdata[2]:,.0f}<br>SeasonTotal=%{customdata[3]:,.0f}<extra></extra>",
         "hovertext": [
          "DEKWAT",
          "DEKWAT",
          "DEKWAT",
          "DEKWAT",
          "DEKWAT",
          "DEKWAT",
          "DEKWAT",
          "DEKWAT",
          "DEKWAT",
          "DEKWAT",
          "DEKWAT",
          "DEKWAT",
          "DEKWAT",
          "DEKWAT"
         ],
         "legendgroup": "DEKWAT",
         "line": {
          "color": "#B82E2E",
          "dash": "solid",
          "shape": "linear"
         },
         "marker": {
          "size": 20,
          "symbol": "circle"
         },
         "mode": "lines+markers+text",
         "name": "DEKWAT",
         "orientation": "v",
         "showlegend": true,
         "text": [
          19,
          19,
          19,
          19,
          19,
          17,
          17,
          17,
          18,
          18,
          18,
          20,
          20,
          20
         ],
         "textfont": {
          "color": "White",
          "family": "Arial",
          "size": 11
         },
         "textposition": "middle center",
         "type": "scatter",
         "x": [
          "1-1",
          "1-2",
          "1-3",
          "1-4",
          "2-1",
          "2-2",
          "2-3",
          "2-4",
          "3-1",
          "3-2",
          "3-3",
          "4-1",
          "4-2",
          "4-3"
         ],
         "xaxis": "x",
         "y": [
          19,
          19,
          19,
          19,
          19,
          17,
          17,
          17,
          18,
          18,
          18,
          20,
          20,
          20
         ],
         "yaxis": "y"
        },
        {
         "customdata": [
          [
           "쿠벤저스 (cubengers)",
           "2024-02-27T00:00:00",
           8157340,
           8157340
          ],
          [
           "쿠벤저스 (cubengers)",
           "2024-03-05T00:00:00",
           8287605,
           16444945
          ],
          [
           "쿠벤저스 (cubengers)",
           "2024-03-12T00:00:00",
           8681615,
           25126560
          ],
          [
           "쿠벤저스 (cubengers)",
           "2024-03-19T00:00:00",
           8743310,
           33869870
          ],
          [
           "쿠벤저스 (cubengers)",
           "2024-03-26T00:00:00",
           8901790,
           8901790
          ],
          [
           "쿠벤저스 (cubengers)",
           "2024-04-02T00:00:00",
           8839530,
           17741320
          ],
          [
           "쿠벤저스 (cubengers)",
           "2024-04-09T00:00:00",
           8822070,
           26563390
          ],
          [
           "쿠벤저스 (cubengers)",
           "2024-04-16T00:00:00",
           9128730,
           35692120
          ],
          [
           "쿠벤저스 (cubengers)",
           "2024-04-23T00:00:00",
           9055195,
           9055195
          ],
          [
           "쿠벤저스 (cubengers)",
           "2024-04-30T00:00:00",
           9055055,
           18110250
          ]
         ],
         "hovertemplate": "<b>%{hovertext}</b><br><br>Season=%{x}<br>Date=%{customdata[1]|%d %B %Y}<br>Trophies=%{customdata[2]:,.0f}<br>SeasonTotal=%{customdata[3]:,.0f}<extra></extra>",
         "hovertext": [
          "쿠벤저스 (cubengers)",
          "쿠벤저스 (cubengers)",
          "쿠벤저스 (cubengers)",
          "쿠벤저스 (cubengers)",
          "쿠벤저스 (cubengers)",
          "쿠벤저스 (cubengers)",
          "쿠벤저스 (cubengers)",
          "쿠벤저스 (cubengers)",
          "쿠벤저스 (cubengers)",
          "쿠벤저스 (cubengers)"
         ],
         "legendgroup": "쿠벤저스 (cubengers)",
         "line": {
          "color": "#316395",
          "dash": "solid",
          "shape": "linear"
         },
         "marker": {
          "size": 20,
          "symbol": "circle"
         },
         "mode": "lines+markers+text",
         "name": "쿠벤저스 (cubengers)",
         "orientation": "v",
         "showlegend": true,
         "text": [
          20,
          20,
          20,
          20,
          20,
          20,
          20,
          20,
          20,
          20
         ],
         "textfont": {
          "color": "White",
          "family": "Arial",
          "size": 11
         },
         "textposition": "middle center",
         "type": "scatter",
         "x": [
          "1-1",
          "1-2",
          "1-3",
          "1-4",
          "2-1",
          "2-2",
          "2-3",
          "2-4",
          "3-1",
          "3-2"
         ],
         "xaxis": "x",
         "y": [
          20,
          20,
          20,
          20,
          20,
          20,
          20,
          20,
          20,
          20
         ],
         "yaxis": "y"
        },
        {
         "customdata": [
          [
           "Nobility",
           "2024-04-02T00:00:00",
           8991395,
           17824715
          ],
          [
           "Nobility",
           "2024-04-09T00:00:00",
           8917135,
           26741850
          ],
          [
           "Nobility",
           "2024-04-16T00:00:00",
           9142300,
           35884150
          ],
          [
           "Nobility",
           "2024-04-23T00:00:00",
           9453630,
           9453630
          ],
          [
           "Nobility",
           "2024-04-30T00:00:00",
           9456020,
           18909650
          ],
          [
           "Nobility",
           "2024-05-07T00:00:00",
           9371020,
           28280670
          ],
          [
           "Nobility",
           "2024-05-14T00:00:00",
           9721785,
           9721785
          ],
          [
           "Nobility",
           "2024-05-21T00:00:00",
           9875030,
           19596815
          ],
          [
           "Nobility",
           "2024-05-28T00:00:00",
           10445040,
           30041855
          ]
         ],
         "hovertemplate": "<b>%{hovertext}</b><br><br>Season=%{x}<br>Date=%{customdata[1]|%d %B %Y}<br>Trophies=%{customdata[2]:,.0f}<br>SeasonTotal=%{customdata[3]:,.0f}<extra></extra>",
         "hovertext": [
          "Nobility",
          "Nobility",
          "Nobility",
          "Nobility",
          "Nobility",
          "Nobility",
          "Nobility",
          "Nobility",
          "Nobility"
         ],
         "legendgroup": "Nobility",
         "line": {
          "color": "#3366CC",
          "dash": "solid",
          "shape": "linear"
         },
         "marker": {
          "size": 20,
          "symbol": "circle"
         },
         "mode": "lines+markers+text",
         "name": "Nobility",
         "orientation": "v",
         "showlegend": true,
         "text": [
          19,
          18,
          19,
          15,
          16,
          16,
          18,
          18,
          17
         ],
         "textfont": {
          "color": "White",
          "family": "Arial",
          "size": 11
         },
         "textposition": "middle center",
         "type": "scatter",
         "x": [
          "2-2",
          "2-3",
          "2-4",
          "3-1",
          "3-2",
          "3-3",
          "4-1",
          "4-2",
          "4-3"
         ],
         "xaxis": "x",
         "y": [
          19,
          18,
          19,
          15,
          16,
          16,
          18,
          18,
          17
         ],
         "yaxis": "y"
        },
        {
         "customdata": [
          [
           "秋 (aki)",
           "2024-05-07T00:00:00",
           8942210,
           26826630
          ]
         ],
         "hovertemplate": "<b>%{hovertext}</b><br><br>Season=%{x}<br>Date=%{customdata[1]|%d %B %Y}<br>Trophies=%{customdata[2]:,.0f}<br>SeasonTotal=%{customdata[3]:,.0f}<extra></extra>",
         "hovertext": [
          "秋 (aki)"
         ],
         "legendgroup": "秋 (aki)",
         "line": {
          "color": "#DC3912",
          "dash": "solid",
          "shape": "linear"
         },
         "marker": {
          "size": 20,
          "symbol": "circle"
         },
         "mode": "lines+markers+text",
         "name": "秋 (aki)",
         "orientation": "v",
         "showlegend": true,
         "text": [
          20
         ],
         "textfont": {
          "color": "White",
          "family": "Arial",
          "size": 11
         },
         "textposition": "middle center",
         "type": "scatter",
         "x": [
          "3-3"
         ],
         "xaxis": "x",
         "y": [
          20
         ],
         "yaxis": "y"
        },
        {
         "customdata": [
          [
           "감동 (gam-dong)",
           "2024-05-14T00:00:00",
           9718605,
           9718605
          ],
          [
           "감동 (gam-dong)",
           "2024-05-21T00:00:00",
           9793060,
           19511665
          ],
          [
           "감동 (gam-dong)",
           "2024-05-28T00:00:00",
           9872795,
           29384460
          ]
         ],
         "hovertemplate": "<b>%{hovertext}</b><br><br>Season=%{x}<br>Date=%{customdata[1]|%d %B %Y}<br>Trophies=%{customdata[2]:,.0f}<br>SeasonTotal=%{customdata[3]:,.0f}<extra></extra>",
         "hovertext": [
          "감동 (gam-dong)",
          "감동 (gam-dong)",
          "감동 (gam-dong)"
         ],
         "legendgroup": "감동 (gam-dong)",
         "line": {
          "color": "#FF9900",
          "dash": "solid",
          "shape": "linear"
         },
         "marker": {
          "size": 20,
          "symbol": "circle"
         },
         "mode": "lines+markers+text",
         "name": "감동 (gam-dong)",
         "orientation": "v",
         "showlegend": true,
         "text": [
          19,
          19,
          19
         ],
         "textfont": {
          "color": "White",
          "family": "Arial",
          "size": 11
         },
         "textposition": "middle center",
         "type": "scatter",
         "x": [
          "4-1",
          "4-2",
          "4-3"
         ],
         "xaxis": "x",
         "y": [
          19,
          19,
          19
         ],
         "yaxis": "y"
        }
       ],
       "layout": {
        "annotations": [
         {
          "font": {
           "color": "rgb(150,150,150)",
           "family": "Arial",
           "size": 10
          },
          "showarrow": false,
          "text": "Created by: SantaMonica @ MolochTH<br>Last update: 2024-05-28",
          "x": 1.2,
          "xanchor": "right",
          "xref": "paper",
          "y": -0.05,
          "yanchor": "top",
          "yref": "paper"
         }
        ],
        "height": 1100,
        "hovermode": "closest",
        "legend": {
         "font": {
          "color": "black",
          "family": "Arial",
          "size": 15
         },
         "title": {
          "text": "Guild"
         },
         "tracegroupgap": 0
        },
        "margin": {
         "t": 60
        },
        "template": {
         "data": {
          "bar": [
           {
            "error_x": {
             "color": "#2a3f5f"
            },
            "error_y": {
             "color": "#2a3f5f"
            },
            "marker": {
             "line": {
              "color": "white",
              "width": 0.5
             },
             "pattern": {
              "fillmode": "overlay",
              "size": 10,
              "solidity": 0.2
             }
            },
            "type": "bar"
           }
          ],
          "barpolar": [
           {
            "marker": {
             "line": {
              "color": "white",
              "width": 0.5
             },
             "pattern": {
              "fillmode": "overlay",
              "size": 10,
              "solidity": 0.2
             }
            },
            "type": "barpolar"
           }
          ],
          "carpet": [
           {
            "aaxis": {
             "endlinecolor": "#2a3f5f",
             "gridcolor": "#C8D4E3",
             "linecolor": "#C8D4E3",
             "minorgridcolor": "#C8D4E3",
             "startlinecolor": "#2a3f5f"
            },
            "baxis": {
             "endlinecolor": "#2a3f5f",
             "gridcolor": "#C8D4E3",
             "linecolor": "#C8D4E3",
             "minorgridcolor": "#C8D4E3",
             "startlinecolor": "#2a3f5f"
            },
            "type": "carpet"
           }
          ],
          "choropleth": [
           {
            "colorbar": {
             "outlinewidth": 0,
             "ticks": ""
            },
            "type": "choropleth"
           }
          ],
          "contour": [
           {
            "colorbar": {
             "outlinewidth": 0,
             "ticks": ""
            },
            "colorscale": [
             [
              0,
              "#0d0887"
             ],
             [
              0.1111111111111111,
              "#46039f"
             ],
             [
              0.2222222222222222,
              "#7201a8"
             ],
             [
              0.3333333333333333,
              "#9c179e"
             ],
             [
              0.4444444444444444,
              "#bd3786"
             ],
             [
              0.5555555555555556,
              "#d8576b"
             ],
             [
              0.6666666666666666,
              "#ed7953"
             ],
             [
              0.7777777777777778,
              "#fb9f3a"
             ],
             [
              0.8888888888888888,
              "#fdca26"
             ],
             [
              1,
              "#f0f921"
             ]
            ],
            "type": "contour"
           }
          ],
          "contourcarpet": [
           {
            "colorbar": {
             "outlinewidth": 0,
             "ticks": ""
            },
            "type": "contourcarpet"
           }
          ],
          "heatmap": [
           {
            "colorbar": {
             "outlinewidth": 0,
             "ticks": ""
            },
            "colorscale": [
             [
              0,
              "#0d0887"
             ],
             [
              0.1111111111111111,
              "#46039f"
             ],
             [
              0.2222222222222222,
              "#7201a8"
             ],
             [
              0.3333333333333333,
              "#9c179e"
             ],
             [
              0.4444444444444444,
              "#bd3786"
             ],
             [
              0.5555555555555556,
              "#d8576b"
             ],
             [
              0.6666666666666666,
              "#ed7953"
             ],
             [
              0.7777777777777778,
              "#fb9f3a"
             ],
             [
              0.8888888888888888,
              "#fdca26"
             ],
             [
              1,
              "#f0f921"
             ]
            ],
            "type": "heatmap"
           }
          ],
          "heatmapgl": [
           {
            "colorbar": {
             "outlinewidth": 0,
             "ticks": ""
            },
            "colorscale": [
             [
              0,
              "#0d0887"
             ],
             [
              0.1111111111111111,
              "#46039f"
             ],
             [
              0.2222222222222222,
              "#7201a8"
             ],
             [
              0.3333333333333333,
              "#9c179e"
             ],
             [
              0.4444444444444444,
              "#bd3786"
             ],
             [
              0.5555555555555556,
              "#d8576b"
             ],
             [
              0.6666666666666666,
              "#ed7953"
             ],
             [
              0.7777777777777778,
              "#fb9f3a"
             ],
             [
              0.8888888888888888,
              "#fdca26"
             ],
             [
              1,
              "#f0f921"
             ]
            ],
            "type": "heatmapgl"
           }
          ],
          "histogram": [
           {
            "marker": {
             "pattern": {
              "fillmode": "overlay",
              "size": 10,
              "solidity": 0.2
             }
            },
            "type": "histogram"
           }
          ],
          "histogram2d": [
           {
            "colorbar": {
             "outlinewidth": 0,
             "ticks": ""
            },
            "colorscale": [
             [
              0,
              "#0d0887"
             ],
             [
              0.1111111111111111,
              "#46039f"
             ],
             [
              0.2222222222222222,
              "#7201a8"
             ],
             [
              0.3333333333333333,
              "#9c179e"
             ],
             [
              0.4444444444444444,
              "#bd3786"
             ],
             [
              0.5555555555555556,
              "#d8576b"
             ],
             [
              0.6666666666666666,
              "#ed7953"
             ],
             [
              0.7777777777777778,
              "#fb9f3a"
             ],
             [
              0.8888888888888888,
              "#fdca26"
             ],
             [
              1,
              "#f0f921"
             ]
            ],
            "type": "histogram2d"
           }
          ],
          "histogram2dcontour": [
           {
            "colorbar": {
             "outlinewidth": 0,
             "ticks": ""
            },
            "colorscale": [
             [
              0,
              "#0d0887"
             ],
             [
              0.1111111111111111,
              "#46039f"
             ],
             [
              0.2222222222222222,
              "#7201a8"
             ],
             [
              0.3333333333333333,
              "#9c179e"
             ],
             [
              0.4444444444444444,
              "#bd3786"
             ],
             [
              0.5555555555555556,
              "#d8576b"
             ],
             [
              0.6666666666666666,
              "#ed7953"
             ],
             [
              0.7777777777777778,
              "#fb9f3a"
             ],
             [
              0.8888888888888888,
              "#fdca26"
             ],
             [
              1,
              "#f0f921"
             ]
            ],
            "type": "histogram2dcontour"
           }
          ],
          "mesh3d": [
           {
            "colorbar": {
             "outlinewidth": 0,
             "ticks": ""
            },
            "type": "mesh3d"
           }
          ],
          "parcoords": [
           {
            "line": {
             "colorbar": {
              "outlinewidth": 0,
              "ticks": ""
             }
            },
            "type": "parcoords"
           }
          ],
          "pie": [
           {
            "automargin": true,
            "type": "pie"
           }
          ],
          "scatter": [
           {
            "fillpattern": {
             "fillmode": "overlay",
             "size": 10,
             "solidity": 0.2
            },
            "type": "scatter"
           }
          ],
          "scatter3d": [
           {
            "line": {
             "colorbar": {
              "outlinewidth": 0,
              "ticks": ""
             }
            },
            "marker": {
             "colorbar": {
              "outlinewidth": 0,
              "ticks": ""
             }
            },
            "type": "scatter3d"
           }
          ],
          "scattercarpet": [
           {
            "marker": {
             "colorbar": {
              "outlinewidth": 0,
              "ticks": ""
             }
            },
            "type": "scattercarpet"
           }
          ],
          "scattergeo": [
           {
            "marker": {
             "colorbar": {
              "outlinewidth": 0,
              "ticks": ""
             }
            },
            "type": "scattergeo"
           }
          ],
          "scattergl": [
           {
            "marker": {
             "colorbar": {
              "outlinewidth": 0,
              "ticks": ""
             }
            },
            "type": "scattergl"
           }
          ],
          "scattermapbox": [
           {
            "marker": {
             "colorbar": {
              "outlinewidth": 0,
              "ticks": ""
             }
            },
            "type": "scattermapbox"
           }
          ],
          "scatterpolar": [
           {
            "marker": {
             "colorbar": {
              "outlinewidth": 0,
              "ticks": ""
             }
            },
            "type": "scatterpolar"
           }
          ],
          "scatterpolargl": [
           {
            "marker": {
             "colorbar": {
              "outlinewidth": 0,
              "ticks": ""
             }
            },
            "type": "scatterpolargl"
           }
          ],
          "scatterternary": [
           {
            "marker": {
             "colorbar": {
              "outlinewidth": 0,
              "ticks": ""
             }
            },
            "type": "scatterternary"
           }
          ],
          "surface": [
           {
            "colorbar": {
             "outlinewidth": 0,
             "ticks": ""
            },
            "colorscale": [
             [
              0,
              "#0d0887"
             ],
             [
              0.1111111111111111,
              "#46039f"
             ],
             [
              0.2222222222222222,
              "#7201a8"
             ],
             [
              0.3333333333333333,
              "#9c179e"
             ],
             [
              0.4444444444444444,
              "#bd3786"
             ],
             [
              0.5555555555555556,
              "#d8576b"
             ],
             [
              0.6666666666666666,
              "#ed7953"
             ],
             [
              0.7777777777777778,
              "#fb9f3a"
             ],
             [
              0.8888888888888888,
              "#fdca26"
             ],
             [
              1,
              "#f0f921"
             ]
            ],
            "type": "surface"
           }
          ],
          "table": [
           {
            "cells": {
             "fill": {
              "color": "#EBF0F8"
             },
             "line": {
              "color": "white"
             }
            },
            "header": {
             "fill": {
              "color": "#C8D4E3"
             },
             "line": {
              "color": "white"
             }
            },
            "type": "table"
           }
          ]
         },
         "layout": {
          "annotationdefaults": {
           "arrowcolor": "#2a3f5f",
           "arrowhead": 0,
           "arrowwidth": 1
          },
          "autotypenumbers": "strict",
          "coloraxis": {
           "colorbar": {
            "outlinewidth": 0,
            "ticks": ""
           }
          },
          "colorscale": {
           "diverging": [
            [
             0,
             "#8e0152"
            ],
            [
             0.1,
             "#c51b7d"
            ],
            [
             0.2,
             "#de77ae"
            ],
            [
             0.3,
             "#f1b6da"
            ],
            [
             0.4,
             "#fde0ef"
            ],
            [
             0.5,
             "#f7f7f7"
            ],
            [
             0.6,
             "#e6f5d0"
            ],
            [
             0.7,
             "#b8e186"
            ],
            [
             0.8,
             "#7fbc41"
            ],
            [
             0.9,
             "#4d9221"
            ],
            [
             1,
             "#276419"
            ]
           ],
           "sequential": [
            [
             0,
             "#0d0887"
            ],
            [
             0.1111111111111111,
             "#46039f"
            ],
            [
             0.2222222222222222,
             "#7201a8"
            ],
            [
             0.3333333333333333,
             "#9c179e"
            ],
            [
             0.4444444444444444,
             "#bd3786"
            ],
            [
             0.5555555555555556,
             "#d8576b"
            ],
            [
             0.6666666666666666,
             "#ed7953"
            ],
            [
             0.7777777777777778,
             "#fb9f3a"
            ],
            [
             0.8888888888888888,
             "#fdca26"
            ],
            [
             1,
             "#f0f921"
            ]
           ],
           "sequentialminus": [
            [
             0,
             "#0d0887"
            ],
            [
             0.1111111111111111,
             "#46039f"
            ],
            [
             0.2222222222222222,
             "#7201a8"
            ],
            [
             0.3333333333333333,
             "#9c179e"
            ],
            [
             0.4444444444444444,
             "#bd3786"
            ],
            [
             0.5555555555555556,
             "#d8576b"
            ],
            [
             0.6666666666666666,
             "#ed7953"
            ],
            [
             0.7777777777777778,
             "#fb9f3a"
            ],
            [
             0.8888888888888888,
             "#fdca26"
            ],
            [
             1,
             "#f0f921"
            ]
           ]
          },
          "colorway": [
           "#636efa",
           "#EF553B",
           "#00cc96",
           "#ab63fa",
           "#FFA15A",
           "#19d3f3",
           "#FF6692",
           "#B6E880",
           "#FF97FF",
           "#FECB52"
          ],
          "font": {
           "color": "#2a3f5f"
          },
          "geo": {
           "bgcolor": "white",
           "lakecolor": "white",
           "landcolor": "white",
           "showlakes": true,
           "showland": true,
           "subunitcolor": "#C8D4E3"
          },
          "hoverlabel": {
           "align": "left"
          },
          "hovermode": "closest",
          "mapbox": {
           "style": "light"
          },
          "paper_bgcolor": "white",
          "plot_bgcolor": "white",
          "polar": {
           "angularaxis": {
            "gridcolor": "#EBF0F8",
            "linecolor": "#EBF0F8",
            "ticks": ""
           },
           "bgcolor": "white",
           "radialaxis": {
            "gridcolor": "#EBF0F8",
            "linecolor": "#EBF0F8",
            "ticks": ""
           }
          },
          "scene": {
           "xaxis": {
            "backgroundcolor": "white",
            "gridcolor": "#DFE8F3",
            "gridwidth": 2,
            "linecolor": "#EBF0F8",
            "showbackground": true,
            "ticks": "",
            "zerolinecolor": "#EBF0F8"
           },
           "yaxis": {
            "backgroundcolor": "white",
            "gridcolor": "#DFE8F3",
            "gridwidth": 2,
            "linecolor": "#EBF0F8",
            "showbackground": true,
            "ticks": "",
            "zerolinecolor": "#EBF0F8"
           },
           "zaxis": {
            "backgroundcolor": "white",
            "gridcolor": "#DFE8F3",
            "gridwidth": 2,
            "linecolor": "#EBF0F8",
            "showbackground": true,
            "ticks": "",
            "zerolinecolor": "#EBF0F8"
           }
          },
          "shapedefaults": {
           "line": {
            "color": "#2a3f5f"
           }
          },
          "ternary": {
           "aaxis": {
            "gridcolor": "#DFE8F3",
            "linecolor": "#A2B1C6",
            "ticks": ""
           },
           "baxis": {
            "gridcolor": "#DFE8F3",
            "linecolor": "#A2B1C6",
            "ticks": ""
           },
           "bgcolor": "white",
           "caxis": {
            "gridcolor": "#DFE8F3",
            "linecolor": "#A2B1C6",
            "ticks": ""
           }
          },
          "title": {
           "x": 0.05
          },
          "xaxis": {
           "automargin": true,
           "gridcolor": "#EBF0F8",
           "linecolor": "#EBF0F8",
           "ticks": "",
           "title": {
            "standoff": 15
           },
           "zerolinecolor": "#EBF0F8",
           "zerolinewidth": 2
          },
          "yaxis": {
           "automargin": true,
           "gridcolor": "#EBF0F8",
           "linecolor": "#EBF0F8",
           "ticks": "",
           "title": {
            "standoff": 15
           },
           "zerolinecolor": "#EBF0F8",
           "zerolinewidth": 2
          }
         }
        },
        "title": {
         "font": {
          "family": "Arial",
          "size": 30
         },
         "text": "The Cookie Run Kingdom: Top 20 guilds in Dark Cacao Server <br>(Guild Ranking Over Time)"
        },
        "width": 1600,
        "xaxis": {
         "anchor": "y",
         "domain": [
          0,
          1
         ],
         "showgrid": false,
         "title": {
          "text": "Season"
         }
        },
        "yaxis": {
         "anchor": "x",
         "domain": [
          0,
          1
         ],
         "range": [
          21,
          0
         ],
         "showgrid": false,
         "ticklabelstep": 1,
         "title": {
          "text": "SeasonRank"
         },
         "visible": false
        }
       }
      }
     },
     "metadata": {},
     "output_type": "display_data"
    }
   ],
   "source": [
    "top10_recent = data[\n",
    "    (data.SeasonRank <= 10) & (data.Round == data.Round.max())\n",
    "].GuildName.unique()\n",
    "\n",
    "max_date = str(data[data.GuildName.isin(top10_recent)].Date.max()).split(\" \")[0]\n",
    "\n",
    "fig = px.line(\n",
    "    data[(data.SeasonRank <= 20)],\n",
    "    x=\"Round\",\n",
    "    y=\"SeasonRank\",\n",
    "    color=\"GuildNameExtra\",\n",
    "    color_discrete_sequence=px.colors.qualitative.G10,\n",
    "    text=\"SeasonRank\",\n",
    "    markers=True,\n",
    "    line_shape=\"linear\",\n",
    "    labels={\"GuildNameExtra\": \"Guild\", \"Round\": \"Season\"},\n",
    "    template=\"plotly_white\",\n",
    "    hover_name=\"GuildNameExtra\",\n",
    "    hover_data={\n",
    "        \"GuildNameExtra\": False,\n",
    "        \"Round\": True,\n",
    "        \"SeasonRank\": False,\n",
    "        \"Date\": \"|%d %B %Y\",\n",
    "        \"Trophies\": \":,.0f\",\n",
    "        \"SeasonTotal\": \":,.0f\",\n",
    "    },\n",
    "    height=1100,\n",
    "    width=1600,\n",
    ")\n",
    "\n",
    "\n",
    "fig.update_yaxes(\n",
    "    title=\"SeasonRank\", ticklabelstep=1, range=[21, 0], showgrid=False, visible=False\n",
    ")\n",
    "\n",
    "fig.update_xaxes(title=\"Season\", showgrid=False)\n",
    "\n",
    "fig.update_traces(\n",
    "    marker_symbol=\"circle\",\n",
    "    marker_size=20,\n",
    "    textposition=\"middle center\",\n",
    "    textfont=dict(family=\"Arial\", size=11, color=\"White\"),\n",
    ")\n",
    "\n",
    "\n",
    "annotations = []\n",
    "\n",
    "\n",
    "annotations.append(\n",
    "    dict(\n",
    "        text=f\"Created by: SantaMonica @ MolochTH<br>Last update: {max_date}\",\n",
    "        xref=\"paper\",\n",
    "        yref=\"paper\",\n",
    "        x=1.2,\n",
    "        y=-0.05,\n",
    "        xanchor=\"right\",\n",
    "        yanchor=\"top\",\n",
    "        font=dict(\n",
    "            family=\"Arial\",\n",
    "            size=10,\n",
    "            color=\"rgb(150,150,150)\",\n",
    "        ),\n",
    "        showarrow=False,\n",
    "    )\n",
    ")\n",
    "\n",
    "fig.update_layout(\n",
    "    annotations=annotations,\n",
    "    title_text=f\"The Cookie Run Kingdom: Top 20 guilds in Dark Cacao Server <br>(Guild Ranking Over Time)\",\n",
    "    title_font_family=\"Arial\",\n",
    "    title_font_size=30,\n",
    "    legend=dict(\n",
    "        # x=0,\n",
    "        # y=1,\n",
    "        # traceorder=\"reversed\",\n",
    "        font=dict(\n",
    "            family=\"Arial\",\n",
    "            size=15,\n",
    "            color=\"black\",\n",
    "        ),\n",
    "        bgcolor=None,\n",
    "        bordercolor=None,\n",
    "        borderwidth=None,\n",
    "    ),\n",
    "    hovermode=\"closest\",\n",
    ")\n",
    "\n",
    "fig.show()"
   ]
  },
  {
   "cell_type": "code",
   "execution_count": 34,
   "metadata": {},
   "outputs": [],
   "source": [
    "report_path = r\"report\\top20_ranking_overtime.html\"\n",
    "fig.write_html(report_path)"
   ]
  },
  {
   "cell_type": "markdown",
   "metadata": {},
   "source": [
    "---\n"
   ]
  },
  {
   "cell_type": "code",
   "execution_count": null,
   "metadata": {},
   "outputs": [
    {
     "data": {
      "text/plain": [
       "(array([2001, 2002, 2003, 2004, 2005, 2006, 2007, 2008, 2009, 2010, 2011,\n",
       "        2012, 2013]),\n",
       " array([2001, 2002, 2003, 2004, 2005, 2006, 2007, 2008, 2009, 2010, 2011,\n",
       "        2012, 2013]),\n",
       " array([2001, 2002, 2003, 2004, 2005, 2006, 2007, 2008, 2009, 2010, 2011,\n",
       "        2012, 2013]),\n",
       " array([2001, 2002, 2003, 2004, 2005, 2006, 2007, 2008, 2009, 2010, 2011,\n",
       "        2012, 2013]))"
      ]
     },
     "execution_count": 18,
     "metadata": {},
     "output_type": "execute_result"
    }
   ],
   "source": [
    "(np.arange(2001, 2014),) * 4"
   ]
  },
  {
   "cell_type": "code",
   "execution_count": null,
   "metadata": {},
   "outputs": [
    {
     "data": {
      "text/plain": [
       "20"
      ]
     },
     "execution_count": 19,
     "metadata": {},
     "output_type": "execute_result"
    }
   ],
   "source": [
    "plot_data = rep_table.T\n",
    "\n",
    "plot_data.loc[[\"Trophies\"], :].values\n",
    "\n",
    "\n",
    "plot_data.columns.values\n",
    "\n",
    "x_data = np.vstack(\n",
    "    tup=(np.array(plot_data.index.get_level_values(level=1).values),) * 20\n",
    ")\n",
    "\n",
    "len(x_data)"
   ]
  },
  {
   "cell_type": "code",
   "execution_count": null,
   "metadata": {},
   "outputs": [
    {
     "data": {
      "text/plain": [
       "array([[2, 1, 3, 4, 5, 6, 7, 8, 9, 10, 11, 12, 13, 14, 15, 17, 18, 20,\n",
       "        16, <NA>, <NA>, 19, <NA>],\n",
       "       [2, 1, 3, 6, 4, 5, 7, 8, 9, 10, 11, 12, 13, 14, 15, 18, 17, 20,\n",
       "        16, <NA>, <NA>, 19, <NA>],\n",
       "       [2, 1, 3, 5, 4, 6, 7, 8, 9, 10, 11, 12, 13, 14, 15, 18, 17, 20,\n",
       "        16, <NA>, <NA>, 19, <NA>],\n",
       "       [2, 1, 3, 4, 5, 6, 8, 7, 9, 10, 11, 12, 14, 13, 15, 16, 17, 18,\n",
       "        19, 21, 20, <NA>, <NA>],\n",
       "       [1, 2, 3, 4, 5, 6, 7, 8, 9, 10, 11, 12, 13, 14, 15, 16, 17, 18,\n",
       "        19, 20, <NA>, <NA>, <NA>],\n",
       "       [1, 2, 3, 4, 5, 6, 7, 9, 8, 10, 11, 12, 13, 14, 16, 15, 17, 18,\n",
       "        19, 20, <NA>, <NA>, <NA>],\n",
       "       [1, 2, 3, 6, 4, 7, 5, 8, 9, 10, 11, 12, 14, 13, 18, 19, 16, 17,\n",
       "        15, 20, <NA>, <NA>, <NA>],\n",
       "       [1, 2, 3, 6, 4, 7, 5, 8, 9, 10, 11, 12, 14, 13, 19, 18, 16, 17,\n",
       "        15, 20, <NA>, <NA>, <NA>],\n",
       "       [1, 2, 3, 5, 6, 8, 4, 7, 9, 10, 11, 12, 15, 13, 18, 19, 16, 17,\n",
       "        14, 20, <NA>, <NA>, <NA>],\n",
       "       [1, 2, 3, 5, 6, 8, 4, 7, 11, 10, 12, 13, 16, 15, 18, 21, 17, 19,\n",
       "        14, 20, <NA>, <NA>, 9],\n",
       "       [1, 2, 3, 6, 4, 12, 5, 7, 11, 10, 9, 14, 15, 16, 17, 22, 18, 19,\n",
       "        13, 20, <NA>, <NA>, 8],\n",
       "       [1, 2, 3, 6, 4, 12, 5, 7, 11, 9, 10, 14, 15, 16, 17, 24, 18, 19,\n",
       "        13, 20, <NA>, <NA>, 8],\n",
       "       [1, 2, 3, 6, 4, 13, 5, 7, 11, 9, 10, 15, 14, 16, 17, 23, 18, 19,\n",
       "        12, 20, <NA>, <NA>, 8],\n",
       "       [1, 2, 3, 6, 4, 13, 5, 8, 11, 10, 9, 15, 14, 16, 17, 22, 18, 19,\n",
       "        12, 20, <NA>, <NA>, 7]], dtype=object)"
      ]
     },
     "execution_count": 20,
     "metadata": {},
     "output_type": "execute_result"
    }
   ],
   "source": [
    "plot_data.loc[[\"Rank\"], :].values"
   ]
  },
  {
   "cell_type": "markdown",
   "metadata": {},
   "source": [
    "# PyGWalker"
   ]
  },
  {
   "cell_type": "code",
   "execution_count": null,
   "metadata": {},
   "outputs": [
    {
     "data": {
      "application/vnd.jupyter.widget-view+json": {
       "model_id": "b7aac54f52bc4c52864bb9d46868078e",
       "version_major": 2,
       "version_minor": 0
      },
      "text/plain": [
       "Box(children=(HTML(value='<div id=\"ifr-pyg-000619a064c9462bHT3LnRuabmGKMEyj\" style=\"height: auto\">\\n    <head>…"
      ]
     },
     "metadata": {},
     "output_type": "display_data"
    },
    {
     "data": {
      "text/html": [],
      "text/plain": [
       "<IPython.core.display.HTML object>"
      ]
     },
     "metadata": {},
     "output_type": "display_data"
    }
   ],
   "source": [
    "import pygwalker as pyg\n",
    "\n",
    "walker = pyg.walk(data)"
   ]
  },
  {
   "cell_type": "markdown",
   "metadata": {},
   "source": [
    "## Guild Boss Trophies Over Time"
   ]
  },
  {
   "cell_type": "code",
   "execution_count": null,
   "metadata": {},
   "outputs": [
    {
     "data": {
      "application/vnd.plotly.v1+json": {
       "config": {
        "plotlyServerURL": "https://plot.ly"
       },
       "data": [
        {
         "customdata": [
          [
           "Spearmint",
           1,
           "2024-02-27T00:00:00"
          ],
          [
           "Spearmint",
           1,
           "2024-03-05T00:00:00"
          ],
          [
           "Spearmint",
           1,
           "2024-03-12T00:00:00"
          ],
          [
           "Spearmint",
           1,
           "2024-03-19T00:00:00"
          ],
          [
           "Spearmint",
           1,
           "2024-03-26T00:00:00"
          ],
          [
           "Spearmint",
           1,
           "2024-04-02T00:00:00"
          ],
          [
           "Spearmint",
           1,
           "2024-04-09T00:00:00"
          ],
          [
           "Spearmint",
           1,
           "2024-04-16T00:00:00"
          ],
          [
           "Spearmint",
           1,
           "2024-04-23T00:00:00"
          ],
          [
           "Spearmint",
           1,
           "2024-04-30T00:00:00"
          ],
          [
           "Spearmint",
           2,
           "2024-05-07T00:00:00"
          ],
          [
           "Spearmint",
           2,
           "2024-05-14T00:00:00"
          ],
          [
           "Spearmint",
           2,
           "2024-05-21T00:00:00"
          ],
          [
           "Spearmint",
           2,
           "2024-05-28T00:00:00"
          ]
         ],
         "hovertemplate": "<b>%{hovertext}</b><br><br>Season=%{x}<br>Trophies=%{y:,.0f}<br>Rank=%{customdata[1]:,.0f}<br>Date=%{customdata[2]|%B %d, %Y}<extra></extra>",
         "hovertext": [
          "Spearmint",
          "Spearmint",
          "Spearmint",
          "Spearmint",
          "Spearmint",
          "Spearmint",
          "Spearmint",
          "Spearmint",
          "Spearmint",
          "Spearmint",
          "Spearmint",
          "Spearmint",
          "Spearmint",
          "Spearmint"
         ],
         "legendgroup": "Spearmint",
         "line": {
          "color": "#316395",
          "dash": "solid"
         },
         "marker": {
          "symbol": "circle"
         },
         "mode": "lines+markers",
         "name": "Spearmint",
         "orientation": "v",
         "showlegend": true,
         "type": "scatter",
         "x": [
          "1-1",
          "1-2",
          "1-3",
          "1-4",
          "2-1",
          "2-2",
          "2-3",
          "2-4",
          "3-1",
          "3-2",
          "3-3",
          "4-1",
          "4-2",
          "4-3"
         ],
         "xaxis": "x",
         "y": [
          10513190,
          10692545,
          10770870,
          10779410,
          10949190,
          11036070,
          11037250,
          11044970,
          11216060,
          11211090,
          11122140,
          11773265,
          11768065,
          12495730
         ],
         "yaxis": "y"
        },
        {
         "customdata": [
          [
           "Vivid",
           2,
           "2024-02-27T00:00:00"
          ],
          [
           "Vivid",
           2,
           "2024-03-05T00:00:00"
          ],
          [
           "Vivid",
           2,
           "2024-03-12T00:00:00"
          ],
          [
           "Vivid",
           2,
           "2024-03-19T00:00:00"
          ],
          [
           "Vivid",
           2,
           "2024-03-26T00:00:00"
          ],
          [
           "Vivid",
           2,
           "2024-04-02T00:00:00"
          ],
          [
           "Vivid",
           2,
           "2024-04-09T00:00:00"
          ],
          [
           "Vivid",
           2,
           "2024-04-16T00:00:00"
          ],
          [
           "Vivid",
           2,
           "2024-04-23T00:00:00"
          ],
          [
           "Vivid",
           2,
           "2024-04-30T00:00:00"
          ],
          [
           "Vivid",
           1,
           "2024-05-07T00:00:00"
          ],
          [
           "Vivid",
           1,
           "2024-05-14T00:00:00"
          ],
          [
           "Vivid",
           1,
           "2024-05-21T00:00:00"
          ],
          [
           "Vivid",
           1,
           "2024-05-28T00:00:00"
          ]
         ],
         "hovertemplate": "<b>%{hovertext}</b><br><br>Season=%{x}<br>Trophies=%{y:,.0f}<br>Rank=%{customdata[1]:,.0f}<br>Date=%{customdata[2]|%B %d, %Y}<extra></extra>",
         "hovertext": [
          "Vivid",
          "Vivid",
          "Vivid",
          "Vivid",
          "Vivid",
          "Vivid",
          "Vivid",
          "Vivid",
          "Vivid",
          "Vivid",
          "Vivid",
          "Vivid",
          "Vivid",
          "Vivid"
         ],
         "legendgroup": "Vivid",
         "line": {
          "color": "#B82E2E",
          "dash": "solid"
         },
         "marker": {
          "symbol": "circle"
         },
         "mode": "lines+markers",
         "name": "Vivid",
         "orientation": "v",
         "showlegend": true,
         "type": "scatter",
         "x": [
          "1-1",
          "1-2",
          "1-3",
          "1-4",
          "2-1",
          "2-2",
          "2-3",
          "2-4",
          "3-1",
          "3-2",
          "3-3",
          "4-1",
          "4-2",
          "4-3"
         ],
         "xaxis": "x",
         "y": [
          10510940,
          10598695,
          10690270,
          10702360,
          10866400,
          10945065,
          11028425,
          11128220,
          11041545,
          11115440,
          11398630,
          11856320,
          11782185,
          12498900
         ],
         "yaxis": "y"
        },
        {
         "customdata": [
          [
           "Nobless",
           3,
           "2024-02-27T00:00:00"
          ],
          [
           "Nobless",
           3,
           "2024-03-05T00:00:00"
          ],
          [
           "Nobless",
           3,
           "2024-03-12T00:00:00"
          ],
          [
           "Nobless",
           3,
           "2024-03-19T00:00:00"
          ],
          [
           "Nobless",
           3,
           "2024-03-26T00:00:00"
          ],
          [
           "Nobless",
           3,
           "2024-04-02T00:00:00"
          ],
          [
           "Nobless",
           3,
           "2024-04-09T00:00:00"
          ],
          [
           "Nobless",
           3,
           "2024-04-16T00:00:00"
          ],
          [
           "Nobless",
           3,
           "2024-04-23T00:00:00"
          ],
          [
           "Nobless",
           3,
           "2024-04-30T00:00:00"
          ],
          [
           "Nobless",
           3,
           "2024-05-07T00:00:00"
          ],
          [
           "Nobless",
           3,
           "2024-05-14T00:00:00"
          ],
          [
           "Nobless",
           3,
           "2024-05-21T00:00:00"
          ],
          [
           "Nobless",
           3,
           "2024-05-28T00:00:00"
          ]
         ],
         "hovertemplate": "<b>%{hovertext}</b><br><br>Season=%{x}<br>Trophies=%{y:,.0f}<br>Rank=%{customdata[1]:,.0f}<br>Date=%{customdata[2]|%B %d, %Y}<extra></extra>",
         "hovertext": [
          "Nobless",
          "Nobless",
          "Nobless",
          "Nobless",
          "Nobless",
          "Nobless",
          "Nobless",
          "Nobless",
          "Nobless",
          "Nobless",
          "Nobless",
          "Nobless",
          "Nobless",
          "Nobless"
         ],
         "legendgroup": "Nobless",
         "line": {
          "color": "#66AA00",
          "dash": "solid"
         },
         "marker": {
          "symbol": "circle"
         },
         "mode": "lines+markers",
         "name": "Nobless",
         "orientation": "v",
         "showlegend": true,
         "type": "scatter",
         "x": [
          "1-1",
          "1-2",
          "1-3",
          "1-4",
          "2-1",
          "2-2",
          "2-3",
          "2-4",
          "3-1",
          "3-2",
          "3-3",
          "4-1",
          "4-2",
          "4-3"
         ],
         "xaxis": "x",
         "y": [
          10251975,
          10259645,
          10424260,
          10349095,
          10517570,
          10532845,
          10762930,
          10767570,
          10792615,
          10781320,
          10865505,
          11397880,
          11407690,
          11943105
         ],
         "yaxis": "y"
        },
        {
         "customdata": [
          [
           "LAODA",
           4,
           "2024-02-27T00:00:00"
          ],
          [
           "LAODA",
           4,
           "2024-03-05T00:00:00"
          ],
          [
           "LAODA",
           4,
           "2024-03-12T00:00:00"
          ],
          [
           "LAODA",
           4,
           "2024-03-19T00:00:00"
          ],
          [
           "LAODA",
           6,
           "2024-03-26T00:00:00"
          ],
          [
           "LAODA",
           6,
           "2024-04-02T00:00:00"
          ],
          [
           "LAODA",
           4,
           "2024-04-09T00:00:00"
          ],
          [
           "LAODA",
           4,
           "2024-04-16T00:00:00"
          ],
          [
           "LAODA",
           5,
           "2024-04-23T00:00:00"
          ],
          [
           "LAODA",
           5,
           "2024-04-30T00:00:00"
          ],
          [
           "LAODA",
           5,
           "2024-05-07T00:00:00"
          ],
          [
           "LAODA",
           4,
           "2024-05-14T00:00:00"
          ],
          [
           "LAODA",
           4,
           "2024-05-21T00:00:00"
          ],
          [
           "LAODA",
           5,
           "2024-05-28T00:00:00"
          ]
         ],
         "hovertemplate": "<b>%{hovertext}</b><br><br>Season=%{x}<br>Trophies=%{y:,.0f}<br>Rank=%{customdata[1]:,.0f}<br>Date=%{customdata[2]|%B %d, %Y}<extra></extra>",
         "hovertext": [
          "LAODA",
          "LAODA",
          "LAODA",
          "LAODA",
          "LAODA",
          "LAODA",
          "LAODA",
          "LAODA",
          "LAODA",
          "LAODA",
          "LAODA",
          "LAODA",
          "LAODA",
          "LAODA"
         ],
         "legendgroup": "LAODA",
         "line": {
          "color": "#DD4477",
          "dash": "solid"
         },
         "marker": {
          "symbol": "circle"
         },
         "mode": "lines+markers",
         "name": "LAODA",
         "orientation": "v",
         "showlegend": true,
         "type": "scatter",
         "x": [
          "1-1",
          "1-2",
          "1-3",
          "1-4",
          "2-1",
          "2-2",
          "2-3",
          "2-4",
          "3-1",
          "3-2",
          "3-3",
          "4-1",
          "4-2",
          "4-3"
         ],
         "xaxis": "x",
         "y": [
          10011795,
          10091870,
          10103600,
          10174935,
          10260975,
          10340180,
          10520225,
          10600065,
          10609375,
          10691550,
          10778080,
          11242265,
          11411315,
          11859400
         ],
         "yaxis": "y"
        },
        {
         "customdata": [
          [
           "미라클",
           5,
           "2024-02-27T00:00:00"
          ],
          [
           "미라클",
           5,
           "2024-03-05T00:00:00"
          ],
          [
           "미라클",
           5,
           "2024-03-12T00:00:00"
          ],
          [
           "미라클",
           5,
           "2024-03-19T00:00:00"
          ],
          [
           "미라클",
           4,
           "2024-03-26T00:00:00"
          ],
          [
           "미라클",
           4,
           "2024-04-02T00:00:00"
          ],
          [
           "미라클",
           5,
           "2024-04-09T00:00:00"
          ],
          [
           "미라클",
           5,
           "2024-04-16T00:00:00"
          ],
          [
           "미라클",
           7,
           "2024-04-23T00:00:00"
          ],
          [
           "미라클",
           7,
           "2024-04-30T00:00:00"
          ],
          [
           "미라클",
           8,
           "2024-05-07T00:00:00"
          ],
          [
           "미라클",
           7,
           "2024-05-14T00:00:00"
          ],
          [
           "미라클",
           7,
           "2024-05-21T00:00:00"
          ],
          [
           "미라클",
           7,
           "2024-05-28T00:00:00"
          ]
         ],
         "hovertemplate": "<b>%{hovertext}</b><br><br>Season=%{x}<br>Trophies=%{y:,.0f}<br>Rank=%{customdata[1]:,.0f}<br>Date=%{customdata[2]|%B %d, %Y}<extra></extra>",
         "hovertext": [
          "미라클",
          "미라클",
          "미라클",
          "미라클",
          "미라클",
          "미라클",
          "미라클",
          "미라클",
          "미라클",
          "미라클",
          "미라클",
          "미라클",
          "미라클",
          "미라클"
         ],
         "legendgroup": "미라클",
         "line": {
          "color": "#0099C6",
          "dash": "solid"
         },
         "marker": {
          "symbol": "circle"
         },
         "mode": "lines+markers",
         "name": "미라클",
         "orientation": "v",
         "showlegend": true,
         "type": "scatter",
         "x": [
          "1-1",
          "1-2",
          "1-3",
          "1-4",
          "2-1",
          "2-2",
          "2-3",
          "2-4",
          "3-1",
          "3-2",
          "3-3",
          "4-1",
          "4-2",
          "4-3"
         ],
         "xaxis": "x",
         "y": [
          9930645,
          9930695,
          10096910,
          10263565,
          10343795,
          10352155,
          10346675,
          10433690,
          10510435,
          10599700,
          10518955,
          11141720,
          11233590,
          11762665
         ],
         "yaxis": "y"
        },
        {
         "customdata": [
          [
           "님",
           6,
           "2024-02-27T00:00:00"
          ],
          [
           "님",
           6,
           "2024-03-05T00:00:00"
          ],
          [
           "님",
           6,
           "2024-03-12T00:00:00"
          ],
          [
           "님",
           6,
           "2024-03-19T00:00:00"
          ],
          [
           "님",
           5,
           "2024-03-26T00:00:00"
          ],
          [
           "님",
           5,
           "2024-04-02T00:00:00"
          ],
          [
           "님",
           6,
           "2024-04-09T00:00:00"
          ],
          [
           "님",
           6,
           "2024-04-16T00:00:00"
          ],
          [
           "님",
           4,
           "2024-04-23T00:00:00"
          ],
          [
           "님",
           4,
           "2024-04-30T00:00:00"
          ],
          [
           "님",
           4,
           "2024-05-07T00:00:00"
          ],
          [
           "님",
           5,
           "2024-05-14T00:00:00"
          ],
          [
           "님",
           6,
           "2024-05-21T00:00:00"
          ],
          [
           "님",
           4,
           "2024-05-28T00:00:00"
          ]
         ],
         "hovertemplate": "<b>%{hovertext}</b><br><br>Season=%{x}<br>Trophies=%{y:,.0f}<br>Rank=%{customdata[1]:,.0f}<br>Date=%{customdata[2]|%B %d, %Y}<extra></extra>",
         "hovertext": [
          "님",
          "님",
          "님",
          "님",
          "님",
          "님",
          "님",
          "님",
          "님",
          "님",
          "님",
          "님",
          "님",
          "님"
         ],
         "legendgroup": "님",
         "line": {
          "color": "#990099",
          "dash": "solid"
         },
         "marker": {
          "symbol": "circle"
         },
         "mode": "lines+markers",
         "name": "님",
         "orientation": "v",
         "showlegend": true,
         "type": "scatter",
         "x": [
          "1-1",
          "1-2",
          "1-3",
          "1-4",
          "2-1",
          "2-2",
          "2-3",
          "2-4",
          "3-1",
          "3-2",
          "3-3",
          "4-1",
          "4-2",
          "4-3"
         ],
         "xaxis": "x",
         "y": [
          9688065,
          10173275,
          9678260,
          10005140,
          10262110,
          10350005,
          10351645,
          10426780,
          10621980,
          10683770,
          10791950,
          11240180,
          11230760,
          12114505
         ],
         "yaxis": "y"
        },
        {
         "customdata": [
          [
           "Crown",
           8,
           "2024-02-27T00:00:00"
          ],
          [
           "Crown",
           7,
           "2024-03-05T00:00:00"
          ],
          [
           "Crown",
           7,
           "2024-03-12T00:00:00"
          ],
          [
           "Crown",
           7,
           "2024-03-19T00:00:00"
          ],
          [
           "Crown",
           7,
           "2024-03-26T00:00:00"
          ],
          [
           "Crown",
           7,
           "2024-04-02T00:00:00"
          ],
          [
           "Crown",
           8,
           "2024-04-09T00:00:00"
          ],
          [
           "Crown",
           8,
           "2024-04-16T00:00:00"
          ],
          [
           "Crown",
           9,
           "2024-04-23T00:00:00"
          ],
          [
           "Crown",
           8,
           "2024-04-30T00:00:00"
          ],
          [
           "Crown",
           7,
           "2024-05-07T00:00:00"
          ],
          [
           "Crown",
           8,
           "2024-05-14T00:00:00"
          ],
          [
           "Crown",
           8,
           "2024-05-21T00:00:00"
          ],
          [
           "Crown",
           8,
           "2024-05-28T00:00:00"
          ]
         ],
         "hovertemplate": "<b>%{hovertext}</b><br><br>Season=%{x}<br>Trophies=%{y:,.0f}<br>Rank=%{customdata[1]:,.0f}<br>Date=%{customdata[2]|%B %d, %Y}<extra></extra>",
         "hovertext": [
          "Crown",
          "Crown",
          "Crown",
          "Crown",
          "Crown",
          "Crown",
          "Crown",
          "Crown",
          "Crown",
          "Crown",
          "Crown",
          "Crown",
          "Crown",
          "Crown"
         ],
         "legendgroup": "Crown",
         "line": {
          "color": "#109618",
          "dash": "solid"
         },
         "marker": {
          "symbol": "circle"
         },
         "mode": "lines+markers",
         "name": "Crown",
         "orientation": "v",
         "showlegend": true,
         "type": "scatter",
         "x": [
          "1-1",
          "1-2",
          "1-3",
          "1-4",
          "2-1",
          "2-2",
          "2-3",
          "2-4",
          "3-1",
          "3-2",
          "3-3",
          "4-1",
          "4-2",
          "4-3"
         ],
         "xaxis": "x",
         "y": [
          9591650,
          9836010,
          9835780,
          10085080,
          10165695,
          10165775,
          10084940,
          10508315,
          10430030,
          10595575,
          10679720,
          11053810,
          11226560,
          11572160
         ],
         "yaxis": "y"
        },
        {
         "customdata": [
          [
           "열매",
           10,
           "2024-02-27T00:00:00"
          ],
          [
           "열매",
           9,
           "2024-03-05T00:00:00"
          ],
          [
           "열매",
           9,
           "2024-03-12T00:00:00"
          ],
          [
           "열매",
           10,
           "2024-03-19T00:00:00"
          ],
          [
           "열매",
           10,
           "2024-03-26T00:00:00"
          ],
          [
           "열매",
           10,
           "2024-04-02T00:00:00"
          ],
          [
           "열매",
           10,
           "2024-04-09T00:00:00"
          ],
          [
           "열매",
           10,
           "2024-04-16T00:00:00"
          ],
          [
           "열매",
           10,
           "2024-04-23T00:00:00"
          ],
          [
           "열매",
           10,
           "2024-04-30T00:00:00"
          ],
          [
           "열매",
           10,
           "2024-05-07T00:00:00"
          ],
          [
           "열매",
           10,
           "2024-05-14T00:00:00"
          ],
          [
           "열매",
           10,
           "2024-05-21T00:00:00"
          ],
          [
           "열매",
           10,
           "2024-05-28T00:00:00"
          ]
         ],
         "hovertemplate": "<b>%{hovertext}</b><br><br>Season=%{x}<br>Trophies=%{y:,.0f}<br>Rank=%{customdata[1]:,.0f}<br>Date=%{customdata[2]|%B %d, %Y}<extra></extra>",
         "hovertext": [
          "열매",
          "열매",
          "열매",
          "열매",
          "열매",
          "열매",
          "열매",
          "열매",
          "열매",
          "열매",
          "열매",
          "열매",
          "열매",
          "열매"
         ],
         "legendgroup": "열매",
         "line": {
          "color": "#FF9900",
          "dash": "solid"
         },
         "marker": {
          "symbol": "circle"
         },
         "mode": "lines+markers",
         "name": "열매",
         "orientation": "v",
         "showlegend": true,
         "type": "scatter",
         "x": [
          "1-1",
          "1-2",
          "1-3",
          "1-4",
          "2-1",
          "2-2",
          "2-3",
          "2-4",
          "3-1",
          "3-2",
          "3-3",
          "4-1",
          "4-2",
          "4-3"
         ],
         "xaxis": "x",
         "y": [
          9516665,
          9683165,
          9685015,
          9686065,
          9936820,
          9934520,
          10108120,
          10188930,
          10265120,
          10350345,
          10433560,
          11045180,
          10885185,
          11665790
         ],
         "yaxis": "y"
        },
        {
         "customdata": [
          [
           "MolochTH",
           11,
           "2024-02-27T00:00:00"
          ],
          [
           "MolochTH",
           11,
           "2024-03-05T00:00:00"
          ],
          [
           "MolochTH",
           11,
           "2024-03-12T00:00:00"
          ],
          [
           "MolochTH",
           11,
           "2024-03-19T00:00:00"
          ],
          [
           "MolochTH",
           11,
           "2024-03-26T00:00:00"
          ],
          [
           "MolochTH",
           9,
           "2024-04-02T00:00:00"
          ],
          [
           "MolochTH",
           9,
           "2024-04-09T00:00:00"
          ],
          [
           "MolochTH",
           9,
           "2024-04-16T00:00:00"
          ],
          [
           "MolochTH",
           8,
           "2024-04-23T00:00:00"
          ],
          [
           "MolochTH",
           9,
           "2024-04-30T00:00:00"
          ],
          [
           "MolochTH",
           9,
           "2024-05-07T00:00:00"
          ],
          [
           "MolochTH",
           9,
           "2024-05-14T00:00:00"
          ],
          [
           "MolochTH",
           9,
           "2024-05-21T00:00:00"
          ],
          [
           "MolochTH",
           9,
           "2024-05-28T00:00:00"
          ]
         ],
         "hovertemplate": "<b>%{hovertext}</b><br><br>Season=%{x}<br>Trophies=%{y:,.0f}<br>Rank=%{customdata[1]:,.0f}<br>Date=%{customdata[2]|%B %d, %Y}<extra></extra>",
         "hovertext": [
          "MolochTH",
          "MolochTH",
          "MolochTH",
          "MolochTH",
          "MolochTH",
          "MolochTH",
          "MolochTH",
          "MolochTH",
          "MolochTH",
          "MolochTH",
          "MolochTH",
          "MolochTH",
          "MolochTH",
          "MolochTH"
         ],
         "legendgroup": "MolochTH",
         "line": {
          "color": "#DC3912",
          "dash": "solid"
         },
         "marker": {
          "symbol": "circle"
         },
         "mode": "lines+markers",
         "name": "MolochTH",
         "orientation": "v",
         "showlegend": true,
         "type": "scatter",
         "x": [
          "1-1",
          "1-2",
          "1-3",
          "1-4",
          "2-1",
          "2-2",
          "2-3",
          "2-4",
          "3-1",
          "3-2",
          "3-3",
          "4-1",
          "4-2",
          "4-3"
         ],
         "xaxis": "x",
         "y": [
          9356625,
          9530190,
          9763490,
          9841245,
          9931170,
          10094570,
          10262850,
          10256305,
          10430590,
          10520085,
          10598615,
          11048890,
          11142940,
          11477380
         ],
         "yaxis": "y"
        },
        {
         "customdata": [
          [
           "이지스",
           13,
           "2024-02-27T00:00:00"
          ],
          [
           "이지스",
           13,
           "2024-03-05T00:00:00"
          ],
          [
           "이지스",
           12,
           "2024-03-12T00:00:00"
          ],
          [
           "이지스",
           12,
           "2024-03-19T00:00:00"
          ],
          [
           "이지스",
           8,
           "2024-03-26T00:00:00"
          ],
          [
           "이지스",
           8,
           "2024-04-02T00:00:00"
          ],
          [
           "이지스",
           7,
           "2024-04-09T00:00:00"
          ],
          [
           "이지스",
           7,
           "2024-04-16T00:00:00"
          ],
          [
           "이지스",
           6,
           "2024-04-23T00:00:00"
          ],
          [
           "이지스",
           6,
           "2024-04-30T00:00:00"
          ],
          [
           "이지스",
           6,
           "2024-05-07T00:00:00"
          ],
          [
           "이지스",
           6,
           "2024-05-14T00:00:00"
          ],
          [
           "이지스",
           5,
           "2024-05-21T00:00:00"
          ],
          [
           "이지스",
           6,
           "2024-05-28T00:00:00"
          ]
         ],
         "hovertemplate": "<b>%{hovertext}</b><br><br>Season=%{x}<br>Trophies=%{y:,.0f}<br>Rank=%{customdata[1]:,.0f}<br>Date=%{customdata[2]|%B %d, %Y}<extra></extra>",
         "hovertext": [
          "이지스",
          "이지스",
          "이지스",
          "이지스",
          "이지스",
          "이지스",
          "이지스",
          "이지스",
          "이지스",
          "이지스",
          "이지스",
          "이지스",
          "이지스",
          "이지스"
         ],
         "legendgroup": "이지스",
         "line": {
          "color": "#3366CC",
          "dash": "solid"
         },
         "marker": {
          "symbol": "circle"
         },
         "mode": "lines+markers",
         "name": "이지스",
         "orientation": "v",
         "showlegend": true,
         "type": "scatter",
         "x": [
          "1-1",
          "1-2",
          "1-3",
          "1-4",
          "2-1",
          "2-2",
          "2-3",
          "2-4",
          "3-1",
          "3-2",
          "3-3",
          "4-1",
          "4-2",
          "4-3"
         ],
         "xaxis": "x",
         "y": [
          9286600,
          9367650,
          9614385,
          9936100,
          10018860,
          10186940,
          10361535,
          10433950,
          10525165,
          10614170,
          10784790,
          11148110,
          11408945,
          11851050
         ],
         "yaxis": "y"
        }
       ],
       "layout": {
        "height": 800,
        "legend": {
         "title": {
          "text": "GuildName"
         },
         "tracegroupgap": 0
        },
        "template": {
         "data": {
          "bar": [
           {
            "error_x": {
             "color": "rgb(36,36,36)"
            },
            "error_y": {
             "color": "rgb(36,36,36)"
            },
            "marker": {
             "line": {
              "color": "white",
              "width": 0.5
             },
             "pattern": {
              "fillmode": "overlay",
              "size": 10,
              "solidity": 0.2
             }
            },
            "type": "bar"
           }
          ],
          "barpolar": [
           {
            "marker": {
             "line": {
              "color": "white",
              "width": 0.5
             },
             "pattern": {
              "fillmode": "overlay",
              "size": 10,
              "solidity": 0.2
             }
            },
            "type": "barpolar"
           }
          ],
          "carpet": [
           {
            "aaxis": {
             "endlinecolor": "rgb(36,36,36)",
             "gridcolor": "white",
             "linecolor": "white",
             "minorgridcolor": "white",
             "startlinecolor": "rgb(36,36,36)"
            },
            "baxis": {
             "endlinecolor": "rgb(36,36,36)",
             "gridcolor": "white",
             "linecolor": "white",
             "minorgridcolor": "white",
             "startlinecolor": "rgb(36,36,36)"
            },
            "type": "carpet"
           }
          ],
          "choropleth": [
           {
            "colorbar": {
             "outlinewidth": 1,
             "tickcolor": "rgb(36,36,36)",
             "ticks": "outside"
            },
            "type": "choropleth"
           }
          ],
          "contour": [
           {
            "colorbar": {
             "outlinewidth": 1,
             "tickcolor": "rgb(36,36,36)",
             "ticks": "outside"
            },
            "colorscale": [
             [
              0,
              "#440154"
             ],
             [
              0.1111111111111111,
              "#482878"
             ],
             [
              0.2222222222222222,
              "#3e4989"
             ],
             [
              0.3333333333333333,
              "#31688e"
             ],
             [
              0.4444444444444444,
              "#26828e"
             ],
             [
              0.5555555555555556,
              "#1f9e89"
             ],
             [
              0.6666666666666666,
              "#35b779"
             ],
             [
              0.7777777777777778,
              "#6ece58"
             ],
             [
              0.8888888888888888,
              "#b5de2b"
             ],
             [
              1,
              "#fde725"
             ]
            ],
            "type": "contour"
           }
          ],
          "contourcarpet": [
           {
            "colorbar": {
             "outlinewidth": 1,
             "tickcolor": "rgb(36,36,36)",
             "ticks": "outside"
            },
            "type": "contourcarpet"
           }
          ],
          "heatmap": [
           {
            "colorbar": {
             "outlinewidth": 1,
             "tickcolor": "rgb(36,36,36)",
             "ticks": "outside"
            },
            "colorscale": [
             [
              0,
              "#440154"
             ],
             [
              0.1111111111111111,
              "#482878"
             ],
             [
              0.2222222222222222,
              "#3e4989"
             ],
             [
              0.3333333333333333,
              "#31688e"
             ],
             [
              0.4444444444444444,
              "#26828e"
             ],
             [
              0.5555555555555556,
              "#1f9e89"
             ],
             [
              0.6666666666666666,
              "#35b779"
             ],
             [
              0.7777777777777778,
              "#6ece58"
             ],
             [
              0.8888888888888888,
              "#b5de2b"
             ],
             [
              1,
              "#fde725"
             ]
            ],
            "type": "heatmap"
           }
          ],
          "heatmapgl": [
           {
            "colorbar": {
             "outlinewidth": 1,
             "tickcolor": "rgb(36,36,36)",
             "ticks": "outside"
            },
            "colorscale": [
             [
              0,
              "#440154"
             ],
             [
              0.1111111111111111,
              "#482878"
             ],
             [
              0.2222222222222222,
              "#3e4989"
             ],
             [
              0.3333333333333333,
              "#31688e"
             ],
             [
              0.4444444444444444,
              "#26828e"
             ],
             [
              0.5555555555555556,
              "#1f9e89"
             ],
             [
              0.6666666666666666,
              "#35b779"
             ],
             [
              0.7777777777777778,
              "#6ece58"
             ],
             [
              0.8888888888888888,
              "#b5de2b"
             ],
             [
              1,
              "#fde725"
             ]
            ],
            "type": "heatmapgl"
           }
          ],
          "histogram": [
           {
            "marker": {
             "line": {
              "color": "white",
              "width": 0.6
             }
            },
            "type": "histogram"
           }
          ],
          "histogram2d": [
           {
            "colorbar": {
             "outlinewidth": 1,
             "tickcolor": "rgb(36,36,36)",
             "ticks": "outside"
            },
            "colorscale": [
             [
              0,
              "#440154"
             ],
             [
              0.1111111111111111,
              "#482878"
             ],
             [
              0.2222222222222222,
              "#3e4989"
             ],
             [
              0.3333333333333333,
              "#31688e"
             ],
             [
              0.4444444444444444,
              "#26828e"
             ],
             [
              0.5555555555555556,
              "#1f9e89"
             ],
             [
              0.6666666666666666,
              "#35b779"
             ],
             [
              0.7777777777777778,
              "#6ece58"
             ],
             [
              0.8888888888888888,
              "#b5de2b"
             ],
             [
              1,
              "#fde725"
             ]
            ],
            "type": "histogram2d"
           }
          ],
          "histogram2dcontour": [
           {
            "colorbar": {
             "outlinewidth": 1,
             "tickcolor": "rgb(36,36,36)",
             "ticks": "outside"
            },
            "colorscale": [
             [
              0,
              "#440154"
             ],
             [
              0.1111111111111111,
              "#482878"
             ],
             [
              0.2222222222222222,
              "#3e4989"
             ],
             [
              0.3333333333333333,
              "#31688e"
             ],
             [
              0.4444444444444444,
              "#26828e"
             ],
             [
              0.5555555555555556,
              "#1f9e89"
             ],
             [
              0.6666666666666666,
              "#35b779"
             ],
             [
              0.7777777777777778,
              "#6ece58"
             ],
             [
              0.8888888888888888,
              "#b5de2b"
             ],
             [
              1,
              "#fde725"
             ]
            ],
            "type": "histogram2dcontour"
           }
          ],
          "mesh3d": [
           {
            "colorbar": {
             "outlinewidth": 1,
             "tickcolor": "rgb(36,36,36)",
             "ticks": "outside"
            },
            "type": "mesh3d"
           }
          ],
          "parcoords": [
           {
            "line": {
             "colorbar": {
              "outlinewidth": 1,
              "tickcolor": "rgb(36,36,36)",
              "ticks": "outside"
             }
            },
            "type": "parcoords"
           }
          ],
          "pie": [
           {
            "automargin": true,
            "type": "pie"
           }
          ],
          "scatter": [
           {
            "fillpattern": {
             "fillmode": "overlay",
             "size": 10,
             "solidity": 0.2
            },
            "type": "scatter"
           }
          ],
          "scatter3d": [
           {
            "line": {
             "colorbar": {
              "outlinewidth": 1,
              "tickcolor": "rgb(36,36,36)",
              "ticks": "outside"
             }
            },
            "marker": {
             "colorbar": {
              "outlinewidth": 1,
              "tickcolor": "rgb(36,36,36)",
              "ticks": "outside"
             }
            },
            "type": "scatter3d"
           }
          ],
          "scattercarpet": [
           {
            "marker": {
             "colorbar": {
              "outlinewidth": 1,
              "tickcolor": "rgb(36,36,36)",
              "ticks": "outside"
             }
            },
            "type": "scattercarpet"
           }
          ],
          "scattergeo": [
           {
            "marker": {
             "colorbar": {
              "outlinewidth": 1,
              "tickcolor": "rgb(36,36,36)",
              "ticks": "outside"
             }
            },
            "type": "scattergeo"
           }
          ],
          "scattergl": [
           {
            "marker": {
             "colorbar": {
              "outlinewidth": 1,
              "tickcolor": "rgb(36,36,36)",
              "ticks": "outside"
             }
            },
            "type": "scattergl"
           }
          ],
          "scattermapbox": [
           {
            "marker": {
             "colorbar": {
              "outlinewidth": 1,
              "tickcolor": "rgb(36,36,36)",
              "ticks": "outside"
             }
            },
            "type": "scattermapbox"
           }
          ],
          "scatterpolar": [
           {
            "marker": {
             "colorbar": {
              "outlinewidth": 1,
              "tickcolor": "rgb(36,36,36)",
              "ticks": "outside"
             }
            },
            "type": "scatterpolar"
           }
          ],
          "scatterpolargl": [
           {
            "marker": {
             "colorbar": {
              "outlinewidth": 1,
              "tickcolor": "rgb(36,36,36)",
              "ticks": "outside"
             }
            },
            "type": "scatterpolargl"
           }
          ],
          "scatterternary": [
           {
            "marker": {
             "colorbar": {
              "outlinewidth": 1,
              "tickcolor": "rgb(36,36,36)",
              "ticks": "outside"
             }
            },
            "type": "scatterternary"
           }
          ],
          "surface": [
           {
            "colorbar": {
             "outlinewidth": 1,
             "tickcolor": "rgb(36,36,36)",
             "ticks": "outside"
            },
            "colorscale": [
             [
              0,
              "#440154"
             ],
             [
              0.1111111111111111,
              "#482878"
             ],
             [
              0.2222222222222222,
              "#3e4989"
             ],
             [
              0.3333333333333333,
              "#31688e"
             ],
             [
              0.4444444444444444,
              "#26828e"
             ],
             [
              0.5555555555555556,
              "#1f9e89"
             ],
             [
              0.6666666666666666,
              "#35b779"
             ],
             [
              0.7777777777777778,
              "#6ece58"
             ],
             [
              0.8888888888888888,
              "#b5de2b"
             ],
             [
              1,
              "#fde725"
             ]
            ],
            "type": "surface"
           }
          ],
          "table": [
           {
            "cells": {
             "fill": {
              "color": "rgb(237,237,237)"
             },
             "line": {
              "color": "white"
             }
            },
            "header": {
             "fill": {
              "color": "rgb(217,217,217)"
             },
             "line": {
              "color": "white"
             }
            },
            "type": "table"
           }
          ]
         },
         "layout": {
          "annotationdefaults": {
           "arrowhead": 0,
           "arrowwidth": 1
          },
          "autotypenumbers": "strict",
          "coloraxis": {
           "colorbar": {
            "outlinewidth": 1,
            "tickcolor": "rgb(36,36,36)",
            "ticks": "outside"
           }
          },
          "colorscale": {
           "diverging": [
            [
             0,
             "rgb(103,0,31)"
            ],
            [
             0.1,
             "rgb(178,24,43)"
            ],
            [
             0.2,
             "rgb(214,96,77)"
            ],
            [
             0.3,
             "rgb(244,165,130)"
            ],
            [
             0.4,
             "rgb(253,219,199)"
            ],
            [
             0.5,
             "rgb(247,247,247)"
            ],
            [
             0.6,
             "rgb(209,229,240)"
            ],
            [
             0.7,
             "rgb(146,197,222)"
            ],
            [
             0.8,
             "rgb(67,147,195)"
            ],
            [
             0.9,
             "rgb(33,102,172)"
            ],
            [
             1,
             "rgb(5,48,97)"
            ]
           ],
           "sequential": [
            [
             0,
             "#440154"
            ],
            [
             0.1111111111111111,
             "#482878"
            ],
            [
             0.2222222222222222,
             "#3e4989"
            ],
            [
             0.3333333333333333,
             "#31688e"
            ],
            [
             0.4444444444444444,
             "#26828e"
            ],
            [
             0.5555555555555556,
             "#1f9e89"
            ],
            [
             0.6666666666666666,
             "#35b779"
            ],
            [
             0.7777777777777778,
             "#6ece58"
            ],
            [
             0.8888888888888888,
             "#b5de2b"
            ],
            [
             1,
             "#fde725"
            ]
           ],
           "sequentialminus": [
            [
             0,
             "#440154"
            ],
            [
             0.1111111111111111,
             "#482878"
            ],
            [
             0.2222222222222222,
             "#3e4989"
            ],
            [
             0.3333333333333333,
             "#31688e"
            ],
            [
             0.4444444444444444,
             "#26828e"
            ],
            [
             0.5555555555555556,
             "#1f9e89"
            ],
            [
             0.6666666666666666,
             "#35b779"
            ],
            [
             0.7777777777777778,
             "#6ece58"
            ],
            [
             0.8888888888888888,
             "#b5de2b"
            ],
            [
             1,
             "#fde725"
            ]
           ]
          },
          "colorway": [
           "#1F77B4",
           "#FF7F0E",
           "#2CA02C",
           "#D62728",
           "#9467BD",
           "#8C564B",
           "#E377C2",
           "#7F7F7F",
           "#BCBD22",
           "#17BECF"
          ],
          "font": {
           "color": "rgb(36,36,36)"
          },
          "geo": {
           "bgcolor": "white",
           "lakecolor": "white",
           "landcolor": "white",
           "showlakes": true,
           "showland": true,
           "subunitcolor": "white"
          },
          "hoverlabel": {
           "align": "left"
          },
          "hovermode": "closest",
          "mapbox": {
           "style": "light"
          },
          "paper_bgcolor": "white",
          "plot_bgcolor": "white",
          "polar": {
           "angularaxis": {
            "gridcolor": "rgb(232,232,232)",
            "linecolor": "rgb(36,36,36)",
            "showgrid": false,
            "showline": true,
            "ticks": "outside"
           },
           "bgcolor": "white",
           "radialaxis": {
            "gridcolor": "rgb(232,232,232)",
            "linecolor": "rgb(36,36,36)",
            "showgrid": false,
            "showline": true,
            "ticks": "outside"
           }
          },
          "scene": {
           "xaxis": {
            "backgroundcolor": "white",
            "gridcolor": "rgb(232,232,232)",
            "gridwidth": 2,
            "linecolor": "rgb(36,36,36)",
            "showbackground": true,
            "showgrid": false,
            "showline": true,
            "ticks": "outside",
            "zeroline": false,
            "zerolinecolor": "rgb(36,36,36)"
           },
           "yaxis": {
            "backgroundcolor": "white",
            "gridcolor": "rgb(232,232,232)",
            "gridwidth": 2,
            "linecolor": "rgb(36,36,36)",
            "showbackground": true,
            "showgrid": false,
            "showline": true,
            "ticks": "outside",
            "zeroline": false,
            "zerolinecolor": "rgb(36,36,36)"
           },
           "zaxis": {
            "backgroundcolor": "white",
            "gridcolor": "rgb(232,232,232)",
            "gridwidth": 2,
            "linecolor": "rgb(36,36,36)",
            "showbackground": true,
            "showgrid": false,
            "showline": true,
            "ticks": "outside",
            "zeroline": false,
            "zerolinecolor": "rgb(36,36,36)"
           }
          },
          "shapedefaults": {
           "fillcolor": "black",
           "line": {
            "width": 0
           },
           "opacity": 0.3
          },
          "ternary": {
           "aaxis": {
            "gridcolor": "rgb(232,232,232)",
            "linecolor": "rgb(36,36,36)",
            "showgrid": false,
            "showline": true,
            "ticks": "outside"
           },
           "baxis": {
            "gridcolor": "rgb(232,232,232)",
            "linecolor": "rgb(36,36,36)",
            "showgrid": false,
            "showline": true,
            "ticks": "outside"
           },
           "bgcolor": "white",
           "caxis": {
            "gridcolor": "rgb(232,232,232)",
            "linecolor": "rgb(36,36,36)",
            "showgrid": false,
            "showline": true,
            "ticks": "outside"
           }
          },
          "title": {
           "x": 0.05
          },
          "xaxis": {
           "automargin": true,
           "gridcolor": "rgb(232,232,232)",
           "linecolor": "rgb(36,36,36)",
           "showgrid": false,
           "showline": true,
           "ticks": "outside",
           "title": {
            "standoff": 15
           },
           "zeroline": false,
           "zerolinecolor": "rgb(36,36,36)"
          },
          "yaxis": {
           "automargin": true,
           "gridcolor": "rgb(232,232,232)",
           "linecolor": "rgb(36,36,36)",
           "showgrid": false,
           "showline": true,
           "ticks": "outside",
           "title": {
            "standoff": 15
           },
           "zeroline": false,
           "zerolinecolor": "rgb(36,36,36)"
          }
         }
        },
        "title": {
         "text": "Guild Boss Trophies Over Time"
        },
        "xaxis": {
         "anchor": "y",
         "domain": [
          0,
          1
         ],
         "title": {
          "text": "Season"
         }
        },
        "yaxis": {
         "anchor": "x",
         "domain": [
          0,
          1
         ],
         "showgrid": true,
         "title": {
          "text": "Trophies"
         }
        }
       }
      }
     },
     "metadata": {},
     "output_type": "display_data"
    }
   ],
   "source": [
    "fig = px.line(\n",
    "    data[data.GuildName.isin(top10_recent)],\n",
    "    x=\"Round\",\n",
    "    y=\"Trophies\",\n",
    "    color=\"GuildName\",\n",
    "    color_discrete_sequence=px.colors.qualitative.G10_r,\n",
    "    markers=True,\n",
    "    hover_data={\n",
    "        \"GuildName\": False,\n",
    "        \"Rank\": \":,.0f\",\n",
    "        \"Date\": \"|%B %d, %Y\",\n",
    "        \"Trophies\": \":,.0f\",\n",
    "    },\n",
    "    hover_name=\"GuildName\",\n",
    "    title=\"Guild Boss Trophies Over Time\",\n",
    "    labels={\"Rank\": \"Rank\", \"Round\": \"Season\", \"Trophies\": \"Trophies\"},\n",
    "    template=\"simple_white\",\n",
    "    height=800,\n",
    ")\n",
    "\n",
    "\n",
    "fig.update_yaxes(showgrid=True)\n",
    "\n",
    "\n",
    "fig.show()"
   ]
  },
  {
   "cell_type": "code",
   "execution_count": null,
   "metadata": {},
   "outputs": [],
   "source": [
    "report_path = r\"report\\top10_trophies_overtime.html\"\n",
    "fig.write_html(report_path)"
   ]
  },
  {
   "cell_type": "markdown",
   "metadata": {},
   "source": [
    "## Example"
   ]
  },
  {
   "cell_type": "code",
   "execution_count": null,
   "metadata": {},
   "outputs": [
    {
     "name": "stdout",
     "output_type": "stream",
     "text": [
      "[(array([74, 82, 80, 74, 73, 72, 74, 70, 70, 66, 66, 69]), 'Television', 'rgb(67,67,67)'), (array([45, 42, 50, 46, 36, 36, 34, 35, 32, 31, 31, 28]), 'Newspaper', 'rgb(115,115,115)'), (array([13, 14, 20, 24, 20, 24, 24, 40, 35, 41, 43, 50]), 'Internet', 'rgb(49,130,189)'), (array([18, 21, 18, 21, 16, 14, 13, 18, 17, 16, 19, 23]), 'Radio', 'rgb(189,189,189)')]\n"
     ]
    },
    {
     "data": {
      "text/plain": [
       "array([[2001, 2002, 2003, 2004, 2005, 2006, 2007, 2008, 2009, 2010, 2011,\n",
       "        2012, 2013],\n",
       "       [2001, 2002, 2003, 2004, 2005, 2006, 2007, 2008, 2009, 2010, 2011,\n",
       "        2012, 2013],\n",
       "       [2001, 2002, 2003, 2004, 2005, 2006, 2007, 2008, 2009, 2010, 2011,\n",
       "        2012, 2013],\n",
       "       [2001, 2002, 2003, 2004, 2005, 2006, 2007, 2008, 2009, 2010, 2011,\n",
       "        2012, 2013]])"
      ]
     },
     "execution_count": 24,
     "metadata": {},
     "output_type": "execute_result"
    }
   ],
   "source": [
    "title = \"Main Source for News\"\n",
    "labels = [\"Television\", \"Newspaper\", \"Internet\", \"Radio\"]\n",
    "colors = [\"rgb(67,67,67)\", \"rgb(115,115,115)\", \"rgb(49,130,189)\", \"rgb(189,189,189)\"]\n",
    "\n",
    "mode_size = [8, 8, 12, 8]\n",
    "line_size = [2, 2, 4, 2]\n",
    "\n",
    "x_data = np.vstack((np.arange(2001, 2014),) * 4)\n",
    "\n",
    "y_data = np.array(\n",
    "    [\n",
    "        [74, 82, 80, 74, 73, 72, 74, 70, 70, 66, 66, 69],\n",
    "        [45, 42, 50, 46, 36, 36, 34, 35, 32, 31, 31, 28],\n",
    "        [13, 14, 20, 24, 20, 24, 24, 40, 35, 41, 43, 50],\n",
    "        [18, 21, 18, 21, 16, 14, 13, 18, 17, 16, 19, 23],\n",
    "    ]\n",
    ")\n",
    "print(list(zip(y_data, labels, colors)))\n",
    "\n",
    "x_data"
   ]
  },
  {
   "cell_type": "markdown",
   "metadata": {},
   "source": [
    "# Example"
   ]
  },
  {
   "cell_type": "code",
   "execution_count": null,
   "metadata": {},
   "outputs": [
    {
     "data": {
      "application/vnd.plotly.v1+json": {
       "config": {
        "plotlyServerURL": "https://plot.ly"
       },
       "data": [
        {
         "connectgaps": true,
         "line": {
          "color": "rgb(67,67,67)",
          "width": 2
         },
         "mode": "lines",
         "name": "Television",
         "type": "scatter",
         "x": [
          2001,
          2002,
          2003,
          2004,
          2005,
          2006,
          2007,
          2008,
          2009,
          2010,
          2011,
          2012,
          2013
         ],
         "y": [
          74,
          82,
          80,
          74,
          73,
          72,
          74,
          70,
          70,
          66,
          66,
          69
         ]
        },
        {
         "marker": {
          "color": "rgb(67,67,67)",
          "size": 8
         },
         "mode": "markers",
         "type": "scatter",
         "x": [
          2001,
          2013
         ],
         "y": [
          74,
          69
         ]
        },
        {
         "connectgaps": true,
         "line": {
          "color": "rgb(115,115,115)",
          "width": 2
         },
         "mode": "lines",
         "name": "Newspaper",
         "type": "scatter",
         "x": [
          2001,
          2002,
          2003,
          2004,
          2005,
          2006,
          2007,
          2008,
          2009,
          2010,
          2011,
          2012,
          2013
         ],
         "y": [
          45,
          42,
          50,
          46,
          36,
          36,
          34,
          35,
          32,
          31,
          31,
          28
         ]
        },
        {
         "marker": {
          "color": "rgb(115,115,115)",
          "size": 8
         },
         "mode": "markers",
         "type": "scatter",
         "x": [
          2001,
          2013
         ],
         "y": [
          45,
          28
         ]
        },
        {
         "connectgaps": true,
         "line": {
          "color": "rgb(49,130,189)",
          "width": 4
         },
         "mode": "lines",
         "name": "Internet",
         "type": "scatter",
         "x": [
          2001,
          2002,
          2003,
          2004,
          2005,
          2006,
          2007,
          2008,
          2009,
          2010,
          2011,
          2012,
          2013
         ],
         "y": [
          13,
          14,
          20,
          24,
          20,
          24,
          24,
          40,
          35,
          41,
          43,
          50
         ]
        },
        {
         "marker": {
          "color": "rgb(49,130,189)",
          "size": 12
         },
         "mode": "markers",
         "type": "scatter",
         "x": [
          2001,
          2013
         ],
         "y": [
          13,
          50
         ]
        },
        {
         "connectgaps": true,
         "line": {
          "color": "rgb(189,189,189)",
          "width": 2
         },
         "mode": "lines",
         "name": "Radio",
         "type": "scatter",
         "x": [
          2001,
          2002,
          2003,
          2004,
          2005,
          2006,
          2007,
          2008,
          2009,
          2010,
          2011,
          2012,
          2013
         ],
         "y": [
          18,
          21,
          18,
          21,
          16,
          14,
          13,
          18,
          17,
          16,
          19,
          23
         ]
        },
        {
         "marker": {
          "color": "rgb(189,189,189)",
          "size": 8
         },
         "mode": "markers",
         "type": "scatter",
         "x": [
          2001,
          2013
         ],
         "y": [
          18,
          23
         ]
        }
       ],
       "layout": {
        "annotations": [
         {
          "font": {
           "family": "Arial",
           "size": 16
          },
          "showarrow": false,
          "text": "Television 74%",
          "x": 0.05,
          "xanchor": "right",
          "xref": "paper",
          "y": 74,
          "yanchor": "middle"
         },
         {
          "font": {
           "family": "Arial",
           "size": 16
          },
          "showarrow": false,
          "text": "69%",
          "x": 0.95,
          "xanchor": "left",
          "xref": "paper",
          "y": 69,
          "yanchor": "middle"
         },
         {
          "font": {
           "family": "Arial",
           "size": 16
          },
          "showarrow": false,
          "text": "Newspaper 45%",
          "x": 0.05,
          "xanchor": "right",
          "xref": "paper",
          "y": 45,
          "yanchor": "middle"
         },
         {
          "font": {
           "family": "Arial",
           "size": 16
          },
          "showarrow": false,
          "text": "28%",
          "x": 0.95,
          "xanchor": "left",
          "xref": "paper",
          "y": 28,
          "yanchor": "middle"
         },
         {
          "font": {
           "family": "Arial",
           "size": 16
          },
          "showarrow": false,
          "text": "Internet 13%",
          "x": 0.05,
          "xanchor": "right",
          "xref": "paper",
          "y": 13,
          "yanchor": "middle"
         },
         {
          "font": {
           "family": "Arial",
           "size": 16
          },
          "showarrow": false,
          "text": "50%",
          "x": 0.95,
          "xanchor": "left",
          "xref": "paper",
          "y": 50,
          "yanchor": "middle"
         },
         {
          "font": {
           "family": "Arial",
           "size": 16
          },
          "showarrow": false,
          "text": "Radio 18%",
          "x": 0.05,
          "xanchor": "right",
          "xref": "paper",
          "y": 18,
          "yanchor": "middle"
         },
         {
          "font": {
           "family": "Arial",
           "size": 16
          },
          "showarrow": false,
          "text": "23%",
          "x": 0.95,
          "xanchor": "left",
          "xref": "paper",
          "y": 23,
          "yanchor": "middle"
         },
         {
          "font": {
           "color": "rgb(37,37,37)",
           "family": "Arial",
           "size": 30
          },
          "showarrow": false,
          "text": "Main Source for News",
          "x": 0,
          "xanchor": "left",
          "xref": "paper",
          "y": 1.05,
          "yanchor": "bottom",
          "yref": "paper"
         },
         {
          "font": {
           "color": "rgb(150,150,150)",
           "family": "Arial",
           "size": 12
          },
          "showarrow": false,
          "text": "Source: PewResearch Center & Storytelling with data",
          "x": 0.5,
          "xanchor": "center",
          "xref": "paper",
          "y": -0.1,
          "yanchor": "top",
          "yref": "paper"
         }
        ],
        "autosize": false,
        "margin": {
         "autoexpand": false,
         "l": 100,
         "r": 20,
         "t": 110
        },
        "plot_bgcolor": "white",
        "showlegend": false,
        "template": {
         "data": {
          "bar": [
           {
            "error_x": {
             "color": "#2a3f5f"
            },
            "error_y": {
             "color": "#2a3f5f"
            },
            "marker": {
             "line": {
              "color": "#E5ECF6",
              "width": 0.5
             },
             "pattern": {
              "fillmode": "overlay",
              "size": 10,
              "solidity": 0.2
             }
            },
            "type": "bar"
           }
          ],
          "barpolar": [
           {
            "marker": {
             "line": {
              "color": "#E5ECF6",
              "width": 0.5
             },
             "pattern": {
              "fillmode": "overlay",
              "size": 10,
              "solidity": 0.2
             }
            },
            "type": "barpolar"
           }
          ],
          "carpet": [
           {
            "aaxis": {
             "endlinecolor": "#2a3f5f",
             "gridcolor": "white",
             "linecolor": "white",
             "minorgridcolor": "white",
             "startlinecolor": "#2a3f5f"
            },
            "baxis": {
             "endlinecolor": "#2a3f5f",
             "gridcolor": "white",
             "linecolor": "white",
             "minorgridcolor": "white",
             "startlinecolor": "#2a3f5f"
            },
            "type": "carpet"
           }
          ],
          "choropleth": [
           {
            "colorbar": {
             "outlinewidth": 0,
             "ticks": ""
            },
            "type": "choropleth"
           }
          ],
          "contour": [
           {
            "colorbar": {
             "outlinewidth": 0,
             "ticks": ""
            },
            "colorscale": [
             [
              0,
              "#0d0887"
             ],
             [
              0.1111111111111111,
              "#46039f"
             ],
             [
              0.2222222222222222,
              "#7201a8"
             ],
             [
              0.3333333333333333,
              "#9c179e"
             ],
             [
              0.4444444444444444,
              "#bd3786"
             ],
             [
              0.5555555555555556,
              "#d8576b"
             ],
             [
              0.6666666666666666,
              "#ed7953"
             ],
             [
              0.7777777777777778,
              "#fb9f3a"
             ],
             [
              0.8888888888888888,
              "#fdca26"
             ],
             [
              1,
              "#f0f921"
             ]
            ],
            "type": "contour"
           }
          ],
          "contourcarpet": [
           {
            "colorbar": {
             "outlinewidth": 0,
             "ticks": ""
            },
            "type": "contourcarpet"
           }
          ],
          "heatmap": [
           {
            "colorbar": {
             "outlinewidth": 0,
             "ticks": ""
            },
            "colorscale": [
             [
              0,
              "#0d0887"
             ],
             [
              0.1111111111111111,
              "#46039f"
             ],
             [
              0.2222222222222222,
              "#7201a8"
             ],
             [
              0.3333333333333333,
              "#9c179e"
             ],
             [
              0.4444444444444444,
              "#bd3786"
             ],
             [
              0.5555555555555556,
              "#d8576b"
             ],
             [
              0.6666666666666666,
              "#ed7953"
             ],
             [
              0.7777777777777778,
              "#fb9f3a"
             ],
             [
              0.8888888888888888,
              "#fdca26"
             ],
             [
              1,
              "#f0f921"
             ]
            ],
            "type": "heatmap"
           }
          ],
          "heatmapgl": [
           {
            "colorbar": {
             "outlinewidth": 0,
             "ticks": ""
            },
            "colorscale": [
             [
              0,
              "#0d0887"
             ],
             [
              0.1111111111111111,
              "#46039f"
             ],
             [
              0.2222222222222222,
              "#7201a8"
             ],
             [
              0.3333333333333333,
              "#9c179e"
             ],
             [
              0.4444444444444444,
              "#bd3786"
             ],
             [
              0.5555555555555556,
              "#d8576b"
             ],
             [
              0.6666666666666666,
              "#ed7953"
             ],
             [
              0.7777777777777778,
              "#fb9f3a"
             ],
             [
              0.8888888888888888,
              "#fdca26"
             ],
             [
              1,
              "#f0f921"
             ]
            ],
            "type": "heatmapgl"
           }
          ],
          "histogram": [
           {
            "marker": {
             "pattern": {
              "fillmode": "overlay",
              "size": 10,
              "solidity": 0.2
             }
            },
            "type": "histogram"
           }
          ],
          "histogram2d": [
           {
            "colorbar": {
             "outlinewidth": 0,
             "ticks": ""
            },
            "colorscale": [
             [
              0,
              "#0d0887"
             ],
             [
              0.1111111111111111,
              "#46039f"
             ],
             [
              0.2222222222222222,
              "#7201a8"
             ],
             [
              0.3333333333333333,
              "#9c179e"
             ],
             [
              0.4444444444444444,
              "#bd3786"
             ],
             [
              0.5555555555555556,
              "#d8576b"
             ],
             [
              0.6666666666666666,
              "#ed7953"
             ],
             [
              0.7777777777777778,
              "#fb9f3a"
             ],
             [
              0.8888888888888888,
              "#fdca26"
             ],
             [
              1,
              "#f0f921"
             ]
            ],
            "type": "histogram2d"
           }
          ],
          "histogram2dcontour": [
           {
            "colorbar": {
             "outlinewidth": 0,
             "ticks": ""
            },
            "colorscale": [
             [
              0,
              "#0d0887"
             ],
             [
              0.1111111111111111,
              "#46039f"
             ],
             [
              0.2222222222222222,
              "#7201a8"
             ],
             [
              0.3333333333333333,
              "#9c179e"
             ],
             [
              0.4444444444444444,
              "#bd3786"
             ],
             [
              0.5555555555555556,
              "#d8576b"
             ],
             [
              0.6666666666666666,
              "#ed7953"
             ],
             [
              0.7777777777777778,
              "#fb9f3a"
             ],
             [
              0.8888888888888888,
              "#fdca26"
             ],
             [
              1,
              "#f0f921"
             ]
            ],
            "type": "histogram2dcontour"
           }
          ],
          "mesh3d": [
           {
            "colorbar": {
             "outlinewidth": 0,
             "ticks": ""
            },
            "type": "mesh3d"
           }
          ],
          "parcoords": [
           {
            "line": {
             "colorbar": {
              "outlinewidth": 0,
              "ticks": ""
             }
            },
            "type": "parcoords"
           }
          ],
          "pie": [
           {
            "automargin": true,
            "type": "pie"
           }
          ],
          "scatter": [
           {
            "fillpattern": {
             "fillmode": "overlay",
             "size": 10,
             "solidity": 0.2
            },
            "type": "scatter"
           }
          ],
          "scatter3d": [
           {
            "line": {
             "colorbar": {
              "outlinewidth": 0,
              "ticks": ""
             }
            },
            "marker": {
             "colorbar": {
              "outlinewidth": 0,
              "ticks": ""
             }
            },
            "type": "scatter3d"
           }
          ],
          "scattercarpet": [
           {
            "marker": {
             "colorbar": {
              "outlinewidth": 0,
              "ticks": ""
             }
            },
            "type": "scattercarpet"
           }
          ],
          "scattergeo": [
           {
            "marker": {
             "colorbar": {
              "outlinewidth": 0,
              "ticks": ""
             }
            },
            "type": "scattergeo"
           }
          ],
          "scattergl": [
           {
            "marker": {
             "colorbar": {
              "outlinewidth": 0,
              "ticks": ""
             }
            },
            "type": "scattergl"
           }
          ],
          "scattermapbox": [
           {
            "marker": {
             "colorbar": {
              "outlinewidth": 0,
              "ticks": ""
             }
            },
            "type": "scattermapbox"
           }
          ],
          "scatterpolar": [
           {
            "marker": {
             "colorbar": {
              "outlinewidth": 0,
              "ticks": ""
             }
            },
            "type": "scatterpolar"
           }
          ],
          "scatterpolargl": [
           {
            "marker": {
             "colorbar": {
              "outlinewidth": 0,
              "ticks": ""
             }
            },
            "type": "scatterpolargl"
           }
          ],
          "scatterternary": [
           {
            "marker": {
             "colorbar": {
              "outlinewidth": 0,
              "ticks": ""
             }
            },
            "type": "scatterternary"
           }
          ],
          "surface": [
           {
            "colorbar": {
             "outlinewidth": 0,
             "ticks": ""
            },
            "colorscale": [
             [
              0,
              "#0d0887"
             ],
             [
              0.1111111111111111,
              "#46039f"
             ],
             [
              0.2222222222222222,
              "#7201a8"
             ],
             [
              0.3333333333333333,
              "#9c179e"
             ],
             [
              0.4444444444444444,
              "#bd3786"
             ],
             [
              0.5555555555555556,
              "#d8576b"
             ],
             [
              0.6666666666666666,
              "#ed7953"
             ],
             [
              0.7777777777777778,
              "#fb9f3a"
             ],
             [
              0.8888888888888888,
              "#fdca26"
             ],
             [
              1,
              "#f0f921"
             ]
            ],
            "type": "surface"
           }
          ],
          "table": [
           {
            "cells": {
             "fill": {
              "color": "#EBF0F8"
             },
             "line": {
              "color": "white"
             }
            },
            "header": {
             "fill": {
              "color": "#C8D4E3"
             },
             "line": {
              "color": "white"
             }
            },
            "type": "table"
           }
          ]
         },
         "layout": {
          "annotationdefaults": {
           "arrowcolor": "#2a3f5f",
           "arrowhead": 0,
           "arrowwidth": 1
          },
          "autotypenumbers": "strict",
          "coloraxis": {
           "colorbar": {
            "outlinewidth": 0,
            "ticks": ""
           }
          },
          "colorscale": {
           "diverging": [
            [
             0,
             "#8e0152"
            ],
            [
             0.1,
             "#c51b7d"
            ],
            [
             0.2,
             "#de77ae"
            ],
            [
             0.3,
             "#f1b6da"
            ],
            [
             0.4,
             "#fde0ef"
            ],
            [
             0.5,
             "#f7f7f7"
            ],
            [
             0.6,
             "#e6f5d0"
            ],
            [
             0.7,
             "#b8e186"
            ],
            [
             0.8,
             "#7fbc41"
            ],
            [
             0.9,
             "#4d9221"
            ],
            [
             1,
             "#276419"
            ]
           ],
           "sequential": [
            [
             0,
             "#0d0887"
            ],
            [
             0.1111111111111111,
             "#46039f"
            ],
            [
             0.2222222222222222,
             "#7201a8"
            ],
            [
             0.3333333333333333,
             "#9c179e"
            ],
            [
             0.4444444444444444,
             "#bd3786"
            ],
            [
             0.5555555555555556,
             "#d8576b"
            ],
            [
             0.6666666666666666,
             "#ed7953"
            ],
            [
             0.7777777777777778,
             "#fb9f3a"
            ],
            [
             0.8888888888888888,
             "#fdca26"
            ],
            [
             1,
             "#f0f921"
            ]
           ],
           "sequentialminus": [
            [
             0,
             "#0d0887"
            ],
            [
             0.1111111111111111,
             "#46039f"
            ],
            [
             0.2222222222222222,
             "#7201a8"
            ],
            [
             0.3333333333333333,
             "#9c179e"
            ],
            [
             0.4444444444444444,
             "#bd3786"
            ],
            [
             0.5555555555555556,
             "#d8576b"
            ],
            [
             0.6666666666666666,
             "#ed7953"
            ],
            [
             0.7777777777777778,
             "#fb9f3a"
            ],
            [
             0.8888888888888888,
             "#fdca26"
            ],
            [
             1,
             "#f0f921"
            ]
           ]
          },
          "colorway": [
           "#636efa",
           "#EF553B",
           "#00cc96",
           "#ab63fa",
           "#FFA15A",
           "#19d3f3",
           "#FF6692",
           "#B6E880",
           "#FF97FF",
           "#FECB52"
          ],
          "font": {
           "color": "#2a3f5f"
          },
          "geo": {
           "bgcolor": "white",
           "lakecolor": "white",
           "landcolor": "#E5ECF6",
           "showlakes": true,
           "showland": true,
           "subunitcolor": "white"
          },
          "hoverlabel": {
           "align": "left"
          },
          "hovermode": "closest",
          "mapbox": {
           "style": "light"
          },
          "paper_bgcolor": "white",
          "plot_bgcolor": "#E5ECF6",
          "polar": {
           "angularaxis": {
            "gridcolor": "white",
            "linecolor": "white",
            "ticks": ""
           },
           "bgcolor": "#E5ECF6",
           "radialaxis": {
            "gridcolor": "white",
            "linecolor": "white",
            "ticks": ""
           }
          },
          "scene": {
           "xaxis": {
            "backgroundcolor": "#E5ECF6",
            "gridcolor": "white",
            "gridwidth": 2,
            "linecolor": "white",
            "showbackground": true,
            "ticks": "",
            "zerolinecolor": "white"
           },
           "yaxis": {
            "backgroundcolor": "#E5ECF6",
            "gridcolor": "white",
            "gridwidth": 2,
            "linecolor": "white",
            "showbackground": true,
            "ticks": "",
            "zerolinecolor": "white"
           },
           "zaxis": {
            "backgroundcolor": "#E5ECF6",
            "gridcolor": "white",
            "gridwidth": 2,
            "linecolor": "white",
            "showbackground": true,
            "ticks": "",
            "zerolinecolor": "white"
           }
          },
          "shapedefaults": {
           "line": {
            "color": "#2a3f5f"
           }
          },
          "ternary": {
           "aaxis": {
            "gridcolor": "white",
            "linecolor": "white",
            "ticks": ""
           },
           "baxis": {
            "gridcolor": "white",
            "linecolor": "white",
            "ticks": ""
           },
           "bgcolor": "#E5ECF6",
           "caxis": {
            "gridcolor": "white",
            "linecolor": "white",
            "ticks": ""
           }
          },
          "title": {
           "x": 0.05
          },
          "xaxis": {
           "automargin": true,
           "gridcolor": "white",
           "linecolor": "white",
           "ticks": "",
           "title": {
            "standoff": 15
           },
           "zerolinecolor": "white",
           "zerolinewidth": 2
          },
          "yaxis": {
           "automargin": true,
           "gridcolor": "white",
           "linecolor": "white",
           "ticks": "",
           "title": {
            "standoff": 15
           },
           "zerolinecolor": "white",
           "zerolinewidth": 2
          }
         }
        },
        "xaxis": {
         "linecolor": "rgb(204, 204, 204)",
         "linewidth": 2,
         "showgrid": false,
         "showline": true,
         "showticklabels": true,
         "tickfont": {
          "color": "rgb(82, 82, 82)",
          "family": "Arial",
          "size": 12
         },
         "ticks": "outside"
        },
        "yaxis": {
         "showgrid": false,
         "showline": false,
         "showticklabels": false,
         "zeroline": false
        }
       }
      }
     },
     "metadata": {},
     "output_type": "display_data"
    }
   ],
   "source": [
    "fig = go.Figure()\n",
    "\n",
    "for i in range(0, 4):\n",
    "    fig.add_trace(\n",
    "        go.Scatter(\n",
    "            x=x_data[i],\n",
    "            y=y_data[i],\n",
    "            mode=\"lines\",\n",
    "            name=labels[i],\n",
    "            line=dict(color=colors[i], width=line_size[i]),\n",
    "            connectgaps=True,\n",
    "        )\n",
    "    )\n",
    "\n",
    "    # endpoints\n",
    "    fig.add_trace(\n",
    "        go.Scatter(\n",
    "            x=[x_data[i][0], x_data[i][-1]],\n",
    "            y=[y_data[i][0], y_data[i][-1]],\n",
    "            mode=\"markers\",\n",
    "            marker=dict(color=colors[i], size=mode_size[i]),\n",
    "        )\n",
    "    )\n",
    "\n",
    "fig.update_layout(\n",
    "    xaxis=dict(\n",
    "        showline=True,\n",
    "        showgrid=False,\n",
    "        showticklabels=True,\n",
    "        linecolor=\"rgb(204, 204, 204)\",\n",
    "        linewidth=2,\n",
    "        ticks=\"outside\",\n",
    "        tickfont=dict(\n",
    "            family=\"Arial\",\n",
    "            size=12,\n",
    "            color=\"rgb(82, 82, 82)\",\n",
    "        ),\n",
    "    ),\n",
    "    yaxis=dict(\n",
    "        showgrid=False,\n",
    "        zeroline=False,\n",
    "        showline=False,\n",
    "        showticklabels=False,\n",
    "    ),\n",
    "    autosize=False,\n",
    "    margin=dict(\n",
    "        autoexpand=False,\n",
    "        l=100,\n",
    "        r=20,\n",
    "        t=110,\n",
    "    ),\n",
    "    showlegend=False,\n",
    "    plot_bgcolor=\"white\",\n",
    ")\n",
    "\n",
    "annotations = []\n",
    "\n",
    "# Adding labels\n",
    "for y_trace, label, color in zip(y_data, labels, colors):\n",
    "    # labeling the left_side of the plot\n",
    "    annotations.append(\n",
    "        dict(\n",
    "            xref=\"paper\",\n",
    "            x=0.05,\n",
    "            y=y_trace[0],\n",
    "            xanchor=\"right\",\n",
    "            yanchor=\"middle\",\n",
    "            text=label + \" {}%\".format(y_trace[0]),\n",
    "            font=dict(family=\"Arial\", size=16),\n",
    "            showarrow=False,\n",
    "        )\n",
    "    )\n",
    "    # labeling the right_side of the plot\n",
    "    annotations.append(\n",
    "        dict(\n",
    "            xref=\"paper\",\n",
    "            x=0.95,\n",
    "            y=y_trace[11],\n",
    "            xanchor=\"left\",\n",
    "            yanchor=\"middle\",\n",
    "            text=\"{}%\".format(y_trace[11]),\n",
    "            font=dict(family=\"Arial\", size=16),\n",
    "            showarrow=False,\n",
    "        )\n",
    "    )\n",
    "# Title\n",
    "annotations.append(\n",
    "    dict(\n",
    "        xref=\"paper\",\n",
    "        yref=\"paper\",\n",
    "        x=0.0,\n",
    "        y=1.05,\n",
    "        xanchor=\"left\",\n",
    "        yanchor=\"bottom\",\n",
    "        text=\"Main Source for News\",\n",
    "        font=dict(family=\"Arial\", size=30, color=\"rgb(37,37,37)\"),\n",
    "        showarrow=False,\n",
    "    )\n",
    ")\n",
    "# Source\n",
    "annotations.append(\n",
    "    dict(\n",
    "        xref=\"paper\",\n",
    "        yref=\"paper\",\n",
    "        x=0.5,\n",
    "        y=-0.1,\n",
    "        xanchor=\"center\",\n",
    "        yanchor=\"top\",\n",
    "        text=\"Source: PewResearch Center & \" + \"Storytelling with data\",\n",
    "        font=dict(family=\"Arial\", size=12, color=\"rgb(150,150,150)\"),\n",
    "        showarrow=False,\n",
    "    )\n",
    ")\n",
    "\n",
    "fig.update_layout(annotations=annotations)\n",
    "\n",
    "fig.show()"
   ]
  },
  {
   "cell_type": "markdown",
   "metadata": {},
   "source": [
    "## waterfall"
   ]
  },
  {
   "cell_type": "code",
   "execution_count": null,
   "metadata": {},
   "outputs": [
    {
     "ename": "NameError",
     "evalue": "name 'data' is not defined",
     "output_type": "error",
     "traceback": [
      "\u001b[1;31m---------------------------------------------------------------------------\u001b[0m",
      "\u001b[1;31mNameError\u001b[0m                                 Traceback (most recent call last)",
      "Cell \u001b[1;32mIn[1], line 7\u001b[0m\n\u001b[0;32m      3\u001b[0m \u001b[38;5;66;03m# Assuming data2 is the DataFrame with the added \"Trophies\" column\u001b[39;00m\n\u001b[0;32m      5\u001b[0m fig \u001b[38;5;241m=\u001b[39m go\u001b[38;5;241m.\u001b[39mFigure()\n\u001b[1;32m----> 7\u001b[0m \u001b[38;5;28;01mfor\u001b[39;00m guild, dat \u001b[38;5;129;01min\u001b[39;00m \u001b[43mdata\u001b[49m\u001b[38;5;241m.\u001b[39mgroupby(\u001b[38;5;124m\"\u001b[39m\u001b[38;5;124mGuildNameExtra\u001b[39m\u001b[38;5;124m\"\u001b[39m):\n\u001b[0;32m      8\u001b[0m     improvement \u001b[38;5;241m=\u001b[39m dat[\u001b[38;5;124m\"\u001b[39m\u001b[38;5;124mImprovement\u001b[39m\u001b[38;5;124m\"\u001b[39m]\n\u001b[0;32m      9\u001b[0m     fig\u001b[38;5;241m.\u001b[39madd_trace(\n\u001b[0;32m     10\u001b[0m         go\u001b[38;5;241m.\u001b[39mWaterfall(\n\u001b[0;32m     11\u001b[0m             orientation\u001b[38;5;241m=\u001b[39m\u001b[38;5;124m\"\u001b[39m\u001b[38;5;124mv\u001b[39m\u001b[38;5;124m\"\u001b[39m,\n\u001b[1;32m   (...)\u001b[0m\n\u001b[0;32m     19\u001b[0m         )\n\u001b[0;32m     20\u001b[0m     )\n",
      "\u001b[1;31mNameError\u001b[0m: name 'data' is not defined"
     ]
    }
   ],
   "source": [
    "import plotly.graph_objects as go\n",
    "\n",
    "# Assuming data2 is the DataFrame with the added \"Trophies\" column\n",
    "\n",
    "fig = go.Figure()\n",
    "\n",
    "for guild, dat in data.groupby(\"GuildNameExtra\"):\n",
    "    improvement = dat[\"Improvement\"]\n",
    "    fig.add_trace(\n",
    "        go.Waterfall(\n",
    "            orientation=\"v\",\n",
    "            x=dat[\"Round\"],\n",
    "            y=improvement,\n",
    "            name=guild,\n",
    "            # text=f\"{guild} ({growth_rates_percentage.round(2).astype(str)}%)\",\n",
    "            # markers=dict(),\n",
    "            decreasing=dict(marker=dict(color=\"red\")),\n",
    "            increasing=dict(marker=dict(color=\"green\")),\n",
    "        )\n",
    "    )\n",
    "\n",
    "fig.update_layout(\n",
    "    title=\"Waterfall Chart for Round Over Round Growth Over Time\",\n",
    "    xaxis_title=\"Round\",\n",
    "    yaxis_title=\"Improvement\",\n",
    "    # autosize=False,\n",
    "    # width=800,\n",
    "    height=800,\n",
    ")\n",
    "\n",
    "fig.show()"
   ]
  },
  {
   "cell_type": "code",
   "execution_count": null,
   "metadata": {},
   "outputs": [
    {
     "data": {
      "text/html": [
       "<div>\n",
       "<style scoped>\n",
       "    .dataframe tbody tr th:only-of-type {\n",
       "        vertical-align: middle;\n",
       "    }\n",
       "\n",
       "    .dataframe tbody tr th {\n",
       "        vertical-align: top;\n",
       "    }\n",
       "\n",
       "    .dataframe thead th {\n",
       "        text-align: right;\n",
       "    }\n",
       "</style>\n",
       "<table border=\"1\" class=\"dataframe\">\n",
       "  <thead>\n",
       "    <tr style=\"text-align: right;\">\n",
       "      <th></th>\n",
       "      <th>Date</th>\n",
       "      <th>Season</th>\n",
       "      <th>Round</th>\n",
       "      <th>Rank</th>\n",
       "      <th>GuildName</th>\n",
       "      <th>GuildNameExtra</th>\n",
       "      <th>Trophies</th>\n",
       "      <th>SeasonTotal</th>\n",
       "      <th>Improvement</th>\n",
       "      <th>GrowthRate</th>\n",
       "    </tr>\n",
       "  </thead>\n",
       "  <tbody>\n",
       "    <tr>\n",
       "      <th>0</th>\n",
       "      <td>2024-02-27</td>\n",
       "      <td>1</td>\n",
       "      <td>1-1</td>\n",
       "      <td>1</td>\n",
       "      <td>Spearmint</td>\n",
       "      <td>Spearmint</td>\n",
       "      <td>10513190</td>\n",
       "      <td>10513190</td>\n",
       "      <td>0</td>\n",
       "      <td>0.000000</td>\n",
       "    </tr>\n",
       "    <tr>\n",
       "      <th>1</th>\n",
       "      <td>2024-02-27</td>\n",
       "      <td>1</td>\n",
       "      <td>1-1</td>\n",
       "      <td>2</td>\n",
       "      <td>Vivid</td>\n",
       "      <td>Vivid</td>\n",
       "      <td>10510940</td>\n",
       "      <td>10510940</td>\n",
       "      <td>0</td>\n",
       "      <td>0.000000</td>\n",
       "    </tr>\n",
       "    <tr>\n",
       "      <th>2</th>\n",
       "      <td>2024-02-27</td>\n",
       "      <td>1</td>\n",
       "      <td>1-1</td>\n",
       "      <td>3</td>\n",
       "      <td>Nobless</td>\n",
       "      <td>Nobless</td>\n",
       "      <td>10251975</td>\n",
       "      <td>10251975</td>\n",
       "      <td>0</td>\n",
       "      <td>0.000000</td>\n",
       "    </tr>\n",
       "    <tr>\n",
       "      <th>3</th>\n",
       "      <td>2024-02-27</td>\n",
       "      <td>1</td>\n",
       "      <td>1-1</td>\n",
       "      <td>4</td>\n",
       "      <td>LAODA</td>\n",
       "      <td>LAODA</td>\n",
       "      <td>10011795</td>\n",
       "      <td>10011795</td>\n",
       "      <td>0</td>\n",
       "      <td>0.000000</td>\n",
       "    </tr>\n",
       "    <tr>\n",
       "      <th>4</th>\n",
       "      <td>2024-02-27</td>\n",
       "      <td>1</td>\n",
       "      <td>1-1</td>\n",
       "      <td>5</td>\n",
       "      <td>미라클</td>\n",
       "      <td>미라클 (miracle)</td>\n",
       "      <td>9930645</td>\n",
       "      <td>9930645</td>\n",
       "      <td>0</td>\n",
       "      <td>0.000000</td>\n",
       "    </tr>\n",
       "    <tr>\n",
       "      <th>...</th>\n",
       "      <td>...</td>\n",
       "      <td>...</td>\n",
       "      <td>...</td>\n",
       "      <td>...</td>\n",
       "      <td>...</td>\n",
       "      <td>...</td>\n",
       "      <td>...</td>\n",
       "      <td>...</td>\n",
       "      <td>...</td>\n",
       "      <td>...</td>\n",
       "    </tr>\n",
       "    <tr>\n",
       "      <th>281</th>\n",
       "      <td>2024-05-28</td>\n",
       "      <td>4</td>\n",
       "      <td>4-3</td>\n",
       "      <td>16</td>\n",
       "      <td>MyTH</td>\n",
       "      <td>MyTH</td>\n",
       "      <td>10346185</td>\n",
       "      <td>30139130</td>\n",
       "      <td>401815</td>\n",
       "      <td>4.040628</td>\n",
       "    </tr>\n",
       "    <tr>\n",
       "      <th>282</th>\n",
       "      <td>2024-05-28</td>\n",
       "      <td>4</td>\n",
       "      <td>4-3</td>\n",
       "      <td>17</td>\n",
       "      <td>Nobility</td>\n",
       "      <td>Nobility</td>\n",
       "      <td>10445040</td>\n",
       "      <td>30041855</td>\n",
       "      <td>570010</td>\n",
       "      <td>5.772236</td>\n",
       "    </tr>\n",
       "    <tr>\n",
       "      <th>283</th>\n",
       "      <td>2024-05-28</td>\n",
       "      <td>4</td>\n",
       "      <td>4-3</td>\n",
       "      <td>18</td>\n",
       "      <td>S7AR</td>\n",
       "      <td>S7AR</td>\n",
       "      <td>10270005</td>\n",
       "      <td>29984580</td>\n",
       "      <td>327380</td>\n",
       "      <td>3.292692</td>\n",
       "    </tr>\n",
       "    <tr>\n",
       "      <th>284</th>\n",
       "      <td>2024-05-28</td>\n",
       "      <td>4</td>\n",
       "      <td>4-3</td>\n",
       "      <td>19</td>\n",
       "      <td>감동</td>\n",
       "      <td>감동 (gam-dong)</td>\n",
       "      <td>9872795</td>\n",
       "      <td>29384460</td>\n",
       "      <td>79735</td>\n",
       "      <td>0.814199</td>\n",
       "    </tr>\n",
       "    <tr>\n",
       "      <th>285</th>\n",
       "      <td>2024-05-28</td>\n",
       "      <td>4</td>\n",
       "      <td>4-3</td>\n",
       "      <td>20</td>\n",
       "      <td>DEKWAT</td>\n",
       "      <td>DEKWAT</td>\n",
       "      <td>10286850</td>\n",
       "      <td>29698740</td>\n",
       "      <td>585060</td>\n",
       "      <td>6.030434</td>\n",
       "    </tr>\n",
       "  </tbody>\n",
       "</table>\n",
       "<p>286 rows × 10 columns</p>\n",
       "</div>"
      ],
      "text/plain": [
       "          Date Season Round Rank  GuildName GuildNameExtra  Trophies  \\\n",
       "0   2024-02-27      1   1-1    1  Spearmint      Spearmint  10513190   \n",
       "1   2024-02-27      1   1-1    2      Vivid          Vivid  10510940   \n",
       "2   2024-02-27      1   1-1    3    Nobless        Nobless  10251975   \n",
       "3   2024-02-27      1   1-1    4      LAODA          LAODA  10011795   \n",
       "4   2024-02-27      1   1-1    5        미라클  미라클 (miracle)   9930645   \n",
       "..         ...    ...   ...  ...        ...            ...       ...   \n",
       "281 2024-05-28      4   4-3   16       MyTH           MyTH  10346185   \n",
       "282 2024-05-28      4   4-3   17   Nobility       Nobility  10445040   \n",
       "283 2024-05-28      4   4-3   18       S7AR           S7AR  10270005   \n",
       "284 2024-05-28      4   4-3   19         감동  감동 (gam-dong)   9872795   \n",
       "285 2024-05-28      4   4-3   20     DEKWAT         DEKWAT  10286850   \n",
       "\n",
       "     SeasonTotal  Improvement  GrowthRate  \n",
       "0       10513190            0    0.000000  \n",
       "1       10510940            0    0.000000  \n",
       "2       10251975            0    0.000000  \n",
       "3       10011795            0    0.000000  \n",
       "4        9930645            0    0.000000  \n",
       "..           ...          ...         ...  \n",
       "281     30139130       401815    4.040628  \n",
       "282     30041855       570010    5.772236  \n",
       "283     29984580       327380    3.292692  \n",
       "284     29384460        79735    0.814199  \n",
       "285     29698740       585060    6.030434  \n",
       "\n",
       "[286 rows x 10 columns]"
      ]
     },
     "execution_count": 58,
     "metadata": {},
     "output_type": "execute_result"
    }
   ],
   "source": [
    "data"
   ]
  },
  {
   "cell_type": "code",
   "execution_count": null,
   "metadata": {},
   "outputs": [
    {
     "data": {
      "application/vnd.plotly.v1+json": {
       "config": {
        "plotlyServerURL": "https://plot.ly"
       },
       "data": [
        {
         "decreasing": {
          "marker": {
           "color": "red"
          }
         },
         "increasing": {
          "marker": {
           "color": "green"
          }
         },
         "name": "Crown",
         "orientation": "v",
         "type": "waterfall",
         "x": [
          "1-1",
          "1-2",
          "1-3",
          "1-4",
          "2-1",
          "2-2",
          "2-3",
          "2-4",
          "3-1",
          "3-2",
          "3-3",
          "4-1",
          "4-2",
          "4-3"
         ],
         "y": [
          0,
          2.547632576251213,
          -0.0023383465449944,
          2.534623588571528,
          0.7993491375378303,
          0.0007869604586874,
          -0.7951681008088407,
          4.198091411550298,
          -0.7449814741944838,
          1.5871958182287038,
          0.7941522758321273,
          3.5028071897015955,
          1.5628095652087337,
          3.0784140466892707
         ]
        },
        {
         "decreasing": {
          "marker": {
           "color": "red"
          }
         },
         "increasing": {
          "marker": {
           "color": "green"
          }
         },
         "name": "DEKWAT",
         "orientation": "v",
         "type": "waterfall",
         "x": [
          "1-1",
          "1-2",
          "1-3",
          "1-4",
          "2-1",
          "2-2",
          "2-3",
          "2-4",
          "3-1",
          "3-2",
          "3-3",
          "4-1",
          "4-2",
          "4-3"
         ],
         "y": [
          0,
          2.5036462340044974,
          1.7822570955577932,
          3.4505176910484936,
          0.96200545027747,
          1.6744000632479272,
          0.8219890700807087,
          -0.7539141783769354,
          0.7935708774099659,
          0.0522312007041003,
          0.7713918100601624,
          4.579027974332628,
          -0.085580992986689,
          6.030433559167947
         ]
        },
        {
         "decreasing": {
          "marker": {
           "color": "red"
          }
         },
         "increasing": {
          "marker": {
           "color": "green"
          }
         },
         "name": "LAODA",
         "orientation": "v",
         "type": "waterfall",
         "x": [
          "1-1",
          "1-2",
          "1-3",
          "1-4",
          "2-1",
          "2-2",
          "2-3",
          "2-4",
          "3-1",
          "3-2",
          "3-3",
          "4-1",
          "4-2",
          "4-3"
         ],
         "y": [
          0,
          0.799806628082167,
          0.1162321750082018,
          0.7060354725048512,
          0.8456073675163545,
          0.7719052039401708,
          1.7412172708792362,
          0.758919129581348,
          0.0878296501012121,
          0.774550810014718,
          0.8093307331490829,
          4.306750367412371,
          1.5037005443298224,
          3.926672780481488
         ]
        },
        {
         "decreasing": {
          "marker": {
           "color": "red"
          }
         },
         "increasing": {
          "marker": {
           "color": "green"
          }
         },
         "name": "MolochTH",
         "orientation": "v",
         "type": "waterfall",
         "x": [
          "1-1",
          "1-2",
          "1-3",
          "1-4",
          "2-1",
          "2-2",
          "2-3",
          "2-4",
          "3-1",
          "3-2",
          "3-3",
          "4-1",
          "4-2",
          "4-3"
         ],
         "y": [
          0,
          1.8549957917518345,
          2.448009955730157,
          0.7963853089417716,
          0.9137563387559222,
          1.6453247703946294,
          1.667034851410221,
          -0.0637737080830369,
          1.699296189027133,
          0.8580051559883062,
          0.7464768583143488,
          4.248432460279017,
          0.8512167285582573,
          3.0013622975624044
         ]
        },
        {
         "decreasing": {
          "marker": {
           "color": "red"
          }
         },
         "increasing": {
          "marker": {
           "color": "green"
          }
         },
         "name": "MyTH",
         "orientation": "v",
         "type": "waterfall",
         "x": [
          "1-1",
          "1-2",
          "1-3",
          "1-4",
          "2-1",
          "2-2",
          "2-3",
          "2-4",
          "3-1",
          "3-2",
          "3-3",
          "4-1",
          "4-2",
          "4-3"
         ],
         "y": [
          0,
          1.8287052508040305,
          -1.703713388434791,
          2.5167731458729525,
          0.0002084250620759,
          -5.709688462498419,
          3.3892928805066003,
          -3.277757971642725,
          1.656121914976283,
          -0.8661863338910725,
          2.5974104310976465,
          5.276561993082818,
          0.9726787885557142,
          4.040628013639869
         ]
        },
        {
         "decreasing": {
          "marker": {
           "color": "red"
          }
         },
         "increasing": {
          "marker": {
           "color": "green"
          }
         },
         "name": "Nigiri",
         "orientation": "v",
         "type": "waterfall",
         "x": [
          "1-1",
          "1-2",
          "1-3",
          "1-4",
          "2-1",
          "2-2",
          "2-3",
          "2-4",
          "3-1",
          "3-2",
          "3-3",
          "4-1",
          "4-2",
          "4-3"
         ],
         "y": [
          0,
          2.677295884385056,
          -0.0008072532860947,
          2.5768886131391837,
          1.007840571302654,
          -0.9208734468225788,
          -1.7801154165454358,
          7.055532235872186,
          0.881294944813571,
          0.8831272808914603,
          1.6077627790135771,
          5.20796043030749,
          -1.554175942556424,
          7.512310541354594
         ]
        },
        {
         "decreasing": {
          "marker": {
           "color": "red"
          }
         },
         "increasing": {
          "marker": {
           "color": "green"
          }
         },
         "name": "Nobility",
         "orientation": "v",
         "type": "waterfall",
         "x": [
          "1-1",
          "1-2",
          "1-3",
          "1-4",
          "2-1",
          "2-2",
          "2-3",
          "2-4",
          "3-1",
          "3-2",
          "3-3",
          "4-1",
          "4-2",
          "4-3"
         ],
         "y": [
          0,
          0.8550130037512371,
          -0.0325041279006566,
          8.226589109431126,
          0.9052931950509936,
          1.7895310030656697,
          -0.8259007640082583,
          2.525082327451589,
          3.4053793903066065,
          0.0252812940637614,
          -0.8988982679816626,
          3.7430823965801,
          1.5763051744098533,
          5.772235628651257
         ]
        },
        {
         "decreasing": {
          "marker": {
           "color": "red"
          }
         },
         "increasing": {
          "marker": {
           "color": "green"
          }
         },
         "name": "Nobless",
         "orientation": "v",
         "type": "waterfall",
         "x": [
          "1-1",
          "1-2",
          "1-3",
          "1-4",
          "2-1",
          "2-2",
          "2-3",
          "2-4",
          "3-1",
          "3-2",
          "3-3",
          "4-1",
          "4-2",
          "4-3"
         ],
         "y": [
          0,
          0.0748148527478953,
          1.6044902138426798,
          -0.7210583772852996,
          1.6279201224841389,
          0.1452331669767881,
          2.1844525387015645,
          0.0431109372633686,
          0.2325965840017652,
          -0.1046548959635851,
          0.7808413070013787,
          4.899680226551828,
          0.0860686373255426,
          4.693456782223215
         ]
        },
        {
         "decreasing": {
          "marker": {
           "color": "red"
          }
         },
         "increasing": {
          "marker": {
           "color": "green"
          }
         },
         "name": "Peppermint",
         "orientation": "v",
         "type": "waterfall",
         "x": [
          "1-1",
          "1-2",
          "1-3",
          "1-4",
          "2-1",
          "2-2",
          "2-3",
          "2-4",
          "3-1",
          "3-2",
          "3-3",
          "4-1",
          "4-2",
          "4-3"
         ],
         "y": [
          0,
          3.4577896933776,
          1.6335758152800306,
          2.571848231440388,
          0.8631667147954492,
          0.8535263725052422,
          -1.7487214045835977,
          0.8602804129594022,
          1.7657923030170777,
          1.569780528839737,
          -1.5727380178007675,
          4.319916182685479,
          0.1053581016613902,
          3.970743010610578
         ]
        },
        {
         "decreasing": {
          "marker": {
           "color": "red"
          }
         },
         "increasing": {
          "marker": {
           "color": "green"
          }
         },
         "name": "S7AR",
         "orientation": "v",
         "type": "waterfall",
         "x": [
          "1-1",
          "1-2",
          "1-3",
          "1-4",
          "2-1",
          "2-2",
          "2-3",
          "2-4",
          "3-1",
          "3-2",
          "3-3",
          "4-1",
          "4-2",
          "4-3"
         ],
         "y": [
          0,
          0.9505550236513116,
          1.6650038147778543,
          2.658881121303258,
          1.7479892640787975,
          1.690602592883672,
          0.005326075378087,
          0.0879299082333417,
          1.650250852463997,
          -0.7908710638727445,
          -0.0558873681087757,
          5.285925692881799,
          1.7465807745639328,
          3.292691819313309
         ]
        },
        {
         "decreasing": {
          "marker": {
           "color": "red"
          }
         },
         "increasing": {
          "marker": {
           "color": "green"
          }
         },
         "name": "Spearmint",
         "orientation": "v",
         "type": "waterfall",
         "x": [
          "1-1",
          "1-2",
          "1-3",
          "1-4",
          "2-1",
          "2-2",
          "2-3",
          "2-4",
          "3-1",
          "3-2",
          "3-3",
          "4-1",
          "4-2",
          "4-3"
         ],
         "y": [
          0,
          1.7059997964461893,
          0.7325197135013228,
          0.0792879312441874,
          1.575039821288926,
          0.7934833535631514,
          0.0106922119921248,
          0.0699449591157197,
          1.5490309163356697,
          -0.0443114605306993,
          -0.7934108101888437,
          5.85431400791574,
          -0.0441678667727263,
          6.1833869884301285
         ]
        },
        {
         "decreasing": {
          "marker": {
           "color": "red"
          }
         },
         "increasing": {
          "marker": {
           "color": "green"
          }
         },
         "name": "Vivid",
         "orientation": "v",
         "type": "waterfall",
         "x": [
          "1-1",
          "1-2",
          "1-3",
          "1-4",
          "2-1",
          "2-2",
          "2-3",
          "2-4",
          "3-1",
          "3-2",
          "3-3",
          "4-1",
          "4-2",
          "4-3"
         ],
         "y": [
          0,
          0.8348920267835291,
          0.8640214667937851,
          0.1130934952999318,
          1.532746048535083,
          0.7239288080689077,
          0.7616217902771671,
          0.9048889573987308,
          -0.778875687216829,
          0.669245110172545,
          2.5477174092973343,
          4.015307102695664,
          -0.625278332568624,
          6.083039775729215
         ]
        },
        {
         "decreasing": {
          "marker": {
           "color": "red"
          }
         },
         "increasing": {
          "marker": {
           "color": "green"
          }
         },
         "name": "秋",
         "orientation": "v",
         "type": "waterfall",
         "x": [
          "3-3"
         ],
         "y": [
          0
         ]
        },
        {
         "decreasing": {
          "marker": {
           "color": "red"
          }
         },
         "increasing": {
          "marker": {
           "color": "green"
          }
         },
         "name": "감동",
         "orientation": "v",
         "type": "waterfall",
         "x": [
          "4-1",
          "4-2",
          "4-3"
         ],
         "y": [
          0,
          0.7661078930566667,
          0.8141990348267125
         ]
        },
        {
         "decreasing": {
          "marker": {
           "color": "red"
          }
         },
         "increasing": {
          "marker": {
           "color": "green"
          }
         },
         "name": "님",
         "orientation": "v",
         "type": "waterfall",
         "x": [
          "1-1",
          "1-2",
          "1-3",
          "1-4",
          "2-1",
          "2-2",
          "2-3",
          "2-4",
          "3-1",
          "3-2",
          "3-3",
          "4-1",
          "4-2",
          "4-3"
         ],
         "y": [
          0,
          5.008327256268408,
          -4.865837205816215,
          3.377466610733748,
          2.5683798527556867,
          0.8565002713866843,
          0.0158454029732357,
          0.725826668128593,
          1.8721024132090536,
          0.581718286044608,
          1.0125639170442735,
          4.153373579380926,
          -0.0838064870847254,
          7.868968796412701
         ]
        },
        {
         "decreasing": {
          "marker": {
           "color": "red"
          }
         },
         "increasing": {
          "marker": {
           "color": "green"
          }
         },
         "name": "무야호",
         "orientation": "v",
         "type": "waterfall",
         "x": [
          "1-1",
          "1-2",
          "1-3",
          "1-4",
          "2-1",
          "2-2",
          "2-3",
          "2-4",
          "3-1",
          "3-2",
          "3-3",
          "4-1",
          "4-2",
          "4-3"
         ],
         "y": [
          0,
          0.933856797075916,
          0.6709510592143753,
          0.8369091395644235,
          0.9176727834605768,
          0.0680777700951207,
          0.7707187743988708,
          1.607630923019676,
          0.1005810911512528,
          1.5505602627726045,
          0.8846145597545041,
          4.406996502521765,
          1.5291125557151508,
          3.858551090319384
         ]
        },
        {
         "decreasing": {
          "marker": {
           "color": "red"
          }
         },
         "increasing": {
          "marker": {
           "color": "green"
          }
         },
         "name": "미라클",
         "orientation": "v",
         "type": "waterfall",
         "x": [
          "1-1",
          "1-2",
          "1-3",
          "1-4",
          "2-1",
          "2-2",
          "2-3",
          "2-4",
          "3-1",
          "3-2",
          "3-3",
          "4-1",
          "4-2",
          "4-3"
         ],
         "y": [
          0,
          0.0005034919685398,
          1.6737499238472342,
          1.6505544765675897,
          0.7816971978060305,
          0.0808214006561502,
          -0.0529358379970146,
          0.8409948123430988,
          0.7355499348744354,
          0.8492988158910642,
          -0.7617668424578006,
          5.920407492949642,
          0.8245585062270466,
          4.709758857141844
         ]
        },
        {
         "decreasing": {
          "marker": {
           "color": "red"
          }
         },
         "increasing": {
          "marker": {
           "color": "green"
          }
         },
         "name": "사혼",
         "orientation": "v",
         "type": "waterfall",
         "x": [
          "1-1",
          "1-2",
          "1-3",
          "1-4",
          "2-1",
          "2-2",
          "2-3",
          "2-4",
          "3-1",
          "3-2",
          "3-3",
          "4-1",
          "4-2",
          "4-3"
         ],
         "y": [
          0,
          3.4806483454904003,
          1.6022009942312732,
          1.8313858354021884,
          1.6691869447768903,
          1.6307971002786248,
          0.9232285446327816,
          0.7900923708231256,
          0.8692739676720462,
          0.8359106427170193,
          0.7987655674016381,
          3.5189903644635923,
          -0.0741596183945314,
          7.515474074969086
         ]
        },
        {
         "decreasing": {
          "marker": {
           "color": "red"
          }
         },
         "increasing": {
          "marker": {
           "color": "green"
          }
         },
         "name": "열매",
         "orientation": "v",
         "type": "waterfall",
         "x": [
          "1-1",
          "1-2",
          "1-3",
          "1-4",
          "2-1",
          "2-2",
          "2-3",
          "2-4",
          "3-1",
          "3-2",
          "3-3",
          "4-1",
          "4-2",
          "4-3"
         ],
         "y": [
          0,
          1.749562478031952,
          0.0191053235176763,
          0.0108414906946352,
          2.588822189403017,
          -0.0231462379312485,
          1.7474422518652055,
          0.7994562787145387,
          0.7477723372326661,
          0.8302387112863796,
          0.8039828624069933,
          5.862045169625718,
          -1.4485504084134404,
          7.171260754870046
         ]
        },
        {
         "decreasing": {
          "marker": {
           "color": "red"
          }
         },
         "increasing": {
          "marker": {
           "color": "green"
          }
         },
         "name": "오로라",
         "orientation": "v",
         "type": "waterfall",
         "x": [
          "1-1",
          "1-2",
          "1-3",
          "1-4",
          "2-1"
         ],
         "y": [
          0,
          0.0587979386620807,
          0.920488696568178,
          1.6363539612547218,
          0.765611132171129
         ]
        },
        {
         "decreasing": {
          "marker": {
           "color": "red"
          }
         },
         "increasing": {
          "marker": {
           "color": "green"
          }
         },
         "name": "이지스",
         "orientation": "v",
         "type": "waterfall",
         "x": [
          "1-1",
          "1-2",
          "1-3",
          "1-4",
          "2-1",
          "2-2",
          "2-3",
          "2-4",
          "3-1",
          "3-2",
          "3-3",
          "4-1",
          "4-2",
          "4-3"
         ],
         "y": [
          0,
          0.8727629056920705,
          2.633904981505508,
          3.3461838692750545,
          0.8329223739696578,
          1.6776359785444672,
          1.713910163405297,
          0.698882935781242,
          0.8742135049525812,
          0.8456399495874845,
          1.6074737826886176,
          3.3688184934523635,
          2.339723953208206,
          3.87507346209488
         ]
        },
        {
         "decreasing": {
          "marker": {
           "color": "red"
          }
         },
         "increasing": {
          "marker": {
           "color": "green"
          }
         },
         "name": "재난경보",
         "orientation": "v",
         "type": "waterfall",
         "x": [
          "1-1",
          "1-2",
          "1-3",
          "1-4",
          "2-1",
          "2-2",
          "2-3",
          "2-4",
          "3-1",
          "3-2",
          "3-3",
          "4-1",
          "4-2",
          "4-3"
         ],
         "y": [
          0,
          -0.0410790086265877,
          -2.4977712546205733,
          0.9063078603362528,
          1.7006398671312928,
          2.5313918118615497,
          0.8885794491761079,
          0.0936949200967207,
          3.2785087489164866,
          -2.384522021074831,
          -3.974166538286983,
          11.3251581956884,
          -0.0017526973281611,
          5.77363225136458
         ]
        },
        {
         "decreasing": {
          "marker": {
           "color": "red"
          }
         },
         "increasing": {
          "marker": {
           "color": "green"
          }
         },
         "name": "쿠벤저스",
         "orientation": "v",
         "type": "waterfall",
         "x": [
          "1-1",
          "1-2",
          "1-3",
          "1-4",
          "2-1",
          "2-2",
          "2-3",
          "2-4",
          "3-1",
          "3-2",
          "3-3"
         ],
         "y": [
          0,
          1.5969053637582942,
          4.754208242308855,
          0.7106396678498106,
          1.8125858513537765,
          -0.6994098939651416,
          -0.1975218139425916,
          3.4760549394869944,
          -0.8055337379898386,
          -0.0015460738283401,
          -5.023161096205375
         ]
        }
       ],
       "layout": {
        "autosize": false,
        "height": 600,
        "template": {
         "data": {
          "bar": [
           {
            "error_x": {
             "color": "#2a3f5f"
            },
            "error_y": {
             "color": "#2a3f5f"
            },
            "marker": {
             "line": {
              "color": "#E5ECF6",
              "width": 0.5
             },
             "pattern": {
              "fillmode": "overlay",
              "size": 10,
              "solidity": 0.2
             }
            },
            "type": "bar"
           }
          ],
          "barpolar": [
           {
            "marker": {
             "line": {
              "color": "#E5ECF6",
              "width": 0.5
             },
             "pattern": {
              "fillmode": "overlay",
              "size": 10,
              "solidity": 0.2
             }
            },
            "type": "barpolar"
           }
          ],
          "carpet": [
           {
            "aaxis": {
             "endlinecolor": "#2a3f5f",
             "gridcolor": "white",
             "linecolor": "white",
             "minorgridcolor": "white",
             "startlinecolor": "#2a3f5f"
            },
            "baxis": {
             "endlinecolor": "#2a3f5f",
             "gridcolor": "white",
             "linecolor": "white",
             "minorgridcolor": "white",
             "startlinecolor": "#2a3f5f"
            },
            "type": "carpet"
           }
          ],
          "choropleth": [
           {
            "colorbar": {
             "outlinewidth": 0,
             "ticks": ""
            },
            "type": "choropleth"
           }
          ],
          "contour": [
           {
            "colorbar": {
             "outlinewidth": 0,
             "ticks": ""
            },
            "colorscale": [
             [
              0,
              "#0d0887"
             ],
             [
              0.1111111111111111,
              "#46039f"
             ],
             [
              0.2222222222222222,
              "#7201a8"
             ],
             [
              0.3333333333333333,
              "#9c179e"
             ],
             [
              0.4444444444444444,
              "#bd3786"
             ],
             [
              0.5555555555555556,
              "#d8576b"
             ],
             [
              0.6666666666666666,
              "#ed7953"
             ],
             [
              0.7777777777777778,
              "#fb9f3a"
             ],
             [
              0.8888888888888888,
              "#fdca26"
             ],
             [
              1,
              "#f0f921"
             ]
            ],
            "type": "contour"
           }
          ],
          "contourcarpet": [
           {
            "colorbar": {
             "outlinewidth": 0,
             "ticks": ""
            },
            "type": "contourcarpet"
           }
          ],
          "heatmap": [
           {
            "colorbar": {
             "outlinewidth": 0,
             "ticks": ""
            },
            "colorscale": [
             [
              0,
              "#0d0887"
             ],
             [
              0.1111111111111111,
              "#46039f"
             ],
             [
              0.2222222222222222,
              "#7201a8"
             ],
             [
              0.3333333333333333,
              "#9c179e"
             ],
             [
              0.4444444444444444,
              "#bd3786"
             ],
             [
              0.5555555555555556,
              "#d8576b"
             ],
             [
              0.6666666666666666,
              "#ed7953"
             ],
             [
              0.7777777777777778,
              "#fb9f3a"
             ],
             [
              0.8888888888888888,
              "#fdca26"
             ],
             [
              1,
              "#f0f921"
             ]
            ],
            "type": "heatmap"
           }
          ],
          "heatmapgl": [
           {
            "colorbar": {
             "outlinewidth": 0,
             "ticks": ""
            },
            "colorscale": [
             [
              0,
              "#0d0887"
             ],
             [
              0.1111111111111111,
              "#46039f"
             ],
             [
              0.2222222222222222,
              "#7201a8"
             ],
             [
              0.3333333333333333,
              "#9c179e"
             ],
             [
              0.4444444444444444,
              "#bd3786"
             ],
             [
              0.5555555555555556,
              "#d8576b"
             ],
             [
              0.6666666666666666,
              "#ed7953"
             ],
             [
              0.7777777777777778,
              "#fb9f3a"
             ],
             [
              0.8888888888888888,
              "#fdca26"
             ],
             [
              1,
              "#f0f921"
             ]
            ],
            "type": "heatmapgl"
           }
          ],
          "histogram": [
           {
            "marker": {
             "pattern": {
              "fillmode": "overlay",
              "size": 10,
              "solidity": 0.2
             }
            },
            "type": "histogram"
           }
          ],
          "histogram2d": [
           {
            "colorbar": {
             "outlinewidth": 0,
             "ticks": ""
            },
            "colorscale": [
             [
              0,
              "#0d0887"
             ],
             [
              0.1111111111111111,
              "#46039f"
             ],
             [
              0.2222222222222222,
              "#7201a8"
             ],
             [
              0.3333333333333333,
              "#9c179e"
             ],
             [
              0.4444444444444444,
              "#bd3786"
             ],
             [
              0.5555555555555556,
              "#d8576b"
             ],
             [
              0.6666666666666666,
              "#ed7953"
             ],
             [
              0.7777777777777778,
              "#fb9f3a"
             ],
             [
              0.8888888888888888,
              "#fdca26"
             ],
             [
              1,
              "#f0f921"
             ]
            ],
            "type": "histogram2d"
           }
          ],
          "histogram2dcontour": [
           {
            "colorbar": {
             "outlinewidth": 0,
             "ticks": ""
            },
            "colorscale": [
             [
              0,
              "#0d0887"
             ],
             [
              0.1111111111111111,
              "#46039f"
             ],
             [
              0.2222222222222222,
              "#7201a8"
             ],
             [
              0.3333333333333333,
              "#9c179e"
             ],
             [
              0.4444444444444444,
              "#bd3786"
             ],
             [
              0.5555555555555556,
              "#d8576b"
             ],
             [
              0.6666666666666666,
              "#ed7953"
             ],
             [
              0.7777777777777778,
              "#fb9f3a"
             ],
             [
              0.8888888888888888,
              "#fdca26"
             ],
             [
              1,
              "#f0f921"
             ]
            ],
            "type": "histogram2dcontour"
           }
          ],
          "mesh3d": [
           {
            "colorbar": {
             "outlinewidth": 0,
             "ticks": ""
            },
            "type": "mesh3d"
           }
          ],
          "parcoords": [
           {
            "line": {
             "colorbar": {
              "outlinewidth": 0,
              "ticks": ""
             }
            },
            "type": "parcoords"
           }
          ],
          "pie": [
           {
            "automargin": true,
            "type": "pie"
           }
          ],
          "scatter": [
           {
            "fillpattern": {
             "fillmode": "overlay",
             "size": 10,
             "solidity": 0.2
            },
            "type": "scatter"
           }
          ],
          "scatter3d": [
           {
            "line": {
             "colorbar": {
              "outlinewidth": 0,
              "ticks": ""
             }
            },
            "marker": {
             "colorbar": {
              "outlinewidth": 0,
              "ticks": ""
             }
            },
            "type": "scatter3d"
           }
          ],
          "scattercarpet": [
           {
            "marker": {
             "colorbar": {
              "outlinewidth": 0,
              "ticks": ""
             }
            },
            "type": "scattercarpet"
           }
          ],
          "scattergeo": [
           {
            "marker": {
             "colorbar": {
              "outlinewidth": 0,
              "ticks": ""
             }
            },
            "type": "scattergeo"
           }
          ],
          "scattergl": [
           {
            "marker": {
             "colorbar": {
              "outlinewidth": 0,
              "ticks": ""
             }
            },
            "type": "scattergl"
           }
          ],
          "scattermapbox": [
           {
            "marker": {
             "colorbar": {
              "outlinewidth": 0,
              "ticks": ""
             }
            },
            "type": "scattermapbox"
           }
          ],
          "scatterpolar": [
           {
            "marker": {
             "colorbar": {
              "outlinewidth": 0,
              "ticks": ""
             }
            },
            "type": "scatterpolar"
           }
          ],
          "scatterpolargl": [
           {
            "marker": {
             "colorbar": {
              "outlinewidth": 0,
              "ticks": ""
             }
            },
            "type": "scatterpolargl"
           }
          ],
          "scatterternary": [
           {
            "marker": {
             "colorbar": {
              "outlinewidth": 0,
              "ticks": ""
             }
            },
            "type": "scatterternary"
           }
          ],
          "surface": [
           {
            "colorbar": {
             "outlinewidth": 0,
             "ticks": ""
            },
            "colorscale": [
             [
              0,
              "#0d0887"
             ],
             [
              0.1111111111111111,
              "#46039f"
             ],
             [
              0.2222222222222222,
              "#7201a8"
             ],
             [
              0.3333333333333333,
              "#9c179e"
             ],
             [
              0.4444444444444444,
              "#bd3786"
             ],
             [
              0.5555555555555556,
              "#d8576b"
             ],
             [
              0.6666666666666666,
              "#ed7953"
             ],
             [
              0.7777777777777778,
              "#fb9f3a"
             ],
             [
              0.8888888888888888,
              "#fdca26"
             ],
             [
              1,
              "#f0f921"
             ]
            ],
            "type": "surface"
           }
          ],
          "table": [
           {
            "cells": {
             "fill": {
              "color": "#EBF0F8"
             },
             "line": {
              "color": "white"
             }
            },
            "header": {
             "fill": {
              "color": "#C8D4E3"
             },
             "line": {
              "color": "white"
             }
            },
            "type": "table"
           }
          ]
         },
         "layout": {
          "annotationdefaults": {
           "arrowcolor": "#2a3f5f",
           "arrowhead": 0,
           "arrowwidth": 1
          },
          "autotypenumbers": "strict",
          "coloraxis": {
           "colorbar": {
            "outlinewidth": 0,
            "ticks": ""
           }
          },
          "colorscale": {
           "diverging": [
            [
             0,
             "#8e0152"
            ],
            [
             0.1,
             "#c51b7d"
            ],
            [
             0.2,
             "#de77ae"
            ],
            [
             0.3,
             "#f1b6da"
            ],
            [
             0.4,
             "#fde0ef"
            ],
            [
             0.5,
             "#f7f7f7"
            ],
            [
             0.6,
             "#e6f5d0"
            ],
            [
             0.7,
             "#b8e186"
            ],
            [
             0.8,
             "#7fbc41"
            ],
            [
             0.9,
             "#4d9221"
            ],
            [
             1,
             "#276419"
            ]
           ],
           "sequential": [
            [
             0,
             "#0d0887"
            ],
            [
             0.1111111111111111,
             "#46039f"
            ],
            [
             0.2222222222222222,
             "#7201a8"
            ],
            [
             0.3333333333333333,
             "#9c179e"
            ],
            [
             0.4444444444444444,
             "#bd3786"
            ],
            [
             0.5555555555555556,
             "#d8576b"
            ],
            [
             0.6666666666666666,
             "#ed7953"
            ],
            [
             0.7777777777777778,
             "#fb9f3a"
            ],
            [
             0.8888888888888888,
             "#fdca26"
            ],
            [
             1,
             "#f0f921"
            ]
           ],
           "sequentialminus": [
            [
             0,
             "#0d0887"
            ],
            [
             0.1111111111111111,
             "#46039f"
            ],
            [
             0.2222222222222222,
             "#7201a8"
            ],
            [
             0.3333333333333333,
             "#9c179e"
            ],
            [
             0.4444444444444444,
             "#bd3786"
            ],
            [
             0.5555555555555556,
             "#d8576b"
            ],
            [
             0.6666666666666666,
             "#ed7953"
            ],
            [
             0.7777777777777778,
             "#fb9f3a"
            ],
            [
             0.8888888888888888,
             "#fdca26"
            ],
            [
             1,
             "#f0f921"
            ]
           ]
          },
          "colorway": [
           "#636efa",
           "#EF553B",
           "#00cc96",
           "#ab63fa",
           "#FFA15A",
           "#19d3f3",
           "#FF6692",
           "#B6E880",
           "#FF97FF",
           "#FECB52"
          ],
          "font": {
           "color": "#2a3f5f"
          },
          "geo": {
           "bgcolor": "white",
           "lakecolor": "white",
           "landcolor": "#E5ECF6",
           "showlakes": true,
           "showland": true,
           "subunitcolor": "white"
          },
          "hoverlabel": {
           "align": "left"
          },
          "hovermode": "closest",
          "mapbox": {
           "style": "light"
          },
          "paper_bgcolor": "white",
          "plot_bgcolor": "#E5ECF6",
          "polar": {
           "angularaxis": {
            "gridcolor": "white",
            "linecolor": "white",
            "ticks": ""
           },
           "bgcolor": "#E5ECF6",
           "radialaxis": {
            "gridcolor": "white",
            "linecolor": "white",
            "ticks": ""
           }
          },
          "scene": {
           "xaxis": {
            "backgroundcolor": "#E5ECF6",
            "gridcolor": "white",
            "gridwidth": 2,
            "linecolor": "white",
            "showbackground": true,
            "ticks": "",
            "zerolinecolor": "white"
           },
           "yaxis": {
            "backgroundcolor": "#E5ECF6",
            "gridcolor": "white",
            "gridwidth": 2,
            "linecolor": "white",
            "showbackground": true,
            "ticks": "",
            "zerolinecolor": "white"
           },
           "zaxis": {
            "backgroundcolor": "#E5ECF6",
            "gridcolor": "white",
            "gridwidth": 2,
            "linecolor": "white",
            "showbackground": true,
            "ticks": "",
            "zerolinecolor": "white"
           }
          },
          "shapedefaults": {
           "line": {
            "color": "#2a3f5f"
           }
          },
          "ternary": {
           "aaxis": {
            "gridcolor": "white",
            "linecolor": "white",
            "ticks": ""
           },
           "baxis": {
            "gridcolor": "white",
            "linecolor": "white",
            "ticks": ""
           },
           "bgcolor": "#E5ECF6",
           "caxis": {
            "gridcolor": "white",
            "linecolor": "white",
            "ticks": ""
           }
          },
          "title": {
           "x": 0.05
          },
          "xaxis": {
           "automargin": true,
           "gridcolor": "white",
           "linecolor": "white",
           "ticks": "",
           "title": {
            "standoff": 15
           },
           "zerolinecolor": "white",
           "zerolinewidth": 2
          },
          "yaxis": {
           "automargin": true,
           "gridcolor": "white",
           "linecolor": "white",
           "ticks": "",
           "title": {
            "standoff": 15
           },
           "zerolinecolor": "white",
           "zerolinewidth": 2
          }
         }
        },
        "title": {
         "text": "Waterfall Chart for Growth Rate over Time"
        },
        "width": 800,
        "xaxis": {
         "title": {
          "text": "Round"
         }
        },
        "yaxis": {
         "title": {
          "text": "Growth Rate (%)"
         }
        }
       }
      }
     },
     "metadata": {},
     "output_type": "display_data"
    }
   ],
   "source": [
    "import plotly.graph_objects as go\n",
    "from plotly.subplots import make_subplots\n",
    "\n",
    "# Assuming data2 is the DataFrame with the added \"GrowthRate\" column\n",
    "\n",
    "fig = go.Figure()\n",
    "\n",
    "\n",
    "for guild, dat in data.groupby(\"GuildName\"):\n",
    "    growth_rates_percentage = dat[\"GrowthRate\"]\n",
    "    fig.add_trace(\n",
    "        go.Waterfall(\n",
    "            orientation=\"v\",\n",
    "            x=dat[\"Round\"],\n",
    "            y=growth_rates_percentage,\n",
    "            name=guild,\n",
    "            # text=f\"{guild}\",\n",
    "            decreasing=dict(marker=dict(color=\"red\")),\n",
    "            increasing=dict(marker=dict(color=\"green\")),\n",
    "        )\n",
    "    )\n",
    "\n",
    "fig.update_layout(\n",
    "    title=\"Waterfall Chart for Growth Rate over Time\",\n",
    "    xaxis_title=\"Round\",\n",
    "    yaxis_title=\"Growth Rate (%)\",\n",
    "    autosize=False,\n",
    "    width=800,\n",
    "    height=600,\n",
    "    # yaxis=dict(type=\"log\"),  # Set the y-axis type to logarithmic\n",
    ")\n",
    "\n",
    "fig.show()"
   ]
  },
  {
   "cell_type": "code",
   "execution_count": null,
   "metadata": {},
   "outputs": [],
   "source": [
    "top10_recent = data[\n",
    "    (data.Rank <= 10) & (data.Round == data.Round.max())\n",
    "].GuildName.unique()\n",
    "\n",
    "data[data.GuildName.isin(top10_recent)]\n",
    "\n",
    "\n",
    "def view_table(df):\n",
    "\n",
    "    return df.style.format(\n",
    "        precision=2,\n",
    "        thousands=\",\",\n",
    "        decimal=\".\",\n",
    "    )\n",
    "\n",
    "\n",
    "# view_table(data[data.GuildName.isin(top10_recent)])"
   ]
  },
  {
   "cell_type": "code",
   "execution_count": null,
   "metadata": {},
   "outputs": [
    {
     "data": {
      "application/vnd.plotly.v1+json": {
       "config": {
        "plotlyServerURL": "https://plot.ly"
       },
       "data": [
        {
         "decreasing": {
          "marker": {
           "color": "red"
          }
         },
         "increasing": {
          "marker": {
           "color": "green"
          }
         },
         "name": "Date",
         "orientation": "v",
         "text": "Date",
         "type": "waterfall",
         "x": [
          "1-1",
          "1-1",
          "1-1",
          "1-1",
          "1-1",
          "1-1",
          "1-1",
          "1-1",
          "1-1",
          "1-1",
          "1-2",
          "1-2",
          "1-2",
          "1-2",
          "1-2",
          "1-2",
          "1-2",
          "1-2",
          "1-2",
          "1-2",
          "1-3",
          "1-3",
          "1-3",
          "1-3",
          "1-3",
          "1-3",
          "1-3",
          "1-3",
          "1-3",
          "1-3",
          "1-4",
          "1-4",
          "1-4",
          "1-4",
          "1-4",
          "1-4",
          "1-4",
          "1-4",
          "1-4",
          "1-4",
          "2-1",
          "2-1",
          "2-1",
          "2-1",
          "2-1",
          "2-1",
          "2-1",
          "2-1",
          "2-1",
          "2-1",
          "2-2",
          "2-2",
          "2-2",
          "2-2",
          "2-2",
          "2-2",
          "2-2",
          "2-2",
          "2-2",
          "2-2",
          "2-3",
          "2-3",
          "2-3",
          "2-3",
          "2-3",
          "2-3",
          "2-3",
          "2-3",
          "2-3",
          "2-3",
          "2-4",
          "2-4",
          "2-4",
          "2-4",
          "2-4",
          "2-4",
          "2-4",
          "2-4",
          "2-4",
          "2-4",
          "3-1",
          "3-1",
          "3-1",
          "3-1",
          "3-1",
          "3-1",
          "3-1",
          "3-1",
          "3-1",
          "3-1",
          "3-2",
          "3-2",
          "3-2",
          "3-2",
          "3-2",
          "3-2",
          "3-2",
          "3-2",
          "3-2",
          "3-2",
          "3-3",
          "3-3",
          "3-3",
          "3-3",
          "3-3",
          "3-3",
          "3-3",
          "3-3",
          "3-3",
          "3-3",
          "4-1",
          "4-1",
          "4-1",
          "4-1",
          "4-1",
          "4-1",
          "4-1",
          "4-1",
          "4-1",
          "4-1",
          "4-2",
          "4-2",
          "4-2",
          "4-2",
          "4-2",
          "4-2",
          "4-2",
          "4-2",
          "4-2",
          "4-2",
          "4-3",
          "4-3",
          "4-3",
          "4-3",
          "4-3",
          "4-3",
          "4-3",
          "4-3",
          "4-3",
          "4-3"
         ],
         "xaxis": "x",
         "y": [
          0,
          0,
          0,
          0,
          0,
          0,
          0,
          0,
          0,
          0,
          1.7059997964461893,
          0.8348920267835291,
          0.0748148527478953,
          0.799806628082167,
          0.0005034919685398,
          5.008327256268408,
          2.547632576251213,
          1.749562478031952,
          1.8549957917518345,
          0.8727629056920705,
          0.7325197135013228,
          0.8640214667937851,
          1.6044902138426798,
          0.1162321750082018,
          1.6737499238472342,
          -4.865837205816215,
          -0.0023383465449944,
          0.0191053235176763,
          2.448009955730157,
          2.633904981505508,
          0.0792879312441874,
          0.1130934952999318,
          -0.7210583772852996,
          0.7060354725048512,
          1.6505544765675897,
          3.377466610733748,
          2.534623588571528,
          0.0108414906946352,
          0.7963853089417716,
          3.3461838692750545,
          1.575039821288926,
          1.532746048535083,
          1.6279201224841389,
          0.7816971978060305,
          2.5683798527556867,
          0.8456073675163545,
          0.7993491375378303,
          0.8329223739696578,
          2.588822189403017,
          0.9137563387559222,
          0.7934833535631514,
          0.7239288080689077,
          0.1452331669767881,
          0.0808214006561502,
          0.8565002713866843,
          0.7719052039401708,
          0.0007869604586874,
          1.6776359785444672,
          1.6453247703946294,
          -0.0231462379312485,
          0.0106922119921248,
          0.7616217902771671,
          2.1844525387015645,
          1.7412172708792362,
          -0.0529358379970146,
          0.0158454029732357,
          1.713910163405297,
          -0.7951681008088407,
          1.667034851410221,
          1.7474422518652055,
          0.0699449591157197,
          0.9048889573987308,
          0.0431109372633686,
          0.758919129581348,
          0.8409948123430988,
          0.725826668128593,
          0.698882935781242,
          4.198091411550298,
          -0.0637737080830369,
          0.7994562787145387,
          1.5490309163356697,
          -0.778875687216829,
          0.2325965840017652,
          1.8721024132090536,
          0.0878296501012121,
          0.8742135049525812,
          0.7355499348744354,
          1.699296189027133,
          -0.7449814741944838,
          0.7477723372326661,
          -0.0443114605306993,
          0.669245110172545,
          -0.1046548959635851,
          0.581718286044608,
          0.774550810014718,
          0.8456399495874845,
          0.8492988158910642,
          1.5871958182287038,
          0.8580051559883062,
          0.8302387112863796,
          2.5477174092973343,
          -0.7934108101888437,
          0.7808413070013787,
          1.0125639170442735,
          0.8093307331490829,
          1.6074737826886176,
          0.7941522758321273,
          -0.7617668424578006,
          0.7464768583143488,
          0.8039828624069933,
          4.015307102695664,
          5.85431400791574,
          4.899680226551828,
          4.306750367412371,
          4.153373579380926,
          3.3688184934523635,
          5.920407492949642,
          3.5028071897015955,
          4.248432460279017,
          5.862045169625718,
          -0.625278332568624,
          -0.0441678667727263,
          0.0860686373255426,
          1.5037005443298224,
          2.339723953208206,
          -0.0838064870847254,
          0.8245585062270466,
          1.5628095652087337,
          0.8512167285582573,
          -1.4485504084134404,
          6.083039775729215,
          6.1833869884301285,
          4.693456782223215,
          7.868968796412701,
          3.926672780481488,
          3.87507346209488,
          4.709758857141844,
          3.0784140466892707,
          3.0013622975624044,
          7.171260754870046
         ],
         "yaxis": "y"
        },
        {
         "decreasing": {
          "marker": {
           "color": "red"
          }
         },
         "increasing": {
          "marker": {
           "color": "green"
          }
         },
         "name": "Season",
         "orientation": "v",
         "text": "Season",
         "type": "waterfall",
         "x": [
          "1-1",
          "1-1",
          "1-1",
          "1-1",
          "1-1",
          "1-1",
          "1-1",
          "1-1",
          "1-1",
          "1-1",
          "1-2",
          "1-2",
          "1-2",
          "1-2",
          "1-2",
          "1-2",
          "1-2",
          "1-2",
          "1-2",
          "1-2",
          "1-3",
          "1-3",
          "1-3",
          "1-3",
          "1-3",
          "1-3",
          "1-3",
          "1-3",
          "1-3",
          "1-3",
          "1-4",
          "1-4",
          "1-4",
          "1-4",
          "1-4",
          "1-4",
          "1-4",
          "1-4",
          "1-4",
          "1-4",
          "2-1",
          "2-1",
          "2-1",
          "2-1",
          "2-1",
          "2-1",
          "2-1",
          "2-1",
          "2-1",
          "2-1",
          "2-2",
          "2-2",
          "2-2",
          "2-2",
          "2-2",
          "2-2",
          "2-2",
          "2-2",
          "2-2",
          "2-2",
          "2-3",
          "2-3",
          "2-3",
          "2-3",
          "2-3",
          "2-3",
          "2-3",
          "2-3",
          "2-3",
          "2-3",
          "2-4",
          "2-4",
          "2-4",
          "2-4",
          "2-4",
          "2-4",
          "2-4",
          "2-4",
          "2-4",
          "2-4",
          "3-1",
          "3-1",
          "3-1",
          "3-1",
          "3-1",
          "3-1",
          "3-1",
          "3-1",
          "3-1",
          "3-1",
          "3-2",
          "3-2",
          "3-2",
          "3-2",
          "3-2",
          "3-2",
          "3-2",
          "3-2",
          "3-2",
          "3-2",
          "3-3",
          "3-3",
          "3-3",
          "3-3",
          "3-3",
          "3-3",
          "3-3",
          "3-3",
          "3-3",
          "3-3",
          "4-1",
          "4-1",
          "4-1",
          "4-1",
          "4-1",
          "4-1",
          "4-1",
          "4-1",
          "4-1",
          "4-1",
          "4-2",
          "4-2",
          "4-2",
          "4-2",
          "4-2",
          "4-2",
          "4-2",
          "4-2",
          "4-2",
          "4-2",
          "4-3",
          "4-3",
          "4-3",
          "4-3",
          "4-3",
          "4-3",
          "4-3",
          "4-3",
          "4-3",
          "4-3"
         ],
         "xaxis": "x3",
         "y": [
          0,
          0,
          0,
          0,
          0,
          0,
          0,
          0,
          0,
          0,
          1.7059997964461893,
          0.8348920267835291,
          0.0748148527478953,
          0.799806628082167,
          0.0005034919685398,
          5.008327256268408,
          2.547632576251213,
          1.749562478031952,
          1.8549957917518345,
          0.8727629056920705,
          0.7325197135013228,
          0.8640214667937851,
          1.6044902138426798,
          0.1162321750082018,
          1.6737499238472342,
          -4.865837205816215,
          -0.0023383465449944,
          0.0191053235176763,
          2.448009955730157,
          2.633904981505508,
          0.0792879312441874,
          0.1130934952999318,
          -0.7210583772852996,
          0.7060354725048512,
          1.6505544765675897,
          3.377466610733748,
          2.534623588571528,
          0.0108414906946352,
          0.7963853089417716,
          3.3461838692750545,
          1.575039821288926,
          1.532746048535083,
          1.6279201224841389,
          0.7816971978060305,
          2.5683798527556867,
          0.8456073675163545,
          0.7993491375378303,
          0.8329223739696578,
          2.588822189403017,
          0.9137563387559222,
          0.7934833535631514,
          0.7239288080689077,
          0.1452331669767881,
          0.0808214006561502,
          0.8565002713866843,
          0.7719052039401708,
          0.0007869604586874,
          1.6776359785444672,
          1.6453247703946294,
          -0.0231462379312485,
          0.0106922119921248,
          0.7616217902771671,
          2.1844525387015645,
          1.7412172708792362,
          -0.0529358379970146,
          0.0158454029732357,
          1.713910163405297,
          -0.7951681008088407,
          1.667034851410221,
          1.7474422518652055,
          0.0699449591157197,
          0.9048889573987308,
          0.0431109372633686,
          0.758919129581348,
          0.8409948123430988,
          0.725826668128593,
          0.698882935781242,
          4.198091411550298,
          -0.0637737080830369,
          0.7994562787145387,
          1.5490309163356697,
          -0.778875687216829,
          0.2325965840017652,
          1.8721024132090536,
          0.0878296501012121,
          0.8742135049525812,
          0.7355499348744354,
          1.699296189027133,
          -0.7449814741944838,
          0.7477723372326661,
          -0.0443114605306993,
          0.669245110172545,
          -0.1046548959635851,
          0.581718286044608,
          0.774550810014718,
          0.8456399495874845,
          0.8492988158910642,
          1.5871958182287038,
          0.8580051559883062,
          0.8302387112863796,
          2.5477174092973343,
          -0.7934108101888437,
          0.7808413070013787,
          1.0125639170442735,
          0.8093307331490829,
          1.6074737826886176,
          0.7941522758321273,
          -0.7617668424578006,
          0.7464768583143488,
          0.8039828624069933,
          4.015307102695664,
          5.85431400791574,
          4.899680226551828,
          4.306750367412371,
          4.153373579380926,
          3.3688184934523635,
          5.920407492949642,
          3.5028071897015955,
          4.248432460279017,
          5.862045169625718,
          -0.625278332568624,
          -0.0441678667727263,
          0.0860686373255426,
          1.5037005443298224,
          2.339723953208206,
          -0.0838064870847254,
          0.8245585062270466,
          1.5628095652087337,
          0.8512167285582573,
          -1.4485504084134404,
          6.083039775729215,
          6.1833869884301285,
          4.693456782223215,
          7.868968796412701,
          3.926672780481488,
          3.87507346209488,
          4.709758857141844,
          3.0784140466892707,
          3.0013622975624044,
          7.171260754870046
         ],
         "yaxis": "y3"
        },
        {
         "decreasing": {
          "marker": {
           "color": "red"
          }
         },
         "increasing": {
          "marker": {
           "color": "green"
          }
         },
         "name": "Round",
         "orientation": "v",
         "text": "Round",
         "type": "waterfall",
         "x": [
          "1-1",
          "1-1",
          "1-1",
          "1-1",
          "1-1",
          "1-1",
          "1-1",
          "1-1",
          "1-1",
          "1-1",
          "1-2",
          "1-2",
          "1-2",
          "1-2",
          "1-2",
          "1-2",
          "1-2",
          "1-2",
          "1-2",
          "1-2",
          "1-3",
          "1-3",
          "1-3",
          "1-3",
          "1-3",
          "1-3",
          "1-3",
          "1-3",
          "1-3",
          "1-3",
          "1-4",
          "1-4",
          "1-4",
          "1-4",
          "1-4",
          "1-4",
          "1-4",
          "1-4",
          "1-4",
          "1-4",
          "2-1",
          "2-1",
          "2-1",
          "2-1",
          "2-1",
          "2-1",
          "2-1",
          "2-1",
          "2-1",
          "2-1",
          "2-2",
          "2-2",
          "2-2",
          "2-2",
          "2-2",
          "2-2",
          "2-2",
          "2-2",
          "2-2",
          "2-2",
          "2-3",
          "2-3",
          "2-3",
          "2-3",
          "2-3",
          "2-3",
          "2-3",
          "2-3",
          "2-3",
          "2-3",
          "2-4",
          "2-4",
          "2-4",
          "2-4",
          "2-4",
          "2-4",
          "2-4",
          "2-4",
          "2-4",
          "2-4",
          "3-1",
          "3-1",
          "3-1",
          "3-1",
          "3-1",
          "3-1",
          "3-1",
          "3-1",
          "3-1",
          "3-1",
          "3-2",
          "3-2",
          "3-2",
          "3-2",
          "3-2",
          "3-2",
          "3-2",
          "3-2",
          "3-2",
          "3-2",
          "3-3",
          "3-3",
          "3-3",
          "3-3",
          "3-3",
          "3-3",
          "3-3",
          "3-3",
          "3-3",
          "3-3",
          "4-1",
          "4-1",
          "4-1",
          "4-1",
          "4-1",
          "4-1",
          "4-1",
          "4-1",
          "4-1",
          "4-1",
          "4-2",
          "4-2",
          "4-2",
          "4-2",
          "4-2",
          "4-2",
          "4-2",
          "4-2",
          "4-2",
          "4-2",
          "4-3",
          "4-3",
          "4-3",
          "4-3",
          "4-3",
          "4-3",
          "4-3",
          "4-3",
          "4-3",
          "4-3"
         ],
         "xaxis": "x5",
         "y": [
          0,
          0,
          0,
          0,
          0,
          0,
          0,
          0,
          0,
          0,
          1.7059997964461893,
          0.8348920267835291,
          0.0748148527478953,
          0.799806628082167,
          0.0005034919685398,
          5.008327256268408,
          2.547632576251213,
          1.749562478031952,
          1.8549957917518345,
          0.8727629056920705,
          0.7325197135013228,
          0.8640214667937851,
          1.6044902138426798,
          0.1162321750082018,
          1.6737499238472342,
          -4.865837205816215,
          -0.0023383465449944,
          0.0191053235176763,
          2.448009955730157,
          2.633904981505508,
          0.0792879312441874,
          0.1130934952999318,
          -0.7210583772852996,
          0.7060354725048512,
          1.6505544765675897,
          3.377466610733748,
          2.534623588571528,
          0.0108414906946352,
          0.7963853089417716,
          3.3461838692750545,
          1.575039821288926,
          1.532746048535083,
          1.6279201224841389,
          0.7816971978060305,
          2.5683798527556867,
          0.8456073675163545,
          0.7993491375378303,
          0.8329223739696578,
          2.588822189403017,
          0.9137563387559222,
          0.7934833535631514,
          0.7239288080689077,
          0.1452331669767881,
          0.0808214006561502,
          0.8565002713866843,
          0.7719052039401708,
          0.0007869604586874,
          1.6776359785444672,
          1.6453247703946294,
          -0.0231462379312485,
          0.0106922119921248,
          0.7616217902771671,
          2.1844525387015645,
          1.7412172708792362,
          -0.0529358379970146,
          0.0158454029732357,
          1.713910163405297,
          -0.7951681008088407,
          1.667034851410221,
          1.7474422518652055,
          0.0699449591157197,
          0.9048889573987308,
          0.0431109372633686,
          0.758919129581348,
          0.8409948123430988,
          0.725826668128593,
          0.698882935781242,
          4.198091411550298,
          -0.0637737080830369,
          0.7994562787145387,
          1.5490309163356697,
          -0.778875687216829,
          0.2325965840017652,
          1.8721024132090536,
          0.0878296501012121,
          0.8742135049525812,
          0.7355499348744354,
          1.699296189027133,
          -0.7449814741944838,
          0.7477723372326661,
          -0.0443114605306993,
          0.669245110172545,
          -0.1046548959635851,
          0.581718286044608,
          0.774550810014718,
          0.8456399495874845,
          0.8492988158910642,
          1.5871958182287038,
          0.8580051559883062,
          0.8302387112863796,
          2.5477174092973343,
          -0.7934108101888437,
          0.7808413070013787,
          1.0125639170442735,
          0.8093307331490829,
          1.6074737826886176,
          0.7941522758321273,
          -0.7617668424578006,
          0.7464768583143488,
          0.8039828624069933,
          4.015307102695664,
          5.85431400791574,
          4.899680226551828,
          4.306750367412371,
          4.153373579380926,
          3.3688184934523635,
          5.920407492949642,
          3.5028071897015955,
          4.248432460279017,
          5.862045169625718,
          -0.625278332568624,
          -0.0441678667727263,
          0.0860686373255426,
          1.5037005443298224,
          2.339723953208206,
          -0.0838064870847254,
          0.8245585062270466,
          1.5628095652087337,
          0.8512167285582573,
          -1.4485504084134404,
          6.083039775729215,
          6.1833869884301285,
          4.693456782223215,
          7.868968796412701,
          3.926672780481488,
          3.87507346209488,
          4.709758857141844,
          3.0784140466892707,
          3.0013622975624044,
          7.171260754870046
         ],
         "yaxis": "y5"
        },
        {
         "decreasing": {
          "marker": {
           "color": "red"
          }
         },
         "increasing": {
          "marker": {
           "color": "green"
          }
         },
         "name": "Rank",
         "orientation": "v",
         "text": "Rank",
         "type": "waterfall",
         "x": [
          "1-1",
          "1-1",
          "1-1",
          "1-1",
          "1-1",
          "1-1",
          "1-1",
          "1-1",
          "1-1",
          "1-1",
          "1-2",
          "1-2",
          "1-2",
          "1-2",
          "1-2",
          "1-2",
          "1-2",
          "1-2",
          "1-2",
          "1-2",
          "1-3",
          "1-3",
          "1-3",
          "1-3",
          "1-3",
          "1-3",
          "1-3",
          "1-3",
          "1-3",
          "1-3",
          "1-4",
          "1-4",
          "1-4",
          "1-4",
          "1-4",
          "1-4",
          "1-4",
          "1-4",
          "1-4",
          "1-4",
          "2-1",
          "2-1",
          "2-1",
          "2-1",
          "2-1",
          "2-1",
          "2-1",
          "2-1",
          "2-1",
          "2-1",
          "2-2",
          "2-2",
          "2-2",
          "2-2",
          "2-2",
          "2-2",
          "2-2",
          "2-2",
          "2-2",
          "2-2",
          "2-3",
          "2-3",
          "2-3",
          "2-3",
          "2-3",
          "2-3",
          "2-3",
          "2-3",
          "2-3",
          "2-3",
          "2-4",
          "2-4",
          "2-4",
          "2-4",
          "2-4",
          "2-4",
          "2-4",
          "2-4",
          "2-4",
          "2-4",
          "3-1",
          "3-1",
          "3-1",
          "3-1",
          "3-1",
          "3-1",
          "3-1",
          "3-1",
          "3-1",
          "3-1",
          "3-2",
          "3-2",
          "3-2",
          "3-2",
          "3-2",
          "3-2",
          "3-2",
          "3-2",
          "3-2",
          "3-2",
          "3-3",
          "3-3",
          "3-3",
          "3-3",
          "3-3",
          "3-3",
          "3-3",
          "3-3",
          "3-3",
          "3-3",
          "4-1",
          "4-1",
          "4-1",
          "4-1",
          "4-1",
          "4-1",
          "4-1",
          "4-1",
          "4-1",
          "4-1",
          "4-2",
          "4-2",
          "4-2",
          "4-2",
          "4-2",
          "4-2",
          "4-2",
          "4-2",
          "4-2",
          "4-2",
          "4-3",
          "4-3",
          "4-3",
          "4-3",
          "4-3",
          "4-3",
          "4-3",
          "4-3",
          "4-3",
          "4-3"
         ],
         "xaxis": "x7",
         "y": [
          0,
          0,
          0,
          0,
          0,
          0,
          0,
          0,
          0,
          0,
          1.7059997964461893,
          0.8348920267835291,
          0.0748148527478953,
          0.799806628082167,
          0.0005034919685398,
          5.008327256268408,
          2.547632576251213,
          1.749562478031952,
          1.8549957917518345,
          0.8727629056920705,
          0.7325197135013228,
          0.8640214667937851,
          1.6044902138426798,
          0.1162321750082018,
          1.6737499238472342,
          -4.865837205816215,
          -0.0023383465449944,
          0.0191053235176763,
          2.448009955730157,
          2.633904981505508,
          0.0792879312441874,
          0.1130934952999318,
          -0.7210583772852996,
          0.7060354725048512,
          1.6505544765675897,
          3.377466610733748,
          2.534623588571528,
          0.0108414906946352,
          0.7963853089417716,
          3.3461838692750545,
          1.575039821288926,
          1.532746048535083,
          1.6279201224841389,
          0.7816971978060305,
          2.5683798527556867,
          0.8456073675163545,
          0.7993491375378303,
          0.8329223739696578,
          2.588822189403017,
          0.9137563387559222,
          0.7934833535631514,
          0.7239288080689077,
          0.1452331669767881,
          0.0808214006561502,
          0.8565002713866843,
          0.7719052039401708,
          0.0007869604586874,
          1.6776359785444672,
          1.6453247703946294,
          -0.0231462379312485,
          0.0106922119921248,
          0.7616217902771671,
          2.1844525387015645,
          1.7412172708792362,
          -0.0529358379970146,
          0.0158454029732357,
          1.713910163405297,
          -0.7951681008088407,
          1.667034851410221,
          1.7474422518652055,
          0.0699449591157197,
          0.9048889573987308,
          0.0431109372633686,
          0.758919129581348,
          0.8409948123430988,
          0.725826668128593,
          0.698882935781242,
          4.198091411550298,
          -0.0637737080830369,
          0.7994562787145387,
          1.5490309163356697,
          -0.778875687216829,
          0.2325965840017652,
          1.8721024132090536,
          0.0878296501012121,
          0.8742135049525812,
          0.7355499348744354,
          1.699296189027133,
          -0.7449814741944838,
          0.7477723372326661,
          -0.0443114605306993,
          0.669245110172545,
          -0.1046548959635851,
          0.581718286044608,
          0.774550810014718,
          0.8456399495874845,
          0.8492988158910642,
          1.5871958182287038,
          0.8580051559883062,
          0.8302387112863796,
          2.5477174092973343,
          -0.7934108101888437,
          0.7808413070013787,
          1.0125639170442735,
          0.8093307331490829,
          1.6074737826886176,
          0.7941522758321273,
          -0.7617668424578006,
          0.7464768583143488,
          0.8039828624069933,
          4.015307102695664,
          5.85431400791574,
          4.899680226551828,
          4.306750367412371,
          4.153373579380926,
          3.3688184934523635,
          5.920407492949642,
          3.5028071897015955,
          4.248432460279017,
          5.862045169625718,
          -0.625278332568624,
          -0.0441678667727263,
          0.0860686373255426,
          1.5037005443298224,
          2.339723953208206,
          -0.0838064870847254,
          0.8245585062270466,
          1.5628095652087337,
          0.8512167285582573,
          -1.4485504084134404,
          6.083039775729215,
          6.1833869884301285,
          4.693456782223215,
          7.868968796412701,
          3.926672780481488,
          3.87507346209488,
          4.709758857141844,
          3.0784140466892707,
          3.0013622975624044,
          7.171260754870046
         ],
         "yaxis": "y7"
        },
        {
         "decreasing": {
          "marker": {
           "color": "red"
          }
         },
         "increasing": {
          "marker": {
           "color": "green"
          }
         },
         "name": "GuildName",
         "orientation": "v",
         "text": "GuildName",
         "type": "waterfall",
         "x": [
          "1-1",
          "1-1",
          "1-1",
          "1-1",
          "1-1",
          "1-1",
          "1-1",
          "1-1",
          "1-1",
          "1-1",
          "1-2",
          "1-2",
          "1-2",
          "1-2",
          "1-2",
          "1-2",
          "1-2",
          "1-2",
          "1-2",
          "1-2",
          "1-3",
          "1-3",
          "1-3",
          "1-3",
          "1-3",
          "1-3",
          "1-3",
          "1-3",
          "1-3",
          "1-3",
          "1-4",
          "1-4",
          "1-4",
          "1-4",
          "1-4",
          "1-4",
          "1-4",
          "1-4",
          "1-4",
          "1-4",
          "2-1",
          "2-1",
          "2-1",
          "2-1",
          "2-1",
          "2-1",
          "2-1",
          "2-1",
          "2-1",
          "2-1",
          "2-2",
          "2-2",
          "2-2",
          "2-2",
          "2-2",
          "2-2",
          "2-2",
          "2-2",
          "2-2",
          "2-2",
          "2-3",
          "2-3",
          "2-3",
          "2-3",
          "2-3",
          "2-3",
          "2-3",
          "2-3",
          "2-3",
          "2-3",
          "2-4",
          "2-4",
          "2-4",
          "2-4",
          "2-4",
          "2-4",
          "2-4",
          "2-4",
          "2-4",
          "2-4",
          "3-1",
          "3-1",
          "3-1",
          "3-1",
          "3-1",
          "3-1",
          "3-1",
          "3-1",
          "3-1",
          "3-1",
          "3-2",
          "3-2",
          "3-2",
          "3-2",
          "3-2",
          "3-2",
          "3-2",
          "3-2",
          "3-2",
          "3-2",
          "3-3",
          "3-3",
          "3-3",
          "3-3",
          "3-3",
          "3-3",
          "3-3",
          "3-3",
          "3-3",
          "3-3",
          "4-1",
          "4-1",
          "4-1",
          "4-1",
          "4-1",
          "4-1",
          "4-1",
          "4-1",
          "4-1",
          "4-1",
          "4-2",
          "4-2",
          "4-2",
          "4-2",
          "4-2",
          "4-2",
          "4-2",
          "4-2",
          "4-2",
          "4-2",
          "4-3",
          "4-3",
          "4-3",
          "4-3",
          "4-3",
          "4-3",
          "4-3",
          "4-3",
          "4-3",
          "4-3"
         ],
         "xaxis": "x9",
         "y": [
          0,
          0,
          0,
          0,
          0,
          0,
          0,
          0,
          0,
          0,
          1.7059997964461893,
          0.8348920267835291,
          0.0748148527478953,
          0.799806628082167,
          0.0005034919685398,
          5.008327256268408,
          2.547632576251213,
          1.749562478031952,
          1.8549957917518345,
          0.8727629056920705,
          0.7325197135013228,
          0.8640214667937851,
          1.6044902138426798,
          0.1162321750082018,
          1.6737499238472342,
          -4.865837205816215,
          -0.0023383465449944,
          0.0191053235176763,
          2.448009955730157,
          2.633904981505508,
          0.0792879312441874,
          0.1130934952999318,
          -0.7210583772852996,
          0.7060354725048512,
          1.6505544765675897,
          3.377466610733748,
          2.534623588571528,
          0.0108414906946352,
          0.7963853089417716,
          3.3461838692750545,
          1.575039821288926,
          1.532746048535083,
          1.6279201224841389,
          0.7816971978060305,
          2.5683798527556867,
          0.8456073675163545,
          0.7993491375378303,
          0.8329223739696578,
          2.588822189403017,
          0.9137563387559222,
          0.7934833535631514,
          0.7239288080689077,
          0.1452331669767881,
          0.0808214006561502,
          0.8565002713866843,
          0.7719052039401708,
          0.0007869604586874,
          1.6776359785444672,
          1.6453247703946294,
          -0.0231462379312485,
          0.0106922119921248,
          0.7616217902771671,
          2.1844525387015645,
          1.7412172708792362,
          -0.0529358379970146,
          0.0158454029732357,
          1.713910163405297,
          -0.7951681008088407,
          1.667034851410221,
          1.7474422518652055,
          0.0699449591157197,
          0.9048889573987308,
          0.0431109372633686,
          0.758919129581348,
          0.8409948123430988,
          0.725826668128593,
          0.698882935781242,
          4.198091411550298,
          -0.0637737080830369,
          0.7994562787145387,
          1.5490309163356697,
          -0.778875687216829,
          0.2325965840017652,
          1.8721024132090536,
          0.0878296501012121,
          0.8742135049525812,
          0.7355499348744354,
          1.699296189027133,
          -0.7449814741944838,
          0.7477723372326661,
          -0.0443114605306993,
          0.669245110172545,
          -0.1046548959635851,
          0.581718286044608,
          0.774550810014718,
          0.8456399495874845,
          0.8492988158910642,
          1.5871958182287038,
          0.8580051559883062,
          0.8302387112863796,
          2.5477174092973343,
          -0.7934108101888437,
          0.7808413070013787,
          1.0125639170442735,
          0.8093307331490829,
          1.6074737826886176,
          0.7941522758321273,
          -0.7617668424578006,
          0.7464768583143488,
          0.8039828624069933,
          4.015307102695664,
          5.85431400791574,
          4.899680226551828,
          4.306750367412371,
          4.153373579380926,
          3.3688184934523635,
          5.920407492949642,
          3.5028071897015955,
          4.248432460279017,
          5.862045169625718,
          -0.625278332568624,
          -0.0441678667727263,
          0.0860686373255426,
          1.5037005443298224,
          2.339723953208206,
          -0.0838064870847254,
          0.8245585062270466,
          1.5628095652087337,
          0.8512167285582573,
          -1.4485504084134404,
          6.083039775729215,
          6.1833869884301285,
          4.693456782223215,
          7.868968796412701,
          3.926672780481488,
          3.87507346209488,
          4.709758857141844,
          3.0784140466892707,
          3.0013622975624044,
          7.171260754870046
         ],
         "yaxis": "y9"
        },
        {
         "decreasing": {
          "marker": {
           "color": "red"
          }
         },
         "increasing": {
          "marker": {
           "color": "green"
          }
         },
         "name": "GuildNameExtra",
         "orientation": "v",
         "text": "GuildNameExtra",
         "type": "waterfall",
         "x": [
          "1-1",
          "1-1",
          "1-1",
          "1-1",
          "1-1",
          "1-1",
          "1-1",
          "1-1",
          "1-1",
          "1-1",
          "1-2",
          "1-2",
          "1-2",
          "1-2",
          "1-2",
          "1-2",
          "1-2",
          "1-2",
          "1-2",
          "1-2",
          "1-3",
          "1-3",
          "1-3",
          "1-3",
          "1-3",
          "1-3",
          "1-3",
          "1-3",
          "1-3",
          "1-3",
          "1-4",
          "1-4",
          "1-4",
          "1-4",
          "1-4",
          "1-4",
          "1-4",
          "1-4",
          "1-4",
          "1-4",
          "2-1",
          "2-1",
          "2-1",
          "2-1",
          "2-1",
          "2-1",
          "2-1",
          "2-1",
          "2-1",
          "2-1",
          "2-2",
          "2-2",
          "2-2",
          "2-2",
          "2-2",
          "2-2",
          "2-2",
          "2-2",
          "2-2",
          "2-2",
          "2-3",
          "2-3",
          "2-3",
          "2-3",
          "2-3",
          "2-3",
          "2-3",
          "2-3",
          "2-3",
          "2-3",
          "2-4",
          "2-4",
          "2-4",
          "2-4",
          "2-4",
          "2-4",
          "2-4",
          "2-4",
          "2-4",
          "2-4",
          "3-1",
          "3-1",
          "3-1",
          "3-1",
          "3-1",
          "3-1",
          "3-1",
          "3-1",
          "3-1",
          "3-1",
          "3-2",
          "3-2",
          "3-2",
          "3-2",
          "3-2",
          "3-2",
          "3-2",
          "3-2",
          "3-2",
          "3-2",
          "3-3",
          "3-3",
          "3-3",
          "3-3",
          "3-3",
          "3-3",
          "3-3",
          "3-3",
          "3-3",
          "3-3",
          "4-1",
          "4-1",
          "4-1",
          "4-1",
          "4-1",
          "4-1",
          "4-1",
          "4-1",
          "4-1",
          "4-1",
          "4-2",
          "4-2",
          "4-2",
          "4-2",
          "4-2",
          "4-2",
          "4-2",
          "4-2",
          "4-2",
          "4-2",
          "4-3",
          "4-3",
          "4-3",
          "4-3",
          "4-3",
          "4-3",
          "4-3",
          "4-3",
          "4-3",
          "4-3"
         ],
         "xaxis": "x2",
         "y": [
          0,
          0,
          0,
          0,
          0,
          0,
          0,
          0,
          0,
          0,
          1.7059997964461893,
          0.8348920267835291,
          0.0748148527478953,
          0.799806628082167,
          0.0005034919685398,
          5.008327256268408,
          2.547632576251213,
          1.749562478031952,
          1.8549957917518345,
          0.8727629056920705,
          0.7325197135013228,
          0.8640214667937851,
          1.6044902138426798,
          0.1162321750082018,
          1.6737499238472342,
          -4.865837205816215,
          -0.0023383465449944,
          0.0191053235176763,
          2.448009955730157,
          2.633904981505508,
          0.0792879312441874,
          0.1130934952999318,
          -0.7210583772852996,
          0.7060354725048512,
          1.6505544765675897,
          3.377466610733748,
          2.534623588571528,
          0.0108414906946352,
          0.7963853089417716,
          3.3461838692750545,
          1.575039821288926,
          1.532746048535083,
          1.6279201224841389,
          0.7816971978060305,
          2.5683798527556867,
          0.8456073675163545,
          0.7993491375378303,
          0.8329223739696578,
          2.588822189403017,
          0.9137563387559222,
          0.7934833535631514,
          0.7239288080689077,
          0.1452331669767881,
          0.0808214006561502,
          0.8565002713866843,
          0.7719052039401708,
          0.0007869604586874,
          1.6776359785444672,
          1.6453247703946294,
          -0.0231462379312485,
          0.0106922119921248,
          0.7616217902771671,
          2.1844525387015645,
          1.7412172708792362,
          -0.0529358379970146,
          0.0158454029732357,
          1.713910163405297,
          -0.7951681008088407,
          1.667034851410221,
          1.7474422518652055,
          0.0699449591157197,
          0.9048889573987308,
          0.0431109372633686,
          0.758919129581348,
          0.8409948123430988,
          0.725826668128593,
          0.698882935781242,
          4.198091411550298,
          -0.0637737080830369,
          0.7994562787145387,
          1.5490309163356697,
          -0.778875687216829,
          0.2325965840017652,
          1.8721024132090536,
          0.0878296501012121,
          0.8742135049525812,
          0.7355499348744354,
          1.699296189027133,
          -0.7449814741944838,
          0.7477723372326661,
          -0.0443114605306993,
          0.669245110172545,
          -0.1046548959635851,
          0.581718286044608,
          0.774550810014718,
          0.8456399495874845,
          0.8492988158910642,
          1.5871958182287038,
          0.8580051559883062,
          0.8302387112863796,
          2.5477174092973343,
          -0.7934108101888437,
          0.7808413070013787,
          1.0125639170442735,
          0.8093307331490829,
          1.6074737826886176,
          0.7941522758321273,
          -0.7617668424578006,
          0.7464768583143488,
          0.8039828624069933,
          4.015307102695664,
          5.85431400791574,
          4.899680226551828,
          4.306750367412371,
          4.153373579380926,
          3.3688184934523635,
          5.920407492949642,
          3.5028071897015955,
          4.248432460279017,
          5.862045169625718,
          -0.625278332568624,
          -0.0441678667727263,
          0.0860686373255426,
          1.5037005443298224,
          2.339723953208206,
          -0.0838064870847254,
          0.8245585062270466,
          1.5628095652087337,
          0.8512167285582573,
          -1.4485504084134404,
          6.083039775729215,
          6.1833869884301285,
          4.693456782223215,
          7.868968796412701,
          3.926672780481488,
          3.87507346209488,
          4.709758857141844,
          3.0784140466892707,
          3.0013622975624044,
          7.171260754870046
         ],
         "yaxis": "y2"
        },
        {
         "decreasing": {
          "marker": {
           "color": "red"
          }
         },
         "increasing": {
          "marker": {
           "color": "green"
          }
         },
         "name": "Trophies",
         "orientation": "v",
         "text": "Trophies",
         "type": "waterfall",
         "x": [
          "1-1",
          "1-1",
          "1-1",
          "1-1",
          "1-1",
          "1-1",
          "1-1",
          "1-1",
          "1-1",
          "1-1",
          "1-2",
          "1-2",
          "1-2",
          "1-2",
          "1-2",
          "1-2",
          "1-2",
          "1-2",
          "1-2",
          "1-2",
          "1-3",
          "1-3",
          "1-3",
          "1-3",
          "1-3",
          "1-3",
          "1-3",
          "1-3",
          "1-3",
          "1-3",
          "1-4",
          "1-4",
          "1-4",
          "1-4",
          "1-4",
          "1-4",
          "1-4",
          "1-4",
          "1-4",
          "1-4",
          "2-1",
          "2-1",
          "2-1",
          "2-1",
          "2-1",
          "2-1",
          "2-1",
          "2-1",
          "2-1",
          "2-1",
          "2-2",
          "2-2",
          "2-2",
          "2-2",
          "2-2",
          "2-2",
          "2-2",
          "2-2",
          "2-2",
          "2-2",
          "2-3",
          "2-3",
          "2-3",
          "2-3",
          "2-3",
          "2-3",
          "2-3",
          "2-3",
          "2-3",
          "2-3",
          "2-4",
          "2-4",
          "2-4",
          "2-4",
          "2-4",
          "2-4",
          "2-4",
          "2-4",
          "2-4",
          "2-4",
          "3-1",
          "3-1",
          "3-1",
          "3-1",
          "3-1",
          "3-1",
          "3-1",
          "3-1",
          "3-1",
          "3-1",
          "3-2",
          "3-2",
          "3-2",
          "3-2",
          "3-2",
          "3-2",
          "3-2",
          "3-2",
          "3-2",
          "3-2",
          "3-3",
          "3-3",
          "3-3",
          "3-3",
          "3-3",
          "3-3",
          "3-3",
          "3-3",
          "3-3",
          "3-3",
          "4-1",
          "4-1",
          "4-1",
          "4-1",
          "4-1",
          "4-1",
          "4-1",
          "4-1",
          "4-1",
          "4-1",
          "4-2",
          "4-2",
          "4-2",
          "4-2",
          "4-2",
          "4-2",
          "4-2",
          "4-2",
          "4-2",
          "4-2",
          "4-3",
          "4-3",
          "4-3",
          "4-3",
          "4-3",
          "4-3",
          "4-3",
          "4-3",
          "4-3",
          "4-3"
         ],
         "xaxis": "x4",
         "y": [
          0,
          0,
          0,
          0,
          0,
          0,
          0,
          0,
          0,
          0,
          1.7059997964461893,
          0.8348920267835291,
          0.0748148527478953,
          0.799806628082167,
          0.0005034919685398,
          5.008327256268408,
          2.547632576251213,
          1.749562478031952,
          1.8549957917518345,
          0.8727629056920705,
          0.7325197135013228,
          0.8640214667937851,
          1.6044902138426798,
          0.1162321750082018,
          1.6737499238472342,
          -4.865837205816215,
          -0.0023383465449944,
          0.0191053235176763,
          2.448009955730157,
          2.633904981505508,
          0.0792879312441874,
          0.1130934952999318,
          -0.7210583772852996,
          0.7060354725048512,
          1.6505544765675897,
          3.377466610733748,
          2.534623588571528,
          0.0108414906946352,
          0.7963853089417716,
          3.3461838692750545,
          1.575039821288926,
          1.532746048535083,
          1.6279201224841389,
          0.7816971978060305,
          2.5683798527556867,
          0.8456073675163545,
          0.7993491375378303,
          0.8329223739696578,
          2.588822189403017,
          0.9137563387559222,
          0.7934833535631514,
          0.7239288080689077,
          0.1452331669767881,
          0.0808214006561502,
          0.8565002713866843,
          0.7719052039401708,
          0.0007869604586874,
          1.6776359785444672,
          1.6453247703946294,
          -0.0231462379312485,
          0.0106922119921248,
          0.7616217902771671,
          2.1844525387015645,
          1.7412172708792362,
          -0.0529358379970146,
          0.0158454029732357,
          1.713910163405297,
          -0.7951681008088407,
          1.667034851410221,
          1.7474422518652055,
          0.0699449591157197,
          0.9048889573987308,
          0.0431109372633686,
          0.758919129581348,
          0.8409948123430988,
          0.725826668128593,
          0.698882935781242,
          4.198091411550298,
          -0.0637737080830369,
          0.7994562787145387,
          1.5490309163356697,
          -0.778875687216829,
          0.2325965840017652,
          1.8721024132090536,
          0.0878296501012121,
          0.8742135049525812,
          0.7355499348744354,
          1.699296189027133,
          -0.7449814741944838,
          0.7477723372326661,
          -0.0443114605306993,
          0.669245110172545,
          -0.1046548959635851,
          0.581718286044608,
          0.774550810014718,
          0.8456399495874845,
          0.8492988158910642,
          1.5871958182287038,
          0.8580051559883062,
          0.8302387112863796,
          2.5477174092973343,
          -0.7934108101888437,
          0.7808413070013787,
          1.0125639170442735,
          0.8093307331490829,
          1.6074737826886176,
          0.7941522758321273,
          -0.7617668424578006,
          0.7464768583143488,
          0.8039828624069933,
          4.015307102695664,
          5.85431400791574,
          4.899680226551828,
          4.306750367412371,
          4.153373579380926,
          3.3688184934523635,
          5.920407492949642,
          3.5028071897015955,
          4.248432460279017,
          5.862045169625718,
          -0.625278332568624,
          -0.0441678667727263,
          0.0860686373255426,
          1.5037005443298224,
          2.339723953208206,
          -0.0838064870847254,
          0.8245585062270466,
          1.5628095652087337,
          0.8512167285582573,
          -1.4485504084134404,
          6.083039775729215,
          6.1833869884301285,
          4.693456782223215,
          7.868968796412701,
          3.926672780481488,
          3.87507346209488,
          4.709758857141844,
          3.0784140466892707,
          3.0013622975624044,
          7.171260754870046
         ],
         "yaxis": "y4"
        },
        {
         "decreasing": {
          "marker": {
           "color": "red"
          }
         },
         "increasing": {
          "marker": {
           "color": "green"
          }
         },
         "name": "SeasonTotal",
         "orientation": "v",
         "text": "SeasonTotal",
         "type": "waterfall",
         "x": [
          "1-1",
          "1-1",
          "1-1",
          "1-1",
          "1-1",
          "1-1",
          "1-1",
          "1-1",
          "1-1",
          "1-1",
          "1-2",
          "1-2",
          "1-2",
          "1-2",
          "1-2",
          "1-2",
          "1-2",
          "1-2",
          "1-2",
          "1-2",
          "1-3",
          "1-3",
          "1-3",
          "1-3",
          "1-3",
          "1-3",
          "1-3",
          "1-3",
          "1-3",
          "1-3",
          "1-4",
          "1-4",
          "1-4",
          "1-4",
          "1-4",
          "1-4",
          "1-4",
          "1-4",
          "1-4",
          "1-4",
          "2-1",
          "2-1",
          "2-1",
          "2-1",
          "2-1",
          "2-1",
          "2-1",
          "2-1",
          "2-1",
          "2-1",
          "2-2",
          "2-2",
          "2-2",
          "2-2",
          "2-2",
          "2-2",
          "2-2",
          "2-2",
          "2-2",
          "2-2",
          "2-3",
          "2-3",
          "2-3",
          "2-3",
          "2-3",
          "2-3",
          "2-3",
          "2-3",
          "2-3",
          "2-3",
          "2-4",
          "2-4",
          "2-4",
          "2-4",
          "2-4",
          "2-4",
          "2-4",
          "2-4",
          "2-4",
          "2-4",
          "3-1",
          "3-1",
          "3-1",
          "3-1",
          "3-1",
          "3-1",
          "3-1",
          "3-1",
          "3-1",
          "3-1",
          "3-2",
          "3-2",
          "3-2",
          "3-2",
          "3-2",
          "3-2",
          "3-2",
          "3-2",
          "3-2",
          "3-2",
          "3-3",
          "3-3",
          "3-3",
          "3-3",
          "3-3",
          "3-3",
          "3-3",
          "3-3",
          "3-3",
          "3-3",
          "4-1",
          "4-1",
          "4-1",
          "4-1",
          "4-1",
          "4-1",
          "4-1",
          "4-1",
          "4-1",
          "4-1",
          "4-2",
          "4-2",
          "4-2",
          "4-2",
          "4-2",
          "4-2",
          "4-2",
          "4-2",
          "4-2",
          "4-2",
          "4-3",
          "4-3",
          "4-3",
          "4-3",
          "4-3",
          "4-3",
          "4-3",
          "4-3",
          "4-3",
          "4-3"
         ],
         "xaxis": "x6",
         "y": [
          0,
          0,
          0,
          0,
          0,
          0,
          0,
          0,
          0,
          0,
          1.7059997964461893,
          0.8348920267835291,
          0.0748148527478953,
          0.799806628082167,
          0.0005034919685398,
          5.008327256268408,
          2.547632576251213,
          1.749562478031952,
          1.8549957917518345,
          0.8727629056920705,
          0.7325197135013228,
          0.8640214667937851,
          1.6044902138426798,
          0.1162321750082018,
          1.6737499238472342,
          -4.865837205816215,
          -0.0023383465449944,
          0.0191053235176763,
          2.448009955730157,
          2.633904981505508,
          0.0792879312441874,
          0.1130934952999318,
          -0.7210583772852996,
          0.7060354725048512,
          1.6505544765675897,
          3.377466610733748,
          2.534623588571528,
          0.0108414906946352,
          0.7963853089417716,
          3.3461838692750545,
          1.575039821288926,
          1.532746048535083,
          1.6279201224841389,
          0.7816971978060305,
          2.5683798527556867,
          0.8456073675163545,
          0.7993491375378303,
          0.8329223739696578,
          2.588822189403017,
          0.9137563387559222,
          0.7934833535631514,
          0.7239288080689077,
          0.1452331669767881,
          0.0808214006561502,
          0.8565002713866843,
          0.7719052039401708,
          0.0007869604586874,
          1.6776359785444672,
          1.6453247703946294,
          -0.0231462379312485,
          0.0106922119921248,
          0.7616217902771671,
          2.1844525387015645,
          1.7412172708792362,
          -0.0529358379970146,
          0.0158454029732357,
          1.713910163405297,
          -0.7951681008088407,
          1.667034851410221,
          1.7474422518652055,
          0.0699449591157197,
          0.9048889573987308,
          0.0431109372633686,
          0.758919129581348,
          0.8409948123430988,
          0.725826668128593,
          0.698882935781242,
          4.198091411550298,
          -0.0637737080830369,
          0.7994562787145387,
          1.5490309163356697,
          -0.778875687216829,
          0.2325965840017652,
          1.8721024132090536,
          0.0878296501012121,
          0.8742135049525812,
          0.7355499348744354,
          1.699296189027133,
          -0.7449814741944838,
          0.7477723372326661,
          -0.0443114605306993,
          0.669245110172545,
          -0.1046548959635851,
          0.581718286044608,
          0.774550810014718,
          0.8456399495874845,
          0.8492988158910642,
          1.5871958182287038,
          0.8580051559883062,
          0.8302387112863796,
          2.5477174092973343,
          -0.7934108101888437,
          0.7808413070013787,
          1.0125639170442735,
          0.8093307331490829,
          1.6074737826886176,
          0.7941522758321273,
          -0.7617668424578006,
          0.7464768583143488,
          0.8039828624069933,
          4.015307102695664,
          5.85431400791574,
          4.899680226551828,
          4.306750367412371,
          4.153373579380926,
          3.3688184934523635,
          5.920407492949642,
          3.5028071897015955,
          4.248432460279017,
          5.862045169625718,
          -0.625278332568624,
          -0.0441678667727263,
          0.0860686373255426,
          1.5037005443298224,
          2.339723953208206,
          -0.0838064870847254,
          0.8245585062270466,
          1.5628095652087337,
          0.8512167285582573,
          -1.4485504084134404,
          6.083039775729215,
          6.1833869884301285,
          4.693456782223215,
          7.868968796412701,
          3.926672780481488,
          3.87507346209488,
          4.709758857141844,
          3.0784140466892707,
          3.0013622975624044,
          7.171260754870046
         ],
         "yaxis": "y6"
        },
        {
         "decreasing": {
          "marker": {
           "color": "red"
          }
         },
         "increasing": {
          "marker": {
           "color": "green"
          }
         },
         "name": "Improvement",
         "orientation": "v",
         "text": "Improvement",
         "type": "waterfall",
         "x": [
          "1-1",
          "1-1",
          "1-1",
          "1-1",
          "1-1",
          "1-1",
          "1-1",
          "1-1",
          "1-1",
          "1-1",
          "1-2",
          "1-2",
          "1-2",
          "1-2",
          "1-2",
          "1-2",
          "1-2",
          "1-2",
          "1-2",
          "1-2",
          "1-3",
          "1-3",
          "1-3",
          "1-3",
          "1-3",
          "1-3",
          "1-3",
          "1-3",
          "1-3",
          "1-3",
          "1-4",
          "1-4",
          "1-4",
          "1-4",
          "1-4",
          "1-4",
          "1-4",
          "1-4",
          "1-4",
          "1-4",
          "2-1",
          "2-1",
          "2-1",
          "2-1",
          "2-1",
          "2-1",
          "2-1",
          "2-1",
          "2-1",
          "2-1",
          "2-2",
          "2-2",
          "2-2",
          "2-2",
          "2-2",
          "2-2",
          "2-2",
          "2-2",
          "2-2",
          "2-2",
          "2-3",
          "2-3",
          "2-3",
          "2-3",
          "2-3",
          "2-3",
          "2-3",
          "2-3",
          "2-3",
          "2-3",
          "2-4",
          "2-4",
          "2-4",
          "2-4",
          "2-4",
          "2-4",
          "2-4",
          "2-4",
          "2-4",
          "2-4",
          "3-1",
          "3-1",
          "3-1",
          "3-1",
          "3-1",
          "3-1",
          "3-1",
          "3-1",
          "3-1",
          "3-1",
          "3-2",
          "3-2",
          "3-2",
          "3-2",
          "3-2",
          "3-2",
          "3-2",
          "3-2",
          "3-2",
          "3-2",
          "3-3",
          "3-3",
          "3-3",
          "3-3",
          "3-3",
          "3-3",
          "3-3",
          "3-3",
          "3-3",
          "3-3",
          "4-1",
          "4-1",
          "4-1",
          "4-1",
          "4-1",
          "4-1",
          "4-1",
          "4-1",
          "4-1",
          "4-1",
          "4-2",
          "4-2",
          "4-2",
          "4-2",
          "4-2",
          "4-2",
          "4-2",
          "4-2",
          "4-2",
          "4-2",
          "4-3",
          "4-3",
          "4-3",
          "4-3",
          "4-3",
          "4-3",
          "4-3",
          "4-3",
          "4-3",
          "4-3"
         ],
         "xaxis": "x8",
         "y": [
          0,
          0,
          0,
          0,
          0,
          0,
          0,
          0,
          0,
          0,
          1.7059997964461893,
          0.8348920267835291,
          0.0748148527478953,
          0.799806628082167,
          0.0005034919685398,
          5.008327256268408,
          2.547632576251213,
          1.749562478031952,
          1.8549957917518345,
          0.8727629056920705,
          0.7325197135013228,
          0.8640214667937851,
          1.6044902138426798,
          0.1162321750082018,
          1.6737499238472342,
          -4.865837205816215,
          -0.0023383465449944,
          0.0191053235176763,
          2.448009955730157,
          2.633904981505508,
          0.0792879312441874,
          0.1130934952999318,
          -0.7210583772852996,
          0.7060354725048512,
          1.6505544765675897,
          3.377466610733748,
          2.534623588571528,
          0.0108414906946352,
          0.7963853089417716,
          3.3461838692750545,
          1.575039821288926,
          1.532746048535083,
          1.6279201224841389,
          0.7816971978060305,
          2.5683798527556867,
          0.8456073675163545,
          0.7993491375378303,
          0.8329223739696578,
          2.588822189403017,
          0.9137563387559222,
          0.7934833535631514,
          0.7239288080689077,
          0.1452331669767881,
          0.0808214006561502,
          0.8565002713866843,
          0.7719052039401708,
          0.0007869604586874,
          1.6776359785444672,
          1.6453247703946294,
          -0.0231462379312485,
          0.0106922119921248,
          0.7616217902771671,
          2.1844525387015645,
          1.7412172708792362,
          -0.0529358379970146,
          0.0158454029732357,
          1.713910163405297,
          -0.7951681008088407,
          1.667034851410221,
          1.7474422518652055,
          0.0699449591157197,
          0.9048889573987308,
          0.0431109372633686,
          0.758919129581348,
          0.8409948123430988,
          0.725826668128593,
          0.698882935781242,
          4.198091411550298,
          -0.0637737080830369,
          0.7994562787145387,
          1.5490309163356697,
          -0.778875687216829,
          0.2325965840017652,
          1.8721024132090536,
          0.0878296501012121,
          0.8742135049525812,
          0.7355499348744354,
          1.699296189027133,
          -0.7449814741944838,
          0.7477723372326661,
          -0.0443114605306993,
          0.669245110172545,
          -0.1046548959635851,
          0.581718286044608,
          0.774550810014718,
          0.8456399495874845,
          0.8492988158910642,
          1.5871958182287038,
          0.8580051559883062,
          0.8302387112863796,
          2.5477174092973343,
          -0.7934108101888437,
          0.7808413070013787,
          1.0125639170442735,
          0.8093307331490829,
          1.6074737826886176,
          0.7941522758321273,
          -0.7617668424578006,
          0.7464768583143488,
          0.8039828624069933,
          4.015307102695664,
          5.85431400791574,
          4.899680226551828,
          4.306750367412371,
          4.153373579380926,
          3.3688184934523635,
          5.920407492949642,
          3.5028071897015955,
          4.248432460279017,
          5.862045169625718,
          -0.625278332568624,
          -0.0441678667727263,
          0.0860686373255426,
          1.5037005443298224,
          2.339723953208206,
          -0.0838064870847254,
          0.8245585062270466,
          1.5628095652087337,
          0.8512167285582573,
          -1.4485504084134404,
          6.083039775729215,
          6.1833869884301285,
          4.693456782223215,
          7.868968796412701,
          3.926672780481488,
          3.87507346209488,
          4.709758857141844,
          3.0784140466892707,
          3.0013622975624044,
          7.171260754870046
         ],
         "yaxis": "y8"
        },
        {
         "decreasing": {
          "marker": {
           "color": "red"
          }
         },
         "increasing": {
          "marker": {
           "color": "green"
          }
         },
         "name": "GrowthRate",
         "orientation": "v",
         "text": "GrowthRate",
         "type": "waterfall",
         "x": [
          "1-1",
          "1-1",
          "1-1",
          "1-1",
          "1-1",
          "1-1",
          "1-1",
          "1-1",
          "1-1",
          "1-1",
          "1-2",
          "1-2",
          "1-2",
          "1-2",
          "1-2",
          "1-2",
          "1-2",
          "1-2",
          "1-2",
          "1-2",
          "1-3",
          "1-3",
          "1-3",
          "1-3",
          "1-3",
          "1-3",
          "1-3",
          "1-3",
          "1-3",
          "1-3",
          "1-4",
          "1-4",
          "1-4",
          "1-4",
          "1-4",
          "1-4",
          "1-4",
          "1-4",
          "1-4",
          "1-4",
          "2-1",
          "2-1",
          "2-1",
          "2-1",
          "2-1",
          "2-1",
          "2-1",
          "2-1",
          "2-1",
          "2-1",
          "2-2",
          "2-2",
          "2-2",
          "2-2",
          "2-2",
          "2-2",
          "2-2",
          "2-2",
          "2-2",
          "2-2",
          "2-3",
          "2-3",
          "2-3",
          "2-3",
          "2-3",
          "2-3",
          "2-3",
          "2-3",
          "2-3",
          "2-3",
          "2-4",
          "2-4",
          "2-4",
          "2-4",
          "2-4",
          "2-4",
          "2-4",
          "2-4",
          "2-4",
          "2-4",
          "3-1",
          "3-1",
          "3-1",
          "3-1",
          "3-1",
          "3-1",
          "3-1",
          "3-1",
          "3-1",
          "3-1",
          "3-2",
          "3-2",
          "3-2",
          "3-2",
          "3-2",
          "3-2",
          "3-2",
          "3-2",
          "3-2",
          "3-2",
          "3-3",
          "3-3",
          "3-3",
          "3-3",
          "3-3",
          "3-3",
          "3-3",
          "3-3",
          "3-3",
          "3-3",
          "4-1",
          "4-1",
          "4-1",
          "4-1",
          "4-1",
          "4-1",
          "4-1",
          "4-1",
          "4-1",
          "4-1",
          "4-2",
          "4-2",
          "4-2",
          "4-2",
          "4-2",
          "4-2",
          "4-2",
          "4-2",
          "4-2",
          "4-2",
          "4-3",
          "4-3",
          "4-3",
          "4-3",
          "4-3",
          "4-3",
          "4-3",
          "4-3",
          "4-3",
          "4-3"
         ],
         "xaxis": "x10",
         "y": [
          0,
          0,
          0,
          0,
          0,
          0,
          0,
          0,
          0,
          0,
          1.7059997964461893,
          0.8348920267835291,
          0.0748148527478953,
          0.799806628082167,
          0.0005034919685398,
          5.008327256268408,
          2.547632576251213,
          1.749562478031952,
          1.8549957917518345,
          0.8727629056920705,
          0.7325197135013228,
          0.8640214667937851,
          1.6044902138426798,
          0.1162321750082018,
          1.6737499238472342,
          -4.865837205816215,
          -0.0023383465449944,
          0.0191053235176763,
          2.448009955730157,
          2.633904981505508,
          0.0792879312441874,
          0.1130934952999318,
          -0.7210583772852996,
          0.7060354725048512,
          1.6505544765675897,
          3.377466610733748,
          2.534623588571528,
          0.0108414906946352,
          0.7963853089417716,
          3.3461838692750545,
          1.575039821288926,
          1.532746048535083,
          1.6279201224841389,
          0.7816971978060305,
          2.5683798527556867,
          0.8456073675163545,
          0.7993491375378303,
          0.8329223739696578,
          2.588822189403017,
          0.9137563387559222,
          0.7934833535631514,
          0.7239288080689077,
          0.1452331669767881,
          0.0808214006561502,
          0.8565002713866843,
          0.7719052039401708,
          0.0007869604586874,
          1.6776359785444672,
          1.6453247703946294,
          -0.0231462379312485,
          0.0106922119921248,
          0.7616217902771671,
          2.1844525387015645,
          1.7412172708792362,
          -0.0529358379970146,
          0.0158454029732357,
          1.713910163405297,
          -0.7951681008088407,
          1.667034851410221,
          1.7474422518652055,
          0.0699449591157197,
          0.9048889573987308,
          0.0431109372633686,
          0.758919129581348,
          0.8409948123430988,
          0.725826668128593,
          0.698882935781242,
          4.198091411550298,
          -0.0637737080830369,
          0.7994562787145387,
          1.5490309163356697,
          -0.778875687216829,
          0.2325965840017652,
          1.8721024132090536,
          0.0878296501012121,
          0.8742135049525812,
          0.7355499348744354,
          1.699296189027133,
          -0.7449814741944838,
          0.7477723372326661,
          -0.0443114605306993,
          0.669245110172545,
          -0.1046548959635851,
          0.581718286044608,
          0.774550810014718,
          0.8456399495874845,
          0.8492988158910642,
          1.5871958182287038,
          0.8580051559883062,
          0.8302387112863796,
          2.5477174092973343,
          -0.7934108101888437,
          0.7808413070013787,
          1.0125639170442735,
          0.8093307331490829,
          1.6074737826886176,
          0.7941522758321273,
          -0.7617668424578006,
          0.7464768583143488,
          0.8039828624069933,
          4.015307102695664,
          5.85431400791574,
          4.899680226551828,
          4.306750367412371,
          4.153373579380926,
          3.3688184934523635,
          5.920407492949642,
          3.5028071897015955,
          4.248432460279017,
          5.862045169625718,
          -0.625278332568624,
          -0.0441678667727263,
          0.0860686373255426,
          1.5037005443298224,
          2.339723953208206,
          -0.0838064870847254,
          0.8245585062270466,
          1.5628095652087337,
          0.8512167285582573,
          -1.4485504084134404,
          6.083039775729215,
          6.1833869884301285,
          4.693456782223215,
          7.868968796412701,
          3.926672780481488,
          3.87507346209488,
          4.709758857141844,
          3.0784140466892707,
          3.0013622975624044,
          7.171260754870046
         ],
         "yaxis": "y10"
        }
       ],
       "layout": {
        "annotations": [
         {
          "font": {
           "size": 16
          },
          "showarrow": false,
          "text": "Spearmint",
          "x": 0.225,
          "xanchor": "center",
          "xref": "paper",
          "y": 1,
          "yanchor": "bottom",
          "yref": "paper"
         },
         {
          "font": {
           "size": 16
          },
          "showarrow": false,
          "text": "Vivid",
          "x": 0.775,
          "xanchor": "center",
          "xref": "paper",
          "y": 1,
          "yanchor": "bottom",
          "yref": "paper"
         },
         {
          "font": {
           "size": 16
          },
          "showarrow": false,
          "text": "Nobless",
          "x": 0.225,
          "xanchor": "center",
          "xref": "paper",
          "y": 0.78,
          "yanchor": "bottom",
          "yref": "paper"
         },
         {
          "font": {
           "size": 16
          },
          "showarrow": false,
          "text": "LAODA",
          "x": 0.775,
          "xanchor": "center",
          "xref": "paper",
          "y": 0.78,
          "yanchor": "bottom",
          "yref": "paper"
         },
         {
          "font": {
           "size": 16
          },
          "showarrow": false,
          "text": "미라클 (miracle)",
          "x": 0.225,
          "xanchor": "center",
          "xref": "paper",
          "y": 0.56,
          "yanchor": "bottom",
          "yref": "paper"
         },
         {
          "font": {
           "size": 16
          },
          "showarrow": false,
          "text": "님 (nim)",
          "x": 0.775,
          "xanchor": "center",
          "xref": "paper",
          "y": 0.56,
          "yanchor": "bottom",
          "yref": "paper"
         },
         {
          "font": {
           "size": 16
          },
          "showarrow": false,
          "text": "Crown",
          "x": 0.225,
          "xanchor": "center",
          "xref": "paper",
          "y": 0.33999999999999997,
          "yanchor": "bottom",
          "yref": "paper"
         },
         {
          "font": {
           "size": 16
          },
          "showarrow": false,
          "text": "열매 (yeol-mae)",
          "x": 0.775,
          "xanchor": "center",
          "xref": "paper",
          "y": 0.33999999999999997,
          "yanchor": "bottom",
          "yref": "paper"
         },
         {
          "font": {
           "size": 16
          },
          "showarrow": false,
          "text": "MolochTH",
          "x": 0.225,
          "xanchor": "center",
          "xref": "paper",
          "y": 0.12,
          "yanchor": "bottom",
          "yref": "paper"
         },
         {
          "font": {
           "size": 16
          },
          "showarrow": false,
          "text": "이지스 (aegis)",
          "x": 0.775,
          "xanchor": "center",
          "xref": "paper",
          "y": 0.12,
          "yanchor": "bottom",
          "yref": "paper"
         }
        ],
        "autosize": true,
        "grid": {
         "columns": 2,
         "pattern": "independent",
         "rows": 5
        },
        "template": {
         "data": {
          "bar": [
           {
            "error_x": {
             "color": "#2a3f5f"
            },
            "error_y": {
             "color": "#2a3f5f"
            },
            "marker": {
             "line": {
              "color": "#E5ECF6",
              "width": 0.5
             },
             "pattern": {
              "fillmode": "overlay",
              "size": 10,
              "solidity": 0.2
             }
            },
            "type": "bar"
           }
          ],
          "barpolar": [
           {
            "marker": {
             "line": {
              "color": "#E5ECF6",
              "width": 0.5
             },
             "pattern": {
              "fillmode": "overlay",
              "size": 10,
              "solidity": 0.2
             }
            },
            "type": "barpolar"
           }
          ],
          "carpet": [
           {
            "aaxis": {
             "endlinecolor": "#2a3f5f",
             "gridcolor": "white",
             "linecolor": "white",
             "minorgridcolor": "white",
             "startlinecolor": "#2a3f5f"
            },
            "baxis": {
             "endlinecolor": "#2a3f5f",
             "gridcolor": "white",
             "linecolor": "white",
             "minorgridcolor": "white",
             "startlinecolor": "#2a3f5f"
            },
            "type": "carpet"
           }
          ],
          "choropleth": [
           {
            "colorbar": {
             "outlinewidth": 0,
             "ticks": ""
            },
            "type": "choropleth"
           }
          ],
          "contour": [
           {
            "colorbar": {
             "outlinewidth": 0,
             "ticks": ""
            },
            "colorscale": [
             [
              0,
              "#0d0887"
             ],
             [
              0.1111111111111111,
              "#46039f"
             ],
             [
              0.2222222222222222,
              "#7201a8"
             ],
             [
              0.3333333333333333,
              "#9c179e"
             ],
             [
              0.4444444444444444,
              "#bd3786"
             ],
             [
              0.5555555555555556,
              "#d8576b"
             ],
             [
              0.6666666666666666,
              "#ed7953"
             ],
             [
              0.7777777777777778,
              "#fb9f3a"
             ],
             [
              0.8888888888888888,
              "#fdca26"
             ],
             [
              1,
              "#f0f921"
             ]
            ],
            "type": "contour"
           }
          ],
          "contourcarpet": [
           {
            "colorbar": {
             "outlinewidth": 0,
             "ticks": ""
            },
            "type": "contourcarpet"
           }
          ],
          "heatmap": [
           {
            "colorbar": {
             "outlinewidth": 0,
             "ticks": ""
            },
            "colorscale": [
             [
              0,
              "#0d0887"
             ],
             [
              0.1111111111111111,
              "#46039f"
             ],
             [
              0.2222222222222222,
              "#7201a8"
             ],
             [
              0.3333333333333333,
              "#9c179e"
             ],
             [
              0.4444444444444444,
              "#bd3786"
             ],
             [
              0.5555555555555556,
              "#d8576b"
             ],
             [
              0.6666666666666666,
              "#ed7953"
             ],
             [
              0.7777777777777778,
              "#fb9f3a"
             ],
             [
              0.8888888888888888,
              "#fdca26"
             ],
             [
              1,
              "#f0f921"
             ]
            ],
            "type": "heatmap"
           }
          ],
          "heatmapgl": [
           {
            "colorbar": {
             "outlinewidth": 0,
             "ticks": ""
            },
            "colorscale": [
             [
              0,
              "#0d0887"
             ],
             [
              0.1111111111111111,
              "#46039f"
             ],
             [
              0.2222222222222222,
              "#7201a8"
             ],
             [
              0.3333333333333333,
              "#9c179e"
             ],
             [
              0.4444444444444444,
              "#bd3786"
             ],
             [
              0.5555555555555556,
              "#d8576b"
             ],
             [
              0.6666666666666666,
              "#ed7953"
             ],
             [
              0.7777777777777778,
              "#fb9f3a"
             ],
             [
              0.8888888888888888,
              "#fdca26"
             ],
             [
              1,
              "#f0f921"
             ]
            ],
            "type": "heatmapgl"
           }
          ],
          "histogram": [
           {
            "marker": {
             "pattern": {
              "fillmode": "overlay",
              "size": 10,
              "solidity": 0.2
             }
            },
            "type": "histogram"
           }
          ],
          "histogram2d": [
           {
            "colorbar": {
             "outlinewidth": 0,
             "ticks": ""
            },
            "colorscale": [
             [
              0,
              "#0d0887"
             ],
             [
              0.1111111111111111,
              "#46039f"
             ],
             [
              0.2222222222222222,
              "#7201a8"
             ],
             [
              0.3333333333333333,
              "#9c179e"
             ],
             [
              0.4444444444444444,
              "#bd3786"
             ],
             [
              0.5555555555555556,
              "#d8576b"
             ],
             [
              0.6666666666666666,
              "#ed7953"
             ],
             [
              0.7777777777777778,
              "#fb9f3a"
             ],
             [
              0.8888888888888888,
              "#fdca26"
             ],
             [
              1,
              "#f0f921"
             ]
            ],
            "type": "histogram2d"
           }
          ],
          "histogram2dcontour": [
           {
            "colorbar": {
             "outlinewidth": 0,
             "ticks": ""
            },
            "colorscale": [
             [
              0,
              "#0d0887"
             ],
             [
              0.1111111111111111,
              "#46039f"
             ],
             [
              0.2222222222222222,
              "#7201a8"
             ],
             [
              0.3333333333333333,
              "#9c179e"
             ],
             [
              0.4444444444444444,
              "#bd3786"
             ],
             [
              0.5555555555555556,
              "#d8576b"
             ],
             [
              0.6666666666666666,
              "#ed7953"
             ],
             [
              0.7777777777777778,
              "#fb9f3a"
             ],
             [
              0.8888888888888888,
              "#fdca26"
             ],
             [
              1,
              "#f0f921"
             ]
            ],
            "type": "histogram2dcontour"
           }
          ],
          "mesh3d": [
           {
            "colorbar": {
             "outlinewidth": 0,
             "ticks": ""
            },
            "type": "mesh3d"
           }
          ],
          "parcoords": [
           {
            "line": {
             "colorbar": {
              "outlinewidth": 0,
              "ticks": ""
             }
            },
            "type": "parcoords"
           }
          ],
          "pie": [
           {
            "automargin": true,
            "type": "pie"
           }
          ],
          "scatter": [
           {
            "fillpattern": {
             "fillmode": "overlay",
             "size": 10,
             "solidity": 0.2
            },
            "type": "scatter"
           }
          ],
          "scatter3d": [
           {
            "line": {
             "colorbar": {
              "outlinewidth": 0,
              "ticks": ""
             }
            },
            "marker": {
             "colorbar": {
              "outlinewidth": 0,
              "ticks": ""
             }
            },
            "type": "scatter3d"
           }
          ],
          "scattercarpet": [
           {
            "marker": {
             "colorbar": {
              "outlinewidth": 0,
              "ticks": ""
             }
            },
            "type": "scattercarpet"
           }
          ],
          "scattergeo": [
           {
            "marker": {
             "colorbar": {
              "outlinewidth": 0,
              "ticks": ""
             }
            },
            "type": "scattergeo"
           }
          ],
          "scattergl": [
           {
            "marker": {
             "colorbar": {
              "outlinewidth": 0,
              "ticks": ""
             }
            },
            "type": "scattergl"
           }
          ],
          "scattermapbox": [
           {
            "marker": {
             "colorbar": {
              "outlinewidth": 0,
              "ticks": ""
             }
            },
            "type": "scattermapbox"
           }
          ],
          "scatterpolar": [
           {
            "marker": {
             "colorbar": {
              "outlinewidth": 0,
              "ticks": ""
             }
            },
            "type": "scatterpolar"
           }
          ],
          "scatterpolargl": [
           {
            "marker": {
             "colorbar": {
              "outlinewidth": 0,
              "ticks": ""
             }
            },
            "type": "scatterpolargl"
           }
          ],
          "scatterternary": [
           {
            "marker": {
             "colorbar": {
              "outlinewidth": 0,
              "ticks": ""
             }
            },
            "type": "scatterternary"
           }
          ],
          "surface": [
           {
            "colorbar": {
             "outlinewidth": 0,
             "ticks": ""
            },
            "colorscale": [
             [
              0,
              "#0d0887"
             ],
             [
              0.1111111111111111,
              "#46039f"
             ],
             [
              0.2222222222222222,
              "#7201a8"
             ],
             [
              0.3333333333333333,
              "#9c179e"
             ],
             [
              0.4444444444444444,
              "#bd3786"
             ],
             [
              0.5555555555555556,
              "#d8576b"
             ],
             [
              0.6666666666666666,
              "#ed7953"
             ],
             [
              0.7777777777777778,
              "#fb9f3a"
             ],
             [
              0.8888888888888888,
              "#fdca26"
             ],
             [
              1,
              "#f0f921"
             ]
            ],
            "type": "surface"
           }
          ],
          "table": [
           {
            "cells": {
             "fill": {
              "color": "#EBF0F8"
             },
             "line": {
              "color": "white"
             }
            },
            "header": {
             "fill": {
              "color": "#C8D4E3"
             },
             "line": {
              "color": "white"
             }
            },
            "type": "table"
           }
          ]
         },
         "layout": {
          "annotationdefaults": {
           "arrowcolor": "#2a3f5f",
           "arrowhead": 0,
           "arrowwidth": 1
          },
          "autotypenumbers": "strict",
          "coloraxis": {
           "colorbar": {
            "outlinewidth": 0,
            "ticks": ""
           }
          },
          "colorscale": {
           "diverging": [
            [
             0,
             "#8e0152"
            ],
            [
             0.1,
             "#c51b7d"
            ],
            [
             0.2,
             "#de77ae"
            ],
            [
             0.3,
             "#f1b6da"
            ],
            [
             0.4,
             "#fde0ef"
            ],
            [
             0.5,
             "#f7f7f7"
            ],
            [
             0.6,
             "#e6f5d0"
            ],
            [
             0.7,
             "#b8e186"
            ],
            [
             0.8,
             "#7fbc41"
            ],
            [
             0.9,
             "#4d9221"
            ],
            [
             1,
             "#276419"
            ]
           ],
           "sequential": [
            [
             0,
             "#0d0887"
            ],
            [
             0.1111111111111111,
             "#46039f"
            ],
            [
             0.2222222222222222,
             "#7201a8"
            ],
            [
             0.3333333333333333,
             "#9c179e"
            ],
            [
             0.4444444444444444,
             "#bd3786"
            ],
            [
             0.5555555555555556,
             "#d8576b"
            ],
            [
             0.6666666666666666,
             "#ed7953"
            ],
            [
             0.7777777777777778,
             "#fb9f3a"
            ],
            [
             0.8888888888888888,
             "#fdca26"
            ],
            [
             1,
             "#f0f921"
            ]
           ],
           "sequentialminus": [
            [
             0,
             "#0d0887"
            ],
            [
             0.1111111111111111,
             "#46039f"
            ],
            [
             0.2222222222222222,
             "#7201a8"
            ],
            [
             0.3333333333333333,
             "#9c179e"
            ],
            [
             0.4444444444444444,
             "#bd3786"
            ],
            [
             0.5555555555555556,
             "#d8576b"
            ],
            [
             0.6666666666666666,
             "#ed7953"
            ],
            [
             0.7777777777777778,
             "#fb9f3a"
            ],
            [
             0.8888888888888888,
             "#fdca26"
            ],
            [
             1,
             "#f0f921"
            ]
           ]
          },
          "colorway": [
           "#636efa",
           "#EF553B",
           "#00cc96",
           "#ab63fa",
           "#FFA15A",
           "#19d3f3",
           "#FF6692",
           "#B6E880",
           "#FF97FF",
           "#FECB52"
          ],
          "font": {
           "color": "#2a3f5f"
          },
          "geo": {
           "bgcolor": "white",
           "lakecolor": "white",
           "landcolor": "#E5ECF6",
           "showlakes": true,
           "showland": true,
           "subunitcolor": "white"
          },
          "hoverlabel": {
           "align": "left"
          },
          "hovermode": "closest",
          "mapbox": {
           "style": "light"
          },
          "paper_bgcolor": "white",
          "plot_bgcolor": "#E5ECF6",
          "polar": {
           "angularaxis": {
            "gridcolor": "white",
            "linecolor": "white",
            "ticks": ""
           },
           "bgcolor": "#E5ECF6",
           "radialaxis": {
            "gridcolor": "white",
            "linecolor": "white",
            "ticks": ""
           }
          },
          "scene": {
           "xaxis": {
            "backgroundcolor": "#E5ECF6",
            "gridcolor": "white",
            "gridwidth": 2,
            "linecolor": "white",
            "showbackground": true,
            "ticks": "",
            "zerolinecolor": "white"
           },
           "yaxis": {
            "backgroundcolor": "#E5ECF6",
            "gridcolor": "white",
            "gridwidth": 2,
            "linecolor": "white",
            "showbackground": true,
            "ticks": "",
            "zerolinecolor": "white"
           },
           "zaxis": {
            "backgroundcolor": "#E5ECF6",
            "gridcolor": "white",
            "gridwidth": 2,
            "linecolor": "white",
            "showbackground": true,
            "ticks": "",
            "zerolinecolor": "white"
           }
          },
          "shapedefaults": {
           "line": {
            "color": "#2a3f5f"
           }
          },
          "ternary": {
           "aaxis": {
            "gridcolor": "white",
            "linecolor": "white",
            "ticks": ""
           },
           "baxis": {
            "gridcolor": "white",
            "linecolor": "white",
            "ticks": ""
           },
           "bgcolor": "#E5ECF6",
           "caxis": {
            "gridcolor": "white",
            "linecolor": "white",
            "ticks": ""
           }
          },
          "title": {
           "x": 0.05
          },
          "xaxis": {
           "automargin": true,
           "gridcolor": "white",
           "linecolor": "white",
           "ticks": "",
           "title": {
            "standoff": 15
           },
           "zerolinecolor": "white",
           "zerolinewidth": 2
          },
          "yaxis": {
           "automargin": true,
           "gridcolor": "white",
           "linecolor": "white",
           "ticks": "",
           "title": {
            "standoff": 15
           },
           "zerolinecolor": "white",
           "zerolinewidth": 2
          }
         }
        },
        "title": {
         "text": "Waterfall Chart for Top 10 Guilds (Formatted as Percentage)"
        },
        "xaxis": {
         "anchor": "y",
         "domain": [
          0,
          0.45
         ],
         "title": {
          "text": "Round"
         }
        },
        "xaxis10": {
         "anchor": "y10",
         "domain": [
          0.55,
          1
         ]
        },
        "xaxis2": {
         "anchor": "y2",
         "domain": [
          0.55,
          1
         ]
        },
        "xaxis3": {
         "anchor": "y3",
         "domain": [
          0,
          0.45
         ]
        },
        "xaxis4": {
         "anchor": "y4",
         "domain": [
          0.55,
          1
         ]
        },
        "xaxis5": {
         "anchor": "y5",
         "domain": [
          0,
          0.45
         ]
        },
        "xaxis6": {
         "anchor": "y6",
         "domain": [
          0.55,
          1
         ]
        },
        "xaxis7": {
         "anchor": "y7",
         "domain": [
          0,
          0.45
         ]
        },
        "xaxis8": {
         "anchor": "y8",
         "domain": [
          0.55,
          1
         ]
        },
        "xaxis9": {
         "anchor": "y9",
         "domain": [
          0,
          0.45
         ]
        },
        "yaxis": {
         "anchor": "x",
         "domain": [
          0.88,
          1
         ],
         "title": {
          "text": "Growth Rate (%)"
         }
        },
        "yaxis10": {
         "anchor": "x10",
         "domain": [
          0,
          0.12
         ]
        },
        "yaxis2": {
         "anchor": "x2",
         "domain": [
          0.88,
          1
         ]
        },
        "yaxis3": {
         "anchor": "x3",
         "domain": [
          0.66,
          0.78
         ]
        },
        "yaxis4": {
         "anchor": "x4",
         "domain": [
          0.66,
          0.78
         ]
        },
        "yaxis5": {
         "anchor": "x5",
         "domain": [
          0.44,
          0.56
         ]
        },
        "yaxis6": {
         "anchor": "x6",
         "domain": [
          0.44,
          0.56
         ]
        },
        "yaxis7": {
         "anchor": "x7",
         "domain": [
          0.22,
          0.33999999999999997
         ]
        },
        "yaxis8": {
         "anchor": "x8",
         "domain": [
          0.22,
          0.33999999999999997
         ]
        },
        "yaxis9": {
         "anchor": "x9",
         "domain": [
          0,
          0.12
         ]
        }
       }
      }
     },
     "metadata": {},
     "output_type": "display_data"
    }
   ],
   "source": [
    "data_top10 = data[data.GuildName.isin(top10_recent)]\n",
    "fig = make_subplots(rows=5, cols=2, subplot_titles=data_top10.GuildNameExtra.unique())\n",
    "\n",
    "for i, guild in enumerate(data_top10):\n",
    "    dataset = data_top10\n",
    "    growth_rates_percentage = dataset[\"GrowthRate\"]\n",
    "    fig.add_trace(\n",
    "        go.Waterfall(\n",
    "            orientation=\"v\",\n",
    "            x=dataset[\"Round\"],\n",
    "            y=growth_rates_percentage,\n",
    "            name=guild,\n",
    "            text=f\"{guild}\",  # ({growth_rates_percentage.astype(str)}%)\",\n",
    "            decreasing=dict(marker=dict(color=\"red\")),\n",
    "            increasing=dict(marker=dict(color=\"green\")),\n",
    "        ),\n",
    "        col=(i // 5) + 1,  # Calculate the row number\n",
    "        row=(i % 5) + 1,  # Calculate the column number\n",
    "    )\n",
    "\n",
    "fig.update_layout(\n",
    "    title=\"Waterfall Chart for Top 10 Guilds (Formatted as Percentage)\",\n",
    "    xaxis_title=\"Round\",\n",
    "    yaxis_title=\"Growth Rate (%)\",\n",
    "    autosize=True,\n",
    "    grid=dict(rows=5, columns=2, pattern=\"independent\"),\n",
    ")\n",
    "\n",
    "fig.show()"
   ]
  }
 ],
 "metadata": {
  "kernelspec": {
   "display_name": ".venv",
   "language": "python",
   "name": "python3"
  },
  "language_info": {
   "codemirror_mode": {
    "name": "ipython",
    "version": 3
   },
   "file_extension": ".py",
   "mimetype": "text/x-python",
   "name": "python",
   "nbconvert_exporter": "python",
   "pygments_lexer": "ipython3",
   "version": "3.11.8"
  }
 },
 "nbformat": 4,
 "nbformat_minor": 2
}
